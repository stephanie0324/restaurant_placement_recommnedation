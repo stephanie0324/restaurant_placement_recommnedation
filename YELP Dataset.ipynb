{
 "cells": [
  {
   "cell_type": "markdown",
   "metadata": {},
   "source": [
    "# 論文資料及整理\n",
    "* YELP\n",
    "    * EDA\n",
    "    * 50 review above \n",
    "    * join business, check-in and tips"
   ]
  },
  {
   "cell_type": "markdown",
   "metadata": {},
   "source": [
    "# Import"
   ]
  },
  {
   "cell_type": "code",
   "execution_count": 1,
   "metadata": {
    "ExecuteTime": {
     "end_time": "2023-02-07T03:31:08.982847Z",
     "start_time": "2023-02-07T03:31:08.858671Z"
    }
   },
   "outputs": [],
   "source": [
    "import pandas as pd\n",
    "import json\n",
    "import numpy as np\n",
    "from collections import Counter\n",
    "import numpy as np\n",
    "import matplotlib.pyplot as plt"
   ]
  },
  {
   "cell_type": "code",
   "execution_count": 2,
   "metadata": {
    "ExecuteTime": {
     "end_time": "2023-02-07T03:31:09.115753Z",
     "start_time": "2023-02-07T03:31:09.113612Z"
    }
   },
   "outputs": [],
   "source": [
    "business_path = '/home/adam/Steph_C/my_thesis/Data/yelp/yelp_academic_dataset_business.json'\n",
    "checkin_path = '/home/adam/Steph_C/my_thesis/Data/yelp/yelp_academic_dataset_checkin.json'\n",
    "tip_path = '/home/adam/Steph_C/my_thesis/Data/yelp/yelp_academic_dataset_tip.json'\n",
    "review_path = '/home/adam/Steph_C/my_thesis/Data/yelp/yelp_academic_dataset_review.json'\n",
    "\n",
    "# pickle file\n",
    "business_pk = '/home/adam/Steph_C/my_thesis/Data/yelp/business.pkl'\n",
    "checkin_pk = '/home/adam/Steph_C/my_thesis/Data/yelp/checkin.pkl'\n",
    "tip_pk = '/home/adam/Steph_C/my_thesis/Data/yelp/tip.pkl'\n",
    "review_pk = '/home/adam/Steph_C/my_thesis/Data/yelp/review.pkl'\n",
    "final_pk = '/home/adam/Steph_C/my_thesis/Data/yelp/final.pkl'"
   ]
  },
  {
   "cell_type": "markdown",
   "metadata": {},
   "source": [
    "# Load Data"
   ]
  },
  {
   "cell_type": "code",
   "execution_count": 3,
   "metadata": {},
   "outputs": [],
   "source": [
    "# # unhash this part if necessary\n",
    "\n",
    "# # load review data\n",
    "# r_dict = []\n",
    "\n",
    "# r_dtypes = {\"stars\": np.float16, \n",
    "#             \"useful\": np.int32, \n",
    "#             \"funny\": np.int32,\n",
    "#             \"cool\": np.int32,\n",
    "#            }\n",
    "# with open(review_path, \"r\") as f:\n",
    "#     reader = pd.read_json(f, orient=\"records\", lines=True, \n",
    "#                           dtype=r_dtypes, chunksize=1000)\n",
    "#     for chunk in reader:\n",
    "#.        # get 5 years data from '2018-2022'\n",
    "#         reduced_chunk = chunk.drop(columns=['review_id', 'user_id'])\\\n",
    "#                              .query(\"date >= '2018-1-01'\").query(\"date <= '2022-12-31'\")\n",
    "#         r_dict.append(reduced_chunk)\n",
    "    \n",
    "# r_dict = pd.concat(r_dict, ignore_index=True)\n",
    "\n",
    "# # load business data\n",
    "# b_dict =[]\n",
    "\n",
    "# with open(business_path, \"r\") as f:\n",
    "#     reader = pd.read_json(f, orient=\"records\", lines=True, chunksize=1000)\n",
    "        \n",
    "#     for chunk in reader:\n",
    "#         reduced_chunk = chunk.drop(\n",
    "#             columns=['latitude','longitude'])\n",
    "#         b_dict.append(reduced_chunk)\n",
    "    \n",
    "# b_dict = pd.concat(b_dict, ignore_index=True)\n",
    "\n",
    "# # load check-in data\n",
    "# c_dict =[]\n",
    "\n",
    "# with open(checkin_path, \"r\") as f:\n",
    "#     reader = pd.read_json(f, orient=\"records\", lines=True, chunksize=1000)\n",
    "        \n",
    "#     for chunk in reader:\n",
    "# #         reduced_chunk = chunk.drop(\n",
    "# #             columns=['postal_code','latitude','longitude','is_open','attributes','hours'])\n",
    "#         c_dict.append(chunk)\n",
    "    \n",
    "# c_dict = pd.concat(c_dict, ignore_index=True)\n",
    "\n",
    "# # load tip data\n",
    "# t_dict =[]\n",
    "\n",
    "# with open(tip_path, \"r\") as f:\n",
    "#     reader = pd.read_json(f, orient=\"records\", lines=True, chunksize=1000)\n",
    "        \n",
    "#     for chunk in reader:\n",
    "#         reduced_chunk = chunk.drop(\n",
    "#             columns=['user_id'])\n",
    "#         t_dict.append(reduced_chunk)\n",
    "    \n",
    "# t_dict = pd.concat(t_dict, ignore_index=True)"
   ]
  },
  {
   "cell_type": "code",
   "execution_count": 4,
   "metadata": {
    "ExecuteTime": {
     "end_time": "2023-02-07T13:30:37.512979Z",
     "start_time": "2023-02-07T13:30:37.510800Z"
    }
   },
   "outputs": [],
   "source": [
    "# business_df = pd.DataFrame(b_dict)\n",
    "# review_df = pd.DataFrame(r_dict)\n",
    "# checkin_df = pd.DataFrame(c_dict)\n",
    "# tip_df = pd.DataFrame(t_dict)"
   ]
  },
  {
   "cell_type": "code",
   "execution_count": 5,
   "metadata": {},
   "outputs": [],
   "source": [
    "# review_df.to_pickle(\"../Data/yelp/review.pkl\")  \n",
    "# business_df.to_pickle(\"../Data/yelp/business.pkl\") \n",
    "# checkin_df.to_pickle(\"../Data/yelp/checkin.pkl\")  \n",
    "# tip_df.to_pickle(\"../Data/yelp/tip.pkl\")  "
   ]
  },
  {
   "cell_type": "markdown",
   "metadata": {},
   "source": [
    "# Join tables"
   ]
  },
  {
   "cell_type": "code",
   "execution_count": 6,
   "metadata": {},
   "outputs": [],
   "source": [
    "# business_df = pd.read_pickle (business_pk)\n",
    "# review_df = pd.read_pickle(review_pk)\n",
    "# checkin_df = pd.read_pickle(checkin_pk)\n",
    "# tip_df = pd.read_pickle(tip_pk)\n",
    "\n",
    "# print shape\n",
    "# print(review_df.shape)\n",
    "# print(business_df.shape)\n",
    "# print(checkin_df.shape)\n",
    "# print(tip_df.shape)\n"
   ]
  },
  {
   "cell_type": "code",
   "execution_count": 7,
   "metadata": {},
   "outputs": [],
   "source": [
    "#### All sorts of processing \n",
    "\n",
    "# # get 50 reviews above \n",
    "# review_df = review_df[review_df.groupby('business_id')['business_id'].transform('count')>50]\n",
    "# print(review_df.shape)\n",
    "\n",
    "# # get only the open stores\n",
    "# business_df = business_df[business_df.is_open==1]\n",
    "# print(business_df.shape)\n",
    "\n",
    "# # spread the check-in data\n",
    "# checkin_df = checkin_df.assign(date=checkin_df.date.str.split(','))\n",
    "# checkin_df = checkin_df.explode('date')\n",
    "# print(checkin_df.shape)"
   ]
  },
  {
   "cell_type": "code",
   "execution_count": null,
   "metadata": {},
   "outputs": [],
   "source": [
    "# # join tables\n",
    "# final_df = review_df.merge(business_df, on='business_id')"
   ]
  },
  {
   "cell_type": "code",
   "execution_count": 8,
   "metadata": {},
   "outputs": [],
   "source": [
    "# drop not restaurants\n",
    "# drop_l = [final_df.business_id[i] for i in range(len(final_df))if 'Restaurant' not in final_df.categories[i] ]\n",
    "# drop_l = list(set(drop_l))\n",
    "\n",
    "# final_df = final_df[~final_df.business_id.isin(drop_l)]\n",
    "# final_df.shape\n",
    "\n",
    "# final_df.shape\n",
    "# final_df.to_pickle(\"../Data/yelp/final.pkl\")  \n"
   ]
  },
  {
   "cell_type": "markdown",
   "metadata": {},
   "source": [
    "# Pre-process"
   ]
  },
  {
   "cell_type": "code",
   "execution_count": 9,
   "metadata": {},
   "outputs": [],
   "source": [
    "df = pd.read_pickle(final_pk)"
   ]
  },
  {
   "cell_type": "code",
   "execution_count": 10,
   "metadata": {},
   "outputs": [
    {
     "data": {
      "text/html": [
       "<div>\n",
       "<style scoped>\n",
       "    .dataframe tbody tr th:only-of-type {\n",
       "        vertical-align: middle;\n",
       "    }\n",
       "\n",
       "    .dataframe tbody tr th {\n",
       "        vertical-align: top;\n",
       "    }\n",
       "\n",
       "    .dataframe thead th {\n",
       "        text-align: right;\n",
       "    }\n",
       "</style>\n",
       "<table border=\"1\" class=\"dataframe\">\n",
       "  <thead>\n",
       "    <tr style=\"text-align: right;\">\n",
       "      <th></th>\n",
       "      <th>business_id</th>\n",
       "      <th>stars_x</th>\n",
       "      <th>useful</th>\n",
       "      <th>funny</th>\n",
       "      <th>cool</th>\n",
       "      <th>text</th>\n",
       "      <th>date</th>\n",
       "      <th>name</th>\n",
       "      <th>address</th>\n",
       "      <th>city</th>\n",
       "      <th>state</th>\n",
       "      <th>postal_code</th>\n",
       "      <th>stars_y</th>\n",
       "      <th>review_count</th>\n",
       "      <th>is_open</th>\n",
       "      <th>attributes</th>\n",
       "      <th>categories</th>\n",
       "      <th>hours</th>\n",
       "    </tr>\n",
       "  </thead>\n",
       "  <tbody>\n",
       "    <tr>\n",
       "      <th>0</th>\n",
       "      <td>XQfwVwDr-v0ZS3_CbbE5Xw</td>\n",
       "      <td>3.0</td>\n",
       "      <td>0</td>\n",
       "      <td>0</td>\n",
       "      <td>0</td>\n",
       "      <td>If you decide to eat here, just be aware it is...</td>\n",
       "      <td>2018-07-07 22:09:11</td>\n",
       "      <td>Turning Point of North Wales</td>\n",
       "      <td>1460 Bethlehem Pike</td>\n",
       "      <td>North Wales</td>\n",
       "      <td>PA</td>\n",
       "      <td>19454</td>\n",
       "      <td>3.0</td>\n",
       "      <td>169</td>\n",
       "      <td>1</td>\n",
       "      <td>{'NoiseLevel': 'u'average'', 'HasTV': 'False',...</td>\n",
       "      <td>Restaurants, Breakfast &amp; Brunch, Food, Juice B...</td>\n",
       "      <td>{'Monday': '7:30-15:0', 'Tuesday': '7:30-15:0'...</td>\n",
       "    </tr>\n",
       "    <tr>\n",
       "      <th>1</th>\n",
       "      <td>XQfwVwDr-v0ZS3_CbbE5Xw</td>\n",
       "      <td>3.0</td>\n",
       "      <td>0</td>\n",
       "      <td>0</td>\n",
       "      <td>0</td>\n",
       "      <td>Food is fantastic, service is quite awful!  Ca...</td>\n",
       "      <td>2018-03-24 17:50:37</td>\n",
       "      <td>Turning Point of North Wales</td>\n",
       "      <td>1460 Bethlehem Pike</td>\n",
       "      <td>North Wales</td>\n",
       "      <td>PA</td>\n",
       "      <td>19454</td>\n",
       "      <td>3.0</td>\n",
       "      <td>169</td>\n",
       "      <td>1</td>\n",
       "      <td>{'NoiseLevel': 'u'average'', 'HasTV': 'False',...</td>\n",
       "      <td>Restaurants, Breakfast &amp; Brunch, Food, Juice B...</td>\n",
       "      <td>{'Monday': '7:30-15:0', 'Tuesday': '7:30-15:0'...</td>\n",
       "    </tr>\n",
       "    <tr>\n",
       "      <th>2</th>\n",
       "      <td>XQfwVwDr-v0ZS3_CbbE5Xw</td>\n",
       "      <td>3.0</td>\n",
       "      <td>0</td>\n",
       "      <td>0</td>\n",
       "      <td>0</td>\n",
       "      <td>Update: I deducted a star because they no long...</td>\n",
       "      <td>2018-07-21 09:26:33</td>\n",
       "      <td>Turning Point of North Wales</td>\n",
       "      <td>1460 Bethlehem Pike</td>\n",
       "      <td>North Wales</td>\n",
       "      <td>PA</td>\n",
       "      <td>19454</td>\n",
       "      <td>3.0</td>\n",
       "      <td>169</td>\n",
       "      <td>1</td>\n",
       "      <td>{'NoiseLevel': 'u'average'', 'HasTV': 'False',...</td>\n",
       "      <td>Restaurants, Breakfast &amp; Brunch, Food, Juice B...</td>\n",
       "      <td>{'Monday': '7:30-15:0', 'Tuesday': '7:30-15:0'...</td>\n",
       "    </tr>\n",
       "    <tr>\n",
       "      <th>3</th>\n",
       "      <td>XQfwVwDr-v0ZS3_CbbE5Xw</td>\n",
       "      <td>1.0</td>\n",
       "      <td>0</td>\n",
       "      <td>0</td>\n",
       "      <td>0</td>\n",
       "      <td>never coming back here again. all of the glass...</td>\n",
       "      <td>2018-09-08 17:03:53</td>\n",
       "      <td>Turning Point of North Wales</td>\n",
       "      <td>1460 Bethlehem Pike</td>\n",
       "      <td>North Wales</td>\n",
       "      <td>PA</td>\n",
       "      <td>19454</td>\n",
       "      <td>3.0</td>\n",
       "      <td>169</td>\n",
       "      <td>1</td>\n",
       "      <td>{'NoiseLevel': 'u'average'', 'HasTV': 'False',...</td>\n",
       "      <td>Restaurants, Breakfast &amp; Brunch, Food, Juice B...</td>\n",
       "      <td>{'Monday': '7:30-15:0', 'Tuesday': '7:30-15:0'...</td>\n",
       "    </tr>\n",
       "    <tr>\n",
       "      <th>4</th>\n",
       "      <td>XQfwVwDr-v0ZS3_CbbE5Xw</td>\n",
       "      <td>2.0</td>\n",
       "      <td>0</td>\n",
       "      <td>0</td>\n",
       "      <td>0</td>\n",
       "      <td>Unfortunately the weekend chef doesn't know ho...</td>\n",
       "      <td>2018-09-09 14:30:29</td>\n",
       "      <td>Turning Point of North Wales</td>\n",
       "      <td>1460 Bethlehem Pike</td>\n",
       "      <td>North Wales</td>\n",
       "      <td>PA</td>\n",
       "      <td>19454</td>\n",
       "      <td>3.0</td>\n",
       "      <td>169</td>\n",
       "      <td>1</td>\n",
       "      <td>{'NoiseLevel': 'u'average'', 'HasTV': 'False',...</td>\n",
       "      <td>Restaurants, Breakfast &amp; Brunch, Food, Juice B...</td>\n",
       "      <td>{'Monday': '7:30-15:0', 'Tuesday': '7:30-15:0'...</td>\n",
       "    </tr>\n",
       "  </tbody>\n",
       "</table>\n",
       "</div>"
      ],
      "text/plain": [
       "              business_id  stars_x  useful  funny  cool  \\\n",
       "0  XQfwVwDr-v0ZS3_CbbE5Xw      3.0       0      0     0   \n",
       "1  XQfwVwDr-v0ZS3_CbbE5Xw      3.0       0      0     0   \n",
       "2  XQfwVwDr-v0ZS3_CbbE5Xw      3.0       0      0     0   \n",
       "3  XQfwVwDr-v0ZS3_CbbE5Xw      1.0       0      0     0   \n",
       "4  XQfwVwDr-v0ZS3_CbbE5Xw      2.0       0      0     0   \n",
       "\n",
       "                                                text                date  \\\n",
       "0  If you decide to eat here, just be aware it is... 2018-07-07 22:09:11   \n",
       "1  Food is fantastic, service is quite awful!  Ca... 2018-03-24 17:50:37   \n",
       "2  Update: I deducted a star because they no long... 2018-07-21 09:26:33   \n",
       "3  never coming back here again. all of the glass... 2018-09-08 17:03:53   \n",
       "4  Unfortunately the weekend chef doesn't know ho... 2018-09-09 14:30:29   \n",
       "\n",
       "                           name              address         city state  \\\n",
       "0  Turning Point of North Wales  1460 Bethlehem Pike  North Wales    PA   \n",
       "1  Turning Point of North Wales  1460 Bethlehem Pike  North Wales    PA   \n",
       "2  Turning Point of North Wales  1460 Bethlehem Pike  North Wales    PA   \n",
       "3  Turning Point of North Wales  1460 Bethlehem Pike  North Wales    PA   \n",
       "4  Turning Point of North Wales  1460 Bethlehem Pike  North Wales    PA   \n",
       "\n",
       "  postal_code  stars_y  review_count  is_open  \\\n",
       "0       19454      3.0           169        1   \n",
       "1       19454      3.0           169        1   \n",
       "2       19454      3.0           169        1   \n",
       "3       19454      3.0           169        1   \n",
       "4       19454      3.0           169        1   \n",
       "\n",
       "                                          attributes  \\\n",
       "0  {'NoiseLevel': 'u'average'', 'HasTV': 'False',...   \n",
       "1  {'NoiseLevel': 'u'average'', 'HasTV': 'False',...   \n",
       "2  {'NoiseLevel': 'u'average'', 'HasTV': 'False',...   \n",
       "3  {'NoiseLevel': 'u'average'', 'HasTV': 'False',...   \n",
       "4  {'NoiseLevel': 'u'average'', 'HasTV': 'False',...   \n",
       "\n",
       "                                          categories  \\\n",
       "0  Restaurants, Breakfast & Brunch, Food, Juice B...   \n",
       "1  Restaurants, Breakfast & Brunch, Food, Juice B...   \n",
       "2  Restaurants, Breakfast & Brunch, Food, Juice B...   \n",
       "3  Restaurants, Breakfast & Brunch, Food, Juice B...   \n",
       "4  Restaurants, Breakfast & Brunch, Food, Juice B...   \n",
       "\n",
       "                                               hours  \n",
       "0  {'Monday': '7:30-15:0', 'Tuesday': '7:30-15:0'...  \n",
       "1  {'Monday': '7:30-15:0', 'Tuesday': '7:30-15:0'...  \n",
       "2  {'Monday': '7:30-15:0', 'Tuesday': '7:30-15:0'...  \n",
       "3  {'Monday': '7:30-15:0', 'Tuesday': '7:30-15:0'...  \n",
       "4  {'Monday': '7:30-15:0', 'Tuesday': '7:30-15:0'...  "
      ]
     },
     "execution_count": 10,
     "metadata": {},
     "output_type": "execute_result"
    }
   ],
   "source": [
    "df.head()"
   ]
  },
  {
   "cell_type": "markdown",
   "metadata": {},
   "source": [
    "# EDA"
   ]
  },
  {
   "cell_type": "code",
   "execution_count": null,
   "metadata": {},
   "outputs": [],
   "source": [
    "# review count by state\n",
    "# df.state.value_counts()"
   ]
  },
  {
   "cell_type": "code",
   "execution_count": null,
   "metadata": {},
   "outputs": [],
   "source": [
    "# calculate the city number of each state\n",
    "for i in Counter(df.state):\n",
    "    tmp = df[df.state==i]\n",
    "    print(f'State : {i} , city no. : {len(Counter(tmp.city))},\\\n",
    "    restaurant no. : {len(Counter(tmp.name))},')\n",
    "    "
   ]
  },
  {
   "cell_type": "code",
   "execution_count": null,
   "metadata": {},
   "outputs": [],
   "source": [
    "# Count the restaurant number in every state\n",
    "for i in Counter(df.state):\n",
    "    tmp = df[df.state==i]\n",
    "    cnt = 0\n",
    "    print(f'Now state : {i}')\n",
    "    for j in Counter(tmp.name):\n",
    "        temp = tmp[tmp.name==j]\n",
    "        if len(Counter(temp.city))>=3 :\n",
    "#             print(f'Restaurant : {j} , branches : {Counter(temp.city)}')\n",
    "            cnt+=1\n",
    "    print(f'Has {cnt} of restauarants have 3 above branches')"
   ]
  },
  {
   "cell_type": "markdown",
   "metadata": {},
   "source": [
    "# By State\n",
    "* Use FL for starters , only 7 seven cities"
   ]
  },
  {
   "cell_type": "code",
   "execution_count": 11,
   "metadata": {},
   "outputs": [],
   "source": [
    "df = df[df.state == 'FL']"
   ]
  },
  {
   "cell_type": "code",
   "execution_count": 12,
   "metadata": {},
   "outputs": [
    {
     "data": {
      "text/plain": [
       "(323563, 18)"
      ]
     },
     "execution_count": 12,
     "metadata": {},
     "output_type": "execute_result"
    }
   ],
   "source": [
    "df.shape"
   ]
  },
  {
   "cell_type": "code",
   "execution_count": 13,
   "metadata": {},
   "outputs": [],
   "source": [
    "for_lda_df = df.copy()"
   ]
  },
  {
   "cell_type": "code",
   "execution_count": 14,
   "metadata": {},
   "outputs": [
    {
     "data": {
      "text/plain": [
       "(323563, 18)"
      ]
     },
     "execution_count": 14,
     "metadata": {},
     "output_type": "execute_result"
    }
   ],
   "source": [
    "for_lda_df.shape"
   ]
  },
  {
   "cell_type": "code",
   "execution_count": 15,
   "metadata": {},
   "outputs": [],
   "source": [
    "# get the restaurants that has branches in at least 3 different cities\n",
    "for j in Counter(df.name):\n",
    "    tmp = df[df.name==j]\n",
    "    if len(Counter(tmp.city))<3:\n",
    "        df = df.drop(tmp.index)\n",
    "        df.reset_index()"
   ]
  },
  {
   "cell_type": "code",
   "execution_count": 17,
   "metadata": {},
   "outputs": [
    {
     "data": {
      "text/plain": [
       "(23630, 18)"
      ]
     },
     "execution_count": 17,
     "metadata": {},
     "output_type": "execute_result"
    }
   ],
   "source": [
    "df.shape"
   ]
  },
  {
   "cell_type": "code",
   "execution_count": 20,
   "metadata": {},
   "outputs": [
    {
     "data": {
      "text/html": [
       "<div>\n",
       "<style scoped>\n",
       "    .dataframe tbody tr th:only-of-type {\n",
       "        vertical-align: middle;\n",
       "    }\n",
       "\n",
       "    .dataframe tbody tr th {\n",
       "        vertical-align: top;\n",
       "    }\n",
       "\n",
       "    .dataframe thead th {\n",
       "        text-align: right;\n",
       "    }\n",
       "</style>\n",
       "<table border=\"1\" class=\"dataframe\">\n",
       "  <thead>\n",
       "    <tr style=\"text-align: right;\">\n",
       "      <th></th>\n",
       "      <th>business_id</th>\n",
       "      <th>stars_x</th>\n",
       "      <th>useful</th>\n",
       "      <th>funny</th>\n",
       "      <th>cool</th>\n",
       "      <th>text</th>\n",
       "      <th>date</th>\n",
       "      <th>name</th>\n",
       "      <th>address</th>\n",
       "      <th>city</th>\n",
       "      <th>state</th>\n",
       "      <th>postal_code</th>\n",
       "      <th>stars_y</th>\n",
       "      <th>review_count</th>\n",
       "      <th>is_open</th>\n",
       "      <th>attributes</th>\n",
       "      <th>categories</th>\n",
       "      <th>hours</th>\n",
       "    </tr>\n",
       "  </thead>\n",
       "  <tbody>\n",
       "    <tr>\n",
       "      <th>2280</th>\n",
       "      <td>cg4JFJcCxRTTMmcg9O9KtA</td>\n",
       "      <td>1.0</td>\n",
       "      <td>0</td>\n",
       "      <td>1</td>\n",
       "      <td>0</td>\n",
       "      <td>Skip this train wreck if you are looking for d...</td>\n",
       "      <td>2018-02-11 03:11:20</td>\n",
       "      <td>Ava</td>\n",
       "      <td>718 S Howard Ave</td>\n",
       "      <td>Tampa</td>\n",
       "      <td>FL</td>\n",
       "      <td>33606</td>\n",
       "      <td>3.5</td>\n",
       "      <td>544</td>\n",
       "      <td>1</td>\n",
       "      <td>{'BikeParking': 'True', 'Alcohol': ''full_bar'...</td>\n",
       "      <td>Wine Bars, Desserts, Bars, American (New), Nig...</td>\n",
       "      <td>{'Monday': '17:0-22:0', 'Tuesday': '17:0-22:0'...</td>\n",
       "    </tr>\n",
       "    <tr>\n",
       "      <th>2281</th>\n",
       "      <td>cg4JFJcCxRTTMmcg9O9KtA</td>\n",
       "      <td>4.0</td>\n",
       "      <td>0</td>\n",
       "      <td>0</td>\n",
       "      <td>0</td>\n",
       "      <td>Been here twice and both times we thoroughly e...</td>\n",
       "      <td>2018-07-26 14:30:20</td>\n",
       "      <td>Ava</td>\n",
       "      <td>718 S Howard Ave</td>\n",
       "      <td>Tampa</td>\n",
       "      <td>FL</td>\n",
       "      <td>33606</td>\n",
       "      <td>3.5</td>\n",
       "      <td>544</td>\n",
       "      <td>1</td>\n",
       "      <td>{'BikeParking': 'True', 'Alcohol': ''full_bar'...</td>\n",
       "      <td>Wine Bars, Desserts, Bars, American (New), Nig...</td>\n",
       "      <td>{'Monday': '17:0-22:0', 'Tuesday': '17:0-22:0'...</td>\n",
       "    </tr>\n",
       "    <tr>\n",
       "      <th>2282</th>\n",
       "      <td>cg4JFJcCxRTTMmcg9O9KtA</td>\n",
       "      <td>5.0</td>\n",
       "      <td>0</td>\n",
       "      <td>0</td>\n",
       "      <td>0</td>\n",
       "      <td>Brunch was lovely at Ava. No wait and fast ser...</td>\n",
       "      <td>2018-08-26 20:32:05</td>\n",
       "      <td>Ava</td>\n",
       "      <td>718 S Howard Ave</td>\n",
       "      <td>Tampa</td>\n",
       "      <td>FL</td>\n",
       "      <td>33606</td>\n",
       "      <td>3.5</td>\n",
       "      <td>544</td>\n",
       "      <td>1</td>\n",
       "      <td>{'BikeParking': 'True', 'Alcohol': ''full_bar'...</td>\n",
       "      <td>Wine Bars, Desserts, Bars, American (New), Nig...</td>\n",
       "      <td>{'Monday': '17:0-22:0', 'Tuesday': '17:0-22:0'...</td>\n",
       "    </tr>\n",
       "    <tr>\n",
       "      <th>2283</th>\n",
       "      <td>cg4JFJcCxRTTMmcg9O9KtA</td>\n",
       "      <td>3.0</td>\n",
       "      <td>0</td>\n",
       "      <td>0</td>\n",
       "      <td>1</td>\n",
       "      <td>Just walk up and order then go around and wait...</td>\n",
       "      <td>2018-03-24 20:10:35</td>\n",
       "      <td>Ava</td>\n",
       "      <td>718 S Howard Ave</td>\n",
       "      <td>Tampa</td>\n",
       "      <td>FL</td>\n",
       "      <td>33606</td>\n",
       "      <td>3.5</td>\n",
       "      <td>544</td>\n",
       "      <td>1</td>\n",
       "      <td>{'BikeParking': 'True', 'Alcohol': ''full_bar'...</td>\n",
       "      <td>Wine Bars, Desserts, Bars, American (New), Nig...</td>\n",
       "      <td>{'Monday': '17:0-22:0', 'Tuesday': '17:0-22:0'...</td>\n",
       "    </tr>\n",
       "    <tr>\n",
       "      <th>2284</th>\n",
       "      <td>cg4JFJcCxRTTMmcg9O9KtA</td>\n",
       "      <td>1.0</td>\n",
       "      <td>0</td>\n",
       "      <td>0</td>\n",
       "      <td>0</td>\n",
       "      <td>First time coming and the last time this place...</td>\n",
       "      <td>2018-09-16 00:00:28</td>\n",
       "      <td>Ava</td>\n",
       "      <td>718 S Howard Ave</td>\n",
       "      <td>Tampa</td>\n",
       "      <td>FL</td>\n",
       "      <td>33606</td>\n",
       "      <td>3.5</td>\n",
       "      <td>544</td>\n",
       "      <td>1</td>\n",
       "      <td>{'BikeParking': 'True', 'Alcohol': ''full_bar'...</td>\n",
       "      <td>Wine Bars, Desserts, Bars, American (New), Nig...</td>\n",
       "      <td>{'Monday': '17:0-22:0', 'Tuesday': '17:0-22:0'...</td>\n",
       "    </tr>\n",
       "    <tr>\n",
       "      <th>...</th>\n",
       "      <td>...</td>\n",
       "      <td>...</td>\n",
       "      <td>...</td>\n",
       "      <td>...</td>\n",
       "      <td>...</td>\n",
       "      <td>...</td>\n",
       "      <td>...</td>\n",
       "      <td>...</td>\n",
       "      <td>...</td>\n",
       "      <td>...</td>\n",
       "      <td>...</td>\n",
       "      <td>...</td>\n",
       "      <td>...</td>\n",
       "      <td>...</td>\n",
       "      <td>...</td>\n",
       "      <td>...</td>\n",
       "      <td>...</td>\n",
       "      <td>...</td>\n",
       "    </tr>\n",
       "    <tr>\n",
       "      <th>1618159</th>\n",
       "      <td>3TpSuWBTfoHyALIePVpNXw</td>\n",
       "      <td>5.0</td>\n",
       "      <td>0</td>\n",
       "      <td>0</td>\n",
       "      <td>1</td>\n",
       "      <td>The food was delicious. The service was great....</td>\n",
       "      <td>2021-12-23 18:13:40</td>\n",
       "      <td>Crabby's On The Pass</td>\n",
       "      <td>12754 Kingfish Dr</td>\n",
       "      <td>Treasure Island</td>\n",
       "      <td>FL</td>\n",
       "      <td>33706</td>\n",
       "      <td>4.0</td>\n",
       "      <td>86</td>\n",
       "      <td>1</td>\n",
       "      <td>{'BusinessAcceptsCreditCards': 'True', 'Restau...</td>\n",
       "      <td>Seafood, Restaurants, American (Traditional), ...</td>\n",
       "      <td>{'Monday': '0:0-0:0', 'Tuesday': '11:0-16:0', ...</td>\n",
       "    </tr>\n",
       "    <tr>\n",
       "      <th>1618160</th>\n",
       "      <td>3TpSuWBTfoHyALIePVpNXw</td>\n",
       "      <td>5.0</td>\n",
       "      <td>0</td>\n",
       "      <td>0</td>\n",
       "      <td>0</td>\n",
       "      <td>New restaurant where Gators was. Really good f...</td>\n",
       "      <td>2021-05-16 21:54:02</td>\n",
       "      <td>Crabby's On The Pass</td>\n",
       "      <td>12754 Kingfish Dr</td>\n",
       "      <td>Treasure Island</td>\n",
       "      <td>FL</td>\n",
       "      <td>33706</td>\n",
       "      <td>4.0</td>\n",
       "      <td>86</td>\n",
       "      <td>1</td>\n",
       "      <td>{'BusinessAcceptsCreditCards': 'True', 'Restau...</td>\n",
       "      <td>Seafood, Restaurants, American (Traditional), ...</td>\n",
       "      <td>{'Monday': '0:0-0:0', 'Tuesday': '11:0-16:0', ...</td>\n",
       "    </tr>\n",
       "    <tr>\n",
       "      <th>1618161</th>\n",
       "      <td>3TpSuWBTfoHyALIePVpNXw</td>\n",
       "      <td>4.0</td>\n",
       "      <td>1</td>\n",
       "      <td>0</td>\n",
       "      <td>0</td>\n",
       "      <td>Went here by boat after an afternoon at the sa...</td>\n",
       "      <td>2022-01-04 21:21:26</td>\n",
       "      <td>Crabby's On The Pass</td>\n",
       "      <td>12754 Kingfish Dr</td>\n",
       "      <td>Treasure Island</td>\n",
       "      <td>FL</td>\n",
       "      <td>33706</td>\n",
       "      <td>4.0</td>\n",
       "      <td>86</td>\n",
       "      <td>1</td>\n",
       "      <td>{'BusinessAcceptsCreditCards': 'True', 'Restau...</td>\n",
       "      <td>Seafood, Restaurants, American (Traditional), ...</td>\n",
       "      <td>{'Monday': '0:0-0:0', 'Tuesday': '11:0-16:0', ...</td>\n",
       "    </tr>\n",
       "    <tr>\n",
       "      <th>1618162</th>\n",
       "      <td>3TpSuWBTfoHyALIePVpNXw</td>\n",
       "      <td>5.0</td>\n",
       "      <td>0</td>\n",
       "      <td>0</td>\n",
       "      <td>0</td>\n",
       "      <td>From Minneapolis, MN come down about 1 time a ...</td>\n",
       "      <td>2021-05-29 19:03:51</td>\n",
       "      <td>Crabby's On The Pass</td>\n",
       "      <td>12754 Kingfish Dr</td>\n",
       "      <td>Treasure Island</td>\n",
       "      <td>FL</td>\n",
       "      <td>33706</td>\n",
       "      <td>4.0</td>\n",
       "      <td>86</td>\n",
       "      <td>1</td>\n",
       "      <td>{'BusinessAcceptsCreditCards': 'True', 'Restau...</td>\n",
       "      <td>Seafood, Restaurants, American (Traditional), ...</td>\n",
       "      <td>{'Monday': '0:0-0:0', 'Tuesday': '11:0-16:0', ...</td>\n",
       "    </tr>\n",
       "    <tr>\n",
       "      <th>1618163</th>\n",
       "      <td>3TpSuWBTfoHyALIePVpNXw</td>\n",
       "      <td>5.0</td>\n",
       "      <td>0</td>\n",
       "      <td>0</td>\n",
       "      <td>0</td>\n",
       "      <td>We had outstanding service and outstanding foo...</td>\n",
       "      <td>2021-06-23 01:08:24</td>\n",
       "      <td>Crabby's On The Pass</td>\n",
       "      <td>12754 Kingfish Dr</td>\n",
       "      <td>Treasure Island</td>\n",
       "      <td>FL</td>\n",
       "      <td>33706</td>\n",
       "      <td>4.0</td>\n",
       "      <td>86</td>\n",
       "      <td>1</td>\n",
       "      <td>{'BusinessAcceptsCreditCards': 'True', 'Restau...</td>\n",
       "      <td>Seafood, Restaurants, American (Traditional), ...</td>\n",
       "      <td>{'Monday': '0:0-0:0', 'Tuesday': '11:0-16:0', ...</td>\n",
       "    </tr>\n",
       "  </tbody>\n",
       "</table>\n",
       "<p>299933 rows × 18 columns</p>\n",
       "</div>"
      ],
      "text/plain": [
       "                    business_id  stars_x  useful  funny  cool  \\\n",
       "2280     cg4JFJcCxRTTMmcg9O9KtA      1.0       0      1     0   \n",
       "2281     cg4JFJcCxRTTMmcg9O9KtA      4.0       0      0     0   \n",
       "2282     cg4JFJcCxRTTMmcg9O9KtA      5.0       0      0     0   \n",
       "2283     cg4JFJcCxRTTMmcg9O9KtA      3.0       0      0     1   \n",
       "2284     cg4JFJcCxRTTMmcg9O9KtA      1.0       0      0     0   \n",
       "...                         ...      ...     ...    ...   ...   \n",
       "1618159  3TpSuWBTfoHyALIePVpNXw      5.0       0      0     1   \n",
       "1618160  3TpSuWBTfoHyALIePVpNXw      5.0       0      0     0   \n",
       "1618161  3TpSuWBTfoHyALIePVpNXw      4.0       1      0     0   \n",
       "1618162  3TpSuWBTfoHyALIePVpNXw      5.0       0      0     0   \n",
       "1618163  3TpSuWBTfoHyALIePVpNXw      5.0       0      0     0   \n",
       "\n",
       "                                                      text  \\\n",
       "2280     Skip this train wreck if you are looking for d...   \n",
       "2281     Been here twice and both times we thoroughly e...   \n",
       "2282     Brunch was lovely at Ava. No wait and fast ser...   \n",
       "2283     Just walk up and order then go around and wait...   \n",
       "2284     First time coming and the last time this place...   \n",
       "...                                                    ...   \n",
       "1618159  The food was delicious. The service was great....   \n",
       "1618160  New restaurant where Gators was. Really good f...   \n",
       "1618161  Went here by boat after an afternoon at the sa...   \n",
       "1618162  From Minneapolis, MN come down about 1 time a ...   \n",
       "1618163  We had outstanding service and outstanding foo...   \n",
       "\n",
       "                       date                  name            address  \\\n",
       "2280    2018-02-11 03:11:20                   Ava   718 S Howard Ave   \n",
       "2281    2018-07-26 14:30:20                   Ava   718 S Howard Ave   \n",
       "2282    2018-08-26 20:32:05                   Ava   718 S Howard Ave   \n",
       "2283    2018-03-24 20:10:35                   Ava   718 S Howard Ave   \n",
       "2284    2018-09-16 00:00:28                   Ava   718 S Howard Ave   \n",
       "...                     ...                   ...                ...   \n",
       "1618159 2021-12-23 18:13:40  Crabby's On The Pass  12754 Kingfish Dr   \n",
       "1618160 2021-05-16 21:54:02  Crabby's On The Pass  12754 Kingfish Dr   \n",
       "1618161 2022-01-04 21:21:26  Crabby's On The Pass  12754 Kingfish Dr   \n",
       "1618162 2021-05-29 19:03:51  Crabby's On The Pass  12754 Kingfish Dr   \n",
       "1618163 2021-06-23 01:08:24  Crabby's On The Pass  12754 Kingfish Dr   \n",
       "\n",
       "                    city state postal_code  stars_y  review_count  is_open  \\\n",
       "2280               Tampa    FL       33606      3.5           544        1   \n",
       "2281               Tampa    FL       33606      3.5           544        1   \n",
       "2282               Tampa    FL       33606      3.5           544        1   \n",
       "2283               Tampa    FL       33606      3.5           544        1   \n",
       "2284               Tampa    FL       33606      3.5           544        1   \n",
       "...                  ...   ...         ...      ...           ...      ...   \n",
       "1618159  Treasure Island    FL       33706      4.0            86        1   \n",
       "1618160  Treasure Island    FL       33706      4.0            86        1   \n",
       "1618161  Treasure Island    FL       33706      4.0            86        1   \n",
       "1618162  Treasure Island    FL       33706      4.0            86        1   \n",
       "1618163  Treasure Island    FL       33706      4.0            86        1   \n",
       "\n",
       "                                                attributes  \\\n",
       "2280     {'BikeParking': 'True', 'Alcohol': ''full_bar'...   \n",
       "2281     {'BikeParking': 'True', 'Alcohol': ''full_bar'...   \n",
       "2282     {'BikeParking': 'True', 'Alcohol': ''full_bar'...   \n",
       "2283     {'BikeParking': 'True', 'Alcohol': ''full_bar'...   \n",
       "2284     {'BikeParking': 'True', 'Alcohol': ''full_bar'...   \n",
       "...                                                    ...   \n",
       "1618159  {'BusinessAcceptsCreditCards': 'True', 'Restau...   \n",
       "1618160  {'BusinessAcceptsCreditCards': 'True', 'Restau...   \n",
       "1618161  {'BusinessAcceptsCreditCards': 'True', 'Restau...   \n",
       "1618162  {'BusinessAcceptsCreditCards': 'True', 'Restau...   \n",
       "1618163  {'BusinessAcceptsCreditCards': 'True', 'Restau...   \n",
       "\n",
       "                                                categories  \\\n",
       "2280     Wine Bars, Desserts, Bars, American (New), Nig...   \n",
       "2281     Wine Bars, Desserts, Bars, American (New), Nig...   \n",
       "2282     Wine Bars, Desserts, Bars, American (New), Nig...   \n",
       "2283     Wine Bars, Desserts, Bars, American (New), Nig...   \n",
       "2284     Wine Bars, Desserts, Bars, American (New), Nig...   \n",
       "...                                                    ...   \n",
       "1618159  Seafood, Restaurants, American (Traditional), ...   \n",
       "1618160  Seafood, Restaurants, American (Traditional), ...   \n",
       "1618161  Seafood, Restaurants, American (Traditional), ...   \n",
       "1618162  Seafood, Restaurants, American (Traditional), ...   \n",
       "1618163  Seafood, Restaurants, American (Traditional), ...   \n",
       "\n",
       "                                                     hours  \n",
       "2280     {'Monday': '17:0-22:0', 'Tuesday': '17:0-22:0'...  \n",
       "2281     {'Monday': '17:0-22:0', 'Tuesday': '17:0-22:0'...  \n",
       "2282     {'Monday': '17:0-22:0', 'Tuesday': '17:0-22:0'...  \n",
       "2283     {'Monday': '17:0-22:0', 'Tuesday': '17:0-22:0'...  \n",
       "2284     {'Monday': '17:0-22:0', 'Tuesday': '17:0-22:0'...  \n",
       "...                                                    ...  \n",
       "1618159  {'Monday': '0:0-0:0', 'Tuesday': '11:0-16:0', ...  \n",
       "1618160  {'Monday': '0:0-0:0', 'Tuesday': '11:0-16:0', ...  \n",
       "1618161  {'Monday': '0:0-0:0', 'Tuesday': '11:0-16:0', ...  \n",
       "1618162  {'Monday': '0:0-0:0', 'Tuesday': '11:0-16:0', ...  \n",
       "1618163  {'Monday': '0:0-0:0', 'Tuesday': '11:0-16:0', ...  \n",
       "\n",
       "[299933 rows x 18 columns]"
      ]
     },
     "execution_count": 20,
     "metadata": {},
     "output_type": "execute_result"
    }
   ],
   "source": [
    "for_lda_df[~for_lda_df.name.isin(df.name)]"
   ]
  },
  {
   "cell_type": "code",
   "execution_count": null,
   "metadata": {},
   "outputs": [],
   "source": [
    "brand = Counter(df.name)\n",
    "plt.bar(brand.keys(), brand.values())"
   ]
  },
  {
   "cell_type": "code",
   "execution_count": 21,
   "metadata": {},
   "outputs": [],
   "source": [
    "df.to_pickle(\"../Data/yelp/FL_only.pkl\")  \n",
    "for_lda_df.to_pickle(\"../Data/yelp/LDA_training.pkl\")  "
   ]
  },
  {
   "cell_type": "markdown",
   "metadata": {},
   "source": [
    "## Observe the Ratings by Brand"
   ]
  },
  {
   "cell_type": "code",
   "execution_count": null,
   "metadata": {},
   "outputs": [],
   "source": [
    "# # count the cities by one brand \n",
    "# for i in Counter(df.name):\n",
    "#     tmp = df[df.name==i]\n",
    "#     print(Counter(tmp.city))"
   ]
  },
  {
   "cell_type": "code",
   "execution_count": null,
   "metadata": {},
   "outputs": [],
   "source": [
    "# Count the overall std for each brand\n",
    "l_= []\n",
    "for i in Counter(df.name):\n",
    "    tmp = df[df.name==i]\n",
    "    dict_ = tmp.stars_x.describe().to_dict()\n",
    "    dict_['name']=i\n",
    "    l_.append(dict_)\n",
    "b = pd.DataFrame(l_)\n",
    "b"
   ]
  },
  {
   "cell_type": "code",
   "execution_count": null,
   "metadata": {},
   "outputs": [],
   "source": [
    "# Count the std for each brand by city \n",
    "l_= []\n",
    "for i in Counter(df.name):\n",
    "    tmp = df[df.name==i]\n",
    "    dict_ = tmp.stars_x.describe().to_dict()\n",
    "    dict_['name']=i\n",
    "    l_.append(dict_)\n",
    "b = pd.DataFrame(l_)\n",
    "b"
   ]
  },
  {
   "cell_type": "markdown",
   "metadata": {},
   "source": [
    "## Obeserve the postal code"
   ]
  },
  {
   "cell_type": "code",
   "execution_count": null,
   "metadata": {},
   "outputs": [],
   "source": [
    "len(Counter(df.postal_code))"
   ]
  },
  {
   "cell_type": "code",
   "execution_count": null,
   "metadata": {},
   "outputs": [],
   "source": [
    "len(Counter(df.city))"
   ]
  },
  {
   "cell_type": "code",
   "execution_count": null,
   "metadata": {},
   "outputs": [],
   "source": []
  }
 ],
 "metadata": {
  "kernelspec": {
   "display_name": "steph-env",
   "language": "python",
   "name": "steph-env"
  },
  "language_info": {
   "codemirror_mode": {
    "name": "ipython",
    "version": 3
   },
   "file_extension": ".py",
   "mimetype": "text/x-python",
   "name": "python",
   "nbconvert_exporter": "python",
   "pygments_lexer": "ipython3",
   "version": "3.7.5"
  },
  "toc": {
   "base_numbering": 1,
   "nav_menu": {},
   "number_sections": true,
   "sideBar": true,
   "skip_h1_title": false,
   "title_cell": "Table of Contents",
   "title_sidebar": "Contents",
   "toc_cell": false,
   "toc_position": {},
   "toc_section_display": true,
   "toc_window_display": false
  },
  "varInspector": {
   "cols": {
    "lenName": 16,
    "lenType": 16,
    "lenVar": 40
   },
   "kernels_config": {
    "python": {
     "delete_cmd_postfix": "",
     "delete_cmd_prefix": "del ",
     "library": "var_list.py",
     "varRefreshCmd": "print(var_dic_list())"
    },
    "r": {
     "delete_cmd_postfix": ") ",
     "delete_cmd_prefix": "rm(",
     "library": "var_list.r",
     "varRefreshCmd": "cat(var_dic_list()) "
    }
   },
   "types_to_exclude": [
    "module",
    "function",
    "builtin_function_or_method",
    "instance",
    "_Feature"
   ],
   "window_display": false
  },
  "vscode": {
   "interpreter": {
    "hash": "11959c651920e8805e8a1fc340b571d7e2a180d45b31b087818b28bdce119fc5"
   }
  }
 },
 "nbformat": 4,
 "nbformat_minor": 2
}
