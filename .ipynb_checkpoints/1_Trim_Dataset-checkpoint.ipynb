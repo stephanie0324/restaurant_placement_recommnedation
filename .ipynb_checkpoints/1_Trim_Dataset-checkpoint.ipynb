{
 "cells": [
  {
   "cell_type": "markdown",
   "metadata": {},
   "source": [
    "# 論文資料及整理\n",
    "* YELP\n",
    "    * EDA\n",
    "    * 50 review above \n",
    "    * join business, check-in and tips"
   ]
  },
  {
   "cell_type": "markdown",
   "metadata": {},
   "source": [
    "# Import"
   ]
  },
  {
   "cell_type": "code",
   "execution_count": 1,
   "metadata": {
    "ExecuteTime": {
     "end_time": "2023-05-03T09:57:49.430819Z",
     "start_time": "2023-05-03T09:57:48.980117Z"
    }
   },
   "outputs": [
    {
     "name": "stderr",
     "output_type": "stream",
     "text": [
      "Matplotlib created a temporary config/cache directory at /tmp/matplotlib-938t66t4 because the default path (/home/emma/.config/matplotlib) is not a writable directory; it is highly recommended to set the MPLCONFIGDIR environment variable to a writable directory, in particular to speed up the import of Matplotlib and to better support multiprocessing.\n"
     ]
    }
   ],
   "source": [
    "import pandas as pd\n",
    "import json\n",
    "import numpy as np\n",
    "from collections import Counter\n",
    "import numpy as np\n",
    "import matplotlib.pyplot as plt"
   ]
  },
  {
   "cell_type": "code",
   "execution_count": 9,
   "metadata": {
    "ExecuteTime": {
     "end_time": "2023-05-03T09:58:03.315300Z",
     "start_time": "2023-05-03T09:58:03.309619Z"
    }
   },
   "outputs": [],
   "source": [
    "business_path = '../Data/yelp_academic_dataset_business.json'\n",
    "checkin_path = '../Data/yelp_academic_dataset_checkin.json'\n",
    "review_path = '../Data/yelp_academic_dataset_review.json'\n",
    "\n",
    "# pickle file\n",
    "business_csv = '../Data/business.csv'\n",
    "checkin_pk = '..Data/checkin.pkl'\n",
    "review_csv = '../Data/review.csv'\n",
    "final_pk = '../Data/final.pkl'"
   ]
  },
  {
   "cell_type": "markdown",
   "metadata": {},
   "source": [
    "# Load Data"
   ]
  },
  {
   "cell_type": "code",
   "execution_count": null,
   "metadata": {
    "ExecuteTime": {
     "end_time": "2023-04-11T12:33:50.130214Z",
     "start_time": "2023-04-11T12:32:21.648149Z"
    }
   },
   "outputs": [],
   "source": [
    "# unhash this part if necessary\n",
    "\n",
    "# load review data\n",
    "# r_dict = []\n",
    "\n",
    "# r_dtypes = {\"stars\": np.float16, \n",
    "#             \"useful\": np.int32, \n",
    "#             \"funny\": np.int32,\n",
    "#             \"cool\": np.int32,\n",
    "#            }\n",
    "# with open(review_path, \"r\") as f:\n",
    "#     reader = pd.read_json(f, orient=\"records\", lines=True, \n",
    "#                           dtype=r_dtypes, chunksize=1000)\n",
    "#     for chunk in reader:\n",
    "#         # get 5 years data from '2018-2022'\n",
    "#         reduced_chunk = chunk.drop(columns=['review_id', 'user_id'])\\\n",
    "#                              .query(\"date >= '2017-1-01'\").query(\"date <= '2022-12-31'\")\n",
    "#         r_dict.append(reduced_chunk)\n",
    "    \n",
    "# r_dict = pd.concat(r_dict, ignore_index=True)\n",
    "\n",
    "# # load business data\n",
    "# b_dict =[]\n",
    "\n",
    "# with open(business_path, \"r\") as f:\n",
    "#     reader = pd.read_json(f, orient=\"records\", lines=True, chunksize=1000)\n",
    "        \n",
    "#     for chunk in reader:\n",
    "#         b_dict.append(chunk)\n",
    "    \n",
    "# b_dict = pd.concat(b_dict, ignore_index=True)\n",
    "\n",
    "# # load check-in data\n",
    "# c_dict =[]\n",
    "\n",
    "# with open(checkin_path, \"r\") as f:\n",
    "#     reader = pd.read_json(f, orient=\"records\", lines=True, chunksize=1000)\n",
    "        \n",
    "#     for chunk in reader:\n",
    "# #         reduced_chunk = chunk.drop(\n",
    "# #             columns=['postal_code','latitude','longitude','is_open','attributes','hours'])\n",
    "#         c_dict.append(chunk)\n",
    "    \n",
    "# c_dict = pd.concat(c_dict, ignore_index=True)\n",
    "\n",
    "# # load tip data\n",
    "# t_dict =[]\n",
    "\n",
    "# with open(tip_path, \"r\") as f:\n",
    "#     reader = pd.read_json(f, orient=\"records\", lines=True, chunksize=1000)\n",
    "        \n",
    "#     for chunk in reader:\n",
    "#         reduced_chunk = chunk.drop(\n",
    "#             columns=['user_id'])\n",
    "#         t_dict.append(reduced_chunk)\n",
    "    \n",
    "# t_dict = pd.concat(t_dict, ignore_index=True)"
   ]
  },
  {
   "cell_type": "code",
   "execution_count": null,
   "metadata": {
    "ExecuteTime": {
     "end_time": "2023-04-11T12:34:35.712451Z",
     "start_time": "2023-04-11T12:34:35.580524Z"
    }
   },
   "outputs": [],
   "source": [
    "# business_df = pd.DataFrame(b_dict)\n",
    "# review_df = pd.DataFrame(r_dict)\n",
    "# checkin_df = pd.DataFrame(c_dict)\n",
    "# tip_df = pd.DataFrame(t_dict)"
   ]
  },
  {
   "cell_type": "code",
   "execution_count": null,
   "metadata": {
    "ExecuteTime": {
     "end_time": "2023-04-11T12:35:15.637643Z",
     "start_time": "2023-04-11T12:35:07.237901Z"
    }
   },
   "outputs": [],
   "source": [
    "# review_df.to_pickle(\"../Data/yelp/review.pkl\")  \n",
    "# business_df.to_pickle(\"../Data/yelp/business.pkl\") \n",
    "# checkin_df.to_pickle(\"../Data/yelp/checkin.pkl\")  \n",
    "# tip_df.to_pickle(\"../Data/yelp/tip.pkl\")  "
   ]
  },
  {
   "cell_type": "markdown",
   "metadata": {},
   "source": [
    "# Join tables"
   ]
  },
  {
   "cell_type": "code",
   "execution_count": 11,
   "metadata": {
    "ExecuteTime": {
     "end_time": "2023-05-03T10:03:41.439327Z",
     "start_time": "2023-05-03T10:03:39.279000Z"
    }
   },
   "outputs": [
    {
     "name": "stdout",
     "output_type": "stream",
     "text": [
      "(3838105, 7)\n",
      "(150346, 14)\n"
     ]
    }
   ],
   "source": [
    "business_df = pd.read_csv(business_csv)\n",
    "review_df = pd.read_csv(review_csv)\n",
    "# checkin_df = pd.read_pickle(checkin_pk)\n",
    "# tip_df = pd.read_pickle(tip_pk)\n",
    "\n",
    "# print shape\n",
    "print(review_df.shape)\n",
    "print(business_df.shape)\n",
    "# print(checkin_df.shape)\n",
    "# print(tip_df.shape)\n"
   ]
  },
  {
   "cell_type": "code",
   "execution_count": 12,
   "metadata": {
    "ExecuteTime": {
     "end_time": "2023-05-03T10:03:43.643928Z",
     "start_time": "2023-05-03T10:03:42.404791Z"
    }
   },
   "outputs": [
    {
     "name": "stdout",
     "output_type": "stream",
     "text": [
      "(3117235, 7)\n",
      "(119698, 14)\n"
     ]
    }
   ],
   "source": [
    "#### All sorts of processing \n",
    "\n",
    "# get 50 reviews above \n",
    "review_df = review_df[review_df.groupby('business_id')['business_id'].transform('count')>=20]\n",
    "print(review_df.shape)\n",
    "\n",
    "# # get only the open stores\n",
    "business_df = business_df[business_df.is_open==1]\n",
    "print(business_df.shape)\n",
    "\n",
    "# # spread the check-in data\n",
    "# checkin_df = checkin_df.assign(date=checkin_df.date.str.split(','))\n",
    "# checkin_df = checkin_df.explode('date')\n",
    "# print(checkin_df.shape)"
   ]
  },
  {
   "cell_type": "code",
   "execution_count": 13,
   "metadata": {
    "ExecuteTime": {
     "end_time": "2023-05-03T10:03:47.132590Z",
     "start_time": "2023-05-03T10:03:45.225482Z"
    }
   },
   "outputs": [],
   "source": [
    "# join tables\n",
    "final_df = review_df.merge(business_df, on='business_id')"
   ]
  },
  {
   "cell_type": "code",
   "execution_count": 14,
   "metadata": {
    "ExecuteTime": {
     "end_time": "2023-05-03T10:03:47.146281Z",
     "start_time": "2023-05-03T10:03:47.146272Z"
    }
   },
   "outputs": [
    {
     "data": {
      "text/plain": [
       "(2812563, 20)"
      ]
     },
     "execution_count": 14,
     "metadata": {},
     "output_type": "execute_result"
    }
   ],
   "source": [
    "final_df.shape"
   ]
  },
  {
   "cell_type": "code",
   "execution_count": 15,
   "metadata": {
    "ExecuteTime": {
     "end_time": "2023-05-03T10:04:20.506534Z",
     "start_time": "2023-05-03T10:03:48.417511Z"
    }
   },
   "outputs": [
    {
     "name": "stdout",
     "output_type": "stream",
     "text": [
      "(2112553, 20)\n",
      "(700010, 20)\n"
     ]
    }
   ],
   "source": [
    "# create only restaurant dataset\n",
    "drop_l = []\n",
    "for i in range(len(final_df)):\n",
    "    try:\n",
    "        if 'Restaurant' not in final_df.categories[i]:\n",
    "            drop_l.append(final_df.business_id[i])\n",
    "    except:\n",
    "        pass\n",
    "drop_l = list(set(drop_l))\n",
    "\n",
    "df = final_df[~final_df.business_id.isin(drop_l)]\n",
    "\n",
    "print(df.shape)\n",
    "\n",
    "\n",
    "\n",
    "# create with \n",
    "venues_df = final_df[final_df.business_id.isin(drop_l)]\n",
    "print(venues_df.shape)"
   ]
  },
  {
   "cell_type": "code",
   "execution_count": 16,
   "metadata": {
    "ExecuteTime": {
     "end_time": "2023-05-03T10:12:47.278773Z",
     "start_time": "2023-05-03T10:12:47.144130Z"
    }
   },
   "outputs": [
    {
     "data": {
      "text/plain": [
       "15522"
      ]
     },
     "execution_count": 16,
     "metadata": {},
     "output_type": "execute_result"
    }
   ],
   "source": [
    "len(Counter(df.name))"
   ]
  },
  {
   "cell_type": "code",
   "execution_count": 17,
   "metadata": {
    "ExecuteTime": {
     "end_time": "2023-04-12T13:18:14.405773Z",
     "start_time": "2023-04-12T13:18:06.164637Z"
    }
   },
   "outputs": [],
   "source": [
    "df.to_pickle(\"../Data/restaurant_only.pkl\")  \n",
    "venues_df.to_pickle(\"../Data/other_venues.pkl\")  "
   ]
  },
  {
   "cell_type": "markdown",
   "metadata": {},
   "source": [
    "# Trim Dataset"
   ]
  },
  {
   "cell_type": "code",
   "execution_count": 18,
   "metadata": {
    "ExecuteTime": {
     "end_time": "2023-04-19T10:22:23.608680Z",
     "start_time": "2023-04-19T10:22:22.133087Z"
    }
   },
   "outputs": [],
   "source": [
    "df = pd.read_pickle('../Data/restaurant_only.pkl')"
   ]
  },
  {
   "cell_type": "code",
   "execution_count": 19,
   "metadata": {
    "ExecuteTime": {
     "end_time": "2023-04-19T10:22:23.621945Z",
     "start_time": "2023-04-19T10:22:23.621935Z"
    }
   },
   "outputs": [
    {
     "data": {
      "text/plain": [
       "(2112553, 20)"
      ]
     },
     "execution_count": 19,
     "metadata": {},
     "output_type": "execute_result"
    }
   ],
   "source": [
    "df.shape"
   ]
  },
  {
   "cell_type": "code",
   "execution_count": 20,
   "metadata": {
    "ExecuteTime": {
     "end_time": "2023-04-19T10:22:23.624198Z",
     "start_time": "2023-04-19T10:22:23.624183Z"
    }
   },
   "outputs": [
    {
     "data": {
      "text/plain": [
       "Index(['business_id', 'stars_x', 'useful', 'funny', 'cool', 'text', 'date',\n",
       "       'name', 'address', 'city', 'state', 'postal_code', 'latitude',\n",
       "       'longitude', 'stars_y', 'review_count', 'is_open', 'attributes',\n",
       "       'categories', 'hours'],\n",
       "      dtype='object')"
      ]
     },
     "execution_count": 20,
     "metadata": {},
     "output_type": "execute_result"
    }
   ],
   "source": [
    "df.columns"
   ]
  },
  {
   "cell_type": "code",
   "execution_count": null,
   "metadata": {
    "ExecuteTime": {
     "end_time": "2023-04-19T10:22:23.626188Z",
     "start_time": "2023-04-19T10:22:23.626179Z"
    }
   },
   "outputs": [],
   "source": [
    "# # get restaurants with 2-12 postal codes\n",
    "# final_df = pd.DataFrame()\n",
    "# for i in Counter(df.name):\n",
    "#     tmp = df[df.name==i].reset_index(drop=True)\n",
    "#     drop_l = [i for i in range(len(tmp)) if not tmp.postal_code[i].isdigit()]\n",
    "#     tmp = tmp.drop(drop_l)\n",
    "#     if len(Counter(tmp.postal_code))>1 and len(Counter(tmp.postal_code)) <=12:\n",
    "#         final_df = pd.concat([final_df, tmp])"
   ]
  },
  {
   "cell_type": "code",
   "execution_count": 22,
   "metadata": {},
   "outputs": [],
   "source": [
    "df = df.drop(columns=['stars_x', 'useful', 'funny', 'cool', 'text', 'date','address', 'city', 'state','latitude',\n",
    "       'longitude', 'stars_y','is_open', 'attributes','hours' ])"
   ]
  },
  {
   "cell_type": "code",
   "execution_count": 23,
   "metadata": {
    "ExecuteTime": {
     "end_time": "2023-04-19T13:22:22.839019Z",
     "start_time": "2023-04-19T13:04:49.556224Z"
    }
   },
   "outputs": [],
   "source": [
    "# # get restaurants with 3-12 postal codes\n",
    "\n",
    "# 排除掉偏鄉地帶\n",
    "postal_res_count = {}\n",
    "for i in Counter(df.postal_code):\n",
    "    tmp = df[df.postal_code==i]\n",
    "    postal_res_count[i]=len(Counter(tmp.name))\n",
    "\n",
    "drop_l = [i for i in postal_res_count if postal_res_count[i]<5]\n",
    "df = df[~df.postal_code.isin(drop_l)]\n",
    "\n",
    "\n",
    "final_df = pd.DataFrame()\n",
    "for i in Counter(df.name):\n",
    "    tmp = df[df.name==i].reset_index(drop=True)\n",
    "    drop_l = [i for i in range(len(tmp)) if not tmp.postal_code[i].isdigit()]\n",
    "    tmp = tmp.drop(drop_l)\n",
    "    if len(Counter(tmp.postal_code))>2 and len(Counter(tmp.postal_code)) <=12:\n",
    "        final_df = pd.concat([final_df, tmp])"
   ]
  },
  {
   "cell_type": "code",
   "execution_count": 24,
   "metadata": {
    "ExecuteTime": {
     "end_time": "2023-04-19T13:23:45.842801Z",
     "start_time": "2023-04-19T13:23:45.837608Z"
    }
   },
   "outputs": [
    {
     "data": {
      "text/plain": [
       "(192547, 5)"
      ]
     },
     "execution_count": 24,
     "metadata": {},
     "output_type": "execute_result"
    }
   ],
   "source": [
    "final_df.shape"
   ]
  },
  {
   "cell_type": "code",
   "execution_count": 25,
   "metadata": {
    "ExecuteTime": {
     "end_time": "2023-04-19T13:23:50.061830Z",
     "start_time": "2023-04-19T13:23:50.038674Z"
    }
   },
   "outputs": [
    {
     "data": {
      "text/plain": [
       "405"
      ]
     },
     "execution_count": 25,
     "metadata": {},
     "output_type": "execute_result"
    }
   ],
   "source": [
    "# it should be 405\n",
    "len(Counter(final_df.name))"
   ]
  },
  {
   "cell_type": "code",
   "execution_count": 26,
   "metadata": {
    "ExecuteTime": {
     "end_time": "2023-04-19T13:24:26.872098Z",
     "start_time": "2023-04-19T13:24:26.717938Z"
    }
   },
   "outputs": [],
   "source": [
    "final_df.to_pickle(\"../data/ORI_by_postal_code_s_dropped.pkl\")"
   ]
  },
  {
   "cell_type": "code",
   "execution_count": null,
   "metadata": {},
   "outputs": [],
   "source": [
    "# ../data/ORI_by_postal_code_s_dropped.pkl for 3 above branches"
   ]
  }
 ],
 "metadata": {
  "kernelspec": {
   "display_name": "steph_env",
   "language": "python",
   "name": "steph_env"
  },
  "language_info": {
   "codemirror_mode": {
    "name": "ipython",
    "version": 3
   },
   "file_extension": ".py",
   "mimetype": "text/x-python",
   "name": "python",
   "nbconvert_exporter": "python",
   "pygments_lexer": "ipython3",
   "version": "3.6.3"
  },
  "toc": {
   "base_numbering": 1,
   "nav_menu": {},
   "number_sections": true,
   "sideBar": true,
   "skip_h1_title": false,
   "title_cell": "Table of Contents",
   "title_sidebar": "Contents",
   "toc_cell": false,
   "toc_position": {
    "height": "calc(100% - 180px)",
    "left": "10px",
    "top": "150px",
    "width": "165px"
   },
   "toc_section_display": true,
   "toc_window_display": true
  },
  "varInspector": {
   "cols": {
    "lenName": 16,
    "lenType": 16,
    "lenVar": 40
   },
   "kernels_config": {
    "python": {
     "delete_cmd_postfix": "",
     "delete_cmd_prefix": "del ",
     "library": "var_list.py",
     "varRefreshCmd": "print(var_dic_list())"
    },
    "r": {
     "delete_cmd_postfix": ") ",
     "delete_cmd_prefix": "rm(",
     "library": "var_list.r",
     "varRefreshCmd": "cat(var_dic_list()) "
    }
   },
   "types_to_exclude": [
    "module",
    "function",
    "builtin_function_or_method",
    "instance",
    "_Feature"
   ],
   "window_display": false
  },
  "vscode": {
   "interpreter": {
    "hash": "11959c651920e8805e8a1fc340b571d7e2a180d45b31b087818b28bdce119fc5"
   }
  }
 },
 "nbformat": 4,
 "nbformat_minor": 2
}
