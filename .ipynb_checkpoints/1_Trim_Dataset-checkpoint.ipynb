{
 "cells": [
  {
   "cell_type": "markdown",
   "metadata": {},
   "source": [
    "# 論文資料及整理\n",
    "* YELP\n",
    "    * EDA\n",
    "    * 50 review above \n",
    "    * join business, check-in and tips"
   ]
  },
  {
   "cell_type": "markdown",
   "metadata": {},
   "source": [
    "# Import"
   ]
  },
  {
   "cell_type": "code",
   "execution_count": 1,
   "metadata": {
    "ExecuteTime": {
     "end_time": "2023-04-12T13:16:33.111500Z",
     "start_time": "2023-04-12T13:16:32.642244Z"
    }
   },
   "outputs": [],
   "source": [
    "import pandas as pd\n",
    "import json\n",
    "import numpy as np\n",
    "from collections import Counter\n",
    "import numpy as np\n",
    "import matplotlib.pyplot as plt"
   ]
  },
  {
   "cell_type": "code",
   "execution_count": 2,
   "metadata": {
    "ExecuteTime": {
     "end_time": "2023-04-12T13:16:33.887387Z",
     "start_time": "2023-04-12T13:16:33.881641Z"
    }
   },
   "outputs": [],
   "source": [
    "business_path = '/home/adam/Steph_C/my_thesis/Data/yelp/yelp_academic_dataset_business.json'\n",
    "checkin_path = '/home/adam/Steph_C/my_thesis/Data/yelp/yelp_academic_dataset_checkin.json'\n",
    "tip_path = '/home/adam/Steph_C/my_thesis/Data/yelp/yelp_academic_dataset_tip.json'\n",
    "review_path = '/home/adam/Steph_C/my_thesis/Data/yelp/yelp_academic_dataset_review.json'\n",
    "\n",
    "# pickle file\n",
    "business_pk = '/home/adam/Steph_C/my_thesis/Data/yelp/business.pkl'\n",
    "checkin_pk = '/home/adam/Steph_C/my_thesis/Data/yelp/checkin.pkl'\n",
    "tip_pk = '/home/adam/Steph_C/my_thesis/Data/yelp/tip.pkl'\n",
    "review_pk = '/home/adam/Steph_C/my_thesis/Data/yelp/review.pkl'\n",
    "final_pk = '/home/adam/Steph_C/my_thesis/Data/yelp/final.pkl'"
   ]
  },
  {
   "cell_type": "markdown",
   "metadata": {},
   "source": [
    "# Load Data"
   ]
  },
  {
   "cell_type": "code",
   "execution_count": null,
   "metadata": {
    "ExecuteTime": {
     "end_time": "2023-04-11T12:33:50.130214Z",
     "start_time": "2023-04-11T12:32:21.648149Z"
    }
   },
   "outputs": [],
   "source": [
    "# unhash this part if necessary\n",
    "\n",
    "# load review data\n",
    "# r_dict = []\n",
    "\n",
    "# r_dtypes = {\"stars\": np.float16, \n",
    "#             \"useful\": np.int32, \n",
    "#             \"funny\": np.int32,\n",
    "#             \"cool\": np.int32,\n",
    "#            }\n",
    "# with open(review_path, \"r\") as f:\n",
    "#     reader = pd.read_json(f, orient=\"records\", lines=True, \n",
    "#                           dtype=r_dtypes, chunksize=1000)\n",
    "#     for chunk in reader:\n",
    "#         # get 5 years data from '2018-2022'\n",
    "#         reduced_chunk = chunk.drop(columns=['review_id', 'user_id'])\\\n",
    "#                              .query(\"date >= '2017-1-01'\").query(\"date <= '2022-12-31'\")\n",
    "#         r_dict.append(reduced_chunk)\n",
    "    \n",
    "# r_dict = pd.concat(r_dict, ignore_index=True)\n",
    "\n",
    "# # load business data\n",
    "# b_dict =[]\n",
    "\n",
    "# with open(business_path, \"r\") as f:\n",
    "#     reader = pd.read_json(f, orient=\"records\", lines=True, chunksize=1000)\n",
    "        \n",
    "#     for chunk in reader:\n",
    "#         b_dict.append(chunk)\n",
    "    \n",
    "# b_dict = pd.concat(b_dict, ignore_index=True)\n",
    "\n",
    "# # load check-in data\n",
    "# c_dict =[]\n",
    "\n",
    "# with open(checkin_path, \"r\") as f:\n",
    "#     reader = pd.read_json(f, orient=\"records\", lines=True, chunksize=1000)\n",
    "        \n",
    "#     for chunk in reader:\n",
    "# #         reduced_chunk = chunk.drop(\n",
    "# #             columns=['postal_code','latitude','longitude','is_open','attributes','hours'])\n",
    "#         c_dict.append(chunk)\n",
    "    \n",
    "# c_dict = pd.concat(c_dict, ignore_index=True)\n",
    "\n",
    "# # load tip data\n",
    "# t_dict =[]\n",
    "\n",
    "# with open(tip_path, \"r\") as f:\n",
    "#     reader = pd.read_json(f, orient=\"records\", lines=True, chunksize=1000)\n",
    "        \n",
    "#     for chunk in reader:\n",
    "#         reduced_chunk = chunk.drop(\n",
    "#             columns=['user_id'])\n",
    "#         t_dict.append(reduced_chunk)\n",
    "    \n",
    "# t_dict = pd.concat(t_dict, ignore_index=True)"
   ]
  },
  {
   "cell_type": "code",
   "execution_count": null,
   "metadata": {
    "ExecuteTime": {
     "end_time": "2023-04-11T12:34:35.712451Z",
     "start_time": "2023-04-11T12:34:35.580524Z"
    }
   },
   "outputs": [],
   "source": [
    "# business_df = pd.DataFrame(b_dict)\n",
    "# review_df = pd.DataFrame(r_dict)\n",
    "# checkin_df = pd.DataFrame(c_dict)\n",
    "# tip_df = pd.DataFrame(t_dict)"
   ]
  },
  {
   "cell_type": "code",
   "execution_count": null,
   "metadata": {
    "ExecuteTime": {
     "end_time": "2023-04-11T12:35:15.637643Z",
     "start_time": "2023-04-11T12:35:07.237901Z"
    }
   },
   "outputs": [],
   "source": [
    "# review_df.to_pickle(\"../Data/yelp/review.pkl\")  \n",
    "# business_df.to_pickle(\"../Data/yelp/business.pkl\") \n",
    "# checkin_df.to_pickle(\"../Data/yelp/checkin.pkl\")  \n",
    "# tip_df.to_pickle(\"../Data/yelp/tip.pkl\")  "
   ]
  },
  {
   "cell_type": "markdown",
   "metadata": {},
   "source": [
    "# Join tables"
   ]
  },
  {
   "cell_type": "code",
   "execution_count": 3,
   "metadata": {
    "ExecuteTime": {
     "end_time": "2023-04-12T13:16:48.784389Z",
     "start_time": "2023-04-12T13:16:43.830624Z"
    }
   },
   "outputs": [],
   "source": [
    "business_df = pd.read_pickle (business_pk)\n",
    "review_df = pd.read_pickle(review_pk)\n",
    "# checkin_df = pd.read_pickle(checkin_pk)\n",
    "# tip_df = pd.read_pickle(tip_pk)\n",
    "\n",
    "# print shape\n",
    "# print(review_df.shape)\n",
    "# print(business_df.shape)\n",
    "# print(checkin_df.shape)\n",
    "# print(tip_df.shape)\n"
   ]
  },
  {
   "cell_type": "code",
   "execution_count": 4,
   "metadata": {
    "ExecuteTime": {
     "end_time": "2023-04-12T13:16:58.038451Z",
     "start_time": "2023-04-12T13:16:56.903316Z"
    }
   },
   "outputs": [
    {
     "name": "stdout",
     "output_type": "stream",
     "text": [
      "(3117235, 7)\n",
      "(119698, 14)\n"
     ]
    }
   ],
   "source": [
    "#### All sorts of processing \n",
    "\n",
    "# get 50 reviews above \n",
    "review_df = review_df[review_df.groupby('business_id')['business_id'].transform('count')>=20]\n",
    "print(review_df.shape)\n",
    "\n",
    "# get only the open stores\n",
    "business_df = business_df[business_df.is_open==1]\n",
    "print(business_df.shape)\n",
    "\n",
    "# # spread the check-in data\n",
    "# checkin_df = checkin_df.assign(date=checkin_df.date.str.split(','))\n",
    "# checkin_df = checkin_df.explode('date')\n",
    "# print(checkin_df.shape)"
   ]
  },
  {
   "cell_type": "code",
   "execution_count": 5,
   "metadata": {
    "ExecuteTime": {
     "end_time": "2023-04-12T13:17:15.883670Z",
     "start_time": "2023-04-12T13:17:14.224246Z"
    }
   },
   "outputs": [],
   "source": [
    "# join tables\n",
    "final_df = review_df.merge(business_df, on='business_id')"
   ]
  },
  {
   "cell_type": "code",
   "execution_count": 6,
   "metadata": {
    "ExecuteTime": {
     "end_time": "2023-04-12T13:17:18.154062Z",
     "start_time": "2023-04-12T13:17:18.145769Z"
    }
   },
   "outputs": [
    {
     "data": {
      "text/plain": [
       "(2812563, 20)"
      ]
     },
     "execution_count": 6,
     "metadata": {},
     "output_type": "execute_result"
    }
   ],
   "source": [
    "final_df.shape"
   ]
  },
  {
   "cell_type": "code",
   "execution_count": 7,
   "metadata": {
    "ExecuteTime": {
     "end_time": "2023-04-12T13:18:02.154572Z",
     "start_time": "2023-04-12T13:17:30.931614Z"
    }
   },
   "outputs": [
    {
     "name": "stdout",
     "output_type": "stream",
     "text": [
      "(2112553, 20)\n",
      "(700010, 20)\n"
     ]
    }
   ],
   "source": [
    "# create only restaurant dataset\n",
    "drop_l = []\n",
    "for i in range(len(final_df)):\n",
    "    try:\n",
    "        if 'Restaurant' not in final_df.categories[i]:\n",
    "            drop_l.append(final_df.business_id[i])\n",
    "    except:\n",
    "        pass\n",
    "drop_l = list(set(drop_l))\n",
    "\n",
    "df = final_df[~final_df.business_id.isin(drop_l)]\n",
    "\n",
    "print(df.shape)\n",
    "\n",
    "\n",
    "\n",
    "# create with \n",
    "venues_df = final_df[final_df.business_id.isin(drop_l)]\n",
    "print(venues_df.shape)"
   ]
  },
  {
   "cell_type": "code",
   "execution_count": 8,
   "metadata": {
    "ExecuteTime": {
     "end_time": "2023-04-12T13:18:14.405773Z",
     "start_time": "2023-04-12T13:18:06.164637Z"
    }
   },
   "outputs": [],
   "source": [
    "df.to_pickle(\"../Data/yelp/restaurant_only.pkl\")  \n",
    "venues_df.to_pickle(\"../Data/yelp/other_venues.pkl\")  "
   ]
  },
  {
   "cell_type": "markdown",
   "metadata": {},
   "source": [
    "# Trim Dataset"
   ]
  },
  {
   "cell_type": "code",
   "execution_count": null,
   "metadata": {
    "ExecuteTime": {
     "end_time": "2023-04-11T12:41:01.352925Z",
     "start_time": "2023-04-11T12:40:59.989948Z"
    }
   },
   "outputs": [],
   "source": [
    "df = pd.read_pickle('../Data/yelp/restaurant_only.pkl')"
   ]
  },
  {
   "cell_type": "code",
   "execution_count": null,
   "metadata": {
    "ExecuteTime": {
     "end_time": "2023-04-11T12:41:01.904698Z",
     "start_time": "2023-04-11T12:41:01.898735Z"
    }
   },
   "outputs": [],
   "source": [
    "df.shape"
   ]
  },
  {
   "cell_type": "code",
   "execution_count": null,
   "metadata": {
    "ExecuteTime": {
     "end_time": "2023-04-11T12:41:05.951891Z",
     "start_time": "2023-04-11T12:41:05.945840Z"
    }
   },
   "outputs": [],
   "source": [
    "df.columns"
   ]
  },
  {
   "cell_type": "code",
   "execution_count": null,
   "metadata": {
    "ExecuteTime": {
     "end_time": "2023-04-11T12:50:53.964759Z",
     "start_time": "2023-04-11T12:41:15.506720Z"
    }
   },
   "outputs": [],
   "source": [
    "# get restaurants with 2-6 postal codes\n",
    "final_df = pd.DataFrame()\n",
    "for i in Counter(df.name):\n",
    "    tmp = df[df.name==i].reset_index(drop=True)\n",
    "    drop_l = [i for i in range(len(tmp)) if not tmp.postal_code[i].isdigit()]\n",
    "    tmp = tmp.drop(drop_l)\n",
    "    if len(Counter(tmp.postal_code))>1 and len(Counter(tmp.postal_code)) <=6:\n",
    "        final_df = pd.concat([final_df, tmp])"
   ]
  },
  {
   "cell_type": "code",
   "execution_count": null,
   "metadata": {
    "ExecuteTime": {
     "end_time": "2023-04-11T12:52:23.275230Z",
     "start_time": "2023-04-11T12:52:23.253558Z"
    }
   },
   "outputs": [],
   "source": [
    "# it should be 565\n",
    "len(Counter(final_df.name))"
   ]
  },
  {
   "cell_type": "code",
   "execution_count": null,
   "metadata": {
    "ExecuteTime": {
     "end_time": "2023-04-11T12:52:57.325850Z",
     "start_time": "2023-04-11T12:52:56.784554Z"
    }
   },
   "outputs": [],
   "source": [
    "final_df.to_pickle(\"../data/ORI_by_postal_code.pkl\")  "
   ]
  },
  {
   "cell_type": "code",
   "execution_count": null,
   "metadata": {},
   "outputs": [],
   "source": []
  }
 ],
 "metadata": {
  "kernelspec": {
   "display_name": "steph-env",
   "language": "python",
   "name": "steph-env"
  },
  "language_info": {
   "codemirror_mode": {
    "name": "ipython",
    "version": 3
   },
   "file_extension": ".py",
   "mimetype": "text/x-python",
   "name": "python",
   "nbconvert_exporter": "python",
   "pygments_lexer": "ipython3",
   "version": "3.7.5"
  },
  "toc": {
   "base_numbering": 1,
   "nav_menu": {},
   "number_sections": true,
   "sideBar": true,
   "skip_h1_title": false,
   "title_cell": "Table of Contents",
   "title_sidebar": "Contents",
   "toc_cell": false,
   "toc_position": {
    "height": "calc(100% - 180px)",
    "left": "10px",
    "top": "150px",
    "width": "165px"
   },
   "toc_section_display": true,
   "toc_window_display": true
  },
  "varInspector": {
   "cols": {
    "lenName": 16,
    "lenType": 16,
    "lenVar": 40
   },
   "kernels_config": {
    "python": {
     "delete_cmd_postfix": "",
     "delete_cmd_prefix": "del ",
     "library": "var_list.py",
     "varRefreshCmd": "print(var_dic_list())"
    },
    "r": {
     "delete_cmd_postfix": ") ",
     "delete_cmd_prefix": "rm(",
     "library": "var_list.r",
     "varRefreshCmd": "cat(var_dic_list()) "
    }
   },
   "types_to_exclude": [
    "module",
    "function",
    "builtin_function_or_method",
    "instance",
    "_Feature"
   ],
   "window_display": false
  },
  "vscode": {
   "interpreter": {
    "hash": "11959c651920e8805e8a1fc340b571d7e2a180d45b31b087818b28bdce119fc5"
   }
  }
 },
 "nbformat": 4,
 "nbformat_minor": 2
}
