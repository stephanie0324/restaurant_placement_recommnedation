{
 "cells": [
  {
   "cell_type": "markdown",
   "metadata": {},
   "source": [
    "# 觀察資料分布\n",
    "* YELP\n",
    "    * 50 review above \n",
    "    * join business, check-in and tips"
   ]
  },
  {
   "cell_type": "markdown",
   "metadata": {},
   "source": [
    "# Import"
   ]
  },
  {
   "cell_type": "code",
   "execution_count": 2,
   "metadata": {
    "ExecuteTime": {
     "end_time": "2023-04-18T06:08:46.887979Z",
     "start_time": "2023-04-18T06:08:46.411241Z"
    }
   },
   "outputs": [],
   "source": [
    "import pandas as pd\n",
    "import json\n",
    "import numpy as np\n",
    "from collections import Counter\n",
    "import numpy as np\n",
    "import matplotlib.pyplot as plt"
   ]
  },
  {
   "cell_type": "code",
   "execution_count": 3,
   "metadata": {
    "ExecuteTime": {
     "end_time": "2023-04-18T06:08:48.213124Z",
     "start_time": "2023-04-18T06:08:47.599542Z"
    }
   },
   "outputs": [],
   "source": [
    "df_l = pd.read_pickle(\"/home/adam/Steph_C/my_thesis/data/ORI_by_postal_code_L.pkl\")\n",
    "df = pd.read_pickle(\"/home/adam/Steph_C/my_thesis/data/ORI_by_postal_code.pkl\")"
   ]
  },
  {
   "cell_type": "code",
   "execution_count": 4,
   "metadata": {
    "ExecuteTime": {
     "end_time": "2023-04-18T06:08:54.790424Z",
     "start_time": "2023-04-18T06:08:54.783295Z"
    }
   },
   "outputs": [
    {
     "data": {
      "text/plain": [
       "((250798, 20), (358897, 20))"
      ]
     },
     "execution_count": 4,
     "metadata": {},
     "output_type": "execute_result"
    }
   ],
   "source": [
    "df.shape , df_l.shape"
   ]
  },
  {
   "cell_type": "code",
   "execution_count": 5,
   "metadata": {
    "ExecuteTime": {
     "end_time": "2023-04-18T06:09:17.039201Z",
     "start_time": "2023-04-18T06:09:16.994183Z"
    }
   },
   "outputs": [
    {
     "data": {
      "text/plain": [
       "(565, 1070)"
      ]
     },
     "execution_count": 5,
     "metadata": {},
     "output_type": "execute_result"
    }
   ],
   "source": [
    "len(Counter(df.name)), len(Counter(df_l.name))"
   ]
  },
  {
   "cell_type": "markdown",
   "metadata": {},
   "source": [
    "# 個資料集比較\n",
    "* 找出是否有餐廳在偏鄉地點，偏鄉 filter by 餐廳數。"
   ]
  },
  {
   "cell_type": "code",
   "execution_count": 6,
   "metadata": {
    "ExecuteTime": {
     "end_time": "2023-04-18T06:13:24.604717Z",
     "start_time": "2023-04-18T06:13:24.557565Z"
    }
   },
   "outputs": [
    {
     "data": {
      "text/plain": [
       "(356, 516)"
      ]
     },
     "execution_count": 6,
     "metadata": {},
     "output_type": "execute_result"
    }
   ],
   "source": [
    "len(Counter(df.postal_code)), len(Counter(df_l.postal_code))"
   ]
  },
  {
   "cell_type": "code",
   "execution_count": 7,
   "metadata": {
    "ExecuteTime": {
     "end_time": "2023-04-18T06:18:17.913295Z",
     "start_time": "2023-04-18T06:18:07.771016Z"
    }
   },
   "outputs": [],
   "source": [
    "# Count postal_code's restaurant number\n",
    "cnt = 0\n",
    "postal_res_count ={}\n",
    "postal_res_count_l ={}\n",
    "\n",
    "for i in Counter(df.postal_code):\n",
    "    tmp = df[df.postal_code==i]\n",
    "    postal_res_count[i]=len(Counter(tmp.name))\n",
    "\n",
    "for i in Counter(df_l.postal_code):\n",
    "    tmp = df_l[df_l.postal_code==i]\n",
    "    postal_res_count_l[i]=len(Counter(tmp.name))"
   ]
  },
  {
   "cell_type": "code",
   "execution_count": 27,
   "metadata": {
    "ExecuteTime": {
     "end_time": "2023-04-18T06:37:06.981421Z",
     "start_time": "2023-04-18T06:37:05.655181Z"
    }
   },
   "outputs": [
    {
     "name": "stdout",
     "output_type": "stream",
     "text": [
      "The total no. of postal codes : 356\n",
      "The total no. of postal codes with restaurant less than 5 : 254\n"
     ]
    },
    {
     "data": {
      "image/png": "[encoded data removed]",
      "text/plain": [
       "<Figure size 432x288 with 1 Axes>"
      ]
     },
     "metadata": {
      "needs_background": "light"
     },
     "output_type": "display_data"
    }
   ],
   "source": [
    "print(f'The total no. of postal codes : {len(postal_res_count)}')\n",
    "print(f'The total no. of postal codes with restaurant less than 5 : {len([i for i in postal_res_count.values() if i<5])}')\n",
    "\n",
    "lists = sorted(postal_res_count.items(), key=lambda x:x[1], reverse = True)\n",
    "x, y = zip(*lists) # unpack a list of pairs into two tuples\n",
    "\n",
    "plt.plot(x, y)\n",
    "plt.show()\n"
   ]
  },
  {
   "cell_type": "code",
   "execution_count": 28,
   "metadata": {
    "ExecuteTime": {
     "end_time": "2023-04-18T06:37:25.101028Z",
     "start_time": "2023-04-18T06:37:23.192467Z"
    }
   },
   "outputs": [
    {
     "name": "stdout",
     "output_type": "stream",
     "text": [
      "The total no. of postal codes : 516\n",
      "The total no. of postal codes with restaurant less than 5 : 275\n"
     ]
    },
    {
     "data": {
      "image/png": "[encoded data removed]",
      "text/plain": [
       "<Figure size 432x288 with 1 Axes>"
      ]
     },
     "metadata": {
      "needs_background": "light"
     },
     "output_type": "display_data"
    }
   ],
   "source": [
    "print(f'The total no. of postal codes : {len(postal_res_count_l)}')\n",
    "print(f'The total no. of postal codes with restaurant less than 5 : {len([i for i in postal_res_count_l.values() if i<5])}')\n",
    "\n",
    "lists = sorted(postal_res_count_l.items(), key=lambda x:x[1], reverse = True)\n",
    "x, y = zip(*lists) # unpack a list of pairs into two tuples\n",
    "\n",
    "plt.plot(x, y)\n",
    "plt.show()\n"
   ]
  },
  {
   "cell_type": "code",
   "execution_count": null,
   "metadata": {},
   "outputs": [],
   "source": []
  }
 ],
 "metadata": {
  "kernelspec": {
   "display_name": "steph-env",
   "language": "python",
   "name": "steph-env"
  },
  "language_info": {
   "codemirror_mode": {
    "name": "ipython",
    "version": 3
   },
   "file_extension": ".py",
   "mimetype": "text/x-python",
   "name": "python",
   "nbconvert_exporter": "python",
   "pygments_lexer": "ipython3",
   "version": "3.7.5"
  },
  "toc": {
   "base_numbering": 1,
   "nav_menu": {},
   "number_sections": true,
   "sideBar": true,
   "skip_h1_title": false,
   "title_cell": "Table of Contents",
   "title_sidebar": "Contents",
   "toc_cell": false,
   "toc_position": {
    "height": "calc(100% - 180px)",
    "left": "10px",
    "top": "150px",
    "width": "288px"
   },
   "toc_section_display": true,
   "toc_window_display": false
  },
  "varInspector": {
   "cols": {
    "lenName": 16,
    "lenType": 16,
    "lenVar": 40
   },
   "kernels_config": {
    "python": {
     "delete_cmd_postfix": "",
     "delete_cmd_prefix": "del ",
     "library": "var_list.py",
     "varRefreshCmd": "print(var_dic_list())"
    },
    "r": {
     "delete_cmd_postfix": ") ",
     "delete_cmd_prefix": "rm(",
     "library": "var_list.r",
     "varRefreshCmd": "cat(var_dic_list()) "
    }
   },
   "types_to_exclude": [
    "module",
    "function",
    "builtin_function_or_method",
    "instance",
    "_Feature"
   ],
   "window_display": false
  },
  "vscode": {
   "interpreter": {
    "hash": "11959c651920e8805e8a1fc340b571d7e2a180d45b31b087818b28bdce119fc5"
   }
  }
 },
 "nbformat": 4,
 "nbformat_minor": 2
}
