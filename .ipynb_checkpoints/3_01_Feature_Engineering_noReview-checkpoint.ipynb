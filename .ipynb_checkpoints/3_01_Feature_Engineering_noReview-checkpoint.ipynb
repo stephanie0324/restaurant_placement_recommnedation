{
 "cells": [
  {
   "cell_type": "markdown",
   "id": "authentic-hotel",
   "metadata": {},
   "source": [
    "# Create the features DF\n",
    "* using by_postal_code dataset"
   ]
  },
  {
   "cell_type": "markdown",
   "id": "trying-nutrition",
   "metadata": {},
   "source": [
    "# Import"
   ]
  },
  {
   "cell_type": "code",
   "execution_count": 23,
   "id": "intensive-marker",
   "metadata": {
    "ExecuteTime": {
     "end_time": "2023-05-12T05:15:27.684054Z",
     "start_time": "2023-05-12T05:15:27.678566Z"
    },
    "vscode": {
     "languageId": "python"
    }
   },
   "outputs": [],
   "source": [
    "import pandas as pd\n",
    "import json\n",
    "import numpy as np\n",
    "from collections import Counter\n",
    "import pickle\n",
    "import math \n",
    "from sklearn.model_selection import train_test_split\n",
    "\n",
    "from scipy import sparse as sp\n",
    "from sklearn.feature_extraction.text import CountVectorizer\n",
    "from sklearn.feature_extraction.text import TfidfTransformer\n",
    "from sklearn.pipeline import Pipeline\n",
    "from sklearn.preprocessing import LabelEncoder\n",
    "from sklearn.feature_selection import chi2\n",
    "from sklearn.feature_selection import SelectKBest"
   ]
  },
  {
   "cell_type": "code",
   "execution_count": 24,
   "id": "fabulous-disorder",
   "metadata": {
    "ExecuteTime": {
     "end_time": "2023-05-12T05:15:28.902614Z",
     "start_time": "2023-05-12T05:15:28.899021Z"
    },
    "vscode": {
     "languageId": "python"
    }
   },
   "outputs": [],
   "source": [
    "RANDOM_STATE = 24"
   ]
  },
  {
   "cell_type": "code",
   "execution_count": 32,
   "id": "coupled-inflation",
   "metadata": {
    "ExecuteTime": {
     "end_time": "2023-05-12T05:21:29.604680Z",
     "start_time": "2023-05-12T05:21:26.001235Z"
    },
    "vscode": {
     "languageId": "python"
    }
   },
   "outputs": [],
   "source": [
    "res_df = pd.read_pickle ('../data/ORI_by_postal_code_s_dropped.pkl')\n",
    "postal_code_feature_dict = pickle.load(open(\"../data/postal_dict.pkl\", \"rb\"))\n",
    "all_df = pd.read_pickle('../Data/restaurant_only.pkl')"
   ]
  },
  {
   "cell_type": "code",
   "execution_count": 28,
   "id": "common-feelings",
   "metadata": {
    "ExecuteTime": {
     "end_time": "2023-05-12T05:18:56.716210Z",
     "start_time": "2023-05-12T05:18:56.710521Z"
    },
    "vscode": {
     "languageId": "python"
    }
   },
   "outputs": [
    {
     "name": "stdout",
     "output_type": "stream",
     "text": [
      "(1848, 5) (387723, 20)\n"
     ]
    }
   ],
   "source": [
    "print(res_df.shape , all_df.shape)"
   ]
  },
  {
   "cell_type": "code",
   "execution_count": 29,
   "id": "immediate-sheffield",
   "metadata": {
    "ExecuteTime": {
     "end_time": "2023-05-12T05:19:01.586873Z",
     "start_time": "2023-05-12T05:19:01.581864Z"
    },
    "vscode": {
     "languageId": "python"
    }
   },
   "outputs": [
    {
     "data": {
      "text/plain": [
       "405"
      ]
     },
     "execution_count": 29,
     "metadata": {},
     "output_type": "execute_result"
    }
   ],
   "source": [
    "len(Counter(res_df.name))"
   ]
  },
  {
   "cell_type": "code",
   "execution_count": 9,
   "id": "exclusive-brazil",
   "metadata": {
    "ExecuteTime": {
     "end_time": "2023-05-10T16:26:46.117598Z",
     "start_time": "2023-05-10T16:26:46.101426Z"
    },
    "vscode": {
     "languageId": "python"
    }
   },
   "outputs": [
    {
     "data": {
      "text/plain": [
       "750"
      ]
     },
     "execution_count": 9,
     "metadata": {},
     "output_type": "execute_result"
    }
   ],
   "source": [
    "len(postal_code_feature_dict)"
   ]
  },
  {
   "cell_type": "code",
   "execution_count": 10,
   "id": "automotive-elephant",
   "metadata": {
    "ExecuteTime": {
     "end_time": "2023-05-10T16:26:49.661316Z",
     "start_time": "2023-05-10T16:26:47.866573Z"
    },
    "vscode": {
     "languageId": "python"
    }
   },
   "outputs": [
    {
     "name": "stderr",
     "output_type": "stream",
     "text": [
      "/mnt/data/emma/bilab/Steph_C/steph_env/lib/python3.6/site-packages/ipykernel_launcher.py:8: SettingWithCopyWarning: \n",
      "A value is trying to be set on a copy of a slice from a DataFrame\n",
      "\n",
      "See the caveats in the documentation: https://pandas.pydata.org/pandas-docs/stable/user_guide/indexing.html#returning-a-view-versus-a-copy\n",
      "  \n"
     ]
    },
    {
     "name": "stdout",
     "output_type": "stream",
     "text": [
      "Relevance score added\n"
     ]
    }
   ],
   "source": [
    "# create relevance score\n",
    "new_df = pd.DataFrame()\n",
    "for i in Counter(res_df.name):\n",
    "    tmp = res_df[res_df.name==i].sort_values(by=['review_count'] ,ascending=False)\n",
    "    tmp['relevance']=''\n",
    "    score = 12\n",
    "    for idx , row in tmp.iterrows():\n",
    "        tmp.relevance[idx] = score\n",
    "        score -=1\n",
    "    new_df = pd.concat([new_df,tmp])\n",
    "\n",
    "# check the shape\n",
    "if new_df.shape[0] != res_df.shape[0]:\n",
    "    print(f'There is a mistake creating the relevance score')\n",
    "else:\n",
    "    print(f'Relevance score added')\n",
    "res_df = new_df"
   ]
  },
  {
   "cell_type": "code",
   "execution_count": null,
   "id": "activated-prerequisite",
   "metadata": {
    "ExecuteTime": {
     "start_time": "2023-05-12T05:26:55.645Z"
    },
    "vscode": {
     "languageId": "python"
    }
   },
   "outputs": [],
   "source": [
    "# unhash if necessary\n",
    "# create a overall postal_code features\n",
    "# postal code and feature dict\n",
    "postal_code_feature_dict = {}\n",
    "\n",
    "for postal in Counter(all_df.postal_code):\n",
    "    \n",
    "    postal_code_feature_dict[postal]={}\n",
    "    tmp = all_df[all_df.postal_code == postal].reset_index(drop=True)\n",
    "    \n",
    "    # density \n",
    "    postal_code_feature_dict[postal]['density'] = len(Counter(tmp.name))\n",
    "    \n",
    "    # neighborhood_entropy\n",
    "    entropy_sum = 0\n",
    "    for category in Counter(tmp.categories):\n",
    "        entropy_sum+=(len(Counter(tmp[tmp.categories==category].name))/len(Counter(tmp.name)))\\\n",
    "        *np.log(len(Counter(tmp[tmp.categories==category].name))/len(Counter(tmp.name)))\n",
    "    postal_code_feature_dict[postal]['entropy'] = -entropy_sum\n",
    "    \n",
    "    # area popularity\n",
    "    postal_code_feature_dict[postal]['area_pop'] = len(tmp)\n",
    "pickle.dump(postal_code_feature_dict, open(\"../data/postal_dict.pkl\" , 'wb'))"
   ]
  },
  {
   "cell_type": "code",
   "execution_count": 12,
   "id": "automated-configuration",
   "metadata": {
    "ExecuteTime": {
     "end_time": "2023-05-10T02:58:33.215374Z",
     "start_time": "2023-05-10T02:53:20.040Z"
    },
    "vscode": {
     "languageId": "python"
    }
   },
   "outputs": [],
   "source": [
    "# # # to check the features\n",
    "# postal_df = pd.DataFrame(postal_code_feature_dict).T.reset_index().rename(columns={'index': 'postal_code'})\n",
    "# postal_df\n",
    "# # Counter(postal_df.complementary)"
   ]
  },
  {
   "cell_type": "markdown",
   "id": "lesser-shift",
   "metadata": {},
   "source": [
    "# Train Test Split with Feature Engineering"
   ]
  },
  {
   "cell_type": "code",
   "execution_count": 13,
   "id": "oriental-campbell",
   "metadata": {
    "ExecuteTime": {
     "end_time": "2023-05-10T16:26:51.537506Z",
     "start_time": "2023-05-10T16:26:51.529064Z"
    },
    "vscode": {
     "languageId": "python"
    }
   },
   "outputs": [],
   "source": [
    "def create_new (new ,category, all_df, postal_df , res_name,postal):\n",
    "    \n",
    "    new = new.drop(columns=['density', 'entropy','area_pop'])\n",
    "    \n",
    "    new['postal_code'] = postal\n",
    "    new = pd.DataFrame(new.merge(postal_df, on='postal_code', how='left'))\n",
    "    new['relevance'] = 0\n",
    "    # add competitiveness\n",
    "    new['competitiveness']=''\n",
    "    place = all_df[all_df.postal_code == postal].reset_index(drop=True)\n",
    "    new['competitiveness'] = -(len(Counter(place[place.categories == category].name))\\\n",
    "                                  /len(Counter(place.name)))\n",
    "    return new"
   ]
  },
  {
   "cell_type": "markdown",
   "id": "excited-leone",
   "metadata": {},
   "source": [
    "## Pointwise"
   ]
  },
  {
   "cell_type": "code",
   "execution_count": 19,
   "id": "coral-france",
   "metadata": {
    "ExecuteTime": {
     "end_time": "2023-05-10T16:27:10.099528Z",
     "start_time": "2023-05-10T16:26:53.539145Z"
    },
    "vscode": {
     "languageId": "python"
    }
   },
   "outputs": [
    {
     "name": "stdout",
     "output_type": "stream",
     "text": [
      "Now progress ... 0\n"
     ]
    },
    {
     "name": "stderr",
     "output_type": "stream",
     "text": [
      "/mnt/data/emma/bilab/Steph_C/steph_env/lib/python3.6/site-packages/ipykernel_launcher.py:39: SettingWithCopyWarning: \n",
      "A value is trying to be set on a copy of a slice from a DataFrame\n",
      "\n",
      "See the caveats in the documentation: https://pandas.pydata.org/pandas-docs/stable/user_guide/indexing.html#returning-a-view-versus-a-copy\n"
     ]
    },
    {
     "name": "stdout",
     "output_type": "stream",
     "text": [
      "Finished constructing....  train res cnt  : 405 test res cnt : 405\n"
     ]
    }
   ],
   "source": [
    "# # POINTWISE v3\n",
    "# 每間正樣本 都取 9個負樣本\n",
    "# # split train test \n",
    "\n",
    "train_df = pd.DataFrame()\n",
    "test_df = pd.DataFrame()\n",
    "\n",
    "postal_df = pd.DataFrame(postal_code_feature_dict).T.reset_index().rename(columns={'index': 'postal_code'})\n",
    "postal_df = postal_df.sort_values(['postal_code'],ascending = [True]).reset_index(drop=True)\n",
    "\n",
    "cnt = 0 \n",
    "\n",
    "for i in Counter(res_df.name):\n",
    "    \n",
    "    if cnt%10 == 0:\n",
    "        print(f'Now progress ... {cnt}')\n",
    "    cnt +=1\n",
    "    \n",
    "    tmp = res_df[res_df.name==i].sort_values(['postal_code'],ascending = [False]).reset_index(drop=True)\n",
    "    category = tmp.categories[0]\n",
    "    \n",
    "    postal_codes_list = list(postal_df.postal_code)\n",
    "    \n",
    "    # remove the known postal codes\n",
    "    for postal in Counter(tmp.postal_code):\n",
    "        postal_codes_list.remove(postal)\n",
    "\n",
    "    # merge with location features\n",
    "    tmp = pd.DataFrame(tmp.merge(postal_df, on='postal_code', how='left')).reset_index(drop=True)\n",
    "    \n",
    "    \n",
    "    # add competitiveness and review \n",
    "    tmp['competitiveness'] = ''\n",
    "    \n",
    "    for j in range(len(tmp)):\n",
    "        \n",
    "        # competitiveness\n",
    "        place = all_df[all_df.postal_code == tmp['postal_code'][j]]\n",
    "        tmp['competitiveness'][j] = -(len(Counter(place[place.categories == category].name))/len(Counter(place.name)))\n",
    "\n",
    "    tmp_train , tmp_test = train_test_split(tmp, test_size=0.33, shuffle= True,random_state=RANDOM_STATE)\n",
    "    \n",
    "    # Train\n",
    "    neg_df = pd.DataFrame()\n",
    "    for index, row in tmp_train.iterrows():\n",
    "        cnt = 0 \n",
    "        category = row.categories\n",
    "\n",
    "        # add the negative samples\n",
    "        for postal in postal_codes_list:\n",
    "            if cnt <9:\n",
    "                if postal in postal_codes_list and\\\n",
    "                abs(int(postal)- int(row['postal_code'])) <= 500:\n",
    "                    cnt+=1\n",
    "                    new = pd.DataFrame(row).T\n",
    "                    new = create_new(new ,category, all_df, postal_df , i,postal)\n",
    "                    neg_df = pd.concat([neg_df ,new ])\n",
    "            else:\n",
    "                break\n",
    "    tmp_train = pd.concat([tmp_train ,neg_df ])\n",
    "    \n",
    "    # Test\n",
    "    neg_df = pd.DataFrame()\n",
    "    for index, row in tmp_test.iterrows():\n",
    "        cnt = 0 \n",
    "        category = row.categories\n",
    "\n",
    "        # add the negative samples\n",
    "        for postal in postal_codes_list:\n",
    "            if cnt <9:\n",
    "                if postal in postal_codes_list and\\\n",
    "                abs(int(postal)- int(row['postal_code'])) <= 500:\n",
    "                    cnt+=1\n",
    "                    new = pd.DataFrame(row).T\n",
    "                    new = create_new(new ,category, all_df, postal_df , i,postal)\n",
    "                    neg_df = pd.concat([neg_df ,new ])\n",
    "            else:\n",
    "                break\n",
    "    tmp_test = pd.concat([tmp_test ,neg_df ])\n",
    "    \n",
    "    if len(tmp_test) + len(tmp_train) < len(tmp)*3:\n",
    "        print(f'There is sth wrong with ... {i}')\n",
    "        break\n",
    "    \n",
    "    train_df = pd.concat([train_df,tmp_train])\n",
    "    test_df = pd.concat([test_df,tmp_test])\n",
    "print(f'Finished constructing....  train res cnt  : {len(Counter(train_df.name))} test res cnt : {len(Counter(test_df.name))}')"
   ]
  },
  {
   "cell_type": "code",
   "execution_count": 20,
   "id": "toxic-teddy",
   "metadata": {
    "ExecuteTime": {
     "end_time": "2023-05-10T10:49:08.681720Z",
     "start_time": "2023-05-10T10:47:42.521Z"
    },
    "vscode": {
     "languageId": "python"
    }
   },
   "outputs": [
    {
     "data": {
      "text/plain": [
       "((11328, 10), (7101, 10))"
      ]
     },
     "execution_count": 20,
     "metadata": {},
     "output_type": "execute_result"
    }
   ],
   "source": [
    "train_df.shape , test_df.shape"
   ]
  },
  {
   "cell_type": "code",
   "execution_count": 16,
   "id": "accurate-ancient",
   "metadata": {
    "ExecuteTime": {
     "end_time": "2023-05-10T10:45:53.021356Z",
     "start_time": "2023-05-10T10:45:35.800Z"
    },
    "vscode": {
     "languageId": "python"
    }
   },
   "outputs": [],
   "source": [
    "for i in ['density', 'entropy', 'competitiveness','area_pop', 'relevance']:\n",
    "    train_df[i] = train_df[i].astype('float')\n",
    "    test_df[i] = test_df[i].astype('float')\n",
    "train_df.to_pickle('../data/Train_by_postoal_code_without_review_pointwise_v3_3.pkl')\n",
    "test_df.to_pickle('../data/Test_by_postoal_code_without_review_pointwise_v3_3.pkl')"
   ]
  },
  {
   "cell_type": "code",
   "execution_count": null,
   "id": "stable-tomorrow",
   "metadata": {
    "vscode": {
     "languageId": "python"
    }
   },
   "outputs": [],
   "source": []
  }
 ],
 "metadata": {
  "kernelspec": {
   "display_name": "steph_env",
   "language": "python",
   "name": "steph_env"
  },
  "language_info": {
   "codemirror_mode": {
    "name": "ipython",
    "version": 3
   },
   "file_extension": ".py",
   "mimetype": "text/x-python",
   "name": "python",
   "nbconvert_exporter": "python",
   "pygments_lexer": "ipython3",
   "version": "3.6.3"
  },
  "toc": {
   "base_numbering": 1,
   "nav_menu": {},
   "number_sections": true,
   "sideBar": true,
   "skip_h1_title": false,
   "title_cell": "Table of Contents",
   "title_sidebar": "Contents",
   "toc_cell": false,
   "toc_position": {
    "height": "calc(100% - 180px)",
    "left": "10px",
    "top": "150px",
    "width": "165px"
   },
   "toc_section_display": true,
   "toc_window_display": true
  },
  "varInspector": {
   "cols": {
    "lenName": 16,
    "lenType": 16,
    "lenVar": 40
   },
   "kernels_config": {
    "python": {
     "delete_cmd_postfix": "",
     "delete_cmd_prefix": "del ",
     "library": "var_list.py",
     "varRefreshCmd": "print(var_dic_list())"
    },
    "r": {
     "delete_cmd_postfix": ") ",
     "delete_cmd_prefix": "rm(",
     "library": "var_list.r",
     "varRefreshCmd": "cat(var_dic_list()) "
    }
   },
   "types_to_exclude": [
    "module",
    "function",
    "builtin_function_or_method",
    "instance",
    "_Feature"
   ],
   "window_display": false
  }
 },
 "nbformat": 4,
 "nbformat_minor": 5
}
