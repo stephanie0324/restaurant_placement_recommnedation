{
 "cells": [
  {
   "cell_type": "markdown",
   "id": "10a4c0bd",
   "metadata": {},
   "source": [
    "# Pointwise\n",
    "* predict the relevance scores"
   ]
  },
  {
   "cell_type": "markdown",
   "id": "d55501c4",
   "metadata": {},
   "source": [
    "# Import"
   ]
  },
  {
   "cell_type": "code",
   "execution_count": 1,
   "id": "28aa43a5",
   "metadata": {
    "ExecuteTime": {
     "end_time": "2023-04-19T15:13:24.653660Z",
     "start_time": "2023-04-19T15:13:23.925288Z"
    }
   },
   "outputs": [],
   "source": [
    "from collections import Counter\n",
    "import numpy as np  \n",
    "import pandas as pd \n",
    "from sklearn.model_selection import train_test_split\n",
    "import matplotlib.pyplot as plt \n",
    "from sklearn.preprocessing import scale \n",
    "from sklearn import preprocessing\n",
    "from sklearn.preprocessing import StandardScaler \n",
    "from sklearn.metrics import r2_score, mean_absolute_error, mean_squared_error\n",
    "\n",
    "# models\n",
    "from sklearn.metrics import mean_squared_error\n",
    "from sklearn.linear_model import LogisticRegression\n",
    "from sklearn.ensemble import RandomForestClassifier\n",
    "from sklearn.tree import DecisionTreeClassifier\n",
    "from sklearn.neighbors import KNeighborsClassifier\n",
    "from sklearn import svm\n",
    "from sklearn.naive_bayes import GaussianNB\n",
    "from lightgbm import LGBMRanker"
   ]
  },
  {
   "cell_type": "code",
   "execution_count": 2,
   "id": "8a4cef3e",
   "metadata": {
    "ExecuteTime": {
     "end_time": "2023-04-19T15:13:24.656737Z",
     "start_time": "2023-04-19T15:13:24.654663Z"
    }
   },
   "outputs": [],
   "source": [
    "RANDOM_STATE = 24"
   ]
  },
  {
   "cell_type": "code",
   "execution_count": 3,
   "id": "02ed385f",
   "metadata": {
    "ExecuteTime": {
     "end_time": "2023-04-19T15:13:24.687480Z",
     "start_time": "2023-04-19T15:13:24.657379Z"
    }
   },
   "outputs": [],
   "source": [
    "# 導入資料\n",
    "train_df = pd.read_pickle('/home/adam/Steph_C/my_thesis/data/Train_by_postoal_code_without_review_pointwise_v3_3.pkl')\n",
    "test_df = pd.read_pickle('/home/adam/Steph_C/my_thesis/data/Test_by_postoal_code_without_review_pointwise_v3_3.pkl')"
   ]
  },
  {
   "cell_type": "code",
   "execution_count": 4,
   "id": "a45a252a",
   "metadata": {
    "ExecuteTime": {
     "end_time": "2023-04-19T15:13:24.693642Z",
     "start_time": "2023-04-19T15:13:24.688714Z"
    }
   },
   "outputs": [],
   "source": [
    "train_df = train_df.reset_index(drop=True)\n",
    "test_df = test_df.reset_index(drop=True)"
   ]
  },
  {
   "cell_type": "code",
   "execution_count": 5,
   "id": "ee55fcf7",
   "metadata": {
    "ExecuteTime": {
     "end_time": "2023-04-19T15:13:25.036276Z",
     "start_time": "2023-04-19T15:13:24.694478Z"
    }
   },
   "outputs": [
    {
     "name": "stderr",
     "output_type": "stream",
     "text": [
      "/home/adam/.local/lib/python3.7/site-packages/ipykernel_launcher.py:6: SettingWithCopyWarning: \n",
      "A value is trying to be set on a copy of a slice from a DataFrame\n",
      "\n",
      "See the caveats in the documentation: https://pandas.pydata.org/pandas-docs/stable/user_guide/indexing.html#returning-a-view-versus-a-copy\n",
      "  \n"
     ]
    }
   ],
   "source": [
    "# expr. 1 change relevance score to binary\n",
    "# change_rel_score = lambda df: 1 if df['relevance']>0 else 0\n",
    "def change_rel_score(df):\n",
    "    for i in range(len(df)):\n",
    "        if df.relevance[i] > 0 :\n",
    "            df.relevance[i]=1\n",
    "        else:\n",
    "            pass\n",
    "    \n",
    "    return df\n",
    "train_df = change_rel_score(train_df)\n",
    "test_df = change_rel_score(test_df)"
   ]
  },
  {
   "cell_type": "code",
   "execution_count": 6,
   "id": "006131d7",
   "metadata": {
    "ExecuteTime": {
     "end_time": "2023-04-19T15:13:25.042752Z",
     "start_time": "2023-04-19T15:13:25.037034Z"
    }
   },
   "outputs": [],
   "source": [
    "train_df = train_df.sample(frac=1 , random_state = RANDOM_STATE).reset_index(drop=True)\n",
    "test_df = test_df.sample(frac=1 , random_state = RANDOM_STATE).reset_index(drop=True)"
   ]
  },
  {
   "cell_type": "code",
   "execution_count": 7,
   "id": "68ef8bbb",
   "metadata": {
    "ExecuteTime": {
     "end_time": "2023-04-19T15:13:25.047673Z",
     "start_time": "2023-04-19T15:13:25.043515Z"
    }
   },
   "outputs": [
    {
     "data": {
      "text/plain": [
       "405"
      ]
     },
     "execution_count": 7,
     "metadata": {},
     "output_type": "execute_result"
    }
   ],
   "source": [
    "len(Counter(train_df.name))"
   ]
  },
  {
   "cell_type": "code",
   "execution_count": 8,
   "id": "bb74576d",
   "metadata": {
    "ExecuteTime": {
     "end_time": "2023-04-19T15:13:25.052198Z",
     "start_time": "2023-04-19T15:13:25.048418Z"
    }
   },
   "outputs": [
    {
     "data": {
      "text/plain": [
       "(5984, 27)"
      ]
     },
     "execution_count": 8,
     "metadata": {},
     "output_type": "execute_result"
    }
   ],
   "source": [
    "train_df.shape"
   ]
  },
  {
   "cell_type": "code",
   "execution_count": 9,
   "id": "d3701b5d",
   "metadata": {
    "ExecuteTime": {
     "end_time": "2023-04-19T15:13:25.057336Z",
     "start_time": "2023-04-19T15:13:25.053021Z"
    }
   },
   "outputs": [
    {
     "data": {
      "text/plain": [
       "(3160, 27)"
      ]
     },
     "execution_count": 9,
     "metadata": {},
     "output_type": "execute_result"
    }
   ],
   "source": [
    "test_df.shape"
   ]
  },
  {
   "cell_type": "markdown",
   "id": "8860146c",
   "metadata": {},
   "source": [
    "# Models"
   ]
  },
  {
   "cell_type": "code",
   "execution_count": 32,
   "id": "8aac1e6a",
   "metadata": {
    "ExecuteTime": {
     "end_time": "2023-04-19T15:28:48.290163Z",
     "start_time": "2023-04-19T15:28:48.282842Z"
    }
   },
   "outputs": [],
   "source": [
    "def _precision(predictions , actuals, k = None):\n",
    "    \n",
    "    \"\"\"\n",
    "    Calculate the precision at k\n",
    "    \n",
    "    Returns: a list of precisions\n",
    "    \"\"\"\n",
    "    \n",
    "    precisions =[]\n",
    "\n",
    "    for i in range(len(predictions)):\n",
    "        \n",
    "        prediction = predictions[i]\n",
    "\n",
    "        if  k != None:\n",
    "            prediction =  predictions[i][:k]\n",
    "        \n",
    "        score = 0\n",
    "        for j in prediction:\n",
    "            if j in actuals[i]:\n",
    "                score+=1\n",
    "        if len(prediction) != 0:\n",
    "            precisions.append(score/len(prediction))\n",
    "        else:\n",
    "            precisions.append(0)\n",
    "    return precisions\n",
    "    \n",
    "\n",
    "def _recall(predictions , actuals, k = None):\n",
    "    \n",
    "    \"\"\"\n",
    "    Calculate the precision at k\n",
    "    \n",
    "    Returns: a list of recalls\n",
    "    \"\"\"\n",
    "    recalls =[]\n",
    "    \n",
    "    for i in range(len(predictions)):\n",
    "        \n",
    "        prediction =  predictions[i]\n",
    "        \n",
    "        if  k != None:\n",
    "            prediction =  predictions[i][:k]\n",
    "        \n",
    "        score = 0\n",
    "        for j in range(len(prediction)):\n",
    "            if prediction[j] in actuals[i]:\n",
    "                score+=1\n",
    "        recalls.append(score/len(actuals[i]))\n",
    "    \n",
    "    return recalls\n",
    "\n"
   ]
  },
  {
   "cell_type": "code",
   "execution_count": 11,
   "id": "ba757ac5",
   "metadata": {
    "ExecuteTime": {
     "end_time": "2023-04-19T15:13:25.068525Z",
     "start_time": "2023-04-19T15:13:25.063303Z"
    }
   },
   "outputs": [],
   "source": [
    "def calculate_mrr(predictions, actuals):\n",
    "    \"\"\"\n",
    "    Calculate the mean reciprocal rank (MRR) for a set of predictions and actual values.\n",
    "    \n",
    "    Parameters:\n",
    "    predictions (list of lists): A list of predicted rankings sorted by probability.\n",
    "    actual (list of lists): A list of actual rankings sorted by relevance.\n",
    "    \n",
    "    Returns:    \n",
    "    float: A list of MRR scores.\n",
    "    \"\"\"\n",
    "    mrr_list = []\n",
    "    for i in range(len(predictions)):\n",
    "        reciprocal_rank = 0\n",
    "        if actuals[i][0] in predictions[i]:\n",
    "            reciprocal_rank = 1/ (predictions[i].index(actuals[i][0]) + 1)\n",
    "        mrr_list.append(reciprocal_rank)\n",
    "    return mrr_list"
   ]
  },
  {
   "cell_type": "code",
   "execution_count": 12,
   "id": "bc4a4af2",
   "metadata": {
    "ExecuteTime": {
     "end_time": "2023-04-19T15:13:25.073402Z",
     "start_time": "2023-04-19T15:13:25.069246Z"
    }
   },
   "outputs": [],
   "source": [
    "def calculate_map( predictions , actuals, k=None):\n",
    "    \"\"\"\n",
    "    Calculate the mean average precision (MAP) for a set of queries.\n",
    "\n",
    "    Parameters:\n",
    "    actual (list of sets or lists): A list of sets or lists of the actual relevant items for each query.\n",
    "    predicted (list of lists): A list of lists of predicted items for each query.\n",
    "    k (int): The maximum number of predicted items to consider for each query.\n",
    "\n",
    "    Returns:\n",
    "    float: A list of MAP scores.\n",
    "    \"\"\"\n",
    "    \n",
    "    map_list = []\n",
    "    \n",
    "\n",
    "    for i in range(len(predictions)):\n",
    "        \n",
    "        ap_list = []\n",
    "        hit = 0 \n",
    "        cnt = 0 \n",
    "        \n",
    "        prediction =  predictions[i]\n",
    "        \n",
    "        if k != None:\n",
    "            prediction =  predictions[i][:k]\n",
    "        \n",
    "        \n",
    "        for j in prediction:\n",
    "            if j in actuals[i]:\n",
    "                hit+=1\n",
    "                cnt+=1\n",
    "                ap_list.append(hit/cnt)\n",
    "            else:\n",
    "                cnt+=1\n",
    "        map_list.append(np.mean(ap_list))\n",
    "    \n",
    "    return map_list\n",
    "                "
   ]
  },
  {
   "cell_type": "code",
   "execution_count": 23,
   "id": "51d7ce0a",
   "metadata": {
    "ExecuteTime": {
     "end_time": "2023-04-19T15:25:43.585669Z",
     "start_time": "2023-04-19T15:25:43.578952Z"
    }
   },
   "outputs": [],
   "source": [
    "def calculate_dcg_ndcg( predictions , actuals, rel ,k=None):\n",
    "    \"\"\"\n",
    "    Calculate the DCG@k , NDCG@k for a set of queries.\n",
    "\n",
    "    Parameters:\n",
    "    actual (list of sets or lists): A list of sets or lists of the actual relevant items for each query.\n",
    "    predicted (list of lists): A list of lists of predicted items for each query.\n",
    "    k (int): The maximum number of predicted items to consider for each query.\n",
    "\n",
    "    Returns:\n",
    "    float: A list of DCG , NDCG scores.\n",
    "    \"\"\"\n",
    "    dcg_list = []\n",
    "    ndcg_list = []\n",
    "    \n",
    "    for i in range(len(predictions)):\n",
    "        dcg =0\n",
    "        idcg =0\n",
    "        \n",
    "        prediction = predictions[i]\n",
    "        \n",
    "        if k != None:\n",
    "            prediction = predictions[i][:k]\n",
    "        \n",
    "        for j in range(len(actuals[i])):\n",
    "            if actuals[i][j] in prediction:\n",
    "                rank = prediction.index(actuals[i][j]) + 1\n",
    "                dcg += np.divide(float(rel[i][j]),np.log2(rank+1))\n",
    "            idcg += np.divide(float(rel[i][j]),np.log2((j+1)+1))\n",
    "        dcg_list.append(dcg)\n",
    "        if np.divide(dcg,idcg) > 1:\n",
    "            print(rel[i], prediction,actuals[i]  )\n",
    "            print(i,dcg,idcg  , 'Wrong !!!')\n",
    "        ndcg_list.append(np.divide(dcg,idcg))\n",
    "        \n",
    "    return dcg_list , ndcg_list"
   ]
  },
  {
   "cell_type": "code",
   "execution_count": 38,
   "id": "31df34a7",
   "metadata": {
    "ExecuteTime": {
     "end_time": "2023-04-19T15:29:31.335815Z",
     "start_time": "2023-04-19T15:29:31.329846Z"
    }
   },
   "outputs": [],
   "source": [
    "# create list of list for query ranking\n",
    "def get_ranking(df ):\n",
    "    \n",
    "    \"\"\"\n",
    "    Turn the probability array into a list of lists for calculation.\n",
    "    \n",
    "    Parameters:\n",
    "    df(DataFrame): the test dataframe\n",
    "    \n",
    "    Returns:\n",
    "    prediction (list of lists): A list of predicted rankings for each query.\n",
    "    actual (list of lists): A list of actual rankings for each query.\n",
    "    \"\"\"\n",
    " \n",
    "    pred_list = []\n",
    "    pred_rel = []\n",
    "    true_list = []\n",
    "    \n",
    "    \n",
    "    for res in Counter(df.name):\n",
    "        \n",
    "        tmp = df[df.name == res]\n",
    "        a_sorted = tmp.sort_values(by=['relevance'],ascending=[False])\n",
    "        p_sorted = tmp.sort_values(by=['predictions'],ascending=[False])\n",
    "        p_sorted = p_sorted[p_sorted.predictions>0]\n",
    "\n",
    "        true_list.append(list(a_sorted[a_sorted.relevance!=0].postal_code))\n",
    "        pred_list.append(list(p_sorted.postal_code))\n",
    "        pred_rel.append(list(a_sorted[a_sorted.relevance!=0].relevance))\n",
    "        \n",
    "        \n",
    "        \n",
    "    return pred_list, pred_rel , true_list"
   ]
  },
  {
   "cell_type": "markdown",
   "id": "da20b022",
   "metadata": {},
   "source": [
    "# Model"
   ]
  },
  {
   "cell_type": "code",
   "execution_count": 26,
   "id": "086ba40f",
   "metadata": {
    "ExecuteTime": {
     "end_time": "2023-04-19T15:26:28.883883Z",
     "start_time": "2023-04-19T15:26:28.873243Z"
    }
   },
   "outputs": [
    {
     "name": "stdout",
     "output_type": "stream",
     "text": [
      "5984 3160\n"
     ]
    }
   ],
   "source": [
    "# models\n",
    "LR = LogisticRegression(random_state=RANDOM_STATE)\n",
    "RF = RandomForestClassifier(random_state=RANDOM_STATE)\n",
    "DTC = DecisionTreeClassifier(random_state=RANDOM_STATE)\n",
    "KNC = KNeighborsClassifier()\n",
    "SVC = svm.SVC(random_state=RANDOM_STATE)\n",
    "GNB = GaussianNB()\n",
    "LGBM = LGBMRanker(objective=\"lambdarank\",random_state=RANDOM_STATE)\n",
    "\n",
    "train_features=['density', 'entropy', 'competitiveness','area_pop', 'accessibility','complementary']\n",
    "\n",
    "get_group_size = lambda df: df.reset_index().groupby(\"name\")['name'].count()\n",
    "\n",
    "train_groups = get_group_size(train_df).to_numpy()\n",
    "test_groups = get_group_size(test_df).to_numpy()\n",
    "\n",
    "print(sum(train_groups) , sum(test_groups))"
   ]
  },
  {
   "cell_type": "code",
   "execution_count": 36,
   "id": "746d233f",
   "metadata": {
    "ExecuteTime": {
     "end_time": "2023-04-19T15:29:13.023132Z",
     "start_time": "2023-04-19T15:29:08.138829Z"
    },
    "scrolled": true
   },
   "outputs": [
    {
     "name": "stderr",
     "output_type": "stream",
     "text": [
      "/home/adam/.local/lib/python3.7/site-packages/sklearn/utils/validation.py:985: DataConversionWarning: A column-vector y was passed when a 1d array was expected. Please change the shape of y to (n_samples, ), for example using ravel().\n",
      "  y = column_or_1d(y, warn=True)\n",
      "/home/adam/.local/lib/python3.7/site-packages/ipykernel_launcher.py:10: DataConversionWarning: A column-vector y was passed when a 1d array was expected. Please change the shape of y to (n_samples,), for example using ravel().\n",
      "  # Remove the CWD from sys.path while we load stuff.\n",
      "/home/adam/.local/lib/python3.7/site-packages/sklearn/neighbors/_classification.py:198: DataConversionWarning: A column-vector y was passed when a 1d array was expected. Please change the shape of y to (n_samples,), for example using ravel().\n",
      "  return self._fit(X, y)\n",
      "/home/adam/.local/lib/python3.7/site-packages/sklearn/utils/validation.py:985: DataConversionWarning: A column-vector y was passed when a 1d array was expected. Please change the shape of y to (n_samples, ), for example using ravel().\n",
      "  y = column_or_1d(y, warn=True)\n",
      "/home/adam/.local/lib/python3.7/site-packages/sklearn/utils/validation.py:985: DataConversionWarning: A column-vector y was passed when a 1d array was expected. Please change the shape of y to (n_samples, ), for example using ravel().\n",
      "  y = column_or_1d(y, warn=True)\n"
     ]
    }
   ],
   "source": [
    "models = [LR, RF, DTC, KNC, SVC, GNB, LGBM]\n",
    "model_name =['LR', 'RF', 'DTC', 'KNC', 'SVC', 'GNB','LGBMRanker']\n",
    "score_dict = {}\n",
    "\n",
    "for i in range(len(models)):\n",
    "    score_dict[model_name[i]]={}\n",
    "    model = models[i]\n",
    "    # Train\n",
    "    if model_name[i] != 'LGBMRanker':\n",
    "        model.fit(train_df[train_features], train_df[['relevance']])\n",
    "    else:\n",
    "        model.fit(train_df[train_features], train_df[['relevance']], group=train_groups)\n",
    "    \n",
    "    # Predict\n",
    "    predict = model.predict(test_df[train_features])\n",
    "    test_df['predictions'] = predict\n",
    "    pred_list, pred_rel , true_list = get_ranking(test_df)\n",
    "\n",
    "    # Evaluation\n",
    "    mrr_list = calculate_mrr(pred_list , true_list)\n",
    "    map_list = calculate_map(pred_list , true_list)\n",
    "    dcg_list , ndcg_list = calculate_dcg_ndcg(pred_list , true_list,pred_rel)\n",
    "    precision_list_1 = _precision(pred_list , true_list, k=1)\n",
    "    recall_list_1 = _recall(pred_list , true_list,k=1)\n",
    "    precision_list_3 = _precision(pred_list , true_list, k=3)\n",
    "    recall_list_3 = _recall(pred_list , true_list,k=3)\n",
    "    precision_list = _precision(pred_list , true_list)\n",
    "    recall_list = _recall(pred_list , true_list)\n",
    "\n",
    "    score_dict[model_name[i]]['precision @ 1'] = np.mean(precision_list_1)\n",
    "    score_dict[model_name[i]]['recall @ 1'] = np.mean(recall_list_1)\n",
    "    score_dict[model_name[i]]['precision @ 3 '] = np.mean(precision_list_3)\n",
    "    score_dict[model_name[i]]['recall @ 3'] = np.mean(recall_list_3)\n",
    "    score_dict[model_name[i]]['precision'] = np.mean(precision_list)\n",
    "    score_dict[model_name[i]]['recall'] = np.mean(recall_list)\n",
    "    score_dict[model_name[i]]['mrr'] = np.mean(mrr_list)\n",
    "    score_dict[model_name[i]]['map'] = np.mean(map_list)\n",
    "    score_dict[model_name[i]]['dcg'] = np.mean(dcg_list)\n",
    "    score_dict[model_name[i]]['ndcg'] = np.mean(ndcg_list)"
   ]
  },
  {
   "cell_type": "markdown",
   "id": "d7f3d87b",
   "metadata": {},
   "source": [
    "# Evaluation"
   ]
  },
  {
   "cell_type": "code",
   "execution_count": 37,
   "id": "03e8a2a1",
   "metadata": {
    "ExecuteTime": {
     "end_time": "2023-04-19T15:29:17.148373Z",
     "start_time": "2023-04-19T15:29:17.136014Z"
    }
   },
   "outputs": [
    {
     "data": {
      "text/html": [
       "<div>\n",
       "<style scoped>\n",
       "    .dataframe tbody tr th:only-of-type {\n",
       "        vertical-align: middle;\n",
       "    }\n",
       "\n",
       "    .dataframe tbody tr th {\n",
       "        vertical-align: top;\n",
       "    }\n",
       "\n",
       "    .dataframe thead th {\n",
       "        text-align: right;\n",
       "    }\n",
       "</style>\n",
       "<table border=\"1\" class=\"dataframe\">\n",
       "  <thead>\n",
       "    <tr style=\"text-align: right;\">\n",
       "      <th></th>\n",
       "      <th>LR</th>\n",
       "      <th>RF</th>\n",
       "      <th>DTC</th>\n",
       "      <th>KNC</th>\n",
       "      <th>SVC</th>\n",
       "      <th>GNB</th>\n",
       "      <th>LGBMRanker</th>\n",
       "    </tr>\n",
       "  </thead>\n",
       "  <tbody>\n",
       "    <tr>\n",
       "      <th>precision @ 1</th>\n",
       "      <td>0.356</td>\n",
       "      <td>0.427</td>\n",
       "      <td>0.437</td>\n",
       "      <td>0.415</td>\n",
       "      <td>0.299</td>\n",
       "      <td>0.452</td>\n",
       "      <td>0.575</td>\n",
       "    </tr>\n",
       "    <tr>\n",
       "      <th>recall @ 1</th>\n",
       "      <td>0.218</td>\n",
       "      <td>0.288</td>\n",
       "      <td>0.297</td>\n",
       "      <td>0.278</td>\n",
       "      <td>0.191</td>\n",
       "      <td>0.281</td>\n",
       "      <td>0.397</td>\n",
       "    </tr>\n",
       "    <tr>\n",
       "      <th>precision @ 3</th>\n",
       "      <td>0.267</td>\n",
       "      <td>0.295</td>\n",
       "      <td>0.300</td>\n",
       "      <td>0.301</td>\n",
       "      <td>0.255</td>\n",
       "      <td>0.291</td>\n",
       "      <td>0.349</td>\n",
       "    </tr>\n",
       "    <tr>\n",
       "      <th>recall @ 3</th>\n",
       "      <td>0.504</td>\n",
       "      <td>0.551</td>\n",
       "      <td>0.565</td>\n",
       "      <td>0.572</td>\n",
       "      <td>0.491</td>\n",
       "      <td>0.530</td>\n",
       "      <td>0.659</td>\n",
       "    </tr>\n",
       "    <tr>\n",
       "      <th>precision</th>\n",
       "      <td>0.232</td>\n",
       "      <td>0.232</td>\n",
       "      <td>0.232</td>\n",
       "      <td>0.232</td>\n",
       "      <td>0.232</td>\n",
       "      <td>0.232</td>\n",
       "      <td>0.232</td>\n",
       "    </tr>\n",
       "    <tr>\n",
       "      <th>recall</th>\n",
       "      <td>1.000</td>\n",
       "      <td>1.000</td>\n",
       "      <td>1.000</td>\n",
       "      <td>1.000</td>\n",
       "      <td>1.000</td>\n",
       "      <td>1.000</td>\n",
       "      <td>1.000</td>\n",
       "    </tr>\n",
       "    <tr>\n",
       "      <th>mrr</th>\n",
       "      <td>0.489</td>\n",
       "      <td>0.540</td>\n",
       "      <td>0.546</td>\n",
       "      <td>0.548</td>\n",
       "      <td>0.477</td>\n",
       "      <td>0.515</td>\n",
       "      <td>0.543</td>\n",
       "    </tr>\n",
       "    <tr>\n",
       "      <th>map</th>\n",
       "      <td>0.497</td>\n",
       "      <td>0.558</td>\n",
       "      <td>0.569</td>\n",
       "      <td>0.559</td>\n",
       "      <td>0.473</td>\n",
       "      <td>0.548</td>\n",
       "      <td>0.658</td>\n",
       "    </tr>\n",
       "    <tr>\n",
       "      <th>dcg</th>\n",
       "      <td>0.951</td>\n",
       "      <td>1.004</td>\n",
       "      <td>1.013</td>\n",
       "      <td>1.004</td>\n",
       "      <td>0.918</td>\n",
       "      <td>1.005</td>\n",
       "      <td>1.106</td>\n",
       "    </tr>\n",
       "    <tr>\n",
       "      <th>ndcg</th>\n",
       "      <td>0.643</td>\n",
       "      <td>0.687</td>\n",
       "      <td>0.695</td>\n",
       "      <td>0.688</td>\n",
       "      <td>0.623</td>\n",
       "      <td>0.679</td>\n",
       "      <td>0.765</td>\n",
       "    </tr>\n",
       "  </tbody>\n",
       "</table>\n",
       "</div>"
      ],
      "text/plain": [
       "                   LR     RF    DTC    KNC    SVC    GNB  LGBMRanker\n",
       "precision @ 1   0.356  0.427  0.437  0.415  0.299  0.452       0.575\n",
       "recall @ 1      0.218  0.288  0.297  0.278  0.191  0.281       0.397\n",
       "precision @ 3   0.267  0.295  0.300  0.301  0.255  0.291       0.349\n",
       "recall @ 3      0.504  0.551  0.565  0.572  0.491  0.530       0.659\n",
       "precision       0.232  0.232  0.232  0.232  0.232  0.232       0.232\n",
       "recall          1.000  1.000  1.000  1.000  1.000  1.000       1.000\n",
       "mrr             0.489  0.540  0.546  0.548  0.477  0.515       0.543\n",
       "map             0.497  0.558  0.569  0.559  0.473  0.548       0.658\n",
       "dcg             0.951  1.004  1.013  1.004  0.918  1.005       1.106\n",
       "ndcg            0.643  0.687  0.695  0.688  0.623  0.679       0.765"
      ]
     },
     "execution_count": 37,
     "metadata": {},
     "output_type": "execute_result"
    }
   ],
   "source": [
    "pd.DataFrame(score_dict).round(3)"
   ]
  },
  {
   "cell_type": "code",
   "execution_count": null,
   "id": "73b56915",
   "metadata": {},
   "outputs": [],
   "source": []
  }
 ],
 "metadata": {
  "kernelspec": {
   "display_name": "steph-env",
   "language": "python",
   "name": "steph-env"
  },
  "language_info": {
   "codemirror_mode": {
    "name": "ipython",
    "version": 3
   },
   "file_extension": ".py",
   "mimetype": "text/x-python",
   "name": "python",
   "nbconvert_exporter": "python",
   "pygments_lexer": "ipython3",
   "version": "3.7.5"
  },
  "toc": {
   "base_numbering": 1,
   "nav_menu": {},
   "number_sections": true,
   "sideBar": true,
   "skip_h1_title": false,
   "title_cell": "Table of Contents",
   "title_sidebar": "Contents",
   "toc_cell": false,
   "toc_position": {},
   "toc_section_display": true,
   "toc_window_display": false
  },
  "varInspector": {
   "cols": {
    "lenName": 16,
    "lenType": 16,
    "lenVar": 40
   },
   "kernels_config": {
    "python": {
     "delete_cmd_postfix": "",
     "delete_cmd_prefix": "del ",
     "library": "var_list.py",
     "varRefreshCmd": "print(var_dic_list())"
    },
    "r": {
     "delete_cmd_postfix": ") ",
     "delete_cmd_prefix": "rm(",
     "library": "var_list.r",
     "varRefreshCmd": "cat(var_dic_list()) "
    }
   },
   "types_to_exclude": [
    "module",
    "function",
    "builtin_function_or_method",
    "instance",
    "_Feature"
   ],
   "window_display": false
  }
 },
 "nbformat": 4,
 "nbformat_minor": 5
}
