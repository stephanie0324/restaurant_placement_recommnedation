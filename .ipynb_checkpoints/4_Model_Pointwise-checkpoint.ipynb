{
 "cells": [
  {
   "cell_type": "markdown",
   "id": "forbidden-malpractice",
   "metadata": {},
   "source": [
    "# Pointwise\n",
    "* predict the relevance scores"
   ]
  },
  {
   "cell_type": "markdown",
   "id": "genuine-private",
   "metadata": {},
   "source": [
    "# Import"
   ]
  },
  {
   "cell_type": "code",
   "execution_count": 1,
   "id": "limiting-sampling",
   "metadata": {
    "ExecuteTime": {
     "end_time": "2023-05-15T16:35:02.963985Z",
     "start_time": "2023-05-15T16:35:02.191046Z"
    }
   },
   "outputs": [
    {
     "name": "stderr",
     "output_type": "stream",
     "text": [
      "Matplotlib created a temporary config/cache directory at /tmp/matplotlib-qz9db95s because the default path (/home/emma/.config/matplotlib) is not a writable directory; it is highly recommended to set the MPLCONFIGDIR environment variable to a writable directory, in particular to speed up the import of Matplotlib and to better support multiprocessing.\n"
     ]
    }
   ],
   "source": [
    "from collections import Counter\n",
    "from Evaluations import evaluation_metrics\n",
    "import pandas as pd\n",
    "import numpy as np\n",
    "\n",
    "# models\n",
    "from sklearn.metrics import mean_squared_error\n",
    "from sklearn.linear_model import LogisticRegression\n",
    "from sklearn.ensemble import RandomForestClassifier\n",
    "from sklearn.tree import DecisionTreeClassifier\n",
    "from sklearn.neighbors import KNeighborsClassifier\n",
    "from sklearn import svm\n",
    "from sklearn.naive_bayes import GaussianNB\n",
    "from lightgbm import LGBMRanker"
   ]
  },
  {
   "cell_type": "code",
   "execution_count": 2,
   "id": "other-opposition",
   "metadata": {
    "ExecuteTime": {
     "end_time": "2023-05-15T16:35:02.991351Z",
     "start_time": "2023-05-15T16:35:02.988805Z"
    }
   },
   "outputs": [],
   "source": [
    "RANDOM_STATE = 24"
   ]
  },
  {
   "cell_type": "code",
   "execution_count": 3,
   "id": "stunning-sleep",
   "metadata": {
    "ExecuteTime": {
     "end_time": "2023-05-15T16:35:03.747416Z",
     "start_time": "2023-05-15T16:35:03.729312Z"
    }
   },
   "outputs": [],
   "source": [
    "# 導入資料\n",
    "train_df = pd.read_pickle('../data/Train_by_postoal_code_without_review_pointwise_v3_4.pkl').reset_index(drop=True)\n",
    "test_df = pd.read_pickle('../data/Test_by_postoal_code_without_review_pointwise_v3_4.pkl').reset_index(drop=True)"
   ]
  },
  {
   "cell_type": "code",
   "execution_count": 4,
   "id": "rotary-knowing",
   "metadata": {
    "ExecuteTime": {
     "end_time": "2023-05-15T16:35:23.294668Z",
     "start_time": "2023-05-15T16:35:14.450379Z"
    }
   },
   "outputs": [
    {
     "name": "stderr",
     "output_type": "stream",
     "text": [
      "/mnt/data/emma/bilab/Steph_C/myenv/lib/python3.6/site-packages/ipykernel_launcher.py:6: SettingWithCopyWarning: \n",
      "A value is trying to be set on a copy of a slice from a DataFrame\n",
      "\n",
      "See the caveats in the documentation: https://pandas.pydata.org/pandas-docs/stable/user_guide/indexing.html#returning-a-view-versus-a-copy\n",
      "  \n",
      "/mnt/data/emma/bilab/Steph_C/myenv/lib/python3.6/site-packages/ipykernel_launcher.py:8: SettingWithCopyWarning: \n",
      "A value is trying to be set on a copy of a slice from a DataFrame\n",
      "\n",
      "See the caveats in the documentation: https://pandas.pydata.org/pandas-docs/stable/user_guide/indexing.html#returning-a-view-versus-a-copy\n",
      "  \n"
     ]
    }
   ],
   "source": [
    "# expr. 1 change relevance score to binary\n",
    "def change_rel_score(df):\n",
    "    df['binary_score'] = ''\n",
    "    for idx, row in df.iterrows():\n",
    "        if row.relevance > 0.0:\n",
    "            df['binary_score'][idx] = 1\n",
    "        else:\n",
    "            df['binary_score'][idx] = 0\n",
    "    return df\n",
    "train_df = change_rel_score(train_df)\n",
    "test_df = change_rel_score(test_df)"
   ]
  },
  {
   "cell_type": "code",
   "execution_count": 5,
   "id": "outdoor-manufacturer",
   "metadata": {
    "ExecuteTime": {
     "end_time": "2023-05-15T16:35:44.850129Z",
     "start_time": "2023-05-15T16:35:44.841839Z"
    }
   },
   "outputs": [],
   "source": [
    "train_df['binary_score'] = train_df['binary_score'].astype('float')\n",
    "test_df['binary_score'] = test_df['binary_score'].astype('float')"
   ]
  },
  {
   "cell_type": "code",
   "execution_count": null,
   "id": "going-carpet",
   "metadata": {},
   "outputs": [],
   "source": [
    "label_list = ['binary_score' ,'affinity', 'complementary','cosine_sim']\n",
    "for i in label_list : \n",
    "    train_df[i] = train_df[i].astype('float')\n",
    "    test_df[i] = test_df[i].astype('float')"
   ]
  },
  {
   "cell_type": "code",
   "execution_count": 6,
   "id": "infinite-criterion",
   "metadata": {
    "ExecuteTime": {
     "end_time": "2023-05-15T16:35:47.037564Z",
     "start_time": "2023-05-15T16:35:47.027026Z"
    }
   },
   "outputs": [],
   "source": [
    "train_df = train_df.sample(frac=1 , random_state = RANDOM_STATE)\n",
    "test_df = test_df.sample(frac=1 , random_state = RANDOM_STATE)"
   ]
  },
  {
   "cell_type": "code",
   "execution_count": 7,
   "id": "bigger-capital",
   "metadata": {
    "ExecuteTime": {
     "end_time": "2023-05-15T16:35:47.740079Z",
     "start_time": "2023-05-15T16:35:47.659101Z"
    }
   },
   "outputs": [
    {
     "data": {
      "text/plain": [
       "(21880, 11)"
      ]
     },
     "execution_count": 7,
     "metadata": {},
     "output_type": "execute_result"
    }
   ],
   "source": [
    "train_df.shape"
   ]
  },
  {
   "cell_type": "code",
   "execution_count": 8,
   "id": "controversial-disco",
   "metadata": {
    "ExecuteTime": {
     "end_time": "2023-05-15T16:35:48.465997Z",
     "start_time": "2023-05-15T16:35:48.462419Z"
    }
   },
   "outputs": [
    {
     "data": {
      "text/plain": [
       "(13793, 11)"
      ]
     },
     "execution_count": 8,
     "metadata": {},
     "output_type": "execute_result"
    }
   ],
   "source": [
    "test_df.shape"
   ]
  },
  {
   "cell_type": "markdown",
   "id": "exceptional-raleigh",
   "metadata": {},
   "source": [
    "# Models"
   ]
  },
  {
   "cell_type": "code",
   "execution_count": 9,
   "id": "streaming-fetish",
   "metadata": {
    "ExecuteTime": {
     "end_time": "2023-05-15T16:35:50.967698Z",
     "start_time": "2023-05-15T16:35:50.960489Z"
    }
   },
   "outputs": [],
   "source": [
    "# create list of list for query ranking\n",
    "def get_ranking(df , y_label = 'binary_score'):\n",
    "    \n",
    "    \"\"\"\n",
    "    Turn the probability array into a list of lists for calculation.\n",
    "    \n",
    "    Parameters:\n",
    "    df(DataFrame): the test dataframe\n",
    "    \n",
    "    Returns:\n",
    "    prediction (list of lists): A list of predicted rankings for each query.\n",
    "    actual (list of lists): A list of actual rankings for each query.\n",
    "    \"\"\"\n",
    " \n",
    "    pred_list = []\n",
    "    true_rel = []\n",
    "    true_list = []\n",
    "\n",
    "    output_dict = {}\n",
    "    \n",
    "    \n",
    "    for id in Counter(df.business_id):\n",
    "\n",
    "        output_dict[id] = {}\n",
    "        \n",
    "        tmp = df[df.business_id == id]\n",
    "        a_sorted = tmp.sort_values(by=[y_label],ascending=[False])\n",
    "        p_sorted = tmp.sort_values(by=['predictions'],ascending=[False])\n",
    "        # p_sorted = p_sorted[p_sorted.predictions>0]\n",
    "\n",
    "        true_list.append(list(a_sorted[a_sorted.relevance!=0].postal_code))\n",
    "        pred_list.append(list(p_sorted.postal_code))\n",
    "        true_rel.append(list(a_sorted[a_sorted.relevance!=0].relevance))\n",
    "        \n",
    "        output_dict[id]['predict'] = list(p_sorted.postal_code)\n",
    "        output_dict[id]['true'] = list(a_sorted[a_sorted.relevance!=0].postal_code)\n",
    "        \n",
    "        \n",
    "    return pred_list, true_rel , true_list , output_dict"
   ]
  },
  {
   "cell_type": "markdown",
   "id": "undefined-trainer",
   "metadata": {},
   "source": [
    "# Model"
   ]
  },
  {
   "cell_type": "code",
   "execution_count": 10,
   "id": "norwegian-healthcare",
   "metadata": {
    "ExecuteTime": {
     "end_time": "2023-05-15T16:35:57.113870Z",
     "start_time": "2023-05-15T16:35:57.087652Z"
    }
   },
   "outputs": [
    {
     "name": "stdout",
     "output_type": "stream",
     "text": [
      "21880 13793\n"
     ]
    }
   ],
   "source": [
    "# models\n",
    "LR = LogisticRegression(random_state=RANDOM_STATE)\n",
    "RF = RandomForestClassifier(random_state=RANDOM_STATE)\n",
    "DTC = DecisionTreeClassifier(random_state=RANDOM_STATE)\n",
    "KNC = KNeighborsClassifier()\n",
    "SVC = svm.SVC(random_state=RANDOM_STATE)\n",
    "GNB = GaussianNB()\n",
    "LGBM = LGBMRanker(objective=\"lambdarank\",random_state=RANDOM_STATE)\n",
    "\n",
    "train_features=['density', 'entropy', 'competitiveness','area_pop']\n",
    "# train_features=['density', 'entropy', 'competitiveness','area_pop','complementary','affinity']\n",
    "# train_features=['density', 'entropy', 'competitiveness','area_pop', 'accessibility','cosine_sim']\n",
    "# train_features=['density', 'entropy', 'competitiveness','area_pop','affinity', 'complementary','cosine_sim']\n",
    "\n",
    "\n",
    "get_group_size = lambda df: df.reset_index().groupby(\"business_id\")['business_id'].count()\n",
    "\n",
    "train_groups = get_group_size(train_df).to_numpy()\n",
    "test_groups = get_group_size(test_df).to_numpy()\n",
    "\n",
    "print(sum(train_groups) , sum(test_groups))"
   ]
  },
  {
   "cell_type": "code",
   "execution_count": 11,
   "id": "dying-audit",
   "metadata": {
    "ExecuteTime": {
     "end_time": "2023-05-15T16:41:53.744540Z",
     "start_time": "2023-05-15T16:35:58.984767Z"
    },
    "scrolled": true
   },
   "outputs": [
    {
     "name": "stderr",
     "output_type": "stream",
     "text": [
      "/mnt/data/emma/bilab/Steph_C/myenv/lib/python3.6/site-packages/sklearn/utils/validation.py:63: DataConversionWarning: A column-vector y was passed when a 1d array was expected. Please change the shape of y to (n_samples, ), for example using ravel().\n",
      "  return f(*args, **kwargs)\n",
      "/mnt/data/emma/bilab/Steph_C/myenv/lib/python3.6/site-packages/ipykernel_launcher.py:10: DataConversionWarning: A column-vector y was passed when a 1d array was expected. Please change the shape of y to (n_samples,), for example using ravel().\n",
      "  # Remove the CWD from sys.path while we load stuff.\n",
      "/mnt/data/emma/bilab/Steph_C/myenv/lib/python3.6/site-packages/sklearn/neighbors/_classification.py:179: DataConversionWarning: A column-vector y was passed when a 1d array was expected. Please change the shape of y to (n_samples,), for example using ravel().\n",
      "  return self._fit(X, y)\n",
      "/mnt/data/emma/bilab/Steph_C/myenv/lib/python3.6/site-packages/sklearn/utils/validation.py:63: DataConversionWarning: A column-vector y was passed when a 1d array was expected. Please change the shape of y to (n_samples, ), for example using ravel().\n",
      "  return f(*args, **kwargs)\n",
      "/mnt/data/emma/bilab/Steph_C/myenv/lib/python3.6/site-packages/sklearn/utils/validation.py:63: DataConversionWarning: A column-vector y was passed when a 1d array was expected. Please change the shape of y to (n_samples, ), for example using ravel().\n",
      "  return f(*args, **kwargs)\n"
     ]
    }
   ],
   "source": [
    "models = [LR, RF, DTC, KNC, SVC, GNB, LGBM]\n",
    "model_name =['LR', 'RF', 'DTC', 'KNC', 'SVC', 'GNB' , 'LGBMRanker'] \n",
    "score_dict = {}\n",
    "\n",
    "for i in range(len(models)):\n",
    "    score_dict[model_name[i]]={}\n",
    "    model = models[i]\n",
    "    # Train\n",
    "    if model_name[i] != 'LGBMRanker':\n",
    "        model.fit(train_df[train_features], train_df[['binary_score']])\n",
    "    else:\n",
    "        model.fit(train_df[train_features], train_df[['relevance']], group=train_groups)\n",
    "    \n",
    "    # Predict\n",
    "    predict = model.predict(test_df[train_features])\n",
    "    test_df['predictions'] = predict\n",
    "    if model_name[i] != 'LGBMRanker':\n",
    "        pred_list, true_rel , true_list , output_dict = get_ranking(test_df)\n",
    "    else:\n",
    "        pred_list, true_rel , true_list , output_dict = get_ranking(test_df,'relevance')\n",
    "        \n",
    "\n",
    "    # Evaluation\n",
    "    mrr_list = evaluation_metrics._mrr(pred_list , true_list)\n",
    "    map_list = evaluation_metrics._map(pred_list , true_list)\n",
    "    dcg_list , ndcg_list = evaluation_metrics._dcg_ndcg(pred_list , true_list,true_rel)\n",
    "    precision_list_1 = evaluation_metrics._precision(pred_list , true_list, k=1)\n",
    "    recall_list_1 = evaluation_metrics._recall(pred_list , true_list,k=1)\n",
    "    precision_list_3 = evaluation_metrics._precision(pred_list , true_list, k=3)\n",
    "    recall_list_3 = evaluation_metrics._recall(pred_list , true_list,k=3)\n",
    "    precision_list =evaluation_metrics. _precision(pred_list , true_list)\n",
    "    recall_list = evaluation_metrics._recall(pred_list , true_list)\n",
    "\n",
    "    score_dict[model_name[i]]['precision @ 1'] = np.mean(precision_list_1)\n",
    "#     score_dict[model_name[i]]['recall @ 1'] = np.mean(recall_list_1)\n",
    "    score_dict[model_name[i]]['precision @ 3 '] = np.mean(precision_list_3)\n",
    "    score_dict[model_name[i]]['recall @ 3'] = np.mean(recall_list_3)\n",
    "    score_dict[model_name[i]]['precision'] = np.mean(precision_list)\n",
    "    score_dict[model_name[i]]['recall'] = np.mean(recall_list)\n",
    "    score_dict[model_name[i]]['mrr'] = np.mean(mrr_list)\n",
    "    score_dict[model_name[i]]['map'] = np.mean(map_list)\n",
    "    score_dict[model_name[i]]['dcg'] = np.mean(dcg_list)\n",
    "    score_dict[model_name[i]]['ndcg'] = np.mean(ndcg_list)"
   ]
  },
  {
   "cell_type": "code",
   "execution_count": 12,
   "id": "skilled-banking",
   "metadata": {
    "ExecuteTime": {
     "end_time": "2023-05-15T16:41:53.824527Z",
     "start_time": "2023-05-15T16:41:53.807957Z"
    }
   },
   "outputs": [
    {
     "data": {
      "text/html": [
       "<div>\n",
       "<style scoped>\n",
       "    .dataframe tbody tr th:only-of-type {\n",
       "        vertical-align: middle;\n",
       "    }\n",
       "\n",
       "    .dataframe tbody tr th {\n",
       "        vertical-align: top;\n",
       "    }\n",
       "\n",
       "    .dataframe thead th {\n",
       "        text-align: right;\n",
       "    }\n",
       "</style>\n",
       "<table border=\"1\" class=\"dataframe\">\n",
       "  <thead>\n",
       "    <tr style=\"text-align: right;\">\n",
       "      <th></th>\n",
       "      <th>LR</th>\n",
       "      <th>RF</th>\n",
       "      <th>DTC</th>\n",
       "      <th>KNC</th>\n",
       "      <th>SVC</th>\n",
       "      <th>GNB</th>\n",
       "      <th>LGBMRanker</th>\n",
       "    </tr>\n",
       "  </thead>\n",
       "  <tbody>\n",
       "    <tr>\n",
       "      <th>precision @ 1</th>\n",
       "      <td>0.077</td>\n",
       "      <td>0.539</td>\n",
       "      <td>0.528</td>\n",
       "      <td>0.490</td>\n",
       "      <td>0.125</td>\n",
       "      <td>0.195</td>\n",
       "      <td>0.639</td>\n",
       "    </tr>\n",
       "    <tr>\n",
       "      <th>precision @ 3</th>\n",
       "      <td>0.059</td>\n",
       "      <td>0.195</td>\n",
       "      <td>0.191</td>\n",
       "      <td>0.184</td>\n",
       "      <td>0.074</td>\n",
       "      <td>0.125</td>\n",
       "      <td>0.266</td>\n",
       "    </tr>\n",
       "    <tr>\n",
       "      <th>recall @ 3</th>\n",
       "      <td>0.176</td>\n",
       "      <td>0.584</td>\n",
       "      <td>0.572</td>\n",
       "      <td>0.551</td>\n",
       "      <td>0.221</td>\n",
       "      <td>0.375</td>\n",
       "      <td>0.799</td>\n",
       "    </tr>\n",
       "    <tr>\n",
       "      <th>precision</th>\n",
       "      <td>0.053</td>\n",
       "      <td>0.053</td>\n",
       "      <td>0.053</td>\n",
       "      <td>0.053</td>\n",
       "      <td>0.053</td>\n",
       "      <td>0.053</td>\n",
       "      <td>0.053</td>\n",
       "    </tr>\n",
       "    <tr>\n",
       "      <th>recall</th>\n",
       "      <td>1.000</td>\n",
       "      <td>1.000</td>\n",
       "      <td>1.000</td>\n",
       "      <td>1.000</td>\n",
       "      <td>1.000</td>\n",
       "      <td>1.000</td>\n",
       "      <td>1.000</td>\n",
       "    </tr>\n",
       "    <tr>\n",
       "      <th>mrr</th>\n",
       "      <td>0.207</td>\n",
       "      <td>0.604</td>\n",
       "      <td>0.593</td>\n",
       "      <td>0.564</td>\n",
       "      <td>0.249</td>\n",
       "      <td>0.345</td>\n",
       "      <td>0.745</td>\n",
       "    </tr>\n",
       "    <tr>\n",
       "      <th>map</th>\n",
       "      <td>0.207</td>\n",
       "      <td>0.604</td>\n",
       "      <td>0.593</td>\n",
       "      <td>0.564</td>\n",
       "      <td>0.249</td>\n",
       "      <td>0.345</td>\n",
       "      <td>0.745</td>\n",
       "    </tr>\n",
       "    <tr>\n",
       "      <th>dcg</th>\n",
       "      <td>3.643</td>\n",
       "      <td>6.778</td>\n",
       "      <td>6.696</td>\n",
       "      <td>6.447</td>\n",
       "      <td>3.995</td>\n",
       "      <td>4.772</td>\n",
       "      <td>7.907</td>\n",
       "    </tr>\n",
       "    <tr>\n",
       "      <th>ndcg</th>\n",
       "      <td>0.374</td>\n",
       "      <td>0.688</td>\n",
       "      <td>0.679</td>\n",
       "      <td>0.656</td>\n",
       "      <td>0.408</td>\n",
       "      <td>0.486</td>\n",
       "      <td>0.805</td>\n",
       "    </tr>\n",
       "  </tbody>\n",
       "</table>\n",
       "</div>"
      ],
      "text/plain": [
       "                   LR     RF    DTC    KNC    SVC    GNB  LGBMRanker\n",
       "precision @ 1   0.077  0.539  0.528  0.490  0.125  0.195       0.639\n",
       "precision @ 3   0.059  0.195  0.191  0.184  0.074  0.125       0.266\n",
       "recall @ 3      0.176  0.584  0.572  0.551  0.221  0.375       0.799\n",
       "precision       0.053  0.053  0.053  0.053  0.053  0.053       0.053\n",
       "recall          1.000  1.000  1.000  1.000  1.000  1.000       1.000\n",
       "mrr             0.207  0.604  0.593  0.564  0.249  0.345       0.745\n",
       "map             0.207  0.604  0.593  0.564  0.249  0.345       0.745\n",
       "dcg             3.643  6.778  6.696  6.447  3.995  4.772       7.907\n",
       "ndcg            0.374  0.688  0.679  0.656  0.408  0.486       0.805"
      ]
     },
     "execution_count": 12,
     "metadata": {},
     "output_type": "execute_result"
    }
   ],
   "source": [
    "pd.DataFrame(score_dict).round(3)"
   ]
  },
  {
   "cell_type": "code",
   "execution_count": null,
   "id": "personalized-slave",
   "metadata": {
    "ExecuteTime": {
     "end_time": "2023-05-12T06:21:43.508444Z",
     "start_time": "2023-05-12T06:21:43.434565Z"
    }
   },
   "outputs": [],
   "source": [
    "# pd.DataFrame(output_dict).T.to_csv('./output.csv')"
   ]
  },
  {
   "cell_type": "code",
   "execution_count": 13,
   "id": "express-finland",
   "metadata": {
    "ExecuteTime": {
     "end_time": "2023-05-15T16:42:28.443569Z",
     "start_time": "2023-05-15T16:42:28.358902Z"
    }
   },
   "outputs": [
    {
     "data": {
      "text/html": [
       "<div>\n",
       "<style scoped>\n",
       "    .dataframe tbody tr th:only-of-type {\n",
       "        vertical-align: middle;\n",
       "    }\n",
       "\n",
       "    .dataframe tbody tr th {\n",
       "        vertical-align: top;\n",
       "    }\n",
       "\n",
       "    .dataframe thead th {\n",
       "        text-align: right;\n",
       "    }\n",
       "</style>\n",
       "<table border=\"1\" class=\"dataframe\">\n",
       "  <thead>\n",
       "    <tr style=\"text-align: right;\">\n",
       "      <th></th>\n",
       "      <th>predict</th>\n",
       "      <th>true</th>\n",
       "    </tr>\n",
       "  </thead>\n",
       "  <tbody>\n",
       "    <tr>\n",
       "      <th>KvCmKEV_pL0qMmw3Q8Yagg</th>\n",
       "      <td>[37214, 37122, 37027, 37075, 37067, 37076, 371...</td>\n",
       "      <td>[37214]</td>\n",
       "    </tr>\n",
       "    <tr>\n",
       "      <th>3iUCCf1FWmjlFbGYvBgf9w</th>\n",
       "      <td>[37201, 37027, 37075, 37067, 37076, 37064, 371...</td>\n",
       "      <td>[37201]</td>\n",
       "    </tr>\n",
       "    <tr>\n",
       "      <th>0u7ARPwjPyoU_y2UZY9Pkw</th>\n",
       "      <td>[33609, 33511, 33543, 33559, 33558, 33563, 335...</td>\n",
       "      <td>[33609]</td>\n",
       "    </tr>\n",
       "    <tr>\n",
       "      <th>9mA9qYqiv4c0T9ASid3PIQ</th>\n",
       "      <td>[19107, 18901, 18938, 18940, 18914, 18944, 189...</td>\n",
       "      <td>[19107]</td>\n",
       "    </tr>\n",
       "    <tr>\n",
       "      <th>Imj_D35_8VZ7fuVUL9Sd8w</th>\n",
       "      <td>[33511, 33543, 33569, 33559, 33558, 33563, 335...</td>\n",
       "      <td>[33511]</td>\n",
       "    </tr>\n",
       "    <tr>\n",
       "      <th>...</th>\n",
       "      <td>...</td>\n",
       "      <td>...</td>\n",
       "    </tr>\n",
       "    <tr>\n",
       "      <th>yI-ahfduU45_bZa3ZgEx4w</th>\n",
       "      <td>[46219, 46032, 46123, 46038, 46168, 46037, 461...</td>\n",
       "      <td>[46219]</td>\n",
       "    </tr>\n",
       "    <tr>\n",
       "      <th>B2K0HFrYQx14TTJc1o3OpA</th>\n",
       "      <td>[19380, 18901, 18938, 18940, 18914, 18944, 189...</td>\n",
       "      <td>[19380]</td>\n",
       "    </tr>\n",
       "    <tr>\n",
       "      <th>adu5voMt1rln1nilzZh9uA</th>\n",
       "      <td>[85748, 85704, 85712, 85716, 85710, 85719, 857...</td>\n",
       "      <td>[85748]</td>\n",
       "    </tr>\n",
       "    <tr>\n",
       "      <th>nygJ4mY0glpdWGv_Hmp6Dg</th>\n",
       "      <td>[37201, 37027, 37075, 37067, 37076, 37064, 371...</td>\n",
       "      <td>[37201]</td>\n",
       "    </tr>\n",
       "    <tr>\n",
       "      <th>I7tLQ1YEJjcN16josIx6Dw</th>\n",
       "      <td>[93117, 93105, 93103, 93111, 93013, 93109, 931...</td>\n",
       "      <td>[93117]</td>\n",
       "    </tr>\n",
       "  </tbody>\n",
       "</table>\n",
       "<p>712 rows × 2 columns</p>\n",
       "</div>"
      ],
      "text/plain": [
       "                                                                  predict  \\\n",
       "KvCmKEV_pL0qMmw3Q8Yagg  [37214, 37122, 37027, 37075, 37067, 37076, 371...   \n",
       "3iUCCf1FWmjlFbGYvBgf9w  [37201, 37027, 37075, 37067, 37076, 37064, 371...   \n",
       "0u7ARPwjPyoU_y2UZY9Pkw  [33609, 33511, 33543, 33559, 33558, 33563, 335...   \n",
       "9mA9qYqiv4c0T9ASid3PIQ  [19107, 18901, 18938, 18940, 18914, 18944, 189...   \n",
       "Imj_D35_8VZ7fuVUL9Sd8w  [33511, 33543, 33569, 33559, 33558, 33563, 335...   \n",
       "...                                                                   ...   \n",
       "yI-ahfduU45_bZa3ZgEx4w  [46219, 46032, 46123, 46038, 46168, 46037, 461...   \n",
       "B2K0HFrYQx14TTJc1o3OpA  [19380, 18901, 18938, 18940, 18914, 18944, 189...   \n",
       "adu5voMt1rln1nilzZh9uA  [85748, 85704, 85712, 85716, 85710, 85719, 857...   \n",
       "nygJ4mY0glpdWGv_Hmp6Dg  [37201, 37027, 37075, 37067, 37076, 37064, 371...   \n",
       "I7tLQ1YEJjcN16josIx6Dw  [93117, 93105, 93103, 93111, 93013, 93109, 931...   \n",
       "\n",
       "                           true  \n",
       "KvCmKEV_pL0qMmw3Q8Yagg  [37214]  \n",
       "3iUCCf1FWmjlFbGYvBgf9w  [37201]  \n",
       "0u7ARPwjPyoU_y2UZY9Pkw  [33609]  \n",
       "9mA9qYqiv4c0T9ASid3PIQ  [19107]  \n",
       "Imj_D35_8VZ7fuVUL9Sd8w  [33511]  \n",
       "...                         ...  \n",
       "yI-ahfduU45_bZa3ZgEx4w  [46219]  \n",
       "B2K0HFrYQx14TTJc1o3OpA  [19380]  \n",
       "adu5voMt1rln1nilzZh9uA  [85748]  \n",
       "nygJ4mY0glpdWGv_Hmp6Dg  [37201]  \n",
       "I7tLQ1YEJjcN16josIx6Dw  [93117]  \n",
       "\n",
       "[712 rows x 2 columns]"
      ]
     },
     "execution_count": 13,
     "metadata": {},
     "output_type": "execute_result"
    }
   ],
   "source": [
    "pd.DataFrame(output_dict).T"
   ]
  },
  {
   "cell_type": "code",
   "execution_count": null,
   "id": "protective-crystal",
   "metadata": {},
   "outputs": [],
   "source": []
  }
 ],
 "metadata": {
  "kernelspec": {
   "display_name": "s_env",
   "language": "python",
   "name": "s_env"
  },
  "language_info": {
   "codemirror_mode": {
    "name": "ipython",
    "version": 3
   },
   "file_extension": ".py",
   "mimetype": "text/x-python",
   "name": "python",
   "nbconvert_exporter": "python",
   "pygments_lexer": "ipython3",
   "version": "3.6.9"
  },
  "toc": {
   "base_numbering": 1,
   "nav_menu": {},
   "number_sections": true,
   "sideBar": true,
   "skip_h1_title": false,
   "title_cell": "Table of Contents",
   "title_sidebar": "Contents",
   "toc_cell": false,
   "toc_position": {},
   "toc_section_display": true,
   "toc_window_display": false
  },
  "varInspector": {
   "cols": {
    "lenName": 16,
    "lenType": 16,
    "lenVar": 40
   },
   "kernels_config": {
    "python": {
     "delete_cmd_postfix": "",
     "delete_cmd_prefix": "del ",
     "library": "var_list.py",
     "varRefreshCmd": "print(var_dic_list())"
    },
    "r": {
     "delete_cmd_postfix": ") ",
     "delete_cmd_prefix": "rm(",
     "library": "var_list.r",
     "varRefreshCmd": "cat(var_dic_list()) "
    }
   },
   "types_to_exclude": [
    "module",
    "function",
    "builtin_function_or_method",
    "instance",
    "_Feature"
   ],
   "window_display": false
  },
  "vscode": {
   "interpreter": {
    "hash": "f457e4bdb0a834eef26de468bbb8aa330d736c8b7db558705075494c4e15f1a8"
   }
  }
 },
 "nbformat": 4,
 "nbformat_minor": 5
}
