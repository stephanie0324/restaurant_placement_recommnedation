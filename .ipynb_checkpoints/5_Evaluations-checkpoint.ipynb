{
 "cells": [
  {
   "cell_type": "markdown",
   "id": "65ce423b",
   "metadata": {},
   "source": [
    "# Precision and Recall\n",
    "* Precision@k = (# of recommended items @k that are relevant) / (# of recommended items @k)\n",
    "* Recall@k = (# of recommended items @k that are relevant) / (total # of relevant items)"
   ]
  },
  {
   "cell_type": "code",
   "execution_count": 1,
   "id": "be246cd4",
   "metadata": {
    "ExecuteTime": {
     "end_time": "2023-04-08T07:41:51.890189Z",
     "start_time": "2023-04-08T07:41:51.884723Z"
    }
   },
   "outputs": [
    {
     "name": "stdout",
     "output_type": "stream",
     "text": [
      "['f', 'g', 'c', 'a', 'e', 'j', 'i', 'h', 'b', 'd']\n"
     ]
    }
   ],
   "source": [
    "import random\n",
    "\n",
    "mylist = ['a','b','c','d','e','f','g','h','i','j']\n",
    "random.shuffle(mylist)\n",
    "print(mylist)"
   ]
  },
  {
   "cell_type": "code",
   "execution_count": 9,
   "id": "a4bcd4c6",
   "metadata": {
    "ExecuteTime": {
     "end_time": "2023-04-08T07:44:13.932759Z",
     "start_time": "2023-04-08T07:44:13.927537Z"
    }
   },
   "outputs": [],
   "source": [
    "pred_list = [['h', 'g', 'a', 'i', 'c'],['d', 'e', 'i', 'c', 'j']]\n",
    "\n",
    "true_list = [['i','j'],['a','c','i']]"
   ]
  },
  {
   "cell_type": "code",
   "execution_count": 6,
   "id": "52a45c9d",
   "metadata": {
    "ExecuteTime": {
     "end_time": "2023-04-08T07:42:51.518455Z",
     "start_time": "2023-04-08T07:42:51.511881Z"
    }
   },
   "outputs": [],
   "source": [
    "def _precision(predictions , actuals, k = None):\n",
    "    \n",
    "    \"\"\"\n",
    "    Calculate the precision at k\n",
    "    \n",
    "    Returns: a list of precisions\n",
    "    \"\"\"\n",
    "    \n",
    "    precisions =[]\n",
    "    if not k:\n",
    "        prediction =  predictions[:k]\n",
    "\n",
    "    for i in range(len(predictions)):\n",
    "        score = 0\n",
    "        for j in predictions[i]:\n",
    "            if j in actuals[i]:\n",
    "                score+=1\n",
    "        precisions.append(score/len(predictions[i]))\n",
    "            \n",
    "    return precisions\n",
    "    \n",
    "\n",
    "def _recall(predictions , actuals, k = None):\n",
    "    \n",
    "    \"\"\"\n",
    "    Calculate the precision at k\n",
    "    \n",
    "    Returns: a list of recalls\n",
    "    \"\"\"\n",
    "    recalls =[]\n",
    "    if not k:\n",
    "        prediction =  predictions[:k]\n",
    "    \n",
    "    for i in range(len(predictions)):\n",
    "        score = 0\n",
    "        for j in range(len(predictions[i])):\n",
    "            if predictions[i][j] in actuals[i]:\n",
    "                score+=1\n",
    "        recalls.append(score/len(actuals[i]))\n",
    "    \n",
    "    return recalls\n",
    "\n"
   ]
  },
  {
   "cell_type": "code",
   "execution_count": 10,
   "id": "c0c0d8c4",
   "metadata": {
    "ExecuteTime": {
     "end_time": "2023-04-08T07:44:15.810618Z",
     "start_time": "2023-04-08T07:44:15.805551Z"
    }
   },
   "outputs": [],
   "source": [
    "# mrr_list = calculate_mrr(pred_list , true_list)\n",
    "# map_list = calculate_map(pred_list , true_list)\n",
    "# dcg_list , ndcg_list = calculate_dcg_ndcg(pred_rel, k=3)\n",
    "precision_list = _precision(pred_list , true_list)\n",
    "recall_list = _recall(pred_list , true_list)"
   ]
  },
  {
   "cell_type": "code",
   "execution_count": 11,
   "id": "7af48fe4",
   "metadata": {
    "ExecuteTime": {
     "end_time": "2023-04-08T07:44:16.142707Z",
     "start_time": "2023-04-08T07:44:16.132919Z"
    }
   },
   "outputs": [
    {
     "data": {
      "text/plain": [
       "([0.2, 0.4], [0.5, 0.6666666666666666])"
      ]
     },
     "execution_count": 11,
     "metadata": {},
     "output_type": "execute_result"
    }
   ],
   "source": [
    "precision_list , recall_list"
   ]
  },
  {
   "cell_type": "code",
   "execution_count": null,
   "id": "6131fc8f",
   "metadata": {},
   "outputs": [],
   "source": []
  }
 ],
 "metadata": {
  "kernelspec": {
   "display_name": "steph-env",
   "language": "python",
   "name": "steph-env"
  },
  "language_info": {
   "codemirror_mode": {
    "name": "ipython",
    "version": 3
   },
   "file_extension": ".py",
   "mimetype": "text/x-python",
   "name": "python",
   "nbconvert_exporter": "python",
   "pygments_lexer": "ipython3",
   "version": "3.7.5"
  },
  "toc": {
   "base_numbering": 1,
   "nav_menu": {},
   "number_sections": true,
   "sideBar": true,
   "skip_h1_title": false,
   "title_cell": "Table of Contents",
   "title_sidebar": "Contents",
   "toc_cell": false,
   "toc_position": {},
   "toc_section_display": true,
   "toc_window_display": false
  },
  "varInspector": {
   "cols": {
    "lenName": 16,
    "lenType": 16,
    "lenVar": 40
   },
   "kernels_config": {
    "python": {
     "delete_cmd_postfix": "",
     "delete_cmd_prefix": "del ",
     "library": "var_list.py",
     "varRefreshCmd": "print(var_dic_list())"
    },
    "r": {
     "delete_cmd_postfix": ") ",
     "delete_cmd_prefix": "rm(",
     "library": "var_list.r",
     "varRefreshCmd": "cat(var_dic_list()) "
    }
   },
   "types_to_exclude": [
    "module",
    "function",
    "builtin_function_or_method",
    "instance",
    "_Feature"
   ],
   "window_display": false
  }
 },
 "nbformat": 4,
 "nbformat_minor": 5
}
