{
 "cells": [
  {
   "cell_type": "markdown",
   "metadata": {},
   "source": [
    "# Learn to Rank"
   ]
  },
  {
   "cell_type": "markdown",
   "metadata": {},
   "source": [
    "## Import "
   ]
  },
  {
   "cell_type": "code",
   "execution_count": 2,
   "metadata": {
    "ExecuteTime": {
     "end_time": "2023-03-30T10:47:22.801960Z",
     "start_time": "2023-03-30T10:47:22.319593Z"
    }
   },
   "outputs": [],
   "source": [
    "import pandas as pd\n",
    "import json\n",
    "import numpy as np\n",
    "from collections import Counter\n",
    "import matplotlib.pyplot as plt\n",
    "import pickle\n",
    "import math "
   ]
  },
  {
   "cell_type": "code",
   "execution_count": 3,
   "metadata": {
    "ExecuteTime": {
     "end_time": "2023-03-30T10:47:23.486162Z",
     "start_time": "2023-03-30T10:47:23.463833Z"
    }
   },
   "outputs": [],
   "source": [
    "df = pd.read_pickle('/home/adam/Steph_C/my_thesis/data/FE_by_postoal_code_without_review.pkl')"
   ]
  },
  {
   "cell_type": "markdown",
   "metadata": {},
   "source": [
    "## DF Construction\n",
    "* add relevance"
   ]
  },
  {
   "cell_type": "code",
   "execution_count": 4,
   "metadata": {
    "ExecuteTime": {
     "end_time": "2023-03-30T10:47:24.615570Z",
     "start_time": "2023-03-30T10:47:24.608909Z"
    }
   },
   "outputs": [
    {
     "data": {
      "text/plain": [
       "Index(['business_id', 'stars_x', 'useful', 'funny', 'cool', 'text', 'date',\n",
       "       'name', 'address', 'city', 'state', 'postal_code', 'stars_y',\n",
       "       'review_count', 'is_open', 'attributes', 'categories', 'hours',\n",
       "       'density', 'entropy', 'competitiveness'],\n",
       "      dtype='object')"
      ]
     },
     "execution_count": 4,
     "metadata": {},
     "output_type": "execute_result"
    }
   ],
   "source": [
    "df.columns"
   ]
  },
  {
   "cell_type": "code",
   "execution_count": 5,
   "metadata": {
    "ExecuteTime": {
     "end_time": "2023-03-30T10:47:25.014518Z",
     "start_time": "2023-03-30T10:47:24.996505Z"
    }
   },
   "outputs": [],
   "source": [
    "df = df.drop(columns=[ 'business_id', 'stars_x', 'useful', 'funny', 'cool', 'text',\n",
    "       'date','address','is_open', 'stars_y','attributes','hours'])"
   ]
  },
  {
   "cell_type": "code",
   "execution_count": 6,
   "metadata": {
    "ExecuteTime": {
     "end_time": "2023-03-30T10:47:25.386444Z",
     "start_time": "2023-03-30T10:47:25.365296Z"
    }
   },
   "outputs": [],
   "source": [
    "# sort by name and review count \n",
    "df = df.sort_values(['name', 'review_count'],\n",
    "              ascending = [True, False]).reset_index(drop=True)"
   ]
  },
  {
   "cell_type": "code",
   "execution_count": 7,
   "metadata": {
    "ExecuteTime": {
     "end_time": "2023-03-30T10:47:25.809223Z",
     "start_time": "2023-03-30T10:47:25.795814Z"
    }
   },
   "outputs": [
    {
     "data": {
      "text/html": [
       "<div>\n",
       "<style scoped>\n",
       "    .dataframe tbody tr th:only-of-type {\n",
       "        vertical-align: middle;\n",
       "    }\n",
       "\n",
       "    .dataframe tbody tr th {\n",
       "        vertical-align: top;\n",
       "    }\n",
       "\n",
       "    .dataframe thead th {\n",
       "        text-align: right;\n",
       "    }\n",
       "</style>\n",
       "<table border=\"1\" class=\"dataframe\">\n",
       "  <thead>\n",
       "    <tr style=\"text-align: right;\">\n",
       "      <th></th>\n",
       "      <th>name</th>\n",
       "      <th>city</th>\n",
       "      <th>state</th>\n",
       "      <th>postal_code</th>\n",
       "      <th>review_count</th>\n",
       "      <th>categories</th>\n",
       "      <th>density</th>\n",
       "      <th>entropy</th>\n",
       "      <th>competitiveness</th>\n",
       "    </tr>\n",
       "  </thead>\n",
       "  <tbody>\n",
       "    <tr>\n",
       "      <th>0</th>\n",
       "      <td>1933 Lounge</td>\n",
       "      <td>Indianapolis</td>\n",
       "      <td>IN</td>\n",
       "      <td>46225</td>\n",
       "      <td>160</td>\n",
       "      <td>Bars, Nightlife, Restaurants, American (Tradit...</td>\n",
       "      <td>6</td>\n",
       "      <td>1.791759</td>\n",
       "      <td>-0.166667</td>\n",
       "    </tr>\n",
       "    <tr>\n",
       "      <th>1</th>\n",
       "      <td>1933 Lounge</td>\n",
       "      <td>Fishers</td>\n",
       "      <td>IN</td>\n",
       "      <td>46037</td>\n",
       "      <td>150</td>\n",
       "      <td>Steakhouses, Nightlife, Bars, Wine Bars, Resta...</td>\n",
       "      <td>6</td>\n",
       "      <td>1.791759</td>\n",
       "      <td>-0.166667</td>\n",
       "    </tr>\n",
       "    <tr>\n",
       "      <th>2</th>\n",
       "      <td>4 Rivers Smokehouse</td>\n",
       "      <td>Tampa</td>\n",
       "      <td>FL</td>\n",
       "      <td>33618</td>\n",
       "      <td>572</td>\n",
       "      <td>Barbeque, Smokehouse, Restaurants, Food, South...</td>\n",
       "      <td>13</td>\n",
       "      <td>2.564949</td>\n",
       "      <td>-0.076923</td>\n",
       "    </tr>\n",
       "    <tr>\n",
       "      <th>3</th>\n",
       "      <td>4 Rivers Smokehouse</td>\n",
       "      <td>Tampa Bay</td>\n",
       "      <td>FL</td>\n",
       "      <td>33609</td>\n",
       "      <td>343</td>\n",
       "      <td>Barbeque, Smokehouse, Food, Event Planning &amp; S...</td>\n",
       "      <td>11</td>\n",
       "      <td>2.397895</td>\n",
       "      <td>-0.090909</td>\n",
       "    </tr>\n",
       "    <tr>\n",
       "      <th>4</th>\n",
       "      <td>54th Street Grill &amp; Bar</td>\n",
       "      <td>St. Louis County</td>\n",
       "      <td>MO</td>\n",
       "      <td>63126</td>\n",
       "      <td>146</td>\n",
       "      <td>American (Traditional), Bars, Nightlife, Burge...</td>\n",
       "      <td>3</td>\n",
       "      <td>1.098612</td>\n",
       "      <td>-0.333333</td>\n",
       "    </tr>\n",
       "    <tr>\n",
       "      <th>...</th>\n",
       "      <td>...</td>\n",
       "      <td>...</td>\n",
       "      <td>...</td>\n",
       "      <td>...</td>\n",
       "      <td>...</td>\n",
       "      <td>...</td>\n",
       "      <td>...</td>\n",
       "      <td>...</td>\n",
       "      <td>...</td>\n",
       "    </tr>\n",
       "    <tr>\n",
       "      <th>1456</th>\n",
       "      <td>Zydeco's</td>\n",
       "      <td>Belle Chasse</td>\n",
       "      <td>LA</td>\n",
       "      <td>70037</td>\n",
       "      <td>161</td>\n",
       "      <td>Restaurants, Cajun/Creole, American (New), Sea...</td>\n",
       "      <td>1</td>\n",
       "      <td>-0.0</td>\n",
       "      <td>-1.0</td>\n",
       "    </tr>\n",
       "    <tr>\n",
       "      <th>1457</th>\n",
       "      <td>sweetgreen</td>\n",
       "      <td>Philadelphia</td>\n",
       "      <td>PA</td>\n",
       "      <td>19103</td>\n",
       "      <td>213</td>\n",
       "      <td>Vegan, Soup, Vegetarian, Salad, Restaurants</td>\n",
       "      <td>19</td>\n",
       "      <td>2.944439</td>\n",
       "      <td>-0.052632</td>\n",
       "    </tr>\n",
       "    <tr>\n",
       "      <th>1458</th>\n",
       "      <td>sweetgreen</td>\n",
       "      <td>King Of Prussia</td>\n",
       "      <td>PA</td>\n",
       "      <td>19406</td>\n",
       "      <td>91</td>\n",
       "      <td>Restaurants, Salad, Vegetarian</td>\n",
       "      <td>19</td>\n",
       "      <td>2.944439</td>\n",
       "      <td>-0.052632</td>\n",
       "    </tr>\n",
       "    <tr>\n",
       "      <th>1459</th>\n",
       "      <td>uBreakiFix</td>\n",
       "      <td>New Orleans</td>\n",
       "      <td>LA</td>\n",
       "      <td>70130</td>\n",
       "      <td>105</td>\n",
       "      <td>Local Services, Electronics Repair, IT Service...</td>\n",
       "      <td>18</td>\n",
       "      <td>3.211524</td>\n",
       "      <td>-0.055556</td>\n",
       "    </tr>\n",
       "    <tr>\n",
       "      <th>1460</th>\n",
       "      <td>uBreakiFix</td>\n",
       "      <td>Tampa</td>\n",
       "      <td>FL</td>\n",
       "      <td>33618</td>\n",
       "      <td>76</td>\n",
       "      <td>Mobile Phone Repair, Mobile Phone Accessories,...</td>\n",
       "      <td>13</td>\n",
       "      <td>2.564949</td>\n",
       "      <td>-0.076923</td>\n",
       "    </tr>\n",
       "  </tbody>\n",
       "</table>\n",
       "<p>1461 rows × 9 columns</p>\n",
       "</div>"
      ],
      "text/plain": [
       "                         name              city state postal_code  \\\n",
       "0                 1933 Lounge      Indianapolis    IN       46225   \n",
       "1                 1933 Lounge           Fishers    IN       46037   \n",
       "2         4 Rivers Smokehouse             Tampa    FL       33618   \n",
       "3         4 Rivers Smokehouse         Tampa Bay    FL       33609   \n",
       "4     54th Street Grill & Bar  St. Louis County    MO       63126   \n",
       "...                       ...               ...   ...         ...   \n",
       "1456                 Zydeco's      Belle Chasse    LA       70037   \n",
       "1457               sweetgreen      Philadelphia    PA       19103   \n",
       "1458               sweetgreen   King Of Prussia    PA       19406   \n",
       "1459               uBreakiFix       New Orleans    LA       70130   \n",
       "1460               uBreakiFix             Tampa    FL       33618   \n",
       "\n",
       "      review_count                                         categories density  \\\n",
       "0              160  Bars, Nightlife, Restaurants, American (Tradit...       6   \n",
       "1              150  Steakhouses, Nightlife, Bars, Wine Bars, Resta...       6   \n",
       "2              572  Barbeque, Smokehouse, Restaurants, Food, South...      13   \n",
       "3              343  Barbeque, Smokehouse, Food, Event Planning & S...      11   \n",
       "4              146  American (Traditional), Bars, Nightlife, Burge...       3   \n",
       "...            ...                                                ...     ...   \n",
       "1456           161  Restaurants, Cajun/Creole, American (New), Sea...       1   \n",
       "1457           213        Vegan, Soup, Vegetarian, Salad, Restaurants      19   \n",
       "1458            91                     Restaurants, Salad, Vegetarian      19   \n",
       "1459           105  Local Services, Electronics Repair, IT Service...      18   \n",
       "1460            76  Mobile Phone Repair, Mobile Phone Accessories,...      13   \n",
       "\n",
       "       entropy competitiveness  \n",
       "0     1.791759       -0.166667  \n",
       "1     1.791759       -0.166667  \n",
       "2     2.564949       -0.076923  \n",
       "3     2.397895       -0.090909  \n",
       "4     1.098612       -0.333333  \n",
       "...        ...             ...  \n",
       "1456      -0.0            -1.0  \n",
       "1457  2.944439       -0.052632  \n",
       "1458  2.944439       -0.052632  \n",
       "1459  3.211524       -0.055556  \n",
       "1460  2.564949       -0.076923  \n",
       "\n",
       "[1461 rows x 9 columns]"
      ]
     },
     "execution_count": 7,
     "metadata": {},
     "output_type": "execute_result"
    }
   ],
   "source": [
    "df"
   ]
  },
  {
   "cell_type": "code",
   "execution_count": 8,
   "metadata": {
    "ExecuteTime": {
     "end_time": "2023-03-30T10:47:26.494639Z",
     "start_time": "2023-03-30T10:47:26.489051Z"
    }
   },
   "outputs": [
    {
     "data": {
      "text/plain": [
       "566"
      ]
     },
     "execution_count": 8,
     "metadata": {},
     "output_type": "execute_result"
    }
   ],
   "source": [
    "len(Counter(df.name))"
   ]
  },
  {
   "cell_type": "code",
   "execution_count": 9,
   "metadata": {
    "ExecuteTime": {
     "end_time": "2023-03-30T10:47:27.929007Z",
     "start_time": "2023-03-30T10:47:27.063951Z"
    }
   },
   "outputs": [
    {
     "name": "stderr",
     "output_type": "stream",
     "text": [
      "/home/adam/.local/lib/python3.7/site-packages/ipykernel_launcher.py:8: SettingWithCopyWarning: \n",
      "A value is trying to be set on a copy of a slice from a DataFrame\n",
      "\n",
      "See the caveats in the documentation: https://pandas.pydata.org/pandas-docs/stable/user_guide/indexing.html#returning-a-view-versus-a-copy\n",
      "  \n"
     ]
    }
   ],
   "source": [
    "# create relevance score\n",
    "cnt = 0\n",
    "for i in Counter(df.name):\n",
    "    tmp = df[df.name==i].reset_index(drop=True)\n",
    "    tmp['relevance']=''\n",
    "    score = 6\n",
    "    for j in range(len(tmp)):\n",
    "        tmp['relevance'][j]=score\n",
    "        score -=1\n",
    "    if cnt ==0 :\n",
    "        new_df = tmp\n",
    "        cnt+=1\n",
    "    new_df = pd.concat([new_df,tmp])"
   ]
  },
  {
   "cell_type": "code",
   "execution_count": 8,
   "metadata": {},
   "outputs": [],
   "source": [
    "# # breakdown affinity & complementary\n",
    "# from operator import itemgetter\n",
    "# indices = range(len(df['affinity'][0]))\n",
    "# a_df = df['affinity'].transform({f'affinity_{i+1}': itemgetter(i) for i in indices})\n",
    "\n",
    "# indices = range(len(df['complementary'][0]))\n",
    "# c_df = df['complementary'].transform({f'complementary_{i+1}': itemgetter(i) for i in indices})"
   ]
  },
  {
   "cell_type": "code",
   "execution_count": 9,
   "metadata": {},
   "outputs": [],
   "source": [
    "# new_df = new_df.join(a_df)\n",
    "# new_df = new_df.join(c_df)"
   ]
  },
  {
   "cell_type": "markdown",
   "metadata": {},
   "source": [
    "## Model"
   ]
  },
  {
   "cell_type": "markdown",
   "metadata": {},
   "source": [
    "### Create Dataset"
   ]
  },
  {
   "cell_type": "code",
   "execution_count": 10,
   "metadata": {
    "ExecuteTime": {
     "end_time": "2023-03-30T10:47:43.735625Z",
     "start_time": "2023-03-30T10:47:43.729908Z"
    }
   },
   "outputs": [
    {
     "data": {
      "text/plain": [
       "Index(['name', 'city', 'state', 'postal_code', 'review_count', 'categories',\n",
       "       'density', 'entropy', 'competitiveness', 'relevance'],\n",
       "      dtype='object')"
      ]
     },
     "execution_count": 10,
     "metadata": {},
     "output_type": "execute_result"
    }
   ],
   "source": [
    "new_df.columns"
   ]
  },
  {
   "cell_type": "code",
   "execution_count": 11,
   "metadata": {
    "ExecuteTime": {
     "end_time": "2023-03-30T10:47:44.606242Z",
     "start_time": "2023-03-30T10:47:44.600458Z"
    }
   },
   "outputs": [],
   "source": [
    "all_postal_code = [i for i in Counter(new_df.postal_code)]"
   ]
  },
  {
   "cell_type": "code",
   "execution_count": 12,
   "metadata": {
    "ExecuteTime": {
     "end_time": "2023-03-30T10:47:47.056128Z",
     "start_time": "2023-03-30T10:47:46.297031Z"
    }
   },
   "outputs": [],
   "source": [
    "# split train test \n",
    "cnt = 0\n",
    "\n",
    "for i in Counter(df.name):\n",
    "    tmp = new_df[new_df.name==i]\n",
    "    \n",
    "    if cnt ==0:\n",
    "        \n",
    "        train_df = tmp.iloc[:-1,:]\n",
    "        test_df = tmp.iloc[-1:,:]\n",
    "        cnt+=1\n",
    "    else:\n",
    "        train_df = pd.concat([train_df ,tmp.iloc[:-1,:] ])\n",
    "        test_df = pd.concat([test_df ,tmp.iloc[-1:,:] ])\n",
    "    \n"
   ]
  },
  {
   "cell_type": "code",
   "execution_count": 13,
   "metadata": {
    "ExecuteTime": {
     "end_time": "2023-03-30T10:47:48.872718Z",
     "start_time": "2023-03-30T10:47:48.864735Z"
    }
   },
   "outputs": [
    {
     "name": "stdout",
     "output_type": "stream",
     "text": [
      "(897, 10) (566, 10)\n"
     ]
    }
   ],
   "source": [
    "print(train_df.shape , test_df.shape)"
   ]
  },
  {
   "cell_type": "code",
   "execution_count": 16,
   "metadata": {
    "ExecuteTime": {
     "end_time": "2023-03-30T10:49:11.520888Z",
     "start_time": "2023-03-30T10:49:11.514312Z"
    }
   },
   "outputs": [],
   "source": [
    "features = ['name', 'city', 'state', 'postal_code', 'review_count', 'categories',\n",
    "       'density', 'entropy', 'competitiveness',\n",
    "       'affinity_1', 'affinity_2', 'affinity_3', 'affinity_4',\n",
    "       'affinity_5', 'affinity_6', 'affinity_7', 'affinity_8', 'affinity_9',\n",
    "       'affinity_10', 'complementary_1', 'complementary_2', 'complementary_3',\n",
    "       'complementary_4', 'complementary_5', 'complementary_6',\n",
    "       'complementary_7', 'complementary_8', 'complementary_9',\n",
    "       'complementary_10']\n",
    "target = 'relevance'\n",
    "\n",
    "for i in ['density', 'entropy', 'competitiveness','relevance']:\n",
    "       train_df[i] = train_df[i].astype('float')"
   ]
  },
  {
   "cell_type": "markdown",
   "metadata": {},
   "source": [
    "### Training"
   ]
  },
  {
   "cell_type": "code",
   "execution_count": 17,
   "metadata": {
    "ExecuteTime": {
     "end_time": "2023-03-30T10:49:13.866652Z",
     "start_time": "2023-03-30T10:49:13.861284Z"
    }
   },
   "outputs": [
    {
     "data": {
      "text/plain": [
       "Index(['name', 'city', 'state', 'postal_code', 'review_count', 'categories',\n",
       "       'density', 'entropy', 'competitiveness', 'relevance'],\n",
       "      dtype='object')"
      ]
     },
     "execution_count": 17,
     "metadata": {},
     "output_type": "execute_result"
    }
   ],
   "source": [
    "train_df.columns"
   ]
  },
  {
   "cell_type": "code",
   "execution_count": 21,
   "metadata": {
    "ExecuteTime": {
     "end_time": "2023-03-30T10:49:38.942535Z",
     "start_time": "2023-03-30T10:49:38.935975Z"
    }
   },
   "outputs": [
    {
     "data": {
      "text/plain": [
       "897"
      ]
     },
     "execution_count": 21,
     "metadata": {},
     "output_type": "execute_result"
    }
   ],
   "source": [
    "train_features = ['density', 'entropy', 'competitiveness']\n",
    "len(train_df[train_features])"
   ]
  },
  {
   "cell_type": "code",
   "execution_count": 24,
   "metadata": {
    "ExecuteTime": {
     "end_time": "2023-03-30T10:56:36.621940Z",
     "start_time": "2023-03-30T10:56:36.613412Z"
    }
   },
   "outputs": [
    {
     "name": "stdout",
     "output_type": "stream",
     "text": [
      "897 566\n"
     ]
    }
   ],
   "source": [
    "get_group_size = lambda df: df.reset_index().groupby(\"postal_code\")['postal_code'].count()\n",
    "\n",
    "train_groups = get_group_size(train_df).to_numpy()\n",
    "test_groups = get_group_size(test_df).to_numpy()\n",
    "\n",
    "print(sum(train_groups) , sum(test_groups))"
   ]
  },
  {
   "cell_type": "code",
   "execution_count": 25,
   "metadata": {
    "ExecuteTime": {
     "end_time": "2023-03-30T11:01:42.388206Z",
     "start_time": "2023-03-30T11:01:41.782565Z"
    }
   },
   "outputs": [
    {
     "ename": "ValueError",
     "evalue": "Length of eval_group should be equal to eval_set",
     "output_type": "error",
     "traceback": [
      "\u001b[0;31m---------------------------------------------------------------------------\u001b[0m",
      "\u001b[0;31mValueError\u001b[0m                                Traceback (most recent call last)",
      "\u001b[0;32m/tmp/ipykernel_11405/2774927772.py\u001b[0m in \u001b[0;36m<module>\u001b[0;34m\u001b[0m\n\u001b[1;32m      3\u001b[0m \u001b[0;34m\u001b[0m\u001b[0m\n\u001b[1;32m      4\u001b[0m \u001b[0mmodel\u001b[0m \u001b[0;34m=\u001b[0m \u001b[0mLGBMRanker\u001b[0m\u001b[0;34m(\u001b[0m\u001b[0mobjective\u001b[0m\u001b[0;34m=\u001b[0m\u001b[0;34m\"lambdarank\"\u001b[0m\u001b[0;34m)\u001b[0m\u001b[0;34m\u001b[0m\u001b[0;34m\u001b[0m\u001b[0m\n\u001b[0;32m----> 5\u001b[0;31m \u001b[0mmodel\u001b[0m\u001b[0;34m.\u001b[0m\u001b[0mfit\u001b[0m\u001b[0;34m(\u001b[0m\u001b[0mtrain_df\u001b[0m\u001b[0;34m[\u001b[0m\u001b[0mtrain_features\u001b[0m\u001b[0;34m]\u001b[0m\u001b[0;34m,\u001b[0m\u001b[0mtrain_df\u001b[0m\u001b[0;34m[\u001b[0m\u001b[0;34m[\u001b[0m\u001b[0;34m'relevance'\u001b[0m\u001b[0;34m]\u001b[0m\u001b[0;34m]\u001b[0m\u001b[0;34m,\u001b[0m\u001b[0mgroup\u001b[0m\u001b[0;34m=\u001b[0m\u001b[0mtrain_groups\u001b[0m\u001b[0;34m,\u001b[0m\u001b[0meval_set\u001b[0m\u001b[0;34m=\u001b[0m\u001b[0;34m[\u001b[0m\u001b[0;34m(\u001b[0m\u001b[0mtest_df\u001b[0m\u001b[0;34m[\u001b[0m\u001b[0mtrain_features\u001b[0m\u001b[0;34m]\u001b[0m\u001b[0;34m,\u001b[0m\u001b[0mtest_df\u001b[0m\u001b[0;34m[\u001b[0m\u001b[0;34m[\u001b[0m\u001b[0;34m'relevance'\u001b[0m\u001b[0;34m]\u001b[0m\u001b[0;34m]\u001b[0m\u001b[0;34m)\u001b[0m\u001b[0;34m]\u001b[0m\u001b[0;34m,\u001b[0m\u001b[0meval_group\u001b[0m\u001b[0;34m=\u001b[0m\u001b[0mtest_groups\u001b[0m\u001b[0;34m,\u001b[0m\u001b[0meval_metric\u001b[0m\u001b[0;34m=\u001b[0m\u001b[0;34m[\u001b[0m\u001b[0;34m'ndcg'\u001b[0m\u001b[0;34m]\u001b[0m\u001b[0;34m)\u001b[0m\u001b[0;34m\u001b[0m\u001b[0;34m\u001b[0m\u001b[0m\n\u001b[0m",
      "\u001b[0;32m~/.local/lib/python3.7/site-packages/lightgbm/sklearn.py\u001b[0m in \u001b[0;36mfit\u001b[0;34m(self, X, y, sample_weight, init_score, group, eval_set, eval_names, eval_sample_weight, eval_init_score, eval_group, eval_metric, eval_at, early_stopping_rounds, verbose, feature_name, categorical_feature, callbacks, init_model)\u001b[0m\n\u001b[1;32m   1056\u001b[0m                 \u001b[0;32mraise\u001b[0m \u001b[0mValueError\u001b[0m\u001b[0;34m(\u001b[0m\u001b[0;34m\"Eval_group cannot be None when eval_set is not None\"\u001b[0m\u001b[0;34m)\u001b[0m\u001b[0;34m\u001b[0m\u001b[0;34m\u001b[0m\u001b[0m\n\u001b[1;32m   1057\u001b[0m             \u001b[0;32melif\u001b[0m \u001b[0mlen\u001b[0m\u001b[0;34m(\u001b[0m\u001b[0meval_group\u001b[0m\u001b[0;34m)\u001b[0m \u001b[0;34m!=\u001b[0m \u001b[0mlen\u001b[0m\u001b[0;34m(\u001b[0m\u001b[0meval_set\u001b[0m\u001b[0;34m)\u001b[0m\u001b[0;34m:\u001b[0m\u001b[0;34m\u001b[0m\u001b[0;34m\u001b[0m\u001b[0m\n\u001b[0;32m-> 1058\u001b[0;31m                 \u001b[0;32mraise\u001b[0m \u001b[0mValueError\u001b[0m\u001b[0;34m(\u001b[0m\u001b[0;34m\"Length of eval_group should be equal to eval_set\"\u001b[0m\u001b[0;34m)\u001b[0m\u001b[0;34m\u001b[0m\u001b[0;34m\u001b[0m\u001b[0m\n\u001b[0m\u001b[1;32m   1059\u001b[0m             elif (isinstance(eval_group, dict)\n\u001b[1;32m   1060\u001b[0m                   \u001b[0;32mand\u001b[0m \u001b[0many\u001b[0m\u001b[0;34m(\u001b[0m\u001b[0mi\u001b[0m \u001b[0;32mnot\u001b[0m \u001b[0;32min\u001b[0m \u001b[0meval_group\u001b[0m \u001b[0;32mor\u001b[0m \u001b[0meval_group\u001b[0m\u001b[0;34m[\u001b[0m\u001b[0mi\u001b[0m\u001b[0;34m]\u001b[0m \u001b[0;32mis\u001b[0m \u001b[0;32mNone\u001b[0m \u001b[0;32mfor\u001b[0m \u001b[0mi\u001b[0m \u001b[0;32min\u001b[0m \u001b[0mrange\u001b[0m\u001b[0;34m(\u001b[0m\u001b[0mlen\u001b[0m\u001b[0;34m(\u001b[0m\u001b[0meval_group\u001b[0m\u001b[0;34m)\u001b[0m\u001b[0;34m)\u001b[0m\u001b[0;34m)\u001b[0m\u001b[0;34m\u001b[0m\u001b[0;34m\u001b[0m\u001b[0m\n",
      "\u001b[0;31mValueError\u001b[0m: Length of eval_group should be equal to eval_set"
     ]
    }
   ],
   "source": [
    "from lightgbm import LGBMRanker\n",
    "train_features = ['density', 'entropy', 'competitiveness']\n",
    "\n",
    "model = LGBMRanker(objective=\"lambdarank\")\n",
    "model.fit(train_df[train_features],train_df[['relevance']],group=train_groups,eval_set=[(test_df[train_features],test_df[['relevance']])],eval_group=test_groups,eval_metric=['ndcg'])"
   ]
  },
  {
   "cell_type": "code",
   "execution_count": 45,
   "metadata": {},
   "outputs": [
    {
     "data": {
      "text/plain": [
       "1"
      ]
     },
     "execution_count": 45,
     "metadata": {},
     "output_type": "execute_result"
    }
   ],
   "source": [
    "len([(test_df[train_features],test_df['relevance'])])"
   ]
  },
  {
   "cell_type": "code",
   "execution_count": 46,
   "metadata": {},
   "outputs": [
    {
     "data": {
      "text/plain": [
       "[(   density   entropy competitiveness\n",
       "  1        6  1.791759       -0.166667\n",
       "  1       11  2.397895       -0.090909\n",
       "  1        4  1.386294           -0.25\n",
       "  1       10  2.302585            -0.1\n",
       "  1        3  1.098612       -0.333333\n",
       "  ..     ...       ...             ...\n",
       "  1        4  1.386294           -0.25\n",
       "  4        4  1.386294           -0.25\n",
       "  1        1      -0.0            -1.0\n",
       "  1       19  2.944439       -0.052632\n",
       "  1       13  2.564949       -0.076923\n",
       "  \n",
       "  [566 rows x 3 columns],\n",
       "  1    5\n",
       "  1    5\n",
       "  1    5\n",
       "  1    5\n",
       "  1    5\n",
       "      ..\n",
       "  1    5\n",
       "  4    2\n",
       "  1    5\n",
       "  1    5\n",
       "  1    5\n",
       "  Name: relevance, Length: 566, dtype: object)]"
      ]
     },
     "execution_count": 46,
     "metadata": {},
     "output_type": "execute_result"
    }
   ],
   "source": [
    "[(test_df[train_features],test_df['relevance'])]"
   ]
  },
  {
   "cell_type": "code",
   "execution_count": null,
   "metadata": {},
   "outputs": [],
   "source": []
  }
 ],
 "metadata": {
  "kernelspec": {
   "display_name": "steph-env",
   "language": "python",
   "name": "steph-env"
  },
  "language_info": {
   "codemirror_mode": {
    "name": "ipython",
    "version": 3
   },
   "file_extension": ".py",
   "mimetype": "text/x-python",
   "name": "python",
   "nbconvert_exporter": "python",
   "pygments_lexer": "ipython3",
   "version": "3.7.5"
  },
  "toc": {
   "base_numbering": 1,
   "nav_menu": {},
   "number_sections": true,
   "sideBar": true,
   "skip_h1_title": false,
   "title_cell": "Table of Contents",
   "title_sidebar": "Contents",
   "toc_cell": false,
   "toc_position": {},
   "toc_section_display": true,
   "toc_window_display": false
  },
  "varInspector": {
   "cols": {
    "lenName": 16,
    "lenType": 16,
    "lenVar": 40
   },
   "kernels_config": {
    "python": {
     "delete_cmd_postfix": "",
     "delete_cmd_prefix": "del ",
     "library": "var_list.py",
     "varRefreshCmd": "print(var_dic_list())"
    },
    "r": {
     "delete_cmd_postfix": ") ",
     "delete_cmd_prefix": "rm(",
     "library": "var_list.r",
     "varRefreshCmd": "cat(var_dic_list()) "
    }
   },
   "types_to_exclude": [
    "module",
    "function",
    "builtin_function_or_method",
    "instance",
    "_Feature"
   ],
   "window_display": false
  }
 },
 "nbformat": 4,
 "nbformat_minor": 2
}
