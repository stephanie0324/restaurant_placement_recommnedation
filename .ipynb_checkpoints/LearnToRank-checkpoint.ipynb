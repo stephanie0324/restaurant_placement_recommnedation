{
 "cells": [
  {
   "cell_type": "markdown",
   "metadata": {},
   "source": [
    "# Learn to Rank"
   ]
  },
  {
   "cell_type": "markdown",
   "metadata": {},
   "source": [
    "## Import "
   ]
  },
  {
   "cell_type": "code",
   "execution_count": 1,
   "metadata": {},
   "outputs": [],
   "source": [
    "import pandas as pd\n",
    "import json\n",
    "import numpy as np\n",
    "from collections import Counter\n",
    "import matplotlib.pyplot as plt\n",
    "import pickle\n",
    "import math "
   ]
  },
  {
   "cell_type": "code",
   "execution_count": 2,
   "metadata": {},
   "outputs": [],
   "source": [
    "df = pd.read_pickle('../data/df.pkl')"
   ]
  },
  {
   "cell_type": "markdown",
   "metadata": {},
   "source": [
    "## DF Construction\n",
    "* add relevance"
   ]
  },
  {
   "cell_type": "code",
   "execution_count": 3,
   "metadata": {},
   "outputs": [
    {
     "data": {
      "text/plain": [
       "Index(['index', 'business_id', 'stars_x', 'useful', 'funny', 'cool', 'text',\n",
       "       'date', 'name', 'address', 'city', 'state', 'postal_code', 'stars_y',\n",
       "       'review_count', 'is_open', 'attributes', 'categories', 'hours',\n",
       "       'affinity', 'complementary', 'density', 'entropy', 'competitiveness'],\n",
       "      dtype='object')"
      ]
     },
     "execution_count": 3,
     "metadata": {},
     "output_type": "execute_result"
    }
   ],
   "source": [
    "df.columns"
   ]
  },
  {
   "cell_type": "code",
   "execution_count": 4,
   "metadata": {},
   "outputs": [],
   "source": [
    "df = df.drop_duplicates(subset=['business_id','postal_code']).reset_index(drop=True)\n",
    "df = df.drop(columns=['index', 'business_id', 'stars_x', 'useful', 'funny', 'cool', 'text',\n",
    "       'date','address','is_open', 'stars_y','attributes','hours'])"
   ]
  },
  {
   "cell_type": "code",
   "execution_count": 5,
   "metadata": {},
   "outputs": [],
   "source": [
    "# sort by name and review count \n",
    "df = df.sort_values(['name', 'review_count'],\n",
    "              ascending = [True, False]).reset_index(drop=True)"
   ]
  },
  {
   "cell_type": "code",
   "execution_count": 6,
   "metadata": {},
   "outputs": [
    {
     "name": "stderr",
     "output_type": "stream",
     "text": [
      "/home/adam/.local/lib/python3.7/site-packages/ipykernel_launcher.py:8: SettingWithCopyWarning: \n",
      "A value is trying to be set on a copy of a slice from a DataFrame\n",
      "\n",
      "See the caveats in the documentation: https://pandas.pydata.org/pandas-docs/stable/user_guide/indexing.html#returning-a-view-versus-a-copy\n",
      "  \n"
     ]
    }
   ],
   "source": [
    "# create relevance score\n",
    "cnt = 0\n",
    "for i in Counter(df.name):\n",
    "    tmp = df[df.name==i].reset_index(drop=True)\n",
    "    tmp['relevance']=''\n",
    "    score = 1/len(tmp)\n",
    "    for j in range(len(tmp)):\n",
    "        tmp['relevance'][j]=1-score*j\n",
    "    if cnt ==0 :\n",
    "        new_df = tmp\n",
    "        cnt+=1\n",
    "    new_df = pd.concat([new_df,tmp])"
   ]
  },
  {
   "cell_type": "code",
   "execution_count": 7,
   "metadata": {},
   "outputs": [
    {
     "name": "stdout",
     "output_type": "stream",
     "text": [
      "Restaurant : Acropolis Greek Taverna , cities : Counter({'33605': 2, '33701': 2, '33613': 2, '33578': 2, '33609': 2})\n",
      "Restaurant : Another Broken Egg Cafe , cities : Counter({'33767': 1, '33611': 1, '33761': 1})\n",
      "Restaurant : Anthony's Coal Fired Pizza , cities : Counter({'33618': 1, '33511': 1, '33629': 1, '33761': 1})\n",
      "Restaurant : Ashley HomeStore , cities : Counter({'33763': 1, '33543': 1, '33510': 1, '33781': 1})\n",
      "Restaurant : BJ's Restaurant & Brewhouse , cities : Counter({'33781': 1, '33559': 1, '33625': 1, '33761': 1})\n",
      "Restaurant : Bahama Breeze , cities : Counter({'33607': 1, '33511': 1, '33559': 1})\n",
      "Restaurant : Bonefish Grill , cities : Counter({'33544': 1, '33618': 1, '33511': 1, '33761': 1, '33609': 1, '33703': 1, '33770': 1, '34655': 1, '33710': 1})\n",
      "Restaurant : Buffalo Wild Wings , cities : Counter({'33544': 1, '34655': 1, '33605': 1, '33511': 1, '33579': 1, '34677': 1, '33611': 1})\n",
      "Restaurant : Burger Monger , cities : Counter({'33618': 1, '33543': 1, '33701': 1, '33759': 1, '33629': 1})\n",
      "Restaurant : Capital Tacos , cities : Counter({'33545': 1, '34638': 1, '33511': 1, '34654': 1})\n",
      "Restaurant : Carrabba's Italian Grill , cities : Counter({'33511': 1, '33609': 1, '33759': 1, '33704': 1, '33558': 1, '33710': 1, '34684': 1, '33617': 1, '33626': 1, '33618': 1})\n",
      "Restaurant : Cheddar's Scratch Kitchen , cities : Counter({'33559': 1, '33618': 1, '33781': 1, '33760': 1})\n",
      "Restaurant : Chick-fil-A , cities : Counter({'33607': 1, '33609': 1, '33511': 1, '33611': 1, '33579': 1, '33559': 1, '33703': 1})\n",
      "Restaurant : Chicken Salad Chick , cities : Counter({'33612': 1, '34684': 1, '33772': 1, '33609': 1, '33548': 1})\n",
      "Restaurant : Chili's , cities : Counter({'33511': 1, '33612': 1, '33618': 1, '33710': 1})\n",
      "Restaurant : Chipotle Mexican Grill , cities : Counter({'33511': 2, '33612': 1, '33625': 1, '33606': 1, '33611': 1, '33607': 1, '33559': 1})\n",
      "Restaurant : Cody's Original Roadhouse , cities : Counter({'33635': 1, '33770': 1, '34689': 1})\n",
      "Restaurant : Cracker Barrel Old Country Store , cities : Counter({'33635': 1, '33584': 1, '33762': 1, '33613': 1, '33544': 1})\n",
      "Restaurant : First Watch , cities : Counter({'33544': 1, '33602': 1, '33612': 1, '33511': 1, '33578': 1, '33618': 1, '33609': 1, '33709': 1, '33761': 1, '33778': 1, '33764': 1, '34684': 1, '33559': 1, '34677': 1, '33701': 1, '34655': 1})\n",
      "Restaurant : Ford's Garage , cities : Counter({'33511': 1, '33559': 1, '33626': 1, '33761': 1, '33701': 1})\n",
      "Restaurant : Fuzzy's Taco Shop , cities : Counter({'33511': 1, '33617': 1, '33578': 1})\n",
      "Restaurant : Glory Days Grill , cities : Counter({'33702': 1, '33647': 1, '33558': 1, '34684': 1, '33511': 1, '33618': 1, '33543': 1, '33709': 1, '33578': 1})\n",
      "Restaurant : Hooters , cities : Counter({'33759': 1, '33767': 1, '33619': 1, '34668': 1, '33708': 1, '33614': 1})\n",
      "Restaurant : Ice & Cream Creamery , cities : Counter({'33767': 2, '34698': 1})\n",
      "Restaurant : Keke's Breakfast Cafe , cities : Counter({'33618': 1, '33569': 1, '33625': 1, '33612': 1, '33549': 1, '33629': 1, '33778': 1})\n",
      "Restaurant : LongHorn Steakhouse , cities : Counter({'33511': 1, '33764': 1, '33625': 1, '33559': 1, '33710': 1})\n",
      "Restaurant : Miller's Ale House , cities : Counter({'33772': 1, '33607': 1, '33702': 1, '33612': 1})\n",
      "Restaurant : Mr and Mrs Crab , cities : Counter({'33781': 1, '33611': 1, '33511': 1, '33765': 1})\n",
      "Restaurant : Noble Crust , cities : Counter({'33702': 1, '33618': 1, '33543': 1})\n",
      "Restaurant : Olive Garden Italian Restaurant , cities : Counter({'33511': 1, '33625': 1, '33647': 1, '33771': 1})\n",
      "Restaurant : Outback Steakhouse , cities : Counter({'33511': 1, '33609': 1, '33544': 1, '34684': 1, '33771': 1, '33618': 1, '33626': 1, '33704': 1, '34655': 1, '33547': 1, '33607': 1, '33772': 1})\n",
      "Restaurant : P.F. Chang's , cities : Counter({'33609': 1, '33761': 1, '33511': 1})\n",
      "Restaurant : Pollo Tropical , cities : Counter({'33781': 1, '33618': 1, '33559': 1, '33765': 1})\n",
      "Restaurant : Popeyes Louisiana Kitchen , cities : Counter({'33579': 1, '33615': 1, '33771': 1, '33543': 1, '33713': 1})\n",
      "Restaurant : Red Robin Gourmet Burgers and Brews , cities : Counter({'33511': 1, '33625': 1, '33761': 1, '33543': 1})\n",
      "Restaurant : Smokey Bones , cities : Counter({'33759': 1, '33511': 1, '33625': 1})\n",
      "Restaurant : Steak ’n Shake , cities : Counter({'33629': 1, '33761': 1, '33702': 1, '33771': 1})\n",
      "Restaurant : Taco Bus , cities : Counter({'33604': 1, '33602': 1, '33619': 1, '33767': 1, '33706': 1})\n",
      "Restaurant : Texas Roadhouse , cities : Counter({'33544': 1, '33578': 1, '33708': 1})\n",
      "Restaurant : WingHouse Bar & Grill , cities : Counter({'33607': 1, '33544': 1, '33759': 1, '33511': 1})\n",
      "Restaurant : Wingstop , cities : Counter({'33544': 1, '33511': 1, '33618': 1})\n"
     ]
    }
   ],
   "source": [
    "for i in Counter(new_df.name):\n",
    "    tmp = new_df[new_df.name==i]\n",
    "    print(f'Restaurant : {i} , cities : {Counter(tmp.postal_code)}')"
   ]
  },
  {
   "cell_type": "code",
   "execution_count": 8,
   "metadata": {},
   "outputs": [],
   "source": [
    "# breakdown affinity & complementary\n",
    "from operator import itemgetter\n",
    "indices = range(len(df['affinity'][0]))\n",
    "a_df = df['affinity'].transform({f'affinity_{i+1}': itemgetter(i) for i in indices})\n",
    "\n",
    "indices = range(len(df['complementary'][0]))\n",
    "c_df = df['complementary'].transform({f'complementary_{i+1}': itemgetter(i) for i in indices})"
   ]
  },
  {
   "cell_type": "code",
   "execution_count": 9,
   "metadata": {},
   "outputs": [],
   "source": [
    "new_df = new_df.join(a_df)\n",
    "new_df = new_df.join(c_df)"
   ]
  },
  {
   "cell_type": "markdown",
   "metadata": {},
   "source": [
    "## Model"
   ]
  },
  {
   "cell_type": "markdown",
   "metadata": {},
   "source": [
    "### Create Dataset"
   ]
  },
  {
   "cell_type": "code",
   "execution_count": 10,
   "metadata": {},
   "outputs": [
    {
     "data": {
      "text/plain": [
       "Index(['name', 'city', 'state', 'postal_code', 'review_count', 'categories',\n",
       "       'affinity', 'complementary', 'density', 'entropy', 'competitiveness',\n",
       "       'relevance', 'affinity_1', 'affinity_2', 'affinity_3', 'affinity_4',\n",
       "       'affinity_5', 'affinity_6', 'affinity_7', 'affinity_8', 'affinity_9',\n",
       "       'affinity_10', 'complementary_1', 'complementary_2', 'complementary_3',\n",
       "       'complementary_4', 'complementary_5', 'complementary_6',\n",
       "       'complementary_7', 'complementary_8', 'complementary_9',\n",
       "       'complementary_10'],\n",
       "      dtype='object')"
      ]
     },
     "execution_count": 10,
     "metadata": {},
     "output_type": "execute_result"
    }
   ],
   "source": [
    "new_df.columns"
   ]
  },
  {
   "cell_type": "code",
   "execution_count": 11,
   "metadata": {},
   "outputs": [],
   "source": [
    "features = ['name', 'city', 'state', 'postal_code', 'review_count', 'categories',\n",
    "       'density', 'entropy', 'competitiveness',\n",
    "       'affinity_1', 'affinity_2', 'affinity_3', 'affinity_4',\n",
    "       'affinity_5', 'affinity_6', 'affinity_7', 'affinity_8', 'affinity_9',\n",
    "       'affinity_10', 'complementary_1', 'complementary_2', 'complementary_3',\n",
    "       'complementary_4', 'complementary_5', 'complementary_6',\n",
    "       'complementary_7', 'complementary_8', 'complementary_9',\n",
    "       'complementary_10']\n",
    "target = 'relevance'\n",
    "\n",
    "for i in ['density', 'entropy', 'competitiveness',\n",
    "       'relevance', 'affinity_1', 'affinity_2', 'affinity_3', 'affinity_4',\n",
    "       'affinity_5', 'affinity_6', 'affinity_7', 'affinity_8', 'affinity_9',\n",
    "       'affinity_10', 'complementary_1', 'complementary_2', 'complementary_3',\n",
    "       'complementary_4', 'complementary_5', 'complementary_6',\n",
    "       'complementary_7', 'complementary_8', 'complementary_9',\n",
    "       'complementary_10']:\n",
    "       new_df[i] = new_df[i].astype('int32')\n",
    "# train test split \n",
    "from sklearn.model_selection import train_test_split\n",
    "X_train, X_test, y_train, y_test = train_test_split( new_df[features], new_df[target], test_size=0.33, random_state=42)"
   ]
  },
  {
   "cell_type": "code",
   "execution_count": 12,
   "metadata": {},
   "outputs": [
    {
     "name": "stdout",
     "output_type": "stream",
     "text": [
      "146 72\n"
     ]
    }
   ],
   "source": [
    "get_group_size = lambda new_df: new_df.reset_index().groupby(\"name\")['name'].count()\n",
    "\n",
    "train_groups = get_group_size(X_train)\n",
    "test_groups = get_group_size(X_test)\n",
    "\n",
    "print(sum(train_groups) , sum(test_groups))"
   ]
  },
  {
   "cell_type": "markdown",
   "metadata": {},
   "source": [
    "### training"
   ]
  },
  {
   "cell_type": "code",
   "execution_count": 13,
   "metadata": {},
   "outputs": [
    {
     "name": "stdout",
     "output_type": "stream",
     "text": [
      "[1]\tvalid_0's ndcg@1: 0.818182\tvalid_0's ndcg@2: 0.921174\tvalid_0's ndcg@3: 0.921174\tvalid_0's ndcg@4: 0.929176\tvalid_0's ndcg@5: 0.929176\n",
      "[2]\tvalid_0's ndcg@1: 0.818182\tvalid_0's ndcg@2: 0.921174\tvalid_0's ndcg@3: 0.930464\tvalid_0's ndcg@4: 0.930464\tvalid_0's ndcg@5: 0.930464\n",
      "[3]\tvalid_0's ndcg@1: 0.818182\tvalid_0's ndcg@2: 0.921174\tvalid_0's ndcg@3: 0.930464\tvalid_0's ndcg@4: 0.930464\tvalid_0's ndcg@5: 0.930464\n",
      "[4]\tvalid_0's ndcg@1: 0.818182\tvalid_0's ndcg@2: 0.921174\tvalid_0's ndcg@3: 0.930464\tvalid_0's ndcg@4: 0.930464\tvalid_0's ndcg@5: 0.930464\n",
      "[5]\tvalid_0's ndcg@1: 0.818182\tvalid_0's ndcg@2: 0.921174\tvalid_0's ndcg@3: 0.930464\tvalid_0's ndcg@4: 0.930464\tvalid_0's ndcg@5: 0.930464\n",
      "[6]\tvalid_0's ndcg@1: 0.818182\tvalid_0's ndcg@2: 0.921174\tvalid_0's ndcg@3: 0.930464\tvalid_0's ndcg@4: 0.930464\tvalid_0's ndcg@5: 0.930464\n",
      "[7]\tvalid_0's ndcg@1: 0.818182\tvalid_0's ndcg@2: 0.921174\tvalid_0's ndcg@3: 0.930464\tvalid_0's ndcg@4: 0.930464\tvalid_0's ndcg@5: 0.930464\n",
      "[8]\tvalid_0's ndcg@1: 0.818182\tvalid_0's ndcg@2: 0.921174\tvalid_0's ndcg@3: 0.930464\tvalid_0's ndcg@4: 0.930464\tvalid_0's ndcg@5: 0.930464\n",
      "[9]\tvalid_0's ndcg@1: 0.818182\tvalid_0's ndcg@2: 0.921174\tvalid_0's ndcg@3: 0.930464\tvalid_0's ndcg@4: 0.930464\tvalid_0's ndcg@5: 0.930464\n",
      "[10]\tvalid_0's ndcg@1: 0.818182\tvalid_0's ndcg@2: 0.921174\tvalid_0's ndcg@3: 0.930464\tvalid_0's ndcg@4: 0.930464\tvalid_0's ndcg@5: 0.930464\n",
      "[11]\tvalid_0's ndcg@1: 0.818182\tvalid_0's ndcg@2: 0.921174\tvalid_0's ndcg@3: 0.930464\tvalid_0's ndcg@4: 0.930464\tvalid_0's ndcg@5: 0.930464\n",
      "[12]\tvalid_0's ndcg@1: 0.818182\tvalid_0's ndcg@2: 0.921174\tvalid_0's ndcg@3: 0.930464\tvalid_0's ndcg@4: 0.930464\tvalid_0's ndcg@5: 0.930464\n",
      "[13]\tvalid_0's ndcg@1: 0.818182\tvalid_0's ndcg@2: 0.921174\tvalid_0's ndcg@3: 0.930464\tvalid_0's ndcg@4: 0.930464\tvalid_0's ndcg@5: 0.930464\n",
      "[14]\tvalid_0's ndcg@1: 0.818182\tvalid_0's ndcg@2: 0.921174\tvalid_0's ndcg@3: 0.930464\tvalid_0's ndcg@4: 0.930464\tvalid_0's ndcg@5: 0.930464\n",
      "[15]\tvalid_0's ndcg@1: 0.818182\tvalid_0's ndcg@2: 0.921174\tvalid_0's ndcg@3: 0.930464\tvalid_0's ndcg@4: 0.930464\tvalid_0's ndcg@5: 0.930464\n",
      "[16]\tvalid_0's ndcg@1: 0.818182\tvalid_0's ndcg@2: 0.921174\tvalid_0's ndcg@3: 0.930464\tvalid_0's ndcg@4: 0.930464\tvalid_0's ndcg@5: 0.930464\n",
      "[17]\tvalid_0's ndcg@1: 0.818182\tvalid_0's ndcg@2: 0.921174\tvalid_0's ndcg@3: 0.930464\tvalid_0's ndcg@4: 0.930464\tvalid_0's ndcg@5: 0.930464\n",
      "[18]\tvalid_0's ndcg@1: 0.818182\tvalid_0's ndcg@2: 0.921174\tvalid_0's ndcg@3: 0.930464\tvalid_0's ndcg@4: 0.930464\tvalid_0's ndcg@5: 0.930464\n",
      "[19]\tvalid_0's ndcg@1: 0.818182\tvalid_0's ndcg@2: 0.921174\tvalid_0's ndcg@3: 0.930464\tvalid_0's ndcg@4: 0.930464\tvalid_0's ndcg@5: 0.930464\n",
      "[20]\tvalid_0's ndcg@1: 0.818182\tvalid_0's ndcg@2: 0.921174\tvalid_0's ndcg@3: 0.930464\tvalid_0's ndcg@4: 0.930464\tvalid_0's ndcg@5: 0.930464\n",
      "[21]\tvalid_0's ndcg@1: 0.818182\tvalid_0's ndcg@2: 0.921174\tvalid_0's ndcg@3: 0.930464\tvalid_0's ndcg@4: 0.930464\tvalid_0's ndcg@5: 0.930464\n",
      "[22]\tvalid_0's ndcg@1: 0.818182\tvalid_0's ndcg@2: 0.921174\tvalid_0's ndcg@3: 0.930464\tvalid_0's ndcg@4: 0.930464\tvalid_0's ndcg@5: 0.930464\n",
      "[23]\tvalid_0's ndcg@1: 0.818182\tvalid_0's ndcg@2: 0.921174\tvalid_0's ndcg@3: 0.930464\tvalid_0's ndcg@4: 0.930464\tvalid_0's ndcg@5: 0.930464\n",
      "[24]\tvalid_0's ndcg@1: 0.818182\tvalid_0's ndcg@2: 0.921174\tvalid_0's ndcg@3: 0.930464\tvalid_0's ndcg@4: 0.930464\tvalid_0's ndcg@5: 0.930464\n",
      "[25]\tvalid_0's ndcg@1: 0.818182\tvalid_0's ndcg@2: 0.921174\tvalid_0's ndcg@3: 0.930464\tvalid_0's ndcg@4: 0.930464\tvalid_0's ndcg@5: 0.930464\n",
      "[26]\tvalid_0's ndcg@1: 0.818182\tvalid_0's ndcg@2: 0.921174\tvalid_0's ndcg@3: 0.930464\tvalid_0's ndcg@4: 0.930464\tvalid_0's ndcg@5: 0.930464\n",
      "[27]\tvalid_0's ndcg@1: 0.818182\tvalid_0's ndcg@2: 0.921174\tvalid_0's ndcg@3: 0.930464\tvalid_0's ndcg@4: 0.930464\tvalid_0's ndcg@5: 0.930464\n",
      "[28]\tvalid_0's ndcg@1: 0.818182\tvalid_0's ndcg@2: 0.921174\tvalid_0's ndcg@3: 0.930464\tvalid_0's ndcg@4: 0.930464\tvalid_0's ndcg@5: 0.930464\n",
      "[29]\tvalid_0's ndcg@1: 0.818182\tvalid_0's ndcg@2: 0.921174\tvalid_0's ndcg@3: 0.930464\tvalid_0's ndcg@4: 0.930464\tvalid_0's ndcg@5: 0.930464\n",
      "[30]\tvalid_0's ndcg@1: 0.818182\tvalid_0's ndcg@2: 0.921174\tvalid_0's ndcg@3: 0.930464\tvalid_0's ndcg@4: 0.930464\tvalid_0's ndcg@5: 0.930464\n",
      "[31]\tvalid_0's ndcg@1: 0.818182\tvalid_0's ndcg@2: 0.921174\tvalid_0's ndcg@3: 0.930464\tvalid_0's ndcg@4: 0.930464\tvalid_0's ndcg@5: 0.930464\n",
      "[32]\tvalid_0's ndcg@1: 0.818182\tvalid_0's ndcg@2: 0.921174\tvalid_0's ndcg@3: 0.930464\tvalid_0's ndcg@4: 0.930464\tvalid_0's ndcg@5: 0.930464\n",
      "[33]\tvalid_0's ndcg@1: 0.818182\tvalid_0's ndcg@2: 0.921174\tvalid_0's ndcg@3: 0.930464\tvalid_0's ndcg@4: 0.930464\tvalid_0's ndcg@5: 0.930464\n",
      "[34]\tvalid_0's ndcg@1: 0.818182\tvalid_0's ndcg@2: 0.921174\tvalid_0's ndcg@3: 0.930464\tvalid_0's ndcg@4: 0.930464\tvalid_0's ndcg@5: 0.930464\n",
      "[35]\tvalid_0's ndcg@1: 0.818182\tvalid_0's ndcg@2: 0.921174\tvalid_0's ndcg@3: 0.930464\tvalid_0's ndcg@4: 0.930464\tvalid_0's ndcg@5: 0.930464\n",
      "[36]\tvalid_0's ndcg@1: 0.818182\tvalid_0's ndcg@2: 0.921174\tvalid_0's ndcg@3: 0.930464\tvalid_0's ndcg@4: 0.930464\tvalid_0's ndcg@5: 0.930464\n",
      "[37]\tvalid_0's ndcg@1: 0.818182\tvalid_0's ndcg@2: 0.921174\tvalid_0's ndcg@3: 0.930464\tvalid_0's ndcg@4: 0.930464\tvalid_0's ndcg@5: 0.930464\n",
      "[38]\tvalid_0's ndcg@1: 0.818182\tvalid_0's ndcg@2: 0.921174\tvalid_0's ndcg@3: 0.930464\tvalid_0's ndcg@4: 0.930464\tvalid_0's ndcg@5: 0.930464\n",
      "[39]\tvalid_0's ndcg@1: 0.818182\tvalid_0's ndcg@2: 0.921174\tvalid_0's ndcg@3: 0.930464\tvalid_0's ndcg@4: 0.930464\tvalid_0's ndcg@5: 0.930464\n",
      "[40]\tvalid_0's ndcg@1: 0.818182\tvalid_0's ndcg@2: 0.921174\tvalid_0's ndcg@3: 0.930464\tvalid_0's ndcg@4: 0.930464\tvalid_0's ndcg@5: 0.930464\n",
      "[41]\tvalid_0's ndcg@1: 0.818182\tvalid_0's ndcg@2: 0.921174\tvalid_0's ndcg@3: 0.930464\tvalid_0's ndcg@4: 0.930464\tvalid_0's ndcg@5: 0.930464\n",
      "[42]\tvalid_0's ndcg@1: 0.818182\tvalid_0's ndcg@2: 0.921174\tvalid_0's ndcg@3: 0.930464\tvalid_0's ndcg@4: 0.930464\tvalid_0's ndcg@5: 0.930464\n",
      "[43]\tvalid_0's ndcg@1: 0.818182\tvalid_0's ndcg@2: 0.921174\tvalid_0's ndcg@3: 0.930464\tvalid_0's ndcg@4: 0.930464\tvalid_0's ndcg@5: 0.930464\n",
      "[44]\tvalid_0's ndcg@1: 0.818182\tvalid_0's ndcg@2: 0.921174\tvalid_0's ndcg@3: 0.930464\tvalid_0's ndcg@4: 0.930464\tvalid_0's ndcg@5: 0.930464\n",
      "[45]\tvalid_0's ndcg@1: 0.818182\tvalid_0's ndcg@2: 0.921174\tvalid_0's ndcg@3: 0.930464\tvalid_0's ndcg@4: 0.930464\tvalid_0's ndcg@5: 0.930464\n",
      "[46]\tvalid_0's ndcg@1: 0.818182\tvalid_0's ndcg@2: 0.921174\tvalid_0's ndcg@3: 0.930464\tvalid_0's ndcg@4: 0.930464\tvalid_0's ndcg@5: 0.930464\n",
      "[47]\tvalid_0's ndcg@1: 0.818182\tvalid_0's ndcg@2: 0.921174\tvalid_0's ndcg@3: 0.930464\tvalid_0's ndcg@4: 0.930464\tvalid_0's ndcg@5: 0.930464\n",
      "[48]\tvalid_0's ndcg@1: 0.818182\tvalid_0's ndcg@2: 0.921174\tvalid_0's ndcg@3: 0.930464\tvalid_0's ndcg@4: 0.930464\tvalid_0's ndcg@5: 0.930464\n",
      "[49]\tvalid_0's ndcg@1: 0.818182\tvalid_0's ndcg@2: 0.921174\tvalid_0's ndcg@3: 0.930464\tvalid_0's ndcg@4: 0.930464\tvalid_0's ndcg@5: 0.930464\n",
      "[50]\tvalid_0's ndcg@1: 0.818182\tvalid_0's ndcg@2: 0.921174\tvalid_0's ndcg@3: 0.930464\tvalid_0's ndcg@4: 0.930464\tvalid_0's ndcg@5: 0.930464\n",
      "[51]\tvalid_0's ndcg@1: 0.818182\tvalid_0's ndcg@2: 0.921174\tvalid_0's ndcg@3: 0.930464\tvalid_0's ndcg@4: 0.930464\tvalid_0's ndcg@5: 0.930464\n",
      "[52]\tvalid_0's ndcg@1: 0.818182\tvalid_0's ndcg@2: 0.921174\tvalid_0's ndcg@3: 0.930464\tvalid_0's ndcg@4: 0.930464\tvalid_0's ndcg@5: 0.930464\n",
      "[53]\tvalid_0's ndcg@1: 0.818182\tvalid_0's ndcg@2: 0.921174\tvalid_0's ndcg@3: 0.930464\tvalid_0's ndcg@4: 0.930464\tvalid_0's ndcg@5: 0.930464\n",
      "[54]\tvalid_0's ndcg@1: 0.818182\tvalid_0's ndcg@2: 0.921174\tvalid_0's ndcg@3: 0.930464\tvalid_0's ndcg@4: 0.930464\tvalid_0's ndcg@5: 0.930464\n",
      "[55]\tvalid_0's ndcg@1: 0.818182\tvalid_0's ndcg@2: 0.921174\tvalid_0's ndcg@3: 0.930464\tvalid_0's ndcg@4: 0.930464\tvalid_0's ndcg@5: 0.930464\n",
      "[56]\tvalid_0's ndcg@1: 0.818182\tvalid_0's ndcg@2: 0.921174\tvalid_0's ndcg@3: 0.930464\tvalid_0's ndcg@4: 0.930464\tvalid_0's ndcg@5: 0.930464\n",
      "[57]\tvalid_0's ndcg@1: 0.818182\tvalid_0's ndcg@2: 0.921174\tvalid_0's ndcg@3: 0.930464\tvalid_0's ndcg@4: 0.930464\tvalid_0's ndcg@5: 0.930464\n",
      "[58]\tvalid_0's ndcg@1: 0.818182\tvalid_0's ndcg@2: 0.921174\tvalid_0's ndcg@3: 0.930464\tvalid_0's ndcg@4: 0.930464\tvalid_0's ndcg@5: 0.930464\n",
      "[59]\tvalid_0's ndcg@1: 0.818182\tvalid_0's ndcg@2: 0.921174\tvalid_0's ndcg@3: 0.930464\tvalid_0's ndcg@4: 0.930464\tvalid_0's ndcg@5: 0.930464\n",
      "[60]\tvalid_0's ndcg@1: 0.818182\tvalid_0's ndcg@2: 0.921174\tvalid_0's ndcg@3: 0.930464\tvalid_0's ndcg@4: 0.930464\tvalid_0's ndcg@5: 0.930464\n",
      "[61]\tvalid_0's ndcg@1: 0.818182\tvalid_0's ndcg@2: 0.921174\tvalid_0's ndcg@3: 0.930464\tvalid_0's ndcg@4: 0.930464\tvalid_0's ndcg@5: 0.930464\n",
      "[62]\tvalid_0's ndcg@1: 0.818182\tvalid_0's ndcg@2: 0.921174\tvalid_0's ndcg@3: 0.930464\tvalid_0's ndcg@4: 0.930464\tvalid_0's ndcg@5: 0.930464\n",
      "[63]\tvalid_0's ndcg@1: 0.818182\tvalid_0's ndcg@2: 0.921174\tvalid_0's ndcg@3: 0.930464\tvalid_0's ndcg@4: 0.930464\tvalid_0's ndcg@5: 0.930464\n",
      "[64]\tvalid_0's ndcg@1: 0.818182\tvalid_0's ndcg@2: 0.921174\tvalid_0's ndcg@3: 0.930464\tvalid_0's ndcg@4: 0.930464\tvalid_0's ndcg@5: 0.930464\n",
      "[65]\tvalid_0's ndcg@1: 0.818182\tvalid_0's ndcg@2: 0.921174\tvalid_0's ndcg@3: 0.930464\tvalid_0's ndcg@4: 0.930464\tvalid_0's ndcg@5: 0.930464\n",
      "[66]\tvalid_0's ndcg@1: 0.818182\tvalid_0's ndcg@2: 0.921174\tvalid_0's ndcg@3: 0.930464\tvalid_0's ndcg@4: 0.930464\tvalid_0's ndcg@5: 0.930464\n",
      "[67]\tvalid_0's ndcg@1: 0.818182\tvalid_0's ndcg@2: 0.921174\tvalid_0's ndcg@3: 0.930464\tvalid_0's ndcg@4: 0.930464\tvalid_0's ndcg@5: 0.930464\n",
      "[68]\tvalid_0's ndcg@1: 0.818182\tvalid_0's ndcg@2: 0.921174\tvalid_0's ndcg@3: 0.930464\tvalid_0's ndcg@4: 0.930464\tvalid_0's ndcg@5: 0.930464\n",
      "[69]\tvalid_0's ndcg@1: 0.818182\tvalid_0's ndcg@2: 0.921174\tvalid_0's ndcg@3: 0.930464\tvalid_0's ndcg@4: 0.930464\tvalid_0's ndcg@5: 0.930464\n",
      "[70]\tvalid_0's ndcg@1: 0.818182\tvalid_0's ndcg@2: 0.921174\tvalid_0's ndcg@3: 0.930464\tvalid_0's ndcg@4: 0.930464\tvalid_0's ndcg@5: 0.930464\n",
      "[71]\tvalid_0's ndcg@1: 0.818182\tvalid_0's ndcg@2: 0.921174\tvalid_0's ndcg@3: 0.930464\tvalid_0's ndcg@4: 0.930464\tvalid_0's ndcg@5: 0.930464\n",
      "[72]\tvalid_0's ndcg@1: 0.818182\tvalid_0's ndcg@2: 0.921174\tvalid_0's ndcg@3: 0.930464\tvalid_0's ndcg@4: 0.930464\tvalid_0's ndcg@5: 0.930464\n",
      "[73]\tvalid_0's ndcg@1: 0.818182\tvalid_0's ndcg@2: 0.921174\tvalid_0's ndcg@3: 0.930464\tvalid_0's ndcg@4: 0.930464\tvalid_0's ndcg@5: 0.930464\n",
      "[74]\tvalid_0's ndcg@1: 0.818182\tvalid_0's ndcg@2: 0.921174\tvalid_0's ndcg@3: 0.930464\tvalid_0's ndcg@4: 0.930464\tvalid_0's ndcg@5: 0.930464\n",
      "[75]\tvalid_0's ndcg@1: 0.818182\tvalid_0's ndcg@2: 0.921174\tvalid_0's ndcg@3: 0.930464\tvalid_0's ndcg@4: 0.930464\tvalid_0's ndcg@5: 0.930464\n",
      "[76]\tvalid_0's ndcg@1: 0.818182\tvalid_0's ndcg@2: 0.921174\tvalid_0's ndcg@3: 0.930464\tvalid_0's ndcg@4: 0.930464\tvalid_0's ndcg@5: 0.930464\n",
      "[77]\tvalid_0's ndcg@1: 0.818182\tvalid_0's ndcg@2: 0.921174\tvalid_0's ndcg@3: 0.930464\tvalid_0's ndcg@4: 0.930464\tvalid_0's ndcg@5: 0.930464\n",
      "[78]\tvalid_0's ndcg@1: 0.818182\tvalid_0's ndcg@2: 0.921174\tvalid_0's ndcg@3: 0.930464\tvalid_0's ndcg@4: 0.930464\tvalid_0's ndcg@5: 0.930464\n",
      "[79]\tvalid_0's ndcg@1: 0.818182\tvalid_0's ndcg@2: 0.921174\tvalid_0's ndcg@3: 0.930464\tvalid_0's ndcg@4: 0.930464\tvalid_0's ndcg@5: 0.930464\n",
      "[80]\tvalid_0's ndcg@1: 0.818182\tvalid_0's ndcg@2: 0.921174\tvalid_0's ndcg@3: 0.930464\tvalid_0's ndcg@4: 0.930464\tvalid_0's ndcg@5: 0.930464\n",
      "[81]\tvalid_0's ndcg@1: 0.818182\tvalid_0's ndcg@2: 0.921174\tvalid_0's ndcg@3: 0.930464\tvalid_0's ndcg@4: 0.930464\tvalid_0's ndcg@5: 0.930464\n",
      "[82]\tvalid_0's ndcg@1: 0.818182\tvalid_0's ndcg@2: 0.921174\tvalid_0's ndcg@3: 0.930464\tvalid_0's ndcg@4: 0.930464\tvalid_0's ndcg@5: 0.930464\n",
      "[83]\tvalid_0's ndcg@1: 0.818182\tvalid_0's ndcg@2: 0.921174\tvalid_0's ndcg@3: 0.930464\tvalid_0's ndcg@4: 0.930464\tvalid_0's ndcg@5: 0.930464\n",
      "[84]\tvalid_0's ndcg@1: 0.818182\tvalid_0's ndcg@2: 0.921174\tvalid_0's ndcg@3: 0.930464\tvalid_0's ndcg@4: 0.930464\tvalid_0's ndcg@5: 0.930464\n",
      "[85]\tvalid_0's ndcg@1: 0.818182\tvalid_0's ndcg@2: 0.921174\tvalid_0's ndcg@3: 0.930464\tvalid_0's ndcg@4: 0.930464\tvalid_0's ndcg@5: 0.930464\n",
      "[86]\tvalid_0's ndcg@1: 0.818182\tvalid_0's ndcg@2: 0.921174\tvalid_0's ndcg@3: 0.930464\tvalid_0's ndcg@4: 0.930464\tvalid_0's ndcg@5: 0.930464\n",
      "[87]\tvalid_0's ndcg@1: 0.818182\tvalid_0's ndcg@2: 0.921174\tvalid_0's ndcg@3: 0.930464\tvalid_0's ndcg@4: 0.930464\tvalid_0's ndcg@5: 0.930464\n",
      "[88]\tvalid_0's ndcg@1: 0.818182\tvalid_0's ndcg@2: 0.921174\tvalid_0's ndcg@3: 0.930464\tvalid_0's ndcg@4: 0.930464\tvalid_0's ndcg@5: 0.930464\n",
      "[89]\tvalid_0's ndcg@1: 0.818182\tvalid_0's ndcg@2: 0.921174\tvalid_0's ndcg@3: 0.930464\tvalid_0's ndcg@4: 0.930464\tvalid_0's ndcg@5: 0.930464\n",
      "[90]\tvalid_0's ndcg@1: 0.818182\tvalid_0's ndcg@2: 0.921174\tvalid_0's ndcg@3: 0.930464\tvalid_0's ndcg@4: 0.930464\tvalid_0's ndcg@5: 0.930464\n",
      "[91]\tvalid_0's ndcg@1: 0.818182\tvalid_0's ndcg@2: 0.921174\tvalid_0's ndcg@3: 0.930464\tvalid_0's ndcg@4: 0.930464\tvalid_0's ndcg@5: 0.930464\n",
      "[92]\tvalid_0's ndcg@1: 0.818182\tvalid_0's ndcg@2: 0.921174\tvalid_0's ndcg@3: 0.930464\tvalid_0's ndcg@4: 0.930464\tvalid_0's ndcg@5: 0.930464\n",
      "[93]\tvalid_0's ndcg@1: 0.818182\tvalid_0's ndcg@2: 0.921174\tvalid_0's ndcg@3: 0.930464\tvalid_0's ndcg@4: 0.930464\tvalid_0's ndcg@5: 0.930464\n",
      "[94]\tvalid_0's ndcg@1: 0.818182\tvalid_0's ndcg@2: 0.921174\tvalid_0's ndcg@3: 0.930464\tvalid_0's ndcg@4: 0.930464\tvalid_0's ndcg@5: 0.930464\n",
      "[95]\tvalid_0's ndcg@1: 0.818182\tvalid_0's ndcg@2: 0.921174\tvalid_0's ndcg@3: 0.930464\tvalid_0's ndcg@4: 0.930464\tvalid_0's ndcg@5: 0.930464\n",
      "[96]\tvalid_0's ndcg@1: 0.818182\tvalid_0's ndcg@2: 0.921174\tvalid_0's ndcg@3: 0.930464\tvalid_0's ndcg@4: 0.930464\tvalid_0's ndcg@5: 0.930464\n",
      "[97]\tvalid_0's ndcg@1: 0.818182\tvalid_0's ndcg@2: 0.921174\tvalid_0's ndcg@3: 0.930464\tvalid_0's ndcg@4: 0.930464\tvalid_0's ndcg@5: 0.930464\n",
      "[98]\tvalid_0's ndcg@1: 0.818182\tvalid_0's ndcg@2: 0.921174\tvalid_0's ndcg@3: 0.930464\tvalid_0's ndcg@4: 0.930464\tvalid_0's ndcg@5: 0.930464\n",
      "[99]\tvalid_0's ndcg@1: 0.818182\tvalid_0's ndcg@2: 0.921174\tvalid_0's ndcg@3: 0.930464\tvalid_0's ndcg@4: 0.930464\tvalid_0's ndcg@5: 0.930464\n",
      "[100]\tvalid_0's ndcg@1: 0.818182\tvalid_0's ndcg@2: 0.921174\tvalid_0's ndcg@3: 0.930464\tvalid_0's ndcg@4: 0.930464\tvalid_0's ndcg@5: 0.930464\n"
     ]
    },
    {
     "data": {
      "text/plain": [
       "LGBMRanker(objective='lambdarank')"
      ]
     },
     "execution_count": 13,
     "metadata": {},
     "output_type": "execute_result"
    }
   ],
   "source": [
    "from lightgbm import LGBMRanker\n",
    "train_features = ['density', 'entropy', 'competitiveness']\n",
    "\n",
    "model = LGBMRanker(objective=\"lambdarank\")\n",
    "model.fit(X_train[train_features],y_train,group=train_groups,eval_set=[(X_test[train_features],y_test)],eval_group=[test_groups],eval_metric=['ndcg'])"
   ]
  },
  {
   "cell_type": "code",
   "execution_count": null,
   "metadata": {},
   "outputs": [],
   "source": []
  },
  {
   "cell_type": "code",
   "execution_count": null,
   "metadata": {},
   "outputs": [],
   "source": []
  }
 ],
 "metadata": {
  "kernelspec": {
   "display_name": "steph-env",
   "language": "python",
   "name": "steph-env"
  },
  "language_info": {
   "codemirror_mode": {
    "name": "ipython",
    "version": 3
   },
   "file_extension": ".py",
   "mimetype": "text/x-python",
   "name": "python",
   "nbconvert_exporter": "python",
   "pygments_lexer": "ipython3",
   "version": "3.7.5"
  },
  "toc": {
   "base_numbering": 1,
   "nav_menu": {},
   "number_sections": true,
   "sideBar": true,
   "skip_h1_title": false,
   "title_cell": "Table of Contents",
   "title_sidebar": "Contents",
   "toc_cell": false,
   "toc_position": {},
   "toc_section_display": true,
   "toc_window_display": false
  },
  "varInspector": {
   "cols": {
    "lenName": 16,
    "lenType": 16,
    "lenVar": 40
   },
   "kernels_config": {
    "python": {
     "delete_cmd_postfix": "",
     "delete_cmd_prefix": "del ",
     "library": "var_list.py",
     "varRefreshCmd": "print(var_dic_list())"
    },
    "r": {
     "delete_cmd_postfix": ") ",
     "delete_cmd_prefix": "rm(",
     "library": "var_list.r",
     "varRefreshCmd": "cat(var_dic_list()) "
    }
   },
   "types_to_exclude": [
    "module",
    "function",
    "builtin_function_or_method",
    "instance",
    "_Feature"
   ],
   "window_display": false
  }
 },
 "nbformat": 4,
 "nbformat_minor": 2
}
