{
 "cells": [
  {
   "cell_type": "markdown",
   "id": "personal-single",
   "metadata": {},
   "source": [
    "# Imports"
   ]
  },
  {
   "cell_type": "code",
   "execution_count": 1,
   "id": "diagnostic-fence",
   "metadata": {
    "ExecuteTime": {
     "end_time": "2023-02-12T07:35:41.420270Z",
     "start_time": "2023-02-12T07:35:40.651576Z"
    }
   },
   "outputs": [],
   "source": [
    "import pandas as pd\n",
    "import json\n",
    "import numpy as np\n",
    "import gensim\n",
    "from gensim.test.utils import common_corpus, common_dictionary\n",
    "from gensim.models.wrappers import LdaMallet\n",
    "import operator \n",
    "import joblib\n",
    "from nltk.tokenize import word_tokenize\n",
    "import nltk\n",
    "import os\n",
    "from vaderSentiment.vaderSentiment import SentimentIntensityAnalyzer\n",
    "import re\n",
    "import string"
   ]
  },
  {
   "cell_type": "code",
   "execution_count": 2,
   "id": "environmental-testament",
   "metadata": {
    "ExecuteTime": {
     "end_time": "2023-02-12T07:35:45.937421Z",
     "start_time": "2023-02-12T07:35:45.935589Z"
    }
   },
   "outputs": [],
   "source": [
    "# configs\n",
    "mallet_path = './Data/Mallet/bin/mallet'"
   ]
  },
  {
   "cell_type": "markdown",
   "id": "powerful-edwards",
   "metadata": {},
   "source": [
    "# Topic Modelling with LDA Mallet\n",
    "* Get the topics from every review\n",
    "* takes the longest time"
   ]
  },
  {
   "cell_type": "code",
   "execution_count": 31,
   "id": "decreased-inspiration",
   "metadata": {
    "ExecuteTime": {
     "end_time": "2023-02-07T14:55:47.076734Z",
     "start_time": "2023-02-07T14:55:41.504998Z"
    }
   },
   "outputs": [],
   "source": [
    "review_df = pd.read_pickle(\"./Data/review.pkl\")  "
   ]
  },
  {
   "cell_type": "code",
   "execution_count": 32,
   "id": "typical-zimbabwe",
   "metadata": {
    "ExecuteTime": {
     "end_time": "2023-02-07T14:55:47.336560Z",
     "start_time": "2023-02-07T14:55:47.333328Z"
    }
   },
   "outputs": [],
   "source": [
    "def get_topic_model(df):\n",
    "    \n",
    "    # tokenize\n",
    "    docs=df['text'].apply(word_tokenize)\n",
    "    # a mapping between words and their integer ids\n",
    "    d= gensim.corpora.Dictionary(docs)\n",
    "    # convert docs to vec\n",
    "    v = [d.doc2bow(doc) for doc in docs]\n",
    "    \n",
    "    # LDA mallet\n",
    "    ldamallet= gensim.models.wrappers.LdaMallet(mallet_path, corpus = v, num_topics = 8, id2word = d)\n",
    "    \n",
    "    return ldamallet"
   ]
  },
  {
   "cell_type": "code",
   "execution_count": null,
   "id": "religious-afternoon",
   "metadata": {},
   "outputs": [],
   "source": [
    "# unhash if need to retrain\n",
    "# ldamallet = get_topic_model(review_df)\n",
    "# joblib.dump(ldamallet, 'reviews_ldamallet.jl')\n",
    "\n",
    "# load model\n",
    "ldamallet_disk = joblib.load('reviews_ldamallet.jl')"
   ]
  },
  {
   "cell_type": "code",
   "execution_count": 9,
   "id": "spatial-command",
   "metadata": {
    "ExecuteTime": {
     "end_time": "2023-02-06T16:06:13.738411Z",
     "start_time": "2023-02-06T15:59:06.273656Z"
    }
   },
   "outputs": [],
   "source": [
    "#map the reviews data to the model, v is the reviews transformed to word vectors by doc2bow\n",
    "m = ldamallet[v[0:len(v)]]\n",
    "\n",
    "#assign topic to each review\n",
    "topic = []\n",
    "for x in m:\n",
    "    #find the topic with the highest proportions\n",
    "    t = max(x, key = operator.itemgetter(1))\n",
    "    topic.append(t[0])\n",
    "    \n",
    "top_10k = pd.Series(topic)"
   ]
  },
  {
   "cell_type": "code",
   "execution_count": 21,
   "id": "backed-current",
   "metadata": {
    "ExecuteTime": {
     "end_time": "2023-02-06T16:54:31.625390Z",
     "start_time": "2023-02-06T16:54:31.603196Z"
    }
   },
   "outputs": [],
   "source": [
    "#map topic names to the topic numbers\n",
    "topic_dict = {0:'Atmosphere', 1:'Food', 2:'Service',\n",
    "             3:'Food', 4:'Waiting time', 5:'Food',\n",
    "             6:'Food', 7:'Hospitality'}\n",
    "\n",
    "top_10k = top_10k.map(topic_dict)"
   ]
  },
  {
   "cell_type": "code",
   "execution_count": 23,
   "id": "american-straight",
   "metadata": {
    "ExecuteTime": {
     "end_time": "2023-02-06T16:55:53.110385Z",
     "start_time": "2023-02-06T16:55:51.969411Z"
    }
   },
   "outputs": [],
   "source": [
    "top_10k.to_csv(\"./Data/top_10k_mallet.csv\")"
   ]
  },
  {
   "cell_type": "markdown",
   "id": "pretty-verification",
   "metadata": {},
   "source": [
    "# Sentiment Analysis\n",
    "* score the topics from the restaurants\n",
    "* create dataset with only restaurants\n"
   ]
  },
  {
   "cell_type": "markdown",
   "id": "visible-google",
   "metadata": {},
   "source": [
    "## df construction"
   ]
  },
  {
   "cell_type": "code",
   "execution_count": 46,
   "id": "naval-wells",
   "metadata": {
    "ExecuteTime": {
     "end_time": "2023-02-07T16:08:20.746078Z",
     "start_time": "2023-02-07T16:08:14.949542Z"
    }
   },
   "outputs": [],
   "source": [
    "#load top_10k_mallet.csv with sub topics\n",
    "lda_mallet = pd.read_csv('./Data/top_10k_mallet.csv')\n",
    "#load english data'set with around 10k rows\n",
    "review_df = pd.read_pickle(\"./Data/review.pkl\")  \n",
    "business_df = pd.read_pickle(\"./Data/business.pkl\")  "
   ]
  },
  {
   "cell_type": "code",
   "execution_count": 48,
   "id": "intensive-cause",
   "metadata": {
    "ExecuteTime": {
     "end_time": "2023-02-07T16:09:13.961115Z",
     "start_time": "2023-02-07T16:09:13.364751Z"
    }
   },
   "outputs": [],
   "source": [
    "top_10k = review_df.merge(business_df, on='business_id', how='inner')"
   ]
  },
  {
   "cell_type": "code",
   "execution_count": 49,
   "id": "protective-monster",
   "metadata": {
    "ExecuteTime": {
     "end_time": "2023-02-07T16:09:14.308503Z",
     "start_time": "2023-02-07T16:09:14.296979Z"
    }
   },
   "outputs": [
    {
     "data": {
      "text/html": [
       "<div>\n",
       "<style scoped>\n",
       "    .dataframe tbody tr th:only-of-type {\n",
       "        vertical-align: middle;\n",
       "    }\n",
       "\n",
       "    .dataframe tbody tr th {\n",
       "        vertical-align: top;\n",
       "    }\n",
       "\n",
       "    .dataframe thead th {\n",
       "        text-align: right;\n",
       "    }\n",
       "</style>\n",
       "<table border=\"1\" class=\"dataframe\">\n",
       "  <thead>\n",
       "    <tr style=\"text-align: right;\">\n",
       "      <th></th>\n",
       "      <th>name</th>\n",
       "      <th>topic</th>\n",
       "    </tr>\n",
       "  </thead>\n",
       "  <tbody>\n",
       "    <tr>\n",
       "      <th>0</th>\n",
       "      <td>Pho Bistro</td>\n",
       "      <td>Food</td>\n",
       "    </tr>\n",
       "    <tr>\n",
       "      <th>1</th>\n",
       "      <td>Pho Bistro</td>\n",
       "      <td>Food</td>\n",
       "    </tr>\n",
       "    <tr>\n",
       "      <th>2</th>\n",
       "      <td>Pho Bistro</td>\n",
       "      <td>Atmosphere</td>\n",
       "    </tr>\n",
       "    <tr>\n",
       "      <th>3</th>\n",
       "      <td>Pho Bistro</td>\n",
       "      <td>Service</td>\n",
       "    </tr>\n",
       "    <tr>\n",
       "      <th>4</th>\n",
       "      <td>Pho Bistro</td>\n",
       "      <td>Hospitality</td>\n",
       "    </tr>\n",
       "  </tbody>\n",
       "</table>\n",
       "</div>"
      ],
      "text/plain": [
       "         name        topic\n",
       "0  Pho Bistro         Food\n",
       "1  Pho Bistro         Food\n",
       "2  Pho Bistro   Atmosphere\n",
       "3  Pho Bistro      Service\n",
       "4  Pho Bistro  Hospitality"
      ]
     },
     "execution_count": 49,
     "metadata": {},
     "output_type": "execute_result"
    }
   ],
   "source": [
    "lda_mallet['Unnamed: 0'] = top_10k.name\n",
    "lda_mallet.rename(columns = {'Unnamed: 0':'name', '0':'topic'}, inplace = True)\n",
    "lda_mallet.head()"
   ]
  },
  {
   "cell_type": "code",
   "execution_count": 50,
   "id": "addressed-version",
   "metadata": {
    "ExecuteTime": {
     "end_time": "2023-02-07T16:09:16.393568Z",
     "start_time": "2023-02-07T16:09:15.129185Z"
    }
   },
   "outputs": [],
   "source": [
    "# leave only restaurants\n",
    "top_10k = top_10k.dropna()\n",
    "top_10k = top_10k[top_10k['categories'].str.contains(\"Restaurant\")]"
   ]
  },
  {
   "cell_type": "markdown",
   "id": "ethical-representation",
   "metadata": {},
   "source": [
    "## Standard Sentiment Analysis"
   ]
  },
  {
   "cell_type": "code",
   "execution_count": 51,
   "id": "likely-stability",
   "metadata": {
    "ExecuteTime": {
     "end_time": "2023-02-07T16:09:23.914609Z",
     "start_time": "2023-02-07T16:09:19.244490Z"
    }
   },
   "outputs": [],
   "source": [
    "#Standard Sentiment Analysis\n",
    "\n",
    "#load pos_lexicon and neg_lexicon for standard sentiment analysis\n",
    "pos_lexicon = './Data/positive-words.txt'\n",
    "neg_lexicon = './Data/negative-words.txt'\n",
    "\n",
    "#subset the required columns\n",
    "top_10k_standard = top_10k.loc[:, ['name','business_id', 'text']]\n",
    "\n",
    "#split the reviews into texts by space\n",
    "top_10k_standard['text_sep'] = top_10k_standard['text'].map(lambda x:x.split())\n",
    "\n",
    "#create sentiment lexicons\n",
    "def create_dictionary(path):\n",
    " \n",
    "    dictionary = {}\n",
    "    f = open(path, 'r', encoding = \"ISO-8859-1\")\n",
    "    for line in f:\n",
    "        line = line.strip()\n",
    "        dictionary[line] = 1\n",
    "\n",
    "    f.close()\n",
    "    return dictionary\n",
    "    \n",
    "\n",
    "\n",
    "#calculate sentiment score\n",
    "def sentiment_score(dictionary):\n",
    "\n",
    "    score = top_10k_standard['text_sep'].map(lambda row: list(map(lambda x: 1 if x in dictionary else 0, row)))\n",
    "    score_list = []\n",
    "\n",
    "    for row in score:\n",
    "        score_list.append(sum(row))\n",
    "        \n",
    "    score_df = pd.DataFrame(score_list)\n",
    "    return score_df\n"
   ]
  },
  {
   "cell_type": "code",
   "execution_count": 52,
   "id": "heated-desperate",
   "metadata": {
    "ExecuteTime": {
     "end_time": "2023-02-07T16:09:51.430399Z",
     "start_time": "2023-02-07T16:09:24.271989Z"
    }
   },
   "outputs": [],
   "source": [
    "#create positive and negative lexicons \n",
    "pos_dict = create_dictionary(pos_lexicon)\n",
    "neg_dict = create_dictionary(neg_lexicon)\n",
    "\n",
    "#calculate sentiment score for each review\n",
    "top_10k_standard['pos_score'] = sentiment_score(pos_dict)\n",
    "top_10k_standard['neg_score'] = sentiment_score(neg_dict)\n",
    "\n",
    "#normalize the score to 0-5\n",
    "top_10k_standard['topic_score'] = top_10k_standard['pos_score'] / (top_10k_standard['pos_score'] + abs(top_10k_standard['neg_score']))*5"
   ]
  },
  {
   "cell_type": "code",
   "execution_count": 53,
   "id": "fuzzy-cliff",
   "metadata": {
    "ExecuteTime": {
     "end_time": "2023-02-07T16:09:52.375940Z",
     "start_time": "2023-02-07T16:09:51.780708Z"
    }
   },
   "outputs": [
    {
     "data": {
      "text/html": [
       "<div>\n",
       "<style scoped>\n",
       "    .dataframe tbody tr th:only-of-type {\n",
       "        vertical-align: middle;\n",
       "    }\n",
       "\n",
       "    .dataframe tbody tr th {\n",
       "        vertical-align: top;\n",
       "    }\n",
       "\n",
       "    .dataframe thead th {\n",
       "        text-align: right;\n",
       "    }\n",
       "</style>\n",
       "<table border=\"1\" class=\"dataframe\">\n",
       "  <thead>\n",
       "    <tr style=\"text-align: right;\">\n",
       "      <th></th>\n",
       "      <th></th>\n",
       "      <th>topic_score</th>\n",
       "    </tr>\n",
       "    <tr>\n",
       "      <th>name</th>\n",
       "      <th>topic</th>\n",
       "      <th></th>\n",
       "    </tr>\n",
       "  </thead>\n",
       "  <tbody>\n",
       "    <tr>\n",
       "      <th rowspan=\"3\" valign=\"top\">Joe's Throwback Barber Shop</th>\n",
       "      <th>Food</th>\n",
       "      <td>0.0</td>\n",
       "    </tr>\n",
       "    <tr>\n",
       "      <th>Hospitality</th>\n",
       "      <td>0.0</td>\n",
       "    </tr>\n",
       "    <tr>\n",
       "      <th>Service</th>\n",
       "      <td>0.0</td>\n",
       "    </tr>\n",
       "    <tr>\n",
       "      <th rowspan=\"2\" valign=\"top\">Leland's Barbershop</th>\n",
       "      <th>Atmosphere</th>\n",
       "      <td>0.0</td>\n",
       "    </tr>\n",
       "    <tr>\n",
       "      <th>Food</th>\n",
       "      <td>0.0</td>\n",
       "    </tr>\n",
       "    <tr>\n",
       "      <th>...</th>\n",
       "      <th>...</th>\n",
       "      <td>...</td>\n",
       "    </tr>\n",
       "    <tr>\n",
       "      <th>ā café</th>\n",
       "      <th>Waiting time</th>\n",
       "      <td>2.0</td>\n",
       "    </tr>\n",
       "    <tr>\n",
       "      <th rowspan=\"4\" valign=\"top\">ōLiv Tucson</th>\n",
       "      <th>Atmosphere</th>\n",
       "      <td>0.0</td>\n",
       "    </tr>\n",
       "    <tr>\n",
       "      <th>Food</th>\n",
       "      <td>0.0</td>\n",
       "    </tr>\n",
       "    <tr>\n",
       "      <th>Hospitality</th>\n",
       "      <td>0.0</td>\n",
       "    </tr>\n",
       "    <tr>\n",
       "      <th>Service</th>\n",
       "      <td>0.0</td>\n",
       "    </tr>\n",
       "  </tbody>\n",
       "</table>\n",
       "<p>225244 rows × 1 columns</p>\n",
       "</div>"
      ],
      "text/plain": [
       "                                           topic_score\n",
       "name                         topic                    \n",
       " Joe's Throwback Barber Shop Food                  0.0\n",
       "                             Hospitality           0.0\n",
       "                             Service               0.0\n",
       " Leland's Barbershop         Atmosphere            0.0\n",
       "                             Food                  0.0\n",
       "...                                                ...\n",
       "ā café                       Waiting time          2.0\n",
       "ōLiv Tucson                  Atmosphere            0.0\n",
       "                             Food                  0.0\n",
       "                             Hospitality           0.0\n",
       "                             Service               0.0\n",
       "\n",
       "[225244 rows x 1 columns]"
      ]
     },
     "execution_count": 53,
     "metadata": {},
     "output_type": "execute_result"
    }
   ],
   "source": [
    "def final_score_standard(dataset):\n",
    "\n",
    "    reviews_score = dataset['topic_score']\n",
    "    reviews_score = pd.DataFrame(reviews_score)\n",
    "    \n",
    "    #add new columns to lda_mallet to have individual review score\n",
    "    lda_mallet['topic_score'] = reviews_score\n",
    "    top_10k_score = lda_mallet.loc[:, ['name', 'topic', 'topic_score']]\n",
    "    \n",
    "    #calculate the average ratings for each topic\n",
    "    top_10k_score = round(abs((top_10k_score.groupby(['name',  'topic']).sum() /\n",
    "                    (top_10k_score.groupby(['name', 'topic']).count() + 1))), 1)\n",
    "    \n",
    "    pd.set_option('display.max_rows', 100)\n",
    "    return top_10k_score\n",
    "\n",
    "final_score_standard = final_score_standard(top_10k_standard)\n",
    "final_score_standard"
   ]
  },
  {
   "cell_type": "code",
   "execution_count": null,
   "id": "smart-graduate",
   "metadata": {},
   "outputs": [],
   "source": []
  },
  {
   "cell_type": "code",
   "execution_count": null,
   "id": "floating-guard",
   "metadata": {},
   "outputs": [],
   "source": []
  }
 ],
 "metadata": {
  "kernelspec": {
   "display_name": "steph_6_env",
   "language": "python",
   "name": "steph_6_env"
  },
  "language_info": {
   "codemirror_mode": {
    "name": "ipython",
    "version": 3
   },
   "file_extension": ".py",
   "mimetype": "text/x-python",
   "name": "python",
   "nbconvert_exporter": "python",
   "pygments_lexer": "ipython3",
   "version": "3.6.3"
  },
  "toc": {
   "base_numbering": 1,
   "nav_menu": {},
   "number_sections": true,
   "sideBar": true,
   "skip_h1_title": false,
   "title_cell": "Table of Contents",
   "title_sidebar": "Contents",
   "toc_cell": false,
   "toc_position": {},
   "toc_section_display": true,
   "toc_window_display": true
  },
  "varInspector": {
   "cols": {
    "lenName": 16,
    "lenType": 16,
    "lenVar": 40
   },
   "kernels_config": {
    "python": {
     "delete_cmd_postfix": "",
     "delete_cmd_prefix": "del ",
     "library": "var_list.py",
     "varRefreshCmd": "print(var_dic_list())"
    },
    "r": {
     "delete_cmd_postfix": ") ",
     "delete_cmd_prefix": "rm(",
     "library": "var_list.r",
     "varRefreshCmd": "cat(var_dic_list()) "
    }
   },
   "types_to_exclude": [
    "module",
    "function",
    "builtin_function_or_method",
    "instance",
    "_Feature"
   ],
   "window_display": false
  }
 },
 "nbformat": 4,
 "nbformat_minor": 5
}
