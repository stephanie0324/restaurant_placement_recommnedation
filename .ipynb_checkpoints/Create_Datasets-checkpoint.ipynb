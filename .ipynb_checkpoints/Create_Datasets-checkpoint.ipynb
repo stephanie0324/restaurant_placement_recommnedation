{
 "cells": [
  {
   "cell_type": "markdown",
   "id": "d617c2b2",
   "metadata": {},
   "source": [
    "# Create the features DF"
   ]
  },
  {
   "cell_type": "code",
   "execution_count": null,
   "id": "9b8c77c7",
   "metadata": {},
   "outputs": [],
   "source": [
    "pip install -q torch==1.4.0 -f https://download.pytorch.org/whl/cu101/torch_stable.html"
   ]
  },
  {
   "cell_type": "markdown",
   "id": "faca40d5",
   "metadata": {},
   "source": [
    "# Import"
   ]
  },
  {
   "cell_type": "code",
   "execution_count": 1,
   "id": "2e3d7740",
   "metadata": {},
   "outputs": [],
   "source": [
    "import pandas as pd\n",
    "import json\n",
    "import numpy as np\n",
    "from collections import Counter\n",
    "import numpy as np\n",
    "import matplotlib.pyplot as plt"
   ]
  },
  {
   "cell_type": "code",
   "execution_count": 2,
   "id": "1ffcc74f",
   "metadata": {},
   "outputs": [],
   "source": [
    "df = pd.read_pickle ('../Data/yelp/FL_only.pkl')\n",
    "LDA_df = pd.read_pickle ('../Data/yelp/LDA_training.pkl')"
   ]
  },
  {
   "cell_type": "code",
   "execution_count": 3,
   "id": "3005cd4d",
   "metadata": {},
   "outputs": [
    {
     "data": {
      "text/plain": [
       "(23630, 18)"
      ]
     },
     "execution_count": 3,
     "metadata": {},
     "output_type": "execute_result"
    }
   ],
   "source": [
    "df.shape"
   ]
  },
  {
   "cell_type": "code",
   "execution_count": 4,
   "id": "0d6062b5",
   "metadata": {},
   "outputs": [
    {
     "data": {
      "text/plain": [
       "(323563, 18)"
      ]
     },
     "execution_count": 4,
     "metadata": {},
     "output_type": "execute_result"
    }
   ],
   "source": [
    "LDA_df.shape"
   ]
  },
  {
   "cell_type": "code",
   "execution_count": 5,
   "id": "72e68d1c",
   "metadata": {},
   "outputs": [
    {
     "data": {
      "text/html": [
       "<div>\n",
       "<style scoped>\n",
       "    .dataframe tbody tr th:only-of-type {\n",
       "        vertical-align: middle;\n",
       "    }\n",
       "\n",
       "    .dataframe tbody tr th {\n",
       "        vertical-align: top;\n",
       "    }\n",
       "\n",
       "    .dataframe thead th {\n",
       "        text-align: right;\n",
       "    }\n",
       "</style>\n",
       "<table border=\"1\" class=\"dataframe\">\n",
       "  <thead>\n",
       "    <tr style=\"text-align: right;\">\n",
       "      <th></th>\n",
       "      <th>business_id</th>\n",
       "      <th>stars_x</th>\n",
       "      <th>useful</th>\n",
       "      <th>funny</th>\n",
       "      <th>cool</th>\n",
       "      <th>text</th>\n",
       "      <th>date</th>\n",
       "      <th>name</th>\n",
       "      <th>address</th>\n",
       "      <th>city</th>\n",
       "      <th>state</th>\n",
       "      <th>postal_code</th>\n",
       "      <th>stars_y</th>\n",
       "      <th>review_count</th>\n",
       "      <th>is_open</th>\n",
       "      <th>attributes</th>\n",
       "      <th>categories</th>\n",
       "      <th>hours</th>\n",
       "    </tr>\n",
       "  </thead>\n",
       "  <tbody>\n",
       "    <tr>\n",
       "      <th>2280</th>\n",
       "      <td>cg4JFJcCxRTTMmcg9O9KtA</td>\n",
       "      <td>1.0</td>\n",
       "      <td>0</td>\n",
       "      <td>1</td>\n",
       "      <td>0</td>\n",
       "      <td>Skip this train wreck if you are looking for d...</td>\n",
       "      <td>2018-02-11 03:11:20</td>\n",
       "      <td>Ava</td>\n",
       "      <td>718 S Howard Ave</td>\n",
       "      <td>Tampa</td>\n",
       "      <td>FL</td>\n",
       "      <td>33606</td>\n",
       "      <td>3.5</td>\n",
       "      <td>544</td>\n",
       "      <td>1</td>\n",
       "      <td>{'BikeParking': 'True', 'Alcohol': ''full_bar'...</td>\n",
       "      <td>Wine Bars, Desserts, Bars, American (New), Nig...</td>\n",
       "      <td>{'Monday': '17:0-22:0', 'Tuesday': '17:0-22:0'...</td>\n",
       "    </tr>\n",
       "    <tr>\n",
       "      <th>2281</th>\n",
       "      <td>cg4JFJcCxRTTMmcg9O9KtA</td>\n",
       "      <td>4.0</td>\n",
       "      <td>0</td>\n",
       "      <td>0</td>\n",
       "      <td>0</td>\n",
       "      <td>Been here twice and both times we thoroughly e...</td>\n",
       "      <td>2018-07-26 14:30:20</td>\n",
       "      <td>Ava</td>\n",
       "      <td>718 S Howard Ave</td>\n",
       "      <td>Tampa</td>\n",
       "      <td>FL</td>\n",
       "      <td>33606</td>\n",
       "      <td>3.5</td>\n",
       "      <td>544</td>\n",
       "      <td>1</td>\n",
       "      <td>{'BikeParking': 'True', 'Alcohol': ''full_bar'...</td>\n",
       "      <td>Wine Bars, Desserts, Bars, American (New), Nig...</td>\n",
       "      <td>{'Monday': '17:0-22:0', 'Tuesday': '17:0-22:0'...</td>\n",
       "    </tr>\n",
       "    <tr>\n",
       "      <th>2282</th>\n",
       "      <td>cg4JFJcCxRTTMmcg9O9KtA</td>\n",
       "      <td>5.0</td>\n",
       "      <td>0</td>\n",
       "      <td>0</td>\n",
       "      <td>0</td>\n",
       "      <td>Brunch was lovely at Ava. No wait and fast ser...</td>\n",
       "      <td>2018-08-26 20:32:05</td>\n",
       "      <td>Ava</td>\n",
       "      <td>718 S Howard Ave</td>\n",
       "      <td>Tampa</td>\n",
       "      <td>FL</td>\n",
       "      <td>33606</td>\n",
       "      <td>3.5</td>\n",
       "      <td>544</td>\n",
       "      <td>1</td>\n",
       "      <td>{'BikeParking': 'True', 'Alcohol': ''full_bar'...</td>\n",
       "      <td>Wine Bars, Desserts, Bars, American (New), Nig...</td>\n",
       "      <td>{'Monday': '17:0-22:0', 'Tuesday': '17:0-22:0'...</td>\n",
       "    </tr>\n",
       "    <tr>\n",
       "      <th>2283</th>\n",
       "      <td>cg4JFJcCxRTTMmcg9O9KtA</td>\n",
       "      <td>3.0</td>\n",
       "      <td>0</td>\n",
       "      <td>0</td>\n",
       "      <td>1</td>\n",
       "      <td>Just walk up and order then go around and wait...</td>\n",
       "      <td>2018-03-24 20:10:35</td>\n",
       "      <td>Ava</td>\n",
       "      <td>718 S Howard Ave</td>\n",
       "      <td>Tampa</td>\n",
       "      <td>FL</td>\n",
       "      <td>33606</td>\n",
       "      <td>3.5</td>\n",
       "      <td>544</td>\n",
       "      <td>1</td>\n",
       "      <td>{'BikeParking': 'True', 'Alcohol': ''full_bar'...</td>\n",
       "      <td>Wine Bars, Desserts, Bars, American (New), Nig...</td>\n",
       "      <td>{'Monday': '17:0-22:0', 'Tuesday': '17:0-22:0'...</td>\n",
       "    </tr>\n",
       "    <tr>\n",
       "      <th>2284</th>\n",
       "      <td>cg4JFJcCxRTTMmcg9O9KtA</td>\n",
       "      <td>1.0</td>\n",
       "      <td>0</td>\n",
       "      <td>0</td>\n",
       "      <td>0</td>\n",
       "      <td>First time coming and the last time this place...</td>\n",
       "      <td>2018-09-16 00:00:28</td>\n",
       "      <td>Ava</td>\n",
       "      <td>718 S Howard Ave</td>\n",
       "      <td>Tampa</td>\n",
       "      <td>FL</td>\n",
       "      <td>33606</td>\n",
       "      <td>3.5</td>\n",
       "      <td>544</td>\n",
       "      <td>1</td>\n",
       "      <td>{'BikeParking': 'True', 'Alcohol': ''full_bar'...</td>\n",
       "      <td>Wine Bars, Desserts, Bars, American (New), Nig...</td>\n",
       "      <td>{'Monday': '17:0-22:0', 'Tuesday': '17:0-22:0'...</td>\n",
       "    </tr>\n",
       "  </tbody>\n",
       "</table>\n",
       "</div>"
      ],
      "text/plain": [
       "                 business_id  stars_x  useful  funny  cool  \\\n",
       "2280  cg4JFJcCxRTTMmcg9O9KtA      1.0       0      1     0   \n",
       "2281  cg4JFJcCxRTTMmcg9O9KtA      4.0       0      0     0   \n",
       "2282  cg4JFJcCxRTTMmcg9O9KtA      5.0       0      0     0   \n",
       "2283  cg4JFJcCxRTTMmcg9O9KtA      3.0       0      0     1   \n",
       "2284  cg4JFJcCxRTTMmcg9O9KtA      1.0       0      0     0   \n",
       "\n",
       "                                                   text                date  \\\n",
       "2280  Skip this train wreck if you are looking for d... 2018-02-11 03:11:20   \n",
       "2281  Been here twice and both times we thoroughly e... 2018-07-26 14:30:20   \n",
       "2282  Brunch was lovely at Ava. No wait and fast ser... 2018-08-26 20:32:05   \n",
       "2283  Just walk up and order then go around and wait... 2018-03-24 20:10:35   \n",
       "2284  First time coming and the last time this place... 2018-09-16 00:00:28   \n",
       "\n",
       "     name           address   city state postal_code  stars_y  review_count  \\\n",
       "2280  Ava  718 S Howard Ave  Tampa    FL       33606      3.5           544   \n",
       "2281  Ava  718 S Howard Ave  Tampa    FL       33606      3.5           544   \n",
       "2282  Ava  718 S Howard Ave  Tampa    FL       33606      3.5           544   \n",
       "2283  Ava  718 S Howard Ave  Tampa    FL       33606      3.5           544   \n",
       "2284  Ava  718 S Howard Ave  Tampa    FL       33606      3.5           544   \n",
       "\n",
       "      is_open                                         attributes  \\\n",
       "2280        1  {'BikeParking': 'True', 'Alcohol': ''full_bar'...   \n",
       "2281        1  {'BikeParking': 'True', 'Alcohol': ''full_bar'...   \n",
       "2282        1  {'BikeParking': 'True', 'Alcohol': ''full_bar'...   \n",
       "2283        1  {'BikeParking': 'True', 'Alcohol': ''full_bar'...   \n",
       "2284        1  {'BikeParking': 'True', 'Alcohol': ''full_bar'...   \n",
       "\n",
       "                                             categories  \\\n",
       "2280  Wine Bars, Desserts, Bars, American (New), Nig...   \n",
       "2281  Wine Bars, Desserts, Bars, American (New), Nig...   \n",
       "2282  Wine Bars, Desserts, Bars, American (New), Nig...   \n",
       "2283  Wine Bars, Desserts, Bars, American (New), Nig...   \n",
       "2284  Wine Bars, Desserts, Bars, American (New), Nig...   \n",
       "\n",
       "                                                  hours  \n",
       "2280  {'Monday': '17:0-22:0', 'Tuesday': '17:0-22:0'...  \n",
       "2281  {'Monday': '17:0-22:0', 'Tuesday': '17:0-22:0'...  \n",
       "2282  {'Monday': '17:0-22:0', 'Tuesday': '17:0-22:0'...  \n",
       "2283  {'Monday': '17:0-22:0', 'Tuesday': '17:0-22:0'...  \n",
       "2284  {'Monday': '17:0-22:0', 'Tuesday': '17:0-22:0'...  "
      ]
     },
     "execution_count": 5,
     "metadata": {},
     "output_type": "execute_result"
    }
   ],
   "source": [
    "LDA_df.head()"
   ]
  },
  {
   "cell_type": "markdown",
   "id": "1a9250a9",
   "metadata": {},
   "source": [
    "# Preprocessing "
   ]
  },
  {
   "cell_type": "code",
   "execution_count": 56,
   "id": "9e00d691",
   "metadata": {},
   "outputs": [],
   "source": [
    "from nltk.stem import PorterStemmer\n",
    "import nltk\n",
    "from nltk.corpus import stopwords\n",
    "def preprocess(text : str) -> str:\n",
    "    \n",
    "    tokens = text.lower().rstrip(' ').rstrip('\\n').rstrip('.').split(' ')\n",
    "    \n",
    "    p = PorterStemmer()\n",
    "    stemmed_doc =[]\n",
    "    for token in tokens:\n",
    "        stemmed_doc.append(p.stem(token))\n",
    "        \n",
    "    tokens = [i.split(' ') for i in stemmed_doc]\n",
    "    \n",
    "    \n",
    "    final_tokens =[]\n",
    "\n",
    "    stop_words = stopwords.words('english')\n",
    "\n",
    "    for l in tokens:\n",
    "        for word in l:\n",
    "            word = word.rstrip('.').rstrip('\\'').rstrip(',')\n",
    "            if word not in final_tokens and word not in stop_words and len(word)>0:\n",
    "                final_tokens.append(word)\n",
    "    return final_tokens\n",
    "    "
   ]
  },
  {
   "cell_type": "markdown",
   "id": "0d551074",
   "metadata": {},
   "source": [
    "# Review-based Market Attractiveness Features (MAF)\n",
    "* Use `dict` to store the aspects distribution\n",
    "* review - LDA\n",
    "* location - LDA "
   ]
  },
  {
   "cell_type": "markdown",
   "id": "3a1b42c6",
   "metadata": {},
   "source": [
    "## LDA"
   ]
  },
  {
   "cell_type": "code",
   "execution_count": 57,
   "id": "d37a9605",
   "metadata": {},
   "outputs": [],
   "source": [
    "#### LDA function\n",
    "\n",
    "def LDA(preprocessed_text_data):\n",
    "    \n",
    "    # Define aspects to analyze\n",
    "    aspects = ['food', 'service', 'atmosphere','waiting_time',\\\n",
    "               'price','environment','location','order',\\\n",
    "               'staff','experience','reservation','time']\n",
    "    \n",
    "\n",
    "    # Create document-term matrix\n",
    "    vectorizer = CountVectorizer()\n",
    "    doc_term_matrix = vectorizer.fit_transform(preprocessed_text_data)\n",
    "\n",
    "    # Initialize LDA model\n",
    "    num_topics = len(aspects)\n",
    "    lda_model = LatentDirichletAllocation(n_components=num_topics, random_state=43)\n",
    "\n",
    "    # Fit LDA model to document-term matrix\n",
    "    lda_model.fit_transform(doc_term_matrix)\n",
    "\n",
    "    # Get top topic for each aspect\n",
    "    aspect_topics = []\n",
    "    for aspect in aspects:\n",
    "        top_topics = sorted(range(num_topics), key=lambda i: lda_model.components_[i].all(), reverse=True)[:5]\n",
    "        aspect_topic = top_topics[0]\n",
    "        aspect_topics.append(aspect_topic)\n",
    "\n",
    "    # Calculate aspect distribution for each review\n",
    "    aspect_distributions = []\n",
    "    for i in range(len(preprocessed_text_data)):\n",
    "        topic_probs = lda_model.transform(vectorizer.transform([preprocessed_text_data[i]]))\n",
    "        aspect_probs = []\n",
    "        for aspect_topic in aspect_topics:\n",
    "            aspect_prob = sum(topic_probs[:, aspect_topic])\n",
    "            aspect_probs.append(aspect_prob)\n",
    "        aspect_distribution = aspect_probs / sum(aspect_probs)\n",
    "        aspect_distributions.append(aspect_distribution)\n",
    "\n",
    "    # Print aspect distribution for a sample review\n",
    "    sample_review_index = 0\n",
    "    for i in range(num_topics):\n",
    "        print(f\"{aspects[i]}: {aspect_distributions[sample_review_index][i]}\")\n"
   ]
  },
  {
   "cell_type": "code",
   "execution_count": 58,
   "id": "61587109",
   "metadata": {},
   "outputs": [],
   "source": [
    "# function for creating a dictionary\n",
    "# lemmitization\n",
    "def create_lda_dict( col_name : str , df) -> dict :\n",
    "    \n",
    "    dict_ = {}\n",
    "    \n",
    "    # get reviews from one topic at once \n",
    "    for i in Counter(df[col_name]):\n",
    "        print(f'Now restaurant : {i}')\n",
    "        tmp = df[df[col_name]==i]\n",
    "        tmp['processed'] = df.text.apply(lambda x: preprocess(x))\n",
    "        review = tmp.text.tolist()\n",
    "        print(f'No. of reviews {len(review)}')\n",
    "#         print(f' {i} : texts : {review}')\n",
    "\n",
    "        #### Preprocess text ##########\n",
    "\n",
    "        ### LDA ###\n",
    "        LDA(review)\n",
    "        \n",
    "        print(f'End of LDA')\n",
    "            \n",
    "    return dict_"
   ]
  },
  {
   "cell_type": "code",
   "execution_count": 59,
   "id": "360c206e",
   "metadata": {
    "scrolled": true
   },
   "outputs": [
    {
     "name": "stdout",
     "output_type": "stream",
     "text": [
      "Now restaurant : Noble Crust\n"
     ]
    },
    {
     "name": "stderr",
     "output_type": "stream",
     "text": [
      "/home/adam/.local/lib/python3.7/site-packages/ipykernel_launcher.py:11: SettingWithCopyWarning: \n",
      "A value is trying to be set on a copy of a slice from a DataFrame.\n",
      "Try using .loc[row_indexer,col_indexer] = value instead\n",
      "\n",
      "See the caveats in the documentation: https://pandas.pydata.org/pandas-docs/stable/user_guide/indexing.html#returning-a-view-versus-a-copy\n",
      "  # This is added back by InteractiveShellApp.init_path()\n"
     ]
    },
    {
     "name": "stdout",
     "output_type": "stream",
     "text": [
      "No. of reviews 1604\n",
      "food: 0.08333333333333334\n",
      "service: 0.08333333333333334\n",
      "atmosphere: 0.08333333333333334\n",
      "waiting_time: 0.08333333333333334\n",
      "price: 0.08333333333333334\n",
      "environment: 0.08333333333333334\n",
      "location: 0.08333333333333334\n",
      "order: 0.08333333333333334\n",
      "staff: 0.08333333333333334\n",
      "experience: 0.08333333333333334\n",
      "reservation: 0.08333333333333334\n",
      "time: 0.08333333333333334\n",
      "End of LDA\n",
      "Now restaurant : Cracker Barrel Old Country Store\n"
     ]
    },
    {
     "name": "stderr",
     "output_type": "stream",
     "text": [
      "/home/adam/.local/lib/python3.7/site-packages/ipykernel_launcher.py:11: SettingWithCopyWarning: \n",
      "A value is trying to be set on a copy of a slice from a DataFrame.\n",
      "Try using .loc[row_indexer,col_indexer] = value instead\n",
      "\n",
      "See the caveats in the documentation: https://pandas.pydata.org/pandas-docs/stable/user_guide/indexing.html#returning-a-view-versus-a-copy\n",
      "  # This is added back by InteractiveShellApp.init_path()\n"
     ]
    },
    {
     "name": "stdout",
     "output_type": "stream",
     "text": [
      "No. of reviews 288\n",
      "food: 0.08333333333333331\n",
      "service: 0.08333333333333331\n",
      "atmosphere: 0.08333333333333331\n",
      "waiting_time: 0.08333333333333331\n",
      "price: 0.08333333333333331\n",
      "environment: 0.08333333333333331\n",
      "location: 0.08333333333333331\n",
      "order: 0.08333333333333331\n",
      "staff: 0.08333333333333331\n",
      "experience: 0.08333333333333331\n",
      "reservation: 0.08333333333333331\n",
      "time: 0.08333333333333331\n",
      "End of LDA\n",
      "Now restaurant : BJ's Restaurant & Brewhouse\n"
     ]
    },
    {
     "name": "stderr",
     "output_type": "stream",
     "text": [
      "/home/adam/.local/lib/python3.7/site-packages/ipykernel_launcher.py:11: SettingWithCopyWarning: \n",
      "A value is trying to be set on a copy of a slice from a DataFrame.\n",
      "Try using .loc[row_indexer,col_indexer] = value instead\n",
      "\n",
      "See the caveats in the documentation: https://pandas.pydata.org/pandas-docs/stable/user_guide/indexing.html#returning-a-view-versus-a-copy\n",
      "  # This is added back by InteractiveShellApp.init_path()\n"
     ]
    },
    {
     "name": "stdout",
     "output_type": "stream",
     "text": [
      "No. of reviews 1043\n",
      "food: 0.08333333333333333\n",
      "service: 0.08333333333333333\n",
      "atmosphere: 0.08333333333333333\n",
      "waiting_time: 0.08333333333333333\n",
      "price: 0.08333333333333333\n",
      "environment: 0.08333333333333333\n",
      "location: 0.08333333333333333\n",
      "order: 0.08333333333333333\n",
      "staff: 0.08333333333333333\n",
      "experience: 0.08333333333333333\n",
      "reservation: 0.08333333333333333\n",
      "time: 0.08333333333333333\n",
      "End of LDA\n",
      "Now restaurant : Another Broken Egg Cafe\n"
     ]
    },
    {
     "name": "stderr",
     "output_type": "stream",
     "text": [
      "/home/adam/.local/lib/python3.7/site-packages/ipykernel_launcher.py:11: SettingWithCopyWarning: \n",
      "A value is trying to be set on a copy of a slice from a DataFrame.\n",
      "Try using .loc[row_indexer,col_indexer] = value instead\n",
      "\n",
      "See the caveats in the documentation: https://pandas.pydata.org/pandas-docs/stable/user_guide/indexing.html#returning-a-view-versus-a-copy\n",
      "  # This is added back by InteractiveShellApp.init_path()\n",
      "/home/adam/.local/lib/python3.7/site-packages/ipykernel_launcher.py:11: SettingWithCopyWarning: \n",
      "A value is trying to be set on a copy of a slice from a DataFrame.\n",
      "Try using .loc[row_indexer,col_indexer] = value instead\n",
      "\n",
      "See the caveats in the documentation: https://pandas.pydata.org/pandas-docs/stable/user_guide/indexing.html#returning-a-view-versus-a-copy\n",
      "  # This is added back by InteractiveShellApp.init_path()\n"
     ]
    },
    {
     "name": "stdout",
     "output_type": "stream",
     "text": [
      "No. of reviews 264\n",
      "food: 0.08333333333333334\n",
      "service: 0.08333333333333334\n",
      "atmosphere: 0.08333333333333334\n",
      "waiting_time: 0.08333333333333334\n",
      "price: 0.08333333333333334\n",
      "environment: 0.08333333333333334\n",
      "location: 0.08333333333333334\n",
      "order: 0.08333333333333334\n",
      "staff: 0.08333333333333334\n",
      "experience: 0.08333333333333334\n",
      "reservation: 0.08333333333333334\n",
      "time: 0.08333333333333334\n",
      "End of LDA\n",
      "Now restaurant : Chicken Salad Chick\n"
     ]
    },
    {
     "name": "stderr",
     "output_type": "stream",
     "text": [
      "/home/adam/.local/lib/python3.7/site-packages/ipykernel_launcher.py:11: SettingWithCopyWarning: \n",
      "A value is trying to be set on a copy of a slice from a DataFrame.\n",
      "Try using .loc[row_indexer,col_indexer] = value instead\n",
      "\n",
      "See the caveats in the documentation: https://pandas.pydata.org/pandas-docs/stable/user_guide/indexing.html#returning-a-view-versus-a-copy\n",
      "  # This is added back by InteractiveShellApp.init_path()\n"
     ]
    },
    {
     "name": "stdout",
     "output_type": "stream",
     "text": [
      "No. of reviews 341\n",
      "food: 0.08333333333333336\n",
      "service: 0.08333333333333336\n",
      "atmosphere: 0.08333333333333336\n",
      "waiting_time: 0.08333333333333336\n",
      "price: 0.08333333333333336\n",
      "environment: 0.08333333333333336\n",
      "location: 0.08333333333333336\n",
      "order: 0.08333333333333336\n",
      "staff: 0.08333333333333336\n",
      "experience: 0.08333333333333336\n",
      "reservation: 0.08333333333333336\n",
      "time: 0.08333333333333336\n",
      "End of LDA\n",
      "Now restaurant : Smokey Bones\n"
     ]
    },
    {
     "name": "stderr",
     "output_type": "stream",
     "text": [
      "/home/adam/.local/lib/python3.7/site-packages/ipykernel_launcher.py:11: SettingWithCopyWarning: \n",
      "A value is trying to be set on a copy of a slice from a DataFrame.\n",
      "Try using .loc[row_indexer,col_indexer] = value instead\n",
      "\n",
      "See the caveats in the documentation: https://pandas.pydata.org/pandas-docs/stable/user_guide/indexing.html#returning-a-view-versus-a-copy\n",
      "  # This is added back by InteractiveShellApp.init_path()\n"
     ]
    },
    {
     "name": "stdout",
     "output_type": "stream",
     "text": [
      "No. of reviews 441\n",
      "food: 0.08333333333333336\n",
      "service: 0.08333333333333336\n",
      "atmosphere: 0.08333333333333336\n",
      "waiting_time: 0.08333333333333336\n",
      "price: 0.08333333333333336\n",
      "environment: 0.08333333333333336\n",
      "location: 0.08333333333333336\n",
      "order: 0.08333333333333336\n",
      "staff: 0.08333333333333336\n",
      "experience: 0.08333333333333336\n",
      "reservation: 0.08333333333333336\n",
      "time: 0.08333333333333336\n",
      "End of LDA\n",
      "Now restaurant : Popeyes Louisiana Kitchen\n"
     ]
    },
    {
     "name": "stderr",
     "output_type": "stream",
     "text": [
      "/home/adam/.local/lib/python3.7/site-packages/ipykernel_launcher.py:11: SettingWithCopyWarning: \n",
      "A value is trying to be set on a copy of a slice from a DataFrame.\n",
      "Try using .loc[row_indexer,col_indexer] = value instead\n",
      "\n",
      "See the caveats in the documentation: https://pandas.pydata.org/pandas-docs/stable/user_guide/indexing.html#returning-a-view-versus-a-copy\n",
      "  # This is added back by InteractiveShellApp.init_path()\n"
     ]
    },
    {
     "name": "stdout",
     "output_type": "stream",
     "text": [
      "No. of reviews 382\n",
      "food: 0.08333333333333333\n",
      "service: 0.08333333333333333\n",
      "atmosphere: 0.08333333333333333\n",
      "waiting_time: 0.08333333333333333\n",
      "price: 0.08333333333333333\n",
      "environment: 0.08333333333333333\n",
      "location: 0.08333333333333333\n",
      "order: 0.08333333333333333\n",
      "staff: 0.08333333333333333\n",
      "experience: 0.08333333333333333\n",
      "reservation: 0.08333333333333333\n",
      "time: 0.08333333333333333\n",
      "End of LDA\n",
      "Now restaurant : Steak ’n Shake\n"
     ]
    },
    {
     "name": "stderr",
     "output_type": "stream",
     "text": [
      "/home/adam/.local/lib/python3.7/site-packages/ipykernel_launcher.py:11: SettingWithCopyWarning: \n",
      "A value is trying to be set on a copy of a slice from a DataFrame.\n",
      "Try using .loc[row_indexer,col_indexer] = value instead\n",
      "\n",
      "See the caveats in the documentation: https://pandas.pydata.org/pandas-docs/stable/user_guide/indexing.html#returning-a-view-versus-a-copy\n",
      "  # This is added back by InteractiveShellApp.init_path()\n"
     ]
    },
    {
     "name": "stdout",
     "output_type": "stream",
     "text": [
      "No. of reviews 250\n",
      "food: 0.08333333333333334\n",
      "service: 0.08333333333333334\n",
      "atmosphere: 0.08333333333333334\n",
      "waiting_time: 0.08333333333333334\n",
      "price: 0.08333333333333334\n",
      "environment: 0.08333333333333334\n",
      "location: 0.08333333333333334\n",
      "order: 0.08333333333333334\n",
      "staff: 0.08333333333333334\n",
      "experience: 0.08333333333333334\n",
      "reservation: 0.08333333333333334\n",
      "time: 0.08333333333333334\n",
      "End of LDA\n",
      "Now restaurant : Cheddar's Scratch Kitchen\n"
     ]
    },
    {
     "name": "stderr",
     "output_type": "stream",
     "text": [
      "/home/adam/.local/lib/python3.7/site-packages/ipykernel_launcher.py:11: SettingWithCopyWarning: \n",
      "A value is trying to be set on a copy of a slice from a DataFrame.\n",
      "Try using .loc[row_indexer,col_indexer] = value instead\n",
      "\n",
      "See the caveats in the documentation: https://pandas.pydata.org/pandas-docs/stable/user_guide/indexing.html#returning-a-view-versus-a-copy\n",
      "  # This is added back by InteractiveShellApp.init_path()\n"
     ]
    },
    {
     "name": "stdout",
     "output_type": "stream",
     "text": [
      "No. of reviews 402\n",
      "food: 0.08333333333333333\n",
      "service: 0.08333333333333333\n",
      "atmosphere: 0.08333333333333333\n",
      "waiting_time: 0.08333333333333333\n",
      "price: 0.08333333333333333\n",
      "environment: 0.08333333333333333\n",
      "location: 0.08333333333333333\n",
      "order: 0.08333333333333333\n",
      "staff: 0.08333333333333333\n",
      "experience: 0.08333333333333333\n",
      "reservation: 0.08333333333333333\n",
      "time: 0.08333333333333333\n",
      "End of LDA\n",
      "Now restaurant : Bonefish Grill\n"
     ]
    },
    {
     "name": "stderr",
     "output_type": "stream",
     "text": [
      "/home/adam/.local/lib/python3.7/site-packages/ipykernel_launcher.py:11: SettingWithCopyWarning: \n",
      "A value is trying to be set on a copy of a slice from a DataFrame.\n",
      "Try using .loc[row_indexer,col_indexer] = value instead\n",
      "\n",
      "See the caveats in the documentation: https://pandas.pydata.org/pandas-docs/stable/user_guide/indexing.html#returning-a-view-versus-a-copy\n",
      "  # This is added back by InteractiveShellApp.init_path()\n"
     ]
    },
    {
     "name": "stdout",
     "output_type": "stream",
     "text": [
      "No. of reviews 754\n",
      "food: 0.08333333333333333\n",
      "service: 0.08333333333333333\n",
      "atmosphere: 0.08333333333333333\n",
      "waiting_time: 0.08333333333333333\n",
      "price: 0.08333333333333333\n",
      "environment: 0.08333333333333333\n",
      "location: 0.08333333333333333\n",
      "order: 0.08333333333333333\n",
      "staff: 0.08333333333333333\n",
      "experience: 0.08333333333333333\n",
      "reservation: 0.08333333333333333\n",
      "time: 0.08333333333333333\n",
      "End of LDA\n",
      "Now restaurant : Acropolis Greek Taverna\n"
     ]
    },
    {
     "name": "stderr",
     "output_type": "stream",
     "text": [
      "/home/adam/.local/lib/python3.7/site-packages/ipykernel_launcher.py:11: SettingWithCopyWarning: \n",
      "A value is trying to be set on a copy of a slice from a DataFrame.\n",
      "Try using .loc[row_indexer,col_indexer] = value instead\n",
      "\n",
      "See the caveats in the documentation: https://pandas.pydata.org/pandas-docs/stable/user_guide/indexing.html#returning-a-view-versus-a-copy\n",
      "  # This is added back by InteractiveShellApp.init_path()\n"
     ]
    },
    {
     "name": "stdout",
     "output_type": "stream",
     "text": [
      "No. of reviews 792\n",
      "food: 0.08333333333333333\n",
      "service: 0.08333333333333333\n",
      "atmosphere: 0.08333333333333333\n",
      "waiting_time: 0.08333333333333333\n",
      "price: 0.08333333333333333\n",
      "environment: 0.08333333333333333\n",
      "location: 0.08333333333333333\n",
      "order: 0.08333333333333333\n",
      "staff: 0.08333333333333333\n",
      "experience: 0.08333333333333333\n",
      "reservation: 0.08333333333333333\n",
      "time: 0.08333333333333333\n",
      "End of LDA\n",
      "Now restaurant : Buffalo Wild Wings\n"
     ]
    },
    {
     "name": "stderr",
     "output_type": "stream",
     "text": [
      "/home/adam/.local/lib/python3.7/site-packages/ipykernel_launcher.py:11: SettingWithCopyWarning: \n",
      "A value is trying to be set on a copy of a slice from a DataFrame.\n",
      "Try using .loc[row_indexer,col_indexer] = value instead\n",
      "\n",
      "See the caveats in the documentation: https://pandas.pydata.org/pandas-docs/stable/user_guide/indexing.html#returning-a-view-versus-a-copy\n",
      "  # This is added back by InteractiveShellApp.init_path()\n"
     ]
    },
    {
     "name": "stdout",
     "output_type": "stream",
     "text": [
      "No. of reviews 621\n",
      "food: 0.08333333333333334\n",
      "service: 0.08333333333333334\n",
      "atmosphere: 0.08333333333333334\n",
      "waiting_time: 0.08333333333333334\n",
      "price: 0.08333333333333334\n",
      "environment: 0.08333333333333334\n",
      "location: 0.08333333333333334\n",
      "order: 0.08333333333333334\n",
      "staff: 0.08333333333333334\n",
      "experience: 0.08333333333333334\n",
      "reservation: 0.08333333333333334\n",
      "time: 0.08333333333333334\n",
      "End of LDA\n",
      "Now restaurant : Chipotle Mexican Grill\n"
     ]
    },
    {
     "name": "stderr",
     "output_type": "stream",
     "text": [
      "/home/adam/.local/lib/python3.7/site-packages/ipykernel_launcher.py:11: SettingWithCopyWarning: \n",
      "A value is trying to be set on a copy of a slice from a DataFrame.\n",
      "Try using .loc[row_indexer,col_indexer] = value instead\n",
      "\n",
      "See the caveats in the documentation: https://pandas.pydata.org/pandas-docs/stable/user_guide/indexing.html#returning-a-view-versus-a-copy\n",
      "  # This is added back by InteractiveShellApp.init_path()\n"
     ]
    },
    {
     "name": "stdout",
     "output_type": "stream",
     "text": [
      "No. of reviews 552\n",
      "food: 0.08333333333333333\n",
      "service: 0.08333333333333333\n",
      "atmosphere: 0.08333333333333333\n",
      "waiting_time: 0.08333333333333333\n",
      "price: 0.08333333333333333\n",
      "environment: 0.08333333333333333\n",
      "location: 0.08333333333333333\n",
      "order: 0.08333333333333333\n",
      "staff: 0.08333333333333333\n",
      "experience: 0.08333333333333333\n",
      "reservation: 0.08333333333333333\n",
      "time: 0.08333333333333333\n",
      "End of LDA\n",
      "Now restaurant : Carrabba's Italian Grill\n"
     ]
    },
    {
     "name": "stderr",
     "output_type": "stream",
     "text": [
      "/home/adam/.local/lib/python3.7/site-packages/ipykernel_launcher.py:11: SettingWithCopyWarning: \n",
      "A value is trying to be set on a copy of a slice from a DataFrame.\n",
      "Try using .loc[row_indexer,col_indexer] = value instead\n",
      "\n",
      "See the caveats in the documentation: https://pandas.pydata.org/pandas-docs/stable/user_guide/indexing.html#returning-a-view-versus-a-copy\n",
      "  # This is added back by InteractiveShellApp.init_path()\n"
     ]
    },
    {
     "name": "stdout",
     "output_type": "stream",
     "text": [
      "No. of reviews 650\n",
      "food: 0.08333333333333334\n",
      "service: 0.08333333333333334\n",
      "atmosphere: 0.08333333333333334\n",
      "waiting_time: 0.08333333333333334\n",
      "price: 0.08333333333333334\n",
      "environment: 0.08333333333333334\n",
      "location: 0.08333333333333334\n",
      "order: 0.08333333333333334\n",
      "staff: 0.08333333333333334\n",
      "experience: 0.08333333333333334\n",
      "reservation: 0.08333333333333334\n",
      "time: 0.08333333333333334\n",
      "End of LDA\n",
      "Now restaurant : Olive Garden Italian Restaurant\n"
     ]
    },
    {
     "name": "stderr",
     "output_type": "stream",
     "text": [
      "/home/adam/.local/lib/python3.7/site-packages/ipykernel_launcher.py:11: SettingWithCopyWarning: \n",
      "A value is trying to be set on a copy of a slice from a DataFrame.\n",
      "Try using .loc[row_indexer,col_indexer] = value instead\n",
      "\n",
      "See the caveats in the documentation: https://pandas.pydata.org/pandas-docs/stable/user_guide/indexing.html#returning-a-view-versus-a-copy\n",
      "  # This is added back by InteractiveShellApp.init_path()\n"
     ]
    },
    {
     "name": "stdout",
     "output_type": "stream",
     "text": [
      "No. of reviews 270\n",
      "food: 0.08333333333333331\n",
      "service: 0.08333333333333331\n",
      "atmosphere: 0.08333333333333331\n",
      "waiting_time: 0.08333333333333331\n",
      "price: 0.08333333333333331\n",
      "environment: 0.08333333333333331\n",
      "location: 0.08333333333333331\n",
      "order: 0.08333333333333331\n",
      "staff: 0.08333333333333331\n",
      "experience: 0.08333333333333331\n",
      "reservation: 0.08333333333333331\n",
      "time: 0.08333333333333331\n",
      "End of LDA\n",
      "Now restaurant : Bahama Breeze\n"
     ]
    },
    {
     "name": "stderr",
     "output_type": "stream",
     "text": [
      "/home/adam/.local/lib/python3.7/site-packages/ipykernel_launcher.py:11: SettingWithCopyWarning: \n",
      "A value is trying to be set on a copy of a slice from a DataFrame.\n",
      "Try using .loc[row_indexer,col_indexer] = value instead\n",
      "\n",
      "See the caveats in the documentation: https://pandas.pydata.org/pandas-docs/stable/user_guide/indexing.html#returning-a-view-versus-a-copy\n",
      "  # This is added back by InteractiveShellApp.init_path()\n"
     ]
    },
    {
     "name": "stdout",
     "output_type": "stream",
     "text": [
      "No. of reviews 842\n",
      "food: 0.08333333333333334\n",
      "service: 0.08333333333333334\n",
      "atmosphere: 0.08333333333333334\n",
      "waiting_time: 0.08333333333333334\n",
      "price: 0.08333333333333334\n",
      "environment: 0.08333333333333334\n",
      "location: 0.08333333333333334\n",
      "order: 0.08333333333333334\n",
      "staff: 0.08333333333333334\n",
      "experience: 0.08333333333333334\n",
      "reservation: 0.08333333333333334\n",
      "time: 0.08333333333333334\n",
      "End of LDA\n",
      "Now restaurant : Capital Tacos\n"
     ]
    },
    {
     "name": "stderr",
     "output_type": "stream",
     "text": [
      "/home/adam/.local/lib/python3.7/site-packages/ipykernel_launcher.py:11: SettingWithCopyWarning: \n",
      "A value is trying to be set on a copy of a slice from a DataFrame.\n",
      "Try using .loc[row_indexer,col_indexer] = value instead\n",
      "\n",
      "See the caveats in the documentation: https://pandas.pydata.org/pandas-docs/stable/user_guide/indexing.html#returning-a-view-versus-a-copy\n",
      "  # This is added back by InteractiveShellApp.init_path()\n"
     ]
    },
    {
     "name": "stdout",
     "output_type": "stream",
     "text": [
      "No. of reviews 1100\n",
      "food: 0.08333333333333333\n",
      "service: 0.08333333333333333\n",
      "atmosphere: 0.08333333333333333\n",
      "waiting_time: 0.08333333333333333\n",
      "price: 0.08333333333333333\n",
      "environment: 0.08333333333333333\n",
      "location: 0.08333333333333333\n",
      "order: 0.08333333333333333\n",
      "staff: 0.08333333333333333\n",
      "experience: 0.08333333333333333\n",
      "reservation: 0.08333333333333333\n",
      "time: 0.08333333333333333\n",
      "End of LDA\n",
      "Now restaurant : Taco Bus\n"
     ]
    },
    {
     "name": "stderr",
     "output_type": "stream",
     "text": [
      "/home/adam/.local/lib/python3.7/site-packages/ipykernel_launcher.py:11: SettingWithCopyWarning: \n",
      "A value is trying to be set on a copy of a slice from a DataFrame.\n",
      "Try using .loc[row_indexer,col_indexer] = value instead\n",
      "\n",
      "See the caveats in the documentation: https://pandas.pydata.org/pandas-docs/stable/user_guide/indexing.html#returning-a-view-versus-a-copy\n",
      "  # This is added back by InteractiveShellApp.init_path()\n"
     ]
    },
    {
     "name": "stdout",
     "output_type": "stream",
     "text": [
      "No. of reviews 581\n",
      "food: 0.08333333333333336\n",
      "service: 0.08333333333333336\n",
      "atmosphere: 0.08333333333333336\n",
      "waiting_time: 0.08333333333333336\n",
      "price: 0.08333333333333336\n",
      "environment: 0.08333333333333336\n",
      "location: 0.08333333333333336\n",
      "order: 0.08333333333333336\n",
      "staff: 0.08333333333333336\n",
      "experience: 0.08333333333333336\n",
      "reservation: 0.08333333333333336\n",
      "time: 0.08333333333333336\n",
      "End of LDA\n",
      "Now restaurant : Cody's Original Roadhouse\n"
     ]
    },
    {
     "name": "stderr",
     "output_type": "stream",
     "text": [
      "/home/adam/.local/lib/python3.7/site-packages/ipykernel_launcher.py:11: SettingWithCopyWarning: \n",
      "A value is trying to be set on a copy of a slice from a DataFrame.\n",
      "Try using .loc[row_indexer,col_indexer] = value instead\n",
      "\n",
      "See the caveats in the documentation: https://pandas.pydata.org/pandas-docs/stable/user_guide/indexing.html#returning-a-view-versus-a-copy\n",
      "  # This is added back by InteractiveShellApp.init_path()\n"
     ]
    },
    {
     "name": "stdout",
     "output_type": "stream",
     "text": [
      "No. of reviews 230\n",
      "food: 0.08333333333333333\n",
      "service: 0.08333333333333333\n",
      "atmosphere: 0.08333333333333333\n",
      "waiting_time: 0.08333333333333333\n",
      "price: 0.08333333333333333\n",
      "environment: 0.08333333333333333\n",
      "location: 0.08333333333333333\n",
      "order: 0.08333333333333333\n",
      "staff: 0.08333333333333333\n",
      "experience: 0.08333333333333333\n",
      "reservation: 0.08333333333333333\n",
      "time: 0.08333333333333333\n",
      "End of LDA\n",
      "Now restaurant : Wingstop\n"
     ]
    },
    {
     "name": "stderr",
     "output_type": "stream",
     "text": [
      "/home/adam/.local/lib/python3.7/site-packages/ipykernel_launcher.py:11: SettingWithCopyWarning: \n",
      "A value is trying to be set on a copy of a slice from a DataFrame.\n",
      "Try using .loc[row_indexer,col_indexer] = value instead\n",
      "\n",
      "See the caveats in the documentation: https://pandas.pydata.org/pandas-docs/stable/user_guide/indexing.html#returning-a-view-versus-a-copy\n",
      "  # This is added back by InteractiveShellApp.init_path()\n"
     ]
    },
    {
     "name": "stdout",
     "output_type": "stream",
     "text": [
      "No. of reviews 169\n",
      "food: 0.08333333333333336\n",
      "service: 0.08333333333333336\n",
      "atmosphere: 0.08333333333333336\n",
      "waiting_time: 0.08333333333333336\n",
      "price: 0.08333333333333336\n",
      "environment: 0.08333333333333336\n",
      "location: 0.08333333333333336\n",
      "order: 0.08333333333333336\n",
      "staff: 0.08333333333333336\n",
      "experience: 0.08333333333333336\n",
      "reservation: 0.08333333333333336\n",
      "time: 0.08333333333333336\n",
      "End of LDA\n",
      "Now restaurant : P.F. Chang's\n"
     ]
    },
    {
     "name": "stderr",
     "output_type": "stream",
     "text": [
      "/home/adam/.local/lib/python3.7/site-packages/ipykernel_launcher.py:11: SettingWithCopyWarning: \n",
      "A value is trying to be set on a copy of a slice from a DataFrame.\n",
      "Try using .loc[row_indexer,col_indexer] = value instead\n",
      "\n",
      "See the caveats in the documentation: https://pandas.pydata.org/pandas-docs/stable/user_guide/indexing.html#returning-a-view-versus-a-copy\n",
      "  # This is added back by InteractiveShellApp.init_path()\n"
     ]
    },
    {
     "name": "stdout",
     "output_type": "stream",
     "text": [
      "No. of reviews 398\n",
      "food: 0.08333333333333331\n",
      "service: 0.08333333333333331\n",
      "atmosphere: 0.08333333333333331\n",
      "waiting_time: 0.08333333333333331\n",
      "price: 0.08333333333333331\n",
      "environment: 0.08333333333333331\n",
      "location: 0.08333333333333331\n",
      "order: 0.08333333333333331\n",
      "staff: 0.08333333333333331\n",
      "experience: 0.08333333333333331\n",
      "reservation: 0.08333333333333331\n",
      "time: 0.08333333333333331\n",
      "End of LDA\n"
     ]
    },
    {
     "data": {
      "text/plain": [
       "{}"
      ]
     },
     "execution_count": 59,
     "metadata": {},
     "output_type": "execute_result"
    }
   ],
   "source": [
    "# create a dictionary for restaurant\n",
    "create_lda_dict('name',df)"
   ]
  },
  {
   "cell_type": "markdown",
   "id": "157fb384",
   "metadata": {},
   "source": [
    "## Bert topic"
   ]
  },
  {
   "cell_type": "code",
   "execution_count": null,
   "id": "c56b099a",
   "metadata": {},
   "outputs": [],
   "source": []
  },
  {
   "cell_type": "code",
   "execution_count": 88,
   "id": "fe8985de",
   "metadata": {},
   "outputs": [
    {
     "name": "stdout",
     "output_type": "stream",
     "text": [
      "Now restaurant : Noble Crust\n"
     ]
    },
    {
     "ename": "RuntimeError",
     "evalue": "Failed to import transformers.models.bert.modeling_bert because of the following error (look up to see its traceback):\ncannot import name 'dispatch_model' from 'accelerate' (/home/adam/.local/lib/python3.7/site-packages/accelerate/__init__.py)",
     "output_type": "error",
     "traceback": [
      "\u001b[0;31m---------------------------------------------------------------------------\u001b[0m",
      "\u001b[0;31mImportError\u001b[0m                               Traceback (most recent call last)",
      "\u001b[0;32m~/.local/lib/python3.7/site-packages/transformers/utils/import_utils.py\u001b[0m in \u001b[0;36m_get_module\u001b[0;34m(self, module_name)\u001b[0m\n\u001b[1;32m   1109\u001b[0m         \u001b[0;32mtry\u001b[0m\u001b[0;34m:\u001b[0m\u001b[0;34m\u001b[0m\u001b[0;34m\u001b[0m\u001b[0m\n\u001b[0;32m-> 1110\u001b[0;31m             \u001b[0;32mreturn\u001b[0m \u001b[0mimportlib\u001b[0m\u001b[0;34m.\u001b[0m\u001b[0mimport_module\u001b[0m\u001b[0;34m(\u001b[0m\u001b[0;34m\".\"\u001b[0m \u001b[0;34m+\u001b[0m \u001b[0mmodule_name\u001b[0m\u001b[0;34m,\u001b[0m \u001b[0mself\u001b[0m\u001b[0;34m.\u001b[0m\u001b[0m__name__\u001b[0m\u001b[0;34m)\u001b[0m\u001b[0;34m\u001b[0m\u001b[0;34m\u001b[0m\u001b[0m\n\u001b[0m\u001b[1;32m   1111\u001b[0m         \u001b[0;32mexcept\u001b[0m \u001b[0mException\u001b[0m \u001b[0;32mas\u001b[0m \u001b[0me\u001b[0m\u001b[0;34m:\u001b[0m\u001b[0;34m\u001b[0m\u001b[0;34m\u001b[0m\u001b[0m\n",
      "\u001b[0;32m/usr/lib/python3.7/importlib/__init__.py\u001b[0m in \u001b[0;36mimport_module\u001b[0;34m(name, package)\u001b[0m\n\u001b[1;32m    126\u001b[0m             \u001b[0mlevel\u001b[0m \u001b[0;34m+=\u001b[0m \u001b[0;36m1\u001b[0m\u001b[0;34m\u001b[0m\u001b[0;34m\u001b[0m\u001b[0m\n\u001b[0;32m--> 127\u001b[0;31m     \u001b[0;32mreturn\u001b[0m \u001b[0m_bootstrap\u001b[0m\u001b[0;34m.\u001b[0m\u001b[0m_gcd_import\u001b[0m\u001b[0;34m(\u001b[0m\u001b[0mname\u001b[0m\u001b[0;34m[\u001b[0m\u001b[0mlevel\u001b[0m\u001b[0;34m:\u001b[0m\u001b[0;34m]\u001b[0m\u001b[0;34m,\u001b[0m \u001b[0mpackage\u001b[0m\u001b[0;34m,\u001b[0m \u001b[0mlevel\u001b[0m\u001b[0;34m)\u001b[0m\u001b[0;34m\u001b[0m\u001b[0;34m\u001b[0m\u001b[0m\n\u001b[0m\u001b[1;32m    128\u001b[0m \u001b[0;34m\u001b[0m\u001b[0m\n",
      "\u001b[0;32m/usr/lib/python3.7/importlib/_bootstrap.py\u001b[0m in \u001b[0;36m_gcd_import\u001b[0;34m(name, package, level)\u001b[0m\n",
      "\u001b[0;32m/usr/lib/python3.7/importlib/_bootstrap.py\u001b[0m in \u001b[0;36m_find_and_load\u001b[0;34m(name, import_)\u001b[0m\n",
      "\u001b[0;32m/usr/lib/python3.7/importlib/_bootstrap.py\u001b[0m in \u001b[0;36m_find_and_load_unlocked\u001b[0;34m(name, import_)\u001b[0m\n",
      "\u001b[0;32m/usr/lib/python3.7/importlib/_bootstrap.py\u001b[0m in \u001b[0;36m_load_unlocked\u001b[0;34m(spec)\u001b[0m\n",
      "\u001b[0;32m/usr/lib/python3.7/importlib/_bootstrap_external.py\u001b[0m in \u001b[0;36mexec_module\u001b[0;34m(self, module)\u001b[0m\n",
      "\u001b[0;32m/usr/lib/python3.7/importlib/_bootstrap.py\u001b[0m in \u001b[0;36m_call_with_frames_removed\u001b[0;34m(f, *args, **kwds)\u001b[0m\n",
      "\u001b[0;32m~/.local/lib/python3.7/site-packages/transformers/models/bert/modeling_bert.py\u001b[0m in \u001b[0;36m<module>\u001b[0;34m\u001b[0m\n\u001b[1;32m     41\u001b[0m )\n\u001b[0;32m---> 42\u001b[0;31m \u001b[0;32mfrom\u001b[0m \u001b[0;34m...\u001b[0m\u001b[0mmodeling_utils\u001b[0m \u001b[0;32mimport\u001b[0m \u001b[0mPreTrainedModel\u001b[0m\u001b[0;34m\u001b[0m\u001b[0;34m\u001b[0m\u001b[0m\n\u001b[0m\u001b[1;32m     43\u001b[0m \u001b[0;32mfrom\u001b[0m \u001b[0;34m...\u001b[0m\u001b[0mpytorch_utils\u001b[0m \u001b[0;32mimport\u001b[0m \u001b[0mapply_chunking_to_forward\u001b[0m\u001b[0;34m,\u001b[0m \u001b[0mfind_pruneable_heads_and_indices\u001b[0m\u001b[0;34m,\u001b[0m \u001b[0mprune_linear_layer\u001b[0m\u001b[0;34m\u001b[0m\u001b[0;34m\u001b[0m\u001b[0m\n",
      "\u001b[0;32m~/.local/lib/python3.7/site-packages/transformers/modeling_utils.py\u001b[0m in \u001b[0;36m<module>\u001b[0;34m\u001b[0m\n\u001b[1;32m     83\u001b[0m     \u001b[0;32mfrom\u001b[0m \u001b[0maccelerate\u001b[0m \u001b[0;32mimport\u001b[0m \u001b[0m__version__\u001b[0m \u001b[0;32mas\u001b[0m \u001b[0maccelerate_version\u001b[0m\u001b[0;34m\u001b[0m\u001b[0;34m\u001b[0m\u001b[0m\n\u001b[0;32m---> 84\u001b[0;31m     \u001b[0;32mfrom\u001b[0m \u001b[0maccelerate\u001b[0m \u001b[0;32mimport\u001b[0m \u001b[0mdispatch_model\u001b[0m\u001b[0;34m,\u001b[0m \u001b[0minfer_auto_device_map\u001b[0m\u001b[0;34m,\u001b[0m \u001b[0minit_empty_weights\u001b[0m\u001b[0;34m\u001b[0m\u001b[0;34m\u001b[0m\u001b[0m\n\u001b[0m\u001b[1;32m     85\u001b[0m     from accelerate.utils import (\n",
      "\u001b[0;31mImportError\u001b[0m: cannot import name 'dispatch_model' from 'accelerate' (/home/adam/.local/lib/python3.7/site-packages/accelerate/__init__.py)",
      "\nThe above exception was the direct cause of the following exception:\n",
      "\u001b[0;31mRuntimeError\u001b[0m                              Traceback (most recent call last)",
      "\u001b[0;32m/tmp/ipykernel_29086/2918830654.py\u001b[0m in \u001b[0;36m<module>\u001b[0;34m\u001b[0m\n\u001b[1;32m     12\u001b[0m \u001b[0;31m#         print(tmp.processed.to_string())\u001b[0m\u001b[0;34m\u001b[0m\u001b[0;34m\u001b[0m\u001b[0;34m\u001b[0m\u001b[0m\n\u001b[1;32m     13\u001b[0m         \u001b[0mtopic_model\u001b[0m \u001b[0;34m=\u001b[0m \u001b[0mBERTopic\u001b[0m\u001b[0;34m(\u001b[0m\u001b[0mnr_topics\u001b[0m\u001b[0;34m=\u001b[0m\u001b[0;36m10\u001b[0m\u001b[0;34m)\u001b[0m\u001b[0;34m\u001b[0m\u001b[0;34m\u001b[0m\u001b[0m\n\u001b[0;32m---> 14\u001b[0;31m         \u001b[0mtopics\u001b[0m\u001b[0;34m,\u001b[0m \u001b[0mprobs\u001b[0m \u001b[0;34m=\u001b[0m \u001b[0mtopic_model\u001b[0m\u001b[0;34m.\u001b[0m\u001b[0mfit_transform\u001b[0m\u001b[0;34m(\u001b[0m\u001b[0mprocessed\u001b[0m\u001b[0;34m)\u001b[0m\u001b[0;34m\u001b[0m\u001b[0;34m\u001b[0m\u001b[0m\n\u001b[0m\u001b[1;32m     15\u001b[0m         \u001b[0mprint\u001b[0m\u001b[0;34m(\u001b[0m\u001b[0mtopics\u001b[0m\u001b[0;34m)\u001b[0m\u001b[0;34m\u001b[0m\u001b[0;34m\u001b[0m\u001b[0m\n\u001b[1;32m     16\u001b[0m         \u001b[0;32mbreak\u001b[0m\u001b[0;34m\u001b[0m\u001b[0;34m\u001b[0m\u001b[0m\n",
      "\u001b[0;32m~/.local/lib/python3.7/site-packages/bertopic/_bertopic.py\u001b[0m in \u001b[0;36mfit_transform\u001b[0;34m(self, documents, embeddings, y)\u001b[0m\n\u001b[1;32m    341\u001b[0m         \u001b[0;32mif\u001b[0m \u001b[0membeddings\u001b[0m \u001b[0;32mis\u001b[0m \u001b[0;32mNone\u001b[0m\u001b[0;34m:\u001b[0m\u001b[0;34m\u001b[0m\u001b[0;34m\u001b[0m\u001b[0m\n\u001b[1;32m    342\u001b[0m             self.embedding_model = select_backend(self.embedding_model,\n\u001b[0;32m--> 343\u001b[0;31m                                                   language=self.language)\n\u001b[0m\u001b[1;32m    344\u001b[0m             embeddings = self._extract_embeddings(documents.Document,\n\u001b[1;32m    345\u001b[0m                                                   \u001b[0mmethod\u001b[0m\u001b[0;34m=\u001b[0m\u001b[0;34m\"document\"\u001b[0m\u001b[0;34m,\u001b[0m\u001b[0;34m\u001b[0m\u001b[0;34m\u001b[0m\u001b[0m\n",
      "\u001b[0;32m~/.local/lib/python3.7/site-packages/bertopic/backend/_utils.py\u001b[0m in \u001b[0;36mselect_backend\u001b[0;34m(embedding_model, language)\u001b[0m\n\u001b[1;32m     78\u001b[0m             \u001b[0;32mfrom\u001b[0m \u001b[0;34m.\u001b[0m\u001b[0m_sentencetransformers\u001b[0m \u001b[0;32mimport\u001b[0m \u001b[0mSentenceTransformerBackend\u001b[0m\u001b[0;34m\u001b[0m\u001b[0;34m\u001b[0m\u001b[0m\n\u001b[1;32m     79\u001b[0m             \u001b[0;32mif\u001b[0m \u001b[0mlanguage\u001b[0m\u001b[0;34m.\u001b[0m\u001b[0mlower\u001b[0m\u001b[0;34m(\u001b[0m\u001b[0;34m)\u001b[0m \u001b[0;32min\u001b[0m \u001b[0;34m[\u001b[0m\u001b[0;34m\"English\"\u001b[0m\u001b[0;34m,\u001b[0m \u001b[0;34m\"english\"\u001b[0m\u001b[0;34m,\u001b[0m \u001b[0;34m\"en\"\u001b[0m\u001b[0;34m]\u001b[0m\u001b[0;34m:\u001b[0m\u001b[0;34m\u001b[0m\u001b[0;34m\u001b[0m\u001b[0m\n\u001b[0;32m---> 80\u001b[0;31m                 \u001b[0;32mreturn\u001b[0m \u001b[0mSentenceTransformerBackend\u001b[0m\u001b[0;34m(\u001b[0m\u001b[0;34m\"all-MiniLM-L6-v2\"\u001b[0m\u001b[0;34m)\u001b[0m\u001b[0;34m\u001b[0m\u001b[0;34m\u001b[0m\u001b[0m\n\u001b[0m\u001b[1;32m     81\u001b[0m             \u001b[0;32melif\u001b[0m \u001b[0mlanguage\u001b[0m\u001b[0;34m.\u001b[0m\u001b[0mlower\u001b[0m\u001b[0;34m(\u001b[0m\u001b[0;34m)\u001b[0m \u001b[0;32min\u001b[0m \u001b[0mlanguages\u001b[0m \u001b[0;32mor\u001b[0m \u001b[0mlanguage\u001b[0m \u001b[0;34m==\u001b[0m \u001b[0;34m\"multilingual\"\u001b[0m\u001b[0;34m:\u001b[0m\u001b[0;34m\u001b[0m\u001b[0;34m\u001b[0m\u001b[0m\n\u001b[1;32m     82\u001b[0m                 \u001b[0;32mreturn\u001b[0m \u001b[0mSentenceTransformerBackend\u001b[0m\u001b[0;34m(\u001b[0m\u001b[0;34m\"paraphrase-multilingual-MiniLM-L12-v2\"\u001b[0m\u001b[0;34m)\u001b[0m\u001b[0;34m\u001b[0m\u001b[0;34m\u001b[0m\u001b[0m\n",
      "\u001b[0;32m~/.local/lib/python3.7/site-packages/bertopic/backend/_sentencetransformers.py\u001b[0m in \u001b[0;36m__init__\u001b[0;34m(self, embedding_model)\u001b[0m\n\u001b[1;32m     41\u001b[0m             \u001b[0mself\u001b[0m\u001b[0;34m.\u001b[0m\u001b[0membedding_model\u001b[0m \u001b[0;34m=\u001b[0m \u001b[0membedding_model\u001b[0m\u001b[0;34m\u001b[0m\u001b[0;34m\u001b[0m\u001b[0m\n\u001b[1;32m     42\u001b[0m         \u001b[0;32melif\u001b[0m \u001b[0misinstance\u001b[0m\u001b[0;34m(\u001b[0m\u001b[0membedding_model\u001b[0m\u001b[0;34m,\u001b[0m \u001b[0mstr\u001b[0m\u001b[0;34m)\u001b[0m\u001b[0;34m:\u001b[0m\u001b[0;34m\u001b[0m\u001b[0;34m\u001b[0m\u001b[0m\n\u001b[0;32m---> 43\u001b[0;31m             \u001b[0mself\u001b[0m\u001b[0;34m.\u001b[0m\u001b[0membedding_model\u001b[0m \u001b[0;34m=\u001b[0m \u001b[0mSentenceTransformer\u001b[0m\u001b[0;34m(\u001b[0m\u001b[0membedding_model\u001b[0m\u001b[0;34m)\u001b[0m\u001b[0;34m\u001b[0m\u001b[0;34m\u001b[0m\u001b[0m\n\u001b[0m\u001b[1;32m     44\u001b[0m         \u001b[0;32melse\u001b[0m\u001b[0;34m:\u001b[0m\u001b[0;34m\u001b[0m\u001b[0;34m\u001b[0m\u001b[0m\n\u001b[1;32m     45\u001b[0m             raise ValueError(\"Please select a correct SentenceTransformers model: \\n\"\n",
      "\u001b[0;32m~/.local/lib/python3.7/site-packages/sentence_transformers/SentenceTransformer.py\u001b[0m in \u001b[0;36m__init__\u001b[0;34m(self, model_name_or_path, modules, device, cache_folder, use_auth_token)\u001b[0m\n\u001b[1;32m     93\u001b[0m \u001b[0;34m\u001b[0m\u001b[0m\n\u001b[1;32m     94\u001b[0m             \u001b[0;32mif\u001b[0m \u001b[0mos\u001b[0m\u001b[0;34m.\u001b[0m\u001b[0mpath\u001b[0m\u001b[0;34m.\u001b[0m\u001b[0mexists\u001b[0m\u001b[0;34m(\u001b[0m\u001b[0mos\u001b[0m\u001b[0;34m.\u001b[0m\u001b[0mpath\u001b[0m\u001b[0;34m.\u001b[0m\u001b[0mjoin\u001b[0m\u001b[0;34m(\u001b[0m\u001b[0mmodel_path\u001b[0m\u001b[0;34m,\u001b[0m \u001b[0;34m'modules.json'\u001b[0m\u001b[0;34m)\u001b[0m\u001b[0;34m)\u001b[0m\u001b[0;34m:\u001b[0m    \u001b[0;31m#Load as SentenceTransformer model\u001b[0m\u001b[0;34m\u001b[0m\u001b[0;34m\u001b[0m\u001b[0m\n\u001b[0;32m---> 95\u001b[0;31m                 \u001b[0mmodules\u001b[0m \u001b[0;34m=\u001b[0m \u001b[0mself\u001b[0m\u001b[0;34m.\u001b[0m\u001b[0m_load_sbert_model\u001b[0m\u001b[0;34m(\u001b[0m\u001b[0mmodel_path\u001b[0m\u001b[0;34m)\u001b[0m\u001b[0;34m\u001b[0m\u001b[0;34m\u001b[0m\u001b[0m\n\u001b[0m\u001b[1;32m     96\u001b[0m             \u001b[0;32melse\u001b[0m\u001b[0;34m:\u001b[0m   \u001b[0;31m#Load with AutoModel\u001b[0m\u001b[0;34m\u001b[0m\u001b[0;34m\u001b[0m\u001b[0m\n\u001b[1;32m     97\u001b[0m                 \u001b[0mmodules\u001b[0m \u001b[0;34m=\u001b[0m \u001b[0mself\u001b[0m\u001b[0;34m.\u001b[0m\u001b[0m_load_auto_model\u001b[0m\u001b[0;34m(\u001b[0m\u001b[0mmodel_path\u001b[0m\u001b[0;34m)\u001b[0m\u001b[0;34m\u001b[0m\u001b[0;34m\u001b[0m\u001b[0m\n",
      "\u001b[0;32m~/.local/lib/python3.7/site-packages/sentence_transformers/SentenceTransformer.py\u001b[0m in \u001b[0;36m_load_sbert_model\u001b[0;34m(self, model_path)\u001b[0m\n\u001b[1;32m    838\u001b[0m         \u001b[0;32mfor\u001b[0m \u001b[0mmodule_config\u001b[0m \u001b[0;32min\u001b[0m \u001b[0mmodules_config\u001b[0m\u001b[0;34m:\u001b[0m\u001b[0;34m\u001b[0m\u001b[0;34m\u001b[0m\u001b[0m\n\u001b[1;32m    839\u001b[0m             \u001b[0mmodule_class\u001b[0m \u001b[0;34m=\u001b[0m \u001b[0mimport_from_string\u001b[0m\u001b[0;34m(\u001b[0m\u001b[0mmodule_config\u001b[0m\u001b[0;34m[\u001b[0m\u001b[0;34m'type'\u001b[0m\u001b[0;34m]\u001b[0m\u001b[0;34m)\u001b[0m\u001b[0;34m\u001b[0m\u001b[0;34m\u001b[0m\u001b[0m\n\u001b[0;32m--> 840\u001b[0;31m             \u001b[0mmodule\u001b[0m \u001b[0;34m=\u001b[0m \u001b[0mmodule_class\u001b[0m\u001b[0;34m.\u001b[0m\u001b[0mload\u001b[0m\u001b[0;34m(\u001b[0m\u001b[0mos\u001b[0m\u001b[0;34m.\u001b[0m\u001b[0mpath\u001b[0m\u001b[0;34m.\u001b[0m\u001b[0mjoin\u001b[0m\u001b[0;34m(\u001b[0m\u001b[0mmodel_path\u001b[0m\u001b[0;34m,\u001b[0m \u001b[0mmodule_config\u001b[0m\u001b[0;34m[\u001b[0m\u001b[0;34m'path'\u001b[0m\u001b[0;34m]\u001b[0m\u001b[0;34m)\u001b[0m\u001b[0;34m)\u001b[0m\u001b[0;34m\u001b[0m\u001b[0;34m\u001b[0m\u001b[0m\n\u001b[0m\u001b[1;32m    841\u001b[0m             \u001b[0mmodules\u001b[0m\u001b[0;34m[\u001b[0m\u001b[0mmodule_config\u001b[0m\u001b[0;34m[\u001b[0m\u001b[0;34m'name'\u001b[0m\u001b[0;34m]\u001b[0m\u001b[0;34m]\u001b[0m \u001b[0;34m=\u001b[0m \u001b[0mmodule\u001b[0m\u001b[0;34m\u001b[0m\u001b[0;34m\u001b[0m\u001b[0m\n\u001b[1;32m    842\u001b[0m \u001b[0;34m\u001b[0m\u001b[0m\n",
      "\u001b[0;32m~/.local/lib/python3.7/site-packages/sentence_transformers/models/Transformer.py\u001b[0m in \u001b[0;36mload\u001b[0;34m(input_path)\u001b[0m\n\u001b[1;32m    135\u001b[0m         \u001b[0;32mwith\u001b[0m \u001b[0mopen\u001b[0m\u001b[0;34m(\u001b[0m\u001b[0msbert_config_path\u001b[0m\u001b[0;34m)\u001b[0m \u001b[0;32mas\u001b[0m \u001b[0mfIn\u001b[0m\u001b[0;34m:\u001b[0m\u001b[0;34m\u001b[0m\u001b[0;34m\u001b[0m\u001b[0m\n\u001b[1;32m    136\u001b[0m             \u001b[0mconfig\u001b[0m \u001b[0;34m=\u001b[0m \u001b[0mjson\u001b[0m\u001b[0;34m.\u001b[0m\u001b[0mload\u001b[0m\u001b[0;34m(\u001b[0m\u001b[0mfIn\u001b[0m\u001b[0;34m)\u001b[0m\u001b[0;34m\u001b[0m\u001b[0;34m\u001b[0m\u001b[0m\n\u001b[0;32m--> 137\u001b[0;31m         \u001b[0;32mreturn\u001b[0m \u001b[0mTransformer\u001b[0m\u001b[0;34m(\u001b[0m\u001b[0mmodel_name_or_path\u001b[0m\u001b[0;34m=\u001b[0m\u001b[0minput_path\u001b[0m\u001b[0;34m,\u001b[0m \u001b[0;34m**\u001b[0m\u001b[0mconfig\u001b[0m\u001b[0;34m)\u001b[0m\u001b[0;34m\u001b[0m\u001b[0;34m\u001b[0m\u001b[0m\n\u001b[0m\u001b[1;32m    138\u001b[0m \u001b[0;34m\u001b[0m\u001b[0m\n\u001b[1;32m    139\u001b[0m \u001b[0;34m\u001b[0m\u001b[0m\n",
      "\u001b[0;32m~/.local/lib/python3.7/site-packages/sentence_transformers/models/Transformer.py\u001b[0m in \u001b[0;36m__init__\u001b[0;34m(self, model_name_or_path, max_seq_length, model_args, cache_dir, tokenizer_args, do_lower_case, tokenizer_name_or_path)\u001b[0m\n\u001b[1;32m     27\u001b[0m \u001b[0;34m\u001b[0m\u001b[0m\n\u001b[1;32m     28\u001b[0m         \u001b[0mconfig\u001b[0m \u001b[0;34m=\u001b[0m \u001b[0mAutoConfig\u001b[0m\u001b[0;34m.\u001b[0m\u001b[0mfrom_pretrained\u001b[0m\u001b[0;34m(\u001b[0m\u001b[0mmodel_name_or_path\u001b[0m\u001b[0;34m,\u001b[0m \u001b[0;34m**\u001b[0m\u001b[0mmodel_args\u001b[0m\u001b[0;34m,\u001b[0m \u001b[0mcache_dir\u001b[0m\u001b[0;34m=\u001b[0m\u001b[0mcache_dir\u001b[0m\u001b[0;34m)\u001b[0m\u001b[0;34m\u001b[0m\u001b[0;34m\u001b[0m\u001b[0m\n\u001b[0;32m---> 29\u001b[0;31m         \u001b[0mself\u001b[0m\u001b[0;34m.\u001b[0m\u001b[0m_load_model\u001b[0m\u001b[0;34m(\u001b[0m\u001b[0mmodel_name_or_path\u001b[0m\u001b[0;34m,\u001b[0m \u001b[0mconfig\u001b[0m\u001b[0;34m,\u001b[0m \u001b[0mcache_dir\u001b[0m\u001b[0;34m)\u001b[0m\u001b[0;34m\u001b[0m\u001b[0;34m\u001b[0m\u001b[0m\n\u001b[0m\u001b[1;32m     30\u001b[0m \u001b[0;34m\u001b[0m\u001b[0m\n\u001b[1;32m     31\u001b[0m         \u001b[0mself\u001b[0m\u001b[0;34m.\u001b[0m\u001b[0mtokenizer\u001b[0m \u001b[0;34m=\u001b[0m \u001b[0mAutoTokenizer\u001b[0m\u001b[0;34m.\u001b[0m\u001b[0mfrom_pretrained\u001b[0m\u001b[0;34m(\u001b[0m\u001b[0mtokenizer_name_or_path\u001b[0m \u001b[0;32mif\u001b[0m \u001b[0mtokenizer_name_or_path\u001b[0m \u001b[0;32mis\u001b[0m \u001b[0;32mnot\u001b[0m \u001b[0;32mNone\u001b[0m \u001b[0;32melse\u001b[0m \u001b[0mmodel_name_or_path\u001b[0m\u001b[0;34m,\u001b[0m \u001b[0mcache_dir\u001b[0m\u001b[0;34m=\u001b[0m\u001b[0mcache_dir\u001b[0m\u001b[0;34m,\u001b[0m \u001b[0;34m**\u001b[0m\u001b[0mtokenizer_args\u001b[0m\u001b[0;34m)\u001b[0m\u001b[0;34m\u001b[0m\u001b[0;34m\u001b[0m\u001b[0m\n",
      "\u001b[0;32m~/.local/lib/python3.7/site-packages/sentence_transformers/models/Transformer.py\u001b[0m in \u001b[0;36m_load_model\u001b[0;34m(self, model_name_or_path, config, cache_dir)\u001b[0m\n\u001b[1;32m     47\u001b[0m             \u001b[0mself\u001b[0m\u001b[0;34m.\u001b[0m\u001b[0m_load_t5_model\u001b[0m\u001b[0;34m(\u001b[0m\u001b[0mmodel_name_or_path\u001b[0m\u001b[0;34m,\u001b[0m \u001b[0mconfig\u001b[0m\u001b[0;34m,\u001b[0m \u001b[0mcache_dir\u001b[0m\u001b[0;34m)\u001b[0m\u001b[0;34m\u001b[0m\u001b[0;34m\u001b[0m\u001b[0m\n\u001b[1;32m     48\u001b[0m         \u001b[0;32melse\u001b[0m\u001b[0;34m:\u001b[0m\u001b[0;34m\u001b[0m\u001b[0;34m\u001b[0m\u001b[0m\n\u001b[0;32m---> 49\u001b[0;31m             \u001b[0mself\u001b[0m\u001b[0;34m.\u001b[0m\u001b[0mauto_model\u001b[0m \u001b[0;34m=\u001b[0m \u001b[0mAutoModel\u001b[0m\u001b[0;34m.\u001b[0m\u001b[0mfrom_pretrained\u001b[0m\u001b[0;34m(\u001b[0m\u001b[0mmodel_name_or_path\u001b[0m\u001b[0;34m,\u001b[0m \u001b[0mconfig\u001b[0m\u001b[0;34m=\u001b[0m\u001b[0mconfig\u001b[0m\u001b[0;34m,\u001b[0m \u001b[0mcache_dir\u001b[0m\u001b[0;34m=\u001b[0m\u001b[0mcache_dir\u001b[0m\u001b[0;34m)\u001b[0m\u001b[0;34m\u001b[0m\u001b[0;34m\u001b[0m\u001b[0m\n\u001b[0m\u001b[1;32m     50\u001b[0m \u001b[0;34m\u001b[0m\u001b[0m\n\u001b[1;32m     51\u001b[0m     \u001b[0;32mdef\u001b[0m \u001b[0m_load_t5_model\u001b[0m\u001b[0;34m(\u001b[0m\u001b[0mself\u001b[0m\u001b[0;34m,\u001b[0m \u001b[0mmodel_name_or_path\u001b[0m\u001b[0;34m,\u001b[0m \u001b[0mconfig\u001b[0m\u001b[0;34m,\u001b[0m \u001b[0mcache_dir\u001b[0m\u001b[0;34m)\u001b[0m\u001b[0;34m:\u001b[0m\u001b[0;34m\u001b[0m\u001b[0;34m\u001b[0m\u001b[0m\n",
      "\u001b[0;32m~/.local/lib/python3.7/site-packages/transformers/models/auto/auto_factory.py\u001b[0m in \u001b[0;36mfrom_pretrained\u001b[0;34m(cls, pretrained_model_name_or_path, *model_args, **kwargs)\u001b[0m\n\u001b[1;32m    461\u001b[0m             )\n\u001b[1;32m    462\u001b[0m         \u001b[0;32melif\u001b[0m \u001b[0mtype\u001b[0m\u001b[0;34m(\u001b[0m\u001b[0mconfig\u001b[0m\u001b[0;34m)\u001b[0m \u001b[0;32min\u001b[0m \u001b[0mcls\u001b[0m\u001b[0;34m.\u001b[0m\u001b[0m_model_mapping\u001b[0m\u001b[0;34m.\u001b[0m\u001b[0mkeys\u001b[0m\u001b[0;34m(\u001b[0m\u001b[0;34m)\u001b[0m\u001b[0;34m:\u001b[0m\u001b[0;34m\u001b[0m\u001b[0;34m\u001b[0m\u001b[0m\n\u001b[0;32m--> 463\u001b[0;31m             \u001b[0mmodel_class\u001b[0m \u001b[0;34m=\u001b[0m \u001b[0m_get_model_class\u001b[0m\u001b[0;34m(\u001b[0m\u001b[0mconfig\u001b[0m\u001b[0;34m,\u001b[0m \u001b[0mcls\u001b[0m\u001b[0;34m.\u001b[0m\u001b[0m_model_mapping\u001b[0m\u001b[0;34m)\u001b[0m\u001b[0;34m\u001b[0m\u001b[0;34m\u001b[0m\u001b[0m\n\u001b[0m\u001b[1;32m    464\u001b[0m             return model_class.from_pretrained(\n\u001b[1;32m    465\u001b[0m                 \u001b[0mpretrained_model_name_or_path\u001b[0m\u001b[0;34m,\u001b[0m \u001b[0;34m*\u001b[0m\u001b[0mmodel_args\u001b[0m\u001b[0;34m,\u001b[0m \u001b[0mconfig\u001b[0m\u001b[0;34m=\u001b[0m\u001b[0mconfig\u001b[0m\u001b[0;34m,\u001b[0m \u001b[0;34m**\u001b[0m\u001b[0mhub_kwargs\u001b[0m\u001b[0;34m,\u001b[0m \u001b[0;34m**\u001b[0m\u001b[0mkwargs\u001b[0m\u001b[0;34m\u001b[0m\u001b[0;34m\u001b[0m\u001b[0m\n",
      "\u001b[0;32m~/.local/lib/python3.7/site-packages/transformers/models/auto/auto_factory.py\u001b[0m in \u001b[0;36m_get_model_class\u001b[0;34m(config, model_mapping)\u001b[0m\n\u001b[1;32m    357\u001b[0m \u001b[0;34m\u001b[0m\u001b[0m\n\u001b[1;32m    358\u001b[0m \u001b[0;32mdef\u001b[0m \u001b[0m_get_model_class\u001b[0m\u001b[0;34m(\u001b[0m\u001b[0mconfig\u001b[0m\u001b[0;34m,\u001b[0m \u001b[0mmodel_mapping\u001b[0m\u001b[0;34m)\u001b[0m\u001b[0;34m:\u001b[0m\u001b[0;34m\u001b[0m\u001b[0;34m\u001b[0m\u001b[0m\n\u001b[0;32m--> 359\u001b[0;31m     \u001b[0msupported_models\u001b[0m \u001b[0;34m=\u001b[0m \u001b[0mmodel_mapping\u001b[0m\u001b[0;34m[\u001b[0m\u001b[0mtype\u001b[0m\u001b[0;34m(\u001b[0m\u001b[0mconfig\u001b[0m\u001b[0;34m)\u001b[0m\u001b[0;34m]\u001b[0m\u001b[0;34m\u001b[0m\u001b[0;34m\u001b[0m\u001b[0m\n\u001b[0m\u001b[1;32m    360\u001b[0m     \u001b[0;32mif\u001b[0m \u001b[0;32mnot\u001b[0m \u001b[0misinstance\u001b[0m\u001b[0;34m(\u001b[0m\u001b[0msupported_models\u001b[0m\u001b[0;34m,\u001b[0m \u001b[0;34m(\u001b[0m\u001b[0mlist\u001b[0m\u001b[0;34m,\u001b[0m \u001b[0mtuple\u001b[0m\u001b[0;34m)\u001b[0m\u001b[0;34m)\u001b[0m\u001b[0;34m:\u001b[0m\u001b[0;34m\u001b[0m\u001b[0;34m\u001b[0m\u001b[0m\n\u001b[1;32m    361\u001b[0m         \u001b[0;32mreturn\u001b[0m \u001b[0msupported_models\u001b[0m\u001b[0;34m\u001b[0m\u001b[0;34m\u001b[0m\u001b[0m\n",
      "\u001b[0;32m~/.local/lib/python3.7/site-packages/transformers/models/auto/auto_factory.py\u001b[0m in \u001b[0;36m__getitem__\u001b[0;34m(self, key)\u001b[0m\n\u001b[1;32m    589\u001b[0m         \u001b[0;32mif\u001b[0m \u001b[0mmodel_type\u001b[0m \u001b[0;32min\u001b[0m \u001b[0mself\u001b[0m\u001b[0;34m.\u001b[0m\u001b[0m_model_mapping\u001b[0m\u001b[0;34m:\u001b[0m\u001b[0;34m\u001b[0m\u001b[0;34m\u001b[0m\u001b[0m\n\u001b[1;32m    590\u001b[0m             \u001b[0mmodel_name\u001b[0m \u001b[0;34m=\u001b[0m \u001b[0mself\u001b[0m\u001b[0;34m.\u001b[0m\u001b[0m_model_mapping\u001b[0m\u001b[0;34m[\u001b[0m\u001b[0mmodel_type\u001b[0m\u001b[0;34m]\u001b[0m\u001b[0;34m\u001b[0m\u001b[0;34m\u001b[0m\u001b[0m\n\u001b[0;32m--> 591\u001b[0;31m             \u001b[0;32mreturn\u001b[0m \u001b[0mself\u001b[0m\u001b[0;34m.\u001b[0m\u001b[0m_load_attr_from_module\u001b[0m\u001b[0;34m(\u001b[0m\u001b[0mmodel_type\u001b[0m\u001b[0;34m,\u001b[0m \u001b[0mmodel_name\u001b[0m\u001b[0;34m)\u001b[0m\u001b[0;34m\u001b[0m\u001b[0;34m\u001b[0m\u001b[0m\n\u001b[0m\u001b[1;32m    592\u001b[0m \u001b[0;34m\u001b[0m\u001b[0m\n\u001b[1;32m    593\u001b[0m         \u001b[0;31m# Maybe there was several model types associated with this config.\u001b[0m\u001b[0;34m\u001b[0m\u001b[0;34m\u001b[0m\u001b[0;34m\u001b[0m\u001b[0m\n",
      "\u001b[0;32m~/.local/lib/python3.7/site-packages/transformers/models/auto/auto_factory.py\u001b[0m in \u001b[0;36m_load_attr_from_module\u001b[0;34m(self, model_type, attr)\u001b[0m\n\u001b[1;32m    603\u001b[0m         \u001b[0;32mif\u001b[0m \u001b[0mmodule_name\u001b[0m \u001b[0;32mnot\u001b[0m \u001b[0;32min\u001b[0m \u001b[0mself\u001b[0m\u001b[0;34m.\u001b[0m\u001b[0m_modules\u001b[0m\u001b[0;34m:\u001b[0m\u001b[0;34m\u001b[0m\u001b[0;34m\u001b[0m\u001b[0m\n\u001b[1;32m    604\u001b[0m             \u001b[0mself\u001b[0m\u001b[0;34m.\u001b[0m\u001b[0m_modules\u001b[0m\u001b[0;34m[\u001b[0m\u001b[0mmodule_name\u001b[0m\u001b[0;34m]\u001b[0m \u001b[0;34m=\u001b[0m \u001b[0mimportlib\u001b[0m\u001b[0;34m.\u001b[0m\u001b[0mimport_module\u001b[0m\u001b[0;34m(\u001b[0m\u001b[0;34mf\".{module_name}\"\u001b[0m\u001b[0;34m,\u001b[0m \u001b[0;34m\"transformers.models\"\u001b[0m\u001b[0;34m)\u001b[0m\u001b[0;34m\u001b[0m\u001b[0;34m\u001b[0m\u001b[0m\n\u001b[0;32m--> 605\u001b[0;31m         \u001b[0;32mreturn\u001b[0m \u001b[0mgetattribute_from_module\u001b[0m\u001b[0;34m(\u001b[0m\u001b[0mself\u001b[0m\u001b[0;34m.\u001b[0m\u001b[0m_modules\u001b[0m\u001b[0;34m[\u001b[0m\u001b[0mmodule_name\u001b[0m\u001b[0;34m]\u001b[0m\u001b[0;34m,\u001b[0m \u001b[0mattr\u001b[0m\u001b[0;34m)\u001b[0m\u001b[0;34m\u001b[0m\u001b[0;34m\u001b[0m\u001b[0m\n\u001b[0m\u001b[1;32m    606\u001b[0m \u001b[0;34m\u001b[0m\u001b[0m\n\u001b[1;32m    607\u001b[0m     \u001b[0;32mdef\u001b[0m \u001b[0mkeys\u001b[0m\u001b[0;34m(\u001b[0m\u001b[0mself\u001b[0m\u001b[0;34m)\u001b[0m\u001b[0;34m:\u001b[0m\u001b[0;34m\u001b[0m\u001b[0;34m\u001b[0m\u001b[0m\n",
      "\u001b[0;32m~/.local/lib/python3.7/site-packages/transformers/models/auto/auto_factory.py\u001b[0m in \u001b[0;36mgetattribute_from_module\u001b[0;34m(module, attr)\u001b[0m\n\u001b[1;32m    552\u001b[0m     \u001b[0;32mif\u001b[0m \u001b[0misinstance\u001b[0m\u001b[0;34m(\u001b[0m\u001b[0mattr\u001b[0m\u001b[0;34m,\u001b[0m \u001b[0mtuple\u001b[0m\u001b[0;34m)\u001b[0m\u001b[0;34m:\u001b[0m\u001b[0;34m\u001b[0m\u001b[0;34m\u001b[0m\u001b[0m\n\u001b[1;32m    553\u001b[0m         \u001b[0;32mreturn\u001b[0m \u001b[0mtuple\u001b[0m\u001b[0;34m(\u001b[0m\u001b[0mgetattribute_from_module\u001b[0m\u001b[0;34m(\u001b[0m\u001b[0mmodule\u001b[0m\u001b[0;34m,\u001b[0m \u001b[0ma\u001b[0m\u001b[0;34m)\u001b[0m \u001b[0;32mfor\u001b[0m \u001b[0ma\u001b[0m \u001b[0;32min\u001b[0m \u001b[0mattr\u001b[0m\u001b[0;34m)\u001b[0m\u001b[0;34m\u001b[0m\u001b[0;34m\u001b[0m\u001b[0m\n\u001b[0;32m--> 554\u001b[0;31m     \u001b[0;32mif\u001b[0m \u001b[0mhasattr\u001b[0m\u001b[0;34m(\u001b[0m\u001b[0mmodule\u001b[0m\u001b[0;34m,\u001b[0m \u001b[0mattr\u001b[0m\u001b[0;34m)\u001b[0m\u001b[0;34m:\u001b[0m\u001b[0;34m\u001b[0m\u001b[0;34m\u001b[0m\u001b[0m\n\u001b[0m\u001b[1;32m    555\u001b[0m         \u001b[0;32mreturn\u001b[0m \u001b[0mgetattr\u001b[0m\u001b[0;34m(\u001b[0m\u001b[0mmodule\u001b[0m\u001b[0;34m,\u001b[0m \u001b[0mattr\u001b[0m\u001b[0;34m)\u001b[0m\u001b[0;34m\u001b[0m\u001b[0;34m\u001b[0m\u001b[0m\n\u001b[1;32m    556\u001b[0m     \u001b[0;31m# Some of the mappings have entries model_type -> object of another model type. In that case we try to grab the\u001b[0m\u001b[0;34m\u001b[0m\u001b[0;34m\u001b[0m\u001b[0;34m\u001b[0m\u001b[0m\n",
      "\u001b[0;32m~/.local/lib/python3.7/site-packages/transformers/utils/import_utils.py\u001b[0m in \u001b[0;36m__getattr__\u001b[0;34m(self, name)\u001b[0m\n\u001b[1;32m   1098\u001b[0m             \u001b[0mvalue\u001b[0m \u001b[0;34m=\u001b[0m \u001b[0mself\u001b[0m\u001b[0;34m.\u001b[0m\u001b[0m_get_module\u001b[0m\u001b[0;34m(\u001b[0m\u001b[0mname\u001b[0m\u001b[0;34m)\u001b[0m\u001b[0;34m\u001b[0m\u001b[0;34m\u001b[0m\u001b[0m\n\u001b[1;32m   1099\u001b[0m         \u001b[0;32melif\u001b[0m \u001b[0mname\u001b[0m \u001b[0;32min\u001b[0m \u001b[0mself\u001b[0m\u001b[0;34m.\u001b[0m\u001b[0m_class_to_module\u001b[0m\u001b[0;34m.\u001b[0m\u001b[0mkeys\u001b[0m\u001b[0;34m(\u001b[0m\u001b[0;34m)\u001b[0m\u001b[0;34m:\u001b[0m\u001b[0;34m\u001b[0m\u001b[0;34m\u001b[0m\u001b[0m\n\u001b[0;32m-> 1100\u001b[0;31m             \u001b[0mmodule\u001b[0m \u001b[0;34m=\u001b[0m \u001b[0mself\u001b[0m\u001b[0;34m.\u001b[0m\u001b[0m_get_module\u001b[0m\u001b[0;34m(\u001b[0m\u001b[0mself\u001b[0m\u001b[0;34m.\u001b[0m\u001b[0m_class_to_module\u001b[0m\u001b[0;34m[\u001b[0m\u001b[0mname\u001b[0m\u001b[0;34m]\u001b[0m\u001b[0;34m)\u001b[0m\u001b[0;34m\u001b[0m\u001b[0;34m\u001b[0m\u001b[0m\n\u001b[0m\u001b[1;32m   1101\u001b[0m             \u001b[0mvalue\u001b[0m \u001b[0;34m=\u001b[0m \u001b[0mgetattr\u001b[0m\u001b[0;34m(\u001b[0m\u001b[0mmodule\u001b[0m\u001b[0;34m,\u001b[0m \u001b[0mname\u001b[0m\u001b[0;34m)\u001b[0m\u001b[0;34m\u001b[0m\u001b[0;34m\u001b[0m\u001b[0m\n\u001b[1;32m   1102\u001b[0m         \u001b[0;32melse\u001b[0m\u001b[0;34m:\u001b[0m\u001b[0;34m\u001b[0m\u001b[0;34m\u001b[0m\u001b[0m\n",
      "\u001b[0;32m~/.local/lib/python3.7/site-packages/transformers/utils/import_utils.py\u001b[0m in \u001b[0;36m_get_module\u001b[0;34m(self, module_name)\u001b[0m\n\u001b[1;32m   1113\u001b[0m                 \u001b[0;34mf\"Failed to import {self.__name__}.{module_name} because of the following error (look up to see its\"\u001b[0m\u001b[0;34m\u001b[0m\u001b[0;34m\u001b[0m\u001b[0m\n\u001b[1;32m   1114\u001b[0m                 \u001b[0;34mf\" traceback):\\n{e}\"\u001b[0m\u001b[0;34m\u001b[0m\u001b[0;34m\u001b[0m\u001b[0m\n\u001b[0;32m-> 1115\u001b[0;31m             ) from e\n\u001b[0m\u001b[1;32m   1116\u001b[0m \u001b[0;34m\u001b[0m\u001b[0m\n\u001b[1;32m   1117\u001b[0m     \u001b[0;32mdef\u001b[0m \u001b[0m__reduce__\u001b[0m\u001b[0;34m(\u001b[0m\u001b[0mself\u001b[0m\u001b[0;34m)\u001b[0m\u001b[0;34m:\u001b[0m\u001b[0;34m\u001b[0m\u001b[0;34m\u001b[0m\u001b[0m\n",
      "\u001b[0;31mRuntimeError\u001b[0m: Failed to import transformers.models.bert.modeling_bert because of the following error (look up to see its traceback):\ncannot import name 'dispatch_model' from 'accelerate' (/home/adam/.local/lib/python3.7/site-packages/accelerate/__init__.py)"
     ]
    }
   ],
   "source": [
    "from bertopic import BERTopic\n",
    "from sklearn.datasets import fetch_20newsgroups\n",
    "col_name = 'name'\n",
    "for i in Counter(df[col_name]):\n",
    "        print(f'Now restaurant : {i}')\n",
    "        tmp = df[df[col_name]==i]\n",
    "        review = ''.join(tmp.text.to_list())\n",
    "#         print(review)\n",
    "        processed = preprocess(review)\n",
    "#         print(processed)\n",
    "#         tmp['processed'] = df.text.apply(lambda x: preprocess(x))\n",
    "#         print(tmp.processed.to_string())\n",
    "        topic_model = BERTopic(nr_topics=10)\n",
    "        topics, probs = topic_model.fit_transform(processed)\n",
    "        print(topics)\n",
    "        break"
   ]
  },
  {
   "cell_type": "code",
   "execution_count": 84,
   "id": "e1d2a11d",
   "metadata": {},
   "outputs": [
    {
     "name": "stdout",
     "output_type": "stream",
     "text": [
      "Python 3.7.5\r\n"
     ]
    }
   ],
   "source": []
  },
  {
   "cell_type": "code",
   "execution_count": null,
   "id": "f027c9ac",
   "metadata": {},
   "outputs": [],
   "source": [
    "\n",
    "# Create topics\n",
    "# docs = fetch_20newsgroups(subset='all',  remove=('headers', 'footers', 'quotes'))['data']\n",
    "topic_model = BERTopic(nr_topics=10)\n",
    "topics, probs = topic_model.fit_transform()\n"
   ]
  },
  {
   "cell_type": "markdown",
   "id": "39eaf65d",
   "metadata": {},
   "source": [
    "# Review-based Market Competitiveness Feature (MCF)\n",
    "* review - LDA rank "
   ]
  },
  {
   "cell_type": "markdown",
   "id": "779c574b",
   "metadata": {},
   "source": [
    "# Geographic Features (GeoF)\n",
    "* Density : the restaurant number in the same postal code\n",
    "* Neighbourhood Entropy : entropy measure of the frequency of restaurant categories\n",
    "* Competitiveness : the proportion of nearby restaurants with the same type of restaurant \n",
    "* Jensen Quality : Jensen Quality of each venue category as a feature value, rather than simply aggregating Jensen Quality values over all venue categories as a single feature value. "
   ]
  },
  {
   "cell_type": "code",
   "execution_count": null,
   "id": "5501f92b",
   "metadata": {},
   "outputs": [],
   "source": [
    "# calculate the density by Postal code\n"
   ]
  },
  {
   "cell_type": "code",
   "execution_count": null,
   "id": "7cb02281",
   "metadata": {},
   "outputs": [],
   "source": [
    "# Neighbourhood Entropy "
   ]
  }
 ],
 "metadata": {
  "kernelspec": {
   "display_name": "steph-env",
   "language": "python",
   "name": "steph-env"
  },
  "language_info": {
   "codemirror_mode": {
    "name": "ipython",
    "version": 3
   },
   "file_extension": ".py",
   "mimetype": "text/x-python",
   "name": "python",
   "nbconvert_exporter": "python",
   "pygments_lexer": "ipython3",
   "version": "3.7.5"
  },
  "toc": {
   "base_numbering": 1,
   "nav_menu": {},
   "number_sections": true,
   "sideBar": true,
   "skip_h1_title": false,
   "title_cell": "Table of Contents",
   "title_sidebar": "Contents",
   "toc_cell": false,
   "toc_position": {
    "height": "calc(100% - 180px)",
    "left": "10px",
    "top": "150px",
    "width": "384px"
   },
   "toc_section_display": true,
   "toc_window_display": true
  },
  "varInspector": {
   "cols": {
    "lenName": 16,
    "lenType": 16,
    "lenVar": 40
   },
   "kernels_config": {
    "python": {
     "delete_cmd_postfix": "",
     "delete_cmd_prefix": "del ",
     "library": "var_list.py",
     "varRefreshCmd": "print(var_dic_list())"
    },
    "r": {
     "delete_cmd_postfix": ") ",
     "delete_cmd_prefix": "rm(",
     "library": "var_list.r",
     "varRefreshCmd": "cat(var_dic_list()) "
    }
   },
   "types_to_exclude": [
    "module",
    "function",
    "builtin_function_or_method",
    "instance",
    "_Feature"
   ],
   "window_display": false
  }
 },
 "nbformat": 4,
 "nbformat_minor": 5
}
