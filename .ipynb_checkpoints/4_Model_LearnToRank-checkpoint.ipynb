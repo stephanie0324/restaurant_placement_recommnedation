{
 "cells": [
  {
   "cell_type": "markdown",
   "metadata": {},
   "source": [
    "# Learn to Rank"
   ]
  },
  {
   "cell_type": "markdown",
   "metadata": {},
   "source": [
    "## Import "
   ]
  },
  {
   "cell_type": "code",
   "execution_count": 156,
   "metadata": {
    "ExecuteTime": {
     "end_time": "2023-04-05T14:59:16.153837Z",
     "start_time": "2023-04-05T14:59:16.148722Z"
    }
   },
   "outputs": [],
   "source": [
    "import pandas as pd\n",
    "import json\n",
    "import numpy as np\n",
    "from collections import Counter\n",
    "import matplotlib.pyplot as plt\n",
    "import pickle\n",
    "import math "
   ]
  },
  {
   "cell_type": "code",
   "execution_count": 157,
   "metadata": {
    "ExecuteTime": {
     "end_time": "2023-04-05T14:59:16.633555Z",
     "start_time": "2023-04-05T14:59:16.591059Z"
    }
   },
   "outputs": [],
   "source": [
    "df = pd.read_pickle('/home/adam/Steph_C/my_thesis/data/FE_by_postoal_code_without_review.pkl')"
   ]
  },
  {
   "cell_type": "code",
   "execution_count": 158,
   "metadata": {
    "ExecuteTime": {
     "end_time": "2023-04-05T14:59:17.298383Z",
     "start_time": "2023-04-05T14:59:17.292573Z"
    }
   },
   "outputs": [
    {
     "data": {
      "text/plain": [
       "(1450, 24)"
      ]
     },
     "execution_count": 158,
     "metadata": {},
     "output_type": "execute_result"
    }
   ],
   "source": [
    "df.shape"
   ]
  },
  {
   "cell_type": "code",
   "execution_count": 159,
   "metadata": {
    "ExecuteTime": {
     "end_time": "2023-04-05T14:59:18.429230Z",
     "start_time": "2023-04-05T14:59:18.423994Z"
    }
   },
   "outputs": [
    {
     "data": {
      "text/plain": [
       "Index(['business_id', 'stars_x', 'useful', 'funny', 'cool', 'text', 'date',\n",
       "       'name', 'address', 'city', 'state', 'postal_code', 'stars_y',\n",
       "       'review_count', 'is_open', 'attributes', 'categories', 'hours',\n",
       "       'density', 'entropy', 'competitiveness', 'area_pop', 'accessibility',\n",
       "       'complementary'],\n",
       "      dtype='object')"
      ]
     },
     "execution_count": 159,
     "metadata": {},
     "output_type": "execute_result"
    }
   ],
   "source": [
    "df.columns"
   ]
  },
  {
   "cell_type": "code",
   "execution_count": null,
   "metadata": {},
   "outputs": [],
   "source": []
  },
  {
   "cell_type": "markdown",
   "metadata": {},
   "source": [
    "## DF Construction\n",
    "* add relevance"
   ]
  },
  {
   "cell_type": "code",
   "execution_count": 6,
   "metadata": {
    "ExecuteTime": {
     "end_time": "2023-04-04T09:42:26.965484Z",
     "start_time": "2023-04-04T09:42:26.963020Z"
    }
   },
   "outputs": [],
   "source": [
    "df = df.drop(columns=[ 'business_id', 'stars_x', 'useful', 'funny', 'cool', 'text',\n",
    "       'date','address','is_open', 'stars_y','attributes','hours'])"
   ]
  },
  {
   "cell_type": "code",
   "execution_count": 7,
   "metadata": {
    "ExecuteTime": {
     "end_time": "2023-04-04T09:42:26.971449Z",
     "start_time": "2023-04-04T09:42:26.966144Z"
    }
   },
   "outputs": [],
   "source": [
    "# sort by name and review count \n",
    "df = df.sort_values(['name', 'review_count'],\n",
    "              ascending = [True, False]).reset_index(drop=True)"
   ]
  },
  {
   "cell_type": "code",
   "execution_count": 8,
   "metadata": {
    "ExecuteTime": {
     "end_time": "2023-04-04T09:42:27.811905Z",
     "start_time": "2023-04-04T09:42:26.972148Z"
    }
   },
   "outputs": [
    {
     "name": "stderr",
     "output_type": "stream",
     "text": [
      "/home/adam/.local/lib/python3.7/site-packages/ipykernel_launcher.py:9: SettingWithCopyWarning: \n",
      "A value is trying to be set on a copy of a slice from a DataFrame\n",
      "\n",
      "See the caveats in the documentation: https://pandas.pydata.org/pandas-docs/stable/user_guide/indexing.html#returning-a-view-versus-a-copy\n",
      "  if __name__ == '__main__':\n"
     ]
    },
    {
     "name": "stdout",
     "output_type": "stream",
     "text": [
      "Relevance score added\n"
     ]
    }
   ],
   "source": [
    "# create relevance score\n",
    "cnt = 0\n",
    "new_df = pd.DataFrame()\n",
    "for i in Counter(df.name):\n",
    "    tmp = df[df.name==i].reset_index(drop=True)\n",
    "    tmp['relevance']=''\n",
    "    score = 6\n",
    "    for j in range(len(tmp)):\n",
    "        tmp['relevance'][j]=score\n",
    "        score -=1\n",
    "    new_df = pd.concat([new_df,tmp])\n",
    "\n",
    "# check the shape\n",
    "if new_df.shape[0] != df.shape[0]:\n",
    "    print(f'There is a mistake creating the relevance score')\n",
    "else:\n",
    "    print(f'Relevance score added')"
   ]
  },
  {
   "cell_type": "code",
   "execution_count": 9,
   "metadata": {
    "ExecuteTime": {
     "end_time": "2023-04-04T09:42:27.815070Z",
     "start_time": "2023-04-04T09:42:27.813253Z"
    }
   },
   "outputs": [],
   "source": [
    "# # breakdown affinity & complementary\n",
    "# from operator import itemgetter\n",
    "# indices = range(len(df['affinity'][0]))\n",
    "# a_df = df['affinity'].transform({f'affinity_{i+1}': itemgetter(i) for i in indices})\n",
    "\n",
    "# indices = range(len(df['complementary'][0]))\n",
    "# c_df = df['complementary'].transform({f'complementary_{i+1}': itemgetter(i) for i in indices})"
   ]
  },
  {
   "cell_type": "code",
   "execution_count": 10,
   "metadata": {
    "ExecuteTime": {
     "end_time": "2023-04-04T09:42:27.822032Z",
     "start_time": "2023-04-04T09:42:27.815851Z"
    }
   },
   "outputs": [],
   "source": [
    "# new_df = new_df.join(a_df)\n",
    "# new_df = new_df.join(c_df)"
   ]
  },
  {
   "cell_type": "markdown",
   "metadata": {},
   "source": [
    "## Create Dataset"
   ]
  },
  {
   "cell_type": "code",
   "execution_count": 11,
   "metadata": {
    "ExecuteTime": {
     "end_time": "2023-04-04T09:42:27.827516Z",
     "start_time": "2023-04-04T09:42:27.822722Z"
    }
   },
   "outputs": [
    {
     "data": {
      "text/plain": [
       "Index(['name', 'city', 'state', 'postal_code', 'review_count', 'categories',\n",
       "       'density', 'entropy', 'competitiveness', 'relevance'],\n",
       "      dtype='object')"
      ]
     },
     "execution_count": 11,
     "metadata": {},
     "output_type": "execute_result"
    }
   ],
   "source": [
    "new_df.columns"
   ]
  },
  {
   "cell_type": "code",
   "execution_count": 12,
   "metadata": {
    "ExecuteTime": {
     "end_time": "2023-04-04T09:42:28.565900Z",
     "start_time": "2023-04-04T09:42:27.828174Z"
    }
   },
   "outputs": [
    {
     "name": "stdout",
     "output_type": "stream",
     "text": [
      "Perfect split\n"
     ]
    }
   ],
   "source": [
    "# split train test \n",
    "# 拿每一個餐廳最後一家分店當作 testting set (因為大部分只有兩家分店)\n",
    "\n",
    "cnt = 0\n",
    "train_df = pd.DataFrame()\n",
    "test_df = pd.DataFrame()\n",
    "for i in Counter(df.name):\n",
    "    tmp = new_df[new_df.name==i]\n",
    "    train_df = pd.concat([train_df ,tmp.iloc[:-1,:]])\n",
    "    test_df = pd.concat([test_df ,tmp.iloc[-1:,:]])\n",
    "    \n",
    "# check if add = original shape\n",
    "if train_df.shape[0] + test_df.shape[0] != new_df.shape[0]:\n",
    "    print(f'There is something wrong with the splitting !!! ')\n",
    "elif len(Counter(train_df.name)) != len(Counter(test_df.name)):\n",
    "    print(f'The number of the restaurants is wrong !!!')\n",
    "else:\n",
    "    print(f'Perfect split')"
   ]
  },
  {
   "cell_type": "code",
   "execution_count": 13,
   "metadata": {
    "ExecuteTime": {
     "end_time": "2023-04-04T09:42:28.877412Z",
     "start_time": "2023-04-04T09:42:28.566697Z"
    }
   },
   "outputs": [
    {
     "data": {
      "text/html": [
       "<div>\n",
       "<style scoped>\n",
       "    .dataframe tbody tr th:only-of-type {\n",
       "        vertical-align: middle;\n",
       "    }\n",
       "\n",
       "    .dataframe tbody tr th {\n",
       "        vertical-align: top;\n",
       "    }\n",
       "\n",
       "    .dataframe thead th {\n",
       "        text-align: right;\n",
       "    }\n",
       "</style>\n",
       "<table border=\"1\" class=\"dataframe\">\n",
       "  <thead>\n",
       "    <tr style=\"text-align: right;\">\n",
       "      <th></th>\n",
       "      <th>postal_code</th>\n",
       "      <th>density</th>\n",
       "      <th>entropy</th>\n",
       "      <th>competitiveness</th>\n",
       "    </tr>\n",
       "  </thead>\n",
       "  <tbody>\n",
       "    <tr>\n",
       "      <th>0</th>\n",
       "      <td>46225</td>\n",
       "      <td>6.0</td>\n",
       "      <td>1.791759</td>\n",
       "      <td>-0.166667</td>\n",
       "    </tr>\n",
       "    <tr>\n",
       "      <th>1</th>\n",
       "      <td>46037</td>\n",
       "      <td>6.0</td>\n",
       "      <td>1.791759</td>\n",
       "      <td>-0.166667</td>\n",
       "    </tr>\n",
       "    <tr>\n",
       "      <th>2</th>\n",
       "      <td>33618</td>\n",
       "      <td>13.0</td>\n",
       "      <td>2.564949</td>\n",
       "      <td>-0.076923</td>\n",
       "    </tr>\n",
       "    <tr>\n",
       "      <th>3</th>\n",
       "      <td>33609</td>\n",
       "      <td>11.0</td>\n",
       "      <td>2.397895</td>\n",
       "      <td>-0.090909</td>\n",
       "    </tr>\n",
       "    <tr>\n",
       "      <th>4</th>\n",
       "      <td>63126</td>\n",
       "      <td>3.0</td>\n",
       "      <td>1.098612</td>\n",
       "      <td>-0.333333</td>\n",
       "    </tr>\n",
       "    <tr>\n",
       "      <th>...</th>\n",
       "      <td>...</td>\n",
       "      <td>...</td>\n",
       "      <td>...</td>\n",
       "      <td>...</td>\n",
       "    </tr>\n",
       "    <tr>\n",
       "      <th>334</th>\n",
       "      <td>18969</td>\n",
       "      <td>1.0</td>\n",
       "      <td>-0.000000</td>\n",
       "      <td>-1.000000</td>\n",
       "    </tr>\n",
       "    <tr>\n",
       "      <th>335</th>\n",
       "      <td>46235</td>\n",
       "      <td>1.0</td>\n",
       "      <td>-0.000000</td>\n",
       "      <td>-1.000000</td>\n",
       "    </tr>\n",
       "    <tr>\n",
       "      <th>336</th>\n",
       "      <td>08055</td>\n",
       "      <td>1.0</td>\n",
       "      <td>-0.000000</td>\n",
       "      <td>-1.000000</td>\n",
       "    </tr>\n",
       "    <tr>\n",
       "      <th>337</th>\n",
       "      <td>18915</td>\n",
       "      <td>1.0</td>\n",
       "      <td>-0.000000</td>\n",
       "      <td>-1.000000</td>\n",
       "    </tr>\n",
       "    <tr>\n",
       "      <th>338</th>\n",
       "      <td>70037</td>\n",
       "      <td>1.0</td>\n",
       "      <td>-0.000000</td>\n",
       "      <td>-1.000000</td>\n",
       "    </tr>\n",
       "  </tbody>\n",
       "</table>\n",
       "<p>339 rows × 4 columns</p>\n",
       "</div>"
      ],
      "text/plain": [
       "    postal_code  density   entropy  competitiveness\n",
       "0         46225      6.0  1.791759        -0.166667\n",
       "1         46037      6.0  1.791759        -0.166667\n",
       "2         33618     13.0  2.564949        -0.076923\n",
       "3         33609     11.0  2.397895        -0.090909\n",
       "4         63126      3.0  1.098612        -0.333333\n",
       "..          ...      ...       ...              ...\n",
       "334       18969      1.0 -0.000000        -1.000000\n",
       "335       46235      1.0 -0.000000        -1.000000\n",
       "336       08055      1.0 -0.000000        -1.000000\n",
       "337       18915      1.0 -0.000000        -1.000000\n",
       "338       70037      1.0 -0.000000        -1.000000\n",
       "\n",
       "[339 rows x 4 columns]"
      ]
     },
     "execution_count": 13,
     "metadata": {},
     "output_type": "execute_result"
    }
   ],
   "source": [
    "# postal code and feature dict\n",
    "postal_code_feature_dict = {}\n",
    "\n",
    "for postal in Counter(df.postal_code):\n",
    "    postal_code_feature_dict[postal]={}\n",
    "    postal_code_feature_dict[postal]['density'] = df.loc[df['postal_code']==postal]['density'].iloc[0]\n",
    "    postal_code_feature_dict[postal]['entropy'] = df.loc[df['postal_code']==postal]['entropy'].iloc[0]\n",
    "    postal_code_feature_dict[postal]['competitiveness'] = df.loc[df['postal_code']==postal]['competitiveness'].iloc[0]\n",
    "\n",
    "pd.DataFrame(postal_code_feature_dict).T.reset_index().rename(columns={'index': 'postal_code'})"
   ]
  },
  {
   "cell_type": "code",
   "execution_count": 14,
   "metadata": {
    "ExecuteTime": {
     "end_time": "2023-04-04T09:42:35.937578Z",
     "start_time": "2023-04-04T09:42:28.878243Z"
    }
   },
   "outputs": [],
   "source": [
    "# reconstruct testing set\n",
    "\n",
    "new_test = pd.DataFrame()\n",
    "\n",
    "for i in Counter(df.name):\n",
    "#     print(i)\n",
    "    subset = pd.DataFrame(postal_code_feature_dict).T.reset_index().rename(columns={'index': 'postal_code'})\n",
    "    subset['relevance']=0\n",
    "    subset = subset[~subset['postal_code'].isin(train_df[train_df.name==i].postal_code)]\n",
    "#     print(f'After deleting train : {subset.shape}')\n",
    "    subset = subset[~subset['postal_code'].isin(test_df[test_df.name==i].postal_code)]\n",
    "#     print(f'After deleting test : {subset.shape}')\n",
    "    subset['name']=i\n",
    "    subset = pd.concat([subset , test_df[test_df.name==i][['name','postal_code','density', 'entropy', 'competitiveness','relevance']]])\n",
    "#     print(f'After adding test : {subset.shape}')\n",
    "    \n",
    "    # check if the test is constructed properly\n",
    "    if len(subset) + len(Counter(train_df[train_df.name==i].postal_code)) != len(Counter(df.postal_code)):\n",
    "        print(f'{i} has some problem constructing the testing dataset')\n",
    "        print(subset.shape , Counter(df[df.name==i].postal_code))\n",
    "        break\n",
    "     \n",
    "    \n",
    "    new_test = pd.concat([new_test , subset])\n",
    "    "
   ]
  },
  {
   "cell_type": "code",
   "execution_count": 15,
   "metadata": {
    "ExecuteTime": {
     "end_time": "2023-04-04T09:42:35.963562Z",
     "start_time": "2023-04-04T09:42:35.938482Z"
    }
   },
   "outputs": [],
   "source": [
    "for i in ['density', 'entropy', 'competitiveness','relevance']:\n",
    "    train_df[i] = train_df[i].astype('float')\n",
    "    new_test[i] = new_test[i].astype('float')"
   ]
  },
  {
   "cell_type": "markdown",
   "metadata": {},
   "source": [
    "## Model"
   ]
  },
  {
   "cell_type": "code",
   "execution_count": 16,
   "metadata": {
    "ExecuteTime": {
     "end_time": "2023-04-04T09:42:36.131998Z",
     "start_time": "2023-04-04T09:42:35.964461Z"
    }
   },
   "outputs": [],
   "source": [
    "from lightgbm import LGBMRanker\n",
    "train_features = ['density', 'entropy', 'competitiveness']\n",
    "model = LGBMRanker(objective=\"lambdarank\")"
   ]
  },
  {
   "cell_type": "code",
   "execution_count": 17,
   "metadata": {
    "ExecuteTime": {
     "end_time": "2023-04-04T09:42:36.160584Z",
     "start_time": "2023-04-04T09:42:36.132902Z"
    }
   },
   "outputs": [
    {
     "name": "stdout",
     "output_type": "stream",
     "text": [
      "884 190990\n"
     ]
    }
   ],
   "source": [
    "get_group_size = lambda df: df.reset_index().groupby(\"name\")['name'].count()\n",
    "\n",
    "train_groups = get_group_size(train_df).to_numpy()\n",
    "test_groups = get_group_size(new_test).to_numpy()\n",
    "\n",
    "print(sum(train_groups) , sum(test_groups))"
   ]
  },
  {
   "cell_type": "markdown",
   "metadata": {},
   "source": [
    "### Training"
   ]
  },
  {
   "cell_type": "code",
   "execution_count": 18,
   "metadata": {
    "ExecuteTime": {
     "end_time": "2023-04-04T09:42:36.175527Z",
     "start_time": "2023-04-04T09:42:36.161584Z"
    }
   },
   "outputs": [
    {
     "name": "stdout",
     "output_type": "stream",
     "text": [
      "566 566\n"
     ]
    }
   ],
   "source": [
    "print(len(Counter(train_df.name)) , len(Counter(new_test.name)))"
   ]
  },
  {
   "cell_type": "code",
   "execution_count": 19,
   "metadata": {
    "ExecuteTime": {
     "end_time": "2023-04-04T09:42:36.186423Z",
     "start_time": "2023-04-04T09:42:36.176451Z"
    }
   },
   "outputs": [
    {
     "name": "stdout",
     "output_type": "stream",
     "text": [
      "(884, 3) (190990, 3)\n"
     ]
    }
   ],
   "source": [
    "print(train_df[train_features].shape ,new_test[train_features].shape )"
   ]
  },
  {
   "cell_type": "code",
   "execution_count": 20,
   "metadata": {
    "ExecuteTime": {
     "end_time": "2023-04-04T09:42:36.189261Z",
     "start_time": "2023-04-04T09:42:36.187277Z"
    }
   },
   "outputs": [],
   "source": [
    "# the original version \n",
    "# model.fit(\n",
    "#     train_df[train_features],\n",
    "#     train_df[['relevance']],\n",
    "#     group=train_groups,\n",
    "#     eval_set=[(new_test[train_features],new_test[['relevance']])],\n",
    "#     eval_group=[test_groups],\n",
    "#     eval_at=6,\n",
    "#     eval_metric=['ndcg'])\n",
    "\n",
    "######### SCORE ############\n",
    "# valid_0's ndcg@6: 0.0315787\n",
    "# valid_0's ndcg@6: 0.0315787\n",
    "# valid_0's ndcg@6: 0.0315787"
   ]
  },
  {
   "cell_type": "code",
   "execution_count": 21,
   "metadata": {
    "ExecuteTime": {
     "end_time": "2023-04-04T09:42:36.243252Z",
     "start_time": "2023-04-04T09:42:36.190132Z"
    }
   },
   "outputs": [
    {
     "data": {
      "text/plain": [
       "LGBMRanker(objective='lambdarank')"
      ]
     },
     "execution_count": 21,
     "metadata": {},
     "output_type": "execute_result"
    }
   ],
   "source": [
    "model.fit(train_df[train_features], train_df[['relevance']], group=train_groups)"
   ]
  },
  {
   "cell_type": "markdown",
   "metadata": {},
   "source": [
    "### Testing"
   ]
  },
  {
   "cell_type": "code",
   "execution_count": 22,
   "metadata": {
    "ExecuteTime": {
     "end_time": "2023-04-04T09:42:36.299470Z",
     "start_time": "2023-04-04T09:42:36.244179Z"
    }
   },
   "outputs": [],
   "source": [
    "predict = model.predict(new_test[train_features])\n",
    "new_test['predictions'] = predict"
   ]
  },
  {
   "cell_type": "code",
   "execution_count": 23,
   "metadata": {
    "ExecuteTime": {
     "end_time": "2023-04-04T09:42:36.303347Z",
     "start_time": "2023-04-04T09:42:36.300531Z"
    }
   },
   "outputs": [
    {
     "data": {
      "text/plain": [
       "190990"
      ]
     },
     "execution_count": 23,
     "metadata": {},
     "output_type": "execute_result"
    }
   ],
   "source": [
    "len(predict)"
   ]
  },
  {
   "cell_type": "code",
   "execution_count": 24,
   "metadata": {
    "ExecuteTime": {
     "end_time": "2023-04-04T09:42:36.311903Z",
     "start_time": "2023-04-04T09:42:36.304394Z"
    }
   },
   "outputs": [
    {
     "data": {
      "text/html": [
       "<div>\n",
       "<style scoped>\n",
       "    .dataframe tbody tr th:only-of-type {\n",
       "        vertical-align: middle;\n",
       "    }\n",
       "\n",
       "    .dataframe tbody tr th {\n",
       "        vertical-align: top;\n",
       "    }\n",
       "\n",
       "    .dataframe thead th {\n",
       "        text-align: right;\n",
       "    }\n",
       "</style>\n",
       "<table border=\"1\" class=\"dataframe\">\n",
       "  <thead>\n",
       "    <tr style=\"text-align: right;\">\n",
       "      <th></th>\n",
       "      <th>postal_code</th>\n",
       "      <th>density</th>\n",
       "      <th>entropy</th>\n",
       "      <th>competitiveness</th>\n",
       "      <th>relevance</th>\n",
       "      <th>name</th>\n",
       "      <th>predictions</th>\n",
       "    </tr>\n",
       "  </thead>\n",
       "  <tbody>\n",
       "    <tr>\n",
       "      <th>2</th>\n",
       "      <td>33618</td>\n",
       "      <td>13.0</td>\n",
       "      <td>2.564949</td>\n",
       "      <td>-0.076923</td>\n",
       "      <td>0.0</td>\n",
       "      <td>1933 Lounge</td>\n",
       "      <td>-0.287881</td>\n",
       "    </tr>\n",
       "    <tr>\n",
       "      <th>3</th>\n",
       "      <td>33609</td>\n",
       "      <td>11.0</td>\n",
       "      <td>2.397895</td>\n",
       "      <td>-0.090909</td>\n",
       "      <td>0.0</td>\n",
       "      <td>1933 Lounge</td>\n",
       "      <td>0.085094</td>\n",
       "    </tr>\n",
       "    <tr>\n",
       "      <th>4</th>\n",
       "      <td>63126</td>\n",
       "      <td>3.0</td>\n",
       "      <td>1.098612</td>\n",
       "      <td>-0.333333</td>\n",
       "      <td>0.0</td>\n",
       "      <td>1933 Lounge</td>\n",
       "      <td>-0.957807</td>\n",
       "    </tr>\n",
       "    <tr>\n",
       "      <th>5</th>\n",
       "      <td>62269</td>\n",
       "      <td>4.0</td>\n",
       "      <td>1.386294</td>\n",
       "      <td>-0.250000</td>\n",
       "      <td>0.0</td>\n",
       "      <td>1933 Lounge</td>\n",
       "      <td>-0.187775</td>\n",
       "    </tr>\n",
       "    <tr>\n",
       "      <th>6</th>\n",
       "      <td>37064</td>\n",
       "      <td>11.0</td>\n",
       "      <td>2.397895</td>\n",
       "      <td>-0.090909</td>\n",
       "      <td>0.0</td>\n",
       "      <td>1933 Lounge</td>\n",
       "      <td>0.085094</td>\n",
       "    </tr>\n",
       "  </tbody>\n",
       "</table>\n",
       "</div>"
      ],
      "text/plain": [
       "  postal_code  density   entropy  competitiveness  relevance         name  \\\n",
       "2       33618     13.0  2.564949        -0.076923        0.0  1933 Lounge   \n",
       "3       33609     11.0  2.397895        -0.090909        0.0  1933 Lounge   \n",
       "4       63126      3.0  1.098612        -0.333333        0.0  1933 Lounge   \n",
       "5       62269      4.0  1.386294        -0.250000        0.0  1933 Lounge   \n",
       "6       37064     11.0  2.397895        -0.090909        0.0  1933 Lounge   \n",
       "\n",
       "   predictions  \n",
       "2    -0.287881  \n",
       "3     0.085094  \n",
       "4    -0.957807  \n",
       "5    -0.187775  \n",
       "6     0.085094  "
      ]
     },
     "execution_count": 24,
     "metadata": {},
     "output_type": "execute_result"
    }
   ],
   "source": [
    "new_test.head()"
   ]
  },
  {
   "cell_type": "markdown",
   "metadata": {},
   "source": [
    "### Evaluation "
   ]
  },
  {
   "cell_type": "code",
   "execution_count": 142,
   "metadata": {
    "ExecuteTime": {
     "end_time": "2023-04-04T13:21:28.684402Z",
     "start_time": "2023-04-04T13:21:28.681060Z"
    }
   },
   "outputs": [],
   "source": [
    "# create list of list for query ranking\n",
    "def get_ranking(df , top = None):\n",
    "    \n",
    "    \"\"\"\n",
    "    Turn the probability array into a list of lists for calculation.\n",
    "    \n",
    "    Parameters:\n",
    "    df(DataFrame): the test dataframe\n",
    "    \n",
    "    Returns:\n",
    "    prediction (list of lists): A list of predicted rankings for each query.\n",
    "    actual (list of lists): A list of actual rankings for each query.\n",
    "    \"\"\"\n",
    " \n",
    "    pred_list = []\n",
    "    pred_rel = []\n",
    "    true_list = []\n",
    "    \n",
    "    \n",
    "    for res in Counter(df.name):\n",
    "        \n",
    "        tmp = df[df.name == res]\n",
    "        a_sorted = tmp.sort_values(by=['relevance'])\n",
    "        p_sorted = tmp.sort_values(by=['predictions'])\n",
    "#         p_sorted = p_sorted[p_sorted.predictions>0]\n",
    "        if top != None:\n",
    "            p_sorted = p_sorted[:top]\n",
    "\n",
    "        true_list.append(list(a_sorted[a_sorted.relevance!=0].postal_code))\n",
    "        pred_list.append(list(p_sorted.postal_code))\n",
    "        pred_rel.append(list(p_sorted.relevance))\n",
    "        \n",
    "        \n",
    "        \n",
    "    return pred_list, pred_rel , true_list"
   ]
  },
  {
   "cell_type": "code",
   "execution_count": 143,
   "metadata": {
    "ExecuteTime": {
     "end_time": "2023-04-04T13:21:44.392569Z",
     "start_time": "2023-04-04T13:21:40.232381Z"
    }
   },
   "outputs": [],
   "source": [
    "pred_list, pred_rel , true_list = get_ranking(new_test , top=20)"
   ]
  },
  {
   "cell_type": "code",
   "execution_count": 144,
   "metadata": {
    "ExecuteTime": {
     "end_time": "2023-04-04T13:21:49.003373Z",
     "start_time": "2023-04-04T13:21:49.000104Z"
    }
   },
   "outputs": [],
   "source": [
    "def _precision(predictions , actuals, k =3):\n",
    "    \n",
    "    \"\"\"\n",
    "    Calculate the precision at 3\n",
    "    \n",
    "    Returns: a list of precisions\n",
    "    \"\"\"\n",
    "    \n",
    "    precisions =[]\n",
    "    for i in range(len(predictions)):\n",
    "        score = 0\n",
    "        for j in range(k):\n",
    "            if predictions[i][j] in actuals[i]:\n",
    "                score+=1\n",
    "        precisions.append(score/k)\n",
    "            \n",
    "    return precisions\n",
    "    \n",
    "\n",
    "def _recall(predictions , actuals, k = 3):\n",
    "    \n",
    "    \"\"\"\n",
    "    Calculate the precision at 3\n",
    "    \n",
    "    Returns: a list of recalls\n",
    "    \"\"\"\n",
    "    \n",
    "    recalls =[]\n",
    "    for i in range(len(actuals)):\n",
    "        score = 0\n",
    "        for j in actuals[i]:\n",
    "            if j in predictions[i]:\n",
    "                score+=1\n",
    "        recalls.append(score/k)\n",
    "    \n",
    "    return recalls\n",
    "    "
   ]
  },
  {
   "cell_type": "code",
   "execution_count": 149,
   "metadata": {
    "ExecuteTime": {
     "end_time": "2023-04-04T13:22:12.659700Z",
     "start_time": "2023-04-04T13:22:12.656722Z"
    }
   },
   "outputs": [],
   "source": [
    "def calculate_mrr(predictions, actuals):\n",
    "    \"\"\"\n",
    "    Calculate the mean reciprocal rank (MRR) for a set of predictions and actual values.\n",
    "    \n",
    "    Parameters:\n",
    "    predictions (list of lists): A list of predicted rankings sorted by probability.\n",
    "    actual (list of lists): A list of actual rankings sorted by relevance.\n",
    "    \n",
    "    Returns:    \n",
    "    float: A list of MRR scores.\n",
    "    \"\"\"\n",
    "    reciprocal_ranks = []\n",
    "    for i in range(len(predictions)):\n",
    "        reciprocal_rank = 0\n",
    "        for j in actuals[i]:\n",
    "            if j in predictions[i]:\n",
    "                rank = predictions[i].index(j) + 1\n",
    "                reciprocal_rank += 1.0 / rank\n",
    "        reciprocal_ranks.append(reciprocal_rank/len(actuals[i]))\n",
    "    return sum(reciprocal_ranks) / len(reciprocal_ranks)\n"
   ]
  },
  {
   "cell_type": "code",
   "execution_count": 150,
   "metadata": {
    "ExecuteTime": {
     "end_time": "2023-04-04T13:22:13.424781Z",
     "start_time": "2023-04-04T13:22:13.421559Z"
    }
   },
   "outputs": [],
   "source": [
    "def calculate_ap(actual, prediction, k=None):\n",
    "    \"\"\"\n",
    "    Calculate the average precision (AP) for a single query.\n",
    "\n",
    "    Parameters:\n",
    "    actual (set or list): A set or list of the actual relevant items.\n",
    "    predicted (list): A list of predicted items.\n",
    "    k (int): The maximum number of predicted items to consider.\n",
    "\n",
    "    Returns:\n",
    "    float: The AP score.\n",
    "    \"\"\"\n",
    "    if k is not None:\n",
    "        prediction = prediction[:k]\n",
    "\n",
    "    score = 0.0\n",
    "    num_hits = 0.0\n",
    "\n",
    "    for i, p in enumerate(prediction):\n",
    "        if p in actual and p not in prediction[:i]:\n",
    "            num_hits += 1.0\n",
    "            score += num_hits / (i + 1.0)\n",
    "\n",
    "    if not actual:\n",
    "        return 0.0\n",
    "\n",
    "    return score / min(len(actual), len(prediction))\n",
    "\n",
    "\n",
    "def calculate_map( predictions , actuals, k=None):\n",
    "    \"\"\"\n",
    "    Calculate the mean average precision (MAP) for a set of queries.\n",
    "\n",
    "    Parameters:\n",
    "    actual (list of sets or lists): A list of sets or lists of the actual relevant items for each query.\n",
    "    predicted (list of lists): A list of lists of predicted items for each query.\n",
    "    k (int): The maximum number of predicted items to consider for each query.\n",
    "\n",
    "    Returns:\n",
    "    float: A list of MAP scores.\n",
    "    \"\"\"\n",
    "    return [calculate_ap(a, p, k) for a, p in zip(actuals, predictions)]\n"
   ]
  },
  {
   "cell_type": "code",
   "execution_count": 151,
   "metadata": {
    "ExecuteTime": {
     "end_time": "2023-04-04T13:22:13.783299Z",
     "start_time": "2023-04-04T13:22:13.779809Z"
    }
   },
   "outputs": [],
   "source": [
    "def calculate_dcg_ndcg(predictions,k=None):\n",
    "    \"\"\"\n",
    "    Calculate the DCG@k , NDCG@k for a set of queries.\n",
    "\n",
    "    Parameters:\n",
    "    actual (list of sets or lists): A list of sets or lists of the actual relevant items for each query.\n",
    "    predicted (list of lists): A list of lists of predicted items for each query.\n",
    "    k (int): The maximum number of predicted items to consider for each query.\n",
    "\n",
    "    Returns:\n",
    "    float: A list of DCG , NDCG scores.\n",
    "    \"\"\"\n",
    "    dcg_list = []\n",
    "    ndcg_list = []\n",
    "    for i in range(len(predictions)):\n",
    "        dcg =0\n",
    "        idcg =0\n",
    "        rank =1\n",
    "    \n",
    "        if k is not None:\n",
    "            prediction = predictions[i][:k]\n",
    "        else:\n",
    "            prediction = predictions[i]\n",
    "        # cal dcg\n",
    "        for j in prediction:\n",
    "            dcg += np.divide(float(j),np.log2(rank+1))\n",
    "            rank +=1\n",
    "        idcg = np.divide(5.0,np.log2(1+1))\n",
    "        dcg_list.append(dcg)\n",
    "        ndcg_list.append(np.divide(dcg,idcg))\n",
    "        \n",
    "    return dcg_list , ndcg_list\n",
    "\n",
    "    "
   ]
  },
  {
   "cell_type": "code",
   "execution_count": 152,
   "metadata": {
    "ExecuteTime": {
     "end_time": "2023-04-04T13:22:14.199926Z",
     "start_time": "2023-04-04T13:22:14.191790Z"
    }
   },
   "outputs": [],
   "source": [
    "mrr_list = calculate_mrr(pred_list , true_list)\n",
    "map_list = calculate_map(pred_list , true_list)\n",
    "dcg_list , ndcg_list = calculate_dcg_ndcg(pred_rel, k=3)\n",
    "precision_list = _precision(pred_list , true_list)\n",
    "recall_list = _recall(pred_list , true_list)"
   ]
  },
  {
   "cell_type": "code",
   "execution_count": 153,
   "metadata": {
    "ExecuteTime": {
     "end_time": "2023-04-04T13:22:14.975342Z",
     "start_time": "2023-04-04T13:22:14.972641Z"
    }
   },
   "outputs": [
    {
     "name": "stdout",
     "output_type": "stream",
     "text": [
      "44\n"
     ]
    }
   ],
   "source": [
    "cnt =0 \n",
    "for i in range(len(dcg_list)):\n",
    "    if ndcg_list[i]!=0:\n",
    "        cnt+=1\n",
    "print(cnt)"
   ]
  },
  {
   "cell_type": "code",
   "execution_count": 154,
   "metadata": {
    "ExecuteTime": {
     "end_time": "2023-04-04T13:22:15.832442Z",
     "start_time": "2023-04-04T13:22:15.828723Z"
    }
   },
   "outputs": [
    {
     "name": "stdout",
     "output_type": "stream",
     "text": [
      "MRR : 0.07773851590106007\n",
      "MAP : 0.07773851590106007\n",
      "Precision at 3 : 0.025912838633686687\n",
      "Recall at 3 : 0.025912838633686687\n",
      "DCG at 3 : 0.34275618374558303\n",
      "NDCG at 3 : 0.0685512367491166\n"
     ]
    }
   ],
   "source": [
    "print(f'MRR : {np.mean(mrr_list)}')\n",
    "print(f'MAP : {np.mean(map_list)}')\n",
    "print(f'Precision at 3 : {np.mean(precision_list)}')\n",
    "print(f'Recall at 3 : {np.mean(recall_list)}')\n",
    "print(f'DCG at 3 : {np.mean(dcg_list)}')\n",
    "print(f'NDCG at 3 : {np.mean(ndcg_list)}')"
   ]
  },
  {
   "cell_type": "markdown",
   "metadata": {},
   "source": [
    "# Results"
   ]
  },
  {
   "cell_type": "code",
   "execution_count": null,
   "metadata": {
    "ExecuteTime": {
     "end_time": "2023-04-04T09:42:36.406194Z",
     "start_time": "2023-04-04T09:42:36.406186Z"
    }
   },
   "outputs": [],
   "source": [
    "# Only one true answer with all pred\n",
    "# MRR : 0.08307696445985394\n",
    "# MAP : 0.08307696445985367\n",
    "# Precision at 3 : 0.025912838633686687\n",
    "# Recall at 3 : 0.33333333333333326"
   ]
  },
  {
   "cell_type": "code",
   "execution_count": null,
   "metadata": {},
   "outputs": [],
   "source": [
    "# one true answer with top 20 pred\n",
    "# MRR : 0.07773851590106007\n",
    "# MAP : 0.07773851590106007\n",
    "# Precision at 3 : 0.025912838633686687\n",
    "# Recall at 3 : 0.025912838633686687\n",
    "# DCG at 3 : 0.34275618374558303\n",
    "# NDCG at 3 : 0.0685512367491166"
   ]
  },
  {
   "cell_type": "code",
   "execution_count": 141,
   "metadata": {
    "ExecuteTime": {
     "end_time": "2023-04-04T13:21:14.534730Z",
     "start_time": "2023-04-04T13:21:14.532338Z"
    }
   },
   "outputs": [
    {
     "name": "stdout",
     "output_type": "stream",
     "text": [
      "[1, 2, 3]\n"
     ]
    }
   ],
   "source": [
    "a = [1,2,3,4]\n",
    "print(a[:3])"
   ]
  },
  {
   "cell_type": "code",
   "execution_count": null,
   "metadata": {},
   "outputs": [],
   "source": []
  }
 ],
 "metadata": {
  "kernelspec": {
   "display_name": "steph-env",
   "language": "python",
   "name": "steph-env"
  },
  "language_info": {
   "codemirror_mode": {
    "name": "ipython",
    "version": 3
   },
   "file_extension": ".py",
   "mimetype": "text/x-python",
   "name": "python",
   "nbconvert_exporter": "python",
   "pygments_lexer": "ipython3",
   "version": "3.7.5"
  },
  "toc": {
   "base_numbering": 1,
   "nav_menu": {},
   "number_sections": true,
   "sideBar": true,
   "skip_h1_title": false,
   "title_cell": "Table of Contents",
   "title_sidebar": "Contents",
   "toc_cell": false,
   "toc_position": {},
   "toc_section_display": true,
   "toc_window_display": false
  },
  "varInspector": {
   "cols": {
    "lenName": 16,
    "lenType": 16,
    "lenVar": 40
   },
   "kernels_config": {
    "python": {
     "delete_cmd_postfix": "",
     "delete_cmd_prefix": "del ",
     "library": "var_list.py",
     "varRefreshCmd": "print(var_dic_list())"
    },
    "r": {
     "delete_cmd_postfix": ") ",
     "delete_cmd_prefix": "rm(",
     "library": "var_list.r",
     "varRefreshCmd": "cat(var_dic_list()) "
    }
   },
   "types_to_exclude": [
    "module",
    "function",
    "builtin_function_or_method",
    "instance",
    "_Feature"
   ],
   "window_display": false
  }
 },
 "nbformat": 4,
 "nbformat_minor": 2
}
