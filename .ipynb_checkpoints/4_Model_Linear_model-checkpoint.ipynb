{
 "cells": [
  {
   "cell_type": "markdown",
   "id": "10a4c0bd",
   "metadata": {},
   "source": [
    "# Linear Regression Benchmark\n",
    "* SVR\n",
    "* [Ridge](http://www.science.smith.edu/~jcrouser/SDS293/labs/lab10-py.html)\n",
    "* GRBT"
   ]
  },
  {
   "cell_type": "markdown",
   "id": "d55501c4",
   "metadata": {},
   "source": [
    "# Import"
   ]
  },
  {
   "cell_type": "code",
   "execution_count": 2,
   "id": "28aa43a5",
   "metadata": {},
   "outputs": [],
   "source": [
    "import numpy as np  \n",
    "import pandas as pd \n",
    "from sklearn.model_selection import train_test_split\n",
    "import matplotlib.pyplot as plt \n",
    "from sklearn.preprocessing import scale \n",
    "from sklearn import preprocessing\n",
    "from sklearn.preprocessing import StandardScaler \n",
    "from sklearn.metrics import r2_score, mean_absolute_error, mean_squared_error\n",
    "\n",
    "# models\n",
    "from sklearn.metrics import mean_squared_error\n"
   ]
  },
  {
   "cell_type": "code",
   "execution_count": null,
   "id": "02ed385f",
   "metadata": {},
   "outputs": [],
   "source": [
    "# 導入資料\n",
    "drill = pd.read_csv(data_path) #drill為原始資料檔\n",
    "df=pd.DataFrame(drill)"
   ]
  },
  {
   "cell_type": "markdown",
   "id": "3e5548b5",
   "metadata": {},
   "source": [
    "# Functions"
   ]
  },
  {
   "cell_type": "code",
   "execution_count": 3,
   "id": "c962a450",
   "metadata": {},
   "outputs": [],
   "source": [
    "# create dataset"
   ]
  },
  {
   "cell_type": "code",
   "execution_count": null,
   "id": "0abb46c1",
   "metadata": {},
   "outputs": [],
   "source": [
    "#模型評估\n",
    "print('\\nThe value of default measurement of rbf SVR is', svr_rbf.score(x_test, y_test))\n",
    "print('R-squared value of rbf SVR is', r2_score(y_test, svr_predict))\n",
    "print('The mean squared error of rbf SVR is', mean_squared_error(ss_y.inverse_transform(y_test), ss_y.inverse_transform(svr_predict)))\n",
    "print('The mean absolute error of rbf SVR is', mean_absolute_error(ss_y.inverse_transform(y_test), ss_y.inverse_transform(svr_predict)))\n",
    "print(svr_rbf.intercept_) #迴歸模型的截距\n",
    "\n",
    "#輸出圖\n",
    "plt.scatter(svr_predict, y_test, color= 'black', label= 'Data') #數據點\n",
    "plt.plot(svr_predict, svr_predict, color= 'red', label= 'RBF model') #迴歸線\n",
    "plt.xlabel('data')\n",
    "plt.ylabel('quality')\n",
    "plt.title('Support Vector Regression')\n",
    "plt.legend()\n",
    "plt.show()\n",
    "\n",
    "# 多組比較圖\n",
    "#set up plotting area\n",
    "plt.figure(0).clf()\n",
    "\n",
    "#fit logistic regression model and plot ROC curve\n",
    "model = LogisticRegression()\n",
    "model.fit(X_train, y_train)\n",
    "y_pred = model.predict_proba(X_test)[:, 1]\n",
    "fpr, tpr, _ = metrics.roc_curve(y_test, y_pred)\n",
    "auc = round(metrics.roc_auc_score(y_test, y_pred), 4)\n",
    "plt.plot(fpr,tpr,label=\"Logistic Regression, AUC=\"+str(auc))\n",
    "\n",
    "#fit gradient boosted model and plot ROC curve\n",
    "model = GradientBoostingClassifier()\n",
    "model.fit(X_train, y_train)\n",
    "y_pred = model.predict_proba(X_test)[:, 1]\n",
    "fpr, tpr, _ = metrics.roc_curve(y_test, y_pred)\n",
    "auc = round(metrics.roc_auc_score(y_test, y_pred), 4)\n",
    "plt.plot(fpr,tpr,label=\"Gradient Boosting, AUC=\"+str(auc))\n",
    "\n",
    "#add legend\n",
    "plt.legend()\n",
    "\n",
    "\n",
    "# mse = mean_squared_error(ytest,ypred)\n",
    "# print(“MSE: %.2f” % mse)\n",
    "\n",
    "# x_ax = range(len(ytest))\n",
    "# plt.scatter(x_ax, ytest, s=5, color=”blue”, label=”original”)\n",
    "# plt.plot(x_ax, ypred, lw=0.8, color=”red”, label=”predicted”)\n",
    "# plt.legend()\n",
    "# plt.show()"
   ]
  },
  {
   "cell_type": "markdown",
   "id": "192322ad",
   "metadata": {},
   "source": [
    "# SVR"
   ]
  },
  {
   "cell_type": "code",
   "execution_count": null,
   "id": "42f6052d",
   "metadata": {},
   "outputs": [],
   "source": [
    "from sklearn.svm import SVR  \n",
    "x=df.loc[:,['Spindle speed', 'Feed rate', 'Point angle']] \n",
    "y=df['Thrust force']\n",
    "\n",
    "# 資料分割\n",
    "x_train, x_test, y_train, y_test = train_test_split(x.values, y.values, random_state=10, train_size=0.8)\n",
    "\n",
    "#正規化\n",
    "ss_x = StandardScaler()\n",
    "ss_y = StandardScaler()\n",
    "x_train = ss_x.fit_transform(x_train)\n",
    "x_test = ss_x.fit_transform(x_test)\n",
    "y_train = ss_y.fit_transform(y_train.reshape(-1, 1))\n",
    "y_test = ss_y.fit_transform(y_test.reshape(-1, 1))\n",
    "\n",
    "#建立SVR\n",
    "svr_rbf = SVR(C=1e3, kernel='rbf', gamma='auto')\n",
    "svr_rbf.fit(x_train,y_train)\n",
    "svr_predict=svr_rbf.predict(x_test)\n"
   ]
  },
  {
   "cell_type": "markdown",
   "id": "de91ee83",
   "metadata": {},
   "source": [
    "# Ridge"
   ]
  },
  {
   "cell_type": "code",
   "execution_count": null,
   "id": "a5579870",
   "metadata": {},
   "outputs": [],
   "source": [
    "from sklearn.linear_model import Ridge, RidgeCV, Lasso, LassoCV\n",
    "X, y = datasets.load_diabetes(return_X_y=True)\n",
    "X_train, X_test, y_train, y_test = model_selection.train_test_split(X, y)\n",
    "\n",
    "model = Ridge()\n",
    "model.fit(X_train, y_train)\n",
    "y_pred = model.predict(X_test)"
   ]
  },
  {
   "cell_type": "markdown",
   "id": "ea10ea5b",
   "metadata": {},
   "source": [
    "# GBRT"
   ]
  },
  {
   "cell_type": "code",
   "execution_count": null,
   "id": "577b732f",
   "metadata": {},
   "outputs": [],
   "source": [
    "from sklearn.ensemble import GradientBoostingRegressor\n",
    "\n",
    "xtrain, xtest, ytrain, ytest=train_test_split(x, y, random_state=12,\n",
    "test_size=0.15)\n",
    "# with new parameters\n",
    "gbr = GradientBoostingRegressor(n_estimators=600,\n",
    "max_depth=5,\n",
    "learning_rate=0.01,\n",
    "min_samples_split=3)\n",
    "# with default parameters\n",
    "gbr = GradientBoostingRegressor()\n",
    "\n",
    "gbr.fit(xtrain, ytrain)\n",
    "\n",
    "ypred = gbr.predict(xtest)"
   ]
  }
 ],
 "metadata": {
  "kernelspec": {
   "display_name": "steph-env",
   "language": "python",
   "name": "steph-env"
  },
  "language_info": {
   "codemirror_mode": {
    "name": "ipython",
    "version": 3
   },
   "file_extension": ".py",
   "mimetype": "text/x-python",
   "name": "python",
   "nbconvert_exporter": "python",
   "pygments_lexer": "ipython3",
   "version": "3.7.5"
  },
  "toc": {
   "base_numbering": 1,
   "nav_menu": {},
   "number_sections": true,
   "sideBar": true,
   "skip_h1_title": false,
   "title_cell": "Table of Contents",
   "title_sidebar": "Contents",
   "toc_cell": false,
   "toc_position": {},
   "toc_section_display": true,
   "toc_window_display": false
  },
  "varInspector": {
   "cols": {
    "lenName": 16,
    "lenType": 16,
    "lenVar": 40
   },
   "kernels_config": {
    "python": {
     "delete_cmd_postfix": "",
     "delete_cmd_prefix": "del ",
     "library": "var_list.py",
     "varRefreshCmd": "print(var_dic_list())"
    },
    "r": {
     "delete_cmd_postfix": ") ",
     "delete_cmd_prefix": "rm(",
     "library": "var_list.r",
     "varRefreshCmd": "cat(var_dic_list()) "
    }
   },
   "types_to_exclude": [
    "module",
    "function",
    "builtin_function_or_method",
    "instance",
    "_Feature"
   ],
   "window_display": false
  }
 },
 "nbformat": 4,
 "nbformat_minor": 5
}
