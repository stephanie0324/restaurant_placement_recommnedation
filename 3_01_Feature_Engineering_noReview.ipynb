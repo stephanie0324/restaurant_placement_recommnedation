{
 "cells": [
  {
   "cell_type": "markdown",
   "id": "tracked-pressing",
   "metadata": {},
   "source": [
    "# Create the features DF\n",
    "* using by_postal_code dataset"
   ]
  },
  {
   "cell_type": "markdown",
   "id": "driving-variation",
   "metadata": {},
   "source": [
    "# Import"
   ]
  },
  {
   "cell_type": "code",
   "execution_count": 1,
   "id": "higher-hollywood",
   "metadata": {
    "ExecuteTime": {
     "end_time": "2023-05-12T06:02:37.850622Z",
     "start_time": "2023-05-12T06:02:36.938758Z"
    },
    "vscode": {
     "languageId": "python"
    }
   },
   "outputs": [],
   "source": [
    "import pandas as pd\n",
    "import json\n",
    "import numpy as np\n",
    "from collections import Counter\n",
    "import pickle\n",
    "import math \n",
    "from sklearn.model_selection import train_test_split\n",
    "\n",
    "from scipy import sparse as sp\n",
    "from sklearn.feature_extraction.text import CountVectorizer\n",
    "from sklearn.feature_extraction.text import TfidfTransformer\n",
    "from sklearn.pipeline import Pipeline\n",
    "from sklearn.preprocessing import LabelEncoder\n",
    "from sklearn.feature_selection import chi2\n",
    "from sklearn.feature_selection import SelectKBest"
   ]
  },
  {
   "cell_type": "code",
   "execution_count": 2,
   "id": "biological-marshall",
   "metadata": {
    "ExecuteTime": {
     "end_time": "2023-05-12T06:02:37.856111Z",
     "start_time": "2023-05-12T06:02:37.853229Z"
    },
    "vscode": {
     "languageId": "python"
    }
   },
   "outputs": [],
   "source": [
    "RANDOM_STATE = 24"
   ]
  },
  {
   "cell_type": "code",
   "execution_count": 3,
   "id": "fantastic-hands",
   "metadata": {
    "ExecuteTime": {
     "end_time": "2023-05-12T06:02:38.359194Z",
     "start_time": "2023-05-12T06:02:37.858344Z"
    },
    "vscode": {
     "languageId": "python"
    }
   },
   "outputs": [],
   "source": [
    "res_df = pd.read_pickle ('../data/ORI_by_postal_code_s_dropped.pkl')\n",
    "postal_code_feature_dict = pickle.load(open(\"../data/postal_dict.pkl\", \"rb\"))\n",
    "all_df = pd.read_pickle('../Data/restaurant_only.pkl')"
   ]
  },
  {
   "cell_type": "code",
   "execution_count": 4,
   "id": "intended-profession",
   "metadata": {
    "ExecuteTime": {
     "end_time": "2023-05-12T06:02:38.365473Z",
     "start_time": "2023-05-12T06:02:38.361265Z"
    },
    "vscode": {
     "languageId": "python"
    }
   },
   "outputs": [
    {
     "name": "stdout",
     "output_type": "stream",
     "text": [
      "(1848, 5) (387723, 20)\n"
     ]
    }
   ],
   "source": [
    "print(res_df.shape , all_df.shape)"
   ]
  },
  {
   "cell_type": "code",
   "execution_count": 5,
   "id": "duplicate-spring",
   "metadata": {
    "ExecuteTime": {
     "end_time": "2023-05-12T06:02:38.441851Z",
     "start_time": "2023-05-12T06:02:38.367127Z"
    },
    "vscode": {
     "languageId": "python"
    }
   },
   "outputs": [
    {
     "data": {
      "text/plain": [
       "405"
      ]
     },
     "execution_count": 5,
     "metadata": {},
     "output_type": "execute_result"
    }
   ],
   "source": [
    "len(Counter(res_df.name))"
   ]
  },
  {
   "cell_type": "code",
   "execution_count": 6,
   "id": "designed-advancement",
   "metadata": {
    "ExecuteTime": {
     "end_time": "2023-05-12T06:02:38.512985Z",
     "start_time": "2023-05-12T06:02:38.443708Z"
    },
    "vscode": {
     "languageId": "python"
    }
   },
   "outputs": [
    {
     "data": {
      "text/plain": [
       "747"
      ]
     },
     "execution_count": 6,
     "metadata": {},
     "output_type": "execute_result"
    }
   ],
   "source": [
    "len(postal_code_feature_dict)"
   ]
  },
  {
   "cell_type": "code",
   "execution_count": 7,
   "id": "parliamentary-congress",
   "metadata": {
    "ExecuteTime": {
     "end_time": "2023-05-12T06:02:40.395590Z",
     "start_time": "2023-05-12T06:02:38.534083Z"
    },
    "vscode": {
     "languageId": "python"
    }
   },
   "outputs": [
    {
     "name": "stderr",
     "output_type": "stream",
     "text": [
      "/mnt/data/emma/bilab/Steph_C/steph_env/lib/python3.6/site-packages/ipykernel_launcher.py:8: SettingWithCopyWarning: \n",
      "A value is trying to be set on a copy of a slice from a DataFrame\n",
      "\n",
      "See the caveats in the documentation: https://pandas.pydata.org/pandas-docs/stable/user_guide/indexing.html#returning-a-view-versus-a-copy\n",
      "  \n"
     ]
    },
    {
     "name": "stdout",
     "output_type": "stream",
     "text": [
      "Relevance score added\n"
     ]
    }
   ],
   "source": [
    "# create relevance score\n",
    "new_df = pd.DataFrame()\n",
    "for i in Counter(res_df.name):\n",
    "    tmp = res_df[res_df.name==i].sort_values(by=['review_count'] ,ascending=False)\n",
    "    tmp['relevance']=''\n",
    "    score = 12\n",
    "    for idx , row in tmp.iterrows():\n",
    "        tmp.relevance[idx] = score\n",
    "        score -=1\n",
    "    new_df = pd.concat([new_df,tmp])\n",
    "\n",
    "# check the shape\n",
    "if new_df.shape[0] != res_df.shape[0]:\n",
    "    print(f'There is a mistake creating the relevance score')\n",
    "else:\n",
    "    print(f'Relevance score added')\n",
    "res_df = new_df"
   ]
  },
  {
   "cell_type": "code",
   "execution_count": 8,
   "id": "crucial-touch",
   "metadata": {
    "ExecuteTime": {
     "end_time": "2023-05-12T06:02:40.401680Z",
     "start_time": "2023-05-12T06:02:40.398513Z"
    },
    "vscode": {
     "languageId": "python"
    }
   },
   "outputs": [],
   "source": [
    "# # unhash if necessary\n",
    "# # create a overall postal_code features\n",
    "# # postal code and feature dict\n",
    "# postal_code_feature_dict = {}\n",
    "\n",
    "# for postal in Counter(all_df.postal_code):\n",
    "    \n",
    "#     postal_code_feature_dict[postal]={}\n",
    "#     tmp = all_df[all_df.postal_code == postal].reset_index(drop=True)\n",
    "    \n",
    "#     # density \n",
    "#     postal_code_feature_dict[postal]['density'] = len(Counter(tmp.name))\n",
    "    \n",
    "#     # neighborhood_entropy\n",
    "#     entropy_sum = 0\n",
    "#     for category in Counter(tmp.categories):\n",
    "#         entropy_sum+=(len(Counter(tmp[tmp.categories==category].name))/len(Counter(tmp.name)))\\\n",
    "#         *np.log(len(Counter(tmp[tmp.categories==category].name))/len(Counter(tmp.name)))\n",
    "#     postal_code_feature_dict[postal]['entropy'] = -entropy_sum\n",
    "    \n",
    "#     # area popularity\n",
    "#     postal_code_feature_dict[postal]['area_pop'] = len(tmp)\n",
    "# pickle.dump(postal_code_feature_dict, open(\"../data/postal_dict.pkl\" , 'wb'))"
   ]
  },
  {
   "cell_type": "code",
   "execution_count": 9,
   "id": "dress-fleet",
   "metadata": {
    "ExecuteTime": {
     "end_time": "2023-05-12T06:02:40.485146Z",
     "start_time": "2023-05-12T06:02:40.403398Z"
    },
    "vscode": {
     "languageId": "python"
    }
   },
   "outputs": [],
   "source": [
    "# # # to check the features\n",
    "# postal_df = pd.DataFrame(postal_code_feature_dict).T.reset_index().rename(columns={'index': 'postal_code'})\n",
    "# postal_df\n",
    "# # Counter(postal_df.complementary)"
   ]
  },
  {
   "cell_type": "markdown",
   "id": "bacterial-honduras",
   "metadata": {},
   "source": [
    "# Train Test Split with Feature Engineering"
   ]
  },
  {
   "cell_type": "code",
   "execution_count": 10,
   "id": "sealed-filter",
   "metadata": {
    "ExecuteTime": {
     "end_time": "2023-05-12T06:02:40.547358Z",
     "start_time": "2023-05-12T06:02:40.491686Z"
    },
    "vscode": {
     "languageId": "python"
    }
   },
   "outputs": [],
   "source": [
    "def create_new (new ,category, all_df, postal_df , res_name,postal):\n",
    "    \n",
    "    new = new.drop(columns=['density', 'entropy','area_pop'])\n",
    "    \n",
    "    new['postal_code'] = postal\n",
    "    new = pd.DataFrame(new.merge(postal_df, on='postal_code', how='left'))\n",
    "    new['relevance'] = 0\n",
    "    # add competitiveness\n",
    "    new['competitiveness']=''\n",
    "    place = all_df[all_df.postal_code == postal].reset_index(drop=True)\n",
    "    new['competitiveness'] = -(len(Counter(place[place.categories == category].name))\\\n",
    "                                  /len(Counter(place.name)))\n",
    "    return new"
   ]
  },
  {
   "cell_type": "markdown",
   "id": "proprietary-floor",
   "metadata": {},
   "source": [
    "## Pointwise"
   ]
  },
  {
   "cell_type": "code",
   "execution_count": 11,
   "id": "christian-elizabeth",
   "metadata": {
    "ExecuteTime": {
     "end_time": "2023-05-12T06:19:31.983930Z",
     "start_time": "2023-05-12T06:02:40.551939Z"
    },
    "vscode": {
     "languageId": "python"
    }
   },
   "outputs": [
    {
     "name": "stdout",
     "output_type": "stream",
     "text": [
      "Now progress ... 0\n"
     ]
    },
    {
     "name": "stderr",
     "output_type": "stream",
     "text": [
      "/mnt/data/emma/bilab/Steph_C/steph_env/lib/python3.6/site-packages/ipykernel_launcher.py:39: SettingWithCopyWarning: \n",
      "A value is trying to be set on a copy of a slice from a DataFrame\n",
      "\n",
      "See the caveats in the documentation: https://pandas.pydata.org/pandas-docs/stable/user_guide/indexing.html#returning-a-view-versus-a-copy\n"
     ]
    },
    {
     "name": "stdout",
     "output_type": "stream",
     "text": [
      "Finished constructing....  train res cnt  : 405 test res cnt : 405\n"
     ]
    }
   ],
   "source": [
    "# # POINTWISE v3\n",
    "# 每間正樣本 都取 9個負樣本\n",
    "# # split train test \n",
    "\n",
    "train_df = pd.DataFrame()\n",
    "test_df = pd.DataFrame()\n",
    "\n",
    "postal_df = pd.DataFrame(postal_code_feature_dict).T.reset_index().rename(columns={'index': 'postal_code'})\n",
    "postal_df = postal_df.sort_values(['postal_code'],ascending = [True]).reset_index(drop=True)\n",
    "\n",
    "cnt = 0 \n",
    "\n",
    "for i in Counter(res_df.name):\n",
    "    \n",
    "    if cnt%10 == 0:\n",
    "        print(f'Now progress ... {cnt}')\n",
    "    cnt +=1\n",
    "    \n",
    "    tmp = res_df[res_df.name==i].sort_values(['postal_code'],ascending = [False]).reset_index(drop=True)\n",
    "    category = tmp.categories[0]\n",
    "    \n",
    "    postal_codes_list = list(postal_df.postal_code)\n",
    "    \n",
    "    # remove the known postal codes\n",
    "    for postal in Counter(tmp.postal_code):\n",
    "        postal_codes_list.remove(postal)\n",
    "\n",
    "    # merge with location features\n",
    "    tmp = pd.DataFrame(tmp.merge(postal_df, on='postal_code', how='left')).reset_index(drop=True)\n",
    "    \n",
    "    \n",
    "    # add competitiveness and review \n",
    "    tmp['competitiveness'] = ''\n",
    "    \n",
    "    for j in range(len(tmp)):\n",
    "        \n",
    "        # competitiveness\n",
    "        place = all_df[all_df.postal_code == tmp['postal_code'][j]]\n",
    "        tmp['competitiveness'][j] = -(len(Counter(place[place.categories == category].name))/len(Counter(place.name)))\n",
    "\n",
    "    tmp_train , tmp_test = train_test_split(tmp, test_size=0.33, shuffle= True,random_state=RANDOM_STATE)\n",
    "    \n",
    "    # Train\n",
    "    neg_df = pd.DataFrame()\n",
    "    for index, row in tmp_train.iterrows():\n",
    "        cnt = 0 \n",
    "        category = row.categories\n",
    "\n",
    "        # add the negative samples\n",
    "        for postal in postal_codes_list:\n",
    "            if cnt <9:\n",
    "                if postal in postal_codes_list and\\\n",
    "                abs(int(postal)- int(row['postal_code'])) <= 500:\n",
    "                    cnt+=1\n",
    "                    new = pd.DataFrame(row).T\n",
    "                    new = create_new(new ,category, all_df, postal_df , i,postal)\n",
    "                    neg_df = pd.concat([neg_df ,new ])\n",
    "            else:\n",
    "                break\n",
    "    tmp_train = pd.concat([tmp_train ,neg_df ])\n",
    "    \n",
    "    # Test\n",
    "    neg_df = pd.DataFrame()\n",
    "    for index, row in tmp_test.iterrows():\n",
    "        cnt = 0 \n",
    "        category = row.categories\n",
    "\n",
    "        # add the negative samples\n",
    "        for postal in postal_codes_list:\n",
    "            if cnt <9:\n",
    "                if postal in postal_codes_list and\\\n",
    "                abs(int(postal)- int(row['postal_code'])) <= 500:\n",
    "                    cnt+=1\n",
    "                    new = pd.DataFrame(row).T\n",
    "                    new = create_new(new ,category, all_df, postal_df , i,postal)\n",
    "                    neg_df = pd.concat([neg_df ,new ])\n",
    "            else:\n",
    "                break\n",
    "    tmp_test = pd.concat([tmp_test ,neg_df ])\n",
    "    \n",
    "    if len(tmp_test) + len(tmp_train) < len(tmp)*3:\n",
    "        print(f'There is sth wrong with ... {i}')\n",
    "        break\n",
    "    \n",
    "    train_df = pd.concat([train_df,tmp_train])\n",
    "    test_df = pd.concat([test_df,tmp_test])\n",
    "print(f'Finished constructing....  train res cnt  : {len(Counter(train_df.name))} test res cnt : {len(Counter(test_df.name))}')"
   ]
  },
  {
   "cell_type": "code",
   "execution_count": 12,
   "id": "regular-sterling",
   "metadata": {
    "ExecuteTime": {
     "end_time": "2023-05-12T06:19:31.990347Z",
     "start_time": "2023-05-12T06:19:31.985845Z"
    },
    "vscode": {
     "languageId": "python"
    }
   },
   "outputs": [
    {
     "data": {
      "text/plain": [
       "((11324, 10), (7098, 10))"
      ]
     },
     "execution_count": 12,
     "metadata": {},
     "output_type": "execute_result"
    }
   ],
   "source": [
    "train_df.shape , test_df.shape"
   ]
  },
  {
   "cell_type": "code",
   "execution_count": 13,
   "id": "ideal-zealand",
   "metadata": {
    "ExecuteTime": {
     "end_time": "2023-05-12T06:19:32.076131Z",
     "start_time": "2023-05-12T06:19:31.991990Z"
    },
    "vscode": {
     "languageId": "python"
    }
   },
   "outputs": [],
   "source": [
    "for i in ['density', 'entropy', 'competitiveness','area_pop', 'relevance']:\n",
    "    train_df[i] = train_df[i].astype('float')\n",
    "    test_df[i] = test_df[i].astype('float')\n",
    "train_df.to_pickle('../data/Train_by_postoal_code_without_review_pointwise_v3_3.pkl')\n",
    "test_df.to_pickle('../data/Test_by_postoal_code_without_review_pointwise_v3_3.pkl')"
   ]
  },
  {
   "cell_type": "code",
   "execution_count": null,
   "id": "sound-hurricane",
   "metadata": {
    "vscode": {
     "languageId": "python"
    }
   },
   "outputs": [],
   "source": []
  }
 ],
 "metadata": {
  "kernelspec": {
   "display_name": "steph_env",
   "language": "python",
   "name": "steph_env"
  },
  "language_info": {
   "codemirror_mode": {
    "name": "ipython",
    "version": 3
   },
   "file_extension": ".py",
   "mimetype": "text/x-python",
   "name": "python",
   "nbconvert_exporter": "python",
   "pygments_lexer": "ipython3",
   "version": "3.6.3"
  },
  "toc": {
   "base_numbering": 1,
   "nav_menu": {},
   "number_sections": true,
   "sideBar": true,
   "skip_h1_title": false,
   "title_cell": "Table of Contents",
   "title_sidebar": "Contents",
   "toc_cell": false,
   "toc_position": {
    "height": "calc(100% - 180px)",
    "left": "10px",
    "top": "150px",
    "width": "165px"
   },
   "toc_section_display": true,
   "toc_window_display": true
  },
  "varInspector": {
   "cols": {
    "lenName": 16,
    "lenType": 16,
    "lenVar": 40
   },
   "kernels_config": {
    "python": {
     "delete_cmd_postfix": "",
     "delete_cmd_prefix": "del ",
     "library": "var_list.py",
     "varRefreshCmd": "print(var_dic_list())"
    },
    "r": {
     "delete_cmd_postfix": ") ",
     "delete_cmd_prefix": "rm(",
     "library": "var_list.r",
     "varRefreshCmd": "cat(var_dic_list()) "
    }
   },
   "types_to_exclude": [
    "module",
    "function",
    "builtin_function_or_method",
    "instance",
    "_Feature"
   ],
   "window_display": false
  }
 },
 "nbformat": 4,
 "nbformat_minor": 5
}
