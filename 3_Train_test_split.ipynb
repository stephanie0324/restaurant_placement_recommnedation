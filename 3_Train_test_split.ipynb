{
 "cells": [
  {
   "cell_type": "markdown",
   "metadata": {},
   "source": [
    "# Data Splitting\n",
    "* 加上負樣本"
   ]
  },
  {
   "cell_type": "markdown",
   "metadata": {},
   "source": [
    "## Import "
   ]
  },
  {
   "cell_type": "code",
   "execution_count": 20,
   "metadata": {
    "ExecuteTime": {
     "end_time": "2023-04-12T07:44:29.068744Z",
     "start_time": "2023-04-12T07:44:29.063705Z"
    }
   },
   "outputs": [],
   "source": [
    "import pandas as pd\n",
    "import json\n",
    "import numpy as np\n",
    "from collections import Counter\n",
    "import matplotlib.pyplot as plt\n",
    "import pickle\n",
    "import math "
   ]
  },
  {
   "cell_type": "code",
   "execution_count": 57,
   "metadata": {
    "ExecuteTime": {
     "end_time": "2023-04-12T10:17:19.464563Z",
     "start_time": "2023-04-12T10:17:19.448064Z"
    }
   },
   "outputs": [
    {
     "ename": "FileNotFoundError",
     "evalue": "[Errno 2] No such file or directory: '/home/adam/Steph_C/my_thesis/data/ORI_by_postoal_code_without_review.pkl'",
     "output_type": "error",
     "traceback": [
      "\u001b[0;31m---------------------------------------------------------------------------\u001b[0m",
      "\u001b[0;31mFileNotFoundError\u001b[0m                         Traceback (most recent call last)",
      "\u001b[0;32m/tmp/ipykernel_12497/3582111759.py\u001b[0m in \u001b[0;36m<module>\u001b[0;34m\u001b[0m\n\u001b[0;32m----> 1\u001b[0;31m \u001b[0mdf\u001b[0m \u001b[0;34m=\u001b[0m \u001b[0mpd\u001b[0m\u001b[0;34m.\u001b[0m\u001b[0mread_pickle\u001b[0m\u001b[0;34m(\u001b[0m\u001b[0;34m'/home/adam/Steph_C/my_thesis/data/ORI_by_postoal_code_without_review.pkl'\u001b[0m\u001b[0;34m)\u001b[0m\u001b[0;34m\u001b[0m\u001b[0;34m\u001b[0m\u001b[0m\n\u001b[0m",
      "\u001b[0;32m~/.local/lib/python3.7/site-packages/pandas/io/pickle.py\u001b[0m in \u001b[0;36mread_pickle\u001b[0;34m(filepath_or_buffer, compression, storage_options)\u001b[0m\n\u001b[1;32m    199\u001b[0m         \u001b[0mcompression\u001b[0m\u001b[0;34m=\u001b[0m\u001b[0mcompression\u001b[0m\u001b[0;34m,\u001b[0m\u001b[0;34m\u001b[0m\u001b[0;34m\u001b[0m\u001b[0m\n\u001b[1;32m    200\u001b[0m         \u001b[0mis_text\u001b[0m\u001b[0;34m=\u001b[0m\u001b[0;32mFalse\u001b[0m\u001b[0;34m,\u001b[0m\u001b[0;34m\u001b[0m\u001b[0;34m\u001b[0m\u001b[0m\n\u001b[0;32m--> 201\u001b[0;31m         \u001b[0mstorage_options\u001b[0m\u001b[0;34m=\u001b[0m\u001b[0mstorage_options\u001b[0m\u001b[0;34m,\u001b[0m\u001b[0;34m\u001b[0m\u001b[0;34m\u001b[0m\u001b[0m\n\u001b[0m\u001b[1;32m    202\u001b[0m     ) as handles:\n\u001b[1;32m    203\u001b[0m \u001b[0;34m\u001b[0m\u001b[0m\n",
      "\u001b[0;32m~/.local/lib/python3.7/site-packages/pandas/io/common.py\u001b[0m in \u001b[0;36mget_handle\u001b[0;34m(path_or_buf, mode, encoding, compression, memory_map, is_text, errors, storage_options)\u001b[0m\n\u001b[1;32m    709\u001b[0m         \u001b[0;32melse\u001b[0m\u001b[0;34m:\u001b[0m\u001b[0;34m\u001b[0m\u001b[0;34m\u001b[0m\u001b[0m\n\u001b[1;32m    710\u001b[0m             \u001b[0;31m# Binary mode\u001b[0m\u001b[0;34m\u001b[0m\u001b[0;34m\u001b[0m\u001b[0;34m\u001b[0m\u001b[0m\n\u001b[0;32m--> 711\u001b[0;31m             \u001b[0mhandle\u001b[0m \u001b[0;34m=\u001b[0m \u001b[0mopen\u001b[0m\u001b[0;34m(\u001b[0m\u001b[0mhandle\u001b[0m\u001b[0;34m,\u001b[0m \u001b[0mioargs\u001b[0m\u001b[0;34m.\u001b[0m\u001b[0mmode\u001b[0m\u001b[0;34m)\u001b[0m\u001b[0;34m\u001b[0m\u001b[0;34m\u001b[0m\u001b[0m\n\u001b[0m\u001b[1;32m    712\u001b[0m         \u001b[0mhandles\u001b[0m\u001b[0;34m.\u001b[0m\u001b[0mappend\u001b[0m\u001b[0;34m(\u001b[0m\u001b[0mhandle\u001b[0m\u001b[0;34m)\u001b[0m\u001b[0;34m\u001b[0m\u001b[0;34m\u001b[0m\u001b[0m\n\u001b[1;32m    713\u001b[0m \u001b[0;34m\u001b[0m\u001b[0m\n",
      "\u001b[0;31mFileNotFoundError\u001b[0m: [Errno 2] No such file or directory: '/home/adam/Steph_C/my_thesis/data/ORI_by_postoal_code_without_review.pkl'"
     ]
    }
   ],
   "source": [
    "df = pd.read_pickle('/home/adam/Steph_C/my_thesis/data/FE_by_postoal_code_without_review.pkl')"
   ]
  },
  {
   "cell_type": "code",
   "execution_count": 22,
   "metadata": {
    "ExecuteTime": {
     "end_time": "2023-04-12T07:44:30.390303Z",
     "start_time": "2023-04-12T07:44:30.384779Z"
    }
   },
   "outputs": [
    {
     "data": {
      "text/plain": [
       "(1425, 26)"
      ]
     },
     "execution_count": 22,
     "metadata": {},
     "output_type": "execute_result"
    }
   ],
   "source": [
    "df.shape"
   ]
  },
  {
   "cell_type": "code",
   "execution_count": 23,
   "metadata": {
    "ExecuteTime": {
     "end_time": "2023-04-12T07:46:09.686505Z",
     "start_time": "2023-04-12T07:46:09.681057Z"
    }
   },
   "outputs": [
    {
     "data": {
      "text/plain": [
       "Index(['business_id', 'stars_x', 'useful', 'funny', 'cool', 'text', 'date',\n",
       "       'name', 'address', 'city', 'state', 'postal_code', 'latitude',\n",
       "       'longitude', 'stars_y', 'review_count', 'is_open', 'attributes',\n",
       "       'categories', 'hours', 'density', 'entropy', 'competitiveness',\n",
       "       'area_pop', 'accessibility', 'complementary'],\n",
       "      dtype='object')"
      ]
     },
     "execution_count": 23,
     "metadata": {},
     "output_type": "execute_result"
    }
   ],
   "source": [
    "df.columns"
   ]
  },
  {
   "cell_type": "code",
   "execution_count": 24,
   "metadata": {
    "ExecuteTime": {
     "end_time": "2023-04-12T07:46:10.276582Z",
     "start_time": "2023-04-12T07:46:10.263976Z"
    }
   },
   "outputs": [
    {
     "data": {
      "text/plain": [
       "565"
      ]
     },
     "execution_count": 24,
     "metadata": {},
     "output_type": "execute_result"
    }
   ],
   "source": [
    "len(Counter(df.name))"
   ]
  },
  {
   "cell_type": "markdown",
   "metadata": {},
   "source": [
    "## DF Construction\n",
    "* add relevance"
   ]
  },
  {
   "cell_type": "code",
   "execution_count": 27,
   "metadata": {
    "ExecuteTime": {
     "end_time": "2023-04-12T07:46:55.238566Z",
     "start_time": "2023-04-12T07:46:55.230779Z"
    }
   },
   "outputs": [],
   "source": [
    "# sort by name and review count \n",
    "df = df.sort_values(['name', 'review_count'],\n",
    "              ascending = [True, False]).reset_index(drop=True)"
   ]
  },
  {
   "cell_type": "code",
   "execution_count": 28,
   "metadata": {
    "ExecuteTime": {
     "end_time": "2023-04-12T07:46:57.070532Z",
     "start_time": "2023-04-12T07:46:55.909324Z"
    }
   },
   "outputs": [
    {
     "name": "stderr",
     "output_type": "stream",
     "text": [
      "/home/adam/.local/lib/python3.7/site-packages/ipykernel_launcher.py:9: SettingWithCopyWarning: \n",
      "A value is trying to be set on a copy of a slice from a DataFrame\n",
      "\n",
      "See the caveats in the documentation: https://pandas.pydata.org/pandas-docs/stable/user_guide/indexing.html#returning-a-view-versus-a-copy\n",
      "  if __name__ == '__main__':\n"
     ]
    },
    {
     "name": "stdout",
     "output_type": "stream",
     "text": [
      "Relevance score added\n"
     ]
    }
   ],
   "source": [
    "# create relevance score\n",
    "cnt = 0\n",
    "new_df = pd.DataFrame()\n",
    "for i in Counter(df.name):\n",
    "    tmp = df[df.name==i].reset_index(drop=True)\n",
    "    tmp['relevance']=''\n",
    "    score = 6\n",
    "    for j in range(len(tmp)):\n",
    "        tmp['relevance'][j]=score\n",
    "        score -=1\n",
    "    new_df = pd.concat([new_df,tmp])\n",
    "\n",
    "# check the shape\n",
    "if new_df.shape[0] != df.shape[0]:\n",
    "    print(f'There is a mistake creating the relevance score')\n",
    "else:\n",
    "    print(f'Relevance score added')"
   ]
  },
  {
   "cell_type": "code",
   "execution_count": 29,
   "metadata": {
    "ExecuteTime": {
     "end_time": "2023-04-12T07:47:06.665999Z",
     "start_time": "2023-04-12T07:47:06.659311Z"
    }
   },
   "outputs": [],
   "source": [
    "new_df = new_df.drop(columns=[ 'business_id','city','state', 'review_count','categories','stars_x', 'useful', 'funny', 'cool', 'text',\n",
    "       'date','address','is_open', 'stars_y','attributes','hours'])"
   ]
  },
  {
   "cell_type": "markdown",
   "metadata": {},
   "source": [
    "## Create Dataset"
   ]
  },
  {
   "cell_type": "code",
   "execution_count": 30,
   "metadata": {
    "ExecuteTime": {
     "end_time": "2023-04-12T07:47:11.541224Z",
     "start_time": "2023-04-12T07:47:11.535680Z"
    }
   },
   "outputs": [
    {
     "data": {
      "text/plain": [
       "Index(['name', 'postal_code', 'latitude', 'longitude', 'density', 'entropy',\n",
       "       'competitiveness', 'area_pop', 'accessibility', 'complementary',\n",
       "       'relevance'],\n",
       "      dtype='object')"
      ]
     },
     "execution_count": 30,
     "metadata": {},
     "output_type": "execute_result"
    }
   ],
   "source": [
    "new_df.columns"
   ]
  },
  {
   "cell_type": "code",
   "execution_count": 31,
   "metadata": {
    "ExecuteTime": {
     "end_time": "2023-04-12T07:47:17.841927Z",
     "start_time": "2023-04-12T07:47:17.043500Z"
    }
   },
   "outputs": [
    {
     "data": {
      "text/html": [
       "<div>\n",
       "<style scoped>\n",
       "    .dataframe tbody tr th:only-of-type {\n",
       "        vertical-align: middle;\n",
       "    }\n",
       "\n",
       "    .dataframe tbody tr th {\n",
       "        vertical-align: top;\n",
       "    }\n",
       "\n",
       "    .dataframe thead th {\n",
       "        text-align: right;\n",
       "    }\n",
       "</style>\n",
       "<table border=\"1\" class=\"dataframe\">\n",
       "  <thead>\n",
       "    <tr style=\"text-align: right;\">\n",
       "      <th></th>\n",
       "      <th>postal_code</th>\n",
       "      <th>density</th>\n",
       "      <th>entropy</th>\n",
       "      <th>competitiveness</th>\n",
       "      <th>area_pop</th>\n",
       "      <th>accessibility</th>\n",
       "      <th>complementary</th>\n",
       "    </tr>\n",
       "  </thead>\n",
       "  <tbody>\n",
       "    <tr>\n",
       "      <th>0</th>\n",
       "      <td>46225</td>\n",
       "      <td>5.0</td>\n",
       "      <td>1.609438</td>\n",
       "      <td>-0.200000</td>\n",
       "      <td>1890.0</td>\n",
       "      <td>0.0</td>\n",
       "      <td>0.0</td>\n",
       "    </tr>\n",
       "    <tr>\n",
       "      <th>1</th>\n",
       "      <td>46037</td>\n",
       "      <td>5.0</td>\n",
       "      <td>1.609438</td>\n",
       "      <td>-0.200000</td>\n",
       "      <td>1972.0</td>\n",
       "      <td>0.0</td>\n",
       "      <td>0.0</td>\n",
       "    </tr>\n",
       "    <tr>\n",
       "      <th>2</th>\n",
       "      <td>33618</td>\n",
       "      <td>12.0</td>\n",
       "      <td>2.484907</td>\n",
       "      <td>-0.083333</td>\n",
       "      <td>3630.0</td>\n",
       "      <td>0.0</td>\n",
       "      <td>0.0</td>\n",
       "    </tr>\n",
       "    <tr>\n",
       "      <th>3</th>\n",
       "      <td>33609</td>\n",
       "      <td>11.0</td>\n",
       "      <td>2.397895</td>\n",
       "      <td>-0.090909</td>\n",
       "      <td>4551.0</td>\n",
       "      <td>0.0</td>\n",
       "      <td>0.0</td>\n",
       "    </tr>\n",
       "    <tr>\n",
       "      <th>4</th>\n",
       "      <td>63126</td>\n",
       "      <td>3.0</td>\n",
       "      <td>1.098612</td>\n",
       "      <td>-0.333333</td>\n",
       "      <td>492.0</td>\n",
       "      <td>0.0</td>\n",
       "      <td>0.0</td>\n",
       "    </tr>\n",
       "    <tr>\n",
       "      <th>...</th>\n",
       "      <td>...</td>\n",
       "      <td>...</td>\n",
       "      <td>...</td>\n",
       "      <td>...</td>\n",
       "      <td>...</td>\n",
       "      <td>...</td>\n",
       "      <td>...</td>\n",
       "    </tr>\n",
       "    <tr>\n",
       "      <th>351</th>\n",
       "      <td>08055</td>\n",
       "      <td>1.0</td>\n",
       "      <td>-0.000000</td>\n",
       "      <td>-1.000000</td>\n",
       "      <td>160.0</td>\n",
       "      <td>0.0</td>\n",
       "      <td>0.0</td>\n",
       "    </tr>\n",
       "    <tr>\n",
       "      <th>352</th>\n",
       "      <td>08057</td>\n",
       "      <td>1.0</td>\n",
       "      <td>-0.000000</td>\n",
       "      <td>-1.000000</td>\n",
       "      <td>710.0</td>\n",
       "      <td>0.0</td>\n",
       "      <td>0.0</td>\n",
       "    </tr>\n",
       "    <tr>\n",
       "      <th>353</th>\n",
       "      <td>18915</td>\n",
       "      <td>1.0</td>\n",
       "      <td>-0.000000</td>\n",
       "      <td>-1.000000</td>\n",
       "      <td>111.0</td>\n",
       "      <td>0.0</td>\n",
       "      <td>0.0</td>\n",
       "    </tr>\n",
       "    <tr>\n",
       "      <th>354</th>\n",
       "      <td>33771</td>\n",
       "      <td>1.0</td>\n",
       "      <td>-0.000000</td>\n",
       "      <td>-1.000000</td>\n",
       "      <td>572.0</td>\n",
       "      <td>0.0</td>\n",
       "      <td>0.0</td>\n",
       "    </tr>\n",
       "    <tr>\n",
       "      <th>355</th>\n",
       "      <td>70037</td>\n",
       "      <td>1.0</td>\n",
       "      <td>-0.000000</td>\n",
       "      <td>-1.000000</td>\n",
       "      <td>79.0</td>\n",
       "      <td>0.0</td>\n",
       "      <td>0.0</td>\n",
       "    </tr>\n",
       "  </tbody>\n",
       "</table>\n",
       "<p>356 rows × 7 columns</p>\n",
       "</div>"
      ],
      "text/plain": [
       "    postal_code  density   entropy  competitiveness  area_pop  accessibility  \\\n",
       "0         46225      5.0  1.609438        -0.200000    1890.0            0.0   \n",
       "1         46037      5.0  1.609438        -0.200000    1972.0            0.0   \n",
       "2         33618     12.0  2.484907        -0.083333    3630.0            0.0   \n",
       "3         33609     11.0  2.397895        -0.090909    4551.0            0.0   \n",
       "4         63126      3.0  1.098612        -0.333333     492.0            0.0   \n",
       "..          ...      ...       ...              ...       ...            ...   \n",
       "351       08055      1.0 -0.000000        -1.000000     160.0            0.0   \n",
       "352       08057      1.0 -0.000000        -1.000000     710.0            0.0   \n",
       "353       18915      1.0 -0.000000        -1.000000     111.0            0.0   \n",
       "354       33771      1.0 -0.000000        -1.000000     572.0            0.0   \n",
       "355       70037      1.0 -0.000000        -1.000000      79.0            0.0   \n",
       "\n",
       "     complementary  \n",
       "0              0.0  \n",
       "1              0.0  \n",
       "2              0.0  \n",
       "3              0.0  \n",
       "4              0.0  \n",
       "..             ...  \n",
       "351            0.0  \n",
       "352            0.0  \n",
       "353            0.0  \n",
       "354            0.0  \n",
       "355            0.0  \n",
       "\n",
       "[356 rows x 7 columns]"
      ]
     },
     "execution_count": 31,
     "metadata": {},
     "output_type": "execute_result"
    }
   ],
   "source": [
    "# postal code and feature dict\n",
    "postal_code_feature_dict = {}\n",
    "\n",
    "for postal in Counter(df.postal_code):\n",
    "    postal_code_feature_dict[postal]={}\n",
    "    postal_code_feature_dict[postal]['density'] = df.loc[df['postal_code']==postal]['density'].iloc[0]\n",
    "    postal_code_feature_dict[postal]['entropy'] = df.loc[df['postal_code']==postal]['entropy'].iloc[0]\n",
    "    postal_code_feature_dict[postal]['competitiveness'] = df.loc[df['postal_code']==postal]['competitiveness'].iloc[0]\n",
    "    postal_code_feature_dict[postal]['area_pop'] = df.loc[df['postal_code']==postal]['area_pop'].iloc[0]\n",
    "    postal_code_feature_dict[postal]['accessibility'] = df.loc[df['postal_code']==postal]['accessibility'].iloc[0]\n",
    "    postal_code_feature_dict[postal]['complementary'] = df.loc[df['postal_code']==postal]['complementary'].iloc[0]\n",
    "\n",
    "pd.DataFrame(postal_code_feature_dict).T.reset_index().rename(columns={'index': 'postal_code'})"
   ]
  },
  {
   "cell_type": "code",
   "execution_count": 32,
   "metadata": {
    "ExecuteTime": {
     "end_time": "2023-04-12T08:20:21.250508Z",
     "start_time": "2023-04-12T08:20:12.371716Z"
    }
   },
   "outputs": [
    {
     "name": "stderr",
     "output_type": "stream",
     "text": [
      "/home/adam/.local/lib/python3.7/site-packages/ipykernel_launcher.py:43: SettingWithCopyWarning: \n",
      "A value is trying to be set on a copy of a slice from a DataFrame.\n",
      "Try using .loc[row_indexer,col_indexer] = value instead\n",
      "\n",
      "See the caveats in the documentation: https://pandas.pydata.org/pandas-docs/stable/user_guide/indexing.html#returning-a-view-versus-a-copy\n",
      "/home/adam/.local/lib/python3.7/site-packages/ipykernel_launcher.py:44: SettingWithCopyWarning: \n",
      "A value is trying to be set on a copy of a slice from a DataFrame.\n",
      "Try using .loc[row_indexer,col_indexer] = value instead\n",
      "\n",
      "See the caveats in the documentation: https://pandas.pydata.org/pandas-docs/stable/user_guide/indexing.html#returning-a-view-versus-a-copy\n",
      "/home/adam/.local/lib/python3.7/site-packages/ipykernel_launcher.py:58: SettingWithCopyWarning: \n",
      "A value is trying to be set on a copy of a slice from a DataFrame.\n",
      "Try using .loc[row_indexer,col_indexer] = value instead\n",
      "\n",
      "See the caveats in the documentation: https://pandas.pydata.org/pandas-docs/stable/user_guide/indexing.html#returning-a-view-versus-a-copy\n",
      "/home/adam/.local/lib/python3.7/site-packages/ipykernel_launcher.py:59: SettingWithCopyWarning: \n",
      "A value is trying to be set on a copy of a slice from a DataFrame.\n",
      "Try using .loc[row_indexer,col_indexer] = value instead\n",
      "\n",
      "See the caveats in the documentation: https://pandas.pydata.org/pandas-docs/stable/user_guide/indexing.html#returning-a-view-versus-a-copy\n"
     ]
    }
   ],
   "source": [
    "# POINTWISE\n",
    "# split train test \n",
    "# 拿每一個餐廳一半的分店當作 testing set (雖然大部分只有兩家分店)\n",
    "\n",
    "cnt = 0\n",
    "train_df = pd.DataFrame()\n",
    "test_df = pd.DataFrame()\n",
    "\n",
    "for i in Counter(df.name):\n",
    "    \n",
    "    tmp = new_df[new_df.name==i]\n",
    "    if len(tmp) %2 ==0:\n",
    "        row_count = int(len(tmp)/2)\n",
    "    else:\n",
    "        row_count = int(len(tmp)/2)+1\n",
    "    tmp_train = tmp.iloc[:row_count,:]\n",
    "    tmp_test = tmp.iloc[row_count:,:]\n",
    "    \n",
    "    other_places = pd.DataFrame(postal_code_feature_dict).T.reset_index().rename(columns={'index': 'postal_code'})\n",
    "    other_places = other_places.sort_values(['postal_code'],\n",
    "              ascending = [True]).reset_index(drop=True)\n",
    "    \n",
    "    ############################## reconstruct ################################\n",
    "    postal_codes_list = list(other_places.postal_code)\n",
    "    \n",
    "    for j in Counter(tmp_train.postal_code):\n",
    "        postal_codes_list.remove(j)\n",
    "    \n",
    "    for j in Counter(tmp_test.postal_code):\n",
    "        postal_codes_list.remove(j)\n",
    "\n",
    "    ## train \n",
    "    for j in Counter(tmp_train.postal_code):\n",
    "        cnt = 0\n",
    "        concat_index =[]\n",
    "        for k in range(len(other_places)):\n",
    "            if cnt <5:\n",
    "                if other_places.postal_code[k] in postal_codes_list and abs(int(other_places.postal_code[k])-int(j)) <= 10000:\n",
    "                    postal_codes_list.remove(other_places.postal_code[k])\n",
    "                    cnt+=1\n",
    "                    concat_index.append(k)\n",
    "        others = other_places.iloc[concat_index]\n",
    "        others['relevance'] = 0\n",
    "        others['name'] = i\n",
    "        tmp_train = pd.concat([tmp_train ,others ])\n",
    "    \n",
    "    ## test \n",
    "    for j in Counter(tmp_test.postal_code):\n",
    "        cnt = 0\n",
    "        concat_index =[]\n",
    "        for k in range(len(other_places)):\n",
    "            if cnt <5:\n",
    "                if other_places.postal_code[k] in postal_codes_list and abs(int(other_places.postal_code[k])-int(j)) <= 10000:\n",
    "                    postal_codes_list.remove(other_places.postal_code[k])\n",
    "                    cnt+=1\n",
    "                    concat_index.append(k)\n",
    "        others = other_places.iloc[concat_index]\n",
    "        others['relevance'] = 0\n",
    "        others['name'] = i\n",
    "        tmp_test = pd.concat([tmp_test ,others ])\n",
    "    \n",
    "    train_df =  pd.concat([train_df ,tmp_train ])\n",
    "    test_df =  pd.concat([test_df ,tmp_test ])\n",
    "print(f'Finished constructing....  train : {len(Counter(train_df.name))} test : {len(Counter(test_df.name))}')"
   ]
  },
  {
   "cell_type": "code",
   "execution_count": 37,
   "metadata": {
    "ExecuteTime": {
     "end_time": "2023-04-12T08:22:18.509855Z",
     "start_time": "2023-04-12T08:22:18.499517Z"
    }
   },
   "outputs": [],
   "source": [
    "# for i in ['density', 'entropy', 'competitiveness','area_pop', 'accessibility','complementary','relevance']:\n",
    "#     train_df[i] = train_df[i].astype('float')\n",
    "#     test_df[i] = test_df[i].astype('float')\n",
    "# train_df.to_pickle('/home/adam/Steph_C/my_thesis/data/Train_by_postoal_code_without_review_pointwise.pkl')\n",
    "# test_df.to_pickle('/home/adam/Steph_C/my_thesis/data/Test_by_postoal_code_without_review_pointwise.pkl')"
   ]
  },
  {
   "cell_type": "code",
   "execution_count": 54,
   "metadata": {
    "ExecuteTime": {
     "end_time": "2023-04-12T09:38:53.983208Z",
     "start_time": "2023-04-12T09:38:48.505874Z"
    }
   },
   "outputs": [
    {
     "name": "stderr",
     "output_type": "stream",
     "text": [
      "/home/adam/.local/lib/python3.7/site-packages/ipykernel_launcher.py:39: SettingWithCopyWarning: \n",
      "A value is trying to be set on a copy of a slice from a DataFrame\n",
      "\n",
      "See the caveats in the documentation: https://pandas.pydata.org/pandas-docs/stable/user_guide/indexing.html#returning-a-view-versus-a-copy\n",
      "/home/adam/.local/lib/python3.7/site-packages/ipykernel_launcher.py:40: SettingWithCopyWarning: \n",
      "A value is trying to be set on a copy of a slice from a DataFrame\n",
      "\n",
      "See the caveats in the documentation: https://pandas.pydata.org/pandas-docs/stable/user_guide/indexing.html#returning-a-view-versus-a-copy\n",
      "/home/adam/.local/lib/python3.7/site-packages/ipykernel_launcher.py:51: SettingWithCopyWarning: \n",
      "A value is trying to be set on a copy of a slice from a DataFrame\n",
      "\n",
      "See the caveats in the documentation: https://pandas.pydata.org/pandas-docs/stable/user_guide/indexing.html#returning-a-view-versus-a-copy\n",
      "/home/adam/.local/lib/python3.7/site-packages/ipykernel_launcher.py:52: SettingWithCopyWarning: \n",
      "A value is trying to be set on a copy of a slice from a DataFrame\n",
      "\n",
      "See the caveats in the documentation: https://pandas.pydata.org/pandas-docs/stable/user_guide/indexing.html#returning-a-view-versus-a-copy\n"
     ]
    },
    {
     "name": "stdout",
     "output_type": "stream",
     "text": [
      "Finished constructing....  train : 565 test : 565\n"
     ]
    }
   ],
   "source": [
    "# PAIRWISE\n",
    "# split train test \n",
    "# 拿每一個餐廳一半的分店當作 testing set (雖然大部分只有兩家分店)\n",
    "\n",
    "cnt = 0\n",
    "train_df = pd.DataFrame()\n",
    "test_df = pd.DataFrame()\n",
    "\n",
    "for i in Counter(df.name):\n",
    "    tmp = new_df[new_df.name==i]\n",
    "    if len(tmp) %2 ==0:\n",
    "        row_count = int(len(tmp)/2)\n",
    "    else:\n",
    "        row_count = int(len(tmp)/2)+1\n",
    "    tmp_train = tmp.iloc[:row_count,:]\n",
    "    tmp_test = tmp.iloc[row_count:,:]\n",
    "    \n",
    "    other_places = pd.DataFrame(postal_code_feature_dict).T.reset_index().rename(columns={'index': 'postal_code'})\n",
    "    other_places = other_places.sort_values(['postal_code'],\n",
    "              ascending = [True]).reset_index(drop=True)\n",
    "    \n",
    "    ############################## reconstruct ################################\n",
    "    postal_codes_list = list(other_places.postal_code)\n",
    "    \n",
    "    for j in Counter(tmp_train.postal_code):\n",
    "        postal_codes_list.remove(j)\n",
    "    \n",
    "    for j in Counter(tmp_test.postal_code):\n",
    "        postal_codes_list.remove(j)\n",
    "\n",
    "    ## train \n",
    "    tmp_train = tmp_train.reset_index(drop=True)\n",
    "    tmp_train['pair_relevance'] =''\n",
    "    for j in range(len(tmp_train)):\n",
    "        pair_list = []\n",
    "        pair_list.append(tmp_train.postal_code[j])\n",
    "        other_loc = [x for x in postal_codes_list if abs(int(x) - int(pair_list[0])) <=3000][0]\n",
    "        pair_list.append(other_loc)\n",
    "        tmp_train.postal_code[j] = pair_list\n",
    "        tmp_train.pair_relevance[j] = [1,0]\n",
    "        postal_codes_list.remove(other_loc)\n",
    "    \n",
    "    ## test \n",
    "    tmp_test = tmp_test.reset_index(drop=True)\n",
    "    tmp_test['pair_relevance'] =''\n",
    "    for j in range(len(tmp_test)):\n",
    "        pair_list = []\n",
    "        pair_list.append(tmp_test.postal_code[j])\n",
    "        other_loc = [x for x in postal_codes_list if abs(int(x) - int(pair_list[0])) <=3000][0]\n",
    "        pair_list.append(other_loc)\n",
    "        tmp_test.postal_code[j] = pair_list\n",
    "        tmp_test.pair_relevance[j] = [1,0]\n",
    "        postal_codes_list.remove(other_loc)\n",
    "    \n",
    "    train_df =  pd.concat([train_df ,tmp_train ])\n",
    "    test_df =  pd.concat([test_df ,tmp_test ])\n",
    "print(f'Finished constructing....  train : {len(Counter(train_df.name))} test : {len(Counter(test_df.name))}')"
   ]
  },
  {
   "cell_type": "code",
   "execution_count": 56,
   "metadata": {
    "ExecuteTime": {
     "end_time": "2023-04-12T09:39:26.723220Z",
     "start_time": "2023-04-12T09:39:26.712973Z"
    }
   },
   "outputs": [],
   "source": [
    "for i in ['density', 'entropy', 'competitiveness','area_pop', 'accessibility','complementary','relevance']:\n",
    "    train_df[i] = train_df[i].astype('float')\n",
    "    test_df[i] = test_df[i].astype('float')\n",
    "train_df.to_pickle('/home/adam/Steph_C/my_thesis/data/Train_by_postoal_code_without_review_pairwise.pkl')\n",
    "test_df.to_pickle('/home/adam/Steph_C/my_thesis/data/Test_by_postoal_code_without_review_pairwise.pkl')"
   ]
  },
  {
   "cell_type": "code",
   "execution_count": null,
   "metadata": {},
   "outputs": [],
   "source": []
  }
 ],
 "metadata": {
  "kernelspec": {
   "display_name": "steph-env",
   "language": "python",
   "name": "steph-env"
  },
  "language_info": {
   "codemirror_mode": {
    "name": "ipython",
    "version": 3
   },
   "file_extension": ".py",
   "mimetype": "text/x-python",
   "name": "python",
   "nbconvert_exporter": "python",
   "pygments_lexer": "ipython3",
   "version": "3.7.5"
  },
  "toc": {
   "base_numbering": 1,
   "nav_menu": {},
   "number_sections": true,
   "sideBar": true,
   "skip_h1_title": false,
   "title_cell": "Table of Contents",
   "title_sidebar": "Contents",
   "toc_cell": false,
   "toc_position": {},
   "toc_section_display": true,
   "toc_window_display": false
  },
  "varInspector": {
   "cols": {
    "lenName": 16,
    "lenType": 16,
    "lenVar": 40
   },
   "kernels_config": {
    "python": {
     "delete_cmd_postfix": "",
     "delete_cmd_prefix": "del ",
     "library": "var_list.py",
     "varRefreshCmd": "print(var_dic_list())"
    },
    "r": {
     "delete_cmd_postfix": ") ",
     "delete_cmd_prefix": "rm(",
     "library": "var_list.r",
     "varRefreshCmd": "cat(var_dic_list()) "
    }
   },
   "types_to_exclude": [
    "module",
    "function",
    "builtin_function_or_method",
    "instance",
    "_Feature"
   ],
   "window_display": false
  }
 },
 "nbformat": 4,
 "nbformat_minor": 2
}
