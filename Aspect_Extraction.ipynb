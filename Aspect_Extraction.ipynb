{
 "cells": [
  {
   "cell_type": "code",
   "execution_count": 1,
   "metadata": {},
   "outputs": [
    {
     "name": "stderr",
     "output_type": "stream",
     "text": [
      "Matplotlib created a temporary config/cache directory at /tmp/matplotlib-w99o4k8r because the default path (/home/emma/.config/matplotlib) is not a writable directory; it is highly recommended to set the MPLCONFIGDIR environment variable to a writable directory, in particular to speed up the import of Matplotlib and to better support multiprocessing.\n"
     ]
    },
    {
     "name": "stdout",
     "output_type": "stream",
     "text": [
      "Version 0.8.7.4 of metric_visualizer is outdated. Version 0.9.7 was released Wednesday April 12, 2023.\n",
      "Remote ABSADataset version: 2022.10.25 Local ABSADatasets version: N.A.\n",
      "Unknown local version for ABSADatasets, please check the latest version of ABSADatasets at https://github.com/yangheng95/ABSADatasets\n",
      "Version 1.9.0 of pyabsa is outdated. Version 2.3.1 was released Saturday April 15, 2023.\n",
      "\u001b[31mcheck release notes at https://github.com/yangheng95/PyABSA/blob/release/release-note.json\u001b[0m\n"
     ]
    },
    {
     "ename": "ImportError",
     "evalue": "cannot import name 'AspectTermExtraction'",
     "output_type": "error",
     "traceback": [
      "\u001b[0;31m---------------------------------------------------------------------------\u001b[0m",
      "\u001b[0;31mImportError\u001b[0m                               Traceback (most recent call last)",
      "\u001b[0;32m<ipython-input-1-1ab54c68e862>\u001b[0m in \u001b[0;36m<module>\u001b[0;34m\u001b[0m\n\u001b[0;32m----> 1\u001b[0;31m \u001b[0;32mfrom\u001b[0m \u001b[0mpyabsa\u001b[0m \u001b[0;32mimport\u001b[0m \u001b[0mAspectTermExtraction\u001b[0m \u001b[0;32mas\u001b[0m \u001b[0mATEPC\u001b[0m\u001b[0;34m,\u001b[0m \u001b[0mavailable_checkpoints\u001b[0m\u001b[0;34m\u001b[0m\u001b[0;34m\u001b[0m\u001b[0m\n\u001b[0m\u001b[1;32m      2\u001b[0m \u001b[0;34m\u001b[0m\u001b[0m\n\u001b[1;32m      3\u001b[0m \u001b[0;31m# you can view all available checkpoints by calling available_checkpoints()\u001b[0m\u001b[0;34m\u001b[0m\u001b[0;34m\u001b[0m\u001b[0;34m\u001b[0m\u001b[0m\n\u001b[1;32m      4\u001b[0m \u001b[0mcheckpoint_map\u001b[0m \u001b[0;34m=\u001b[0m \u001b[0mavailable_checkpoints\u001b[0m\u001b[0;34m(\u001b[0m\u001b[0;34m)\u001b[0m\u001b[0;34m\u001b[0m\u001b[0;34m\u001b[0m\u001b[0m\n\u001b[1;32m      5\u001b[0m \u001b[0;34m\u001b[0m\u001b[0m\n",
      "\u001b[0;31mImportError\u001b[0m: cannot import name 'AspectTermExtraction'"
     ]
    }
   ],
   "source": [
    "from pyabsa import AspectTermExtraction as ATEPC, available_checkpoints\n",
    "\n",
    "# you can view all available checkpoints by calling available_checkpoints()\n",
    "checkpoint_map = available_checkpoints()\n",
    "\n",
    "aspect_extractor = ATEPC.AspectExtractor('multilingual',\n",
    "                                         auto_device=True,  # False means load model on CPU\n",
    "                                         cal_perplexity=True,\n",
    "                                         )\n",
    "\n",
    "# instance inference\n",
    "aspect_extractor.predict(['I love this movie, it is so great!'],\n",
    "                         save_result=True,\n",
    "                         print_result=True,  # print the result\n",
    "                         ignore_error=True,  # ignore the error when the model cannot predict the input\n",
    "                         )\n",
    "\n",
    "inference_source = ATEPC.ATEPCDatasetList.Restaurant16\n",
    "atepc_result = aspect_extractor.batch_predict(target_file=inference_source,  #\n",
    "                                              save_result=True,\n",
    "                                              print_result=True,  # print the result\n",
    "                                              pred_sentiment=True,  # Predict the sentiment of extracted aspect terms\n",
    "                                              )\n",
    "\n",
    "print(atepc_result)\n",
    "\n"
   ]
  },
  {
   "cell_type": "code",
   "execution_count": null,
   "metadata": {},
   "outputs": [],
   "source": []
  }
 ],
 "metadata": {
  "kernelspec": {
   "display_name": "steph_env",
   "language": "python",
   "name": "steph_env"
  },
  "orig_nbformat": 4
 },
 "nbformat": 4,
 "nbformat_minor": 2
}
