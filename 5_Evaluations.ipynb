{
 "cells": [
  {
   "cell_type": "markdown",
   "id": "bound-moore",
   "metadata": {},
   "source": [
    "# Precision and Recall\n",
    "* Precision@k = (# of recommended items @k that are relevant) / (# of recommended items @k)\n",
    "* Recall@k = (# of recommended items @k that are relevant) / (total # of relevant items)"
   ]
  },
  {
   "cell_type": "code",
   "execution_count": 1,
   "id": "fitting-enterprise",
   "metadata": {
    "ExecuteTime": {
     "end_time": "2023-04-08T09:11:05.920837Z",
     "start_time": "2023-04-08T09:11:05.866345Z"
    }
   },
   "outputs": [
    {
     "name": "stdout",
     "output_type": "stream",
     "text": [
      "['j', 'e', 'g', 'b', 'h', 'c', 'f', 'a', 'd', 'i']\n"
     ]
    }
   ],
   "source": [
    "import random\n",
    "import numpy as np\n",
    "\n",
    "mylist = ['a','b','c','d','e','f','g','h','i','j']\n",
    "random.shuffle(mylist)\n",
    "print(mylist)"
   ]
  },
  {
   "cell_type": "code",
   "execution_count": 2,
   "id": "fuzzy-filling",
   "metadata": {
    "ExecuteTime": {
     "end_time": "2023-04-08T09:11:05.924486Z",
     "start_time": "2023-04-08T09:11:05.922122Z"
    }
   },
   "outputs": [],
   "source": [
    "pred_list = [['h', 'g', 'a', 'i', 'c'],['d', 'e', 'i', 'c', 'j']]\n",
    "\n",
    "true_list = [['i','j'],['a','c','i']]\n",
    "relevance_score = [[2,1],[5,3,2]]"
   ]
  },
  {
   "cell_type": "code",
   "execution_count": 10,
   "id": "completed-split",
   "metadata": {
    "ExecuteTime": {
     "end_time": "2023-04-08T09:11:05.930408Z",
     "start_time": "2023-04-08T09:11:05.925543Z"
    }
   },
   "outputs": [],
   "source": [
    "def _precision(predictions , actuals, k = None):\n",
    "    \n",
    "    \"\"\"\n",
    "    Calculate the precision at k\n",
    "    \n",
    "    Returns: a list of precisions\n",
    "    \"\"\"\n",
    "    \n",
    "    precisions =[]\n",
    "    if k != None:\n",
    "        print('k has number')\n",
    "        prediction =  predictions[:k]\n",
    "\n",
    "    for i in range(len(predictions)):\n",
    "        score = 0\n",
    "        for j in predictions[i]:\n",
    "            if j in actuals[i]:\n",
    "                score+=1\n",
    "        precisions.append(score/len(predictions[i]))\n",
    "            \n",
    "    return precisions\n",
    "    \n",
    "\n",
    "def _recall(predictions , actuals, k = None):\n",
    "    \n",
    "    \"\"\"\n",
    "    Calculate the precision at k\n",
    "    \n",
    "    Returns: a list of recalls\n",
    "    \"\"\"\n",
    "    recalls =[]\n",
    "    if not k:\n",
    "        prediction =  predictions[:k]\n",
    "    \n",
    "    for i in range(len(predictions)):\n",
    "        score = 0\n",
    "        for j in range(len(predictions[i])):\n",
    "            if predictions[i][j] in actuals[i]:\n",
    "                score+=1\n",
    "        recalls.append(score/len(actuals[i]))\n",
    "    \n",
    "    return recalls\n"
   ]
  },
  {
   "cell_type": "code",
   "execution_count": 11,
   "id": "regional-cowboy",
   "metadata": {},
   "outputs": [
    {
     "name": "stdout",
     "output_type": "stream",
     "text": [
      "k has number\n",
      "k has number\n",
      "[0.2, 0.4] [0.2, 0.4]\n"
     ]
    }
   ],
   "source": [
    "print(_precision(pred_list , true_list , k=3), _precision(pred_list , true_list , k=1))"
   ]
  },
  {
   "cell_type": "code",
   "execution_count": null,
   "id": "fewer-canvas",
   "metadata": {
    "ExecuteTime": {
     "end_time": "2023-04-08T09:11:05.935918Z",
     "start_time": "2023-04-08T09:11:05.931781Z"
    }
   },
   "outputs": [],
   "source": [
    "def calculate_mrr(predictions, actuals):\n",
    "    \"\"\"\n",
    "    Calculate the mean reciprocal rank (MRR) for a set of predictions and actual values.\n",
    "    \n",
    "    Parameters:\n",
    "    predictions (list of lists): A list of predicted rankings sorted by probability.\n",
    "    actual (list of lists): A list of actual rankings sorted by relevance.\n",
    "    \n",
    "    Returns:    \n",
    "    float: A list of MRR scores.\n",
    "    \"\"\"\n",
    "    mrr_list = []\n",
    "    for i in range(len(predictions)):\n",
    "        reciprocal_rank = 0\n",
    "        if actuals[i][0] in predictions[i]:\n",
    "            reciprocal_rank = 1/ (predictions[i].index(actuals[i][0]) + 1)\n",
    "        mrr_list.append(reciprocal_rank)\n",
    "    return mrr_list"
   ]
  },
  {
   "cell_type": "code",
   "execution_count": null,
   "id": "official-wright",
   "metadata": {
    "ExecuteTime": {
     "end_time": "2023-04-08T09:11:05.940743Z",
     "start_time": "2023-04-08T09:11:05.936974Z"
    }
   },
   "outputs": [],
   "source": [
    "def calculate_map( predictions , actuals, k=None):\n",
    "    \"\"\"\n",
    "    Calculate the mean average precision (MAP) for a set of queries.\n",
    "\n",
    "    Parameters:\n",
    "    actual (list of sets or lists): A list of sets or lists of the actual relevant items for each query.\n",
    "    predicted (list of lists): A list of lists of predicted items for each query.\n",
    "    k (int): The maximum number of predicted items to consider for each query.\n",
    "\n",
    "    Returns:\n",
    "    float: A list of MAP scores.\n",
    "    \"\"\"\n",
    "    \n",
    "    map_list = []\n",
    "    \n",
    "    if not k:\n",
    "        prediction =  predictions[:k]\n",
    "\n",
    "    for i in range(len(predictions)):\n",
    "        \n",
    "        ap_list = []\n",
    "        hit = 0 \n",
    "        cnt = 0 \n",
    "        \n",
    "        for j in predictions[i]:\n",
    "            if j in actuals[i]:\n",
    "                hit+=1\n",
    "                cnt+=1\n",
    "                ap_list.append(hit/cnt)\n",
    "            else:\n",
    "                cnt+=1\n",
    "        map_list.append(np.mean(ap_list))\n",
    "    \n",
    "    return map_list\n",
    "                "
   ]
  },
  {
   "cell_type": "code",
   "execution_count": null,
   "id": "lonely-prefix",
   "metadata": {
    "ExecuteTime": {
     "end_time": "2023-04-08T09:20:48.289516Z",
     "start_time": "2023-04-08T09:20:48.282836Z"
    }
   },
   "outputs": [],
   "source": [
    "def calculate_dcg_ndcg( predictions , actuals, rel ,k=None):\n",
    "    \"\"\"\n",
    "    Calculate the DCG@k , NDCG@k for a set of queries.\n",
    "\n",
    "    Parameters:\n",
    "    actual (list of sets or lists): A list of sets or lists of the actual relevant items for each query.\n",
    "    predicted (list of lists): A list of lists of predicted items for each query.\n",
    "    k (int): The maximum number of predicted items to consider for each query.\n",
    "\n",
    "    Returns:\n",
    "    float: A list of DCG , NDCG scores.\n",
    "    \"\"\"\n",
    "    dcg_list = []\n",
    "    ndcg_list = []\n",
    "    \n",
    "    if not k:\n",
    "        predictions = predictions[:k]\n",
    "    \n",
    "    for i in range(len(predictions)):\n",
    "        dcg =0\n",
    "        idcg =0\n",
    "        \n",
    "        for j in range(len(actuals[i])):\n",
    "            if actuals[i][j] in apredictions[i]:\n",
    "                rank = predictions[i].index(actuals[i][j]) + 1\n",
    "                dcg += np.divide(float(rel[i][j]),np.log2(rank+1))\n",
    "                idcg += np.divide(float(rel[i][j]),np.log2((j+1)+1))\n",
    "                print(i ,j, actuals[i][j] , rank , dcg, idcg)\n",
    "        dcg_list.append(dcg)\n",
    "        ndcg_list.append(np.divide(dcg,idcg))\n",
    "        \n",
    "    return dcg_list , ndcg_list"
   ]
  },
  {
   "cell_type": "code",
   "execution_count": null,
   "id": "environmental-czech",
   "metadata": {
    "ExecuteTime": {
     "end_time": "2023-04-08T09:20:48.886643Z",
     "start_time": "2023-04-08T09:20:48.879846Z"
    }
   },
   "outputs": [],
   "source": [
    "mrr_list = calculate_mrr(pred_list , true_list)\n",
    "map_list = calculate_map(pred_list , true_list)\n",
    "dcg_list , ndcg_list = calculate_dcg_ndcg(pred_list , true_list , relevance_score)\n",
    "precision_list = _precision(pred_list , true_list)\n",
    "recall_list = _recall(pred_list , true_list)"
   ]
  },
  {
   "cell_type": "code",
   "execution_count": null,
   "id": "valued-turtle",
   "metadata": {
    "ExecuteTime": {
     "end_time": "2023-04-08T09:19:11.103999Z",
     "start_time": "2023-04-08T09:19:11.098428Z"
    }
   },
   "outputs": [],
   "source": [
    "dcg_list , ndcg_list"
   ]
  },
  {
   "cell_type": "code",
   "execution_count": null,
   "id": "continued-making",
   "metadata": {
    "ExecuteTime": {
     "end_time": "2023-04-08T09:19:14.334812Z",
     "start_time": "2023-04-08T09:19:14.329067Z"
    }
   },
   "outputs": [],
   "source": [
    "np.mean(dcg_list), np.mean(ndcg_list)"
   ]
  },
  {
   "cell_type": "code",
   "execution_count": 2,
   "id": "generous-leader",
   "metadata": {
    "ExecuteTime": {
     "end_time": "2023-05-07T13:44:48.821292Z",
     "start_time": "2023-05-07T13:44:48.816841Z"
    }
   },
   "outputs": [
    {
     "data": {
      "text/plain": [
       "False"
      ]
     },
     "execution_count": 2,
     "metadata": {},
     "output_type": "execute_result"
    }
   ],
   "source": [
    "import torch\n",
    "torch.cuda.is_available()"
   ]
  },
  {
   "cell_type": "code",
   "execution_count": 3,
   "id": "front-chicago",
   "metadata": {
    "ExecuteTime": {
     "end_time": "2023-05-07T13:42:09.453809Z",
     "start_time": "2023-05-07T13:42:07.367530Z"
    }
   },
   "outputs": [
    {
     "name": "stdout",
     "output_type": "stream",
     "text": [
      "Looking in links: https://download.pytorch.org/whl/cu100/torch_stable.html\n",
      "Requirement already satisfied: torch==1.4.0 in /mnt/data/emma/bilab/Steph_C/steph_env/lib/python3.6/site-packages (1.4.0+cu100)\n",
      "Requirement already satisfied: torchvision==0.5.0 in /mnt/data/emma/bilab/Steph_C/steph_env/lib/python3.6/site-packages (0.5.0+cu100)\n",
      "Requirement already satisfied: six in /mnt/data/emma/bilab/Steph_C/steph_env/lib/python3.6/site-packages (from torchvision==0.5.0) (1.16.0)\n",
      "Requirement already satisfied: pillow>=4.1.1 in /mnt/data/emma/bilab/Steph_C/steph_env/lib/python3.6/site-packages (from torchvision==0.5.0) (8.4.0)\n",
      "Requirement already satisfied: numpy in /mnt/data/emma/bilab/Steph_C/steph_env/lib/python3.6/site-packages (from torchvision==0.5.0) (1.19.5)\n",
      "Note: you may need to restart the kernel to use updated packages.\n"
     ]
    }
   ],
   "source": [
    "pip install torch==1.4.0 torchvision==0.5.0 -f https://download.pytorch.org/whl/cu100/torch_stable.html"
   ]
  },
  {
   "cell_type": "code",
   "execution_count": 3,
   "id": "abroad-species",
   "metadata": {},
   "outputs": [
    {
     "name": "stdout",
     "output_type": "stream",
     "text": [
      "[0.2, 0.4]\n"
     ]
    }
   ],
   "source": [
    "from Evaluations import evaluation_metrics\n",
    "\n",
    "print(evaluation_metrics._precision(pred_list , true_list))"
   ]
  },
  {
   "cell_type": "code",
   "execution_count": null,
   "id": "a7423b5d",
   "metadata": {},
   "outputs": [],
   "source": []
  }
 ],
 "metadata": {
  "kernelspec": {
   "display_name": "steph_env",
   "language": "python",
   "name": "steph_env"
  },
  "language_info": {
   "codemirror_mode": {
    "name": "ipython",
    "version": 3
   },
   "file_extension": ".py",
   "mimetype": "text/x-python",
   "name": "python",
   "nbconvert_exporter": "python",
   "pygments_lexer": "ipython3",
   "version": "3.6.3"
  },
  "toc": {
   "base_numbering": 1,
   "nav_menu": {},
   "number_sections": true,
   "sideBar": true,
   "skip_h1_title": false,
   "title_cell": "Table of Contents",
   "title_sidebar": "Contents",
   "toc_cell": false,
   "toc_position": {},
   "toc_section_display": true,
   "toc_window_display": false
  },
  "varInspector": {
   "cols": {
    "lenName": 16,
    "lenType": 16,
    "lenVar": 40
   },
   "kernels_config": {
    "python": {
     "delete_cmd_postfix": "",
     "delete_cmd_prefix": "del ",
     "library": "var_list.py",
     "varRefreshCmd": "print(var_dic_list())"
    },
    "r": {
     "delete_cmd_postfix": ") ",
     "delete_cmd_prefix": "rm(",
     "library": "var_list.r",
     "varRefreshCmd": "cat(var_dic_list()) "
    }
   },
   "types_to_exclude": [
    "module",
    "function",
    "builtin_function_or_method",
    "instance",
    "_Feature"
   ],
   "window_display": false
  }
 },
 "nbformat": 4,
 "nbformat_minor": 5
}
