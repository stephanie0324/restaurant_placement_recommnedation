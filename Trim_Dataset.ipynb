{
 "cells": [
  {
   "cell_type": "markdown",
   "metadata": {},
   "source": [
    "# 論文資料及整理\n",
    "* YELP\n",
    "    * EDA\n",
    "    * 50 review above \n",
    "    * join business, check-in and tips"
   ]
  },
  {
   "cell_type": "markdown",
   "metadata": {},
   "source": [
    "# Import"
   ]
  },
  {
   "cell_type": "code",
   "execution_count": 2,
   "metadata": {
    "ExecuteTime": {
     "end_time": "2023-03-28T03:09:55.371572Z",
     "start_time": "2023-03-28T03:09:54.896745Z"
    }
   },
   "outputs": [],
   "source": [
    "import pandas as pd\n",
    "import json\n",
    "import numpy as np\n",
    "from collections import Counter\n",
    "import numpy as np\n",
    "import matplotlib.pyplot as plt"
   ]
  },
  {
   "cell_type": "code",
   "execution_count": 3,
   "metadata": {
    "ExecuteTime": {
     "end_time": "2023-03-28T03:09:55.380201Z",
     "start_time": "2023-03-28T03:09:55.378042Z"
    }
   },
   "outputs": [],
   "source": [
    "business_path = '/home/adam/Steph_C/my_thesis/Data/yelp/yelp_academic_dataset_business.json'\n",
    "checkin_path = '/home/adam/Steph_C/my_thesis/Data/yelp/yelp_academic_dataset_checkin.json'\n",
    "tip_path = '/home/adam/Steph_C/my_thesis/Data/yelp/yelp_academic_dataset_tip.json'\n",
    "review_path = '/home/adam/Steph_C/my_thesis/Data/yelp/yelp_academic_dataset_review.json'\n",
    "\n",
    "# pickle file\n",
    "business_pk = '/home/adam/Steph_C/my_thesis/Data/yelp/business.pkl'\n",
    "checkin_pk = '/home/adam/Steph_C/my_thesis/Data/yelp/checkin.pkl'\n",
    "tip_pk = '/home/adam/Steph_C/my_thesis/Data/yelp/tip.pkl'\n",
    "review_pk = '/home/adam/Steph_C/my_thesis/Data/yelp/review.pkl'\n",
    "final_pk = '/home/adam/Steph_C/my_thesis/Data/yelp/final.pkl'"
   ]
  },
  {
   "cell_type": "markdown",
   "metadata": {},
   "source": [
    "# Load Data"
   ]
  },
  {
   "cell_type": "code",
   "execution_count": 4,
   "metadata": {
    "ExecuteTime": {
     "end_time": "2023-03-28T03:09:55.833562Z",
     "start_time": "2023-03-28T03:09:55.828539Z"
    }
   },
   "outputs": [],
   "source": [
    "# # unhash this part if necessary\n",
    "\n",
    "# # load review data\n",
    "# r_dict = []\n",
    "\n",
    "# r_dtypes = {\"stars\": np.float16, \n",
    "#             \"useful\": np.int32, \n",
    "#             \"funny\": np.int32,\n",
    "#             \"cool\": np.int32,\n",
    "#            }\n",
    "# with open(review_path, \"r\") as f:\n",
    "#     reader = pd.read_json(f, orient=\"records\", lines=True, \n",
    "#                           dtype=r_dtypes, chunksize=1000)\n",
    "#     for chunk in reader:\n",
    "#.        # get 5 years data from '2018-2022'\n",
    "#         reduced_chunk = chunk.drop(columns=['review_id', 'user_id'])\\\n",
    "#                              .query(\"date >= '2018-1-01'\").query(\"date <= '2022-12-31'\")\n",
    "#         r_dict.append(reduced_chunk)\n",
    "    \n",
    "# r_dict = pd.concat(r_dict, ignore_index=True)\n",
    "\n",
    "# # load business data\n",
    "# b_dict =[]\n",
    "\n",
    "# with open(business_path, \"r\") as f:\n",
    "#     reader = pd.read_json(f, orient=\"records\", lines=True, chunksize=1000)\n",
    "        \n",
    "#     for chunk in reader:\n",
    "#         reduced_chunk = chunk.drop(\n",
    "#             columns=['latitude','longitude'])\n",
    "#         b_dict.append(reduced_chunk)\n",
    "    \n",
    "# b_dict = pd.concat(b_dict, ignore_index=True)\n",
    "\n",
    "# # load check-in data\n",
    "# c_dict =[]\n",
    "\n",
    "# with open(checkin_path, \"r\") as f:\n",
    "#     reader = pd.read_json(f, orient=\"records\", lines=True, chunksize=1000)\n",
    "        \n",
    "#     for chunk in reader:\n",
    "# #         reduced_chunk = chunk.drop(\n",
    "# #             columns=['postal_code','latitude','longitude','is_open','attributes','hours'])\n",
    "#         c_dict.append(chunk)\n",
    "    \n",
    "# c_dict = pd.concat(c_dict, ignore_index=True)\n",
    "\n",
    "# # load tip data\n",
    "# t_dict =[]\n",
    "\n",
    "# with open(tip_path, \"r\") as f:\n",
    "#     reader = pd.read_json(f, orient=\"records\", lines=True, chunksize=1000)\n",
    "        \n",
    "#     for chunk in reader:\n",
    "#         reduced_chunk = chunk.drop(\n",
    "#             columns=['user_id'])\n",
    "#         t_dict.append(reduced_chunk)\n",
    "    \n",
    "# t_dict = pd.concat(t_dict, ignore_index=True)"
   ]
  },
  {
   "cell_type": "code",
   "execution_count": 5,
   "metadata": {
    "ExecuteTime": {
     "end_time": "2023-03-28T03:09:56.584753Z",
     "start_time": "2023-03-28T03:09:56.579354Z"
    }
   },
   "outputs": [],
   "source": [
    "# business_df = pd.DataFrame(b_dict)\n",
    "# review_df = pd.DataFrame(r_dict)\n",
    "# checkin_df = pd.DataFrame(c_dict)\n",
    "# tip_df = pd.DataFrame(t_dict)"
   ]
  },
  {
   "cell_type": "code",
   "execution_count": 6,
   "metadata": {
    "ExecuteTime": {
     "end_time": "2023-03-28T03:09:56.882381Z",
     "start_time": "2023-03-28T03:09:56.877114Z"
    }
   },
   "outputs": [],
   "source": [
    "# review_df.to_pickle(\"../Data/yelp/review.pkl\")  \n",
    "# business_df.to_pickle(\"../Data/yelp/business.pkl\") \n",
    "# checkin_df.to_pickle(\"../Data/yelp/checkin.pkl\")  \n",
    "# tip_df.to_pickle(\"../Data/yelp/tip.pkl\")  "
   ]
  },
  {
   "cell_type": "markdown",
   "metadata": {
    "heading_collapsed": true
   },
   "source": [
    "# Join tables"
   ]
  },
  {
   "cell_type": "code",
   "execution_count": null,
   "metadata": {
    "hidden": true
   },
   "outputs": [],
   "source": [
    "# business_df = pd.read_pickle (business_pk)\n",
    "# review_df = pd.read_pickle(review_pk)\n",
    "# checkin_df = pd.read_pickle(checkin_pk)\n",
    "# tip_df = pd.read_pickle(tip_pk)\n",
    "\n",
    "# print shape\n",
    "# print(review_df.shape)\n",
    "# print(business_df.shape)\n",
    "# print(checkin_df.shape)\n",
    "# print(tip_df.shape)\n"
   ]
  },
  {
   "cell_type": "code",
   "execution_count": null,
   "metadata": {
    "hidden": true
   },
   "outputs": [],
   "source": [
    "#### All sorts of processing \n",
    "\n",
    "# # get 50 reviews above \n",
    "# review_df = review_df[review_df.groupby('business_id')['business_id'].transform('count')>50]\n",
    "# print(review_df.shape)\n",
    "\n",
    "# # get only the open stores\n",
    "# business_df = business_df[business_df.is_open==1]\n",
    "# print(business_df.shape)\n",
    "\n",
    "# # spread the check-in data\n",
    "# checkin_df = checkin_df.assign(date=checkin_df.date.str.split(','))\n",
    "# checkin_df = checkin_df.explode('date')\n",
    "# print(checkin_df.shape)"
   ]
  },
  {
   "cell_type": "code",
   "execution_count": null,
   "metadata": {
    "hidden": true
   },
   "outputs": [],
   "source": [
    "# # join tables\n",
    "# final_df = review_df.merge(business_df, on='business_id')"
   ]
  },
  {
   "cell_type": "code",
   "execution_count": null,
   "metadata": {
    "hidden": true
   },
   "outputs": [],
   "source": [
    "# drop not restaurants\n",
    "# drop_l = [final_df.business_id[i] for i in range(len(final_df))if 'Restaurant' not in final_df.categories[i] ]\n",
    "# drop_l = list(set(drop_l))\n",
    "\n",
    "# final_df = final_df[~final_df.business_id.isin(drop_l)]\n",
    "# final_df.shape\n",
    "\n",
    "# final_df.shape\n",
    "# final_df.to_pickle(\"../Data/yelp/final.pkl\")  \n"
   ]
  },
  {
   "cell_type": "markdown",
   "metadata": {
    "heading_collapsed": true
   },
   "source": [
    "# Trim Dataset"
   ]
  },
  {
   "cell_type": "code",
   "execution_count": 4,
   "metadata": {
    "ExecuteTime": {
     "end_time": "2023-03-28T03:10:03.341340Z",
     "start_time": "2023-03-28T03:10:02.159839Z"
    },
    "hidden": true
   },
   "outputs": [],
   "source": [
    "df = pd.read_pickle('/home/adam/Steph_C/Data/yelp/final.pkl')"
   ]
  },
  {
   "cell_type": "code",
   "execution_count": 5,
   "metadata": {
    "ExecuteTime": {
     "end_time": "2023-03-28T03:10:03.353151Z",
     "start_time": "2023-03-28T03:10:03.353142Z"
    },
    "hidden": true
   },
   "outputs": [
    {
     "data": {
      "text/plain": [
       "(1618930, 18)"
      ]
     },
     "execution_count": 5,
     "metadata": {},
     "output_type": "execute_result"
    }
   ],
   "source": [
    "df.shape"
   ]
  },
  {
   "cell_type": "code",
   "execution_count": 6,
   "metadata": {
    "ExecuteTime": {
     "end_time": "2023-03-28T03:10:03.798816Z",
     "start_time": "2023-03-28T03:10:03.791105Z"
    },
    "hidden": true
   },
   "outputs": [
    {
     "data": {
      "text/plain": [
       "Index(['business_id', 'stars_x', 'useful', 'funny', 'cool', 'text', 'date',\n",
       "       'name', 'address', 'city', 'state', 'postal_code', 'stars_y',\n",
       "       'review_count', 'is_open', 'attributes', 'categories', 'hours'],\n",
       "      dtype='object')"
      ]
     },
     "execution_count": 6,
     "metadata": {},
     "output_type": "execute_result"
    }
   ],
   "source": [
    "df.columns"
   ]
  },
  {
   "cell_type": "code",
   "execution_count": 8,
   "metadata": {},
   "outputs": [],
   "source": [
    "# calculate the city number of each state\n",
    "final_df = pd.DataFrame()\n",
    "for i in Counter(df.name):\n",
    "    tmp = df[df.name==i]\n",
    "    if len(Counter(tmp.postal_code))>1 and len(Counter(tmp.postal_code)) <=6:\n",
    "        final_df = pd.concat([final_df, tmp])\n",
    "    "
   ]
  },
  {
   "cell_type": "code",
   "execution_count": 11,
   "metadata": {},
   "outputs": [
    {
     "data": {
      "text/plain": [
       "566"
      ]
     },
     "execution_count": 11,
     "metadata": {},
     "output_type": "execute_result"
    }
   ],
   "source": [
    "len(Counter(final_df.name))"
   ]
  },
  {
   "cell_type": "code",
   "execution_count": 12,
   "metadata": {},
   "outputs": [],
   "source": [
    "final_df.to_pickle(\"../data/by_postal_code.pkl\")  "
   ]
  },
  {
   "cell_type": "code",
   "execution_count": null,
   "metadata": {},
   "outputs": [],
   "source": []
  }
 ],
 "metadata": {
  "kernelspec": {
   "display_name": "steph-env",
   "language": "python",
   "name": "steph-env"
  },
  "language_info": {
   "codemirror_mode": {
    "name": "ipython",
    "version": 3
   },
   "file_extension": ".py",
   "mimetype": "text/x-python",
   "name": "python",
   "nbconvert_exporter": "python",
   "pygments_lexer": "ipython3",
   "version": "3.7.5"
  },
  "toc": {
   "base_numbering": 1,
   "nav_menu": {},
   "number_sections": true,
   "sideBar": true,
   "skip_h1_title": false,
   "title_cell": "Table of Contents",
   "title_sidebar": "Contents",
   "toc_cell": false,
   "toc_position": {
    "height": "calc(100% - 180px)",
    "left": "10px",
    "top": "150px",
    "width": "288px"
   },
   "toc_section_display": true,
   "toc_window_display": true
  },
  "varInspector": {
   "cols": {
    "lenName": 16,
    "lenType": 16,
    "lenVar": 40
   },
   "kernels_config": {
    "python": {
     "delete_cmd_postfix": "",
     "delete_cmd_prefix": "del ",
     "library": "var_list.py",
     "varRefreshCmd": "print(var_dic_list())"
    },
    "r": {
     "delete_cmd_postfix": ") ",
     "delete_cmd_prefix": "rm(",
     "library": "var_list.r",
     "varRefreshCmd": "cat(var_dic_list()) "
    }
   },
   "types_to_exclude": [
    "module",
    "function",
    "builtin_function_or_method",
    "instance",
    "_Feature"
   ],
   "window_display": false
  },
  "vscode": {
   "interpreter": {
    "hash": "11959c651920e8805e8a1fc340b571d7e2a180d45b31b087818b28bdce119fc5"
   }
  }
 },
 "nbformat": 4,
 "nbformat_minor": 2
}
