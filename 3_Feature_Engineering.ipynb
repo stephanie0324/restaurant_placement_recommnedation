{
 "cells": [
  {
   "cell_type": "markdown",
   "id": "0e8d5b21",
   "metadata": {},
   "source": [
    "# Create the features DF\n",
    "* using by_postal_code dataset"
   ]
  },
  {
   "cell_type": "markdown",
   "id": "ec941861",
   "metadata": {},
   "source": [
    "# Import"
   ]
  },
  {
   "cell_type": "code",
   "execution_count": 1,
   "id": "b6b42150",
   "metadata": {
    "ExecuteTime": {
     "end_time": "2023-04-01T08:25:44.379282Z",
     "start_time": "2023-04-01T08:25:43.723865Z"
    }
   },
   "outputs": [],
   "source": [
    "import pandas as pd\n",
    "import json\n",
    "import numpy as np\n",
    "from collections import Counter\n",
    "import matplotlib.pyplot as plt\n",
    "import pickle\n",
    "import math \n",
    "\n",
    "from scipy import sparse as sp\n",
    "from sklearn.feature_extraction.text import CountVectorizer\n",
    "from sklearn.feature_extraction.text import TfidfTransformer\n",
    "from sklearn.pipeline import Pipeline\n",
    "from sklearn.preprocessing import LabelEncoder\n",
    "from sklearn.feature_selection import chi2\n",
    "from sklearn.feature_selection import SelectKBest"
   ]
  },
  {
   "cell_type": "code",
   "execution_count": 3,
   "id": "ba49a623",
   "metadata": {
    "ExecuteTime": {
     "end_time": "2023-04-01T08:25:49.387795Z",
     "start_time": "2023-04-01T08:25:49.033989Z"
    }
   },
   "outputs": [],
   "source": [
    "df = pd.read_pickle ('/home/adam/Steph_C/my_thesis/data/ORI_by_postal_code.pkl').reset_index(drop=True)\n",
    "# LDA_df = pd.read_pickle ('../data/LDA_training.pkl')"
   ]
  },
  {
   "cell_type": "code",
   "execution_count": 4,
   "id": "fca19685",
   "metadata": {
    "ExecuteTime": {
     "end_time": "2023-04-01T08:25:50.299705Z",
     "start_time": "2023-04-01T08:25:50.292614Z"
    }
   },
   "outputs": [
    {
     "data": {
      "text/plain": [
       "(209052, 18)"
      ]
     },
     "execution_count": 4,
     "metadata": {},
     "output_type": "execute_result"
    }
   ],
   "source": [
    "df.shape"
   ]
  },
  {
   "cell_type": "code",
   "execution_count": 5,
   "id": "d8948f9c",
   "metadata": {
    "ExecuteTime": {
     "end_time": "2023-04-01T08:25:51.024741Z",
     "start_time": "2023-04-01T08:25:51.019745Z"
    }
   },
   "outputs": [],
   "source": [
    "# LDA_df.shape"
   ]
  },
  {
   "cell_type": "code",
   "execution_count": 6,
   "id": "e36e7e38",
   "metadata": {
    "ExecuteTime": {
     "end_time": "2023-04-01T08:25:51.419079Z",
     "start_time": "2023-04-01T08:25:51.369335Z"
    }
   },
   "outputs": [
    {
     "data": {
      "text/html": [
       "<div>\n",
       "<style scoped>\n",
       "    .dataframe tbody tr th:only-of-type {\n",
       "        vertical-align: middle;\n",
       "    }\n",
       "\n",
       "    .dataframe tbody tr th {\n",
       "        vertical-align: top;\n",
       "    }\n",
       "\n",
       "    .dataframe thead th {\n",
       "        text-align: right;\n",
       "    }\n",
       "</style>\n",
       "<table border=\"1\" class=\"dataframe\">\n",
       "  <thead>\n",
       "    <tr style=\"text-align: right;\">\n",
       "      <th></th>\n",
       "      <th>business_id</th>\n",
       "      <th>stars_x</th>\n",
       "      <th>useful</th>\n",
       "      <th>funny</th>\n",
       "      <th>cool</th>\n",
       "      <th>text</th>\n",
       "      <th>date</th>\n",
       "      <th>name</th>\n",
       "      <th>address</th>\n",
       "      <th>city</th>\n",
       "      <th>state</th>\n",
       "      <th>postal_code</th>\n",
       "      <th>stars_y</th>\n",
       "      <th>review_count</th>\n",
       "      <th>is_open</th>\n",
       "      <th>attributes</th>\n",
       "      <th>categories</th>\n",
       "      <th>hours</th>\n",
       "    </tr>\n",
       "  </thead>\n",
       "  <tbody>\n",
       "    <tr>\n",
       "      <th>0</th>\n",
       "      <td>HTqXI5S2XcSlh_ylx9sE6g</td>\n",
       "      <td>5.0</td>\n",
       "      <td>1</td>\n",
       "      <td>1</td>\n",
       "      <td>1</td>\n",
       "      <td>I've only had the cannolis here but they are a...</td>\n",
       "      <td>2018-03-23 14:35:33</td>\n",
       "      <td>Termini Bros Bakery</td>\n",
       "      <td>12th St &amp; Filbert St</td>\n",
       "      <td>Philadelphia</td>\n",
       "      <td>PA</td>\n",
       "      <td>19107</td>\n",
       "      <td>4.0</td>\n",
       "      <td>263</td>\n",
       "      <td>1</td>\n",
       "      <td>{'RestaurantsPriceRange2': '2', 'BusinessParki...</td>\n",
       "      <td>Food, Restaurants, Bakeries</td>\n",
       "      <td>{'Monday': '10:0-18:0', 'Tuesday': '10:0-18:0'...</td>\n",
       "    </tr>\n",
       "    <tr>\n",
       "      <th>1</th>\n",
       "      <td>HTqXI5S2XcSlh_ylx9sE6g</td>\n",
       "      <td>5.0</td>\n",
       "      <td>0</td>\n",
       "      <td>0</td>\n",
       "      <td>0</td>\n",
       "      <td>It's all about the cannoli! Don't try to share...</td>\n",
       "      <td>2018-02-11 20:44:13</td>\n",
       "      <td>Termini Bros Bakery</td>\n",
       "      <td>12th St &amp; Filbert St</td>\n",
       "      <td>Philadelphia</td>\n",
       "      <td>PA</td>\n",
       "      <td>19107</td>\n",
       "      <td>4.0</td>\n",
       "      <td>263</td>\n",
       "      <td>1</td>\n",
       "      <td>{'RestaurantsPriceRange2': '2', 'BusinessParki...</td>\n",
       "      <td>Food, Restaurants, Bakeries</td>\n",
       "      <td>{'Monday': '10:0-18:0', 'Tuesday': '10:0-18:0'...</td>\n",
       "    </tr>\n",
       "    <tr>\n",
       "      <th>2</th>\n",
       "      <td>HTqXI5S2XcSlh_ylx9sE6g</td>\n",
       "      <td>4.0</td>\n",
       "      <td>0</td>\n",
       "      <td>0</td>\n",
       "      <td>0</td>\n",
       "      <td>Good tasting food that's a staple of the Readi...</td>\n",
       "      <td>2018-03-06 02:20:11</td>\n",
       "      <td>Termini Bros Bakery</td>\n",
       "      <td>12th St &amp; Filbert St</td>\n",
       "      <td>Philadelphia</td>\n",
       "      <td>PA</td>\n",
       "      <td>19107</td>\n",
       "      <td>4.0</td>\n",
       "      <td>263</td>\n",
       "      <td>1</td>\n",
       "      <td>{'RestaurantsPriceRange2': '2', 'BusinessParki...</td>\n",
       "      <td>Food, Restaurants, Bakeries</td>\n",
       "      <td>{'Monday': '10:0-18:0', 'Tuesday': '10:0-18:0'...</td>\n",
       "    </tr>\n",
       "    <tr>\n",
       "      <th>3</th>\n",
       "      <td>HTqXI5S2XcSlh_ylx9sE6g</td>\n",
       "      <td>4.0</td>\n",
       "      <td>0</td>\n",
       "      <td>0</td>\n",
       "      <td>0</td>\n",
       "      <td>I really enjoyed the cannoli from here. I did ...</td>\n",
       "      <td>2018-03-29 19:21:09</td>\n",
       "      <td>Termini Bros Bakery</td>\n",
       "      <td>12th St &amp; Filbert St</td>\n",
       "      <td>Philadelphia</td>\n",
       "      <td>PA</td>\n",
       "      <td>19107</td>\n",
       "      <td>4.0</td>\n",
       "      <td>263</td>\n",
       "      <td>1</td>\n",
       "      <td>{'RestaurantsPriceRange2': '2', 'BusinessParki...</td>\n",
       "      <td>Food, Restaurants, Bakeries</td>\n",
       "      <td>{'Monday': '10:0-18:0', 'Tuesday': '10:0-18:0'...</td>\n",
       "    </tr>\n",
       "    <tr>\n",
       "      <th>4</th>\n",
       "      <td>HTqXI5S2XcSlh_ylx9sE6g</td>\n",
       "      <td>2.0</td>\n",
       "      <td>1</td>\n",
       "      <td>0</td>\n",
       "      <td>0</td>\n",
       "      <td>One day their bakery was wonderful.  The next ...</td>\n",
       "      <td>2018-05-13 01:21:05</td>\n",
       "      <td>Termini Bros Bakery</td>\n",
       "      <td>12th St &amp; Filbert St</td>\n",
       "      <td>Philadelphia</td>\n",
       "      <td>PA</td>\n",
       "      <td>19107</td>\n",
       "      <td>4.0</td>\n",
       "      <td>263</td>\n",
       "      <td>1</td>\n",
       "      <td>{'RestaurantsPriceRange2': '2', 'BusinessParki...</td>\n",
       "      <td>Food, Restaurants, Bakeries</td>\n",
       "      <td>{'Monday': '10:0-18:0', 'Tuesday': '10:0-18:0'...</td>\n",
       "    </tr>\n",
       "  </tbody>\n",
       "</table>\n",
       "</div>"
      ],
      "text/plain": [
       "              business_id  stars_x  useful  funny  cool  \\\n",
       "0  HTqXI5S2XcSlh_ylx9sE6g      5.0       1      1     1   \n",
       "1  HTqXI5S2XcSlh_ylx9sE6g      5.0       0      0     0   \n",
       "2  HTqXI5S2XcSlh_ylx9sE6g      4.0       0      0     0   \n",
       "3  HTqXI5S2XcSlh_ylx9sE6g      4.0       0      0     0   \n",
       "4  HTqXI5S2XcSlh_ylx9sE6g      2.0       1      0     0   \n",
       "\n",
       "                                                text                date  \\\n",
       "0  I've only had the cannolis here but they are a... 2018-03-23 14:35:33   \n",
       "1  It's all about the cannoli! Don't try to share... 2018-02-11 20:44:13   \n",
       "2  Good tasting food that's a staple of the Readi... 2018-03-06 02:20:11   \n",
       "3  I really enjoyed the cannoli from here. I did ... 2018-03-29 19:21:09   \n",
       "4  One day their bakery was wonderful.  The next ... 2018-05-13 01:21:05   \n",
       "\n",
       "                  name               address          city state postal_code  \\\n",
       "0  Termini Bros Bakery  12th St & Filbert St  Philadelphia    PA       19107   \n",
       "1  Termini Bros Bakery  12th St & Filbert St  Philadelphia    PA       19107   \n",
       "2  Termini Bros Bakery  12th St & Filbert St  Philadelphia    PA       19107   \n",
       "3  Termini Bros Bakery  12th St & Filbert St  Philadelphia    PA       19107   \n",
       "4  Termini Bros Bakery  12th St & Filbert St  Philadelphia    PA       19107   \n",
       "\n",
       "   stars_y  review_count  is_open  \\\n",
       "0      4.0           263        1   \n",
       "1      4.0           263        1   \n",
       "2      4.0           263        1   \n",
       "3      4.0           263        1   \n",
       "4      4.0           263        1   \n",
       "\n",
       "                                          attributes  \\\n",
       "0  {'RestaurantsPriceRange2': '2', 'BusinessParki...   \n",
       "1  {'RestaurantsPriceRange2': '2', 'BusinessParki...   \n",
       "2  {'RestaurantsPriceRange2': '2', 'BusinessParki...   \n",
       "3  {'RestaurantsPriceRange2': '2', 'BusinessParki...   \n",
       "4  {'RestaurantsPriceRange2': '2', 'BusinessParki...   \n",
       "\n",
       "                    categories  \\\n",
       "0  Food, Restaurants, Bakeries   \n",
       "1  Food, Restaurants, Bakeries   \n",
       "2  Food, Restaurants, Bakeries   \n",
       "3  Food, Restaurants, Bakeries   \n",
       "4  Food, Restaurants, Bakeries   \n",
       "\n",
       "                                               hours  \n",
       "0  {'Monday': '10:0-18:0', 'Tuesday': '10:0-18:0'...  \n",
       "1  {'Monday': '10:0-18:0', 'Tuesday': '10:0-18:0'...  \n",
       "2  {'Monday': '10:0-18:0', 'Tuesday': '10:0-18:0'...  \n",
       "3  {'Monday': '10:0-18:0', 'Tuesday': '10:0-18:0'...  \n",
       "4  {'Monday': '10:0-18:0', 'Tuesday': '10:0-18:0'...  "
      ]
     },
     "execution_count": 6,
     "metadata": {},
     "output_type": "execute_result"
    }
   ],
   "source": [
    "df.head()"
   ]
  },
  {
   "cell_type": "markdown",
   "id": "c2456c49",
   "metadata": {},
   "source": [
    "# Preprocessing "
   ]
  },
  {
   "cell_type": "code",
   "execution_count": null,
   "id": "590f2edd",
   "metadata": {},
   "outputs": [],
   "source": [
    "from nltk.stem import PorterStemmer\n",
    "import nltk\n",
    "from nltk.corpus import stopwords"
   ]
  },
  {
   "cell_type": "code",
   "execution_count": null,
   "id": "73d70afd",
   "metadata": {},
   "outputs": [],
   "source": [
    "stop_words = stopwords.words('english')\n",
    "\n",
    "def preprocess(text : str) -> list:\n",
    "    \n",
    "    tokens = text.lower().rstrip(' ').rstrip('\\n').rstrip('.').split(' ')[:3000]\n",
    "    \n",
    "    p = PorterStemmer()\n",
    "    stemmed_doc =[]\n",
    "    for token in tokens:\n",
    "        stemmed_doc.append(p.stem(token))\n",
    "        \n",
    "    tokens = [i.split(' ') for i in stemmed_doc]\n",
    "    \n",
    "    \n",
    "    final_tokens =[]\n",
    "\n",
    "\n",
    "    for l in tokens:\n",
    "        for word in l:\n",
    "            word = word.rstrip('.').rstrip('\\'').rstrip(',')\n",
    "            if word not in final_tokens and word not in stop_words and len(word)>0:\n",
    "                final_tokens.append(word)\n",
    "    return final_tokens"
   ]
  },
  {
   "cell_type": "markdown",
   "id": "1fe9d8c4",
   "metadata": {},
   "source": [
    "# Review-based Market Attractiveness Features (MAF)\n",
    "* Turn every restaurant and city to a doc of reviews\n",
    "* Use `dict` to store the dic index of restaurant and city\n",
    "* review - LDA\n",
    "* location - LDA "
   ]
  },
  {
   "cell_type": "code",
   "execution_count": null,
   "id": "7bc6f6cf",
   "metadata": {},
   "outputs": [],
   "source": [
    "from pprint import pprint\n",
    "import gensim\n",
    "import gensim.corpora as corpora\n",
    "from gensim.utils import simple_preprocess\n",
    "from nltk.corpus import stopwords\n",
    "from gensim.models import CoherenceModel\n",
    "import pyLDAvis\n",
    "import pyLDAvis.gensim_models\n",
    "import matplotlib.pyplot as plt\n",
    "import nltk"
   ]
  },
  {
   "cell_type": "code",
   "execution_count": null,
   "id": "7d646844",
   "metadata": {},
   "outputs": [],
   "source": [
    "# # aspect creation \n",
    "# total_df = pd.concat([df,LDA_df] , ignore_index=True)\n",
    "\n",
    "# docs = []\n",
    "# index =0 \n",
    "\n",
    "\n",
    "# # restaurant\n",
    "# for restaurant in Counter(df.name):\n",
    "#     if index%10 ==0:\n",
    "#         print(f'Now {index} Restaurant ... {restaurant}')\n",
    "#     tmp = df[df.name == restaurant]\n",
    "#     texts = ''.join(tmp.text.tolist())\n",
    "#     docs.append(preprocess(texts))\n",
    "#     indxe +=1\n",
    "\n",
    "# # city \n",
    "# for city_name in Counter(df.city):\n",
    "#     if index%5 ==0:\n",
    "#         print(f'Now {index} City ... {city_name}')\n",
    "#     tmp = total_df[total_df.city == city_name]\n",
    "#     texts = ''.join(tmp.text.tolist())\n",
    "#     docs.append(preprocess(texts))\n",
    "#     index +=1   \n",
    "\n",
    "# # save pickle\n",
    "# with open('./data/docs.pkl', 'wb') as f:\n",
    "#     pickle.dump(docs, f)"
   ]
  },
  {
   "cell_type": "code",
   "execution_count": null,
   "id": "c36965ed",
   "metadata": {},
   "outputs": [],
   "source": [
    "with open('../data/docs.pkl', 'rb') as f:\n",
    "    docs = pickle.load(f)\n",
    "    "
   ]
  },
  {
   "cell_type": "markdown",
   "id": "3b40e71f",
   "metadata": {},
   "source": [
    "## LDA"
   ]
  },
  {
   "cell_type": "code",
   "execution_count": null,
   "id": "8b808e75",
   "metadata": {},
   "outputs": [],
   "source": [
    "index = 0\n",
    "name_city_dict = {}\n",
    "for restaurant in Counter(df.name):\n",
    "    name_city_dict[restaurant]=index\n",
    "    index +=1\n",
    "    \n",
    "for city_name in Counter(df.city):\n",
    "    name_city_dict[city_name]=index\n",
    "    index +=1   "
   ]
  },
  {
   "cell_type": "code",
   "execution_count": null,
   "id": "fe9b691d",
   "metadata": {},
   "outputs": [],
   "source": [
    "### LDA ###\n",
    "common_dictionary = corpora.Dictionary(docs)\n",
    "common_corpus = [common_dictionary.doc2bow(text) for text in docs]\n",
    "\n",
    "\n",
    "# Train the model on the corpus.\n",
    "lda =  gensim.models.LdaMulticore(corpus = common_corpus, id2word= common_dictionary, num_topics= 10)\n",
    "lda.show_topics()\n"
   ]
  },
  {
   "cell_type": "code",
   "execution_count": null,
   "id": "e10dd3e2",
   "metadata": {},
   "outputs": [],
   "source": [
    "# check the topic coherence\n",
    "coherence_model_lda = CoherenceModel( model=lda , texts=docs , dictionary=common_dictionary , coherence='c_v' )\n",
    "conherence_lda = coherence_model_lda.get_coherence()\n",
    "print(conherence_lda)"
   ]
  },
  {
   "cell_type": "code",
   "execution_count": null,
   "id": "9ce41d3e",
   "metadata": {},
   "outputs": [],
   "source": [
    "# create restaurant aspects\n",
    "\n",
    "rest_aspect = {}\n",
    "loca_aspect = {}\n",
    "\n",
    "for name in Counter(df.name):\n",
    "    tmp_arr = np.zeros(10)\n",
    "    for i in lda[common_corpus[name_city_dict[name]]]:\n",
    "        tmp_arr[i[0]]=i[1]\n",
    "    rest_aspect[name]= tmp_arr\n",
    "\n",
    "for location in Counter(df.city):\n",
    "    tmp_arr = np.zeros(10)\n",
    "    for i in lda[common_corpus[name_city_dict[location]]]:\n",
    "        tmp_arr[i[0]]=i[1]\n",
    "    loca_aspect[location]= tmp_arr"
   ]
  },
  {
   "cell_type": "markdown",
   "id": "7a7c5828",
   "metadata": {},
   "source": [
    "## Affinity & Complementary"
   ]
  },
  {
   "cell_type": "code",
   "execution_count": null,
   "id": "35b1f2cf",
   "metadata": {},
   "outputs": [],
   "source": [
    "df = df.reset_index()"
   ]
  },
  {
   "cell_type": "code",
   "execution_count": null,
   "id": "c8a55c29",
   "metadata": {},
   "outputs": [],
   "source": [
    "df['affinity']=\"\"\n",
    "df['complementary']=\"\"\n",
    "\n",
    "for i in range(len(df)):\n",
    "    df.affinity[i] = rest_aspect[df.name[i]]*loca_aspect[df.city[i]]\n",
    "    df.complementary[i] = rest_aspect[df.name[i]]*(1-loca_aspect[df.city[i]]) "
   ]
  },
  {
   "cell_type": "code",
   "execution_count": null,
   "id": "57f428db",
   "metadata": {},
   "outputs": [],
   "source": [
    "df.head()"
   ]
  },
  {
   "cell_type": "markdown",
   "id": "7b2777ae",
   "metadata": {},
   "source": [
    "# Review-based Market Competitiveness Feature (MCF)\n",
    "* review - LDA rank "
   ]
  },
  {
   "cell_type": "markdown",
   "id": "1e11e426",
   "metadata": {},
   "source": [
    "# Geographic Features (GeoF)\n",
    "* Density : the restaurant number in the same postal code\n",
    "* Neighbourhood Entropy : entropy measure of the frequency of restaurant categories\n",
    "    * A location with **higher entropy value** is expected to be **more diverse** in terms of restaurant categories,\n",
    "* Competitiveness : the proportion of nearby restaurants with the same type of restaurant \n",
    "* Jensen Quality : Jensen Quality of each venue category as a feature value, rather than simply aggregating Jensen Quality values over all venue categories as a single feature value. "
   ]
  },
  {
   "cell_type": "code",
   "execution_count": 7,
   "id": "6dff0f46",
   "metadata": {
    "ExecuteTime": {
     "end_time": "2023-04-01T08:26:01.295833Z",
     "start_time": "2023-04-01T08:26:01.290182Z"
    }
   },
   "outputs": [
    {
     "data": {
      "text/plain": [
       "Index(['business_id', 'stars_x', 'useful', 'funny', 'cool', 'text', 'date',\n",
       "       'name', 'address', 'city', 'state', 'postal_code', 'stars_y',\n",
       "       'review_count', 'is_open', 'attributes', 'categories', 'hours'],\n",
       "      dtype='object')"
      ]
     },
     "execution_count": 7,
     "metadata": {},
     "output_type": "execute_result"
    }
   ],
   "source": [
    "df.columns"
   ]
  },
  {
   "cell_type": "code",
   "execution_count": 8,
   "id": "5a1ec22e",
   "metadata": {
    "ExecuteTime": {
     "end_time": "2023-04-01T08:26:12.030973Z",
     "start_time": "2023-04-01T08:26:02.102143Z"
    }
   },
   "outputs": [
    {
     "name": "stderr",
     "output_type": "stream",
     "text": [
      "/home/adam/.local/lib/python3.7/site-packages/ipykernel_launcher.py:19: SettingWithCopyWarning: \n",
      "A value is trying to be set on a copy of a slice from a DataFrame\n",
      "\n",
      "See the caveats in the documentation: https://pandas.pydata.org/pandas-docs/stable/user_guide/indexing.html#returning-a-view-versus-a-copy\n",
      "/home/adam/.local/lib/python3.7/site-packages/ipykernel_launcher.py:26: SettingWithCopyWarning: \n",
      "A value is trying to be set on a copy of a slice from a DataFrame\n",
      "\n",
      "See the caveats in the documentation: https://pandas.pydata.org/pandas-docs/stable/user_guide/indexing.html#returning-a-view-versus-a-copy\n",
      "/home/adam/.local/lib/python3.7/site-packages/ipykernel_launcher.py:30: SettingWithCopyWarning: \n",
      "A value is trying to be set on a copy of a slice from a DataFrame\n",
      "\n",
      "See the caveats in the documentation: https://pandas.pydata.org/pandas-docs/stable/user_guide/indexing.html#returning-a-view-versus-a-copy\n"
     ]
    }
   ],
   "source": [
    "# create dataset without review\n",
    "# unhash if neccessary\n",
    "import math\n",
    "\n",
    "# drop duplicates\n",
    "df = df.drop_duplicates(subset=['name','postal_code']).reset_index(drop=True)\n",
    "\n",
    "# calculate the density by Postal code\n",
    "df['density']=\"\"\n",
    "df['entropy']=\"\"\n",
    "df['competitiveness']=\"\"\n",
    "\n",
    "\n",
    "for i in range(len(df)):\n",
    "    \n",
    "    place = df[df.postal_code == df.postal_code[i]]\n",
    "    \n",
    "    # density \n",
    "    df.density[i] = len(Counter(place.name))\n",
    "    \n",
    "    # entropy\n",
    "    entropy_sum = 0\n",
    "    \n",
    "    for category in Counter(place.categories):\n",
    "        entropy_sum+=(len(Counter(place[place.categories==category].name))/len(Counter(place.name)))*np.log(len(Counter(place[place.categories==category].name))/len(Counter(place.name)))\n",
    "    df.entropy[i] = -entropy_sum\n",
    "    \n",
    "    # Competitiveness\n",
    "    comp = -(len(Counter(place[place.categories == df.categories[i]].name))/len(Counter(place.name)))\n",
    "    df.competitiveness[i]= comp\n",
    "\n",
    "df.to_pickle(\"../data/FE_by_postoal_code_without_review.pkl\")    \n"
   ]
  },
  {
   "cell_type": "code",
   "execution_count": null,
   "id": "5b5df08d",
   "metadata": {
    "ExecuteTime": {
     "end_time": "2023-04-01T08:26:12.044274Z",
     "start_time": "2023-04-01T08:26:12.044250Z"
    }
   },
   "outputs": [],
   "source": [
    "df.to_pickle(\"../data/FE_by_postoal_code.pkl\")    "
   ]
  },
  {
   "cell_type": "code",
   "execution_count": null,
   "id": "240fc49f",
   "metadata": {},
   "outputs": [],
   "source": []
  }
 ],
 "metadata": {
  "kernelspec": {
   "display_name": "steph-env",
   "language": "python",
   "name": "steph-env"
  },
  "language_info": {
   "codemirror_mode": {
    "name": "ipython",
    "version": 3
   },
   "file_extension": ".py",
   "mimetype": "text/x-python",
   "name": "python",
   "nbconvert_exporter": "python",
   "pygments_lexer": "ipython3",
   "version": "3.7.5"
  },
  "toc": {
   "base_numbering": 1,
   "nav_menu": {},
   "number_sections": true,
   "sideBar": true,
   "skip_h1_title": false,
   "title_cell": "Table of Contents",
   "title_sidebar": "Contents",
   "toc_cell": false,
   "toc_position": {
    "height": "calc(100% - 180px)",
    "left": "10px",
    "top": "150px",
    "width": "165px"
   },
   "toc_section_display": true,
   "toc_window_display": true
  },
  "varInspector": {
   "cols": {
    "lenName": 16,
    "lenType": 16,
    "lenVar": 40
   },
   "kernels_config": {
    "python": {
     "delete_cmd_postfix": "",
     "delete_cmd_prefix": "del ",
     "library": "var_list.py",
     "varRefreshCmd": "print(var_dic_list())"
    },
    "r": {
     "delete_cmd_postfix": ") ",
     "delete_cmd_prefix": "rm(",
     "library": "var_list.r",
     "varRefreshCmd": "cat(var_dic_list()) "
    }
   },
   "types_to_exclude": [
    "module",
    "function",
    "builtin_function_or_method",
    "instance",
    "_Feature"
   ],
   "window_display": false
  }
 },
 "nbformat": 4,
 "nbformat_minor": 5
}
