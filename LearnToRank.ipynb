{
 "cells": [
  {
   "cell_type": "markdown",
   "metadata": {},
   "source": [
    "# Learn to Rank"
   ]
  },
  {
   "cell_type": "markdown",
   "metadata": {},
   "source": [
    "## Import "
   ]
  },
  {
   "cell_type": "code",
   "execution_count": 1,
   "metadata": {
    "ExecuteTime": {
     "end_time": "2023-03-31T02:50:47.308615Z",
     "start_time": "2023-03-31T02:50:46.833621Z"
    }
   },
   "outputs": [],
   "source": [
    "import pandas as pd\n",
    "import json\n",
    "import numpy as np\n",
    "from collections import Counter\n",
    "import matplotlib.pyplot as plt\n",
    "import pickle\n",
    "import math "
   ]
  },
  {
   "cell_type": "code",
   "execution_count": 2,
   "metadata": {
    "ExecuteTime": {
     "end_time": "2023-03-31T02:50:48.335679Z",
     "start_time": "2023-03-31T02:50:48.317826Z"
    }
   },
   "outputs": [],
   "source": [
    "df = pd.read_pickle('/home/adam/Steph_C/my_thesis/data/FE_by_postoal_code_without_review.pkl')"
   ]
  },
  {
   "cell_type": "markdown",
   "metadata": {},
   "source": [
    "## DF Construction\n",
    "* add relevance"
   ]
  },
  {
   "cell_type": "code",
   "execution_count": 3,
   "metadata": {
    "ExecuteTime": {
     "end_time": "2023-03-31T02:50:49.894854Z",
     "start_time": "2023-03-31T02:50:49.886582Z"
    }
   },
   "outputs": [
    {
     "data": {
      "text/plain": [
       "Index(['business_id', 'stars_x', 'useful', 'funny', 'cool', 'text', 'date',\n",
       "       'name', 'address', 'city', 'state', 'postal_code', 'stars_y',\n",
       "       'review_count', 'is_open', 'attributes', 'categories', 'hours',\n",
       "       'density', 'entropy', 'competitiveness'],\n",
       "      dtype='object')"
      ]
     },
     "execution_count": 3,
     "metadata": {},
     "output_type": "execute_result"
    }
   ],
   "source": [
    "df.columns"
   ]
  },
  {
   "cell_type": "code",
   "execution_count": 4,
   "metadata": {
    "ExecuteTime": {
     "end_time": "2023-03-31T02:50:52.052712Z",
     "start_time": "2023-03-31T02:50:52.045343Z"
    }
   },
   "outputs": [],
   "source": [
    "df = df.drop(columns=[ 'business_id', 'stars_x', 'useful', 'funny', 'cool', 'text',\n",
    "       'date','address','is_open', 'stars_y','attributes','hours'])"
   ]
  },
  {
   "cell_type": "code",
   "execution_count": 5,
   "metadata": {
    "ExecuteTime": {
     "end_time": "2023-03-31T02:50:52.761952Z",
     "start_time": "2023-03-31T02:50:52.755236Z"
    }
   },
   "outputs": [],
   "source": [
    "# sort by name and review count \n",
    "df = df.sort_values(['name', 'review_count'],\n",
    "              ascending = [True, False]).reset_index(drop=True)"
   ]
  },
  {
   "cell_type": "code",
   "execution_count": 6,
   "metadata": {
    "ExecuteTime": {
     "end_time": "2023-03-31T02:50:54.771215Z",
     "start_time": "2023-03-31T02:50:54.758886Z"
    }
   },
   "outputs": [
    {
     "data": {
      "text/html": [
       "<div>\n",
       "<style scoped>\n",
       "    .dataframe tbody tr th:only-of-type {\n",
       "        vertical-align: middle;\n",
       "    }\n",
       "\n",
       "    .dataframe tbody tr th {\n",
       "        vertical-align: top;\n",
       "    }\n",
       "\n",
       "    .dataframe thead th {\n",
       "        text-align: right;\n",
       "    }\n",
       "</style>\n",
       "<table border=\"1\" class=\"dataframe\">\n",
       "  <thead>\n",
       "    <tr style=\"text-align: right;\">\n",
       "      <th></th>\n",
       "      <th>name</th>\n",
       "      <th>city</th>\n",
       "      <th>state</th>\n",
       "      <th>postal_code</th>\n",
       "      <th>review_count</th>\n",
       "      <th>categories</th>\n",
       "      <th>density</th>\n",
       "      <th>entropy</th>\n",
       "      <th>competitiveness</th>\n",
       "    </tr>\n",
       "  </thead>\n",
       "  <tbody>\n",
       "    <tr>\n",
       "      <th>0</th>\n",
       "      <td>1933 Lounge</td>\n",
       "      <td>Indianapolis</td>\n",
       "      <td>IN</td>\n",
       "      <td>46225</td>\n",
       "      <td>160</td>\n",
       "      <td>Bars, Nightlife, Restaurants, American (Tradit...</td>\n",
       "      <td>6</td>\n",
       "      <td>1.791759</td>\n",
       "      <td>-0.166667</td>\n",
       "    </tr>\n",
       "    <tr>\n",
       "      <th>1</th>\n",
       "      <td>1933 Lounge</td>\n",
       "      <td>Fishers</td>\n",
       "      <td>IN</td>\n",
       "      <td>46037</td>\n",
       "      <td>150</td>\n",
       "      <td>Steakhouses, Nightlife, Bars, Wine Bars, Resta...</td>\n",
       "      <td>6</td>\n",
       "      <td>1.791759</td>\n",
       "      <td>-0.166667</td>\n",
       "    </tr>\n",
       "    <tr>\n",
       "      <th>2</th>\n",
       "      <td>4 Rivers Smokehouse</td>\n",
       "      <td>Tampa</td>\n",
       "      <td>FL</td>\n",
       "      <td>33618</td>\n",
       "      <td>572</td>\n",
       "      <td>Barbeque, Smokehouse, Restaurants, Food, South...</td>\n",
       "      <td>13</td>\n",
       "      <td>2.564949</td>\n",
       "      <td>-0.076923</td>\n",
       "    </tr>\n",
       "    <tr>\n",
       "      <th>3</th>\n",
       "      <td>4 Rivers Smokehouse</td>\n",
       "      <td>Tampa Bay</td>\n",
       "      <td>FL</td>\n",
       "      <td>33609</td>\n",
       "      <td>343</td>\n",
       "      <td>Barbeque, Smokehouse, Food, Event Planning &amp; S...</td>\n",
       "      <td>11</td>\n",
       "      <td>2.397895</td>\n",
       "      <td>-0.090909</td>\n",
       "    </tr>\n",
       "    <tr>\n",
       "      <th>4</th>\n",
       "      <td>54th Street Grill &amp; Bar</td>\n",
       "      <td>St. Louis County</td>\n",
       "      <td>MO</td>\n",
       "      <td>63126</td>\n",
       "      <td>146</td>\n",
       "      <td>American (Traditional), Bars, Nightlife, Burge...</td>\n",
       "      <td>3</td>\n",
       "      <td>1.098612</td>\n",
       "      <td>-0.333333</td>\n",
       "    </tr>\n",
       "    <tr>\n",
       "      <th>...</th>\n",
       "      <td>...</td>\n",
       "      <td>...</td>\n",
       "      <td>...</td>\n",
       "      <td>...</td>\n",
       "      <td>...</td>\n",
       "      <td>...</td>\n",
       "      <td>...</td>\n",
       "      <td>...</td>\n",
       "      <td>...</td>\n",
       "    </tr>\n",
       "    <tr>\n",
       "      <th>1456</th>\n",
       "      <td>Zydeco's</td>\n",
       "      <td>Belle Chasse</td>\n",
       "      <td>LA</td>\n",
       "      <td>70037</td>\n",
       "      <td>161</td>\n",
       "      <td>Restaurants, Cajun/Creole, American (New), Sea...</td>\n",
       "      <td>1</td>\n",
       "      <td>-0.0</td>\n",
       "      <td>-1.0</td>\n",
       "    </tr>\n",
       "    <tr>\n",
       "      <th>1457</th>\n",
       "      <td>sweetgreen</td>\n",
       "      <td>Philadelphia</td>\n",
       "      <td>PA</td>\n",
       "      <td>19103</td>\n",
       "      <td>213</td>\n",
       "      <td>Vegan, Soup, Vegetarian, Salad, Restaurants</td>\n",
       "      <td>19</td>\n",
       "      <td>2.944439</td>\n",
       "      <td>-0.052632</td>\n",
       "    </tr>\n",
       "    <tr>\n",
       "      <th>1458</th>\n",
       "      <td>sweetgreen</td>\n",
       "      <td>King Of Prussia</td>\n",
       "      <td>PA</td>\n",
       "      <td>19406</td>\n",
       "      <td>91</td>\n",
       "      <td>Restaurants, Salad, Vegetarian</td>\n",
       "      <td>19</td>\n",
       "      <td>2.944439</td>\n",
       "      <td>-0.052632</td>\n",
       "    </tr>\n",
       "    <tr>\n",
       "      <th>1459</th>\n",
       "      <td>uBreakiFix</td>\n",
       "      <td>New Orleans</td>\n",
       "      <td>LA</td>\n",
       "      <td>70130</td>\n",
       "      <td>105</td>\n",
       "      <td>Local Services, Electronics Repair, IT Service...</td>\n",
       "      <td>18</td>\n",
       "      <td>3.211524</td>\n",
       "      <td>-0.055556</td>\n",
       "    </tr>\n",
       "    <tr>\n",
       "      <th>1460</th>\n",
       "      <td>uBreakiFix</td>\n",
       "      <td>Tampa</td>\n",
       "      <td>FL</td>\n",
       "      <td>33618</td>\n",
       "      <td>76</td>\n",
       "      <td>Mobile Phone Repair, Mobile Phone Accessories,...</td>\n",
       "      <td>13</td>\n",
       "      <td>2.564949</td>\n",
       "      <td>-0.076923</td>\n",
       "    </tr>\n",
       "  </tbody>\n",
       "</table>\n",
       "<p>1461 rows × 9 columns</p>\n",
       "</div>"
      ],
      "text/plain": [
       "                         name              city state postal_code  \\\n",
       "0                 1933 Lounge      Indianapolis    IN       46225   \n",
       "1                 1933 Lounge           Fishers    IN       46037   \n",
       "2         4 Rivers Smokehouse             Tampa    FL       33618   \n",
       "3         4 Rivers Smokehouse         Tampa Bay    FL       33609   \n",
       "4     54th Street Grill & Bar  St. Louis County    MO       63126   \n",
       "...                       ...               ...   ...         ...   \n",
       "1456                 Zydeco's      Belle Chasse    LA       70037   \n",
       "1457               sweetgreen      Philadelphia    PA       19103   \n",
       "1458               sweetgreen   King Of Prussia    PA       19406   \n",
       "1459               uBreakiFix       New Orleans    LA       70130   \n",
       "1460               uBreakiFix             Tampa    FL       33618   \n",
       "\n",
       "      review_count                                         categories density  \\\n",
       "0              160  Bars, Nightlife, Restaurants, American (Tradit...       6   \n",
       "1              150  Steakhouses, Nightlife, Bars, Wine Bars, Resta...       6   \n",
       "2              572  Barbeque, Smokehouse, Restaurants, Food, South...      13   \n",
       "3              343  Barbeque, Smokehouse, Food, Event Planning & S...      11   \n",
       "4              146  American (Traditional), Bars, Nightlife, Burge...       3   \n",
       "...            ...                                                ...     ...   \n",
       "1456           161  Restaurants, Cajun/Creole, American (New), Sea...       1   \n",
       "1457           213        Vegan, Soup, Vegetarian, Salad, Restaurants      19   \n",
       "1458            91                     Restaurants, Salad, Vegetarian      19   \n",
       "1459           105  Local Services, Electronics Repair, IT Service...      18   \n",
       "1460            76  Mobile Phone Repair, Mobile Phone Accessories,...      13   \n",
       "\n",
       "       entropy competitiveness  \n",
       "0     1.791759       -0.166667  \n",
       "1     1.791759       -0.166667  \n",
       "2     2.564949       -0.076923  \n",
       "3     2.397895       -0.090909  \n",
       "4     1.098612       -0.333333  \n",
       "...        ...             ...  \n",
       "1456      -0.0            -1.0  \n",
       "1457  2.944439       -0.052632  \n",
       "1458  2.944439       -0.052632  \n",
       "1459  3.211524       -0.055556  \n",
       "1460  2.564949       -0.076923  \n",
       "\n",
       "[1461 rows x 9 columns]"
      ]
     },
     "execution_count": 6,
     "metadata": {},
     "output_type": "execute_result"
    }
   ],
   "source": [
    "df"
   ]
  },
  {
   "cell_type": "code",
   "execution_count": 17,
   "metadata": {
    "ExecuteTime": {
     "end_time": "2023-03-31T02:53:09.911145Z",
     "start_time": "2023-03-31T02:53:09.904895Z"
    }
   },
   "outputs": [
    {
     "data": {
      "text/plain": [
       "6"
      ]
     },
     "execution_count": 17,
     "metadata": {},
     "output_type": "execute_result"
    }
   ],
   "source": [
    "df.loc[df['postal_code']=='46037']['density'].iloc[0]"
   ]
  },
  {
   "cell_type": "code",
   "execution_count": 23,
   "metadata": {
    "ExecuteTime": {
     "end_time": "2023-03-31T02:55:31.071664Z",
     "start_time": "2023-03-31T02:55:30.758838Z"
    }
   },
   "outputs": [],
   "source": [
    "# postal code and feature dict\n",
    "postal_code_feature_dict = {}\n",
    "\n",
    "for postal in Counter(df.postal_code):\n",
    "    postal_code_feature_dict[postal]={}\n",
    "    postal_code_feature_dict[postal]['density'] = df.loc[df['postal_code']==postal]['density'].iloc[0]\n",
    "    postal_code_feature_dict[postal]['entropy'] = df.loc[df['postal_code']==postal]['entropy'].iloc[0]\n",
    "    postal_code_feature_dict[postal]['competitiveness'] = df.loc[df['postal_code']==postal]['competitiveness'].iloc[0]"
   ]
  },
  {
   "cell_type": "code",
   "execution_count": 26,
   "metadata": {
    "ExecuteTime": {
     "end_time": "2023-03-31T02:55:49.890410Z",
     "start_time": "2023-03-31T02:55:49.885006Z"
    }
   },
   "outputs": [
    {
     "data": {
      "text/plain": [
       "339"
      ]
     },
     "execution_count": 26,
     "metadata": {},
     "output_type": "execute_result"
    }
   ],
   "source": [
    "len(postal_code_feature_dict)"
   ]
  },
  {
   "cell_type": "code",
   "execution_count": 24,
   "metadata": {
    "ExecuteTime": {
     "end_time": "2023-03-31T02:55:34.838561Z",
     "start_time": "2023-03-31T02:55:34.832170Z"
    }
   },
   "outputs": [
    {
     "data": {
      "text/plain": [
       "566"
      ]
     },
     "execution_count": 24,
     "metadata": {},
     "output_type": "execute_result"
    }
   ],
   "source": [
    "len(Counter(df.name))"
   ]
  },
  {
   "cell_type": "code",
   "execution_count": 25,
   "metadata": {
    "ExecuteTime": {
     "end_time": "2023-03-31T02:55:38.018946Z",
     "start_time": "2023-03-31T02:55:37.140952Z"
    }
   },
   "outputs": [
    {
     "name": "stderr",
     "output_type": "stream",
     "text": [
      "/home/adam/.local/lib/python3.7/site-packages/ipykernel_launcher.py:8: SettingWithCopyWarning: \n",
      "A value is trying to be set on a copy of a slice from a DataFrame\n",
      "\n",
      "See the caveats in the documentation: https://pandas.pydata.org/pandas-docs/stable/user_guide/indexing.html#returning-a-view-versus-a-copy\n",
      "  \n"
     ]
    }
   ],
   "source": [
    "# create relevance score\n",
    "cnt = 0\n",
    "for i in Counter(df.name):\n",
    "    tmp = df[df.name==i].reset_index(drop=True)\n",
    "    tmp['relevance']=''\n",
    "    score = 6\n",
    "    for j in range(len(tmp)):\n",
    "        tmp['relevance'][j]=score\n",
    "        score -=1\n",
    "    if cnt ==0 :\n",
    "        new_df = tmp\n",
    "        cnt+=1\n",
    "    new_df = pd.concat([new_df,tmp])"
   ]
  },
  {
   "cell_type": "code",
   "execution_count": null,
   "metadata": {},
   "outputs": [],
   "source": [
    "# # breakdown affinity & complementary\n",
    "# from operator import itemgetter\n",
    "# indices = range(len(df['affinity'][0]))\n",
    "# a_df = df['affinity'].transform({f'affinity_{i+1}': itemgetter(i) for i in indices})\n",
    "\n",
    "# indices = range(len(df['complementary'][0]))\n",
    "# c_df = df['complementary'].transform({f'complementary_{i+1}': itemgetter(i) for i in indices})"
   ]
  },
  {
   "cell_type": "code",
   "execution_count": null,
   "metadata": {},
   "outputs": [],
   "source": [
    "# new_df = new_df.join(a_df)\n",
    "# new_df = new_df.join(c_df)"
   ]
  },
  {
   "cell_type": "markdown",
   "metadata": {},
   "source": [
    "## Model"
   ]
  },
  {
   "cell_type": "markdown",
   "metadata": {},
   "source": [
    "### Create Dataset"
   ]
  },
  {
   "cell_type": "code",
   "execution_count": 27,
   "metadata": {
    "ExecuteTime": {
     "end_time": "2023-03-31T02:56:21.571406Z",
     "start_time": "2023-03-31T02:56:21.565347Z"
    }
   },
   "outputs": [
    {
     "data": {
      "text/plain": [
       "Index(['name', 'city', 'state', 'postal_code', 'review_count', 'categories',\n",
       "       'density', 'entropy', 'competitiveness', 'relevance'],\n",
       "      dtype='object')"
      ]
     },
     "execution_count": 27,
     "metadata": {},
     "output_type": "execute_result"
    }
   ],
   "source": [
    "new_df.columns"
   ]
  },
  {
   "cell_type": "code",
   "execution_count": 29,
   "metadata": {
    "ExecuteTime": {
     "end_time": "2023-03-31T02:56:40.086901Z",
     "start_time": "2023-03-31T02:56:39.329720Z"
    }
   },
   "outputs": [],
   "source": [
    "# split train test \n",
    "cnt = 0\n",
    "\n",
    "for i in Counter(df.name):\n",
    "    tmp = new_df[new_df.name==i]\n",
    "    \n",
    "    if cnt ==0:\n",
    "        \n",
    "        train_df = tmp.iloc[:-1,:]\n",
    "        test_df = tmp.iloc[-1:,:]\n",
    "        cnt+=1\n",
    "    else:\n",
    "        train_df = pd.concat([train_df ,tmp.iloc[:-1,:] ])\n",
    "        test_df = pd.concat([test_df ,tmp.iloc[-1:,:] ])\n",
    "    \n"
   ]
  },
  {
   "cell_type": "code",
   "execution_count": 30,
   "metadata": {
    "ExecuteTime": {
     "end_time": "2023-03-31T02:56:40.658023Z",
     "start_time": "2023-03-31T02:56:40.649334Z"
    }
   },
   "outputs": [
    {
     "name": "stdout",
     "output_type": "stream",
     "text": [
      "(897, 10) (566, 10)\n"
     ]
    }
   ],
   "source": [
    "print(train_df.shape , test_df.shape)"
   ]
  },
  {
   "cell_type": "code",
   "execution_count": 40,
   "metadata": {
    "ExecuteTime": {
     "end_time": "2023-03-31T03:16:26.354593Z",
     "start_time": "2023-03-31T03:16:26.338343Z"
    }
   },
   "outputs": [
    {
     "data": {
      "text/html": [
       "<div>\n",
       "<style scoped>\n",
       "    .dataframe tbody tr th:only-of-type {\n",
       "        vertical-align: middle;\n",
       "    }\n",
       "\n",
       "    .dataframe tbody tr th {\n",
       "        vertical-align: top;\n",
       "    }\n",
       "\n",
       "    .dataframe thead th {\n",
       "        text-align: right;\n",
       "    }\n",
       "</style>\n",
       "<table border=\"1\" class=\"dataframe\">\n",
       "  <thead>\n",
       "    <tr style=\"text-align: right;\">\n",
       "      <th></th>\n",
       "      <th>postal_code</th>\n",
       "      <th>density</th>\n",
       "      <th>entropy</th>\n",
       "      <th>competitiveness</th>\n",
       "    </tr>\n",
       "  </thead>\n",
       "  <tbody>\n",
       "    <tr>\n",
       "      <th>0</th>\n",
       "      <td>46225</td>\n",
       "      <td>6.0</td>\n",
       "      <td>1.791759</td>\n",
       "      <td>-0.166667</td>\n",
       "    </tr>\n",
       "    <tr>\n",
       "      <th>1</th>\n",
       "      <td>46037</td>\n",
       "      <td>6.0</td>\n",
       "      <td>1.791759</td>\n",
       "      <td>-0.166667</td>\n",
       "    </tr>\n",
       "    <tr>\n",
       "      <th>2</th>\n",
       "      <td>33618</td>\n",
       "      <td>13.0</td>\n",
       "      <td>2.564949</td>\n",
       "      <td>-0.076923</td>\n",
       "    </tr>\n",
       "    <tr>\n",
       "      <th>3</th>\n",
       "      <td>33609</td>\n",
       "      <td>11.0</td>\n",
       "      <td>2.397895</td>\n",
       "      <td>-0.090909</td>\n",
       "    </tr>\n",
       "    <tr>\n",
       "      <th>4</th>\n",
       "      <td>63126</td>\n",
       "      <td>3.0</td>\n",
       "      <td>1.098612</td>\n",
       "      <td>-0.333333</td>\n",
       "    </tr>\n",
       "    <tr>\n",
       "      <th>...</th>\n",
       "      <td>...</td>\n",
       "      <td>...</td>\n",
       "      <td>...</td>\n",
       "      <td>...</td>\n",
       "    </tr>\n",
       "    <tr>\n",
       "      <th>334</th>\n",
       "      <td>18969</td>\n",
       "      <td>1.0</td>\n",
       "      <td>-0.000000</td>\n",
       "      <td>-1.000000</td>\n",
       "    </tr>\n",
       "    <tr>\n",
       "      <th>335</th>\n",
       "      <td>46235</td>\n",
       "      <td>1.0</td>\n",
       "      <td>-0.000000</td>\n",
       "      <td>-1.000000</td>\n",
       "    </tr>\n",
       "    <tr>\n",
       "      <th>336</th>\n",
       "      <td>08055</td>\n",
       "      <td>1.0</td>\n",
       "      <td>-0.000000</td>\n",
       "      <td>-1.000000</td>\n",
       "    </tr>\n",
       "    <tr>\n",
       "      <th>337</th>\n",
       "      <td>18915</td>\n",
       "      <td>1.0</td>\n",
       "      <td>-0.000000</td>\n",
       "      <td>-1.000000</td>\n",
       "    </tr>\n",
       "    <tr>\n",
       "      <th>338</th>\n",
       "      <td>70037</td>\n",
       "      <td>1.0</td>\n",
       "      <td>-0.000000</td>\n",
       "      <td>-1.000000</td>\n",
       "    </tr>\n",
       "  </tbody>\n",
       "</table>\n",
       "<p>339 rows × 4 columns</p>\n",
       "</div>"
      ],
      "text/plain": [
       "    postal_code  density   entropy  competitiveness\n",
       "0         46225      6.0  1.791759        -0.166667\n",
       "1         46037      6.0  1.791759        -0.166667\n",
       "2         33618     13.0  2.564949        -0.076923\n",
       "3         33609     11.0  2.397895        -0.090909\n",
       "4         63126      3.0  1.098612        -0.333333\n",
       "..          ...      ...       ...              ...\n",
       "334       18969      1.0 -0.000000        -1.000000\n",
       "335       46235      1.0 -0.000000        -1.000000\n",
       "336       08055      1.0 -0.000000        -1.000000\n",
       "337       18915      1.0 -0.000000        -1.000000\n",
       "338       70037      1.0 -0.000000        -1.000000\n",
       "\n",
       "[339 rows x 4 columns]"
      ]
     },
     "execution_count": 40,
     "metadata": {},
     "output_type": "execute_result"
    }
   ],
   "source": [
    "pd.DataFrame(postal_code_feature_dict).T.reset_index().rename(columns={'index': 'postal_code'})"
   ]
  },
  {
   "cell_type": "code",
   "execution_count": 34,
   "metadata": {
    "ExecuteTime": {
     "end_time": "2023-03-31T03:11:04.840631Z",
     "start_time": "2023-03-31T03:11:04.828711Z"
    }
   },
   "outputs": [
    {
     "data": {
      "text/html": [
       "<div>\n",
       "<style scoped>\n",
       "    .dataframe tbody tr th:only-of-type {\n",
       "        vertical-align: middle;\n",
       "    }\n",
       "\n",
       "    .dataframe tbody tr th {\n",
       "        vertical-align: top;\n",
       "    }\n",
       "\n",
       "    .dataframe thead th {\n",
       "        text-align: right;\n",
       "    }\n",
       "</style>\n",
       "<table border=\"1\" class=\"dataframe\">\n",
       "  <thead>\n",
       "    <tr style=\"text-align: right;\">\n",
       "      <th></th>\n",
       "      <th>name</th>\n",
       "      <th>city</th>\n",
       "      <th>state</th>\n",
       "      <th>postal_code</th>\n",
       "      <th>review_count</th>\n",
       "      <th>categories</th>\n",
       "      <th>density</th>\n",
       "      <th>entropy</th>\n",
       "      <th>competitiveness</th>\n",
       "      <th>relevance</th>\n",
       "    </tr>\n",
       "  </thead>\n",
       "  <tbody>\n",
       "    <tr>\n",
       "      <th>1</th>\n",
       "      <td>1933 Lounge</td>\n",
       "      <td>Fishers</td>\n",
       "      <td>IN</td>\n",
       "      <td>46037</td>\n",
       "      <td>150</td>\n",
       "      <td>Steakhouses, Nightlife, Bars, Wine Bars, Resta...</td>\n",
       "      <td>6</td>\n",
       "      <td>1.791759</td>\n",
       "      <td>-0.166667</td>\n",
       "      <td>5</td>\n",
       "    </tr>\n",
       "    <tr>\n",
       "      <th>1</th>\n",
       "      <td>4 Rivers Smokehouse</td>\n",
       "      <td>Tampa Bay</td>\n",
       "      <td>FL</td>\n",
       "      <td>33609</td>\n",
       "      <td>343</td>\n",
       "      <td>Barbeque, Smokehouse, Food, Event Planning &amp; S...</td>\n",
       "      <td>11</td>\n",
       "      <td>2.397895</td>\n",
       "      <td>-0.090909</td>\n",
       "      <td>5</td>\n",
       "    </tr>\n",
       "    <tr>\n",
       "      <th>1</th>\n",
       "      <td>54th Street Grill &amp; Bar</td>\n",
       "      <td>Shiloh</td>\n",
       "      <td>IL</td>\n",
       "      <td>62269</td>\n",
       "      <td>142</td>\n",
       "      <td>American (New), Restaurants, Bars, Sandwiches,...</td>\n",
       "      <td>4</td>\n",
       "      <td>1.386294</td>\n",
       "      <td>-0.25</td>\n",
       "      <td>5</td>\n",
       "    </tr>\n",
       "    <tr>\n",
       "      <th>1</th>\n",
       "      <td>55 South</td>\n",
       "      <td>Brentwood</td>\n",
       "      <td>TN</td>\n",
       "      <td>37027</td>\n",
       "      <td>160</td>\n",
       "      <td>Bars, Nightlife, Comfort Food, Southern, Resta...</td>\n",
       "      <td>10</td>\n",
       "      <td>2.302585</td>\n",
       "      <td>-0.1</td>\n",
       "      <td>5</td>\n",
       "    </tr>\n",
       "    <tr>\n",
       "      <th>1</th>\n",
       "      <td>7venth Sun Brewery</td>\n",
       "      <td>Tampa</td>\n",
       "      <td>FL</td>\n",
       "      <td>33604</td>\n",
       "      <td>101</td>\n",
       "      <td>Breweries, Pubs, Beer Bar, Nightlife, Bars, Food</td>\n",
       "      <td>3</td>\n",
       "      <td>1.098612</td>\n",
       "      <td>-0.333333</td>\n",
       "      <td>5</td>\n",
       "    </tr>\n",
       "    <tr>\n",
       "      <th>...</th>\n",
       "      <td>...</td>\n",
       "      <td>...</td>\n",
       "      <td>...</td>\n",
       "      <td>...</td>\n",
       "      <td>...</td>\n",
       "      <td>...</td>\n",
       "      <td>...</td>\n",
       "      <td>...</td>\n",
       "      <td>...</td>\n",
       "      <td>...</td>\n",
       "    </tr>\n",
       "    <tr>\n",
       "      <th>1</th>\n",
       "      <td>Zinburger</td>\n",
       "      <td>Tucson</td>\n",
       "      <td>AZ</td>\n",
       "      <td>85715</td>\n",
       "      <td>636</td>\n",
       "      <td>Burgers, Venues &amp; Event Spaces, American (New)...</td>\n",
       "      <td>4</td>\n",
       "      <td>1.386294</td>\n",
       "      <td>-0.25</td>\n",
       "      <td>5</td>\n",
       "    </tr>\n",
       "    <tr>\n",
       "      <th>4</th>\n",
       "      <td>Zoes Kitchen</td>\n",
       "      <td>Metairie</td>\n",
       "      <td>LA</td>\n",
       "      <td>70006</td>\n",
       "      <td>76</td>\n",
       "      <td>Restaurants, Salad, Kebab, Sandwiches, Mediter...</td>\n",
       "      <td>4</td>\n",
       "      <td>1.386294</td>\n",
       "      <td>-0.25</td>\n",
       "      <td>2</td>\n",
       "    </tr>\n",
       "    <tr>\n",
       "      <th>1</th>\n",
       "      <td>Zydeco's</td>\n",
       "      <td>Belle Chasse</td>\n",
       "      <td>LA</td>\n",
       "      <td>70037</td>\n",
       "      <td>161</td>\n",
       "      <td>Restaurants, Cajun/Creole, American (New), Sea...</td>\n",
       "      <td>1</td>\n",
       "      <td>-0.0</td>\n",
       "      <td>-1.0</td>\n",
       "      <td>5</td>\n",
       "    </tr>\n",
       "    <tr>\n",
       "      <th>1</th>\n",
       "      <td>sweetgreen</td>\n",
       "      <td>King Of Prussia</td>\n",
       "      <td>PA</td>\n",
       "      <td>19406</td>\n",
       "      <td>91</td>\n",
       "      <td>Restaurants, Salad, Vegetarian</td>\n",
       "      <td>19</td>\n",
       "      <td>2.944439</td>\n",
       "      <td>-0.052632</td>\n",
       "      <td>5</td>\n",
       "    </tr>\n",
       "    <tr>\n",
       "      <th>1</th>\n",
       "      <td>uBreakiFix</td>\n",
       "      <td>Tampa</td>\n",
       "      <td>FL</td>\n",
       "      <td>33618</td>\n",
       "      <td>76</td>\n",
       "      <td>Mobile Phone Repair, Mobile Phone Accessories,...</td>\n",
       "      <td>13</td>\n",
       "      <td>2.564949</td>\n",
       "      <td>-0.076923</td>\n",
       "      <td>5</td>\n",
       "    </tr>\n",
       "  </tbody>\n",
       "</table>\n",
       "<p>566 rows × 10 columns</p>\n",
       "</div>"
      ],
      "text/plain": [
       "                       name             city state postal_code  review_count  \\\n",
       "1               1933 Lounge          Fishers    IN       46037           150   \n",
       "1       4 Rivers Smokehouse        Tampa Bay    FL       33609           343   \n",
       "1   54th Street Grill & Bar           Shiloh    IL       62269           142   \n",
       "1                  55 South        Brentwood    TN       37027           160   \n",
       "1        7venth Sun Brewery            Tampa    FL       33604           101   \n",
       "..                      ...              ...   ...         ...           ...   \n",
       "1                 Zinburger           Tucson    AZ       85715           636   \n",
       "4              Zoes Kitchen         Metairie    LA       70006            76   \n",
       "1                  Zydeco's     Belle Chasse    LA       70037           161   \n",
       "1                sweetgreen  King Of Prussia    PA       19406            91   \n",
       "1                uBreakiFix            Tampa    FL       33618            76   \n",
       "\n",
       "                                           categories density   entropy  \\\n",
       "1   Steakhouses, Nightlife, Bars, Wine Bars, Resta...       6  1.791759   \n",
       "1   Barbeque, Smokehouse, Food, Event Planning & S...      11  2.397895   \n",
       "1   American (New), Restaurants, Bars, Sandwiches,...       4  1.386294   \n",
       "1   Bars, Nightlife, Comfort Food, Southern, Resta...      10  2.302585   \n",
       "1    Breweries, Pubs, Beer Bar, Nightlife, Bars, Food       3  1.098612   \n",
       "..                                                ...     ...       ...   \n",
       "1   Burgers, Venues & Event Spaces, American (New)...       4  1.386294   \n",
       "4   Restaurants, Salad, Kebab, Sandwiches, Mediter...       4  1.386294   \n",
       "1   Restaurants, Cajun/Creole, American (New), Sea...       1      -0.0   \n",
       "1                      Restaurants, Salad, Vegetarian      19  2.944439   \n",
       "1   Mobile Phone Repair, Mobile Phone Accessories,...      13  2.564949   \n",
       "\n",
       "   competitiveness relevance  \n",
       "1        -0.166667         5  \n",
       "1        -0.090909         5  \n",
       "1            -0.25         5  \n",
       "1             -0.1         5  \n",
       "1        -0.333333         5  \n",
       "..             ...       ...  \n",
       "1            -0.25         5  \n",
       "4            -0.25         2  \n",
       "1             -1.0         5  \n",
       "1        -0.052632         5  \n",
       "1        -0.076923         5  \n",
       "\n",
       "[566 rows x 10 columns]"
      ]
     },
     "execution_count": 34,
     "metadata": {},
     "output_type": "execute_result"
    }
   ],
   "source": [
    "test_df"
   ]
  },
  {
   "cell_type": "code",
   "execution_count": 43,
   "metadata": {
    "ExecuteTime": {
     "end_time": "2023-03-31T03:38:23.550095Z",
     "start_time": "2023-03-31T03:38:14.173226Z"
    }
   },
   "outputs": [
    {
     "name": "stderr",
     "output_type": "stream",
     "text": [
      "/home/adam/.local/lib/python3.7/site-packages/ipykernel_launcher.py:8: UserWarning: Boolean Series key will be reindexed to match DataFrame index.\n",
      "  \n",
      "/home/adam/.local/lib/python3.7/site-packages/ipykernel_launcher.py:9: UserWarning: Boolean Series key will be reindexed to match DataFrame index.\n",
      "  if __name__ == '__main__':\n"
     ]
    }
   ],
   "source": [
    "# reconstruct testing set\n",
    "\n",
    "new_test = pd.DataFrame()\n",
    "\n",
    "for i in Counter(df.name):\n",
    "    subset = pd.DataFrame(postal_code_feature_dict).T.reset_index().rename(columns={'index': 'postal_code'})\n",
    "    subset['relevance']=0\n",
    "    subset[~df['postal_code'].isin(train_df[train_df.name==i].postal_code)]\n",
    "    subset[~df['postal_code'].isin(test_df[test_df.name==i].postal_code)]\n",
    "    subset['name']=i\n",
    "    subset = pd.concat([subset , test_df[['name','density', 'entropy', 'competitiveness','relevance']]])\n",
    "    new_test = pd.concat([new_test , subset])"
   ]
  },
  {
   "cell_type": "code",
   "execution_count": 44,
   "metadata": {
    "ExecuteTime": {
     "end_time": "2023-03-31T03:38:25.476797Z",
     "start_time": "2023-03-31T03:38:25.468055Z"
    }
   },
   "outputs": [
    {
     "name": "stdout",
     "output_type": "stream",
     "text": [
      "(897, 10) (512230, 6)\n"
     ]
    }
   ],
   "source": [
    "print(train_df.shape , new_test.shape)"
   ]
  },
  {
   "cell_type": "code",
   "execution_count": 46,
   "metadata": {
    "ExecuteTime": {
     "end_time": "2023-03-31T03:39:25.791577Z",
     "start_time": "2023-03-31T03:39:25.738431Z"
    }
   },
   "outputs": [],
   "source": [
    "\n",
    "for i in ['density', 'entropy', 'competitiveness','relevance']:\n",
    "    train_df[i] = train_df[i].astype('float')\n",
    "    new_test[i] = new_test[i].astype('float')"
   ]
  },
  {
   "cell_type": "markdown",
   "metadata": {},
   "source": [
    "### Training"
   ]
  },
  {
   "cell_type": "code",
   "execution_count": 47,
   "metadata": {
    "ExecuteTime": {
     "end_time": "2023-03-31T03:39:36.379254Z",
     "start_time": "2023-03-31T03:39:36.373621Z"
    }
   },
   "outputs": [
    {
     "data": {
      "text/plain": [
       "Index(['name', 'city', 'state', 'postal_code', 'review_count', 'categories',\n",
       "       'density', 'entropy', 'competitiveness', 'relevance'],\n",
       "      dtype='object')"
      ]
     },
     "execution_count": 47,
     "metadata": {},
     "output_type": "execute_result"
    }
   ],
   "source": [
    "train_df.columns"
   ]
  },
  {
   "cell_type": "code",
   "execution_count": 48,
   "metadata": {
    "ExecuteTime": {
     "end_time": "2023-03-31T03:39:37.207211Z",
     "start_time": "2023-03-31T03:39:37.045464Z"
    }
   },
   "outputs": [],
   "source": [
    "from lightgbm import LGBMRanker\n",
    "train_features = ['density', 'entropy', 'competitiveness']\n",
    "model = LGBMRanker(objective=\"lambdarank\")"
   ]
  },
  {
   "cell_type": "code",
   "execution_count": 49,
   "metadata": {
    "ExecuteTime": {
     "end_time": "2023-03-31T03:39:37.952553Z",
     "start_time": "2023-03-31T03:39:37.886664Z"
    }
   },
   "outputs": [
    {
     "name": "stdout",
     "output_type": "stream",
     "text": [
      "897 512230\n"
     ]
    }
   ],
   "source": [
    "get_group_size = lambda df: df.reset_index().groupby(\"name\")['name'].count()\n",
    "\n",
    "train_groups = get_group_size(train_df).to_numpy()\n",
    "test_groups = get_group_size(new_test).to_numpy()\n",
    "\n",
    "print(sum(train_groups) , sum(test_groups))"
   ]
  },
  {
   "cell_type": "code",
   "execution_count": 58,
   "metadata": {
    "ExecuteTime": {
     "end_time": "2023-03-31T06:21:38.009323Z",
     "start_time": "2023-03-31T06:21:37.686359Z"
    }
   },
   "outputs": [
    {
     "name": "stdout",
     "output_type": "stream",
     "text": [
      "[1]\tvalid_0's ndcg@10: 0.487044\n",
      "[2]\tvalid_0's ndcg@10: 0.487044\n",
      "[3]\tvalid_0's ndcg@10: 0.280257\n",
      "[4]\tvalid_0's ndcg@10: 0.52064\n",
      "[5]\tvalid_0's ndcg@10: 0.573805\n",
      "[6]\tvalid_0's ndcg@10: 0.52064\n",
      "[7]\tvalid_0's ndcg@10: 0.52064\n",
      "[8]\tvalid_0's ndcg@10: 0.532131\n",
      "[9]\tvalid_0's ndcg@10: 0.532131\n",
      "[10]\tvalid_0's ndcg@10: 0.506176\n",
      "[11]\tvalid_0's ndcg@10: 0.506176\n",
      "[12]\tvalid_0's ndcg@10: 0.506176\n",
      "[13]\tvalid_0's ndcg@10: 0.532131\n",
      "[14]\tvalid_0's ndcg@10: 0.506176\n",
      "[15]\tvalid_0's ndcg@10: 0.506176\n",
      "[16]\tvalid_0's ndcg@10: 0.506176\n",
      "[17]\tvalid_0's ndcg@10: 0.506176\n",
      "[18]\tvalid_0's ndcg@10: 0.506176\n",
      "[19]\tvalid_0's ndcg@10: 0.506176\n",
      "[20]\tvalid_0's ndcg@10: 0.506176\n",
      "[21]\tvalid_0's ndcg@10: 0.506176\n",
      "[22]\tvalid_0's ndcg@10: 0.506176\n",
      "[23]\tvalid_0's ndcg@10: 0.506176\n",
      "[24]\tvalid_0's ndcg@10: 0.506176\n",
      "[25]\tvalid_0's ndcg@10: 0.506176\n",
      "[26]\tvalid_0's ndcg@10: 0.506176\n",
      "[27]\tvalid_0's ndcg@10: 0.506176\n",
      "[28]\tvalid_0's ndcg@10: 0.506176\n",
      "[29]\tvalid_0's ndcg@10: 0.506176\n",
      "[30]\tvalid_0's ndcg@10: 0.506176\n",
      "[31]\tvalid_0's ndcg@10: 0.506176\n",
      "[32]\tvalid_0's ndcg@10: 0.506176\n",
      "[33]\tvalid_0's ndcg@10: 0.506176\n",
      "[34]\tvalid_0's ndcg@10: 0.506176\n",
      "[35]\tvalid_0's ndcg@10: 0.506176\n",
      "[36]\tvalid_0's ndcg@10: 0.506176\n",
      "[37]\tvalid_0's ndcg@10: 0.506176\n",
      "[38]\tvalid_0's ndcg@10: 0.506176\n",
      "[39]\tvalid_0's ndcg@10: 0.506176\n",
      "[40]\tvalid_0's ndcg@10: 0.506176\n",
      "[41]\tvalid_0's ndcg@10: 0.506176\n",
      "[42]\tvalid_0's ndcg@10: 0.506176\n",
      "[43]\tvalid_0's ndcg@10: 0.506176\n",
      "[44]\tvalid_0's ndcg@10: 0.506176\n",
      "[45]\tvalid_0's ndcg@10: 0.506176\n",
      "[46]\tvalid_0's ndcg@10: 0.506176\n",
      "[47]\tvalid_0's ndcg@10: 0.506176\n",
      "[48]\tvalid_0's ndcg@10: 0.506176\n",
      "[49]\tvalid_0's ndcg@10: 0.506176\n",
      "[50]\tvalid_0's ndcg@10: 0.506176\n",
      "[51]\tvalid_0's ndcg@10: 0.506176\n",
      "[52]\tvalid_0's ndcg@10: 0.506176\n",
      "[53]\tvalid_0's ndcg@10: 0.506176\n",
      "[54]\tvalid_0's ndcg@10: 0.506176\n",
      "[55]\tvalid_0's ndcg@10: 0.506176\n",
      "[56]\tvalid_0's ndcg@10: 0.506176\n",
      "[57]\tvalid_0's ndcg@10: 0.506176\n",
      "[58]\tvalid_0's ndcg@10: 0.506176\n",
      "[59]\tvalid_0's ndcg@10: 0.506176\n",
      "[60]\tvalid_0's ndcg@10: 0.506176\n",
      "[61]\tvalid_0's ndcg@10: 0.506176\n",
      "[62]\tvalid_0's ndcg@10: 0.506176\n",
      "[63]\tvalid_0's ndcg@10: 0.613245\n",
      "[64]\tvalid_0's ndcg@10: 0.613245\n",
      "[65]\tvalid_0's ndcg@10: 0.613245\n",
      "[66]\tvalid_0's ndcg@10: 0.613245\n",
      "[67]\tvalid_0's ndcg@10: 0.506176\n",
      "[68]\tvalid_0's ndcg@10: 0.613245\n",
      "[69]\tvalid_0's ndcg@10: 0.506176\n",
      "[70]\tvalid_0's ndcg@10: 0.506176\n",
      "[71]\tvalid_0's ndcg@10: 0.506176\n",
      "[72]\tvalid_0's ndcg@10: 0.532131\n",
      "[73]\tvalid_0's ndcg@10: 0.532131\n",
      "[74]\tvalid_0's ndcg@10: 0.532131\n",
      "[75]\tvalid_0's ndcg@10: 0.532131\n",
      "[76]\tvalid_0's ndcg@10: 0.532131\n",
      "[77]\tvalid_0's ndcg@10: 0.532131\n",
      "[78]\tvalid_0's ndcg@10: 0.532131\n",
      "[79]\tvalid_0's ndcg@10: 0.532131\n",
      "[80]\tvalid_0's ndcg@10: 0.532131\n",
      "[81]\tvalid_0's ndcg@10: 0.532131\n",
      "[82]\tvalid_0's ndcg@10: 0.629839\n",
      "[83]\tvalid_0's ndcg@10: 0.629839\n",
      "[84]\tvalid_0's ndcg@10: 0.629839\n",
      "[85]\tvalid_0's ndcg@10: 0.629839\n",
      "[86]\tvalid_0's ndcg@10: 0.629839\n",
      "[87]\tvalid_0's ndcg@10: 0.629839\n",
      "[88]\tvalid_0's ndcg@10: 0.532131\n",
      "[89]\tvalid_0's ndcg@10: 0.532131\n",
      "[90]\tvalid_0's ndcg@10: 0.532131\n",
      "[91]\tvalid_0's ndcg@10: 0.532131\n",
      "[92]\tvalid_0's ndcg@10: 0.532131\n",
      "[93]\tvalid_0's ndcg@10: 0.532131\n",
      "[94]\tvalid_0's ndcg@10: 0.532131\n",
      "[95]\tvalid_0's ndcg@10: 0.532131\n",
      "[96]\tvalid_0's ndcg@10: 0.532131\n",
      "[97]\tvalid_0's ndcg@10: 0.532131\n",
      "[98]\tvalid_0's ndcg@10: 0.532131\n",
      "[99]\tvalid_0's ndcg@10: 0.532131\n",
      "[100]\tvalid_0's ndcg@10: 0.629839\n"
     ]
    },
    {
     "data": {
      "text/plain": [
       "LGBMRanker(objective='lambdarank')"
      ]
     },
     "execution_count": 58,
     "metadata": {},
     "output_type": "execute_result"
    }
   ],
   "source": [
    "model.fit(\n",
    "    train_df[train_features],\n",
    "    train_df[['relevance']],\n",
    "    group=train_groups,\n",
    "    eval_set=[(new_test[train_features],new_test[['relevance']])],\n",
    "    eval_group=[test_groups],\n",
    "    eval_at=10,\n",
    "    eval_metric=['ndcg'])"
   ]
  },
  {
   "cell_type": "code",
   "execution_count": null,
   "metadata": {},
   "outputs": [],
   "source": [
    "len([(test_df[train_features],test_df['relevance'])])"
   ]
  },
  {
   "cell_type": "code",
   "execution_count": null,
   "metadata": {},
   "outputs": [],
   "source": [
    "[(test_df[train_features],test_df['relevance'])]"
   ]
  },
  {
   "cell_type": "code",
   "execution_count": null,
   "metadata": {},
   "outputs": [],
   "source": []
  }
 ],
 "metadata": {
  "kernelspec": {
   "display_name": "steph-env",
   "language": "python",
   "name": "steph-env"
  },
  "language_info": {
   "codemirror_mode": {
    "name": "ipython",
    "version": 3
   },
   "file_extension": ".py",
   "mimetype": "text/x-python",
   "name": "python",
   "nbconvert_exporter": "python",
   "pygments_lexer": "ipython3",
   "version": "3.7.5"
  },
  "toc": {
   "base_numbering": 1,
   "nav_menu": {},
   "number_sections": true,
   "sideBar": true,
   "skip_h1_title": false,
   "title_cell": "Table of Contents",
   "title_sidebar": "Contents",
   "toc_cell": false,
   "toc_position": {},
   "toc_section_display": true,
   "toc_window_display": false
  },
  "varInspector": {
   "cols": {
    "lenName": 16,
    "lenType": 16,
    "lenVar": 40
   },
   "kernels_config": {
    "python": {
     "delete_cmd_postfix": "",
     "delete_cmd_prefix": "del ",
     "library": "var_list.py",
     "varRefreshCmd": "print(var_dic_list())"
    },
    "r": {
     "delete_cmd_postfix": ") ",
     "delete_cmd_prefix": "rm(",
     "library": "var_list.r",
     "varRefreshCmd": "cat(var_dic_list()) "
    }
   },
   "types_to_exclude": [
    "module",
    "function",
    "builtin_function_or_method",
    "instance",
    "_Feature"
   ],
   "window_display": false
  }
 },
 "nbformat": 4,
 "nbformat_minor": 2
}
