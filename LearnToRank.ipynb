{
 "cells": [
  {
   "cell_type": "markdown",
   "metadata": {},
   "source": [
    "# Learn to Rank"
   ]
  },
  {
   "cell_type": "markdown",
   "metadata": {},
   "source": [
    "## Import "
   ]
  },
  {
   "cell_type": "code",
   "execution_count": 1,
   "metadata": {},
   "outputs": [],
   "source": [
    "import pandas as pd\n",
    "import json\n",
    "import numpy as np\n",
    "from collections import Counter\n",
    "import matplotlib.pyplot as plt\n",
    "import pickle\n",
    "import math "
   ]
  },
  {
   "cell_type": "code",
   "execution_count": 2,
   "metadata": {},
   "outputs": [],
   "source": [
    "df = pd.read_pickle('../data/df.pkl')"
   ]
  },
  {
   "cell_type": "markdown",
   "metadata": {},
   "source": [
    "## DF Construction\n",
    "* add relevance"
   ]
  },
  {
   "cell_type": "code",
   "execution_count": 3,
   "metadata": {},
   "outputs": [
    {
     "data": {
      "text/plain": [
       "Index(['index', 'business_id', 'stars_x', 'useful', 'funny', 'cool', 'text',\n",
       "       'date', 'name', 'address', 'city', 'state', 'postal_code', 'stars_y',\n",
       "       'review_count', 'is_open', 'attributes', 'categories', 'hours',\n",
       "       'affinity', 'complementary', 'density', 'entropy', 'competitiveness'],\n",
       "      dtype='object')"
      ]
     },
     "execution_count": 3,
     "metadata": {},
     "output_type": "execute_result"
    }
   ],
   "source": [
    "df.columns"
   ]
  },
  {
   "cell_type": "code",
   "execution_count": 4,
   "metadata": {},
   "outputs": [],
   "source": [
    "df = df.drop_duplicates(subset=['business_id','postal_code']).reset_index(drop=True)\n",
    "df = df.drop(columns=['index', 'business_id', 'stars_x', 'useful', 'funny', 'cool', 'text',\n",
    "       'date','address','is_open', 'stars_y','attributes','hours'])"
   ]
  },
  {
   "cell_type": "code",
   "execution_count": 5,
   "metadata": {},
   "outputs": [],
   "source": [
    "# sort by name and review count \n",
    "df = df.sort_values(['name', 'review_count'],\n",
    "              ascending = [True, False]).reset_index(drop=True)"
   ]
  },
  {
   "cell_type": "code",
   "execution_count": 6,
   "metadata": {},
   "outputs": [
    {
     "name": "stderr",
     "output_type": "stream",
     "text": [
      "/home/adam/.local/lib/python3.7/site-packages/ipykernel_launcher.py:8: SettingWithCopyWarning: \n",
      "A value is trying to be set on a copy of a slice from a DataFrame\n",
      "\n",
      "See the caveats in the documentation: https://pandas.pydata.org/pandas-docs/stable/user_guide/indexing.html#returning-a-view-versus-a-copy\n",
      "  \n"
     ]
    }
   ],
   "source": [
    "# create relevance score\n",
    "cnt = 0\n",
    "for i in Counter(df.name):\n",
    "    tmp = df[df.name==i].reset_index(drop=True)\n",
    "    tmp['relevance']=''\n",
    "    score = 1/len(tmp)\n",
    "    for j in range(len(tmp)):\n",
    "        tmp['relevance'][j]=1-score*j\n",
    "    if cnt ==0 :\n",
    "        new_df = tmp\n",
    "        cnt+=1\n",
    "    new_df = pd.concat([new_df,tmp])"
   ]
  },
  {
   "cell_type": "code",
   "execution_count": 7,
   "metadata": {},
   "outputs": [
    {
     "data": {
      "text/html": [
       "<div>\n",
       "<style scoped>\n",
       "    .dataframe tbody tr th:only-of-type {\n",
       "        vertical-align: middle;\n",
       "    }\n",
       "\n",
       "    .dataframe tbody tr th {\n",
       "        vertical-align: top;\n",
       "    }\n",
       "\n",
       "    .dataframe thead th {\n",
       "        text-align: right;\n",
       "    }\n",
       "</style>\n",
       "<table border=\"1\" class=\"dataframe\">\n",
       "  <thead>\n",
       "    <tr style=\"text-align: right;\">\n",
       "      <th></th>\n",
       "      <th>name</th>\n",
       "      <th>city</th>\n",
       "      <th>state</th>\n",
       "      <th>postal_code</th>\n",
       "      <th>review_count</th>\n",
       "      <th>categories</th>\n",
       "      <th>affinity</th>\n",
       "      <th>complementary</th>\n",
       "      <th>density</th>\n",
       "      <th>entropy</th>\n",
       "      <th>competitiveness</th>\n",
       "      <th>relevance</th>\n",
       "    </tr>\n",
       "  </thead>\n",
       "  <tbody>\n",
       "    <tr>\n",
       "      <th>0</th>\n",
       "      <td>Acropolis Greek Taverna</td>\n",
       "      <td>Tampa</td>\n",
       "      <td>FL</td>\n",
       "      <td>33605</td>\n",
       "      <td>511</td>\n",
       "      <td>Greek, Restaurants, Bars, Nightlife, Mediterra...</td>\n",
       "      <td>[0.0, 0.0, 0.0, 0.0, 0.0, 0.0, 0.0, 0.0, 0.0, ...</td>\n",
       "      <td>[0.9988400936126709, 0.0, 0.0, 0.0, 0.0, 0.0, ...</td>\n",
       "      <td>36</td>\n",
       "      <td>-0.0</td>\n",
       "      <td>-1.0</td>\n",
       "      <td>1.0</td>\n",
       "    </tr>\n",
       "    <tr>\n",
       "      <th>1</th>\n",
       "      <td>Acropolis Greek Taverna</td>\n",
       "      <td>St. Petersburg</td>\n",
       "      <td>FL</td>\n",
       "      <td>33701</td>\n",
       "      <td>403</td>\n",
       "      <td>Restaurants, Greek, Mediterranean, Nightlife, ...</td>\n",
       "      <td>[0.9600942057702895, 0.0, 0.0, 0.0, 0.0, 0.0, ...</td>\n",
       "      <td>[0.03874588784238142, 0.0, 0.0, 0.0, 0.0, 0.0,...</td>\n",
       "      <td>9</td>\n",
       "      <td>-0.0</td>\n",
       "      <td>-1.0</td>\n",
       "      <td>0.8</td>\n",
       "    </tr>\n",
       "    <tr>\n",
       "      <th>2</th>\n",
       "      <td>Acropolis Greek Taverna</td>\n",
       "      <td>Tampa</td>\n",
       "      <td>FL</td>\n",
       "      <td>33613</td>\n",
       "      <td>332</td>\n",
       "      <td>Restaurants, Mediterranean, Greek, Beer, Wine ...</td>\n",
       "      <td>[0.0, 0.0, 0.0, 0.0, 0.0, 0.0, 0.0, 0.0, 0.0, ...</td>\n",
       "      <td>[0.9988400936126709, 0.0, 0.0, 0.0, 0.0, 0.0, ...</td>\n",
       "      <td>36</td>\n",
       "      <td>-0.0</td>\n",
       "      <td>-1.0</td>\n",
       "      <td>0.6</td>\n",
       "    </tr>\n",
       "    <tr>\n",
       "      <th>3</th>\n",
       "      <td>Acropolis Greek Taverna</td>\n",
       "      <td>Riverview</td>\n",
       "      <td>FL</td>\n",
       "      <td>33578</td>\n",
       "      <td>327</td>\n",
       "      <td>Beer, Wine &amp; Spirits, Food, Bars, Nightlife, R...</td>\n",
       "      <td>[0.5758802507272236, 0.0, 0.0, 0.0, 0.0, 0.0, ...</td>\n",
       "      <td>[0.4229598428854473, 0.0, 0.0, 0.0, 0.0, 0.0, ...</td>\n",
       "      <td>9</td>\n",
       "      <td>-0.0</td>\n",
       "      <td>-1.0</td>\n",
       "      <td>0.4</td>\n",
       "    </tr>\n",
       "    <tr>\n",
       "      <th>4</th>\n",
       "      <td>Acropolis Greek Taverna</td>\n",
       "      <td>Tampa</td>\n",
       "      <td>FL</td>\n",
       "      <td>33609</td>\n",
       "      <td>231</td>\n",
       "      <td>Greek, Restaurants, Nightlife, Mediterranean, ...</td>\n",
       "      <td>[0.0, 0.0, 0.0, 0.0, 0.0, 0.0, 0.0, 0.0, 0.0, ...</td>\n",
       "      <td>[0.9988400936126709, 0.0, 0.0, 0.0, 0.0, 0.0, ...</td>\n",
       "      <td>36</td>\n",
       "      <td>-0.0</td>\n",
       "      <td>-1.0</td>\n",
       "      <td>0.2</td>\n",
       "    </tr>\n",
       "    <tr>\n",
       "      <th>...</th>\n",
       "      <td>...</td>\n",
       "      <td>...</td>\n",
       "      <td>...</td>\n",
       "      <td>...</td>\n",
       "      <td>...</td>\n",
       "      <td>...</td>\n",
       "      <td>...</td>\n",
       "      <td>...</td>\n",
       "      <td>...</td>\n",
       "      <td>...</td>\n",
       "      <td>...</td>\n",
       "      <td>...</td>\n",
       "    </tr>\n",
       "    <tr>\n",
       "      <th>2</th>\n",
       "      <td>WingHouse Bar &amp; Grill</td>\n",
       "      <td>Clearwater</td>\n",
       "      <td>FL</td>\n",
       "      <td>33759</td>\n",
       "      <td>146</td>\n",
       "      <td>Restaurants, Chicken Wings, Burgers, Sports Ba...</td>\n",
       "      <td>[0.809322657726625, 0.0, 0.0, 0.0, 0.0, 0.0, 0...</td>\n",
       "      <td>[0.0009984348789657815, 0.18866568803787231, 0...</td>\n",
       "      <td>22</td>\n",
       "      <td>-0.0</td>\n",
       "      <td>-1.0</td>\n",
       "      <td>0.5</td>\n",
       "    </tr>\n",
       "    <tr>\n",
       "      <th>3</th>\n",
       "      <td>WingHouse Bar &amp; Grill</td>\n",
       "      <td>Brandon</td>\n",
       "      <td>FL</td>\n",
       "      <td>33511</td>\n",
       "      <td>138</td>\n",
       "      <td>Chicken Wings, Restaurants, Sports Bars, Night...</td>\n",
       "      <td>[0.022958152011844035, 0.0, 0.0, 0.0, 0.0, 0.0...</td>\n",
       "      <td>[0.7873629405937468, 0.18866568803787231, 0.0,...</td>\n",
       "      <td>23</td>\n",
       "      <td>-0.0</td>\n",
       "      <td>-1.0</td>\n",
       "      <td>0.25</td>\n",
       "    </tr>\n",
       "    <tr>\n",
       "      <th>0</th>\n",
       "      <td>Wingstop</td>\n",
       "      <td>Wesley Chapel</td>\n",
       "      <td>FL</td>\n",
       "      <td>33544</td>\n",
       "      <td>56</td>\n",
       "      <td>Restaurants, Chicken Wings</td>\n",
       "      <td>[0.9929083489698982, 0.0, 0.0, 0.0, 0.0, 0.0, ...</td>\n",
       "      <td>[0.001119444437541972, 0.0, 0.0, 0.0, 0.0, 0.0...</td>\n",
       "      <td>15</td>\n",
       "      <td>-0.0</td>\n",
       "      <td>-1.0</td>\n",
       "      <td>1.0</td>\n",
       "    </tr>\n",
       "    <tr>\n",
       "      <th>1</th>\n",
       "      <td>Wingstop</td>\n",
       "      <td>Brandon</td>\n",
       "      <td>FL</td>\n",
       "      <td>33511</td>\n",
       "      <td>54</td>\n",
       "      <td>Fast Food, Restaurants, Chicken Wings</td>\n",
       "      <td>[0.028162960822931016, 0.0, 0.0, 0.0, 0.0, 0.0...</td>\n",
       "      <td>[0.9658648325845092, 0.0, 0.0, 0.0, 0.0, 0.0, ...</td>\n",
       "      <td>23</td>\n",
       "      <td>-0.0</td>\n",
       "      <td>-1.0</td>\n",
       "      <td>0.666667</td>\n",
       "    </tr>\n",
       "    <tr>\n",
       "      <th>2</th>\n",
       "      <td>Wingstop</td>\n",
       "      <td>Tampa</td>\n",
       "      <td>FL</td>\n",
       "      <td>33618</td>\n",
       "      <td>52</td>\n",
       "      <td>Restaurants, American (Traditional), Chicken W...</td>\n",
       "      <td>[0.0, 0.0, 0.0, 0.0, 0.0, 0.0, 0.0, 0.0, 0.0, ...</td>\n",
       "      <td>[0.9940277934074402, 0.0, 0.0, 0.0, 0.0, 0.0, ...</td>\n",
       "      <td>36</td>\n",
       "      <td>-0.0</td>\n",
       "      <td>-1.0</td>\n",
       "      <td>0.333333</td>\n",
       "    </tr>\n",
       "  </tbody>\n",
       "</table>\n",
       "<p>218 rows × 12 columns</p>\n",
       "</div>"
      ],
      "text/plain": [
       "                       name            city state postal_code  review_count  \\\n",
       "0   Acropolis Greek Taverna           Tampa    FL       33605           511   \n",
       "1   Acropolis Greek Taverna  St. Petersburg    FL       33701           403   \n",
       "2   Acropolis Greek Taverna           Tampa    FL       33613           332   \n",
       "3   Acropolis Greek Taverna       Riverview    FL       33578           327   \n",
       "4   Acropolis Greek Taverna           Tampa    FL       33609           231   \n",
       "..                      ...             ...   ...         ...           ...   \n",
       "2     WingHouse Bar & Grill      Clearwater    FL       33759           146   \n",
       "3     WingHouse Bar & Grill         Brandon    FL       33511           138   \n",
       "0                  Wingstop   Wesley Chapel    FL       33544            56   \n",
       "1                  Wingstop         Brandon    FL       33511            54   \n",
       "2                  Wingstop           Tampa    FL       33618            52   \n",
       "\n",
       "                                           categories  \\\n",
       "0   Greek, Restaurants, Bars, Nightlife, Mediterra...   \n",
       "1   Restaurants, Greek, Mediterranean, Nightlife, ...   \n",
       "2   Restaurants, Mediterranean, Greek, Beer, Wine ...   \n",
       "3   Beer, Wine & Spirits, Food, Bars, Nightlife, R...   \n",
       "4   Greek, Restaurants, Nightlife, Mediterranean, ...   \n",
       "..                                                ...   \n",
       "2   Restaurants, Chicken Wings, Burgers, Sports Ba...   \n",
       "3   Chicken Wings, Restaurants, Sports Bars, Night...   \n",
       "0                          Restaurants, Chicken Wings   \n",
       "1               Fast Food, Restaurants, Chicken Wings   \n",
       "2   Restaurants, American (Traditional), Chicken W...   \n",
       "\n",
       "                                             affinity  \\\n",
       "0   [0.0, 0.0, 0.0, 0.0, 0.0, 0.0, 0.0, 0.0, 0.0, ...   \n",
       "1   [0.9600942057702895, 0.0, 0.0, 0.0, 0.0, 0.0, ...   \n",
       "2   [0.0, 0.0, 0.0, 0.0, 0.0, 0.0, 0.0, 0.0, 0.0, ...   \n",
       "3   [0.5758802507272236, 0.0, 0.0, 0.0, 0.0, 0.0, ...   \n",
       "4   [0.0, 0.0, 0.0, 0.0, 0.0, 0.0, 0.0, 0.0, 0.0, ...   \n",
       "..                                                ...   \n",
       "2   [0.809322657726625, 0.0, 0.0, 0.0, 0.0, 0.0, 0...   \n",
       "3   [0.022958152011844035, 0.0, 0.0, 0.0, 0.0, 0.0...   \n",
       "0   [0.9929083489698982, 0.0, 0.0, 0.0, 0.0, 0.0, ...   \n",
       "1   [0.028162960822931016, 0.0, 0.0, 0.0, 0.0, 0.0...   \n",
       "2   [0.0, 0.0, 0.0, 0.0, 0.0, 0.0, 0.0, 0.0, 0.0, ...   \n",
       "\n",
       "                                        complementary density entropy  \\\n",
       "0   [0.9988400936126709, 0.0, 0.0, 0.0, 0.0, 0.0, ...      36    -0.0   \n",
       "1   [0.03874588784238142, 0.0, 0.0, 0.0, 0.0, 0.0,...       9    -0.0   \n",
       "2   [0.9988400936126709, 0.0, 0.0, 0.0, 0.0, 0.0, ...      36    -0.0   \n",
       "3   [0.4229598428854473, 0.0, 0.0, 0.0, 0.0, 0.0, ...       9    -0.0   \n",
       "4   [0.9988400936126709, 0.0, 0.0, 0.0, 0.0, 0.0, ...      36    -0.0   \n",
       "..                                                ...     ...     ...   \n",
       "2   [0.0009984348789657815, 0.18866568803787231, 0...      22    -0.0   \n",
       "3   [0.7873629405937468, 0.18866568803787231, 0.0,...      23    -0.0   \n",
       "0   [0.001119444437541972, 0.0, 0.0, 0.0, 0.0, 0.0...      15    -0.0   \n",
       "1   [0.9658648325845092, 0.0, 0.0, 0.0, 0.0, 0.0, ...      23    -0.0   \n",
       "2   [0.9940277934074402, 0.0, 0.0, 0.0, 0.0, 0.0, ...      36    -0.0   \n",
       "\n",
       "   competitiveness relevance  \n",
       "0             -1.0       1.0  \n",
       "1             -1.0       0.8  \n",
       "2             -1.0       0.6  \n",
       "3             -1.0       0.4  \n",
       "4             -1.0       0.2  \n",
       "..             ...       ...  \n",
       "2             -1.0       0.5  \n",
       "3             -1.0      0.25  \n",
       "0             -1.0       1.0  \n",
       "1             -1.0  0.666667  \n",
       "2             -1.0  0.333333  \n",
       "\n",
       "[218 rows x 12 columns]"
      ]
     },
     "execution_count": 7,
     "metadata": {},
     "output_type": "execute_result"
    }
   ],
   "source": [
    "new_df"
   ]
  },
  {
   "cell_type": "code",
   "execution_count": 8,
   "metadata": {},
   "outputs": [],
   "source": [
    "# breakdown affinity & complementary\n",
    "from operator import itemgetter\n",
    "indices = range(len(df['affinity'][0]))\n",
    "a_df = df['affinity'].transform({f'affinity_{i+1}': itemgetter(i) for i in indices})\n",
    "\n",
    "indices = range(len(df['complementary'][0]))\n",
    "c_df = df['complementary'].transform({f'complementary_{i+1}': itemgetter(i) for i in indices})"
   ]
  },
  {
   "cell_type": "code",
   "execution_count": 9,
   "metadata": {},
   "outputs": [],
   "source": [
    "new_df = new_df.join(a_df)\n",
    "new_df = new_df.join(c_df)"
   ]
  },
  {
   "cell_type": "markdown",
   "metadata": {},
   "source": [
    "## Model"
   ]
  },
  {
   "cell_type": "markdown",
   "metadata": {},
   "source": [
    "### Create Dataset"
   ]
  },
  {
   "cell_type": "code",
   "execution_count": 12,
   "metadata": {},
   "outputs": [
    {
     "data": {
      "text/plain": [
       "Index(['name', 'city', 'state', 'postal_code', 'review_count', 'categories',\n",
       "       'affinity', 'complementary', 'density', 'entropy', 'competitiveness',\n",
       "       'relevance', 'affinity_1', 'affinity_2', 'affinity_3', 'affinity_4',\n",
       "       'affinity_5', 'affinity_6', 'affinity_7', 'affinity_8', 'affinity_9',\n",
       "       'affinity_10', 'complementary_1', 'complementary_2', 'complementary_3',\n",
       "       'complementary_4', 'complementary_5', 'complementary_6',\n",
       "       'complementary_7', 'complementary_8', 'complementary_9',\n",
       "       'complementary_10'],\n",
       "      dtype='object')"
      ]
     },
     "execution_count": 12,
     "metadata": {},
     "output_type": "execute_result"
    }
   ],
   "source": [
    "new_df.columns"
   ]
  },
  {
   "cell_type": "code",
   "execution_count": 19,
   "metadata": {},
   "outputs": [],
   "source": [
    "features = ['name', 'city', 'state', 'postal_code', 'review_count', 'categories',\n",
    "       'density', 'entropy', 'competitiveness',\n",
    "       'affinity_1', 'affinity_2', 'affinity_3', 'affinity_4',\n",
    "       'affinity_5', 'affinity_6', 'affinity_7', 'affinity_8', 'affinity_9',\n",
    "       'affinity_10', 'complementary_1', 'complementary_2', 'complementary_3',\n",
    "       'complementary_4', 'complementary_5', 'complementary_6',\n",
    "       'complementary_7', 'complementary_8', 'complementary_9',\n",
    "       'complementary_10']\n",
    "target = 'relevance'\n",
    "\n",
    "for i in ['density', 'entropy', 'competitiveness',\n",
    "       'relevance', 'affinity_1', 'affinity_2', 'affinity_3', 'affinity_4',\n",
    "       'affinity_5', 'affinity_6', 'affinity_7', 'affinity_8', 'affinity_9',\n",
    "       'affinity_10', 'complementary_1', 'complementary_2', 'complementary_3',\n",
    "       'complementary_4', 'complementary_5', 'complementary_6',\n",
    "       'complementary_7', 'complementary_8', 'complementary_9',\n",
    "       'complementary_10']:\n",
    "       new_df[i] = new_df[i].astype('int32')\n",
    "# train test split \n",
    "from sklearn.model_selection import train_test_split\n",
    "X_train, X_test, y_train, y_test = train_test_split( new_df[features], new_df[target], test_size=0.33, random_state=42)"
   ]
  },
  {
   "cell_type": "code",
   "execution_count": 20,
   "metadata": {},
   "outputs": [
    {
     "name": "stdout",
     "output_type": "stream",
     "text": [
      "146 72\n"
     ]
    }
   ],
   "source": [
    "get_group_size = lambda new_df: new_df.reset_index().groupby(\"name\")['name'].count()\n",
    "\n",
    "train_groups = get_group_size(X_train)\n",
    "test_groups = get_group_size(X_test)\n",
    "\n",
    "print(sum(train_groups) , sum(test_groups))"
   ]
  },
  {
   "cell_type": "markdown",
   "metadata": {},
   "source": [
    "### training"
   ]
  },
  {
   "cell_type": "code",
   "execution_count": 21,
   "metadata": {},
   "outputs": [
    {
     "name": "stdout",
     "output_type": "stream",
     "text": [
      "[1]\tvalid_0's ndcg@1: 0.818182\tvalid_0's ndcg@2: 0.921174\tvalid_0's ndcg@3: 0.921174\tvalid_0's ndcg@4: 0.929176\tvalid_0's ndcg@5: 0.929176\n",
      "[2]\tvalid_0's ndcg@1: 0.818182\tvalid_0's ndcg@2: 0.921174\tvalid_0's ndcg@3: 0.930464\tvalid_0's ndcg@4: 0.930464\tvalid_0's ndcg@5: 0.930464\n",
      "[3]\tvalid_0's ndcg@1: 0.818182\tvalid_0's ndcg@2: 0.921174\tvalid_0's ndcg@3: 0.930464\tvalid_0's ndcg@4: 0.930464\tvalid_0's ndcg@5: 0.930464\n",
      "[4]\tvalid_0's ndcg@1: 0.818182\tvalid_0's ndcg@2: 0.921174\tvalid_0's ndcg@3: 0.930464\tvalid_0's ndcg@4: 0.930464\tvalid_0's ndcg@5: 0.930464\n",
      "[5]\tvalid_0's ndcg@1: 0.818182\tvalid_0's ndcg@2: 0.921174\tvalid_0's ndcg@3: 0.930464\tvalid_0's ndcg@4: 0.930464\tvalid_0's ndcg@5: 0.930464\n",
      "[6]\tvalid_0's ndcg@1: 0.818182\tvalid_0's ndcg@2: 0.921174\tvalid_0's ndcg@3: 0.930464\tvalid_0's ndcg@4: 0.930464\tvalid_0's ndcg@5: 0.930464\n",
      "[7]\tvalid_0's ndcg@1: 0.818182\tvalid_0's ndcg@2: 0.921174\tvalid_0's ndcg@3: 0.930464\tvalid_0's ndcg@4: 0.930464\tvalid_0's ndcg@5: 0.930464\n",
      "[8]\tvalid_0's ndcg@1: 0.818182\tvalid_0's ndcg@2: 0.921174\tvalid_0's ndcg@3: 0.930464\tvalid_0's ndcg@4: 0.930464\tvalid_0's ndcg@5: 0.930464\n",
      "[9]\tvalid_0's ndcg@1: 0.818182\tvalid_0's ndcg@2: 0.921174\tvalid_0's ndcg@3: 0.930464\tvalid_0's ndcg@4: 0.930464\tvalid_0's ndcg@5: 0.930464\n",
      "[10]\tvalid_0's ndcg@1: 0.818182\tvalid_0's ndcg@2: 0.921174\tvalid_0's ndcg@3: 0.930464\tvalid_0's ndcg@4: 0.930464\tvalid_0's ndcg@5: 0.930464\n",
      "[11]\tvalid_0's ndcg@1: 0.818182\tvalid_0's ndcg@2: 0.921174\tvalid_0's ndcg@3: 0.930464\tvalid_0's ndcg@4: 0.930464\tvalid_0's ndcg@5: 0.930464\n",
      "[12]\tvalid_0's ndcg@1: 0.818182\tvalid_0's ndcg@2: 0.921174\tvalid_0's ndcg@3: 0.930464\tvalid_0's ndcg@4: 0.930464\tvalid_0's ndcg@5: 0.930464\n",
      "[13]\tvalid_0's ndcg@1: 0.818182\tvalid_0's ndcg@2: 0.921174\tvalid_0's ndcg@3: 0.930464\tvalid_0's ndcg@4: 0.930464\tvalid_0's ndcg@5: 0.930464\n",
      "[14]\tvalid_0's ndcg@1: 0.818182\tvalid_0's ndcg@2: 0.921174\tvalid_0's ndcg@3: 0.930464\tvalid_0's ndcg@4: 0.930464\tvalid_0's ndcg@5: 0.930464\n",
      "[15]\tvalid_0's ndcg@1: 0.818182\tvalid_0's ndcg@2: 0.921174\tvalid_0's ndcg@3: 0.930464\tvalid_0's ndcg@4: 0.930464\tvalid_0's ndcg@5: 0.930464\n",
      "[16]\tvalid_0's ndcg@1: 0.818182\tvalid_0's ndcg@2: 0.921174\tvalid_0's ndcg@3: 0.930464\tvalid_0's ndcg@4: 0.930464\tvalid_0's ndcg@5: 0.930464\n",
      "[17]\tvalid_0's ndcg@1: 0.818182\tvalid_0's ndcg@2: 0.921174\tvalid_0's ndcg@3: 0.930464\tvalid_0's ndcg@4: 0.930464\tvalid_0's ndcg@5: 0.930464\n",
      "[18]\tvalid_0's ndcg@1: 0.818182\tvalid_0's ndcg@2: 0.921174\tvalid_0's ndcg@3: 0.930464\tvalid_0's ndcg@4: 0.930464\tvalid_0's ndcg@5: 0.930464\n",
      "[19]\tvalid_0's ndcg@1: 0.818182\tvalid_0's ndcg@2: 0.921174\tvalid_0's ndcg@3: 0.930464\tvalid_0's ndcg@4: 0.930464\tvalid_0's ndcg@5: 0.930464\n",
      "[20]\tvalid_0's ndcg@1: 0.818182\tvalid_0's ndcg@2: 0.921174\tvalid_0's ndcg@3: 0.930464\tvalid_0's ndcg@4: 0.930464\tvalid_0's ndcg@5: 0.930464\n",
      "[21]\tvalid_0's ndcg@1: 0.818182\tvalid_0's ndcg@2: 0.921174\tvalid_0's ndcg@3: 0.930464\tvalid_0's ndcg@4: 0.930464\tvalid_0's ndcg@5: 0.930464\n",
      "[22]\tvalid_0's ndcg@1: 0.818182\tvalid_0's ndcg@2: 0.921174\tvalid_0's ndcg@3: 0.930464\tvalid_0's ndcg@4: 0.930464\tvalid_0's ndcg@5: 0.930464\n",
      "[23]\tvalid_0's ndcg@1: 0.818182\tvalid_0's ndcg@2: 0.921174\tvalid_0's ndcg@3: 0.930464\tvalid_0's ndcg@4: 0.930464\tvalid_0's ndcg@5: 0.930464\n",
      "[24]\tvalid_0's ndcg@1: 0.818182\tvalid_0's ndcg@2: 0.921174\tvalid_0's ndcg@3: 0.930464\tvalid_0's ndcg@4: 0.930464\tvalid_0's ndcg@5: 0.930464\n",
      "[25]\tvalid_0's ndcg@1: 0.818182\tvalid_0's ndcg@2: 0.921174\tvalid_0's ndcg@3: 0.930464\tvalid_0's ndcg@4: 0.930464\tvalid_0's ndcg@5: 0.930464\n",
      "[26]\tvalid_0's ndcg@1: 0.818182\tvalid_0's ndcg@2: 0.921174\tvalid_0's ndcg@3: 0.930464\tvalid_0's ndcg@4: 0.930464\tvalid_0's ndcg@5: 0.930464\n",
      "[27]\tvalid_0's ndcg@1: 0.818182\tvalid_0's ndcg@2: 0.921174\tvalid_0's ndcg@3: 0.930464\tvalid_0's ndcg@4: 0.930464\tvalid_0's ndcg@5: 0.930464\n",
      "[28]\tvalid_0's ndcg@1: 0.818182\tvalid_0's ndcg@2: 0.921174\tvalid_0's ndcg@3: 0.930464\tvalid_0's ndcg@4: 0.930464\tvalid_0's ndcg@5: 0.930464\n",
      "[29]\tvalid_0's ndcg@1: 0.818182\tvalid_0's ndcg@2: 0.921174\tvalid_0's ndcg@3: 0.930464\tvalid_0's ndcg@4: 0.930464\tvalid_0's ndcg@5: 0.930464\n",
      "[30]\tvalid_0's ndcg@1: 0.818182\tvalid_0's ndcg@2: 0.921174\tvalid_0's ndcg@3: 0.930464\tvalid_0's ndcg@4: 0.930464\tvalid_0's ndcg@5: 0.930464\n",
      "[31]\tvalid_0's ndcg@1: 0.818182\tvalid_0's ndcg@2: 0.921174\tvalid_0's ndcg@3: 0.930464\tvalid_0's ndcg@4: 0.930464\tvalid_0's ndcg@5: 0.930464\n",
      "[32]\tvalid_0's ndcg@1: 0.818182\tvalid_0's ndcg@2: 0.921174\tvalid_0's ndcg@3: 0.930464\tvalid_0's ndcg@4: 0.930464\tvalid_0's ndcg@5: 0.930464\n",
      "[33]\tvalid_0's ndcg@1: 0.818182\tvalid_0's ndcg@2: 0.921174\tvalid_0's ndcg@3: 0.930464\tvalid_0's ndcg@4: 0.930464\tvalid_0's ndcg@5: 0.930464\n",
      "[34]\tvalid_0's ndcg@1: 0.818182\tvalid_0's ndcg@2: 0.921174\tvalid_0's ndcg@3: 0.930464\tvalid_0's ndcg@4: 0.930464\tvalid_0's ndcg@5: 0.930464\n",
      "[35]\tvalid_0's ndcg@1: 0.818182\tvalid_0's ndcg@2: 0.921174\tvalid_0's ndcg@3: 0.930464\tvalid_0's ndcg@4: 0.930464\tvalid_0's ndcg@5: 0.930464\n",
      "[36]\tvalid_0's ndcg@1: 0.818182\tvalid_0's ndcg@2: 0.921174\tvalid_0's ndcg@3: 0.930464\tvalid_0's ndcg@4: 0.930464\tvalid_0's ndcg@5: 0.930464\n",
      "[37]\tvalid_0's ndcg@1: 0.818182\tvalid_0's ndcg@2: 0.921174\tvalid_0's ndcg@3: 0.930464\tvalid_0's ndcg@4: 0.930464\tvalid_0's ndcg@5: 0.930464\n",
      "[38]\tvalid_0's ndcg@1: 0.818182\tvalid_0's ndcg@2: 0.921174\tvalid_0's ndcg@3: 0.930464\tvalid_0's ndcg@4: 0.930464\tvalid_0's ndcg@5: 0.930464\n",
      "[39]\tvalid_0's ndcg@1: 0.818182\tvalid_0's ndcg@2: 0.921174\tvalid_0's ndcg@3: 0.930464\tvalid_0's ndcg@4: 0.930464\tvalid_0's ndcg@5: 0.930464\n",
      "[40]\tvalid_0's ndcg@1: 0.818182\tvalid_0's ndcg@2: 0.921174\tvalid_0's ndcg@3: 0.930464\tvalid_0's ndcg@4: 0.930464\tvalid_0's ndcg@5: 0.930464\n",
      "[41]\tvalid_0's ndcg@1: 0.818182\tvalid_0's ndcg@2: 0.921174\tvalid_0's ndcg@3: 0.930464\tvalid_0's ndcg@4: 0.930464\tvalid_0's ndcg@5: 0.930464\n",
      "[42]\tvalid_0's ndcg@1: 0.818182\tvalid_0's ndcg@2: 0.921174\tvalid_0's ndcg@3: 0.930464\tvalid_0's ndcg@4: 0.930464\tvalid_0's ndcg@5: 0.930464\n",
      "[43]\tvalid_0's ndcg@1: 0.818182\tvalid_0's ndcg@2: 0.921174\tvalid_0's ndcg@3: 0.930464\tvalid_0's ndcg@4: 0.930464\tvalid_0's ndcg@5: 0.930464\n",
      "[44]\tvalid_0's ndcg@1: 0.818182\tvalid_0's ndcg@2: 0.921174\tvalid_0's ndcg@3: 0.930464\tvalid_0's ndcg@4: 0.930464\tvalid_0's ndcg@5: 0.930464\n",
      "[45]\tvalid_0's ndcg@1: 0.818182\tvalid_0's ndcg@2: 0.921174\tvalid_0's ndcg@3: 0.930464\tvalid_0's ndcg@4: 0.930464\tvalid_0's ndcg@5: 0.930464\n",
      "[46]\tvalid_0's ndcg@1: 0.818182\tvalid_0's ndcg@2: 0.921174\tvalid_0's ndcg@3: 0.930464\tvalid_0's ndcg@4: 0.930464\tvalid_0's ndcg@5: 0.930464\n",
      "[47]\tvalid_0's ndcg@1: 0.818182\tvalid_0's ndcg@2: 0.921174\tvalid_0's ndcg@3: 0.930464\tvalid_0's ndcg@4: 0.930464\tvalid_0's ndcg@5: 0.930464\n",
      "[48]\tvalid_0's ndcg@1: 0.818182\tvalid_0's ndcg@2: 0.921174\tvalid_0's ndcg@3: 0.930464\tvalid_0's ndcg@4: 0.930464\tvalid_0's ndcg@5: 0.930464\n",
      "[49]\tvalid_0's ndcg@1: 0.818182\tvalid_0's ndcg@2: 0.921174\tvalid_0's ndcg@3: 0.930464\tvalid_0's ndcg@4: 0.930464\tvalid_0's ndcg@5: 0.930464\n",
      "[50]\tvalid_0's ndcg@1: 0.818182\tvalid_0's ndcg@2: 0.921174\tvalid_0's ndcg@3: 0.930464\tvalid_0's ndcg@4: 0.930464\tvalid_0's ndcg@5: 0.930464\n",
      "[51]\tvalid_0's ndcg@1: 0.818182\tvalid_0's ndcg@2: 0.921174\tvalid_0's ndcg@3: 0.930464\tvalid_0's ndcg@4: 0.930464\tvalid_0's ndcg@5: 0.930464\n",
      "[52]\tvalid_0's ndcg@1: 0.818182\tvalid_0's ndcg@2: 0.921174\tvalid_0's ndcg@3: 0.930464\tvalid_0's ndcg@4: 0.930464\tvalid_0's ndcg@5: 0.930464\n",
      "[53]\tvalid_0's ndcg@1: 0.818182\tvalid_0's ndcg@2: 0.921174\tvalid_0's ndcg@3: 0.930464\tvalid_0's ndcg@4: 0.930464\tvalid_0's ndcg@5: 0.930464\n",
      "[54]\tvalid_0's ndcg@1: 0.818182\tvalid_0's ndcg@2: 0.921174\tvalid_0's ndcg@3: 0.930464\tvalid_0's ndcg@4: 0.930464\tvalid_0's ndcg@5: 0.930464\n",
      "[55]\tvalid_0's ndcg@1: 0.818182\tvalid_0's ndcg@2: 0.921174\tvalid_0's ndcg@3: 0.930464\tvalid_0's ndcg@4: 0.930464\tvalid_0's ndcg@5: 0.930464\n",
      "[56]\tvalid_0's ndcg@1: 0.818182\tvalid_0's ndcg@2: 0.921174\tvalid_0's ndcg@3: 0.930464\tvalid_0's ndcg@4: 0.930464\tvalid_0's ndcg@5: 0.930464\n",
      "[57]\tvalid_0's ndcg@1: 0.818182\tvalid_0's ndcg@2: 0.921174\tvalid_0's ndcg@3: 0.930464\tvalid_0's ndcg@4: 0.930464\tvalid_0's ndcg@5: 0.930464\n",
      "[58]\tvalid_0's ndcg@1: 0.818182\tvalid_0's ndcg@2: 0.921174\tvalid_0's ndcg@3: 0.930464\tvalid_0's ndcg@4: 0.930464\tvalid_0's ndcg@5: 0.930464\n",
      "[59]\tvalid_0's ndcg@1: 0.818182\tvalid_0's ndcg@2: 0.921174\tvalid_0's ndcg@3: 0.930464\tvalid_0's ndcg@4: 0.930464\tvalid_0's ndcg@5: 0.930464\n",
      "[60]\tvalid_0's ndcg@1: 0.818182\tvalid_0's ndcg@2: 0.921174\tvalid_0's ndcg@3: 0.930464\tvalid_0's ndcg@4: 0.930464\tvalid_0's ndcg@5: 0.930464\n",
      "[61]\tvalid_0's ndcg@1: 0.818182\tvalid_0's ndcg@2: 0.921174\tvalid_0's ndcg@3: 0.930464\tvalid_0's ndcg@4: 0.930464\tvalid_0's ndcg@5: 0.930464\n",
      "[62]\tvalid_0's ndcg@1: 0.818182\tvalid_0's ndcg@2: 0.921174\tvalid_0's ndcg@3: 0.930464\tvalid_0's ndcg@4: 0.930464\tvalid_0's ndcg@5: 0.930464\n",
      "[63]\tvalid_0's ndcg@1: 0.818182\tvalid_0's ndcg@2: 0.921174\tvalid_0's ndcg@3: 0.930464\tvalid_0's ndcg@4: 0.930464\tvalid_0's ndcg@5: 0.930464\n",
      "[64]\tvalid_0's ndcg@1: 0.818182\tvalid_0's ndcg@2: 0.921174\tvalid_0's ndcg@3: 0.930464\tvalid_0's ndcg@4: 0.930464\tvalid_0's ndcg@5: 0.930464\n",
      "[65]\tvalid_0's ndcg@1: 0.818182\tvalid_0's ndcg@2: 0.921174\tvalid_0's ndcg@3: 0.930464\tvalid_0's ndcg@4: 0.930464\tvalid_0's ndcg@5: 0.930464\n",
      "[66]\tvalid_0's ndcg@1: 0.818182\tvalid_0's ndcg@2: 0.921174\tvalid_0's ndcg@3: 0.930464\tvalid_0's ndcg@4: 0.930464\tvalid_0's ndcg@5: 0.930464\n",
      "[67]\tvalid_0's ndcg@1: 0.818182\tvalid_0's ndcg@2: 0.921174\tvalid_0's ndcg@3: 0.930464\tvalid_0's ndcg@4: 0.930464\tvalid_0's ndcg@5: 0.930464\n",
      "[68]\tvalid_0's ndcg@1: 0.818182\tvalid_0's ndcg@2: 0.921174\tvalid_0's ndcg@3: 0.930464\tvalid_0's ndcg@4: 0.930464\tvalid_0's ndcg@5: 0.930464\n",
      "[69]\tvalid_0's ndcg@1: 0.818182\tvalid_0's ndcg@2: 0.921174\tvalid_0's ndcg@3: 0.930464\tvalid_0's ndcg@4: 0.930464\tvalid_0's ndcg@5: 0.930464\n",
      "[70]\tvalid_0's ndcg@1: 0.818182\tvalid_0's ndcg@2: 0.921174\tvalid_0's ndcg@3: 0.930464\tvalid_0's ndcg@4: 0.930464\tvalid_0's ndcg@5: 0.930464\n",
      "[71]\tvalid_0's ndcg@1: 0.818182\tvalid_0's ndcg@2: 0.921174\tvalid_0's ndcg@3: 0.930464\tvalid_0's ndcg@4: 0.930464\tvalid_0's ndcg@5: 0.930464\n",
      "[72]\tvalid_0's ndcg@1: 0.818182\tvalid_0's ndcg@2: 0.921174\tvalid_0's ndcg@3: 0.930464\tvalid_0's ndcg@4: 0.930464\tvalid_0's ndcg@5: 0.930464\n",
      "[73]\tvalid_0's ndcg@1: 0.818182\tvalid_0's ndcg@2: 0.921174\tvalid_0's ndcg@3: 0.930464\tvalid_0's ndcg@4: 0.930464\tvalid_0's ndcg@5: 0.930464\n",
      "[74]\tvalid_0's ndcg@1: 0.818182\tvalid_0's ndcg@2: 0.921174\tvalid_0's ndcg@3: 0.930464\tvalid_0's ndcg@4: 0.930464\tvalid_0's ndcg@5: 0.930464\n",
      "[75]\tvalid_0's ndcg@1: 0.818182\tvalid_0's ndcg@2: 0.921174\tvalid_0's ndcg@3: 0.930464\tvalid_0's ndcg@4: 0.930464\tvalid_0's ndcg@5: 0.930464\n",
      "[76]\tvalid_0's ndcg@1: 0.818182\tvalid_0's ndcg@2: 0.921174\tvalid_0's ndcg@3: 0.930464\tvalid_0's ndcg@4: 0.930464\tvalid_0's ndcg@5: 0.930464\n",
      "[77]\tvalid_0's ndcg@1: 0.818182\tvalid_0's ndcg@2: 0.921174\tvalid_0's ndcg@3: 0.930464\tvalid_0's ndcg@4: 0.930464\tvalid_0's ndcg@5: 0.930464\n",
      "[78]\tvalid_0's ndcg@1: 0.818182\tvalid_0's ndcg@2: 0.921174\tvalid_0's ndcg@3: 0.930464\tvalid_0's ndcg@4: 0.930464\tvalid_0's ndcg@5: 0.930464\n",
      "[79]\tvalid_0's ndcg@1: 0.818182\tvalid_0's ndcg@2: 0.921174\tvalid_0's ndcg@3: 0.930464\tvalid_0's ndcg@4: 0.930464\tvalid_0's ndcg@5: 0.930464\n",
      "[80]\tvalid_0's ndcg@1: 0.818182\tvalid_0's ndcg@2: 0.921174\tvalid_0's ndcg@3: 0.930464\tvalid_0's ndcg@4: 0.930464\tvalid_0's ndcg@5: 0.930464\n",
      "[81]\tvalid_0's ndcg@1: 0.818182\tvalid_0's ndcg@2: 0.921174\tvalid_0's ndcg@3: 0.930464\tvalid_0's ndcg@4: 0.930464\tvalid_0's ndcg@5: 0.930464\n",
      "[82]\tvalid_0's ndcg@1: 0.818182\tvalid_0's ndcg@2: 0.921174\tvalid_0's ndcg@3: 0.930464\tvalid_0's ndcg@4: 0.930464\tvalid_0's ndcg@5: 0.930464\n",
      "[83]\tvalid_0's ndcg@1: 0.818182\tvalid_0's ndcg@2: 0.921174\tvalid_0's ndcg@3: 0.930464\tvalid_0's ndcg@4: 0.930464\tvalid_0's ndcg@5: 0.930464\n",
      "[84]\tvalid_0's ndcg@1: 0.818182\tvalid_0's ndcg@2: 0.921174\tvalid_0's ndcg@3: 0.930464\tvalid_0's ndcg@4: 0.930464\tvalid_0's ndcg@5: 0.930464\n",
      "[85]\tvalid_0's ndcg@1: 0.818182\tvalid_0's ndcg@2: 0.921174\tvalid_0's ndcg@3: 0.930464\tvalid_0's ndcg@4: 0.930464\tvalid_0's ndcg@5: 0.930464\n",
      "[86]\tvalid_0's ndcg@1: 0.818182\tvalid_0's ndcg@2: 0.921174\tvalid_0's ndcg@3: 0.930464\tvalid_0's ndcg@4: 0.930464\tvalid_0's ndcg@5: 0.930464\n",
      "[87]\tvalid_0's ndcg@1: 0.818182\tvalid_0's ndcg@2: 0.921174\tvalid_0's ndcg@3: 0.930464\tvalid_0's ndcg@4: 0.930464\tvalid_0's ndcg@5: 0.930464\n",
      "[88]\tvalid_0's ndcg@1: 0.818182\tvalid_0's ndcg@2: 0.921174\tvalid_0's ndcg@3: 0.930464\tvalid_0's ndcg@4: 0.930464\tvalid_0's ndcg@5: 0.930464\n",
      "[89]\tvalid_0's ndcg@1: 0.818182\tvalid_0's ndcg@2: 0.921174\tvalid_0's ndcg@3: 0.930464\tvalid_0's ndcg@4: 0.930464\tvalid_0's ndcg@5: 0.930464\n",
      "[90]\tvalid_0's ndcg@1: 0.818182\tvalid_0's ndcg@2: 0.921174\tvalid_0's ndcg@3: 0.930464\tvalid_0's ndcg@4: 0.930464\tvalid_0's ndcg@5: 0.930464\n",
      "[91]\tvalid_0's ndcg@1: 0.818182\tvalid_0's ndcg@2: 0.921174\tvalid_0's ndcg@3: 0.930464\tvalid_0's ndcg@4: 0.930464\tvalid_0's ndcg@5: 0.930464\n",
      "[92]\tvalid_0's ndcg@1: 0.818182\tvalid_0's ndcg@2: 0.921174\tvalid_0's ndcg@3: 0.930464\tvalid_0's ndcg@4: 0.930464\tvalid_0's ndcg@5: 0.930464\n",
      "[93]\tvalid_0's ndcg@1: 0.818182\tvalid_0's ndcg@2: 0.921174\tvalid_0's ndcg@3: 0.930464\tvalid_0's ndcg@4: 0.930464\tvalid_0's ndcg@5: 0.930464\n",
      "[94]\tvalid_0's ndcg@1: 0.818182\tvalid_0's ndcg@2: 0.921174\tvalid_0's ndcg@3: 0.930464\tvalid_0's ndcg@4: 0.930464\tvalid_0's ndcg@5: 0.930464\n",
      "[95]\tvalid_0's ndcg@1: 0.818182\tvalid_0's ndcg@2: 0.921174\tvalid_0's ndcg@3: 0.930464\tvalid_0's ndcg@4: 0.930464\tvalid_0's ndcg@5: 0.930464\n",
      "[96]\tvalid_0's ndcg@1: 0.818182\tvalid_0's ndcg@2: 0.921174\tvalid_0's ndcg@3: 0.930464\tvalid_0's ndcg@4: 0.930464\tvalid_0's ndcg@5: 0.930464\n",
      "[97]\tvalid_0's ndcg@1: 0.818182\tvalid_0's ndcg@2: 0.921174\tvalid_0's ndcg@3: 0.930464\tvalid_0's ndcg@4: 0.930464\tvalid_0's ndcg@5: 0.930464\n",
      "[98]\tvalid_0's ndcg@1: 0.818182\tvalid_0's ndcg@2: 0.921174\tvalid_0's ndcg@3: 0.930464\tvalid_0's ndcg@4: 0.930464\tvalid_0's ndcg@5: 0.930464\n",
      "[99]\tvalid_0's ndcg@1: 0.818182\tvalid_0's ndcg@2: 0.921174\tvalid_0's ndcg@3: 0.930464\tvalid_0's ndcg@4: 0.930464\tvalid_0's ndcg@5: 0.930464\n",
      "[100]\tvalid_0's ndcg@1: 0.818182\tvalid_0's ndcg@2: 0.921174\tvalid_0's ndcg@3: 0.930464\tvalid_0's ndcg@4: 0.930464\tvalid_0's ndcg@5: 0.930464\n"
     ]
    },
    {
     "data": {
      "text/plain": [
       "LGBMRanker(objective='lambdarank')"
      ]
     },
     "execution_count": 21,
     "metadata": {},
     "output_type": "execute_result"
    }
   ],
   "source": [
    "from lightgbm import LGBMRanker\n",
    "train_features = ['density', 'entropy', 'competitiveness',\n",
    "       'affinity_1', 'affinity_2', 'affinity_3', 'affinity_4',\n",
    "       'affinity_5', 'affinity_6', 'affinity_7', 'affinity_8', 'affinity_9',\n",
    "       'affinity_10', 'complementary_1', 'complementary_2', 'complementary_3',\n",
    "       'complementary_4', 'complementary_5', 'complementary_6',\n",
    "       'complementary_7', 'complementary_8', 'complementary_9',\n",
    "       'complementary_10']\n",
    "\n",
    "model = LGBMRanker(objective=\"lambdarank\")\n",
    "model.fit(X_train[train_features],y_train,group=train_groups,eval_set=[(X_test[train_features],y_test)],eval_group=[test_groups],eval_metric=['ndcg'])"
   ]
  },
  {
   "cell_type": "code",
   "execution_count": null,
   "metadata": {},
   "outputs": [],
   "source": []
  },
  {
   "cell_type": "code",
   "execution_count": null,
   "metadata": {},
   "outputs": [],
   "source": []
  }
 ],
 "metadata": {
  "kernelspec": {
   "display_name": "steph-env",
   "language": "python",
   "name": "steph-env"
  },
  "language_info": {
   "codemirror_mode": {
    "name": "ipython",
    "version": 3
   },
   "file_extension": ".py",
   "mimetype": "text/x-python",
   "name": "python",
   "nbconvert_exporter": "python",
   "pygments_lexer": "ipython3",
   "version": "3.7.5"
  },
  "orig_nbformat": 4
 },
 "nbformat": 4,
 "nbformat_minor": 2
}
