{
 "cells": [
  {
   "cell_type": "markdown",
   "id": "forbidden-malpractice",
   "metadata": {},
   "source": [
    "# Pointwise\n",
    "* predict the relevance scores"
   ]
  },
  {
   "cell_type": "markdown",
   "id": "genuine-private",
   "metadata": {},
   "source": [
    "# Import"
   ]
  },
  {
   "cell_type": "code",
   "execution_count": 15,
   "id": "limiting-sampling",
   "metadata": {
    "ExecuteTime": {
     "end_time": "2023-05-15T16:35:02.963985Z",
     "start_time": "2023-05-15T16:35:02.191046Z"
    }
   },
   "outputs": [],
   "source": [
    "from collections import Counter\n",
    "from Evaluations import evaluation_metrics\n",
    "import pandas as pd\n",
    "import numpy as np\n",
    "\n",
    "# models\n",
    "from sklearn.metrics import mean_squared_error\n",
    "from sklearn.linear_model import LogisticRegression\n",
    "from sklearn.ensemble import RandomForestClassifier\n",
    "from sklearn.tree import DecisionTreeClassifier\n",
    "from sklearn.neighbors import KNeighborsClassifier\n",
    "from sklearn import svm\n",
    "from sklearn.naive_bayes import GaussianNB\n",
    "from lightgbm import LGBMRanker\n"
   ]
  },
  {
   "cell_type": "code",
   "execution_count": 16,
   "id": "other-opposition",
   "metadata": {
    "ExecuteTime": {
     "end_time": "2023-05-15T16:35:02.991351Z",
     "start_time": "2023-05-15T16:35:02.988805Z"
    }
   },
   "outputs": [],
   "source": [
    "RANDOM_STATE = 24"
   ]
  },
  {
   "cell_type": "code",
   "execution_count": 17,
   "id": "stunning-sleep",
   "metadata": {
    "ExecuteTime": {
     "end_time": "2023-05-15T16:35:03.747416Z",
     "start_time": "2023-05-15T16:35:03.729312Z"
    }
   },
   "outputs": [],
   "source": [
    "# 導入資料\n",
    "train_df = pd.read_pickle('../data/Train_by_postoal_code_without_review_pointwise_v3_4.pkl').reset_index(drop=True)\n",
    "test_df = pd.read_pickle('../data/Test_by_postoal_code_without_review_pointwise_v3_4.pkl').reset_index(drop=True)"
   ]
  },
  {
   "cell_type": "code",
   "execution_count": 18,
   "id": "09511d58",
   "metadata": {},
   "outputs": [],
   "source": [
    "##### Normalization \n",
    "#### 要記得做！！！\n",
    "from sklearn import preprocessing\n",
    "scaler = preprocessing.StandardScaler()"
   ]
  },
  {
   "cell_type": "code",
   "execution_count": 19,
   "id": "rotary-knowing",
   "metadata": {
    "ExecuteTime": {
     "end_time": "2023-05-15T16:35:23.294668Z",
     "start_time": "2023-05-15T16:35:14.450379Z"
    }
   },
   "outputs": [
    {
     "name": "stderr",
     "output_type": "stream",
     "text": [
      "/mnt/data/emma/bilab/Steph_C/myenv/lib/python3.6/site-packages/ipykernel_launcher.py:6: SettingWithCopyWarning: \n",
      "A value is trying to be set on a copy of a slice from a DataFrame\n",
      "\n",
      "See the caveats in the documentation: https://pandas.pydata.org/pandas-docs/stable/user_guide/indexing.html#returning-a-view-versus-a-copy\n",
      "  \n",
      "/mnt/data/emma/bilab/Steph_C/myenv/lib/python3.6/site-packages/ipykernel_launcher.py:8: SettingWithCopyWarning: \n",
      "A value is trying to be set on a copy of a slice from a DataFrame\n",
      "\n",
      "See the caveats in the documentation: https://pandas.pydata.org/pandas-docs/stable/user_guide/indexing.html#returning-a-view-versus-a-copy\n",
      "  \n"
     ]
    }
   ],
   "source": [
    "# expr. 1 change relevance score to binary\n",
    "def change_rel_score(df):\n",
    "    df['binary_score'] = ''\n",
    "    for idx, row in df.iterrows():\n",
    "        if row.relevance > 0.0:\n",
    "            df['binary_score'][idx] = 1\n",
    "        else:\n",
    "            df['binary_score'][idx] = 0\n",
    "    return df\n",
    "train_df = change_rel_score(train_df)\n",
    "test_df = change_rel_score(test_df)"
   ]
  },
  {
   "cell_type": "code",
   "execution_count": 20,
   "id": "outdoor-manufacturer",
   "metadata": {
    "ExecuteTime": {
     "end_time": "2023-05-15T16:35:44.850129Z",
     "start_time": "2023-05-15T16:35:44.841839Z"
    }
   },
   "outputs": [],
   "source": [
    "train_df['binary_score'] = train_df['binary_score'].astype('float')\n",
    "test_df['binary_score'] = test_df['binary_score'].astype('float')"
   ]
  },
  {
   "cell_type": "code",
   "execution_count": 21,
   "id": "going-carpet",
   "metadata": {},
   "outputs": [
    {
     "ename": "KeyError",
     "evalue": "'affinity'",
     "output_type": "error",
     "traceback": [
      "\u001b[0;31m---------------------------------------------------------------------------\u001b[0m",
      "\u001b[0;31mKeyError\u001b[0m                                  Traceback (most recent call last)",
      "\u001b[0;32m/mnt/data/emma/bilab/Steph_C/myenv/lib/python3.6/site-packages/pandas/core/indexes/base.py\u001b[0m in \u001b[0;36mget_loc\u001b[0;34m(self, key, method, tolerance)\u001b[0m\n\u001b[1;32m   2897\u001b[0m             \u001b[0;32mtry\u001b[0m\u001b[0;34m:\u001b[0m\u001b[0;34m\u001b[0m\u001b[0;34m\u001b[0m\u001b[0m\n\u001b[0;32m-> 2898\u001b[0;31m                 \u001b[0;32mreturn\u001b[0m \u001b[0mself\u001b[0m\u001b[0;34m.\u001b[0m\u001b[0m_engine\u001b[0m\u001b[0;34m.\u001b[0m\u001b[0mget_loc\u001b[0m\u001b[0;34m(\u001b[0m\u001b[0mcasted_key\u001b[0m\u001b[0;34m)\u001b[0m\u001b[0;34m\u001b[0m\u001b[0;34m\u001b[0m\u001b[0m\n\u001b[0m\u001b[1;32m   2899\u001b[0m             \u001b[0;32mexcept\u001b[0m \u001b[0mKeyError\u001b[0m \u001b[0;32mas\u001b[0m \u001b[0merr\u001b[0m\u001b[0;34m:\u001b[0m\u001b[0;34m\u001b[0m\u001b[0;34m\u001b[0m\u001b[0m\n",
      "\u001b[0;32mpandas/_libs/index.pyx\u001b[0m in \u001b[0;36mpandas._libs.index.IndexEngine.get_loc\u001b[0;34m()\u001b[0m\n",
      "\u001b[0;32mpandas/_libs/index.pyx\u001b[0m in \u001b[0;36mpandas._libs.index.IndexEngine.get_loc\u001b[0;34m()\u001b[0m\n",
      "\u001b[0;32mpandas/_libs/hashtable_class_helper.pxi\u001b[0m in \u001b[0;36mpandas._libs.hashtable.PyObjectHashTable.get_item\u001b[0;34m()\u001b[0m\n",
      "\u001b[0;32mpandas/_libs/hashtable_class_helper.pxi\u001b[0m in \u001b[0;36mpandas._libs.hashtable.PyObjectHashTable.get_item\u001b[0;34m()\u001b[0m\n",
      "\u001b[0;31mKeyError\u001b[0m: 'affinity'",
      "\nThe above exception was the direct cause of the following exception:\n",
      "\u001b[0;31mKeyError\u001b[0m                                  Traceback (most recent call last)",
      "\u001b[0;32m<ipython-input-21-3bd337123992>\u001b[0m in \u001b[0;36m<module>\u001b[0;34m\u001b[0m\n\u001b[1;32m      1\u001b[0m \u001b[0mlabel_list\u001b[0m \u001b[0;34m=\u001b[0m \u001b[0;34m[\u001b[0m\u001b[0;34m'binary_score'\u001b[0m \u001b[0;34m,\u001b[0m\u001b[0;34m'affinity'\u001b[0m\u001b[0;34m,\u001b[0m \u001b[0;34m'complementary'\u001b[0m\u001b[0;34m,\u001b[0m\u001b[0;34m'cosine_sim'\u001b[0m\u001b[0;34m]\u001b[0m\u001b[0;34m\u001b[0m\u001b[0;34m\u001b[0m\u001b[0m\n\u001b[1;32m      2\u001b[0m \u001b[0;32mfor\u001b[0m \u001b[0mi\u001b[0m \u001b[0;32min\u001b[0m \u001b[0mlabel_list\u001b[0m \u001b[0;34m:\u001b[0m\u001b[0;34m\u001b[0m\u001b[0;34m\u001b[0m\u001b[0m\n\u001b[0;32m----> 3\u001b[0;31m     \u001b[0mtrain_df\u001b[0m\u001b[0;34m[\u001b[0m\u001b[0mi\u001b[0m\u001b[0;34m]\u001b[0m \u001b[0;34m=\u001b[0m \u001b[0mtrain_df\u001b[0m\u001b[0;34m[\u001b[0m\u001b[0mi\u001b[0m\u001b[0;34m]\u001b[0m\u001b[0;34m.\u001b[0m\u001b[0mastype\u001b[0m\u001b[0;34m(\u001b[0m\u001b[0;34m'float'\u001b[0m\u001b[0;34m)\u001b[0m\u001b[0;34m\u001b[0m\u001b[0;34m\u001b[0m\u001b[0m\n\u001b[0m\u001b[1;32m      4\u001b[0m     \u001b[0mtest_df\u001b[0m\u001b[0;34m[\u001b[0m\u001b[0mi\u001b[0m\u001b[0;34m]\u001b[0m \u001b[0;34m=\u001b[0m \u001b[0mtest_df\u001b[0m\u001b[0;34m[\u001b[0m\u001b[0mi\u001b[0m\u001b[0;34m]\u001b[0m\u001b[0;34m.\u001b[0m\u001b[0mastype\u001b[0m\u001b[0;34m(\u001b[0m\u001b[0;34m'float'\u001b[0m\u001b[0;34m)\u001b[0m\u001b[0;34m\u001b[0m\u001b[0;34m\u001b[0m\u001b[0m\n",
      "\u001b[0;32m/mnt/data/emma/bilab/Steph_C/myenv/lib/python3.6/site-packages/pandas/core/frame.py\u001b[0m in \u001b[0;36m__getitem__\u001b[0;34m(self, key)\u001b[0m\n\u001b[1;32m   2904\u001b[0m             \u001b[0;32mif\u001b[0m \u001b[0mself\u001b[0m\u001b[0;34m.\u001b[0m\u001b[0mcolumns\u001b[0m\u001b[0;34m.\u001b[0m\u001b[0mnlevels\u001b[0m \u001b[0;34m>\u001b[0m \u001b[0;36m1\u001b[0m\u001b[0;34m:\u001b[0m\u001b[0;34m\u001b[0m\u001b[0;34m\u001b[0m\u001b[0m\n\u001b[1;32m   2905\u001b[0m                 \u001b[0;32mreturn\u001b[0m \u001b[0mself\u001b[0m\u001b[0;34m.\u001b[0m\u001b[0m_getitem_multilevel\u001b[0m\u001b[0;34m(\u001b[0m\u001b[0mkey\u001b[0m\u001b[0;34m)\u001b[0m\u001b[0;34m\u001b[0m\u001b[0;34m\u001b[0m\u001b[0m\n\u001b[0;32m-> 2906\u001b[0;31m             \u001b[0mindexer\u001b[0m \u001b[0;34m=\u001b[0m \u001b[0mself\u001b[0m\u001b[0;34m.\u001b[0m\u001b[0mcolumns\u001b[0m\u001b[0;34m.\u001b[0m\u001b[0mget_loc\u001b[0m\u001b[0;34m(\u001b[0m\u001b[0mkey\u001b[0m\u001b[0;34m)\u001b[0m\u001b[0;34m\u001b[0m\u001b[0;34m\u001b[0m\u001b[0m\n\u001b[0m\u001b[1;32m   2907\u001b[0m             \u001b[0;32mif\u001b[0m \u001b[0mis_integer\u001b[0m\u001b[0;34m(\u001b[0m\u001b[0mindexer\u001b[0m\u001b[0;34m)\u001b[0m\u001b[0;34m:\u001b[0m\u001b[0;34m\u001b[0m\u001b[0;34m\u001b[0m\u001b[0m\n\u001b[1;32m   2908\u001b[0m                 \u001b[0mindexer\u001b[0m \u001b[0;34m=\u001b[0m \u001b[0;34m[\u001b[0m\u001b[0mindexer\u001b[0m\u001b[0;34m]\u001b[0m\u001b[0;34m\u001b[0m\u001b[0;34m\u001b[0m\u001b[0m\n",
      "\u001b[0;32m/mnt/data/emma/bilab/Steph_C/myenv/lib/python3.6/site-packages/pandas/core/indexes/base.py\u001b[0m in \u001b[0;36mget_loc\u001b[0;34m(self, key, method, tolerance)\u001b[0m\n\u001b[1;32m   2898\u001b[0m                 \u001b[0;32mreturn\u001b[0m \u001b[0mself\u001b[0m\u001b[0;34m.\u001b[0m\u001b[0m_engine\u001b[0m\u001b[0;34m.\u001b[0m\u001b[0mget_loc\u001b[0m\u001b[0;34m(\u001b[0m\u001b[0mcasted_key\u001b[0m\u001b[0;34m)\u001b[0m\u001b[0;34m\u001b[0m\u001b[0;34m\u001b[0m\u001b[0m\n\u001b[1;32m   2899\u001b[0m             \u001b[0;32mexcept\u001b[0m \u001b[0mKeyError\u001b[0m \u001b[0;32mas\u001b[0m \u001b[0merr\u001b[0m\u001b[0;34m:\u001b[0m\u001b[0;34m\u001b[0m\u001b[0;34m\u001b[0m\u001b[0m\n\u001b[0;32m-> 2900\u001b[0;31m                 \u001b[0;32mraise\u001b[0m \u001b[0mKeyError\u001b[0m\u001b[0;34m(\u001b[0m\u001b[0mkey\u001b[0m\u001b[0;34m)\u001b[0m \u001b[0;32mfrom\u001b[0m \u001b[0merr\u001b[0m\u001b[0;34m\u001b[0m\u001b[0;34m\u001b[0m\u001b[0m\n\u001b[0m\u001b[1;32m   2901\u001b[0m \u001b[0;34m\u001b[0m\u001b[0m\n\u001b[1;32m   2902\u001b[0m         \u001b[0;32mif\u001b[0m \u001b[0mtolerance\u001b[0m \u001b[0;32mis\u001b[0m \u001b[0;32mnot\u001b[0m \u001b[0;32mNone\u001b[0m\u001b[0;34m:\u001b[0m\u001b[0;34m\u001b[0m\u001b[0;34m\u001b[0m\u001b[0m\n",
      "\u001b[0;31mKeyError\u001b[0m: 'affinity'"
     ]
    }
   ],
   "source": [
    "label_list = ['binary_score' ,'affinity', 'complementary','cosine_sim']\n",
    "for i in label_list : \n",
    "    train_df[i] = train_df[i].astype('float')\n",
    "    test_df[i] = test_df[i].astype('float')"
   ]
  },
  {
   "cell_type": "code",
   "execution_count": 22,
   "id": "infinite-criterion",
   "metadata": {
    "ExecuteTime": {
     "end_time": "2023-05-15T16:35:47.037564Z",
     "start_time": "2023-05-15T16:35:47.027026Z"
    }
   },
   "outputs": [],
   "source": [
    "train_df = train_df.sample(frac=1 , random_state = RANDOM_STATE)\n",
    "test_df = test_df.sample(frac=1 , random_state = RANDOM_STATE)"
   ]
  },
  {
   "cell_type": "code",
   "execution_count": 23,
   "id": "bigger-capital",
   "metadata": {
    "ExecuteTime": {
     "end_time": "2023-05-15T16:35:47.740079Z",
     "start_time": "2023-05-15T16:35:47.659101Z"
    }
   },
   "outputs": [
    {
     "data": {
      "text/plain": [
       "(22720, 11)"
      ]
     },
     "execution_count": 23,
     "metadata": {},
     "output_type": "execute_result"
    }
   ],
   "source": [
    "train_df.shape"
   ]
  },
  {
   "cell_type": "code",
   "execution_count": 24,
   "id": "controversial-disco",
   "metadata": {
    "ExecuteTime": {
     "end_time": "2023-05-15T16:35:48.465997Z",
     "start_time": "2023-05-15T16:35:48.462419Z"
    }
   },
   "outputs": [
    {
     "data": {
      "text/plain": [
       "(14240, 11)"
      ]
     },
     "execution_count": 24,
     "metadata": {},
     "output_type": "execute_result"
    }
   ],
   "source": [
    "test_df.shape"
   ]
  },
  {
   "cell_type": "markdown",
   "id": "exceptional-raleigh",
   "metadata": {},
   "source": [
    "# Models"
   ]
  },
  {
   "cell_type": "code",
   "execution_count": 25,
   "id": "streaming-fetish",
   "metadata": {
    "ExecuteTime": {
     "end_time": "2023-05-15T16:35:50.967698Z",
     "start_time": "2023-05-15T16:35:50.960489Z"
    }
   },
   "outputs": [],
   "source": [
    "# create list of list for query ranking\n",
    "def get_ranking(df , y_label = 'binary_score'):\n",
    "    \n",
    "    \"\"\"\n",
    "    Turn the probability array into a list of lists for calculation.\n",
    "    \n",
    "    Parameters:\n",
    "    df(DataFrame): the test dataframe\n",
    "    \n",
    "    Returns:\n",
    "    prediction (list of lists): A list of predicted rankings for each query.\n",
    "    actual (list of lists): A list of actual rankings for each query.\n",
    "    \"\"\"\n",
    " \n",
    "    pred_list = []\n",
    "    true_rel = []\n",
    "    true_list = []\n",
    "\n",
    "    output_dict = {}\n",
    "    \n",
    "    \n",
    "    for id in Counter(df.business_id):\n",
    "\n",
    "        output_dict[id] = {}\n",
    "        \n",
    "        tmp = df[df.business_id == id]\n",
    "        a_sorted = tmp.sort_values(by=[y_label],ascending=[False])\n",
    "        p_sorted = tmp.sort_values(by=['predictions'],ascending=[False])\n",
    "        # p_sorted = p_sorted[p_sorted.predictions>0]\n",
    "\n",
    "        true_list.append(list(a_sorted[a_sorted.relevance!=0].postal_code))\n",
    "        pred_list.append(list(p_sorted.postal_code))\n",
    "        true_rel.append(list(a_sorted[a_sorted.relevance!=0].relevance))\n",
    "        \n",
    "        output_dict[id]['predict'] = list(p_sorted.postal_code)\n",
    "        output_dict[id]['true'] = list(a_sorted[a_sorted.relevance!=0].postal_code)\n",
    "        \n",
    "        \n",
    "    return pred_list, true_rel , true_list , output_dict"
   ]
  },
  {
   "cell_type": "markdown",
   "id": "undefined-trainer",
   "metadata": {},
   "source": [
    "# Model"
   ]
  },
  {
   "cell_type": "code",
   "execution_count": 26,
   "id": "norwegian-healthcare",
   "metadata": {
    "ExecuteTime": {
     "end_time": "2023-05-15T16:35:57.113870Z",
     "start_time": "2023-05-15T16:35:57.087652Z"
    }
   },
   "outputs": [
    {
     "name": "stdout",
     "output_type": "stream",
     "text": [
      "22720 14240\n"
     ]
    }
   ],
   "source": [
    "# models\n",
    "LR = LogisticRegression(random_state=RANDOM_STATE)\n",
    "RF = RandomForestClassifier(random_state=RANDOM_STATE)\n",
    "DTC = DecisionTreeClassifier(random_state=RANDOM_STATE)\n",
    "KNC = KNeighborsClassifier()\n",
    "SVC = svm.SVC(random_state=RANDOM_STATE)\n",
    "GNB = GaussianNB()\n",
    "LGBM = LGBMRanker(objective=\"lambdarank\",random_state=RANDOM_STATE)\n",
    "\n",
    "train_features=['density', 'entropy', 'competitiveness','area_pop']\n",
    "# train_features=['density', 'entropy', 'competitiveness','area_pop','complementary','affinity']\n",
    "# train_features=['density', 'entropy', 'competitiveness','area_pop', 'accessibility','cosine_sim']\n",
    "# train_features=['density', 'entropy', 'competitiveness','area_pop','affinity', 'complementary','cosine_sim']\n",
    "\n",
    "\n",
    "get_group_size = lambda df: df.reset_index().groupby(\"business_id\")['business_id'].count()\n",
    "\n",
    "train_groups = get_group_size(train_df).to_numpy()\n",
    "test_groups = get_group_size(test_df).to_numpy()\n",
    "\n",
    "print(sum(train_groups) , sum(test_groups))"
   ]
  },
  {
   "cell_type": "code",
   "execution_count": 27,
   "id": "dying-audit",
   "metadata": {
    "ExecuteTime": {
     "end_time": "2023-05-15T16:41:53.744540Z",
     "start_time": "2023-05-15T16:35:58.984767Z"
    },
    "scrolled": true
   },
   "outputs": [
    {
     "name": "stderr",
     "output_type": "stream",
     "text": [
      "/mnt/data/emma/bilab/Steph_C/myenv/lib/python3.6/site-packages/sklearn/utils/validation.py:63: DataConversionWarning: A column-vector y was passed when a 1d array was expected. Please change the shape of y to (n_samples, ), for example using ravel().\n",
      "  return f(*args, **kwargs)\n",
      "/mnt/data/emma/bilab/Steph_C/myenv/lib/python3.6/site-packages/ipykernel_launcher.py:10: DataConversionWarning: A column-vector y was passed when a 1d array was expected. Please change the shape of y to (n_samples,), for example using ravel().\n",
      "  # Remove the CWD from sys.path while we load stuff.\n",
      "/mnt/data/emma/bilab/Steph_C/myenv/lib/python3.6/site-packages/sklearn/neighbors/_classification.py:179: DataConversionWarning: A column-vector y was passed when a 1d array was expected. Please change the shape of y to (n_samples,), for example using ravel().\n",
      "  return self._fit(X, y)\n",
      "/mnt/data/emma/bilab/Steph_C/myenv/lib/python3.6/site-packages/sklearn/utils/validation.py:63: DataConversionWarning: A column-vector y was passed when a 1d array was expected. Please change the shape of y to (n_samples, ), for example using ravel().\n",
      "  return f(*args, **kwargs)\n",
      "/mnt/data/emma/bilab/Steph_C/myenv/lib/python3.6/site-packages/sklearn/utils/validation.py:63: DataConversionWarning: A column-vector y was passed when a 1d array was expected. Please change the shape of y to (n_samples, ), for example using ravel().\n",
      "  return f(*args, **kwargs)\n",
      "/mnt/data/emma/bilab/Steph_C/myenv/lib/python3.6/site-packages/sklearn/utils/validation.py:63: DataConversionWarning: A column-vector y was passed when a 1d array was expected. Please change the shape of y to (n_samples, ), for example using ravel().\n",
      "  return f(*args, **kwargs)\n"
     ]
    }
   ],
   "source": [
    "models = [LR, RF, DTC, KNC, SVC, GNB, LGBM]\n",
    "model_name =['LR', 'RF', 'DTC', 'KNC', 'SVC', 'GNB' , 'LGBMRanker'] \n",
    "score_dict = {}\n",
    "\n",
    "for i in range(len(models)):\n",
    "    score_dict[model_name[i]]={}\n",
    "    model = models[i]\n",
    "    # Train\n",
    "    if model_name[i] != 'LGBMRanker':\n",
    "        model.fit(scaler.fit_transform(train_df[train_features]), train_df[['binary_score']])\n",
    "    else:\n",
    "        model.fit(scaler.fit_transform(train_df[train_features]), train_df[['relevance']], group=train_groups)\n",
    "    \n",
    "    # Predict\n",
    "    predict = model.predict(scaler.fit_transform(test_df[train_features]))\n",
    "    test_df['predictions'] = predict\n",
    "    if model_name[i] != 'LGBMRanker':\n",
    "        pred_list, true_rel , true_list , output_dict = get_ranking(test_df)\n",
    "    else:\n",
    "        pred_list, true_rel , true_list , output_dict = get_ranking(test_df,'relevance')\n",
    "        \n",
    "\n",
    "    # Evaluation\n",
    "    mrr_list = evaluation_metrics._mrr(pred_list , true_list)\n",
    "    map_list = evaluation_metrics._map(pred_list , true_list)\n",
    "    dcg_list , ndcg_list = evaluation_metrics._dcg_ndcg(pred_list , true_list,true_rel)\n",
    "    precision_list_1 = evaluation_metrics._precision(pred_list , true_list, k=1)\n",
    "    recall_list_1 = evaluation_metrics._recall(pred_list , true_list,k=1)\n",
    "    precision_list_3 = evaluation_metrics._precision(pred_list , true_list, k=3)\n",
    "    recall_list_3 = evaluation_metrics._recall(pred_list , true_list,k=3)\n",
    "    precision_list =evaluation_metrics. _precision(pred_list , true_list)\n",
    "    recall_list = evaluation_metrics._recall(pred_list , true_list)\n",
    "\n",
    "    score_dict[model_name[i]]['precision @ 1'] = np.mean(precision_list_1)\n",
    "#     score_dict[model_name[i]]['recall @ 1'] = np.mean(recall_list_1)\n",
    "    score_dict[model_name[i]]['precision @ 3 '] = np.mean(precision_list_3)\n",
    "    score_dict[model_name[i]]['recall @ 3'] = np.mean(recall_list_3)\n",
    "    score_dict[model_name[i]]['precision'] = np.mean(precision_list)\n",
    "    score_dict[model_name[i]]['recall'] = np.mean(recall_list)\n",
    "    score_dict[model_name[i]]['mrr'] = np.mean(mrr_list)\n",
    "    score_dict[model_name[i]]['map'] = np.mean(map_list)\n",
    "    score_dict[model_name[i]]['dcg'] = np.mean(dcg_list)\n",
    "    score_dict[model_name[i]]['ndcg'] = np.mean(ndcg_list)"
   ]
  },
  {
   "cell_type": "code",
   "execution_count": 28,
   "id": "skilled-banking",
   "metadata": {
    "ExecuteTime": {
     "end_time": "2023-05-15T16:41:53.824527Z",
     "start_time": "2023-05-15T16:41:53.807957Z"
    }
   },
   "outputs": [
    {
     "data": {
      "text/html": [
       "<div>\n",
       "<style scoped>\n",
       "    .dataframe tbody tr th:only-of-type {\n",
       "        vertical-align: middle;\n",
       "    }\n",
       "\n",
       "    .dataframe tbody tr th {\n",
       "        vertical-align: top;\n",
       "    }\n",
       "\n",
       "    .dataframe thead th {\n",
       "        text-align: right;\n",
       "    }\n",
       "</style>\n",
       "<table border=\"1\" class=\"dataframe\">\n",
       "  <thead>\n",
       "    <tr style=\"text-align: right;\">\n",
       "      <th></th>\n",
       "      <th>LR</th>\n",
       "      <th>RF</th>\n",
       "      <th>DTC</th>\n",
       "      <th>KNC</th>\n",
       "      <th>SVC</th>\n",
       "      <th>GNB</th>\n",
       "      <th>LGBMRanker</th>\n",
       "    </tr>\n",
       "  </thead>\n",
       "  <tbody>\n",
       "    <tr>\n",
       "      <th>precision @ 1</th>\n",
       "      <td>0.051</td>\n",
       "      <td>0.164</td>\n",
       "      <td>0.124</td>\n",
       "      <td>0.347</td>\n",
       "      <td>0.111</td>\n",
       "      <td>0.208</td>\n",
       "      <td>0.368</td>\n",
       "    </tr>\n",
       "    <tr>\n",
       "      <th>precision @ 3</th>\n",
       "      <td>0.051</td>\n",
       "      <td>0.151</td>\n",
       "      <td>0.114</td>\n",
       "      <td>0.152</td>\n",
       "      <td>0.069</td>\n",
       "      <td>0.121</td>\n",
       "      <td>0.207</td>\n",
       "    </tr>\n",
       "    <tr>\n",
       "      <th>recall @ 3</th>\n",
       "      <td>0.153</td>\n",
       "      <td>0.454</td>\n",
       "      <td>0.341</td>\n",
       "      <td>0.456</td>\n",
       "      <td>0.206</td>\n",
       "      <td>0.364</td>\n",
       "      <td>0.622</td>\n",
       "    </tr>\n",
       "    <tr>\n",
       "      <th>precision</th>\n",
       "      <td>0.050</td>\n",
       "      <td>0.050</td>\n",
       "      <td>0.050</td>\n",
       "      <td>0.050</td>\n",
       "      <td>0.050</td>\n",
       "      <td>0.050</td>\n",
       "      <td>0.050</td>\n",
       "    </tr>\n",
       "    <tr>\n",
       "      <th>recall</th>\n",
       "      <td>1.000</td>\n",
       "      <td>1.000</td>\n",
       "      <td>1.000</td>\n",
       "      <td>1.000</td>\n",
       "      <td>1.000</td>\n",
       "      <td>1.000</td>\n",
       "      <td>1.000</td>\n",
       "    </tr>\n",
       "    <tr>\n",
       "      <th>mrr</th>\n",
       "      <td>0.181</td>\n",
       "      <td>0.351</td>\n",
       "      <td>0.298</td>\n",
       "      <td>0.451</td>\n",
       "      <td>0.233</td>\n",
       "      <td>0.343</td>\n",
       "      <td>0.537</td>\n",
       "    </tr>\n",
       "    <tr>\n",
       "      <th>map</th>\n",
       "      <td>0.181</td>\n",
       "      <td>0.351</td>\n",
       "      <td>0.298</td>\n",
       "      <td>0.451</td>\n",
       "      <td>0.233</td>\n",
       "      <td>0.343</td>\n",
       "      <td>0.537</td>\n",
       "    </tr>\n",
       "    <tr>\n",
       "      <th>dcg</th>\n",
       "      <td>3.415</td>\n",
       "      <td>4.782</td>\n",
       "      <td>4.369</td>\n",
       "      <td>5.542</td>\n",
       "      <td>3.832</td>\n",
       "      <td>4.736</td>\n",
       "      <td>6.329</td>\n",
       "    </tr>\n",
       "    <tr>\n",
       "      <th>ndcg</th>\n",
       "      <td>0.353</td>\n",
       "      <td>0.494</td>\n",
       "      <td>0.452</td>\n",
       "      <td>0.567</td>\n",
       "      <td>0.394</td>\n",
       "      <td>0.483</td>\n",
       "      <td>0.645</td>\n",
       "    </tr>\n",
       "  </tbody>\n",
       "</table>\n",
       "</div>"
      ],
      "text/plain": [
       "                   LR     RF    DTC    KNC    SVC    GNB  LGBMRanker\n",
       "precision @ 1   0.051  0.164  0.124  0.347  0.111  0.208       0.368\n",
       "precision @ 3   0.051  0.151  0.114  0.152  0.069  0.121       0.207\n",
       "recall @ 3      0.153  0.454  0.341  0.456  0.206  0.364       0.622\n",
       "precision       0.050  0.050  0.050  0.050  0.050  0.050       0.050\n",
       "recall          1.000  1.000  1.000  1.000  1.000  1.000       1.000\n",
       "mrr             0.181  0.351  0.298  0.451  0.233  0.343       0.537\n",
       "map             0.181  0.351  0.298  0.451  0.233  0.343       0.537\n",
       "dcg             3.415  4.782  4.369  5.542  3.832  4.736       6.329\n",
       "ndcg            0.353  0.494  0.452  0.567  0.394  0.483       0.645"
      ]
     },
     "execution_count": 28,
     "metadata": {},
     "output_type": "execute_result"
    }
   ],
   "source": [
    "pd.DataFrame(score_dict).round(3)"
   ]
  },
  {
   "cell_type": "code",
   "execution_count": null,
   "id": "personalized-slave",
   "metadata": {
    "ExecuteTime": {
     "end_time": "2023-05-12T06:21:43.508444Z",
     "start_time": "2023-05-12T06:21:43.434565Z"
    }
   },
   "outputs": [],
   "source": [
    "# pd.DataFrame(output_dict).T.to_csv('./output.csv')"
   ]
  },
  {
   "cell_type": "code",
   "execution_count": null,
   "id": "express-finland",
   "metadata": {
    "ExecuteTime": {
     "end_time": "2023-05-15T16:42:28.443569Z",
     "start_time": "2023-05-15T16:42:28.358902Z"
    }
   },
   "outputs": [],
   "source": [
    "pd.DataFrame(output_dict).T"
   ]
  },
  {
   "cell_type": "code",
   "execution_count": null,
   "id": "2f82dbef",
   "metadata": {},
   "outputs": [],
   "source": [
    "one_df = train_df[train_df.binary_score==1]\n",
    "zero_df = train_df[train_df.binary_score==0]"
   ]
  },
  {
   "cell_type": "code",
   "execution_count": null,
   "id": "ecd80b79",
   "metadata": {},
   "outputs": [],
   "source": [
    "one_df.describe()"
   ]
  },
  {
   "cell_type": "code",
   "execution_count": null,
   "id": "0817a479",
   "metadata": {},
   "outputs": [],
   "source": [
    "zero_df.describe()"
   ]
  },
  {
   "cell_type": "code",
   "execution_count": null,
   "id": "57986f2e",
   "metadata": {},
   "outputs": [],
   "source": [
    "train_df[train_df.business_id=='SyiPLENX6wMfagzrsw2aFg']"
   ]
  },
  {
   "cell_type": "code",
   "execution_count": null,
   "id": "55c5058f",
   "metadata": {},
   "outputs": [],
   "source": [
    "train_df[train_df.business_id == 'EvdYKS6NVnU6J7emNJV2BQ']"
   ]
  },
  {
   "cell_type": "code",
   "execution_count": null,
   "id": "89d7ee15",
   "metadata": {},
   "outputs": [],
   "source": []
  }
 ],
 "metadata": {
  "kernelspec": {
   "display_name": "s_env",
   "language": "python",
   "name": "s_env"
  },
  "language_info": {
   "codemirror_mode": {
    "name": "ipython",
    "version": 3
   },
   "file_extension": ".py",
   "mimetype": "text/x-python",
   "name": "python",
   "nbconvert_exporter": "python",
   "pygments_lexer": "ipython3",
   "version": "3.6.9"
  },
  "toc": {
   "base_numbering": 1,
   "nav_menu": {},
   "number_sections": true,
   "sideBar": true,
   "skip_h1_title": false,
   "title_cell": "Table of Contents",
   "title_sidebar": "Contents",
   "toc_cell": false,
   "toc_position": {},
   "toc_section_display": true,
   "toc_window_display": false
  },
  "varInspector": {
   "cols": {
    "lenName": 16,
    "lenType": 16,
    "lenVar": 40
   },
   "kernels_config": {
    "python": {
     "delete_cmd_postfix": "",
     "delete_cmd_prefix": "del ",
     "library": "var_list.py",
     "varRefreshCmd": "print(var_dic_list())"
    },
    "r": {
     "delete_cmd_postfix": ") ",
     "delete_cmd_prefix": "rm(",
     "library": "var_list.r",
     "varRefreshCmd": "cat(var_dic_list()) "
    }
   },
   "types_to_exclude": [
    "module",
    "function",
    "builtin_function_or_method",
    "instance",
    "_Feature"
   ],
   "window_display": false
  },
  "vscode": {
   "interpreter": {
    "hash": "f457e4bdb0a834eef26de468bbb8aa330d736c8b7db558705075494c4e15f1a8"
   }
  }
 },
 "nbformat": 4,
 "nbformat_minor": 5
}
