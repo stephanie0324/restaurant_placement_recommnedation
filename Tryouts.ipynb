{
 "cells": [
  {
   "cell_type": "markdown",
   "id": "ee2314b2",
   "metadata": {},
   "source": [
    "# pairwise to rank list"
   ]
  },
  {
   "cell_type": "code",
   "execution_count": 3,
   "id": "e780ad6d",
   "metadata": {
    "ExecuteTime": {
     "end_time": "2023-04-27T08:42:57.471661Z",
     "start_time": "2023-04-27T08:42:57.465076Z"
    }
   },
   "outputs": [],
   "source": [
    "true_list = ['a','b','c','d']\n",
    "rel_score = [12,11,10,9]"
   ]
  },
  {
   "cell_type": "code",
   "execution_count": 44,
   "id": "60b40422",
   "metadata": {
    "ExecuteTime": {
     "end_time": "2023-04-27T09:55:08.324664Z",
     "start_time": "2023-04-27T09:55:08.319273Z"
    }
   },
   "outputs": [],
   "source": [
    "pred_pair = [('a','b'),('c','b'),('d','a')]\n",
    "p_list =[(12,11),(10,11),(9,12)]\n",
    "pred_rel = [1,0,0]"
   ]
  },
  {
   "cell_type": "code",
   "execution_count": 45,
   "id": "381f7d5e",
   "metadata": {
    "ExecuteTime": {
     "end_time": "2023-04-27T09:55:08.745948Z",
     "start_time": "2023-04-27T09:55:08.718619Z"
    }
   },
   "outputs": [
    {
     "name": "stdout",
     "output_type": "stream",
     "text": [
      "{('a', 'b'): {'score': 12, 'rel': 1}, ('c', 'b'): {'score': 11, 'rel': 0}, ('d', 'a'): {'score': 10, 'rel': 0}}\n",
      "{('a', 'b'): {'score': 12, 'rel': 1}, ('c', 'b'): {'score': 11, 'rel': 0}, ('d', 'a'): {'score': 10, 'rel': 0}}\n",
      "{('a', 'b'): {'score': 12, 'rel': 1}, ('c', 'b'): {'score': 10, 'rel': 0}, ('d', 'a'): {'score': 11, 'rel': 0}}\n"
     ]
    },
    {
     "data": {
      "text/plain": [
       "{('a', 'b'): {'score': 12, 'rel': 1},\n",
       " ('c', 'b'): {'score': 10, 'rel': 0},\n",
       " ('d', 'a'): {'score': 11, 'rel': 0}}"
      ]
     },
     "execution_count": 45,
     "metadata": {},
     "output_type": "execute_result"
    }
   ],
   "source": [
    "p_dict ={}\n",
    "\n",
    "cnt =0\n",
    "for i in pred_pair:\n",
    "    p_dict[i] = {}\n",
    "    p_dict[i]['score'] = 12-cnt\n",
    "    p_dict[i]['rel'] = pred_rel[pred_pair.index(i)]\n",
    "    cnt+=1\n",
    "    \n",
    "\n",
    "for i in range(len(p_list)):\n",
    "    print(p_dict)\n",
    "    for j in range(len(p_list)):\n",
    "        if i !=j:\n",
    "            if sorted(p_list[i] ,reverse=True) < sorted(p_list[j],reverse = True) and p_dict[pred_pair[i]]['score'] > p_dict[pred_pair[j]]['score']:\n",
    "                tmp = p_dict[pred_pair[i]]['score']\n",
    "                p_dict[pred_pair[i]]['score'] = p_dict[pred_pair[j]]['score']\n",
    "                p_dict[pred_pair[j]]['score'] = tmp\n",
    "p_dict\n",
    "                      \n",
    "    "
   ]
  },
  {
   "cell_type": "code",
   "execution_count": 48,
   "id": "b0fb3d29",
   "metadata": {
    "ExecuteTime": {
     "end_time": "2023-04-27T09:55:10.281273Z",
     "start_time": "2023-04-27T09:55:10.273113Z"
    }
   },
   "outputs": [],
   "source": [
    "def get_ranking(p_dict):\n",
    "    \n",
    "    rank_list = []\n",
    "    \n",
    "    sorted_dict = sorted(p_dict.items(), key=lambda x: x[1]['score'] , reverse = True)\n",
    "    for i in sorted_dict:\n",
    "        if len(rank_list) == 0:\n",
    "            if p_dict[i[0]]['rel']==1:\n",
    "                rank_list.append(i[0][0])\n",
    "                rank_list.append(i[0][1])\n",
    "            else:\n",
    "                rank_list.append(i[0][1])\n",
    "                rank_list.append(i[0][0])\n",
    "        else:\n",
    "            if p_dict[i[0]]['rel']==1:\n",
    "                if i[0][0] in rank_list:\n",
    "                    rank_list.append(i[0][1])\n",
    "                elif i[0][1] in rank_list:\n",
    "                    rank_list.insert(rank_list.index(i[0][1]),i[0][0])\n",
    "                else:\n",
    "                    rank_list.append(i[0][0])\n",
    "                    rank_list.append(i[0][1])\n",
    "            else:\n",
    "                if i[0][0] in rank_list:\n",
    "                    rank_list.insert(rank_list.index(i[0][0]),i[0][1] )\n",
    "                elif i[0][1] in rank_list:\n",
    "                    rank_list.append(i[0][0])\n",
    "                else:\n",
    "                    rank_list.append(i[0][1])\n",
    "                    rank_list.append(i[0][0])\n",
    "        \n",
    "    \n",
    "    return rank_list"
   ]
  },
  {
   "cell_type": "code",
   "execution_count": 49,
   "id": "5618343e",
   "metadata": {
    "ExecuteTime": {
     "end_time": "2023-04-27T09:55:10.899389Z",
     "start_time": "2023-04-27T09:55:10.893945Z"
    }
   },
   "outputs": [
    {
     "data": {
      "text/plain": [
       "['a', 'b', 'd', 'c']"
      ]
     },
     "execution_count": 49,
     "metadata": {},
     "output_type": "execute_result"
    }
   ],
   "source": [
    "get_ranking(p_dict)"
   ]
  },
  {
   "cell_type": "code",
   "execution_count": null,
   "id": "fb6b751e",
   "metadata": {},
   "outputs": [],
   "source": []
  }
 ],
 "metadata": {
  "kernelspec": {
   "display_name": "steph-env",
   "language": "python",
   "name": "steph-env"
  },
  "language_info": {
   "codemirror_mode": {
    "name": "ipython",
    "version": 3
   },
   "file_extension": ".py",
   "mimetype": "text/x-python",
   "name": "python",
   "nbconvert_exporter": "python",
   "pygments_lexer": "ipython3",
   "version": "3.7.5"
  },
  "toc": {
   "base_numbering": 1,
   "nav_menu": {},
   "number_sections": true,
   "sideBar": true,
   "skip_h1_title": false,
   "title_cell": "Table of Contents",
   "title_sidebar": "Contents",
   "toc_cell": false,
   "toc_position": {},
   "toc_section_display": true,
   "toc_window_display": false
  },
  "varInspector": {
   "cols": {
    "lenName": 16,
    "lenType": 16,
    "lenVar": 40
   },
   "kernels_config": {
    "python": {
     "delete_cmd_postfix": "",
     "delete_cmd_prefix": "del ",
     "library": "var_list.py",
     "varRefreshCmd": "print(var_dic_list())"
    },
    "r": {
     "delete_cmd_postfix": ") ",
     "delete_cmd_prefix": "rm(",
     "library": "var_list.r",
     "varRefreshCmd": "cat(var_dic_list()) "
    }
   },
   "types_to_exclude": [
    "module",
    "function",
    "builtin_function_or_method",
    "instance",
    "_Feature"
   ],
   "window_display": false
  }
 },
 "nbformat": 4,
 "nbformat_minor": 5
}
