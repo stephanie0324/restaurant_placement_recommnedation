{
 "cells": [
  {
   "cell_type": "markdown",
   "id": "imported-suffering",
   "metadata": {},
   "source": [
    "# Create the features from Topic Modeling\n",
    "* using by_postal_code dataset"
   ]
  },
  {
   "cell_type": "markdown",
   "id": "equipped-zimbabwe",
   "metadata": {},
   "source": [
    "# Import"
   ]
  },
  {
   "cell_type": "code",
   "execution_count": 1,
   "id": "suited-eligibility",
   "metadata": {
    "ExecuteTime": {
     "end_time": "2023-05-10T07:40:29.869814Z",
     "start_time": "2023-05-10T07:40:27.545267Z"
    }
   },
   "outputs": [
    {
     "name": "stderr",
     "output_type": "stream",
     "text": [
      "Matplotlib created a temporary config/cache directory at /tmp/matplotlib-t3dur0l5 because the default path (/home/emma/.config/matplotlib) is not a writable directory; it is highly recommended to set the MPLCONFIGDIR environment variable to a writable directory, in particular to speed up the import of Matplotlib and to better support multiprocessing.\n"
     ]
    }
   ],
   "source": [
    "import pandas as pd\n",
    "import json\n",
    "import numpy as np\n",
    "from collections import Counter\n",
    "import pickle\n",
    "import math \n",
    "from sklearn.model_selection import train_test_split\n",
    "\n",
    "from scipy import sparse as sp\n",
    "from sklearn.feature_extraction.text import TfidfVectorizer\n",
    "from sklearn.pipeline import Pipeline\n",
    "from sklearn.preprocessing import LabelEncoder\n",
    "from sklearn.feature_selection import chi2\n",
    "from sklearn.feature_selection import SelectKBest"
   ]
  },
  {
   "cell_type": "code",
   "execution_count": 2,
   "id": "bacterial-medicine",
   "metadata": {
    "ExecuteTime": {
     "end_time": "2023-05-10T07:40:32.209866Z",
     "start_time": "2023-05-10T07:40:32.207288Z"
    }
   },
   "outputs": [],
   "source": [
    "RANDOM_STATE = 24"
   ]
  },
  {
   "cell_type": "code",
   "execution_count": null,
   "id": "interpreted-jewel",
   "metadata": {
    "ExecuteTime": {
     "end_time": "2023-05-10T07:38:45.336479Z",
     "start_time": "2023-05-10T07:38:44.058765Z"
    }
   },
   "outputs": [],
   "source": [
    "# 導入資料\n",
    "train_df = pd.read_pickle('/home/adam/Steph_C/my_thesis/data/Train_by_postoal_code_without_review_pointwise_v3_3.pkl')\n",
    "test_df = pd.read_pickle('/home/adam/Steph_C/my_thesis/data/Test_by_postoal_code_without_review_pointwise_v3_3.pkl')"
   ]
  },
  {
   "cell_type": "code",
   "execution_count": null,
   "id": "vulnerable-shock",
   "metadata": {
    "ExecuteTime": {
     "end_time": "2023-05-01T11:10:41.639433Z",
     "start_time": "2023-05-01T11:10:41.446880Z"
    }
   },
   "outputs": [],
   "source": [
    "train_df = train_df.reset_index(drop=True)\n",
    "test_df = test_df.reset_index(drop=True)\n",
    "all_df = all_df.reset_index(drop=True)"
   ]
  },
  {
   "cell_type": "code",
   "execution_count": null,
   "id": "naval-korea",
   "metadata": {
    "ExecuteTime": {
     "end_time": "2023-05-01T11:10:42.166024Z",
     "start_time": "2023-05-01T11:10:42.160509Z"
    }
   },
   "outputs": [],
   "source": [
    "print(train_df.shape , test_df.shape , all_df.shape)"
   ]
  },
  {
   "cell_type": "markdown",
   "id": "closing-storage",
   "metadata": {},
   "source": [
    "# Review Features"
   ]
  },
  {
   "cell_type": "code",
   "execution_count": null,
   "id": "found-stanley",
   "metadata": {
    "ExecuteTime": {
     "start_time": "2023-05-10T07:38:53.580Z"
    }
   },
   "outputs": [],
   "source": [
    "from transformers import BertTokenizer, BertModel\n",
    "\n",
    "# Load pre-trained BERT model and tokenizer\n",
    "model_name = 'bert-base-uncased'\n",
    "tokenizer = BertTokenizer.from_pretrained(model_name)\n",
    "model = BertModel.from_pretrained(model_name)"
   ]
  },
  {
   "cell_type": "markdown",
   "id": "based-plain",
   "metadata": {},
   "source": [
    "## Cal Cosine Similarity "
   ]
  },
  {
   "cell_type": "code",
   "execution_count": null,
   "id": "curious-split",
   "metadata": {
    "ExecuteTime": {
     "end_time": "2023-05-01T14:03:20.089406Z",
     "start_time": "2023-05-01T14:03:20.083325Z"
    }
   },
   "outputs": [],
   "source": [
    "train_df.columns"
   ]
  },
  {
   "cell_type": "code",
   "execution_count": null,
   "id": "detected-lesbian",
   "metadata": {
    "ExecuteTime": {
     "end_time": "2023-05-01T07:56:52.512806Z",
     "start_time": "2023-05-01T07:56:52.512781Z"
    }
   },
   "outputs": [],
   "source": [
    "# Bert Cosine Similarity \n",
    "\n",
    "def bert_cosine_similarity(df):\n",
    "    \n",
    "    for idx , row in df.iterrows():\n",
    "        \n",
    "        \n",
    "    return df"
   ]
  },
  {
   "cell_type": "code",
   "execution_count": null,
   "id": "biblical-execution",
   "metadata": {
    "ExecuteTime": {
     "end_time": "2023-05-01T14:03:58.295837Z",
     "start_time": "2023-05-01T14:03:58.290320Z"
    }
   },
   "outputs": [],
   "source": [
    "# create Affinity and Complementary\n",
    "from gensim.matutils import cossim\n",
    "\n",
    "def get_cos_sim(df):\n",
    "    \n",
    "    df['tok_cosine_sim'] =''\n",
    "    df['tok_cosine_sim_w_attr'] =''\n",
    "    df['tok_cosine_sim_tfidf'] =''\n",
    "    \n",
    "    for i in range(len(df)):\n",
    "        df['tok_cosine_sim'][i] = cossim(df.LDA_res_tokens[i], df.LDA_loc_tokens[i])\n",
    "        df['tok_cosine_sim_w_attr'][i] = cossim(df.LDA_res_tokens_with_att[i], df.LDA_loc_tokens_with_att[i])\n",
    "        df['tok_cosine_sim_tfidf'][i] = cossim(df.LDA_res_tokens_with_att_tfidf[i], df.LDA_loc_tokens_with_att_tfidf[i])\n",
    "    \n",
    "    return df"
   ]
  },
  {
   "cell_type": "code",
   "execution_count": null,
   "id": "electronic-grocery",
   "metadata": {
    "ExecuteTime": {
     "end_time": "2023-05-01T14:04:05.761977Z",
     "start_time": "2023-05-01T14:03:59.777417Z"
    }
   },
   "outputs": [],
   "source": [
    "train_df = get_cos_sim(train_df)\n",
    "test_df = get_cos_sim(test_df)"
   ]
  },
  {
   "cell_type": "markdown",
   "id": "clean-roller",
   "metadata": {},
   "source": [
    "## Affinity & Complementary"
   ]
  },
  {
   "cell_type": "code",
   "execution_count": null,
   "id": "marine-accounting",
   "metadata": {
    "ExecuteTime": {
     "end_time": "2023-05-01T14:10:07.955853Z",
     "start_time": "2023-05-01T14:10:07.948597Z"
    }
   },
   "outputs": [],
   "source": [
    "def get_aff_comp(df) : \n",
    "    \n",
    "    df['tok_affinity'] = ''\n",
    "    df['tok_complementary'] = ''\n",
    "    df['tok_affinity_with_att'] = ''\n",
    "    df['tok_complementary_with_att'] = ''\n",
    "    df['tok_affinity_tfidf'] = ''\n",
    "    df['tok_complementary_tfidf'] = ''\n",
    "    \n",
    "    for i in range(len(df)):\n",
    "        affinity = 0\n",
    "        complementary = 0\n",
    "        affinity_with_att = 0\n",
    "        complementary_with_att = 0\n",
    "        affinity_tfidf = 0\n",
    "        complementary_tfidf = 0\n",
    "        \n",
    "        for j in df.LDA_res_tokens[i]:\n",
    "            for k in df.LDA_loc_tokens[i]: \n",
    "                if j[0] in k:\n",
    "                    affinity += j[1]*k[1]\n",
    "                    complementary += j[1]*(1-k[1])\n",
    "        \n",
    "        \n",
    "        for j in df.LDA_res_tokens_with_att[i]:\n",
    "            for k in df.LDA_loc_tokens_with_att[i]: \n",
    "                if j[0] in k:\n",
    "                    affinity_with_att += j[1]*k[1]\n",
    "                    complementary_with_att += j[1]*(1-k[1]) \n",
    "        \n",
    "        for j in df.LDA_res_tokens_with_att_tfidf[i]:\n",
    "            for k in df.LDA_loc_tokens_with_att_tfidf[i]: \n",
    "                if j[0] in k:\n",
    "                    affinity_tfidf += j[1]*k[1]\n",
    "                    complementary_tfidf += j[1]*(1-k[1]) \n",
    "        \n",
    "        df['tok_affinity'][i] = affinity\n",
    "        df['tok_complementary'][i] = complementary\n",
    "        df['tok_affinity_with_att'][i] = affinity_with_att\n",
    "        df['tok_complementary_with_att'][i] = complementary_with_att\n",
    "        df['tok_affinity_tfidf'][i] = affinity_tfidf\n",
    "        df['tok_complementary_tfidf'][i] = complementary_tfidf\n",
    "        \n",
    "    return df\n",
    "\n",
    "        "
   ]
  },
  {
   "cell_type": "code",
   "execution_count": null,
   "id": "stock-leeds",
   "metadata": {
    "ExecuteTime": {
     "end_time": "2023-05-01T14:10:22.078791Z",
     "start_time": "2023-05-01T14:10:09.970125Z"
    }
   },
   "outputs": [],
   "source": [
    "train_df = get_aff_comp(train_df)\n",
    "test_df = get_aff_comp(test_df)"
   ]
  },
  {
   "cell_type": "code",
   "execution_count": null,
   "id": "little-culture",
   "metadata": {
    "ExecuteTime": {
     "end_time": "2023-05-01T14:10:31.215044Z",
     "start_time": "2023-05-01T14:10:31.202575Z"
    }
   },
   "outputs": [],
   "source": [
    "for i in ['tok_affinity','tok_complementary','tok_affinity_with_att','tok_complementary_with_att','tok_cosine_sim','tok_affinity_tfidf','tok_complementary_tfidf']:\n",
    "    train_df[i] = train_df[i].astype('float')\n",
    "    test_df[i] = test_df[i].astype('float')"
   ]
  },
  {
   "cell_type": "code",
   "execution_count": null,
   "id": "usual-financing",
   "metadata": {
    "ExecuteTime": {
     "end_time": "2023-05-01T14:10:39.922194Z",
     "start_time": "2023-05-01T14:10:36.737294Z"
    }
   },
   "outputs": [],
   "source": [
    "train_df.to_pickle('/home/adam/Steph_C/my_thesis/data/Train_by_postoal_code_pointwise_v3_3_tfidf.pkl')\n",
    "test_df.to_pickle('/home/adam/Steph_C/my_thesis/data/Test_by_postoal_code_pointwise_v3_3_tfidf.pkl')"
   ]
  },
  {
   "cell_type": "code",
   "execution_count": null,
   "id": "innocent-punch",
   "metadata": {},
   "outputs": [],
   "source": []
  }
 ],
 "metadata": {
  "kernelspec": {
   "display_name": "steph_env",
   "language": "python",
   "name": "steph_env"
  },
  "language_info": {
   "codemirror_mode": {
    "name": "ipython",
    "version": 3
   },
   "file_extension": ".py",
   "mimetype": "text/x-python",
   "name": "python",
   "nbconvert_exporter": "python",
   "pygments_lexer": "ipython3",
   "version": "3.6.3"
  },
  "toc": {
   "base_numbering": 1,
   "nav_menu": {},
   "number_sections": true,
   "sideBar": true,
   "skip_h1_title": false,
   "title_cell": "Table of Contents",
   "title_sidebar": "Contents",
   "toc_cell": false,
   "toc_position": {
    "height": "calc(100% - 180px)",
    "left": "10px",
    "top": "150px",
    "width": "165px"
   },
   "toc_section_display": true,
   "toc_window_display": true
  },
  "varInspector": {
   "cols": {
    "lenName": 16,
    "lenType": 16,
    "lenVar": 40
   },
   "kernels_config": {
    "python": {
     "delete_cmd_postfix": "",
     "delete_cmd_prefix": "del ",
     "library": "var_list.py",
     "varRefreshCmd": "print(var_dic_list())"
    },
    "r": {
     "delete_cmd_postfix": ") ",
     "delete_cmd_prefix": "rm(",
     "library": "var_list.r",
     "varRefreshCmd": "cat(var_dic_list()) "
    }
   },
   "types_to_exclude": [
    "module",
    "function",
    "builtin_function_or_method",
    "instance",
    "_Feature"
   ],
   "window_display": false
  },
  "vscode": {
   "interpreter": {
    "hash": "f457e4bdb0a834eef26de468bbb8aa330d736c8b7db558705075494c4e15f1a8"
   }
  }
 },
 "nbformat": 4,
 "nbformat_minor": 5
}
