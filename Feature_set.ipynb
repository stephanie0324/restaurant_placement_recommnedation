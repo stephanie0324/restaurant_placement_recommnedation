{
 "cells": [
  {
   "cell_type": "markdown",
   "id": "0e8d5b21",
   "metadata": {},
   "source": [
    "# Create the features DF"
   ]
  },
  {
   "cell_type": "markdown",
   "id": "ec941861",
   "metadata": {},
   "source": [
    "# Import"
   ]
  },
  {
   "cell_type": "code",
   "execution_count": 42,
   "id": "b6b42150",
   "metadata": {},
   "outputs": [],
   "source": [
    "import pandas as pd\n",
    "import json\n",
    "import numpy as np\n",
    "from collections import Counter\n",
    "import matplotlib.pyplot as plt\n",
    "import pickle\n",
    "import math \n",
    "\n",
    "from scipy import sparse as sp\n",
    "from sklearn.feature_extraction.text import CountVectorizer\n",
    "from sklearn.feature_extraction.text import TfidfTransformer\n",
    "from sklearn.pipeline import Pipeline\n",
    "from sklearn.preprocessing import LabelEncoder\n",
    "from sklearn.feature_selection import chi2\n",
    "from sklearn.feature_selection import SelectKBest"
   ]
  },
  {
   "cell_type": "code",
   "execution_count": 23,
   "id": "ba49a623",
   "metadata": {},
   "outputs": [],
   "source": [
    "df = pd.read_pickle ('./data/FL_only.pkl')\n",
    "LDA_df = pd.read_pickle ('./data/LDA_training.pkl')"
   ]
  },
  {
   "cell_type": "code",
   "execution_count": 24,
   "id": "fca19685",
   "metadata": {},
   "outputs": [
    {
     "data": {
      "text/plain": [
       "(23630, 18)"
      ]
     },
     "execution_count": 24,
     "metadata": {},
     "output_type": "execute_result"
    }
   ],
   "source": [
    "df.shape"
   ]
  },
  {
   "cell_type": "code",
   "execution_count": 25,
   "id": "d8948f9c",
   "metadata": {},
   "outputs": [
    {
     "data": {
      "text/plain": [
       "(323563, 18)"
      ]
     },
     "execution_count": 25,
     "metadata": {},
     "output_type": "execute_result"
    }
   ],
   "source": [
    "LDA_df.shape"
   ]
  },
  {
   "cell_type": "code",
   "execution_count": 26,
   "id": "fc512149",
   "metadata": {},
   "outputs": [
    {
     "data": {
      "text/html": [
       "<div>\n",
       "<style scoped>\n",
       "    .dataframe tbody tr th:only-of-type {\n",
       "        vertical-align: middle;\n",
       "    }\n",
       "\n",
       "    .dataframe tbody tr th {\n",
       "        vertical-align: top;\n",
       "    }\n",
       "\n",
       "    .dataframe thead th {\n",
       "        text-align: right;\n",
       "    }\n",
       "</style>\n",
       "<table border=\"1\" class=\"dataframe\">\n",
       "  <thead>\n",
       "    <tr style=\"text-align: right;\">\n",
       "      <th></th>\n",
       "      <th>business_id</th>\n",
       "      <th>stars_x</th>\n",
       "      <th>useful</th>\n",
       "      <th>funny</th>\n",
       "      <th>cool</th>\n",
       "      <th>text</th>\n",
       "      <th>date</th>\n",
       "      <th>name</th>\n",
       "      <th>address</th>\n",
       "      <th>city</th>\n",
       "      <th>state</th>\n",
       "      <th>postal_code</th>\n",
       "      <th>stars_y</th>\n",
       "      <th>review_count</th>\n",
       "      <th>is_open</th>\n",
       "      <th>attributes</th>\n",
       "      <th>categories</th>\n",
       "      <th>hours</th>\n",
       "    </tr>\n",
       "  </thead>\n",
       "  <tbody>\n",
       "    <tr>\n",
       "      <th>2280</th>\n",
       "      <td>cg4JFJcCxRTTMmcg9O9KtA</td>\n",
       "      <td>1.0</td>\n",
       "      <td>0</td>\n",
       "      <td>1</td>\n",
       "      <td>0</td>\n",
       "      <td>Skip this train wreck if you are looking for d...</td>\n",
       "      <td>2018-02-11 03:11:20</td>\n",
       "      <td>Ava</td>\n",
       "      <td>718 S Howard Ave</td>\n",
       "      <td>Tampa</td>\n",
       "      <td>FL</td>\n",
       "      <td>33606</td>\n",
       "      <td>3.5</td>\n",
       "      <td>544</td>\n",
       "      <td>1</td>\n",
       "      <td>{'BikeParking': 'True', 'Alcohol': ''full_bar'...</td>\n",
       "      <td>Wine Bars, Desserts, Bars, American (New), Nig...</td>\n",
       "      <td>{'Monday': '17:0-22:0', 'Tuesday': '17:0-22:0'...</td>\n",
       "    </tr>\n",
       "    <tr>\n",
       "      <th>2281</th>\n",
       "      <td>cg4JFJcCxRTTMmcg9O9KtA</td>\n",
       "      <td>4.0</td>\n",
       "      <td>0</td>\n",
       "      <td>0</td>\n",
       "      <td>0</td>\n",
       "      <td>Been here twice and both times we thoroughly e...</td>\n",
       "      <td>2018-07-26 14:30:20</td>\n",
       "      <td>Ava</td>\n",
       "      <td>718 S Howard Ave</td>\n",
       "      <td>Tampa</td>\n",
       "      <td>FL</td>\n",
       "      <td>33606</td>\n",
       "      <td>3.5</td>\n",
       "      <td>544</td>\n",
       "      <td>1</td>\n",
       "      <td>{'BikeParking': 'True', 'Alcohol': ''full_bar'...</td>\n",
       "      <td>Wine Bars, Desserts, Bars, American (New), Nig...</td>\n",
       "      <td>{'Monday': '17:0-22:0', 'Tuesday': '17:0-22:0'...</td>\n",
       "    </tr>\n",
       "    <tr>\n",
       "      <th>2282</th>\n",
       "      <td>cg4JFJcCxRTTMmcg9O9KtA</td>\n",
       "      <td>5.0</td>\n",
       "      <td>0</td>\n",
       "      <td>0</td>\n",
       "      <td>0</td>\n",
       "      <td>Brunch was lovely at Ava. No wait and fast ser...</td>\n",
       "      <td>2018-08-26 20:32:05</td>\n",
       "      <td>Ava</td>\n",
       "      <td>718 S Howard Ave</td>\n",
       "      <td>Tampa</td>\n",
       "      <td>FL</td>\n",
       "      <td>33606</td>\n",
       "      <td>3.5</td>\n",
       "      <td>544</td>\n",
       "      <td>1</td>\n",
       "      <td>{'BikeParking': 'True', 'Alcohol': ''full_bar'...</td>\n",
       "      <td>Wine Bars, Desserts, Bars, American (New), Nig...</td>\n",
       "      <td>{'Monday': '17:0-22:0', 'Tuesday': '17:0-22:0'...</td>\n",
       "    </tr>\n",
       "    <tr>\n",
       "      <th>2283</th>\n",
       "      <td>cg4JFJcCxRTTMmcg9O9KtA</td>\n",
       "      <td>3.0</td>\n",
       "      <td>0</td>\n",
       "      <td>0</td>\n",
       "      <td>1</td>\n",
       "      <td>Just walk up and order then go around and wait...</td>\n",
       "      <td>2018-03-24 20:10:35</td>\n",
       "      <td>Ava</td>\n",
       "      <td>718 S Howard Ave</td>\n",
       "      <td>Tampa</td>\n",
       "      <td>FL</td>\n",
       "      <td>33606</td>\n",
       "      <td>3.5</td>\n",
       "      <td>544</td>\n",
       "      <td>1</td>\n",
       "      <td>{'BikeParking': 'True', 'Alcohol': ''full_bar'...</td>\n",
       "      <td>Wine Bars, Desserts, Bars, American (New), Nig...</td>\n",
       "      <td>{'Monday': '17:0-22:0', 'Tuesday': '17:0-22:0'...</td>\n",
       "    </tr>\n",
       "    <tr>\n",
       "      <th>2284</th>\n",
       "      <td>cg4JFJcCxRTTMmcg9O9KtA</td>\n",
       "      <td>1.0</td>\n",
       "      <td>0</td>\n",
       "      <td>0</td>\n",
       "      <td>0</td>\n",
       "      <td>First time coming and the last time this place...</td>\n",
       "      <td>2018-09-16 00:00:28</td>\n",
       "      <td>Ava</td>\n",
       "      <td>718 S Howard Ave</td>\n",
       "      <td>Tampa</td>\n",
       "      <td>FL</td>\n",
       "      <td>33606</td>\n",
       "      <td>3.5</td>\n",
       "      <td>544</td>\n",
       "      <td>1</td>\n",
       "      <td>{'BikeParking': 'True', 'Alcohol': ''full_bar'...</td>\n",
       "      <td>Wine Bars, Desserts, Bars, American (New), Nig...</td>\n",
       "      <td>{'Monday': '17:0-22:0', 'Tuesday': '17:0-22:0'...</td>\n",
       "    </tr>\n",
       "  </tbody>\n",
       "</table>\n",
       "</div>"
      ],
      "text/plain": [
       "                 business_id  stars_x  useful  funny  cool  \\\n",
       "2280  cg4JFJcCxRTTMmcg9O9KtA      1.0       0      1     0   \n",
       "2281  cg4JFJcCxRTTMmcg9O9KtA      4.0       0      0     0   \n",
       "2282  cg4JFJcCxRTTMmcg9O9KtA      5.0       0      0     0   \n",
       "2283  cg4JFJcCxRTTMmcg9O9KtA      3.0       0      0     1   \n",
       "2284  cg4JFJcCxRTTMmcg9O9KtA      1.0       0      0     0   \n",
       "\n",
       "                                                   text                date  \\\n",
       "2280  Skip this train wreck if you are looking for d... 2018-02-11 03:11:20   \n",
       "2281  Been here twice and both times we thoroughly e... 2018-07-26 14:30:20   \n",
       "2282  Brunch was lovely at Ava. No wait and fast ser... 2018-08-26 20:32:05   \n",
       "2283  Just walk up and order then go around and wait... 2018-03-24 20:10:35   \n",
       "2284  First time coming and the last time this place... 2018-09-16 00:00:28   \n",
       "\n",
       "     name           address   city state postal_code  stars_y  review_count  \\\n",
       "2280  Ava  718 S Howard Ave  Tampa    FL       33606      3.5           544   \n",
       "2281  Ava  718 S Howard Ave  Tampa    FL       33606      3.5           544   \n",
       "2282  Ava  718 S Howard Ave  Tampa    FL       33606      3.5           544   \n",
       "2283  Ava  718 S Howard Ave  Tampa    FL       33606      3.5           544   \n",
       "2284  Ava  718 S Howard Ave  Tampa    FL       33606      3.5           544   \n",
       "\n",
       "      is_open                                         attributes  \\\n",
       "2280        1  {'BikeParking': 'True', 'Alcohol': ''full_bar'...   \n",
       "2281        1  {'BikeParking': 'True', 'Alcohol': ''full_bar'...   \n",
       "2282        1  {'BikeParking': 'True', 'Alcohol': ''full_bar'...   \n",
       "2283        1  {'BikeParking': 'True', 'Alcohol': ''full_bar'...   \n",
       "2284        1  {'BikeParking': 'True', 'Alcohol': ''full_bar'...   \n",
       "\n",
       "                                             categories  \\\n",
       "2280  Wine Bars, Desserts, Bars, American (New), Nig...   \n",
       "2281  Wine Bars, Desserts, Bars, American (New), Nig...   \n",
       "2282  Wine Bars, Desserts, Bars, American (New), Nig...   \n",
       "2283  Wine Bars, Desserts, Bars, American (New), Nig...   \n",
       "2284  Wine Bars, Desserts, Bars, American (New), Nig...   \n",
       "\n",
       "                                                  hours  \n",
       "2280  {'Monday': '17:0-22:0', 'Tuesday': '17:0-22:0'...  \n",
       "2281  {'Monday': '17:0-22:0', 'Tuesday': '17:0-22:0'...  \n",
       "2282  {'Monday': '17:0-22:0', 'Tuesday': '17:0-22:0'...  \n",
       "2283  {'Monday': '17:0-22:0', 'Tuesday': '17:0-22:0'...  \n",
       "2284  {'Monday': '17:0-22:0', 'Tuesday': '17:0-22:0'...  "
      ]
     },
     "execution_count": 26,
     "metadata": {},
     "output_type": "execute_result"
    }
   ],
   "source": [
    "LDA_df.head()"
   ]
  },
  {
   "cell_type": "markdown",
   "id": "c2456c49",
   "metadata": {},
   "source": [
    "# Preprocessing "
   ]
  },
  {
   "cell_type": "code",
   "execution_count": 27,
   "id": "590f2edd",
   "metadata": {},
   "outputs": [],
   "source": [
    "from nltk.stem import PorterStemmer\n",
    "import nltk\n",
    "from nltk.corpus import stopwords"
   ]
  },
  {
   "cell_type": "code",
   "execution_count": 28,
   "id": "73d70afd",
   "metadata": {},
   "outputs": [],
   "source": [
    "stop_words = stopwords.words('english')\n",
    "\n",
    "def preprocess(text : str) -> list:\n",
    "    \n",
    "    tokens = text.lower().rstrip(' ').rstrip('\\n').rstrip('.').split(' ')[:3000]\n",
    "    \n",
    "    p = PorterStemmer()\n",
    "    stemmed_doc =[]\n",
    "    for token in tokens:\n",
    "        stemmed_doc.append(p.stem(token))\n",
    "        \n",
    "    tokens = [i.split(' ') for i in stemmed_doc]\n",
    "    \n",
    "    \n",
    "    final_tokens =[]\n",
    "\n",
    "\n",
    "    for l in tokens:\n",
    "        for word in l:\n",
    "            word = word.rstrip('.').rstrip('\\'').rstrip(',')\n",
    "            if word not in final_tokens and word not in stop_words and len(word)>0:\n",
    "                final_tokens.append(word)\n",
    "    return final_tokens"
   ]
  },
  {
   "cell_type": "markdown",
   "id": "1fe9d8c4",
   "metadata": {},
   "source": [
    "# Review-based Market Attractiveness Features (MAF)\n",
    "* Turn every restaurant and city to a doc of reviews\n",
    "* Use `dict` to store the dic index of restaurant and city\n",
    "* review - LDA\n",
    "* location - LDA "
   ]
  },
  {
   "cell_type": "code",
   "execution_count": 29,
   "id": "7bc6f6cf",
   "metadata": {},
   "outputs": [],
   "source": [
    "from pprint import pprint\n",
    "import gensim\n",
    "import gensim.corpora as corpora\n",
    "from gensim.utils import simple_preprocess\n",
    "from nltk.corpus import stopwords\n",
    "from gensim.models import CoherenceModel\n",
    "import pyLDAvis\n",
    "import pyLDAvis.gensim_models\n",
    "import matplotlib.pyplot as plt\n",
    "import nltk"
   ]
  },
  {
   "cell_type": "code",
   "execution_count": 30,
   "id": "7d646844",
   "metadata": {},
   "outputs": [],
   "source": [
    "# # aspect creation \n",
    "# total_df = pd.concat([df,LDA_df] , ignore_index=True)\n",
    "\n",
    "# docs = []\n",
    "# index =0 \n",
    "\n",
    "\n",
    "# # restaurant\n",
    "# for restaurant in Counter(df.name):\n",
    "#     if index%10 ==0:\n",
    "#         print(f'Now {index} Restaurant ... {restaurant}')\n",
    "#     tmp = df[df.name == restaurant]\n",
    "#     texts = ''.join(tmp.text.tolist())\n",
    "#     docs.append(preprocess(texts))\n",
    "#     indxe +=1\n",
    "\n",
    "# # city \n",
    "# for city_name in Counter(df.city):\n",
    "#     if index%5 ==0:\n",
    "#         print(f'Now {index} City ... {city_name}')\n",
    "#     tmp = total_df[total_df.city == city_name]\n",
    "#     texts = ''.join(tmp.text.tolist())\n",
    "#     docs.append(preprocess(texts))\n",
    "#     index +=1   \n",
    "\n",
    "# # save pickle\n",
    "# with open('./data/docs.pkl', 'wb') as f:\n",
    "#     pickle.dump(docs, f)"
   ]
  },
  {
   "cell_type": "code",
   "execution_count": 31,
   "id": "c36965ed",
   "metadata": {},
   "outputs": [],
   "source": [
    "with open('./data/docs.pkl', 'rb') as f:\n",
    "    docs = pickle.load(f)\n",
    "    "
   ]
  },
  {
   "cell_type": "markdown",
   "id": "3b40e71f",
   "metadata": {},
   "source": [
    "## LDA"
   ]
  },
  {
   "cell_type": "code",
   "execution_count": 36,
   "id": "8b808e75",
   "metadata": {},
   "outputs": [],
   "source": [
    "index = 0\n",
    "name_city_dict = {}\n",
    "for restaurant in Counter(df.name):\n",
    "    name_city_dict[restaurant]=index\n",
    "    index +=1\n",
    "    \n",
    "for city_name in Counter(df.city):\n",
    "    name_city_dict[city_name]=index\n",
    "    index +=1   "
   ]
  },
  {
   "cell_type": "code",
   "execution_count": 32,
   "id": "fe9b691d",
   "metadata": {},
   "outputs": [
    {
     "data": {
      "text/plain": [
       "[(0,\n",
       "  '0.001*\"love\" + 0.001*\"experi\" + 0.001*\"order\" + 0.001*\"make\" + 0.001*\"visit\" + 0.001*\"small\" + 0.001*\"need\" + 0.001*\"i\\'v\" + 0.001*\"want\" + 0.001*\"serv\"'),\n",
       " (1,\n",
       "  '0.002*\"servic\" + 0.001*\"food\" + 0.001*\"nice\" + 0.001*\"peopl\" + 0.001*\"tabl\" + 0.001*\"5\" + 0.001*\"someth\" + 0.001*\"order\" + 0.001*\"alway\" + 0.001*\"wa\"'),\n",
       " (2,\n",
       "  '0.001*\"could\" + 0.001*\"servic\" + 0.001*\"good\" + 0.001*\"best\" + 0.001*\"also\" + 0.001*\"told\" + 0.001*\"cold\" + 0.001*\"go\" + 0.001*\"everi\" + 0.001*\"around\"'),\n",
       " (3,\n",
       "  '0.002*\"veri\" + 0.001*\"best\" + 0.001*\"great\" + 0.001*\"stop\" + 0.001*\"i\\'m\" + 0.001*\"check\" + 0.001*\"someth\" + 0.001*\"realli\" + 0.001*\"befor\" + 0.001*\"get\"'),\n",
       " (4,\n",
       "  '0.001*\"also\" + 0.001*\"staff\" + 0.001*\"thi\" + 0.001*\"ask\" + 0.001*\"come\" + 0.001*\"wa\" + 0.001*\"would\" + 0.001*\"food\" + 0.001*\"never\" + 0.001*\"2\"'),\n",
       " (5,\n",
       "  '0.002*\"back\" + 0.001*\"one\" + 0.001*\"look\" + 0.001*\"well\" + 0.001*\"onli\" + 0.001*\"ever\" + 0.001*\"2\" + 0.001*\"manag\" + 0.001*\"never\" + 0.001*\"come\"'),\n",
       " (6,\n",
       "  '0.001*\"go\" + 0.001*\"got\" + 0.001*\"eat\" + 0.001*\"great\" + 0.001*\"server\" + 0.001*\"food\" + 0.001*\"first\" + 0.001*\"locat\" + 0.001*\"tri\" + 0.001*\"expect\"'),\n",
       " (7,\n",
       "  '0.001*\"came\" + 0.001*\"check\" + 0.001*\"went\" + 0.001*\"go\" + 0.001*\"got\" + 0.001*\"one\" + 0.001*\"eat\" + 0.001*\"someth\" + 0.001*\"put\" + 0.001*\"said\"'),\n",
       " (8,\n",
       "  '0.001*\"two\" + 0.001*\"like\" + 0.001*\"still\" + 0.001*\"alway\" + 0.001*\"long\" + 0.001*\"take\" + 0.001*\"came\" + 0.001*\"eat\" + 0.001*\"thi\" + 0.001*\"realli\"'),\n",
       " (9,\n",
       "  '0.001*\"sit\" + 0.001*\"first\" + 0.001*\"friendli\" + 0.001*\"locat\" + 0.001*\"well\" + 0.001*\"wait\" + 0.001*\"ever\" + 0.001*\"peopl\" + 0.001*\"-\" + 0.001*\"custom\"')]"
      ]
     },
     "execution_count": 32,
     "metadata": {},
     "output_type": "execute_result"
    }
   ],
   "source": [
    "### LDA ###\n",
    "common_dictionary = corpora.Dictionary(docs)\n",
    "common_corpus = [common_dictionary.doc2bow(text) for text in docs]\n",
    "\n",
    "\n",
    "# Train the model on the corpus.\n",
    "lda =  gensim.models.LdaMulticore(corpus = common_corpus, id2word= common_dictionary, num_topics= 10)\n",
    "lda.show_topics()\n"
   ]
  },
  {
   "cell_type": "code",
   "execution_count": 33,
   "id": "e10dd3e2",
   "metadata": {},
   "outputs": [
    {
     "name": "stdout",
     "output_type": "stream",
     "text": [
      "0.5555102731375688\n"
     ]
    }
   ],
   "source": [
    "# check the topic coherence\n",
    "coherence_model_lda = CoherenceModel( model=lda , texts=docs , dictionary=common_dictionary , coherence='c_v' )\n",
    "conherence_lda = coherence_model_lda.get_coherence()\n",
    "print(conherence_lda)"
   ]
  },
  {
   "cell_type": "code",
   "execution_count": 37,
   "id": "9ce41d3e",
   "metadata": {},
   "outputs": [],
   "source": [
    "# create restaurant aspects\n",
    "\n",
    "rest_aspect = {}\n",
    "loca_aspect = {}\n",
    "\n",
    "for name in Counter(df.name):\n",
    "    tmp_arr = np.zeros(10)\n",
    "    for i in lda[common_corpus[name_city_dict[name]]]:\n",
    "        tmp_arr[i[0]]=i[1]\n",
    "    rest_aspect[name]= tmp_arr\n",
    "\n",
    "for location in Counter(df.city):\n",
    "    tmp_arr = np.zeros(10)\n",
    "    for i in lda[common_corpus[name_city_dict[location]]]:\n",
    "        tmp_arr[i[0]]=i[1]\n",
    "    loca_aspect[location]= tmp_arr"
   ]
  },
  {
   "cell_type": "markdown",
   "id": "7a7c5828",
   "metadata": {},
   "source": [
    "## Affinity & Complementary"
   ]
  },
  {
   "cell_type": "code",
   "execution_count": 38,
   "id": "35b1f2cf",
   "metadata": {},
   "outputs": [],
   "source": [
    "df = df.reset_index()"
   ]
  },
  {
   "cell_type": "code",
   "execution_count": 39,
   "id": "c8a55c29",
   "metadata": {},
   "outputs": [
    {
     "name": "stderr",
     "output_type": "stream",
     "text": [
      "/home/adam/.local/lib/python3.7/site-packages/ipykernel_launcher.py:5: SettingWithCopyWarning: \n",
      "A value is trying to be set on a copy of a slice from a DataFrame\n",
      "\n",
      "See the caveats in the documentation: https://pandas.pydata.org/pandas-docs/stable/user_guide/indexing.html#returning-a-view-versus-a-copy\n",
      "  \"\"\"\n",
      "/home/adam/.local/lib/python3.7/site-packages/ipykernel_launcher.py:6: SettingWithCopyWarning: \n",
      "A value is trying to be set on a copy of a slice from a DataFrame\n",
      "\n",
      "See the caveats in the documentation: https://pandas.pydata.org/pandas-docs/stable/user_guide/indexing.html#returning-a-view-versus-a-copy\n",
      "  \n"
     ]
    }
   ],
   "source": [
    "df['affinity']=\"\"\n",
    "df['complementary']=\"\"\n",
    "\n",
    "for i in range(len(df)):\n",
    "    df.affinity[i] = rest_aspect[df.name[i]]*loca_aspect[df.city[i]]\n",
    "    df.complementary[i] = rest_aspect[df.name[i]]*(1-loca_aspect[df.city[i]]) "
   ]
  },
  {
   "cell_type": "code",
   "execution_count": 40,
   "id": "57f428db",
   "metadata": {},
   "outputs": [
    {
     "data": {
      "text/html": [
       "<div>\n",
       "<style scoped>\n",
       "    .dataframe tbody tr th:only-of-type {\n",
       "        vertical-align: middle;\n",
       "    }\n",
       "\n",
       "    .dataframe tbody tr th {\n",
       "        vertical-align: top;\n",
       "    }\n",
       "\n",
       "    .dataframe thead th {\n",
       "        text-align: right;\n",
       "    }\n",
       "</style>\n",
       "<table border=\"1\" class=\"dataframe\">\n",
       "  <thead>\n",
       "    <tr style=\"text-align: right;\">\n",
       "      <th></th>\n",
       "      <th>index</th>\n",
       "      <th>business_id</th>\n",
       "      <th>stars_x</th>\n",
       "      <th>useful</th>\n",
       "      <th>funny</th>\n",
       "      <th>cool</th>\n",
       "      <th>text</th>\n",
       "      <th>date</th>\n",
       "      <th>name</th>\n",
       "      <th>address</th>\n",
       "      <th>...</th>\n",
       "      <th>state</th>\n",
       "      <th>postal_code</th>\n",
       "      <th>stars_y</th>\n",
       "      <th>review_count</th>\n",
       "      <th>is_open</th>\n",
       "      <th>attributes</th>\n",
       "      <th>categories</th>\n",
       "      <th>hours</th>\n",
       "      <th>affinity</th>\n",
       "      <th>complementary</th>\n",
       "    </tr>\n",
       "  </thead>\n",
       "  <tbody>\n",
       "    <tr>\n",
       "      <th>0</th>\n",
       "      <td>49609</td>\n",
       "      <td>j9Kaj_6tSeXmVMYCgZithg</td>\n",
       "      <td>5.0</td>\n",
       "      <td>0</td>\n",
       "      <td>0</td>\n",
       "      <td>0</td>\n",
       "      <td>Great food! Very impressed...I really like the...</td>\n",
       "      <td>2018-05-19 02:19:28</td>\n",
       "      <td>Noble Crust</td>\n",
       "      <td>28330 Paseo Dr</td>\n",
       "      <td>...</td>\n",
       "      <td>FL</td>\n",
       "      <td>33543</td>\n",
       "      <td>4.5</td>\n",
       "      <td>496</td>\n",
       "      <td>1</td>\n",
       "      <td>{'BusinessAcceptsCreditCards': 'True', 'DogsAl...</td>\n",
       "      <td>Restaurants, Italian, Nightlife, Southern, Bar...</td>\n",
       "      <td>{'Monday': '16:0-22:0', 'Tuesday': '16:0-22:0'...</td>\n",
       "      <td>[0.0, 0.0, 0.0, 0.0, 0.8171585500305412, 0.0, ...</td>\n",
       "      <td>[0.0, 0.0, 0.0, 0.0, 0.08329090475385215, 0.0,...</td>\n",
       "    </tr>\n",
       "    <tr>\n",
       "      <th>1</th>\n",
       "      <td>49610</td>\n",
       "      <td>j9Kaj_6tSeXmVMYCgZithg</td>\n",
       "      <td>2.0</td>\n",
       "      <td>0</td>\n",
       "      <td>0</td>\n",
       "      <td>0</td>\n",
       "      <td>Not a fan. Italian food is pretty straight for...</td>\n",
       "      <td>2018-09-14 13:10:27</td>\n",
       "      <td>Noble Crust</td>\n",
       "      <td>28330 Paseo Dr</td>\n",
       "      <td>...</td>\n",
       "      <td>FL</td>\n",
       "      <td>33543</td>\n",
       "      <td>4.5</td>\n",
       "      <td>496</td>\n",
       "      <td>1</td>\n",
       "      <td>{'BusinessAcceptsCreditCards': 'True', 'DogsAl...</td>\n",
       "      <td>Restaurants, Italian, Nightlife, Southern, Bar...</td>\n",
       "      <td>{'Monday': '16:0-22:0', 'Tuesday': '16:0-22:0'...</td>\n",
       "      <td>[0.0, 0.0, 0.0, 0.0, 0.8171585500305412, 0.0, ...</td>\n",
       "      <td>[0.0, 0.0, 0.0, 0.0, 0.08329090475385215, 0.0,...</td>\n",
       "    </tr>\n",
       "    <tr>\n",
       "      <th>2</th>\n",
       "      <td>49611</td>\n",
       "      <td>j9Kaj_6tSeXmVMYCgZithg</td>\n",
       "      <td>5.0</td>\n",
       "      <td>0</td>\n",
       "      <td>0</td>\n",
       "      <td>0</td>\n",
       "      <td>Noble crust is amazing! The atmosphere is quit...</td>\n",
       "      <td>2018-01-12 01:40:44</td>\n",
       "      <td>Noble Crust</td>\n",
       "      <td>28330 Paseo Dr</td>\n",
       "      <td>...</td>\n",
       "      <td>FL</td>\n",
       "      <td>33543</td>\n",
       "      <td>4.5</td>\n",
       "      <td>496</td>\n",
       "      <td>1</td>\n",
       "      <td>{'BusinessAcceptsCreditCards': 'True', 'DogsAl...</td>\n",
       "      <td>Restaurants, Italian, Nightlife, Southern, Bar...</td>\n",
       "      <td>{'Monday': '16:0-22:0', 'Tuesday': '16:0-22:0'...</td>\n",
       "      <td>[0.0, 0.0, 0.0, 0.0, 0.8171585500305412, 0.0, ...</td>\n",
       "      <td>[0.0, 0.0, 0.0, 0.0, 0.08329090475385215, 0.0,...</td>\n",
       "    </tr>\n",
       "    <tr>\n",
       "      <th>3</th>\n",
       "      <td>49612</td>\n",
       "      <td>j9Kaj_6tSeXmVMYCgZithg</td>\n",
       "      <td>3.0</td>\n",
       "      <td>0</td>\n",
       "      <td>0</td>\n",
       "      <td>0</td>\n",
       "      <td>Meh, expensive and uncomfortable seating. One ...</td>\n",
       "      <td>2018-08-05 04:03:04</td>\n",
       "      <td>Noble Crust</td>\n",
       "      <td>28330 Paseo Dr</td>\n",
       "      <td>...</td>\n",
       "      <td>FL</td>\n",
       "      <td>33543</td>\n",
       "      <td>4.5</td>\n",
       "      <td>496</td>\n",
       "      <td>1</td>\n",
       "      <td>{'BusinessAcceptsCreditCards': 'True', 'DogsAl...</td>\n",
       "      <td>Restaurants, Italian, Nightlife, Southern, Bar...</td>\n",
       "      <td>{'Monday': '16:0-22:0', 'Tuesday': '16:0-22:0'...</td>\n",
       "      <td>[0.0, 0.0, 0.0, 0.0, 0.8171585500305412, 0.0, ...</td>\n",
       "      <td>[0.0, 0.0, 0.0, 0.0, 0.08329090475385215, 0.0,...</td>\n",
       "    </tr>\n",
       "    <tr>\n",
       "      <th>4</th>\n",
       "      <td>49613</td>\n",
       "      <td>j9Kaj_6tSeXmVMYCgZithg</td>\n",
       "      <td>5.0</td>\n",
       "      <td>0</td>\n",
       "      <td>0</td>\n",
       "      <td>0</td>\n",
       "      <td>Great date night place! I can't say enough abo...</td>\n",
       "      <td>2018-02-03 04:05:37</td>\n",
       "      <td>Noble Crust</td>\n",
       "      <td>28330 Paseo Dr</td>\n",
       "      <td>...</td>\n",
       "      <td>FL</td>\n",
       "      <td>33543</td>\n",
       "      <td>4.5</td>\n",
       "      <td>496</td>\n",
       "      <td>1</td>\n",
       "      <td>{'BusinessAcceptsCreditCards': 'True', 'DogsAl...</td>\n",
       "      <td>Restaurants, Italian, Nightlife, Southern, Bar...</td>\n",
       "      <td>{'Monday': '16:0-22:0', 'Tuesday': '16:0-22:0'...</td>\n",
       "      <td>[0.0, 0.0, 0.0, 0.0, 0.8171585500305412, 0.0, ...</td>\n",
       "      <td>[0.0, 0.0, 0.0, 0.0, 0.08329090475385215, 0.0,...</td>\n",
       "    </tr>\n",
       "  </tbody>\n",
       "</table>\n",
       "<p>5 rows × 21 columns</p>\n",
       "</div>"
      ],
      "text/plain": [
       "   index             business_id  stars_x  useful  funny  cool  \\\n",
       "0  49609  j9Kaj_6tSeXmVMYCgZithg      5.0       0      0     0   \n",
       "1  49610  j9Kaj_6tSeXmVMYCgZithg      2.0       0      0     0   \n",
       "2  49611  j9Kaj_6tSeXmVMYCgZithg      5.0       0      0     0   \n",
       "3  49612  j9Kaj_6tSeXmVMYCgZithg      3.0       0      0     0   \n",
       "4  49613  j9Kaj_6tSeXmVMYCgZithg      5.0       0      0     0   \n",
       "\n",
       "                                                text                date  \\\n",
       "0  Great food! Very impressed...I really like the... 2018-05-19 02:19:28   \n",
       "1  Not a fan. Italian food is pretty straight for... 2018-09-14 13:10:27   \n",
       "2  Noble crust is amazing! The atmosphere is quit... 2018-01-12 01:40:44   \n",
       "3  Meh, expensive and uncomfortable seating. One ... 2018-08-05 04:03:04   \n",
       "4  Great date night place! I can't say enough abo... 2018-02-03 04:05:37   \n",
       "\n",
       "          name         address  ... state postal_code stars_y  review_count  \\\n",
       "0  Noble Crust  28330 Paseo Dr  ...    FL       33543     4.5           496   \n",
       "1  Noble Crust  28330 Paseo Dr  ...    FL       33543     4.5           496   \n",
       "2  Noble Crust  28330 Paseo Dr  ...    FL       33543     4.5           496   \n",
       "3  Noble Crust  28330 Paseo Dr  ...    FL       33543     4.5           496   \n",
       "4  Noble Crust  28330 Paseo Dr  ...    FL       33543     4.5           496   \n",
       "\n",
       "   is_open                                         attributes  \\\n",
       "0        1  {'BusinessAcceptsCreditCards': 'True', 'DogsAl...   \n",
       "1        1  {'BusinessAcceptsCreditCards': 'True', 'DogsAl...   \n",
       "2        1  {'BusinessAcceptsCreditCards': 'True', 'DogsAl...   \n",
       "3        1  {'BusinessAcceptsCreditCards': 'True', 'DogsAl...   \n",
       "4        1  {'BusinessAcceptsCreditCards': 'True', 'DogsAl...   \n",
       "\n",
       "                                          categories  \\\n",
       "0  Restaurants, Italian, Nightlife, Southern, Bar...   \n",
       "1  Restaurants, Italian, Nightlife, Southern, Bar...   \n",
       "2  Restaurants, Italian, Nightlife, Southern, Bar...   \n",
       "3  Restaurants, Italian, Nightlife, Southern, Bar...   \n",
       "4  Restaurants, Italian, Nightlife, Southern, Bar...   \n",
       "\n",
       "                                               hours  \\\n",
       "0  {'Monday': '16:0-22:0', 'Tuesday': '16:0-22:0'...   \n",
       "1  {'Monday': '16:0-22:0', 'Tuesday': '16:0-22:0'...   \n",
       "2  {'Monday': '16:0-22:0', 'Tuesday': '16:0-22:0'...   \n",
       "3  {'Monday': '16:0-22:0', 'Tuesday': '16:0-22:0'...   \n",
       "4  {'Monday': '16:0-22:0', 'Tuesday': '16:0-22:0'...   \n",
       "\n",
       "                                            affinity  \\\n",
       "0  [0.0, 0.0, 0.0, 0.0, 0.8171585500305412, 0.0, ...   \n",
       "1  [0.0, 0.0, 0.0, 0.0, 0.8171585500305412, 0.0, ...   \n",
       "2  [0.0, 0.0, 0.0, 0.0, 0.8171585500305412, 0.0, ...   \n",
       "3  [0.0, 0.0, 0.0, 0.0, 0.8171585500305412, 0.0, ...   \n",
       "4  [0.0, 0.0, 0.0, 0.0, 0.8171585500305412, 0.0, ...   \n",
       "\n",
       "                                       complementary  \n",
       "0  [0.0, 0.0, 0.0, 0.0, 0.08329090475385215, 0.0,...  \n",
       "1  [0.0, 0.0, 0.0, 0.0, 0.08329090475385215, 0.0,...  \n",
       "2  [0.0, 0.0, 0.0, 0.0, 0.08329090475385215, 0.0,...  \n",
       "3  [0.0, 0.0, 0.0, 0.0, 0.08329090475385215, 0.0,...  \n",
       "4  [0.0, 0.0, 0.0, 0.0, 0.08329090475385215, 0.0,...  \n",
       "\n",
       "[5 rows x 21 columns]"
      ]
     },
     "execution_count": 40,
     "metadata": {},
     "output_type": "execute_result"
    }
   ],
   "source": [
    "df.head()"
   ]
  },
  {
   "cell_type": "markdown",
   "id": "7b2777ae",
   "metadata": {},
   "source": [
    "# Review-based Market Competitiveness Feature (MCF)\n",
    "* review - LDA rank "
   ]
  },
  {
   "cell_type": "markdown",
   "id": "1e11e426",
   "metadata": {},
   "source": [
    "# Geographic Features (GeoF)\n",
    "* Density : the restaurant number in the same postal code\n",
    "* Neighbourhood Entropy : entropy measure of the frequency of restaurant categories\n",
    "    * A location with **higher entropy value** is expected to be **more diverse** in terms of restaurant categories,\n",
    "* Competitiveness : the proportion of nearby restaurants with the same type of restaurant \n",
    "* Jensen Quality : Jensen Quality of each venue category as a feature value, rather than simply aggregating Jensen Quality values over all venue categories as a single feature value. "
   ]
  },
  {
   "cell_type": "code",
   "execution_count": 41,
   "id": "498a9b14",
   "metadata": {},
   "outputs": [
    {
     "name": "stderr",
     "output_type": "stream",
     "text": [
      "/home/adam/.local/lib/python3.7/site-packages/ipykernel_launcher.py:5: SettingWithCopyWarning: \n",
      "A value is trying to be set on a copy of a slice from a DataFrame\n",
      "\n",
      "See the caveats in the documentation: https://pandas.pydata.org/pandas-docs/stable/user_guide/indexing.html#returning-a-view-versus-a-copy\n",
      "  \"\"\"\n"
     ]
    }
   ],
   "source": [
    "# calculate the density by Postal code\n",
    "df['density']=\"\"\n",
    "for i in range(len(df)):\n",
    "    tmp = df[df.city==df.city[i]]\n",
    "    df.density[i] = len(Counter(tmp.name))"
   ]
  },
  {
   "cell_type": "code",
   "execution_count": null,
   "id": "1ad66f98",
   "metadata": {},
   "outputs": [],
   "source": [
    "# Neighbourhood Entropy \n",
    "df['entropy']=\"\"\n",
    "\n",
    "for i in range(len(df)):\n",
    "    "
   ]
  }
 ],
 "metadata": {
  "kernelspec": {
   "display_name": "steph-env",
   "language": "python",
   "name": "steph-env"
  },
  "language_info": {
   "codemirror_mode": {
    "name": "ipython",
    "version": 3
   },
   "file_extension": ".py",
   "mimetype": "text/x-python",
   "name": "python",
   "nbconvert_exporter": "python",
   "pygments_lexer": "ipython3",
   "version": "3.7.5"
  },
  "toc": {
   "base_numbering": 1,
   "nav_menu": {},
   "number_sections": true,
   "sideBar": true,
   "skip_h1_title": false,
   "title_cell": "Table of Contents",
   "title_sidebar": "Contents",
   "toc_cell": false,
   "toc_position": {
    "height": "calc(100% - 180px)",
    "left": "10px",
    "top": "150px",
    "width": "165px"
   },
   "toc_section_display": true,
   "toc_window_display": true
  },
  "varInspector": {
   "cols": {
    "lenName": 16,
    "lenType": 16,
    "lenVar": 40
   },
   "kernels_config": {
    "python": {
     "delete_cmd_postfix": "",
     "delete_cmd_prefix": "del ",
     "library": "var_list.py",
     "varRefreshCmd": "print(var_dic_list())"
    },
    "r": {
     "delete_cmd_postfix": ") ",
     "delete_cmd_prefix": "rm(",
     "library": "var_list.r",
     "varRefreshCmd": "cat(var_dic_list()) "
    }
   },
   "types_to_exclude": [
    "module",
    "function",
    "builtin_function_or_method",
    "instance",
    "_Feature"
   ],
   "window_display": false
  }
 },
 "nbformat": 4,
 "nbformat_minor": 5
}
