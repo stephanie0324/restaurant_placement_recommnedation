{
 "cells": [
  {
   "cell_type": "code",
   "execution_count": 1,
   "metadata": {},
   "outputs": [
    {
     "name": "stdout",
     "output_type": "stream",
     "text": [
      "Starting memory usage: 78.15 MB\n",
      "Ending memory usage: 78.18 MB\n",
      "Memory freed: -0.03 MB\n"
     ]
    }
   ],
   "source": [
    "import psutil\n",
    "import gc\n",
    "\n",
    "# get the current process ID\n",
    "process = psutil.Process()\n",
    "\n",
    "# get the current memory usage\n",
    "mem_info = process.memory_info()\n",
    "start_mem = mem_info.rss / 1024.0 / 1024.0\n",
    "print(f\"Starting memory usage: {start_mem:.2f} MB\")\n",
    "\n",
    "# trigger garbage collection\n",
    "gc.collect()\n",
    "\n",
    "# get the current memory usage after garbage collection\n",
    "mem_info = process.memory_info()\n",
    "end_mem = mem_info.rss / 1024.0 / 1024.0\n",
    "print(f\"Ending memory usage: {end_mem:.2f} MB\")\n",
    "\n",
    "# calculate the memory freed up\n",
    "mem_freed = start_mem - end_mem\n",
    "print(f\"Memory freed: {mem_freed:.2f} MB\")\n"
   ]
  },
  {
   "cell_type": "code",
   "execution_count": null,
   "metadata": {},
   "outputs": [],
   "source": []
  }
 ],
 "metadata": {
  "kernelspec": {
   "display_name": "steph_env",
   "language": "python",
   "name": "steph_env"
  },
  "language_info": {
   "codemirror_mode": {
    "name": "ipython",
    "version": 3
   },
   "file_extension": ".py",
   "mimetype": "text/x-python",
   "name": "python",
   "nbconvert_exporter": "python",
   "pygments_lexer": "ipython3",
   "version": "3.6.3"
  },
  "orig_nbformat": 4
 },
 "nbformat": 4,
 "nbformat_minor": 2
}
