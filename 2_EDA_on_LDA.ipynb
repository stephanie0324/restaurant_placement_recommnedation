{
 "cells": [
  {
   "cell_type": "markdown",
   "metadata": {},
   "source": [
    "# 觀察資料分布\n",
    "* YELP\n",
    "    * 50 review above \n",
    "    * join business, check-in and tips"
   ]
  },
  {
   "cell_type": "markdown",
   "metadata": {},
   "source": [
    "# Import"
   ]
  },
  {
   "cell_type": "code",
   "execution_count": 2,
   "metadata": {
    "ExecuteTime": {
     "end_time": "2023-05-01T05:08:38.300803Z",
     "start_time": "2023-05-01T05:08:37.822784Z"
    }
   },
   "outputs": [
    {
     "name": "stderr",
     "output_type": "stream",
     "text": [
      "Matplotlib created a temporary config/cache directory at /tmp/matplotlib-5u40zvv_ because the default path (/home/emma/.config/matplotlib) is not a writable directory; it is highly recommended to set the MPLCONFIGDIR environment variable to a writable directory, in particular to speed up the import of Matplotlib and to better support multiprocessing.\n"
     ]
    }
   ],
   "source": [
    "import pandas as pd\n",
    "import json\n",
    "import numpy as np\n",
    "from collections import Counter\n",
    "import numpy as np\n",
    "import matplotlib.pyplot as plt\n"
   ]
  },
  {
   "cell_type": "code",
   "execution_count": 3,
   "metadata": {
    "ExecuteTime": {
     "end_time": "2023-05-01T05:09:04.292665Z",
     "start_time": "2023-05-01T05:09:03.161952Z"
    }
   },
   "outputs": [],
   "source": [
    "# 導入資料\n",
    "all_df = pd.read_pickle('../Data/restaurant_only.pkl')\n",
    "res_df = pd.read_pickle ('../data/ORI_by_postal_code_s_dropped.pkl')\n",
    "all_filtered_df = pd.read_pickle('../Data/restaurant_only_filtered.pkl')\n"
   ]
  },
  {
   "cell_type": "code",
   "execution_count": 4,
   "metadata": {
    "ExecuteTime": {
     "end_time": "2023-05-01T05:09:04.310310Z",
     "start_time": "2023-05-01T05:09:04.307733Z"
    }
   },
   "outputs": [
    {
     "data": {
      "text/plain": [
       "((387723, 20), (1848, 5), (387723, 20))"
      ]
     },
     "execution_count": 4,
     "metadata": {},
     "output_type": "execute_result"
    }
   ],
   "source": [
    "all_df.shape , res_df.shape , all_filtered_df.shape"
   ]
  },
  {
   "cell_type": "code",
   "execution_count": 4,
   "metadata": {
    "ExecuteTime": {
     "end_time": "2023-05-01T05:24:35.433663Z",
     "start_time": "2023-05-01T05:24:35.407920Z"
    }
   },
   "outputs": [
    {
     "data": {
      "text/html": [
       "<div>\n",
       "<style scoped>\n",
       "    .dataframe tbody tr th:only-of-type {\n",
       "        vertical-align: middle;\n",
       "    }\n",
       "\n",
       "    .dataframe tbody tr th {\n",
       "        vertical-align: top;\n",
       "    }\n",
       "\n",
       "    .dataframe thead th {\n",
       "        text-align: right;\n",
       "    }\n",
       "</style>\n",
       "<table border=\"1\" class=\"dataframe\">\n",
       "  <thead>\n",
       "    <tr style=\"text-align: right;\">\n",
       "      <th></th>\n",
       "      <th>business_id</th>\n",
       "      <th>stars_x</th>\n",
       "      <th>useful</th>\n",
       "      <th>funny</th>\n",
       "      <th>cool</th>\n",
       "      <th>text</th>\n",
       "      <th>date</th>\n",
       "      <th>name</th>\n",
       "      <th>address</th>\n",
       "      <th>city</th>\n",
       "      <th>state</th>\n",
       "      <th>postal_code</th>\n",
       "      <th>latitude</th>\n",
       "      <th>longitude</th>\n",
       "      <th>stars_y</th>\n",
       "      <th>review_count</th>\n",
       "      <th>is_open</th>\n",
       "      <th>attributes</th>\n",
       "      <th>categories</th>\n",
       "      <th>hours</th>\n",
       "    </tr>\n",
       "  </thead>\n",
       "  <tbody>\n",
       "    <tr>\n",
       "      <th>120</th>\n",
       "      <td>XQfwVwDr-v0ZS3_CbbE5Xw</td>\n",
       "      <td>3.0</td>\n",
       "      <td>0</td>\n",
       "      <td>0</td>\n",
       "      <td>0</td>\n",
       "      <td>Underwhelming.   Food is ok.  Service is stand...</td>\n",
       "      <td>2021-05-17 12:47:05</td>\n",
       "      <td>Turning Point of North Wales</td>\n",
       "      <td>1460 Bethlehem Pike</td>\n",
       "      <td>North Wales</td>\n",
       "      <td>PA</td>\n",
       "      <td>19454</td>\n",
       "      <td>40.210196</td>\n",
       "      <td>-75.223639</td>\n",
       "      <td>3.0</td>\n",
       "      <td>169</td>\n",
       "      <td>1</td>\n",
       "      <td>{'NoiseLevel': \"u'average'\", 'HasTV': 'False',...</td>\n",
       "      <td>Restaurants, Breakfast &amp; Brunch, Food, Juice B...</td>\n",
       "      <td>{'Monday': '7:30-15:0', 'Tuesday': '7:30-15:0'...</td>\n",
       "    </tr>\n",
       "    <tr>\n",
       "      <th>122</th>\n",
       "      <td>XQfwVwDr-v0ZS3_CbbE5Xw</td>\n",
       "      <td>3.0</td>\n",
       "      <td>0</td>\n",
       "      <td>0</td>\n",
       "      <td>0</td>\n",
       "      <td>Enjoyed a solid brunch here Saturday.  Has bot...</td>\n",
       "      <td>2021-10-11 02:05:12</td>\n",
       "      <td>Turning Point of North Wales</td>\n",
       "      <td>1460 Bethlehem Pike</td>\n",
       "      <td>North Wales</td>\n",
       "      <td>PA</td>\n",
       "      <td>19454</td>\n",
       "      <td>40.210196</td>\n",
       "      <td>-75.223639</td>\n",
       "      <td>3.0</td>\n",
       "      <td>169</td>\n",
       "      <td>1</td>\n",
       "      <td>{'NoiseLevel': \"u'average'\", 'HasTV': 'False',...</td>\n",
       "      <td>Restaurants, Breakfast &amp; Brunch, Food, Juice B...</td>\n",
       "      <td>{'Monday': '7:30-15:0', 'Tuesday': '7:30-15:0'...</td>\n",
       "    </tr>\n",
       "    <tr>\n",
       "      <th>124</th>\n",
       "      <td>XQfwVwDr-v0ZS3_CbbE5Xw</td>\n",
       "      <td>5.0</td>\n",
       "      <td>0</td>\n",
       "      <td>0</td>\n",
       "      <td>0</td>\n",
       "      <td>A big shout out to the servers and management ...</td>\n",
       "      <td>2021-09-22 13:06:13</td>\n",
       "      <td>Turning Point of North Wales</td>\n",
       "      <td>1460 Bethlehem Pike</td>\n",
       "      <td>North Wales</td>\n",
       "      <td>PA</td>\n",
       "      <td>19454</td>\n",
       "      <td>40.210196</td>\n",
       "      <td>-75.223639</td>\n",
       "      <td>3.0</td>\n",
       "      <td>169</td>\n",
       "      <td>1</td>\n",
       "      <td>{'NoiseLevel': \"u'average'\", 'HasTV': 'False',...</td>\n",
       "      <td>Restaurants, Breakfast &amp; Brunch, Food, Juice B...</td>\n",
       "      <td>{'Monday': '7:30-15:0', 'Tuesday': '7:30-15:0'...</td>\n",
       "    </tr>\n",
       "    <tr>\n",
       "      <th>141</th>\n",
       "      <td>XQfwVwDr-v0ZS3_CbbE5Xw</td>\n",
       "      <td>5.0</td>\n",
       "      <td>0</td>\n",
       "      <td>0</td>\n",
       "      <td>0</td>\n",
       "      <td>Best brunch menu around. Something for everyon...</td>\n",
       "      <td>2021-04-18 23:34:04</td>\n",
       "      <td>Turning Point of North Wales</td>\n",
       "      <td>1460 Bethlehem Pike</td>\n",
       "      <td>North Wales</td>\n",
       "      <td>PA</td>\n",
       "      <td>19454</td>\n",
       "      <td>40.210196</td>\n",
       "      <td>-75.223639</td>\n",
       "      <td>3.0</td>\n",
       "      <td>169</td>\n",
       "      <td>1</td>\n",
       "      <td>{'NoiseLevel': \"u'average'\", 'HasTV': 'False',...</td>\n",
       "      <td>Restaurants, Breakfast &amp; Brunch, Food, Juice B...</td>\n",
       "      <td>{'Monday': '7:30-15:0', 'Tuesday': '7:30-15:0'...</td>\n",
       "    </tr>\n",
       "    <tr>\n",
       "      <th>153</th>\n",
       "      <td>XQfwVwDr-v0ZS3_CbbE5Xw</td>\n",
       "      <td>1.0</td>\n",
       "      <td>0</td>\n",
       "      <td>0</td>\n",
       "      <td>0</td>\n",
       "      <td>Terrible host service, 45 minute wait, seated ...</td>\n",
       "      <td>2021-09-11 15:08:33</td>\n",
       "      <td>Turning Point of North Wales</td>\n",
       "      <td>1460 Bethlehem Pike</td>\n",
       "      <td>North Wales</td>\n",
       "      <td>PA</td>\n",
       "      <td>19454</td>\n",
       "      <td>40.210196</td>\n",
       "      <td>-75.223639</td>\n",
       "      <td>3.0</td>\n",
       "      <td>169</td>\n",
       "      <td>1</td>\n",
       "      <td>{'NoiseLevel': \"u'average'\", 'HasTV': 'False',...</td>\n",
       "      <td>Restaurants, Breakfast &amp; Brunch, Food, Juice B...</td>\n",
       "      <td>{'Monday': '7:30-15:0', 'Tuesday': '7:30-15:0'...</td>\n",
       "    </tr>\n",
       "  </tbody>\n",
       "</table>\n",
       "</div>"
      ],
      "text/plain": [
       "                business_id  stars_x  useful  funny  cool  \\\n",
       "120  XQfwVwDr-v0ZS3_CbbE5Xw      3.0       0      0     0   \n",
       "122  XQfwVwDr-v0ZS3_CbbE5Xw      3.0       0      0     0   \n",
       "124  XQfwVwDr-v0ZS3_CbbE5Xw      5.0       0      0     0   \n",
       "141  XQfwVwDr-v0ZS3_CbbE5Xw      5.0       0      0     0   \n",
       "153  XQfwVwDr-v0ZS3_CbbE5Xw      1.0       0      0     0   \n",
       "\n",
       "                                                  text                 date  \\\n",
       "120  Underwhelming.   Food is ok.  Service is stand...  2021-05-17 12:47:05   \n",
       "122  Enjoyed a solid brunch here Saturday.  Has bot...  2021-10-11 02:05:12   \n",
       "124  A big shout out to the servers and management ...  2021-09-22 13:06:13   \n",
       "141  Best brunch menu around. Something for everyon...  2021-04-18 23:34:04   \n",
       "153  Terrible host service, 45 minute wait, seated ...  2021-09-11 15:08:33   \n",
       "\n",
       "                             name              address         city state  \\\n",
       "120  Turning Point of North Wales  1460 Bethlehem Pike  North Wales    PA   \n",
       "122  Turning Point of North Wales  1460 Bethlehem Pike  North Wales    PA   \n",
       "124  Turning Point of North Wales  1460 Bethlehem Pike  North Wales    PA   \n",
       "141  Turning Point of North Wales  1460 Bethlehem Pike  North Wales    PA   \n",
       "153  Turning Point of North Wales  1460 Bethlehem Pike  North Wales    PA   \n",
       "\n",
       "    postal_code   latitude  longitude  stars_y  review_count  is_open  \\\n",
       "120       19454  40.210196 -75.223639      3.0           169        1   \n",
       "122       19454  40.210196 -75.223639      3.0           169        1   \n",
       "124       19454  40.210196 -75.223639      3.0           169        1   \n",
       "141       19454  40.210196 -75.223639      3.0           169        1   \n",
       "153       19454  40.210196 -75.223639      3.0           169        1   \n",
       "\n",
       "                                            attributes  \\\n",
       "120  {'NoiseLevel': \"u'average'\", 'HasTV': 'False',...   \n",
       "122  {'NoiseLevel': \"u'average'\", 'HasTV': 'False',...   \n",
       "124  {'NoiseLevel': \"u'average'\", 'HasTV': 'False',...   \n",
       "141  {'NoiseLevel': \"u'average'\", 'HasTV': 'False',...   \n",
       "153  {'NoiseLevel': \"u'average'\", 'HasTV': 'False',...   \n",
       "\n",
       "                                            categories  \\\n",
       "120  Restaurants, Breakfast & Brunch, Food, Juice B...   \n",
       "122  Restaurants, Breakfast & Brunch, Food, Juice B...   \n",
       "124  Restaurants, Breakfast & Brunch, Food, Juice B...   \n",
       "141  Restaurants, Breakfast & Brunch, Food, Juice B...   \n",
       "153  Restaurants, Breakfast & Brunch, Food, Juice B...   \n",
       "\n",
       "                                                 hours  \n",
       "120  {'Monday': '7:30-15:0', 'Tuesday': '7:30-15:0'...  \n",
       "122  {'Monday': '7:30-15:0', 'Tuesday': '7:30-15:0'...  \n",
       "124  {'Monday': '7:30-15:0', 'Tuesday': '7:30-15:0'...  \n",
       "141  {'Monday': '7:30-15:0', 'Tuesday': '7:30-15:0'...  \n",
       "153  {'Monday': '7:30-15:0', 'Tuesday': '7:30-15:0'...  "
      ]
     },
     "execution_count": 4,
     "metadata": {},
     "output_type": "execute_result"
    }
   ],
   "source": [
    "all_df.head()"
   ]
  },
  {
   "cell_type": "code",
   "execution_count": 7,
   "metadata": {},
   "outputs": [
    {
     "data": {
      "text/html": [
       "<div>\n",
       "<style scoped>\n",
       "    .dataframe tbody tr th:only-of-type {\n",
       "        vertical-align: middle;\n",
       "    }\n",
       "\n",
       "    .dataframe tbody tr th {\n",
       "        vertical-align: top;\n",
       "    }\n",
       "\n",
       "    .dataframe thead th {\n",
       "        text-align: right;\n",
       "    }\n",
       "</style>\n",
       "<table border=\"1\" class=\"dataframe\">\n",
       "  <thead>\n",
       "    <tr style=\"text-align: right;\">\n",
       "      <th></th>\n",
       "      <th>business_id</th>\n",
       "      <th>name</th>\n",
       "      <th>postal_code</th>\n",
       "      <th>review_count</th>\n",
       "      <th>categories</th>\n",
       "    </tr>\n",
       "  </thead>\n",
       "  <tbody>\n",
       "    <tr>\n",
       "      <th>0</th>\n",
       "      <td>hy5GpGXAna-5qrb3zNub6g</td>\n",
       "      <td>On The Border Mexican Grill &amp; Cantina</td>\n",
       "      <td>08054</td>\n",
       "      <td>168</td>\n",
       "      <td>Mexican, Restaurants, Food, Tex-Mex</td>\n",
       "    </tr>\n",
       "    <tr>\n",
       "      <th>105</th>\n",
       "      <td>aqqZT3wqqhIkuvVxNrnbLg</td>\n",
       "      <td>On The Border Mexican Grill &amp; Cantina</td>\n",
       "      <td>46142</td>\n",
       "      <td>108</td>\n",
       "      <td>Restaurants, Tex-Mex, Mexican</td>\n",
       "    </tr>\n",
       "    <tr>\n",
       "      <th>178</th>\n",
       "      <td>wtnxz8f51VY81Ng8rr_8Dg</td>\n",
       "      <td>On The Border Mexican Grill &amp; Cantina</td>\n",
       "      <td>46123</td>\n",
       "      <td>102</td>\n",
       "      <td>Restaurants, Tex-Mex, Mexican</td>\n",
       "    </tr>\n",
       "    <tr>\n",
       "      <th>242</th>\n",
       "      <td>hHMSW3eOtPLwk7XhKurvuw</td>\n",
       "      <td>On The Border Mexican Grill &amp; Cantina</td>\n",
       "      <td>19020</td>\n",
       "      <td>180</td>\n",
       "      <td>Tex-Mex, Restaurants, Mexican</td>\n",
       "    </tr>\n",
       "    <tr>\n",
       "      <th>333</th>\n",
       "      <td>AIlLlbE3rMSwZ0H3o27Skg</td>\n",
       "      <td>On The Border Mexican Grill &amp; Cantina</td>\n",
       "      <td>46250</td>\n",
       "      <td>113</td>\n",
       "      <td>Food, Food Delivery Services, Mexican, Tex-Mex...</td>\n",
       "    </tr>\n",
       "  </tbody>\n",
       "</table>\n",
       "</div>"
      ],
      "text/plain": [
       "                business_id                                   name  \\\n",
       "0    hy5GpGXAna-5qrb3zNub6g  On The Border Mexican Grill & Cantina   \n",
       "105  aqqZT3wqqhIkuvVxNrnbLg  On The Border Mexican Grill & Cantina   \n",
       "178  wtnxz8f51VY81Ng8rr_8Dg  On The Border Mexican Grill & Cantina   \n",
       "242  hHMSW3eOtPLwk7XhKurvuw  On The Border Mexican Grill & Cantina   \n",
       "333  AIlLlbE3rMSwZ0H3o27Skg  On The Border Mexican Grill & Cantina   \n",
       "\n",
       "    postal_code  review_count  \\\n",
       "0         08054           168   \n",
       "105       46142           108   \n",
       "178       46123           102   \n",
       "242       19020           180   \n",
       "333       46250           113   \n",
       "\n",
       "                                            categories  \n",
       "0                  Mexican, Restaurants, Food, Tex-Mex  \n",
       "105                      Restaurants, Tex-Mex, Mexican  \n",
       "178                      Restaurants, Tex-Mex, Mexican  \n",
       "242                      Tex-Mex, Restaurants, Mexican  \n",
       "333  Food, Food Delivery Services, Mexican, Tex-Mex...  "
      ]
     },
     "execution_count": 7,
     "metadata": {},
     "output_type": "execute_result"
    }
   ],
   "source": [
    "res_df.head()"
   ]
  },
  {
   "cell_type": "code",
   "execution_count": 5,
   "metadata": {},
   "outputs": [],
   "source": [
    "res_review_dict = {}\n",
    "for id in Counter(res_df.business_id):\n",
    "    res_review_dict[id] = {}\n",
    "    \n",
    "    res = all_filtered_df[all_filtered_df.business_id == id]\n",
    "    try:\n",
    "        res_review_dict[id]['review_cnt'] = len(res)\n",
    "        res_review_dict[id]['review_len'] = len(''.join(res.text.tolist()).split())\n",
    "    except:\n",
    "        res_review_dict[id]['review_cnt'] = 0\n",
    "        res_review_dict[id]['review_len'] = 0\n",
    "    "
   ]
  },
  {
   "cell_type": "code",
   "execution_count": 6,
   "metadata": {},
   "outputs": [],
   "source": [
    "res_review_df =  pd.DataFrame(res_review_dict).T"
   ]
  },
  {
   "cell_type": "code",
   "execution_count": 7,
   "metadata": {},
   "outputs": [
    {
     "data": {
      "text/html": [
       "<div>\n",
       "<style scoped>\n",
       "    .dataframe tbody tr th:only-of-type {\n",
       "        vertical-align: middle;\n",
       "    }\n",
       "\n",
       "    .dataframe tbody tr th {\n",
       "        vertical-align: top;\n",
       "    }\n",
       "\n",
       "    .dataframe thead th {\n",
       "        text-align: right;\n",
       "    }\n",
       "</style>\n",
       "<table border=\"1\" class=\"dataframe\">\n",
       "  <thead>\n",
       "    <tr style=\"text-align: right;\">\n",
       "      <th></th>\n",
       "      <th>review_cnt</th>\n",
       "      <th>review_len</th>\n",
       "    </tr>\n",
       "  </thead>\n",
       "  <tbody>\n",
       "    <tr>\n",
       "      <th>count</th>\n",
       "      <td>1848.000000</td>\n",
       "      <td>1848.000000</td>\n",
       "    </tr>\n",
       "    <tr>\n",
       "      <th>mean</th>\n",
       "      <td>17.225108</td>\n",
       "      <td>1489.259199</td>\n",
       "    </tr>\n",
       "    <tr>\n",
       "      <th>std</th>\n",
       "      <td>21.297724</td>\n",
       "      <td>1848.051784</td>\n",
       "    </tr>\n",
       "    <tr>\n",
       "      <th>min</th>\n",
       "      <td>0.000000</td>\n",
       "      <td>0.000000</td>\n",
       "    </tr>\n",
       "    <tr>\n",
       "      <th>25%</th>\n",
       "      <td>5.000000</td>\n",
       "      <td>402.000000</td>\n",
       "    </tr>\n",
       "    <tr>\n",
       "      <th>50%</th>\n",
       "      <td>10.000000</td>\n",
       "      <td>831.500000</td>\n",
       "    </tr>\n",
       "    <tr>\n",
       "      <th>75%</th>\n",
       "      <td>21.000000</td>\n",
       "      <td>1860.000000</td>\n",
       "    </tr>\n",
       "    <tr>\n",
       "      <th>max</th>\n",
       "      <td>285.000000</td>\n",
       "      <td>21460.000000</td>\n",
       "    </tr>\n",
       "  </tbody>\n",
       "</table>\n",
       "</div>"
      ],
      "text/plain": [
       "        review_cnt    review_len\n",
       "count  1848.000000   1848.000000\n",
       "mean     17.225108   1489.259199\n",
       "std      21.297724   1848.051784\n",
       "min       0.000000      0.000000\n",
       "25%       5.000000    402.000000\n",
       "50%      10.000000    831.500000\n",
       "75%      21.000000   1860.000000\n",
       "max     285.000000  21460.000000"
      ]
     },
     "execution_count": 7,
     "metadata": {},
     "output_type": "execute_result"
    }
   ],
   "source": [
    "res_review_df.describe()"
   ]
  },
  {
   "cell_type": "code",
   "execution_count": 54,
   "metadata": {},
   "outputs": [
    {
     "data": {
      "text/plain": [
       "[<matplotlib.lines.Line2D at 0x7f5c1b45ee80>]"
      ]
     },
     "execution_count": 54,
     "metadata": {},
     "output_type": "execute_result"
    },
    {
     "data": {
      "image/png": "[encoded data removed]",
      "text/plain": [
       "<Figure size 432x288 with 1 Axes>"
      ]
     },
     "metadata": {
      "needs_background": "light"
     },
     "output_type": "display_data"
    }
   ],
   "source": [
    "plt.plot(sorted(res_review_df.review_len))"
   ]
  },
  {
   "cell_type": "code",
   "execution_count": 4,
   "metadata": {},
   "outputs": [],
   "source": [
    "all_filtered_df['review_len'] = all_filtered_df.text.apply(lambda x : len(x.split()))"
   ]
  },
  {
   "cell_type": "code",
   "execution_count": 5,
   "metadata": {},
   "outputs": [
    {
     "data": {
      "text/plain": [
       "[<matplotlib.lines.Line2D at 0x7ff5bad52cc0>]"
      ]
     },
     "execution_count": 5,
     "metadata": {},
     "output_type": "execute_result"
    },
    {
     "data": {
      "image/png": "[encoded data removed]",
      "text/plain": [
       "<Figure size 432x288 with 1 Axes>"
      ]
     },
     "metadata": {
      "needs_background": "light"
     },
     "output_type": "display_data"
    }
   ],
   "source": [
    "plt.plot(sorted(all_filtered_df.review_len))"
   ]
  },
  {
   "cell_type": "code",
   "execution_count": 6,
   "metadata": {},
   "outputs": [
    {
     "data": {
      "text/plain": [
       "count    387723.000000\n",
       "mean         88.216245\n",
       "std          82.152006\n",
       "min           1.000000\n",
       "25%          35.000000\n",
       "50%          63.000000\n",
       "75%         112.000000\n",
       "max         988.000000\n",
       "Name: review_len, dtype: float64"
      ]
     },
     "execution_count": 6,
     "metadata": {},
     "output_type": "execute_result"
    }
   ],
   "source": [
    "all_filtered_df.review_len.describe()"
   ]
  },
  {
   "cell_type": "code",
   "execution_count": null,
   "metadata": {},
   "outputs": [],
   "source": []
  }
 ],
 "metadata": {
  "kernelspec": {
   "display_name": "steph_env",
   "language": "python",
   "name": "steph_env"
  },
  "language_info": {
   "codemirror_mode": {
    "name": "ipython",
    "version": 3
   },
   "file_extension": ".py",
   "mimetype": "text/x-python",
   "name": "python",
   "nbconvert_exporter": "python",
   "pygments_lexer": "ipython3",
   "version": "3.6.3"
  },
  "toc": {
   "base_numbering": 1,
   "nav_menu": {},
   "number_sections": true,
   "sideBar": true,
   "skip_h1_title": false,
   "title_cell": "Table of Contents",
   "title_sidebar": "Contents",
   "toc_cell": false,
   "toc_position": {
    "height": "calc(100% - 180px)",
    "left": "10px",
    "top": "150px",
    "width": "288px"
   },
   "toc_section_display": true,
   "toc_window_display": false
  },
  "varInspector": {
   "cols": {
    "lenName": 16,
    "lenType": 16,
    "lenVar": 40
   },
   "kernels_config": {
    "python": {
     "delete_cmd_postfix": "",
     "delete_cmd_prefix": "del ",
     "library": "var_list.py",
     "varRefreshCmd": "print(var_dic_list())"
    },
    "r": {
     "delete_cmd_postfix": ") ",
     "delete_cmd_prefix": "rm(",
     "library": "var_list.r",
     "varRefreshCmd": "cat(var_dic_list()) "
    }
   },
   "types_to_exclude": [
    "module",
    "function",
    "builtin_function_or_method",
    "instance",
    "_Feature"
   ],
   "window_display": false
  },
  "vscode": {
   "interpreter": {
    "hash": "767d51c1340bd893661ea55ea3124f6de3c7a262a8b4abca0554b478b1e2ff90"
   }
  }
 },
 "nbformat": 4,
 "nbformat_minor": 2
}
