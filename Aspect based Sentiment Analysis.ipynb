{
 "cells": [
  {
   "cell_type": "markdown",
   "id": "966237c4",
   "metadata": {},
   "source": [
    "# Sentiment Analysis"
   ]
  },
  {
   "cell_type": "code",
   "execution_count": 13,
   "id": "7c9ac79b",
   "metadata": {
    "ExecuteTime": {
     "end_time": "2023-05-03T03:53:15.339033Z",
     "start_time": "2023-05-03T03:53:15.333659Z"
    }
   },
   "outputs": [],
   "source": [
    "import torch\n",
    "import pandas as pd\n",
    "device = torch.device(\"cuda:0\" if torch.cuda.is_available() else \"cpu\")"
   ]
  },
  {
   "cell_type": "code",
   "execution_count": 14,
   "id": "41363b5c",
   "metadata": {
    "ExecuteTime": {
     "end_time": "2023-05-03T03:53:15.785434Z",
     "start_time": "2023-05-03T03:53:15.779924Z"
    }
   },
   "outputs": [
    {
     "data": {
      "text/plain": [
       "True"
      ]
     },
     "execution_count": 14,
     "metadata": {},
     "output_type": "execute_result"
    }
   ],
   "source": [
    "torch.cuda.is_available()"
   ]
  },
  {
   "cell_type": "code",
   "execution_count": 15,
   "id": "25749712",
   "metadata": {
    "ExecuteTime": {
     "end_time": "2023-05-03T03:53:16.912320Z",
     "start_time": "2023-05-03T03:53:16.909850Z"
    }
   },
   "outputs": [
    {
     "data": {
      "text/plain": [
       "device(type='cuda', index=0)"
      ]
     },
     "execution_count": 15,
     "metadata": {},
     "output_type": "execute_result"
    }
   ],
   "source": [
    "device"
   ]
  },
  {
   "cell_type": "code",
   "execution_count": 16,
   "id": "280c882a",
   "metadata": {
    "ExecuteTime": {
     "end_time": "2023-05-03T03:53:18.059128Z",
     "start_time": "2023-05-03T03:53:18.030569Z"
    }
   },
   "outputs": [],
   "source": [
    "train_df = pd.read_pickle('/home/adam/Steph_C/my_thesis/data/Train_by_postoal_code_without_review_pointwise_v3_3.pkl')\n",
    "train_df = train_df.reset_index(drop=True)"
   ]
  },
  {
   "cell_type": "code",
   "execution_count": 17,
   "id": "bb664a1e",
   "metadata": {
    "ExecuteTime": {
     "end_time": "2023-05-03T03:53:18.534250Z",
     "start_time": "2023-05-03T03:53:18.524569Z"
    }
   },
   "outputs": [],
   "source": [
    "train_df = train_df.reset_index(drop=True)"
   ]
  },
  {
   "cell_type": "code",
   "execution_count": 18,
   "id": "fb6b751e",
   "metadata": {
    "ExecuteTime": {
     "end_time": "2023-05-03T03:53:19.803443Z",
     "start_time": "2023-05-03T03:53:19.031617Z"
    }
   },
   "outputs": [],
   "source": [
    "import spacy\n",
    "import pandas as pd\n",
    "nlp = spacy.load(\"en_core_web_md\")\n",
    "from collections import Counter"
   ]
  },
  {
   "cell_type": "markdown",
   "id": "ee2314b2",
   "metadata": {},
   "source": [
    "## SPACY and TextBlob\n",
    "* [SPACY and TextBlob](https://towardsdatascience.com/aspect-based-sentiment-analysis-using-spacy-textblob-4c8de3e0d2b9)"
   ]
  },
  {
   "cell_type": "code",
   "execution_count": 19,
   "id": "be1aa99f",
   "metadata": {
    "ExecuteTime": {
     "end_time": "2023-05-03T03:53:22.639097Z",
     "start_time": "2023-05-03T03:53:22.633858Z"
    }
   },
   "outputs": [],
   "source": [
    "# Counter(train_df.name)\n",
    "# Joe Boccardi's Ristorante"
   ]
  },
  {
   "cell_type": "code",
   "execution_count": 20,
   "id": "d0f5911a",
   "metadata": {
    "ExecuteTime": {
     "end_time": "2023-05-03T03:53:23.343325Z",
     "start_time": "2023-05-03T03:53:23.337200Z"
    }
   },
   "outputs": [],
   "source": [
    "sentences = ['Mushrooms n calamari was not bad']"
   ]
  },
  {
   "cell_type": "code",
   "execution_count": 21,
   "id": "3d68e2a3",
   "metadata": {
    "ExecuteTime": {
     "end_time": "2023-05-03T03:53:23.866598Z",
     "start_time": "2023-05-03T03:53:23.861913Z"
    }
   },
   "outputs": [],
   "source": [
    "tmp = train_df[train_df.name== 'Joe Boccardi\\'s Ristorante']"
   ]
  },
  {
   "cell_type": "code",
   "execution_count": 22,
   "id": "8b308a43",
   "metadata": {
    "ExecuteTime": {
     "end_time": "2023-05-03T03:53:24.287339Z",
     "start_time": "2023-05-03T03:53:24.282012Z"
    }
   },
   "outputs": [],
   "source": [
    "sentences = list(tmp.text)\n",
    "sentences = list(dict.fromkeys(sentences)) # deduplicate"
   ]
  },
  {
   "cell_type": "code",
   "execution_count": 23,
   "id": "ba37b8d4",
   "metadata": {
    "ExecuteTime": {
     "end_time": "2023-05-03T03:53:24.604014Z",
     "start_time": "2023-05-03T03:53:24.594729Z"
    }
   },
   "outputs": [
    {
     "data": {
      "text/plain": [
       "['This is the best italian restaurant andrea makes the best chicken ala mario. The house dressing is to die for.',\n",
       " \"Cajun pasta was YUM!!!! Mushrooms n calamari wasn't bad... waitress n staff were great...servings big def recommend!!\",\n",
       " 'Still our favorite anytime place, but they make Saturday date night even better with their seafood special linguini and regular chicken parm. Sooo good!!']"
      ]
     },
     "execution_count": 23,
     "metadata": {},
     "output_type": "execute_result"
    }
   ],
   "source": [
    "sentences"
   ]
  },
  {
   "cell_type": "code",
   "execution_count": 24,
   "id": "3d3fad7d",
   "metadata": {
    "ExecuteTime": {
     "end_time": "2023-05-03T03:53:24.924196Z",
     "start_time": "2023-05-03T03:53:24.875913Z"
    }
   },
   "outputs": [
    {
     "name": "stdout",
     "output_type": "stream",
     "text": [
      "This is the best italian restaurant andrea makes the best chicken ala mario\n",
      " The house dressing is to die for\n",
      "\n",
      "Cajun pasta was YUM!!!! Mushrooms n calamari wasn't bad\n",
      "\n",
      "\n",
      " waitress n staff were great\n",
      "\n",
      "\n",
      "servings big def recommend!!\n",
      "Still our favorite anytime place, but they make Saturday date night even better with their seafood special linguini and regular chicken parm\n",
      " Sooo good!!\n",
      "[{'aspect': '', 'description': 'best'}, {'aspect': 'house', 'description': ''}, {'aspect': '', 'description': ''}, {'aspect': 'Mushrooms', 'description': 'bad'}, {'aspect': '', 'description': ''}, {'aspect': '', 'description': ''}, {'aspect': 'staff', 'description': 'great'}, {'aspect': '', 'description': ''}, {'aspect': '', 'description': ''}, {'aspect': '', 'description': 'big'}, {'aspect': '', 'description': 'regular'}, {'aspect': '', 'description': 'good'}]\n"
     ]
    }
   ],
   "source": [
    "aspects = []\n",
    "\n",
    "for sentence in sentences:\n",
    "    for sent in sentence.split('.'):\n",
    "        doc = nlp(sent)\n",
    "        print(doc)\n",
    "        descriptive_term = ''\n",
    "        target = ''\n",
    "        for token in doc:\n",
    "            if token.dep_ == 'nsubj' and token.pos_ == 'NOUN':\n",
    "                target = token.text\n",
    "            if token.pos_ == 'ADJ':\n",
    "                prepend = ''\n",
    "                for child in token.children:\n",
    "                    if child.pos_ != 'ADV':\n",
    "                        continue\n",
    "                    prepend += child.text + ' '\n",
    "                descriptive_term = prepend + token.text\n",
    "        aspects.append({'aspect': target,'description': descriptive_term})\n",
    "\n",
    "print(aspects)\n"
   ]
  },
  {
   "cell_type": "code",
   "execution_count": 25,
   "id": "8e6271ee",
   "metadata": {
    "ExecuteTime": {
     "end_time": "2023-05-03T03:53:29.662298Z",
     "start_time": "2023-05-03T03:53:28.878527Z"
    }
   },
   "outputs": [
    {
     "name": "stdout",
     "output_type": "stream",
     "text": [
      "[{'aspect': '', 'description': 'best', 'sentiment': 1.0}, {'aspect': 'house', 'description': '', 'sentiment': 0.0}, {'aspect': '', 'description': '', 'sentiment': 0.0}, {'aspect': 'Mushrooms', 'description': 'bad', 'sentiment': -0.6999999999999998}, {'aspect': '', 'description': '', 'sentiment': 0.0}, {'aspect': '', 'description': '', 'sentiment': 0.0}, {'aspect': 'staff', 'description': 'great', 'sentiment': 0.8}, {'aspect': '', 'description': '', 'sentiment': 0.0}, {'aspect': '', 'description': '', 'sentiment': 0.0}, {'aspect': '', 'description': 'big', 'sentiment': 0.0}, {'aspect': '', 'description': 'regular', 'sentiment': 0.0}, {'aspect': '', 'description': 'good', 'sentiment': 0.7}]\n"
     ]
    }
   ],
   "source": [
    "from textblob import TextBlob\n",
    "for aspect in aspects:\n",
    "    aspect['sentiment'] = TextBlob(aspect['description']).sentiment.polarity\n",
    "print(aspects)\n"
   ]
  },
  {
   "cell_type": "markdown",
   "id": "d806b679",
   "metadata": {
    "heading_collapsed": true
   },
   "source": [
    "## aspect-based-sentiment-analysis 2.0.3\n",
    "* can only work on google colab\n",
    "* [python package](https://pypi.org/project/aspect-based-sentiment-analysis/)\n",
    "* [example from youtube](https://www.youtube.com/watch?v=q8sTicXK4Fg)"
   ]
  },
  {
   "cell_type": "markdown",
   "id": "5805a792",
   "metadata": {},
   "source": [
    "## VaderSentiment.vaderSentiment\n",
    "* [Kaggle notebook](https://www.kaggle.com/code/phiitm/aspect-based-sentiment-analysis)"
   ]
  },
  {
   "cell_type": "code",
   "execution_count": 26,
   "id": "ee829464",
   "metadata": {
    "ExecuteTime": {
     "end_time": "2023-05-03T03:53:32.772452Z",
     "start_time": "2023-05-03T03:53:32.751815Z"
    }
   },
   "outputs": [
    {
     "name": "stdout",
     "output_type": "stream",
     "text": [
      "VADER is smart, handsome, and funny.----------------------------- {'neg': 0.0, 'neu': 0.254, 'pos': 0.746, 'compound': 0.8316}\n",
      "VADER is smart, handsome, and funny!----------------------------- {'neg': 0.0, 'neu': 0.248, 'pos': 0.752, 'compound': 0.8439}\n",
      "VADER is very smart, handsome, and funny.------------------------ {'neg': 0.0, 'neu': 0.299, 'pos': 0.701, 'compound': 0.8545}\n",
      "VADER is VERY SMART, handsome, and FUNNY.------------------------ {'neg': 0.0, 'neu': 0.246, 'pos': 0.754, 'compound': 0.9227}\n",
      "VADER is VERY SMART, handsome, and FUNNY!!!---------------------- {'neg': 0.0, 'neu': 0.233, 'pos': 0.767, 'compound': 0.9342}\n",
      "VADER is VERY SMART, uber handsome, and FRIGGIN FUNNY!!!--------- {'neg': 0.0, 'neu': 0.294, 'pos': 0.706, 'compound': 0.9469}\n",
      "VADER is not smart, handsome, nor funny.------------------------- {'neg': 0.646, 'neu': 0.354, 'pos': 0.0, 'compound': -0.7424}\n",
      "The book was good.----------------------------------------------- {'neg': 0.0, 'neu': 0.508, 'pos': 0.492, 'compound': 0.4404}\n",
      "At least it isn't a horrible book.------------------------------- {'neg': 0.0, 'neu': 0.678, 'pos': 0.322, 'compound': 0.431}\n",
      "The book was only kind of good.---------------------------------- {'neg': 0.0, 'neu': 0.697, 'pos': 0.303, 'compound': 0.3832}\n",
      "The plot was good, but the characters are uncompelling and the dialog is not great. {'neg': 0.327, 'neu': 0.579, 'pos': 0.094, 'compound': -0.7042}\n",
      "Today SUX!------------------------------------------------------- {'neg': 0.779, 'neu': 0.221, 'pos': 0.0, 'compound': -0.5461}\n",
      "Today only kinda sux! But I'll get by, lol----------------------- {'neg': 0.127, 'neu': 0.556, 'pos': 0.317, 'compound': 0.5249}\n",
      "Make sure you :) or :D today!------------------------------------ {'neg': 0.0, 'neu': 0.294, 'pos': 0.706, 'compound': 0.8633}\n",
      "Catch utf-8 emoji such as such as 💘 and 💋 and 😁------------------ {'neg': 0.0, 'neu': 0.615, 'pos': 0.385, 'compound': 0.875}\n",
      "Not bad at all--------------------------------------------------- {'neg': 0.0, 'neu': 0.513, 'pos': 0.487, 'compound': 0.431}\n"
     ]
    }
   ],
   "source": [
    "from vaderSentiment.vaderSentiment import SentimentIntensityAnalyzer\n",
    "#note: depending on how you installed (e.g., using source code download versus pip install), you may need to import like this:\n",
    "#from vaderSentiment import SentimentIntensityAnalyzer\n",
    "\n",
    "# --- examples -------\n",
    "sentences = [\"VADER is smart, handsome, and funny.\",  # positive sentence example\n",
    "             \"VADER is smart, handsome, and funny!\",  # punctuation emphasis handled correctly (sentiment intensity adjusted)\n",
    "             \"VADER is very smart, handsome, and funny.\", # booster words handled correctly (sentiment intensity adjusted)\n",
    "             \"VADER is VERY SMART, handsome, and FUNNY.\",  # emphasis for ALLCAPS handled\n",
    "             \"VADER is VERY SMART, handsome, and FUNNY!!!\", # combination of signals - VADER appropriately adjusts intensity\n",
    "             \"VADER is VERY SMART, uber handsome, and FRIGGIN FUNNY!!!\", # booster words & punctuation make this close to ceiling for score\n",
    "             \"VADER is not smart, handsome, nor funny.\",  # negation sentence example\n",
    "             \"The book was good.\",  # positive sentence\n",
    "             \"At least it isn't a horrible book.\",  # negated negative sentence with contraction\n",
    "             \"The book was only kind of good.\", # qualified positive sentence is handled correctly (intensity adjusted)\n",
    "             \"The plot was good, but the characters are uncompelling and the dialog is not great.\", # mixed negation sentence\n",
    "             \"Today SUX!\",  # negative slang with capitalization emphasis\n",
    "             \"Today only kinda sux! But I'll get by, lol\", # mixed sentiment example with slang and constrastive conjunction \"but\"\n",
    "             \"Make sure you :) or :D today!\",  # emoticons handled\n",
    "             \"Catch utf-8 emoji such as such as 💘 and 💋 and 😁\",  # emojis handled\n",
    "             \"Not bad at all\"  # Capitalized negation\n",
    "             ]\n",
    "\n",
    "analyzer = SentimentIntensityAnalyzer()\n",
    "for sentence in sentences:\n",
    "    vs = analyzer.polarity_scores(sentence)\n",
    "    print(\"{:-<65} {}\".format(sentence, str(vs)))"
   ]
  },
  {
   "cell_type": "markdown",
   "id": "69a15c59",
   "metadata": {},
   "source": [
    "## HuggingFace"
   ]
  },
  {
   "cell_type": "code",
   "execution_count": 27,
   "id": "72bd93b6",
   "metadata": {
    "ExecuteTime": {
     "end_time": "2023-05-03T03:53:38.408470Z",
     "start_time": "2023-05-03T03:53:38.016126Z"
    }
   },
   "outputs": [
    {
     "ename": "RuntimeError",
     "evalue": "Failed to import transformers.models.deberta_v2.modeling_deberta_v2 because of the following error (look up to see its traceback):\ncannot import name 'dispatch_model' from 'accelerate' (/home/adam/.local/lib/python3.7/site-packages/accelerate/__init__.py)",
     "output_type": "error",
     "traceback": [
      "\u001b[0;31m---------------------------------------------------------------------------\u001b[0m",
      "\u001b[0;31mImportError\u001b[0m                               Traceback (most recent call last)",
      "\u001b[0;32m~/.local/lib/python3.7/site-packages/transformers/utils/import_utils.py\u001b[0m in \u001b[0;36m_get_module\u001b[0;34m(self, module_name)\u001b[0m\n\u001b[1;32m   1145\u001b[0m         \u001b[0;32mtry\u001b[0m\u001b[0;34m:\u001b[0m\u001b[0;34m\u001b[0m\u001b[0;34m\u001b[0m\u001b[0m\n\u001b[0;32m-> 1146\u001b[0;31m             \u001b[0;32mreturn\u001b[0m \u001b[0mimportlib\u001b[0m\u001b[0;34m.\u001b[0m\u001b[0mimport_module\u001b[0m\u001b[0;34m(\u001b[0m\u001b[0;34m\".\"\u001b[0m \u001b[0;34m+\u001b[0m \u001b[0mmodule_name\u001b[0m\u001b[0;34m,\u001b[0m \u001b[0mself\u001b[0m\u001b[0;34m.\u001b[0m\u001b[0m__name__\u001b[0m\u001b[0;34m)\u001b[0m\u001b[0;34m\u001b[0m\u001b[0;34m\u001b[0m\u001b[0m\n\u001b[0m\u001b[1;32m   1147\u001b[0m         \u001b[0;32mexcept\u001b[0m \u001b[0mException\u001b[0m \u001b[0;32mas\u001b[0m \u001b[0me\u001b[0m\u001b[0;34m:\u001b[0m\u001b[0;34m\u001b[0m\u001b[0;34m\u001b[0m\u001b[0m\n",
      "\u001b[0;32m/usr/lib/python3.7/importlib/__init__.py\u001b[0m in \u001b[0;36mimport_module\u001b[0;34m(name, package)\u001b[0m\n\u001b[1;32m    126\u001b[0m             \u001b[0mlevel\u001b[0m \u001b[0;34m+=\u001b[0m \u001b[0;36m1\u001b[0m\u001b[0;34m\u001b[0m\u001b[0;34m\u001b[0m\u001b[0m\n\u001b[0;32m--> 127\u001b[0;31m     \u001b[0;32mreturn\u001b[0m \u001b[0m_bootstrap\u001b[0m\u001b[0;34m.\u001b[0m\u001b[0m_gcd_import\u001b[0m\u001b[0;34m(\u001b[0m\u001b[0mname\u001b[0m\u001b[0;34m[\u001b[0m\u001b[0mlevel\u001b[0m\u001b[0;34m:\u001b[0m\u001b[0;34m]\u001b[0m\u001b[0;34m,\u001b[0m \u001b[0mpackage\u001b[0m\u001b[0;34m,\u001b[0m \u001b[0mlevel\u001b[0m\u001b[0;34m)\u001b[0m\u001b[0;34m\u001b[0m\u001b[0;34m\u001b[0m\u001b[0m\n\u001b[0m\u001b[1;32m    128\u001b[0m \u001b[0;34m\u001b[0m\u001b[0m\n",
      "\u001b[0;32m/usr/lib/python3.7/importlib/_bootstrap.py\u001b[0m in \u001b[0;36m_gcd_import\u001b[0;34m(name, package, level)\u001b[0m\n",
      "\u001b[0;32m/usr/lib/python3.7/importlib/_bootstrap.py\u001b[0m in \u001b[0;36m_find_and_load\u001b[0;34m(name, import_)\u001b[0m\n",
      "\u001b[0;32m/usr/lib/python3.7/importlib/_bootstrap.py\u001b[0m in \u001b[0;36m_find_and_load_unlocked\u001b[0;34m(name, import_)\u001b[0m\n",
      "\u001b[0;32m/usr/lib/python3.7/importlib/_bootstrap.py\u001b[0m in \u001b[0;36m_load_unlocked\u001b[0;34m(spec)\u001b[0m\n",
      "\u001b[0;32m/usr/lib/python3.7/importlib/_bootstrap_external.py\u001b[0m in \u001b[0;36mexec_module\u001b[0;34m(self, module)\u001b[0m\n",
      "\u001b[0;32m/usr/lib/python3.7/importlib/_bootstrap.py\u001b[0m in \u001b[0;36m_call_with_frames_removed\u001b[0;34m(f, *args, **kwds)\u001b[0m\n",
      "\u001b[0;32m~/.local/lib/python3.7/site-packages/transformers/models/deberta_v2/modeling_deberta_v2.py\u001b[0m in \u001b[0;36m<module>\u001b[0;34m\u001b[0m\n\u001b[1;32m     33\u001b[0m )\n\u001b[0;32m---> 34\u001b[0;31m \u001b[0;32mfrom\u001b[0m \u001b[0;34m...\u001b[0m\u001b[0mmodeling_utils\u001b[0m \u001b[0;32mimport\u001b[0m \u001b[0mPreTrainedModel\u001b[0m\u001b[0;34m\u001b[0m\u001b[0;34m\u001b[0m\u001b[0m\n\u001b[0m\u001b[1;32m     35\u001b[0m \u001b[0;32mfrom\u001b[0m \u001b[0;34m...\u001b[0m\u001b[0mpytorch_utils\u001b[0m \u001b[0;32mimport\u001b[0m \u001b[0msoftmax_backward_data\u001b[0m\u001b[0;34m\u001b[0m\u001b[0;34m\u001b[0m\u001b[0m\n",
      "\u001b[0;32m~/.local/lib/python3.7/site-packages/transformers/modeling_utils.py\u001b[0m in \u001b[0;36m<module>\u001b[0;34m\u001b[0m\n\u001b[1;32m     83\u001b[0m     \u001b[0;32mfrom\u001b[0m \u001b[0maccelerate\u001b[0m \u001b[0;32mimport\u001b[0m \u001b[0m__version__\u001b[0m \u001b[0;32mas\u001b[0m \u001b[0maccelerate_version\u001b[0m\u001b[0;34m\u001b[0m\u001b[0;34m\u001b[0m\u001b[0m\n\u001b[0;32m---> 84\u001b[0;31m     \u001b[0;32mfrom\u001b[0m \u001b[0maccelerate\u001b[0m \u001b[0;32mimport\u001b[0m \u001b[0mdispatch_model\u001b[0m\u001b[0;34m,\u001b[0m \u001b[0minfer_auto_device_map\u001b[0m\u001b[0;34m,\u001b[0m \u001b[0minit_empty_weights\u001b[0m\u001b[0;34m\u001b[0m\u001b[0;34m\u001b[0m\u001b[0m\n\u001b[0m\u001b[1;32m     85\u001b[0m     from accelerate.utils import (\n",
      "\u001b[0;31mImportError\u001b[0m: cannot import name 'dispatch_model' from 'accelerate' (/home/adam/.local/lib/python3.7/site-packages/accelerate/__init__.py)",
      "\nThe above exception was the direct cause of the following exception:\n",
      "\u001b[0;31mRuntimeError\u001b[0m                              Traceback (most recent call last)",
      "\u001b[0;32m/tmp/ipykernel_16989/2212333281.py\u001b[0m in \u001b[0;36m<module>\u001b[0;34m\u001b[0m\n\u001b[1;32m      1\u001b[0m \u001b[0;32mimport\u001b[0m \u001b[0mtorch\u001b[0m\u001b[0;34m\u001b[0m\u001b[0;34m\u001b[0m\u001b[0m\n\u001b[0;32m----> 2\u001b[0;31m \u001b[0;32mfrom\u001b[0m \u001b[0mtransformers\u001b[0m \u001b[0;32mimport\u001b[0m \u001b[0mAutoTokenizer\u001b[0m\u001b[0;34m,\u001b[0m \u001b[0mDebertaV2ForSequenceClassification\u001b[0m\u001b[0;34m\u001b[0m\u001b[0;34m\u001b[0m\u001b[0m\n\u001b[0m\u001b[1;32m      3\u001b[0m \u001b[0;34m\u001b[0m\u001b[0m\n\u001b[1;32m      4\u001b[0m \u001b[0mtokenizer\u001b[0m \u001b[0;34m=\u001b[0m \u001b[0mAutoTokenizer\u001b[0m\u001b[0;34m.\u001b[0m\u001b[0mfrom_pretrained\u001b[0m\u001b[0;34m(\u001b[0m\u001b[0;34m\"microsoft/deberta-v2-xlarge\"\u001b[0m\u001b[0;34m)\u001b[0m\u001b[0;34m\u001b[0m\u001b[0;34m\u001b[0m\u001b[0m\n\u001b[1;32m      5\u001b[0m \u001b[0mmodel\u001b[0m \u001b[0;34m=\u001b[0m \u001b[0mDebertaV2ForSequenceClassification\u001b[0m\u001b[0;34m.\u001b[0m\u001b[0mfrom_pretrained\u001b[0m\u001b[0;34m(\u001b[0m\u001b[0;34m\"microsoft/deberta-v2-xlarge\"\u001b[0m\u001b[0;34m,\u001b[0m \u001b[0mproblem_type\u001b[0m\u001b[0;34m=\u001b[0m\u001b[0;34m\"multi_label_classification\"\u001b[0m\u001b[0;34m)\u001b[0m\u001b[0;34m\u001b[0m\u001b[0;34m\u001b[0m\u001b[0m\n",
      "\u001b[0;32m/usr/lib/python3.7/importlib/_bootstrap.py\u001b[0m in \u001b[0;36m_handle_fromlist\u001b[0;34m(module, fromlist, import_, recursive)\u001b[0m\n",
      "\u001b[0;32m~/.local/lib/python3.7/site-packages/transformers/utils/import_utils.py\u001b[0m in \u001b[0;36m__getattr__\u001b[0;34m(self, name)\u001b[0m\n\u001b[1;32m   1135\u001b[0m         \u001b[0;32melif\u001b[0m \u001b[0mname\u001b[0m \u001b[0;32min\u001b[0m \u001b[0mself\u001b[0m\u001b[0;34m.\u001b[0m\u001b[0m_class_to_module\u001b[0m\u001b[0;34m.\u001b[0m\u001b[0mkeys\u001b[0m\u001b[0;34m(\u001b[0m\u001b[0;34m)\u001b[0m\u001b[0;34m:\u001b[0m\u001b[0;34m\u001b[0m\u001b[0;34m\u001b[0m\u001b[0m\n\u001b[1;32m   1136\u001b[0m             \u001b[0mmodule\u001b[0m \u001b[0;34m=\u001b[0m \u001b[0mself\u001b[0m\u001b[0;34m.\u001b[0m\u001b[0m_get_module\u001b[0m\u001b[0;34m(\u001b[0m\u001b[0mself\u001b[0m\u001b[0;34m.\u001b[0m\u001b[0m_class_to_module\u001b[0m\u001b[0;34m[\u001b[0m\u001b[0mname\u001b[0m\u001b[0;34m]\u001b[0m\u001b[0;34m)\u001b[0m\u001b[0;34m\u001b[0m\u001b[0;34m\u001b[0m\u001b[0m\n\u001b[0;32m-> 1137\u001b[0;31m             \u001b[0mvalue\u001b[0m \u001b[0;34m=\u001b[0m \u001b[0mgetattr\u001b[0m\u001b[0;34m(\u001b[0m\u001b[0mmodule\u001b[0m\u001b[0;34m,\u001b[0m \u001b[0mname\u001b[0m\u001b[0;34m)\u001b[0m\u001b[0;34m\u001b[0m\u001b[0;34m\u001b[0m\u001b[0m\n\u001b[0m\u001b[1;32m   1138\u001b[0m         \u001b[0;32melse\u001b[0m\u001b[0;34m:\u001b[0m\u001b[0;34m\u001b[0m\u001b[0;34m\u001b[0m\u001b[0m\n\u001b[1;32m   1139\u001b[0m             \u001b[0;32mraise\u001b[0m \u001b[0mAttributeError\u001b[0m\u001b[0;34m(\u001b[0m\u001b[0;34mf\"module {self.__name__} has no attribute {name}\"\u001b[0m\u001b[0;34m)\u001b[0m\u001b[0;34m\u001b[0m\u001b[0;34m\u001b[0m\u001b[0m\n",
      "\u001b[0;32m~/.local/lib/python3.7/site-packages/transformers/utils/import_utils.py\u001b[0m in \u001b[0;36m__getattr__\u001b[0;34m(self, name)\u001b[0m\n\u001b[1;32m   1134\u001b[0m             \u001b[0mvalue\u001b[0m \u001b[0;34m=\u001b[0m \u001b[0mself\u001b[0m\u001b[0;34m.\u001b[0m\u001b[0m_get_module\u001b[0m\u001b[0;34m(\u001b[0m\u001b[0mname\u001b[0m\u001b[0;34m)\u001b[0m\u001b[0;34m\u001b[0m\u001b[0;34m\u001b[0m\u001b[0m\n\u001b[1;32m   1135\u001b[0m         \u001b[0;32melif\u001b[0m \u001b[0mname\u001b[0m \u001b[0;32min\u001b[0m \u001b[0mself\u001b[0m\u001b[0;34m.\u001b[0m\u001b[0m_class_to_module\u001b[0m\u001b[0;34m.\u001b[0m\u001b[0mkeys\u001b[0m\u001b[0;34m(\u001b[0m\u001b[0;34m)\u001b[0m\u001b[0;34m:\u001b[0m\u001b[0;34m\u001b[0m\u001b[0;34m\u001b[0m\u001b[0m\n\u001b[0;32m-> 1136\u001b[0;31m             \u001b[0mmodule\u001b[0m \u001b[0;34m=\u001b[0m \u001b[0mself\u001b[0m\u001b[0;34m.\u001b[0m\u001b[0m_get_module\u001b[0m\u001b[0;34m(\u001b[0m\u001b[0mself\u001b[0m\u001b[0;34m.\u001b[0m\u001b[0m_class_to_module\u001b[0m\u001b[0;34m[\u001b[0m\u001b[0mname\u001b[0m\u001b[0;34m]\u001b[0m\u001b[0;34m)\u001b[0m\u001b[0;34m\u001b[0m\u001b[0;34m\u001b[0m\u001b[0m\n\u001b[0m\u001b[1;32m   1137\u001b[0m             \u001b[0mvalue\u001b[0m \u001b[0;34m=\u001b[0m \u001b[0mgetattr\u001b[0m\u001b[0;34m(\u001b[0m\u001b[0mmodule\u001b[0m\u001b[0;34m,\u001b[0m \u001b[0mname\u001b[0m\u001b[0;34m)\u001b[0m\u001b[0;34m\u001b[0m\u001b[0;34m\u001b[0m\u001b[0m\n\u001b[1;32m   1138\u001b[0m         \u001b[0;32melse\u001b[0m\u001b[0;34m:\u001b[0m\u001b[0;34m\u001b[0m\u001b[0;34m\u001b[0m\u001b[0m\n",
      "\u001b[0;32m~/.local/lib/python3.7/site-packages/transformers/utils/import_utils.py\u001b[0m in \u001b[0;36m_get_module\u001b[0;34m(self, module_name)\u001b[0m\n\u001b[1;32m   1149\u001b[0m                 \u001b[0;34mf\"Failed to import {self.__name__}.{module_name} because of the following error (look up to see its\"\u001b[0m\u001b[0;34m\u001b[0m\u001b[0;34m\u001b[0m\u001b[0m\n\u001b[1;32m   1150\u001b[0m                 \u001b[0;34mf\" traceback):\\n{e}\"\u001b[0m\u001b[0;34m\u001b[0m\u001b[0;34m\u001b[0m\u001b[0m\n\u001b[0;32m-> 1151\u001b[0;31m             ) from e\n\u001b[0m\u001b[1;32m   1152\u001b[0m \u001b[0;34m\u001b[0m\u001b[0m\n\u001b[1;32m   1153\u001b[0m     \u001b[0;32mdef\u001b[0m \u001b[0m__reduce__\u001b[0m\u001b[0;34m(\u001b[0m\u001b[0mself\u001b[0m\u001b[0;34m)\u001b[0m\u001b[0;34m:\u001b[0m\u001b[0;34m\u001b[0m\u001b[0;34m\u001b[0m\u001b[0m\n",
      "\u001b[0;31mRuntimeError\u001b[0m: Failed to import transformers.models.deberta_v2.modeling_deberta_v2 because of the following error (look up to see its traceback):\ncannot import name 'dispatch_model' from 'accelerate' (/home/adam/.local/lib/python3.7/site-packages/accelerate/__init__.py)"
     ]
    }
   ],
   "source": [
    "import torch\n",
    "from transformers import AutoTokenizer, DebertaV2ForSequenceClassification\n",
    "\n",
    "tokenizer = AutoTokenizer.from_pretrained(\"microsoft/deberta-v2-xlarge\")\n",
    "model = DebertaV2ForSequenceClassification.from_pretrained(\"microsoft/deberta-v2-xlarge\", problem_type=\"multi_label_classification\")\n",
    "\n",
    "inputs = tokenizer(\"Hello, my dog is cute\", return_tensors=\"pt\")\n",
    "\n",
    "with torch.no_grad():\n",
    "    logits = model(**inputs).logits\n",
    "\n",
    "predicted_class_ids = torch.arange(0, logits.shape[-1])[torch.sigmoid(logits).squeeze(dim=0) > 0.5]\n",
    "\n",
    "# To train a model on `num_labels` classes, you can pass `num_labels=num_labels` to `.from_pretrained(...)`\n",
    "num_labels = len(model.config.id2label)\n",
    "model = DebertaV2ForSequenceClassification.from_pretrained(\n",
    "    \"microsoft/deberta-v2-xlarge\", num_labels=num_labels, problem_type=\"multi_label_classification\"\n",
    ")"
   ]
  },
  {
   "cell_type": "code",
   "execution_count": 28,
   "id": "36232a22",
   "metadata": {
    "ExecuteTime": {
     "end_time": "2023-05-03T03:53:38.642717Z",
     "start_time": "2023-05-03T03:53:38.592780Z"
    }
   },
   "outputs": [
    {
     "ename": "RuntimeError",
     "evalue": "Failed to import transformers.models.deberta_v2.modeling_deberta_v2 because of the following error (look up to see its traceback):\ncannot import name 'dispatch_model' from 'accelerate' (/home/adam/.local/lib/python3.7/site-packages/accelerate/__init__.py)",
     "output_type": "error",
     "traceback": [
      "\u001b[0;31m---------------------------------------------------------------------------\u001b[0m",
      "\u001b[0;31mImportError\u001b[0m                               Traceback (most recent call last)",
      "\u001b[0;32m~/.local/lib/python3.7/site-packages/transformers/utils/import_utils.py\u001b[0m in \u001b[0;36m_get_module\u001b[0;34m(self, module_name)\u001b[0m\n\u001b[1;32m   1145\u001b[0m         \u001b[0;32mtry\u001b[0m\u001b[0;34m:\u001b[0m\u001b[0;34m\u001b[0m\u001b[0;34m\u001b[0m\u001b[0m\n\u001b[0;32m-> 1146\u001b[0;31m             \u001b[0;32mreturn\u001b[0m \u001b[0mimportlib\u001b[0m\u001b[0;34m.\u001b[0m\u001b[0mimport_module\u001b[0m\u001b[0;34m(\u001b[0m\u001b[0;34m\".\"\u001b[0m \u001b[0;34m+\u001b[0m \u001b[0mmodule_name\u001b[0m\u001b[0;34m,\u001b[0m \u001b[0mself\u001b[0m\u001b[0;34m.\u001b[0m\u001b[0m__name__\u001b[0m\u001b[0;34m)\u001b[0m\u001b[0;34m\u001b[0m\u001b[0;34m\u001b[0m\u001b[0m\n\u001b[0m\u001b[1;32m   1147\u001b[0m         \u001b[0;32mexcept\u001b[0m \u001b[0mException\u001b[0m \u001b[0;32mas\u001b[0m \u001b[0me\u001b[0m\u001b[0;34m:\u001b[0m\u001b[0;34m\u001b[0m\u001b[0;34m\u001b[0m\u001b[0m\n",
      "\u001b[0;32m/usr/lib/python3.7/importlib/__init__.py\u001b[0m in \u001b[0;36mimport_module\u001b[0;34m(name, package)\u001b[0m\n\u001b[1;32m    126\u001b[0m             \u001b[0mlevel\u001b[0m \u001b[0;34m+=\u001b[0m \u001b[0;36m1\u001b[0m\u001b[0;34m\u001b[0m\u001b[0;34m\u001b[0m\u001b[0m\n\u001b[0;32m--> 127\u001b[0;31m     \u001b[0;32mreturn\u001b[0m \u001b[0m_bootstrap\u001b[0m\u001b[0;34m.\u001b[0m\u001b[0m_gcd_import\u001b[0m\u001b[0;34m(\u001b[0m\u001b[0mname\u001b[0m\u001b[0;34m[\u001b[0m\u001b[0mlevel\u001b[0m\u001b[0;34m:\u001b[0m\u001b[0;34m]\u001b[0m\u001b[0;34m,\u001b[0m \u001b[0mpackage\u001b[0m\u001b[0;34m,\u001b[0m \u001b[0mlevel\u001b[0m\u001b[0;34m)\u001b[0m\u001b[0;34m\u001b[0m\u001b[0;34m\u001b[0m\u001b[0m\n\u001b[0m\u001b[1;32m    128\u001b[0m \u001b[0;34m\u001b[0m\u001b[0m\n",
      "\u001b[0;32m/usr/lib/python3.7/importlib/_bootstrap.py\u001b[0m in \u001b[0;36m_gcd_import\u001b[0;34m(name, package, level)\u001b[0m\n",
      "\u001b[0;32m/usr/lib/python3.7/importlib/_bootstrap.py\u001b[0m in \u001b[0;36m_find_and_load\u001b[0;34m(name, import_)\u001b[0m\n",
      "\u001b[0;32m/usr/lib/python3.7/importlib/_bootstrap.py\u001b[0m in \u001b[0;36m_find_and_load_unlocked\u001b[0;34m(name, import_)\u001b[0m\n",
      "\u001b[0;32m/usr/lib/python3.7/importlib/_bootstrap.py\u001b[0m in \u001b[0;36m_load_unlocked\u001b[0;34m(spec)\u001b[0m\n",
      "\u001b[0;32m/usr/lib/python3.7/importlib/_bootstrap_external.py\u001b[0m in \u001b[0;36mexec_module\u001b[0;34m(self, module)\u001b[0m\n",
      "\u001b[0;32m/usr/lib/python3.7/importlib/_bootstrap.py\u001b[0m in \u001b[0;36m_call_with_frames_removed\u001b[0;34m(f, *args, **kwds)\u001b[0m\n",
      "\u001b[0;32m~/.local/lib/python3.7/site-packages/transformers/models/deberta_v2/modeling_deberta_v2.py\u001b[0m in \u001b[0;36m<module>\u001b[0;34m\u001b[0m\n\u001b[1;32m     33\u001b[0m )\n\u001b[0;32m---> 34\u001b[0;31m \u001b[0;32mfrom\u001b[0m \u001b[0;34m...\u001b[0m\u001b[0mmodeling_utils\u001b[0m \u001b[0;32mimport\u001b[0m \u001b[0mPreTrainedModel\u001b[0m\u001b[0;34m\u001b[0m\u001b[0;34m\u001b[0m\u001b[0m\n\u001b[0m\u001b[1;32m     35\u001b[0m \u001b[0;32mfrom\u001b[0m \u001b[0;34m...\u001b[0m\u001b[0mpytorch_utils\u001b[0m \u001b[0;32mimport\u001b[0m \u001b[0msoftmax_backward_data\u001b[0m\u001b[0;34m\u001b[0m\u001b[0;34m\u001b[0m\u001b[0m\n",
      "\u001b[0;32m~/.local/lib/python3.7/site-packages/transformers/modeling_utils.py\u001b[0m in \u001b[0;36m<module>\u001b[0;34m\u001b[0m\n\u001b[1;32m     83\u001b[0m     \u001b[0;32mfrom\u001b[0m \u001b[0maccelerate\u001b[0m \u001b[0;32mimport\u001b[0m \u001b[0m__version__\u001b[0m \u001b[0;32mas\u001b[0m \u001b[0maccelerate_version\u001b[0m\u001b[0;34m\u001b[0m\u001b[0;34m\u001b[0m\u001b[0m\n\u001b[0;32m---> 84\u001b[0;31m     \u001b[0;32mfrom\u001b[0m \u001b[0maccelerate\u001b[0m \u001b[0;32mimport\u001b[0m \u001b[0mdispatch_model\u001b[0m\u001b[0;34m,\u001b[0m \u001b[0minfer_auto_device_map\u001b[0m\u001b[0;34m,\u001b[0m \u001b[0minit_empty_weights\u001b[0m\u001b[0;34m\u001b[0m\u001b[0;34m\u001b[0m\u001b[0m\n\u001b[0m\u001b[1;32m     85\u001b[0m     from accelerate.utils import (\n",
      "\u001b[0;31mImportError\u001b[0m: cannot import name 'dispatch_model' from 'accelerate' (/home/adam/.local/lib/python3.7/site-packages/accelerate/__init__.py)",
      "\nThe above exception was the direct cause of the following exception:\n",
      "\u001b[0;31mRuntimeError\u001b[0m                              Traceback (most recent call last)",
      "\u001b[0;32m/tmp/ipykernel_16989/331051848.py\u001b[0m in \u001b[0;36m<module>\u001b[0;34m\u001b[0m\n\u001b[1;32m      1\u001b[0m \u001b[0;32mimport\u001b[0m \u001b[0mtorch\u001b[0m\u001b[0;34m\u001b[0m\u001b[0;34m\u001b[0m\u001b[0m\n\u001b[0;32m----> 2\u001b[0;31m \u001b[0;32mfrom\u001b[0m \u001b[0mtransformers\u001b[0m \u001b[0;32mimport\u001b[0m \u001b[0mAutoTokenizer\u001b[0m\u001b[0;34m,\u001b[0m \u001b[0mDebertaV2ForSequenceClassification\u001b[0m\u001b[0;34m\u001b[0m\u001b[0;34m\u001b[0m\u001b[0m\n\u001b[0m\u001b[1;32m      3\u001b[0m \u001b[0;34m\u001b[0m\u001b[0m\n\u001b[1;32m      4\u001b[0m \u001b[0msentiment_labels\u001b[0m \u001b[0;34m=\u001b[0m \u001b[0;34m[\u001b[0m\u001b[0;34m\"Positive\"\u001b[0m\u001b[0;34m,\u001b[0m \u001b[0;34m\"Neutral\"\u001b[0m\u001b[0;34m,\u001b[0m\u001b[0;34m\"Negative\"\u001b[0m\u001b[0;34m]\u001b[0m\u001b[0;34m\u001b[0m\u001b[0;34m\u001b[0m\u001b[0m\n\u001b[1;32m      5\u001b[0m \u001b[0mtokenizer\u001b[0m \u001b[0;34m=\u001b[0m \u001b[0mAutoTokenizer\u001b[0m\u001b[0;34m.\u001b[0m\u001b[0mfrom_pretrained\u001b[0m\u001b[0;34m(\u001b[0m\u001b[0;34m\"microsoft/deberta-v2-xlarge\"\u001b[0m\u001b[0;34m)\u001b[0m\u001b[0;34m\u001b[0m\u001b[0;34m\u001b[0m\u001b[0m\n",
      "\u001b[0;32m/usr/lib/python3.7/importlib/_bootstrap.py\u001b[0m in \u001b[0;36m_handle_fromlist\u001b[0;34m(module, fromlist, import_, recursive)\u001b[0m\n",
      "\u001b[0;32m~/.local/lib/python3.7/site-packages/transformers/utils/import_utils.py\u001b[0m in \u001b[0;36m__getattr__\u001b[0;34m(self, name)\u001b[0m\n\u001b[1;32m   1135\u001b[0m         \u001b[0;32melif\u001b[0m \u001b[0mname\u001b[0m \u001b[0;32min\u001b[0m \u001b[0mself\u001b[0m\u001b[0;34m.\u001b[0m\u001b[0m_class_to_module\u001b[0m\u001b[0;34m.\u001b[0m\u001b[0mkeys\u001b[0m\u001b[0;34m(\u001b[0m\u001b[0;34m)\u001b[0m\u001b[0;34m:\u001b[0m\u001b[0;34m\u001b[0m\u001b[0;34m\u001b[0m\u001b[0m\n\u001b[1;32m   1136\u001b[0m             \u001b[0mmodule\u001b[0m \u001b[0;34m=\u001b[0m \u001b[0mself\u001b[0m\u001b[0;34m.\u001b[0m\u001b[0m_get_module\u001b[0m\u001b[0;34m(\u001b[0m\u001b[0mself\u001b[0m\u001b[0;34m.\u001b[0m\u001b[0m_class_to_module\u001b[0m\u001b[0;34m[\u001b[0m\u001b[0mname\u001b[0m\u001b[0;34m]\u001b[0m\u001b[0;34m)\u001b[0m\u001b[0;34m\u001b[0m\u001b[0;34m\u001b[0m\u001b[0m\n\u001b[0;32m-> 1137\u001b[0;31m             \u001b[0mvalue\u001b[0m \u001b[0;34m=\u001b[0m \u001b[0mgetattr\u001b[0m\u001b[0;34m(\u001b[0m\u001b[0mmodule\u001b[0m\u001b[0;34m,\u001b[0m \u001b[0mname\u001b[0m\u001b[0;34m)\u001b[0m\u001b[0;34m\u001b[0m\u001b[0;34m\u001b[0m\u001b[0m\n\u001b[0m\u001b[1;32m   1138\u001b[0m         \u001b[0;32melse\u001b[0m\u001b[0;34m:\u001b[0m\u001b[0;34m\u001b[0m\u001b[0;34m\u001b[0m\u001b[0m\n\u001b[1;32m   1139\u001b[0m             \u001b[0;32mraise\u001b[0m \u001b[0mAttributeError\u001b[0m\u001b[0;34m(\u001b[0m\u001b[0;34mf\"module {self.__name__} has no attribute {name}\"\u001b[0m\u001b[0;34m)\u001b[0m\u001b[0;34m\u001b[0m\u001b[0;34m\u001b[0m\u001b[0m\n",
      "\u001b[0;32m~/.local/lib/python3.7/site-packages/transformers/utils/import_utils.py\u001b[0m in \u001b[0;36m__getattr__\u001b[0;34m(self, name)\u001b[0m\n\u001b[1;32m   1134\u001b[0m             \u001b[0mvalue\u001b[0m \u001b[0;34m=\u001b[0m \u001b[0mself\u001b[0m\u001b[0;34m.\u001b[0m\u001b[0m_get_module\u001b[0m\u001b[0;34m(\u001b[0m\u001b[0mname\u001b[0m\u001b[0;34m)\u001b[0m\u001b[0;34m\u001b[0m\u001b[0;34m\u001b[0m\u001b[0m\n\u001b[1;32m   1135\u001b[0m         \u001b[0;32melif\u001b[0m \u001b[0mname\u001b[0m \u001b[0;32min\u001b[0m \u001b[0mself\u001b[0m\u001b[0;34m.\u001b[0m\u001b[0m_class_to_module\u001b[0m\u001b[0;34m.\u001b[0m\u001b[0mkeys\u001b[0m\u001b[0;34m(\u001b[0m\u001b[0;34m)\u001b[0m\u001b[0;34m:\u001b[0m\u001b[0;34m\u001b[0m\u001b[0;34m\u001b[0m\u001b[0m\n\u001b[0;32m-> 1136\u001b[0;31m             \u001b[0mmodule\u001b[0m \u001b[0;34m=\u001b[0m \u001b[0mself\u001b[0m\u001b[0;34m.\u001b[0m\u001b[0m_get_module\u001b[0m\u001b[0;34m(\u001b[0m\u001b[0mself\u001b[0m\u001b[0;34m.\u001b[0m\u001b[0m_class_to_module\u001b[0m\u001b[0;34m[\u001b[0m\u001b[0mname\u001b[0m\u001b[0;34m]\u001b[0m\u001b[0;34m)\u001b[0m\u001b[0;34m\u001b[0m\u001b[0;34m\u001b[0m\u001b[0m\n\u001b[0m\u001b[1;32m   1137\u001b[0m             \u001b[0mvalue\u001b[0m \u001b[0;34m=\u001b[0m \u001b[0mgetattr\u001b[0m\u001b[0;34m(\u001b[0m\u001b[0mmodule\u001b[0m\u001b[0;34m,\u001b[0m \u001b[0mname\u001b[0m\u001b[0;34m)\u001b[0m\u001b[0;34m\u001b[0m\u001b[0;34m\u001b[0m\u001b[0m\n\u001b[1;32m   1138\u001b[0m         \u001b[0;32melse\u001b[0m\u001b[0;34m:\u001b[0m\u001b[0;34m\u001b[0m\u001b[0;34m\u001b[0m\u001b[0m\n",
      "\u001b[0;32m~/.local/lib/python3.7/site-packages/transformers/utils/import_utils.py\u001b[0m in \u001b[0;36m_get_module\u001b[0;34m(self, module_name)\u001b[0m\n\u001b[1;32m   1149\u001b[0m                 \u001b[0;34mf\"Failed to import {self.__name__}.{module_name} because of the following error (look up to see its\"\u001b[0m\u001b[0;34m\u001b[0m\u001b[0;34m\u001b[0m\u001b[0m\n\u001b[1;32m   1150\u001b[0m                 \u001b[0;34mf\" traceback):\\n{e}\"\u001b[0m\u001b[0;34m\u001b[0m\u001b[0;34m\u001b[0m\u001b[0m\n\u001b[0;32m-> 1151\u001b[0;31m             ) from e\n\u001b[0m\u001b[1;32m   1152\u001b[0m \u001b[0;34m\u001b[0m\u001b[0m\n\u001b[1;32m   1153\u001b[0m     \u001b[0;32mdef\u001b[0m \u001b[0m__reduce__\u001b[0m\u001b[0;34m(\u001b[0m\u001b[0mself\u001b[0m\u001b[0;34m)\u001b[0m\u001b[0;34m:\u001b[0m\u001b[0;34m\u001b[0m\u001b[0;34m\u001b[0m\u001b[0m\n",
      "\u001b[0;31mRuntimeError\u001b[0m: Failed to import transformers.models.deberta_v2.modeling_deberta_v2 because of the following error (look up to see its traceback):\ncannot import name 'dispatch_model' from 'accelerate' (/home/adam/.local/lib/python3.7/site-packages/accelerate/__init__.py)"
     ]
    }
   ],
   "source": [
    "import torch\n",
    "from transformers import AutoTokenizer, DebertaV2ForSequenceClassification\n",
    "\n",
    "sentiment_labels = [\"Positive\", \"Neutral\",\"Negative\"]\n",
    "tokenizer = AutoTokenizer.from_pretrained(\"microsoft/deberta-v2-xlarge\")\n",
    "model = DebertaV2ForSequenceClassification.from_pretrained(\"microsoft/deberta-v2-xlarge\")\n",
    "model.eval()\n",
    "\n",
    "input_text = \"Hello, my dog is ugly\"\n",
    "inputs = tokenizer(input_text, return_tensors=\"pt\")\n",
    "\n",
    "with torch.no_grad():\n",
    "    logits = model(**inputs).logits\n",
    "\n",
    "predicted_class_ids = torch.arange(0, logits.shape[-1])[torch.sigmoid(logits).squeeze(dim=0)>0.5]\n",
    "print(logits)\n",
    "\n",
    "# Interpret the sentiment result\n",
    "sentiment = sentiment_labels[predicted_class_ids]\n",
    "\n",
    "print(\"Input Text: \", input_text)\n",
    "print(\"Predicted Sentiment: \", sentiment)"
   ]
  },
  {
   "cell_type": "code",
   "execution_count": 29,
   "id": "ed6e17e7",
   "metadata": {
    "ExecuteTime": {
     "end_time": "2023-05-03T03:53:43.725754Z",
     "start_time": "2023-05-03T03:53:43.722938Z"
    }
   },
   "outputs": [],
   "source": [
    "tmp = train_df[train_df.name == 'Cafe Patachou']"
   ]
  },
  {
   "cell_type": "code",
   "execution_count": 30,
   "id": "58760ba5",
   "metadata": {
    "ExecuteTime": {
     "end_time": "2023-05-03T03:53:44.077059Z",
     "start_time": "2023-05-03T03:53:44.074656Z"
    }
   },
   "outputs": [],
   "source": [
    "sentences = list(tmp.text)\n",
    "sentences = list(dict.fromkeys(sentences)) # deduplicate"
   ]
  },
  {
   "cell_type": "code",
   "execution_count": 31,
   "id": "a10233b1",
   "metadata": {
    "ExecuteTime": {
     "end_time": "2023-05-03T03:53:44.419136Z",
     "start_time": "2023-05-03T03:53:44.410965Z"
    }
   },
   "outputs": [
    {
     "data": {
      "text/plain": [
       "Counter({'On The Border Mexican Grill & Cantina': 18,\n",
       "         'China Kitchen': 16,\n",
       "         \"Landry's Seafood House\": 15,\n",
       "         'Mariscos Chihuahua': 16,\n",
       "         'Burger Republic': 16,\n",
       "         'Tandoor & Tikka': 16,\n",
       "         \"Giordano's\": 16,\n",
       "         'Pizzeria Vetri': 16,\n",
       "         'Johnny Rockets': 6,\n",
       "         'HipCityVeg': 15,\n",
       "         'Ekta Indian Cuisine': 16,\n",
       "         'Firebirds Wood Fired Grill': 19,\n",
       "         \"Dave & Buster's\": 22,\n",
       "         'Noble Crust': 16,\n",
       "         'The Hungry Greek': 16,\n",
       "         'Sauce on the Side': 18,\n",
       "         \"Carmelita's Mexican Restaurant\": 16,\n",
       "         'Han Dynasty': 18,\n",
       "         \"Joe's Crab Shack\": 16,\n",
       "         'Mamas Kitchen': 12,\n",
       "         'Fellini Cafe': 16,\n",
       "         'Earl of Sandwich': 17,\n",
       "         'sweetgreen': 13,\n",
       "         'honeygrow': 21,\n",
       "         'Las Palmas Mexican Restaurant': 19,\n",
       "         \"BJ's Restaurant & Brewhouse\": 20,\n",
       "         'The Pasta House': 17,\n",
       "         'Louis Pappas Fresh Greek': 16,\n",
       "         'Tokyo Mandarin': 16,\n",
       "         \"Cheddar's Scratch Kitchen\": 22,\n",
       "         'Gyro Shack': 16,\n",
       "         \"Joey's New York Pizza and Italian Restaurant\": 12,\n",
       "         'Granite City Food & Brewery': 6,\n",
       "         'Another Broken Egg Cafe': 20,\n",
       "         'Wayback Burgers': 21,\n",
       "         'El Charro Cafe': 15,\n",
       "         'Fleming’s Prime Steakhouse & Wine Bar': 18,\n",
       "         'Le Peep': 16,\n",
       "         'Asian Kitchen': 12,\n",
       "         \"Jimboy's Tacos\": 16,\n",
       "         \"Sabrina's Café\": 15,\n",
       "         \"Logan's Roadhouse\": 17,\n",
       "         'Naf Naf Grill': 17,\n",
       "         'New China': 18,\n",
       "         \"Zeko's Mediterranean Grill\": 16,\n",
       "         'Chuck E. Cheese': 17,\n",
       "         'Sakura': 6,\n",
       "         \"Blake's Lotaburger\": 16,\n",
       "         \"Fulin's Asian Cuisine\": 16,\n",
       "         'Federal Donuts': 16,\n",
       "         'In-N-Out Burger': 20,\n",
       "         'Village Inn': 12,\n",
       "         'Little Caesars': 17,\n",
       "         \"Chickie's & Pete's\": 13,\n",
       "         'Pho Street': 16,\n",
       "         'Backyard Bowls': 16,\n",
       "         \"Anthony's Coal Fired Pizza\": 15,\n",
       "         'World of Beer': 17,\n",
       "         'Duck Donuts': 18,\n",
       "         'Port of Subs': 15,\n",
       "         \"Dewey's Pizza\": 17,\n",
       "         \"Romano's Macaroni Grill\": 6,\n",
       "         \"Raising Cane's Chicken Fingers\": 19,\n",
       "         'Brio Italian Grille': 16,\n",
       "         'Oriental Pearl Restaurant': 6,\n",
       "         'Uno Pizzeria & Grill': 20,\n",
       "         'Glory Days Grill': 20,\n",
       "         \"Keke's Breakfast Cafe\": 20,\n",
       "         'Iron Hill Brewery & Restaurant': 22,\n",
       "         'HotBox Pizza': 18,\n",
       "         'City Barbeque': 18,\n",
       "         \"Bully's Sports Bar & Grill\": 17,\n",
       "         \"Fuzzy's Taco Shop\": 17,\n",
       "         'Casita Taqueria': 16,\n",
       "         'Del Taco': 20,\n",
       "         'City Greens': 15,\n",
       "         'El Maguey': 18,\n",
       "         'Gryphon Cafe': 16,\n",
       "         'Pollo Tropical': 20,\n",
       "         \"Fazoli's\": 18,\n",
       "         'Thai Orchid': 6,\n",
       "         'Sushi Ai': 19,\n",
       "         'Café Zupas': 9,\n",
       "         'SoFresh': 12,\n",
       "         'The Original Pancake House': 16,\n",
       "         \"Imo's Pizza\": 18,\n",
       "         'The Urban Juicer': 16,\n",
       "         'Benihana': 6,\n",
       "         \"Chimi's Fresh-Mex\": 16,\n",
       "         'California Tortilla': 18,\n",
       "         'Boston Market': 19,\n",
       "         'Pancheros Mexican Grill': 16,\n",
       "         'Corner Bakery': 17,\n",
       "         \"eegee's\": 22,\n",
       "         \"CC's Coffee House\": 16,\n",
       "         'New York Pizza': 6,\n",
       "         \"Newk's Eatery\": 16,\n",
       "         \"Bellacino's Pizza & Grinders\": 16,\n",
       "         'Sakura Japanese Restaurant': 17,\n",
       "         \"Slack's Hoagie Shack\": 16,\n",
       "         'Yats': 20,\n",
       "         'The Old Spaghetti Factory': 6,\n",
       "         'Ruby Tuesday': 19,\n",
       "         'Cicis': 6,\n",
       "         'Flying Pie Pizzaria': 16,\n",
       "         \"Izzo's Illegal Burrito\": 12,\n",
       "         'El Pollo Loco': 18,\n",
       "         'Golden Corral Buffet & Grill': 21,\n",
       "         \"Joe Boccardi's Ristorante\": 16,\n",
       "         'WingHouse Bar & Grill': 20,\n",
       "         'Thai Cuisine': 6,\n",
       "         'PureBread Deli': 16,\n",
       "         \"Portillo's Hot Dogs\": 16,\n",
       "         \"Nico's Taco Shop\": 16,\n",
       "         'Goldie': 16,\n",
       "         'La Parrilla Suiza': 16,\n",
       "         \"Morton's The Steakhouse\": 6,\n",
       "         'Super Wok': 16,\n",
       "         'Green Eggs Cafe': 16,\n",
       "         \"Rusty's Pizza Parlor\": 18,\n",
       "         'Manhattan Bagel': 15,\n",
       "         'Whataburger': 17,\n",
       "         'Mr and Mrs Crab': 16,\n",
       "         'Bartaco': 6,\n",
       "         'Pokeworks': 6,\n",
       "         \"Raley's\": 19,\n",
       "         'Hook & Reel Cajun Seafood & Bar': 16,\n",
       "         'Ruby Slipper Cafe': 13,\n",
       "         'Metro Diner': 20,\n",
       "         'Little Caesars Pizza': 16,\n",
       "         'R&R Extreme Wings': 15,\n",
       "         'New York New York Pizza': 16,\n",
       "         'Grain and Berry': 16,\n",
       "         'China Garden': 20,\n",
       "         'Prodigy Burger & Bar': 16,\n",
       "         \"Rosati's Pizza\": 17,\n",
       "         'Frothy Monkey': 16,\n",
       "         'Condado Tacos': 17,\n",
       "         'Salt + Smoke': 16,\n",
       "         'Seis Kitchen': 16,\n",
       "         \"Caplinger's Fresh Catch\": 16,\n",
       "         'North Italia': 6,\n",
       "         'Grand Hacienda': 16,\n",
       "         'Hibachi Express': 17,\n",
       "         'Cajun Seafood': 16,\n",
       "         'Westshore Pizza': 20,\n",
       "         'Zoup!': 6,\n",
       "         'Stove and Tap': 16,\n",
       "         \"Maggiano's Little Italy\": 18,\n",
       "         \"Del Frisco's Grille\": 16,\n",
       "         'Peel Wood Fired Pizza': 16,\n",
       "         \"Miller's Ale House\": 21,\n",
       "         'Potbelly Sandwich Shop': 19,\n",
       "         'Wasabi Sushi Bar': 18,\n",
       "         'Sedona Taphouse': 6,\n",
       "         'Rush Bowls': 6,\n",
       "         \"Ford's Garage\": 17,\n",
       "         'Los Agaves': 16,\n",
       "         \"Juan's Flying Burrito\": 9,\n",
       "         'Las Fuentes': 16,\n",
       "         'Pei Wei': 16,\n",
       "         'Hong Kong': 6,\n",
       "         'Skyline Chili': 16,\n",
       "         'La Hacienda Mexican Restaurant': 17,\n",
       "         'Lincoln Square Pancake House': 11,\n",
       "         \"Grimaldi's Pizzeria\": 6,\n",
       "         'Pizza Factory': 6,\n",
       "         'Three Kings Public House': 15,\n",
       "         'Bisbee Breakfast Club': 16,\n",
       "         'Bahama Breeze': 18,\n",
       "         'Topgolf': 17,\n",
       "         'Snap Custom Pizza': 16,\n",
       "         \"Sonny's BBQ\": 18,\n",
       "         'Three Brothers Grill': 16,\n",
       "         'Fit-Flavors': 16,\n",
       "         \"Friendly's\": 18,\n",
       "         'Crazy Bowls & Wraps': 21,\n",
       "         'Blenders In the Grass': 16,\n",
       "         'Smokey Bones': 10,\n",
       "         'Two Stones Pub': 16,\n",
       "         'Margaritas Mexican Restaurant': 17,\n",
       "         'Saffron Indian Kitchen': 16,\n",
       "         'Egg Roll King': 16,\n",
       "         'Little Greek Restaurant': 17,\n",
       "         'Native Grill & Wings': 16,\n",
       "         'Fresh Kitchen': 16,\n",
       "         'Burger Monger': 17,\n",
       "         'Poke Loa': 16,\n",
       "         \"Walden's Coffeehouse\": 16,\n",
       "         'Hibachi Grill & Supreme Buffet': 15,\n",
       "         'Thai Basil': 17,\n",
       "         'Spread Bagelry': 12,\n",
       "         'Hibachi Japanese Express': 16,\n",
       "         'Blackjack Pizza & Salads': 6,\n",
       "         'Which Wich': 17,\n",
       "         'Los Betos': 18,\n",
       "         'Little Greek': 16,\n",
       "         'Vino Volo': 16,\n",
       "         \"Ruth's Chris Steak House\": 19,\n",
       "         'El Diablo Burritos': 15,\n",
       "         'Tiffin': 6,\n",
       "         'El Tapatio': 6,\n",
       "         'Pholicious': 16,\n",
       "         \"Jason's Deli\": 18,\n",
       "         'China House': 6,\n",
       "         \"Rubio's\": 16,\n",
       "         \"Bertucci's Italian Restaurant\": 22,\n",
       "         'Ocean Prime': 6,\n",
       "         'Bazbeaux Pizza': 16,\n",
       "         'New Orleans Hamburger & Seafood Co': 16,\n",
       "         \"Reginelli's Pizzeria\": 18,\n",
       "         \"Joe's Cafe\": 18,\n",
       "         'Seminole Subs & Gyros': 9,\n",
       "         'La Hacienda': 17,\n",
       "         'El Maguey Mexican Restaurant': 6,\n",
       "         'Big Apple Bagels': 6,\n",
       "         \"J. Alexander's Restaurant\": 6,\n",
       "         \"Palermo's Pizza\": 16,\n",
       "         'Le Peep Restaurant': 16,\n",
       "         'Roma Pizza & Pasta': 16,\n",
       "         'Dairy Queen Grill & Chill': 22,\n",
       "         'Greek Cafe Grill': 15,\n",
       "         'Dairy Queen': 17,\n",
       "         'Round Table Pizza': 18,\n",
       "         \"Hugo's Deli\": 15,\n",
       "         'Blue Coast Burrito': 13,\n",
       "         'Donatos Pizza': 20,\n",
       "         'The Great American Pub': 17,\n",
       "         'Panda Chinese Restaurant': 6,\n",
       "         \"Lion's Choice\": 16,\n",
       "         'Subway': 16,\n",
       "         'Boise Juice Company': 15,\n",
       "         'Johnny Longhots': 6,\n",
       "         'Beyond Bread': 16,\n",
       "         'Poke Bros': 18,\n",
       "         \"BubbaQue's\": 16,\n",
       "         \"Fito's Taco Shop\": 16,\n",
       "         'Krab Kingz': 6,\n",
       "         'Publix': 16,\n",
       "         \"Nifty Fifty's\": 16,\n",
       "         \"Oscar's Taco Shop\": 16,\n",
       "         'Token Ramen & Kung Fu Tea': 16,\n",
       "         'Taco Giro': 16,\n",
       "         'Seasons 52': 16,\n",
       "         'Casa Mexico': 16,\n",
       "         'Wild Eggs': 12,\n",
       "         'The Capital Grille': 18,\n",
       "         'Lolis Mexican Cravings': 16,\n",
       "         'The Cheesecake Factory': 19,\n",
       "         'Serial Grillers': 16,\n",
       "         \"Noble Roman's Craft Pizza & Pub\": 16,\n",
       "         'Hi-Pointe Drive-In': 16,\n",
       "         'Jockamo Upper Crust Pizza': 16,\n",
       "         \"Greek's Pizzeria\": 18,\n",
       "         \"Baggin's Gourmet Sandwiches\": 18,\n",
       "         \"Benedict's Family Restaurant\": 16,\n",
       "         'Hard Rock Cafe': 17,\n",
       "         \"Martin's Bar-B-Que Joint\": 16,\n",
       "         \"Bubba's 33\": 6,\n",
       "         'Pei Wei Asian Kitchen': 17,\n",
       "         'Black Bear Diner': 17,\n",
       "         'Miss Saigon': 15,\n",
       "         'Loco Pez': 16,\n",
       "         'Mission BBQ': 21,\n",
       "         'Yard House': 18,\n",
       "         'Acropolis Greek Taverna': 17,\n",
       "         \"Oregano's\": 16,\n",
       "         'L&L Hawaiian Barbecue': 16,\n",
       "         'Hotcakes Emporium Pancake House & Restaurant': 15,\n",
       "         'Peter Piper Pizza': 16,\n",
       "         'Seasons Pizza': 17,\n",
       "         'Ha Long Bay': 6,\n",
       "         \"Frank's Pizza\": 16,\n",
       "         \"Andy's Chicken\": 16,\n",
       "         'China 1': 18,\n",
       "         'Cafe Rio Mexican Grill': 16,\n",
       "         'Boise Fry Company': 9,\n",
       "         \"Jonathan's Grille\": 12,\n",
       "         'Sauce Pizza & Wine': 16,\n",
       "         'Crushed Red': 16,\n",
       "         'Village Inn Restaurant': 16,\n",
       "         'Ginza': 6,\n",
       "         'Di Bruno Bros.': 16,\n",
       "         \"Jerry Bob's Family Restaurant\": 16,\n",
       "         'Jamba': 16,\n",
       "         'Shack Breakfast & Lunch': 16,\n",
       "         \"Pickleman's Gourmet Cafe\": 16,\n",
       "         \"Carl's Jr\": 20,\n",
       "         \"Papa Murphy's\": 10,\n",
       "         'Viva Burrito': 16,\n",
       "         'China Palace': 6,\n",
       "         \"Mama's Famous Pizza & Heros\": 9,\n",
       "         'Idaho Pizza Company': 18,\n",
       "         'Golden Dragon': 6,\n",
       "         'Buca di Beppo Italian Restaurant': 17,\n",
       "         'Smoky Mountain Pizzeria Grill': 16,\n",
       "         'El Paso Mexican Grill': 12,\n",
       "         'Tin Roof': 6,\n",
       "         'Sushi House': 6,\n",
       "         'Cancun Mexican Restaurant': 16,\n",
       "         'Panino': 16,\n",
       "         'Costa Vida': 9,\n",
       "         'Flatbread Neapolitan Pizzeria': 16,\n",
       "         \"Famous Dave's Bar-B-Que\": 14,\n",
       "         \"Hardee's\": 6,\n",
       "         'Saladworks': 21,\n",
       "         'China Moon': 6,\n",
       "         'The Habit Burger Grill': 18,\n",
       "         \"Bubbakoo's Burritos\": 6,\n",
       "         'Lovebird': 16,\n",
       "         'Irish 31': 16,\n",
       "         'Teriyaki Madness': 18,\n",
       "         'Barista Parlor': 15,\n",
       "         'Genghis Grill': 6,\n",
       "         'Chicago Style Gyros': 15,\n",
       "         \"Sullivan's Steakhouse\": 16,\n",
       "         \"Maloney's Local Irish Pub\": 16,\n",
       "         'Wings Etc': 17,\n",
       "         \"Copeland's of New Orleans\": 16,\n",
       "         'Costa Vida Fresh Mexican Grill': 16,\n",
       "         'The Melting Pot': 17,\n",
       "         'Pizza World': 16,\n",
       "         'BurgerFi': 17,\n",
       "         \"Santucci's Original Square Pizza\": 16,\n",
       "         'Cook Out': 16,\n",
       "         \"Eddie V's Prime Seafood\": 6,\n",
       "         \"BrickTop's\": 6,\n",
       "         'China One': 16,\n",
       "         \"Llywelyn's Pub\": 16,\n",
       "         \"Angelo's Pizza\": 16,\n",
       "         'MOOYAH Burgers, Fries & Shakes': 16,\n",
       "         'Wok N Roll': 16,\n",
       "         'Pho Saigon': 6,\n",
       "         \"Theo's Neighborhood Pizza\": 16,\n",
       "         'Zesto Pizza & Grill': 16,\n",
       "         'My Favorite Muffin': 6,\n",
       "         \"Steve's Prince of Steaks\": 15,\n",
       "         'Taco Bus': 19,\n",
       "         \"Nina's Waffles & Ice Cream\": 16,\n",
       "         'Clean Eatz': 6,\n",
       "         '54th Street Grill & Bar': 16,\n",
       "         'Perkins Restaurant & Bakery': 17,\n",
       "         'Bar-B-Cutie': 16,\n",
       "         \"Mike Duffy's Pub & Grill\": 16,\n",
       "         \"Joe's Pizza & Pasta\": 16,\n",
       "         \"Gianni's Pizza\": 6,\n",
       "         \"Kaldi's Coffee\": 16,\n",
       "         'Lucky Wishbone': 17,\n",
       "         \"Famous Sam's\": 16,\n",
       "         'Krispy Kreme': 17,\n",
       "         'True Food Kitchen': 6,\n",
       "         'Poké Falls': 16,\n",
       "         'The Grilled Cheeserie': 16,\n",
       "         'Empire Diner': 6,\n",
       "         \"Racanelli's\": 15,\n",
       "         'Wegmans Wine & Beer': 16,\n",
       "         'Kneaders Bakery & Cafe': 16,\n",
       "         'Los Arroyos Mexican Restaurant & Take Out': 16,\n",
       "         'Byblos': 6,\n",
       "         'Capital Tacos': 16,\n",
       "         'The Griddle': 16,\n",
       "         'Panda Garden': 6,\n",
       "         'Pizza Plus': 12,\n",
       "         'Zea Rotisserie & Bar': 15,\n",
       "         'Great Wall Chinese Restaurant': 6,\n",
       "         'Pizza King': 16,\n",
       "         'Fiesta Mexicana': 16,\n",
       "         \"Lee's Hoagie House\": 15,\n",
       "         \"Sal's Famous Pizzeria\": 16,\n",
       "         \"Salem's Fresh Eats\": 16,\n",
       "         'China Taste': 17,\n",
       "         'Jade Garden': 6,\n",
       "         \"Helen's Hot Chicken\": 16,\n",
       "         'Asian Wok': 6,\n",
       "         'Crafty Crab': 15,\n",
       "         'Slim Chickens': 6,\n",
       "         'CAVA': 6,\n",
       "         'Squeeze In': 16,\n",
       "         'Cheeburger Cheeburger': 6,\n",
       "         'Kung Fu Tea': 16,\n",
       "         'China Star': 17,\n",
       "         'Toast': 6,\n",
       "         'Seoul Taco': 16,\n",
       "         'El Rodeo': 16,\n",
       "         'Jules Thin Crust': 16,\n",
       "         \"Chuy's\": 18,\n",
       "         'City View Pizza and Grill': 16,\n",
       "         'China Gourmet': 6,\n",
       "         \"Cody's Original Roadhouse\": 16,\n",
       "         'From The Boot': 16,\n",
       "         \"Puccino's Coffee\": 16,\n",
       "         'The Blind Onion Pizza & Pub': 16,\n",
       "         'Cafe Patachou': 16,\n",
       "         'Magpies Gourmet Pizza': 16,\n",
       "         'Little Greek Fresh Grill': 16,\n",
       "         'White Castle': 18,\n",
       "         'Main Squeeze Juice Co.': 16,\n",
       "         'Studio Movie Grill': 6,\n",
       "         'El Guero Canelo': 16,\n",
       "         'Kolache Factory': 6,\n",
       "         'Sushi Club': 16,\n",
       "         'Chevys Fresh Mex': 16,\n",
       "         'The Halal Guys': 16,\n",
       "         'Greek City Cafe': 16,\n",
       "         'Juicy Seafood': 16})"
      ]
     },
     "execution_count": 31,
     "metadata": {},
     "output_type": "execute_result"
    }
   ],
   "source": [
    "Counter(train_df.name)"
   ]
  },
  {
   "cell_type": "code",
   "execution_count": 32,
   "id": "5d811fc1",
   "metadata": {
    "ExecuteTime": {
     "end_time": "2023-05-03T03:53:44.897840Z",
     "start_time": "2023-05-03T03:53:44.769701Z"
    }
   },
   "outputs": [
    {
     "ename": "RuntimeError",
     "evalue": "Failed to import transformers.models.deberta_v2.modeling_deberta_v2 because of the following error (look up to see its traceback):\ncannot import name 'dispatch_model' from 'accelerate' (/home/adam/.local/lib/python3.7/site-packages/accelerate/__init__.py)",
     "output_type": "error",
     "traceback": [
      "\u001b[0;31m---------------------------------------------------------------------------\u001b[0m",
      "\u001b[0;31mImportError\u001b[0m                               Traceback (most recent call last)",
      "\u001b[0;32m~/.local/lib/python3.7/site-packages/transformers/utils/import_utils.py\u001b[0m in \u001b[0;36m_get_module\u001b[0;34m(self, module_name)\u001b[0m\n\u001b[1;32m   1145\u001b[0m         \u001b[0;32mtry\u001b[0m\u001b[0;34m:\u001b[0m\u001b[0;34m\u001b[0m\u001b[0;34m\u001b[0m\u001b[0m\n\u001b[0;32m-> 1146\u001b[0;31m             \u001b[0;32mreturn\u001b[0m \u001b[0mimportlib\u001b[0m\u001b[0;34m.\u001b[0m\u001b[0mimport_module\u001b[0m\u001b[0;34m(\u001b[0m\u001b[0;34m\".\"\u001b[0m \u001b[0;34m+\u001b[0m \u001b[0mmodule_name\u001b[0m\u001b[0;34m,\u001b[0m \u001b[0mself\u001b[0m\u001b[0;34m.\u001b[0m\u001b[0m__name__\u001b[0m\u001b[0;34m)\u001b[0m\u001b[0;34m\u001b[0m\u001b[0;34m\u001b[0m\u001b[0m\n\u001b[0m\u001b[1;32m   1147\u001b[0m         \u001b[0;32mexcept\u001b[0m \u001b[0mException\u001b[0m \u001b[0;32mas\u001b[0m \u001b[0me\u001b[0m\u001b[0;34m:\u001b[0m\u001b[0;34m\u001b[0m\u001b[0;34m\u001b[0m\u001b[0m\n",
      "\u001b[0;32m/usr/lib/python3.7/importlib/__init__.py\u001b[0m in \u001b[0;36mimport_module\u001b[0;34m(name, package)\u001b[0m\n\u001b[1;32m    126\u001b[0m             \u001b[0mlevel\u001b[0m \u001b[0;34m+=\u001b[0m \u001b[0;36m1\u001b[0m\u001b[0;34m\u001b[0m\u001b[0;34m\u001b[0m\u001b[0m\n\u001b[0;32m--> 127\u001b[0;31m     \u001b[0;32mreturn\u001b[0m \u001b[0m_bootstrap\u001b[0m\u001b[0;34m.\u001b[0m\u001b[0m_gcd_import\u001b[0m\u001b[0;34m(\u001b[0m\u001b[0mname\u001b[0m\u001b[0;34m[\u001b[0m\u001b[0mlevel\u001b[0m\u001b[0;34m:\u001b[0m\u001b[0;34m]\u001b[0m\u001b[0;34m,\u001b[0m \u001b[0mpackage\u001b[0m\u001b[0;34m,\u001b[0m \u001b[0mlevel\u001b[0m\u001b[0;34m)\u001b[0m\u001b[0;34m\u001b[0m\u001b[0;34m\u001b[0m\u001b[0m\n\u001b[0m\u001b[1;32m    128\u001b[0m \u001b[0;34m\u001b[0m\u001b[0m\n",
      "\u001b[0;32m/usr/lib/python3.7/importlib/_bootstrap.py\u001b[0m in \u001b[0;36m_gcd_import\u001b[0;34m(name, package, level)\u001b[0m\n",
      "\u001b[0;32m/usr/lib/python3.7/importlib/_bootstrap.py\u001b[0m in \u001b[0;36m_find_and_load\u001b[0;34m(name, import_)\u001b[0m\n",
      "\u001b[0;32m/usr/lib/python3.7/importlib/_bootstrap.py\u001b[0m in \u001b[0;36m_find_and_load_unlocked\u001b[0;34m(name, import_)\u001b[0m\n",
      "\u001b[0;32m/usr/lib/python3.7/importlib/_bootstrap.py\u001b[0m in \u001b[0;36m_load_unlocked\u001b[0;34m(spec)\u001b[0m\n",
      "\u001b[0;32m/usr/lib/python3.7/importlib/_bootstrap_external.py\u001b[0m in \u001b[0;36mexec_module\u001b[0;34m(self, module)\u001b[0m\n",
      "\u001b[0;32m/usr/lib/python3.7/importlib/_bootstrap.py\u001b[0m in \u001b[0;36m_call_with_frames_removed\u001b[0;34m(f, *args, **kwds)\u001b[0m\n",
      "\u001b[0;32m~/.local/lib/python3.7/site-packages/transformers/models/deberta_v2/modeling_deberta_v2.py\u001b[0m in \u001b[0;36m<module>\u001b[0;34m\u001b[0m\n\u001b[1;32m     33\u001b[0m )\n\u001b[0;32m---> 34\u001b[0;31m \u001b[0;32mfrom\u001b[0m \u001b[0;34m...\u001b[0m\u001b[0mmodeling_utils\u001b[0m \u001b[0;32mimport\u001b[0m \u001b[0mPreTrainedModel\u001b[0m\u001b[0;34m\u001b[0m\u001b[0;34m\u001b[0m\u001b[0m\n\u001b[0m\u001b[1;32m     35\u001b[0m \u001b[0;32mfrom\u001b[0m \u001b[0;34m...\u001b[0m\u001b[0mpytorch_utils\u001b[0m \u001b[0;32mimport\u001b[0m \u001b[0msoftmax_backward_data\u001b[0m\u001b[0;34m\u001b[0m\u001b[0;34m\u001b[0m\u001b[0m\n",
      "\u001b[0;32m~/.local/lib/python3.7/site-packages/transformers/modeling_utils.py\u001b[0m in \u001b[0;36m<module>\u001b[0;34m\u001b[0m\n\u001b[1;32m     83\u001b[0m     \u001b[0;32mfrom\u001b[0m \u001b[0maccelerate\u001b[0m \u001b[0;32mimport\u001b[0m \u001b[0m__version__\u001b[0m \u001b[0;32mas\u001b[0m \u001b[0maccelerate_version\u001b[0m\u001b[0;34m\u001b[0m\u001b[0;34m\u001b[0m\u001b[0m\n\u001b[0;32m---> 84\u001b[0;31m     \u001b[0;32mfrom\u001b[0m \u001b[0maccelerate\u001b[0m \u001b[0;32mimport\u001b[0m \u001b[0mdispatch_model\u001b[0m\u001b[0;34m,\u001b[0m \u001b[0minfer_auto_device_map\u001b[0m\u001b[0;34m,\u001b[0m \u001b[0minit_empty_weights\u001b[0m\u001b[0;34m\u001b[0m\u001b[0;34m\u001b[0m\u001b[0m\n\u001b[0m\u001b[1;32m     85\u001b[0m     from accelerate.utils import (\n",
      "\u001b[0;31mImportError\u001b[0m: cannot import name 'dispatch_model' from 'accelerate' (/home/adam/.local/lib/python3.7/site-packages/accelerate/__init__.py)",
      "\nThe above exception was the direct cause of the following exception:\n",
      "\u001b[0;31mRuntimeError\u001b[0m                              Traceback (most recent call last)",
      "\u001b[0;32m/tmp/ipykernel_16989/3668693205.py\u001b[0m in \u001b[0;36m<module>\u001b[0;34m\u001b[0m\n\u001b[1;32m      1\u001b[0m \u001b[0;32mimport\u001b[0m \u001b[0mtorch\u001b[0m\u001b[0;34m\u001b[0m\u001b[0;34m\u001b[0m\u001b[0m\n\u001b[0;32m----> 2\u001b[0;31m \u001b[0;32mfrom\u001b[0m \u001b[0mtransformers\u001b[0m \u001b[0;32mimport\u001b[0m \u001b[0mDebertaV2ForSequenceClassification\u001b[0m\u001b[0;34m,\u001b[0m \u001b[0mDebertaV2Tokenizer\u001b[0m\u001b[0;34m\u001b[0m\u001b[0;34m\u001b[0m\u001b[0m\n\u001b[0m\u001b[1;32m      3\u001b[0m \u001b[0;34m\u001b[0m\u001b[0m\n\u001b[1;32m      4\u001b[0m \u001b[0;31m# Load the pretrained model and tokenizer\u001b[0m\u001b[0;34m\u001b[0m\u001b[0;34m\u001b[0m\u001b[0;34m\u001b[0m\u001b[0m\n\u001b[1;32m      5\u001b[0m \u001b[0mmodel_name\u001b[0m \u001b[0;34m=\u001b[0m \u001b[0;34m\"microsoft/deberta-v2-xlarge\"\u001b[0m  \u001b[0;31m# Pretrained DeBERTa-v2 model\u001b[0m\u001b[0;34m\u001b[0m\u001b[0;34m\u001b[0m\u001b[0m\n",
      "\u001b[0;32m/usr/lib/python3.7/importlib/_bootstrap.py\u001b[0m in \u001b[0;36m_handle_fromlist\u001b[0;34m(module, fromlist, import_, recursive)\u001b[0m\n",
      "\u001b[0;32m~/.local/lib/python3.7/site-packages/transformers/utils/import_utils.py\u001b[0m in \u001b[0;36m__getattr__\u001b[0;34m(self, name)\u001b[0m\n\u001b[1;32m   1135\u001b[0m         \u001b[0;32melif\u001b[0m \u001b[0mname\u001b[0m \u001b[0;32min\u001b[0m \u001b[0mself\u001b[0m\u001b[0;34m.\u001b[0m\u001b[0m_class_to_module\u001b[0m\u001b[0;34m.\u001b[0m\u001b[0mkeys\u001b[0m\u001b[0;34m(\u001b[0m\u001b[0;34m)\u001b[0m\u001b[0;34m:\u001b[0m\u001b[0;34m\u001b[0m\u001b[0;34m\u001b[0m\u001b[0m\n\u001b[1;32m   1136\u001b[0m             \u001b[0mmodule\u001b[0m \u001b[0;34m=\u001b[0m \u001b[0mself\u001b[0m\u001b[0;34m.\u001b[0m\u001b[0m_get_module\u001b[0m\u001b[0;34m(\u001b[0m\u001b[0mself\u001b[0m\u001b[0;34m.\u001b[0m\u001b[0m_class_to_module\u001b[0m\u001b[0;34m[\u001b[0m\u001b[0mname\u001b[0m\u001b[0;34m]\u001b[0m\u001b[0;34m)\u001b[0m\u001b[0;34m\u001b[0m\u001b[0;34m\u001b[0m\u001b[0m\n\u001b[0;32m-> 1137\u001b[0;31m             \u001b[0mvalue\u001b[0m \u001b[0;34m=\u001b[0m \u001b[0mgetattr\u001b[0m\u001b[0;34m(\u001b[0m\u001b[0mmodule\u001b[0m\u001b[0;34m,\u001b[0m \u001b[0mname\u001b[0m\u001b[0;34m)\u001b[0m\u001b[0;34m\u001b[0m\u001b[0;34m\u001b[0m\u001b[0m\n\u001b[0m\u001b[1;32m   1138\u001b[0m         \u001b[0;32melse\u001b[0m\u001b[0;34m:\u001b[0m\u001b[0;34m\u001b[0m\u001b[0;34m\u001b[0m\u001b[0m\n\u001b[1;32m   1139\u001b[0m             \u001b[0;32mraise\u001b[0m \u001b[0mAttributeError\u001b[0m\u001b[0;34m(\u001b[0m\u001b[0;34mf\"module {self.__name__} has no attribute {name}\"\u001b[0m\u001b[0;34m)\u001b[0m\u001b[0;34m\u001b[0m\u001b[0;34m\u001b[0m\u001b[0m\n",
      "\u001b[0;32m~/.local/lib/python3.7/site-packages/transformers/utils/import_utils.py\u001b[0m in \u001b[0;36m__getattr__\u001b[0;34m(self, name)\u001b[0m\n\u001b[1;32m   1134\u001b[0m             \u001b[0mvalue\u001b[0m \u001b[0;34m=\u001b[0m \u001b[0mself\u001b[0m\u001b[0;34m.\u001b[0m\u001b[0m_get_module\u001b[0m\u001b[0;34m(\u001b[0m\u001b[0mname\u001b[0m\u001b[0;34m)\u001b[0m\u001b[0;34m\u001b[0m\u001b[0;34m\u001b[0m\u001b[0m\n\u001b[1;32m   1135\u001b[0m         \u001b[0;32melif\u001b[0m \u001b[0mname\u001b[0m \u001b[0;32min\u001b[0m \u001b[0mself\u001b[0m\u001b[0;34m.\u001b[0m\u001b[0m_class_to_module\u001b[0m\u001b[0;34m.\u001b[0m\u001b[0mkeys\u001b[0m\u001b[0;34m(\u001b[0m\u001b[0;34m)\u001b[0m\u001b[0;34m:\u001b[0m\u001b[0;34m\u001b[0m\u001b[0;34m\u001b[0m\u001b[0m\n\u001b[0;32m-> 1136\u001b[0;31m             \u001b[0mmodule\u001b[0m \u001b[0;34m=\u001b[0m \u001b[0mself\u001b[0m\u001b[0;34m.\u001b[0m\u001b[0m_get_module\u001b[0m\u001b[0;34m(\u001b[0m\u001b[0mself\u001b[0m\u001b[0;34m.\u001b[0m\u001b[0m_class_to_module\u001b[0m\u001b[0;34m[\u001b[0m\u001b[0mname\u001b[0m\u001b[0;34m]\u001b[0m\u001b[0;34m)\u001b[0m\u001b[0;34m\u001b[0m\u001b[0;34m\u001b[0m\u001b[0m\n\u001b[0m\u001b[1;32m   1137\u001b[0m             \u001b[0mvalue\u001b[0m \u001b[0;34m=\u001b[0m \u001b[0mgetattr\u001b[0m\u001b[0;34m(\u001b[0m\u001b[0mmodule\u001b[0m\u001b[0;34m,\u001b[0m \u001b[0mname\u001b[0m\u001b[0;34m)\u001b[0m\u001b[0;34m\u001b[0m\u001b[0;34m\u001b[0m\u001b[0m\n\u001b[1;32m   1138\u001b[0m         \u001b[0;32melse\u001b[0m\u001b[0;34m:\u001b[0m\u001b[0;34m\u001b[0m\u001b[0;34m\u001b[0m\u001b[0m\n",
      "\u001b[0;32m~/.local/lib/python3.7/site-packages/transformers/utils/import_utils.py\u001b[0m in \u001b[0;36m_get_module\u001b[0;34m(self, module_name)\u001b[0m\n\u001b[1;32m   1149\u001b[0m                 \u001b[0;34mf\"Failed to import {self.__name__}.{module_name} because of the following error (look up to see its\"\u001b[0m\u001b[0;34m\u001b[0m\u001b[0;34m\u001b[0m\u001b[0m\n\u001b[1;32m   1150\u001b[0m                 \u001b[0;34mf\" traceback):\\n{e}\"\u001b[0m\u001b[0;34m\u001b[0m\u001b[0;34m\u001b[0m\u001b[0m\n\u001b[0;32m-> 1151\u001b[0;31m             ) from e\n\u001b[0m\u001b[1;32m   1152\u001b[0m \u001b[0;34m\u001b[0m\u001b[0m\n\u001b[1;32m   1153\u001b[0m     \u001b[0;32mdef\u001b[0m \u001b[0m__reduce__\u001b[0m\u001b[0;34m(\u001b[0m\u001b[0mself\u001b[0m\u001b[0;34m)\u001b[0m\u001b[0;34m:\u001b[0m\u001b[0;34m\u001b[0m\u001b[0;34m\u001b[0m\u001b[0m\n",
      "\u001b[0;31mRuntimeError\u001b[0m: Failed to import transformers.models.deberta_v2.modeling_deberta_v2 because of the following error (look up to see its traceback):\ncannot import name 'dispatch_model' from 'accelerate' (/home/adam/.local/lib/python3.7/site-packages/accelerate/__init__.py)"
     ]
    }
   ],
   "source": [
    "import torch\n",
    "from transformers import DebertaV2ForSequenceClassification, DebertaV2Tokenizer\n",
    "\n",
    "# Load the pretrained model and tokenizer\n",
    "model_name = \"microsoft/deberta-v2-xlarge\"  # Pretrained DeBERTa-v2 model\n",
    "tokenizer = DebertaV2Tokenizer.from_pretrained(model_name)\n",
    "model = DebertaV2ForSequenceClassification.from_pretrained(model_name)\n",
    "\n",
    "# Set the device for inference\n",
    "model.to(device)\n",
    "model.eval()\n",
    "\n",
    "# Example input text and aspect\n",
    "input_text = sentences[0]\n",
    "aspect = \"Food\"\n",
    "\n",
    "def prediction(input_text , aspect):\n",
    "    # Combine the input text and aspect\n",
    "    input_text_with_aspect = f\"{input_text} [ASP] {aspect}\"\n",
    "\n",
    "    # Tokenize the input text with aspect\n",
    "    encoded_input = tokenizer.encode_plus(input_text_with_aspect, padding=True, truncation=True, return_tensors=\"pt\")\n",
    "    input_ids = encoded_input[\"input_ids\"].to(device)\n",
    "    attention_mask = encoded_input[\"attention_mask\"].to(device)\n",
    "\n",
    "    # Perform aspect sentiment analysis inference\n",
    "    with torch.no_grad():\n",
    "        outputs = model(input_ids, attention_mask=attention_mask)\n",
    "        logits = outputs.logits\n",
    "\n",
    "    # Get the predicted sentiment label\n",
    "    predicted_sentiment = torch.argmax(logits, dim=1).item()\n",
    "\n",
    "    # Interpret the sentiment result\n",
    "    sentiment_labels = [\"Positive\", \"Neutral\", \"Negative\"]\n",
    "    sentiment = sentiment_labels[predicted_sentiment]\n",
    "\n",
    "    print(\"Input Text: \", input_text)\n",
    "    print(\"Aspect: \", aspect)\n",
    "    print(\"Predicted Sentiment: \", sentiment)"
   ]
  },
  {
   "cell_type": "code",
   "execution_count": 33,
   "id": "78f27ce8",
   "metadata": {
    "ExecuteTime": {
     "end_time": "2023-05-03T03:53:45.623082Z",
     "start_time": "2023-05-03T03:53:45.612811Z"
    }
   },
   "outputs": [
    {
     "ename": "NameError",
     "evalue": "name 'prediction' is not defined",
     "output_type": "error",
     "traceback": [
      "\u001b[0;31m---------------------------------------------------------------------------\u001b[0m",
      "\u001b[0;31mNameError\u001b[0m                                 Traceback (most recent call last)",
      "\u001b[0;32m/tmp/ipykernel_16989/3917646397.py\u001b[0m in \u001b[0;36m<module>\u001b[0;34m\u001b[0m\n\u001b[1;32m      1\u001b[0m \u001b[0;32mfor\u001b[0m \u001b[0mi\u001b[0m \u001b[0;32min\u001b[0m \u001b[0msentences\u001b[0m\u001b[0;34m:\u001b[0m\u001b[0;34m\u001b[0m\u001b[0;34m\u001b[0m\u001b[0m\n\u001b[0;32m----> 2\u001b[0;31m     \u001b[0mprediction\u001b[0m\u001b[0;34m(\u001b[0m\u001b[0mi\u001b[0m \u001b[0;34m,\u001b[0m \u001b[0;34m'food'\u001b[0m\u001b[0;34m)\u001b[0m\u001b[0;34m\u001b[0m\u001b[0;34m\u001b[0m\u001b[0m\n\u001b[0m",
      "\u001b[0;31mNameError\u001b[0m: name 'prediction' is not defined"
     ]
    }
   ],
   "source": [
    "for i in sentences:\n",
    "    prediction(i , 'food')"
   ]
  },
  {
   "cell_type": "code",
   "execution_count": null,
   "id": "3e187351",
   "metadata": {},
   "outputs": [],
   "source": []
  },
  {
   "cell_type": "code",
   "execution_count": null,
   "id": "18ebc079",
   "metadata": {},
   "outputs": [],
   "source": []
  }
 ],
 "metadata": {
  "kernelspec": {
   "display_name": "steph-env",
   "language": "python",
   "name": "steph-env"
  },
  "language_info": {
   "codemirror_mode": {
    "name": "ipython",
    "version": 3
   },
   "file_extension": ".py",
   "mimetype": "text/x-python",
   "name": "python",
   "nbconvert_exporter": "python",
   "pygments_lexer": "ipython3",
   "version": "3.7.5"
  },
  "toc": {
   "base_numbering": 1,
   "nav_menu": {},
   "number_sections": true,
   "sideBar": true,
   "skip_h1_title": false,
   "title_cell": "Table of Contents",
   "title_sidebar": "Contents",
   "toc_cell": false,
   "toc_position": {},
   "toc_section_display": true,
   "toc_window_display": false
  },
  "varInspector": {
   "cols": {
    "lenName": 16,
    "lenType": 16,
    "lenVar": 40
   },
   "kernels_config": {
    "python": {
     "delete_cmd_postfix": "",
     "delete_cmd_prefix": "del ",
     "library": "var_list.py",
     "varRefreshCmd": "print(var_dic_list())"
    },
    "r": {
     "delete_cmd_postfix": ") ",
     "delete_cmd_prefix": "rm(",
     "library": "var_list.r",
     "varRefreshCmd": "cat(var_dic_list()) "
    }
   },
   "types_to_exclude": [
    "module",
    "function",
    "builtin_function_or_method",
    "instance",
    "_Feature"
   ],
   "window_display": false
  }
 },
 "nbformat": 4,
 "nbformat_minor": 5
}
