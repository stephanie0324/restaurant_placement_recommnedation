{
 "cells": [
  {
   "cell_type": "markdown",
   "id": "proof-subscription",
   "metadata": {},
   "source": [
    "# Create the features DF\n",
    "* using by_postal_code dataset"
   ]
  },
  {
   "cell_type": "markdown",
   "id": "bronze-peoples",
   "metadata": {},
   "source": [
    "# Import"
   ]
  },
  {
   "cell_type": "code",
   "execution_count": 2,
   "id": "centered-moldova",
   "metadata": {
    "ExecuteTime": {
     "end_time": "2023-05-14T05:17:43.478183Z",
     "start_time": "2023-05-14T05:17:42.347678Z"
    }
   },
   "outputs": [],
   "source": [
    "import pandas as pd\n",
    "import json\n",
    "import numpy as np\n",
    "from collections import Counter\n",
    "import pickle\n",
    "import math \n",
    "from sklearn.model_selection import train_test_split\n",
    "import torch"
   ]
  },
  {
   "cell_type": "code",
   "execution_count": null,
   "id": "organic-committee",
   "metadata": {
    "ExecuteTime": {
     "end_time": "2023-05-14T05:17:43.507094Z",
     "start_time": "2023-05-14T05:17:43.505070Z"
    }
   },
   "outputs": [],
   "source": [
    "RANDOM_STATE = 24"
   ]
  },
  {
   "cell_type": "code",
   "execution_count": null,
   "id": "wireless-duncan",
   "metadata": {
    "ExecuteTime": {
     "end_time": "2023-05-14T05:17:44.819028Z",
     "start_time": "2023-05-14T05:17:43.532158Z"
    }
   },
   "outputs": [],
   "source": [
    "# 導入資料\n",
    "train_df = pd.read_pickle('../data/Train_by_postoal_code_without_review_pointwise_v3_3.pkl').reset_index(drop=True)\n",
    "test_df = pd.read_pickle('../data/Test_by_postoal_code_without_review_pointwise_v3_3.pkl').reset_index(drop=True)\n",
    "postal_code_feature_dict = pickle.load(open(\"../data/postal_dict.pkl\", \"rb\"))\n",
    "docs = pickle.load(open(\"../data/LDA_training_docs.pkl\", \"rb\"))\n",
    "all_df = pd.read_pickle('../Data/restaurant_only.pkl')"
   ]
  },
  {
   "cell_type": "code",
   "execution_count": null,
   "id": "useful-aquarium",
   "metadata": {
    "ExecuteTime": {
     "end_time": "2023-05-14T05:17:48.991224Z",
     "start_time": "2023-05-14T05:17:48.988012Z"
    }
   },
   "outputs": [],
   "source": [
    "print(train_df.shape, test_df.shape, all_df.shape)"
   ]
  },
  {
   "cell_type": "markdown",
   "id": "fitting-fellowship",
   "metadata": {},
   "source": [
    "# LDA Model"
   ]
  },
  {
   "cell_type": "code",
   "execution_count": null,
   "id": "limiting-dutch",
   "metadata": {
    "ExecuteTime": {
     "end_time": "2023-05-14T05:18:19.964671Z",
     "start_time": "2023-05-14T05:18:18.893546Z"
    }
   },
   "outputs": [],
   "source": [
    "import spacy\n",
    "from gensim.corpora.dictionary import Dictionary\n",
    "from gensim.models import LdaMulticore\n",
    "from gensim.models import CoherenceModel\n",
    "from gensim import matutils\n",
    "#python -m spacy download en_core_web_md \n",
    "\n",
    "import nltk\n",
    "from nltk.stem import PorterStemmer\n",
    "from nltk.corpus import stopwords\n",
    "from nltk.stem.wordnet import WordNetLemmatizer\n",
    "from nltk.tokenize import RegexpTokenizer"
   ]
  },
  {
   "cell_type": "code",
   "execution_count": null,
   "id": "smart-graphics",
   "metadata": {
    "ExecuteTime": {
     "end_time": "2023-05-14T05:18:25.970708Z",
     "start_time": "2023-05-14T05:18:24.156112Z"
    }
   },
   "outputs": [],
   "source": [
    "nlp = spacy.load(\"en_core_web_md\")\n",
    "keep_pos = ['NOUN','ADJ','ADV','VERB']\n",
    "# removal= ['ADV','PRON','CCONJ','PUNCT','PART','DET','ADP','SPACE', 'NUM', 'SYM']\n",
    "\n",
    "def preprocess(text : str) -> list:\n",
    "    \n",
    "    for summary in nlp.pipe([text]):\n",
    "        proj_tok = [token.lemma_.lower() for token in summary \\\n",
    "                    if token.pos_ in keep_pos and not token.is_stop and token.is_alpha]\n",
    "\n",
    "    return proj_tok"
   ]
  },
  {
   "cell_type": "code",
   "execution_count": null,
   "id": "drawn-coral",
   "metadata": {
    "ExecuteTime": {
     "end_time": "2023-05-14T05:18:28.671580Z",
     "start_time": "2023-05-14T05:18:28.669381Z"
    }
   },
   "outputs": [],
   "source": [
    "# # unhash if necessary \n",
    "# def get_training_docs(all_df):\n",
    "    \n",
    "#     docs = []\n",
    "    \n",
    "#     for name in Counter(all_df.name):\n",
    "#         res = all_df[all_df.name == name]\n",
    "        \n",
    "#         docs.append(preprocess(''.join(res.text.values.tolist())[:5000]))\n",
    "\n",
    "#     return docs\n",
    "\n",
    "# docs = get_training_docs(all_df)\n",
    "# with open(\"../data/LDA_training_docs.pkl\",\"wb\") as file:\n",
    "#     # Use pickle.dump() to serialize and save the object to the file\n",
    "#     pickle.dump(docs, file)"
   ]
  },
  {
   "cell_type": "code",
   "execution_count": null,
   "id": "broken-madonna",
   "metadata": {
    "ExecuteTime": {
     "end_time": "2023-05-14T05:18:41.887476Z",
     "start_time": "2023-05-14T05:18:32.846912Z"
    }
   },
   "outputs": [],
   "source": [
    "# Create a dictionary representation of the documents.\n",
    "dictionary = Dictionary(docs)\n",
    "\n",
    "# Filter out words that occur less than 20 documents, or more than 50% of the documents.\n",
    "dictionary.filter_extremes(no_below=50, no_above=0.5,keep_n=1000)\n",
    "\n",
    "# Train LDA\n",
    "# #### doc2Bow\n",
    "# corpus = [dictionary.doc2bow(doc) for doc in docs]\n"
   ]
  },
  {
   "cell_type": "code",
   "execution_count": null,
   "id": "expensive-abuse",
   "metadata": {
    "ExecuteTime": {
     "end_time": "2023-05-14T05:18:46.068034Z",
     "start_time": "2023-05-14T05:18:46.066128Z"
    }
   },
   "outputs": [],
   "source": [
    "# print('Number of unique tokens: %d' % len(dictionary))\n",
    "# print('Number of documents: %d' % len(corpus))"
   ]
  },
  {
   "cell_type": "code",
   "execution_count": null,
   "id": "cheap-chance",
   "metadata": {
    "ExecuteTime": {
     "end_time": "2023-05-14T05:18:50.231748Z",
     "start_time": "2023-05-14T05:18:50.229889Z"
    }
   },
   "outputs": [],
   "source": [
    "# # Train LDA\n",
    "# # # building models\n",
    "# lda_model = LdaMulticore(corpus=corpus, id2word=dictionary, iterations=50, \\\n",
    "#                          num_topics=50, workers = 4, passes=10)\n",
    "\n",
    "# with open('../data/lda_model.pkl', 'wb') as file:\n",
    "#     # Use pickle.dump() to serialize and save the object to the file\n",
    "#     pickle.dump(lda_model, file)"
   ]
  },
  {
   "cell_type": "code",
   "execution_count": 3,
   "id": "handled-version",
   "metadata": {
    "ExecuteTime": {
     "end_time": "2023-05-14T05:18:54.415296Z",
     "start_time": "2023-05-14T05:18:54.397847Z"
    }
   },
   "outputs": [
    {
     "data": {
      "text/plain": [
       "[(0,\n",
       "  '0.021*\"owner\" + 0.019*\"authentic\" + 0.017*\"portion\" + 0.016*\"dish\" + 0.013*\"rice\" + 0.013*\"family\" + 0.010*\"home\" + 0.009*\"plate\" + 0.008*\"cook\" + 0.008*\"dinner\"'),\n",
       " (1,\n",
       "  '0.086*\"salad\" + 0.065*\"sub\" + 0.032*\"sandwich\" + 0.016*\"pizza\" + 0.013*\"dressing\" + 0.009*\"location\" + 0.008*\"dress\" + 0.008*\"customer\" + 0.008*\"bread\" + 0.008*\"delivery\"'),\n",
       " (2,\n",
       "  '0.048*\"vegan\" + 0.029*\"option\" + 0.017*\"vegetarian\" + 0.013*\"bowl\" + 0.012*\"veggie\" + 0.011*\"spicy\" + 0.010*\"rice\" + 0.010*\"tasty\" + 0.010*\"super\" + 0.009*\"owner\"'),\n",
       " (3,\n",
       "  '0.016*\"taco\" + 0.011*\"pizza\" + 0.008*\"coffee\" + 0.008*\"dish\" + 0.008*\"minute\" + 0.006*\"bar\" + 0.006*\"leave\" + 0.005*\"night\" + 0.005*\"bit\" + 0.005*\"salad\"'),\n",
       " (4,\n",
       "  '0.054*\"fry\" + 0.021*\"hot\" + 0.021*\"fried\" + 0.013*\"wing\" + 0.012*\"spicy\" + 0.011*\"tender\" + 0.010*\"crispy\" + 0.008*\"cook\" + 0.008*\"season\" + 0.008*\"shrimp\"'),\n",
       " (5,\n",
       "  '0.042*\"salad\" + 0.027*\"garlic\" + 0.027*\"bread\" + 0.022*\"family\" + 0.022*\"pasta\" + 0.013*\"dish\" + 0.013*\"cook\" + 0.013*\"portion\" + 0.010*\"eggplant\" + 0.009*\"dinner\"'),\n",
       " (6,\n",
       "  '0.029*\"wine\" + 0.017*\"dinner\" + 0.015*\"night\" + 0.011*\"dish\" + 0.011*\"atmosphere\" + 0.010*\"pasta\" + 0.010*\"server\" + 0.009*\"special\" + 0.009*\"italian\" + 0.009*\"bar\"'),\n",
       " (7,\n",
       "  '0.200*\"fish\" + 0.031*\"chip\" + 0.019*\"view\" + 0.012*\"fry\" + 0.011*\"shrimp\" + 0.010*\"batter\" + 0.008*\"water\" + 0.008*\"outside\" + 0.007*\"salmon\" + 0.006*\"tuna\"'),\n",
       " (8,\n",
       "  '0.021*\"burger\" + 0.015*\"fry\" + 0.015*\"minute\" + 0.013*\"location\" + 0.012*\"bar\" + 0.011*\"server\" + 0.010*\"sit\" + 0.010*\"night\" + 0.009*\"work\" + 0.008*\"customer\"'),\n",
       " (9,\n",
       "  '0.215*\"lobster\" + 0.061*\"roll\" + 0.007*\"shrimp\" + 0.006*\"fry\" + 0.006*\"butter\" + 0.005*\"seafood\" + 0.005*\"oyster\" + 0.005*\"meat\" + 0.005*\"awesome\" + 0.005*\"pay\"'),\n",
       " (10,\n",
       "  '0.049*\"store\" + 0.026*\"market\" + 0.021*\"buy\" + 0.020*\"selection\" + 0.016*\"item\" + 0.016*\"shop\" + 0.014*\"meat\" + 0.009*\"variety\" + 0.009*\"product\" + 0.008*\"local\"'),\n",
       " (11,\n",
       "  '0.040*\"oyster\" + 0.030*\"shrimp\" + 0.019*\"fry\" + 0.013*\"minute\" + 0.010*\"raw\" + 0.009*\"waitress\" + 0.009*\"cook\" + 0.008*\"long\" + 0.008*\"server\" + 0.008*\"cold\"'),\n",
       " (12,\n",
       "  '0.108*\"sushi\" + 0.068*\"roll\" + 0.011*\"fish\" + 0.011*\"tuna\" + 0.011*\"quality\" + 0.010*\"rice\" + 0.009*\"spicy\" + 0.009*\"salmon\" + 0.008*\"soup\" + 0.008*\"special\"'),\n",
       " (13,\n",
       "  '0.043*\"cheesesteak\" + 0.039*\"italian\" + 0.028*\"steak\" + 0.016*\"pasta\" + 0.015*\"meat\" + 0.014*\"fry\" + 0.013*\"salad\" + 0.012*\"pizza\" + 0.011*\"meatball\" + 0.010*\"bread\"'),\n",
       " (14,\n",
       "  '0.039*\"crab\" + 0.029*\"seafood\" + 0.028*\"steak\" + 0.026*\"shrimp\" + 0.014*\"dinner\" + 0.013*\"cook\" + 0.010*\"server\" + 0.009*\"potato\" + 0.009*\"bar\" + 0.008*\"special\"'),\n",
       " (15,\n",
       "  '0.060*\"breakfast\" + 0.024*\"egg\" + 0.019*\"diner\" + 0.016*\"pancake\" + 0.014*\"coffee\" + 0.011*\"home\" + 0.011*\"toast\" + 0.010*\"waitress\" + 0.010*\"bacon\" + 0.009*\"fry\"'),\n",
       " (16,\n",
       "  '0.081*\"breakfast\" + 0.070*\"burrito\" + 0.017*\"egg\" + 0.010*\"fast\" + 0.009*\"morning\" + 0.009*\"super\" + 0.008*\"bacon\" + 0.008*\"quick\" + 0.008*\"potato\" + 0.007*\"town\"'),\n",
       " (17,\n",
       "  '0.212*\"grill\" + 0.029*\"soup\" + 0.026*\"tomato\" + 0.014*\"onion\" + 0.012*\"fry\" + 0.010*\"slice\" + 0.008*\"oil\" + 0.008*\"sandwich\" + 0.008*\"bacon\" + 0.008*\"melt\"'),\n",
       " (18,\n",
       "  '0.062*\"room\" + 0.057*\"hotel\" + 0.042*\"stay\" + 0.015*\"clean\" + 0.014*\"night\" + 0.012*\"check\" + 0.010*\"floor\" + 0.009*\"walk\" + 0.009*\"bathroom\" + 0.009*\"location\"'),\n",
       " (19,\n",
       "  '0.100*\"buffet\" + 0.014*\"selection\" + 0.014*\"hot\" + 0.011*\"clean\" + 0.011*\"quality\" + 0.011*\"option\" + 0.011*\"variety\" + 0.010*\"dinner\" + 0.009*\"dish\" + 0.008*\"item\"'),\n",
       " (20,\n",
       "  '0.033*\"brunch\" + 0.031*\"breakfast\" + 0.025*\"egg\" + 0.021*\"toast\" + 0.018*\"french\" + 0.013*\"salad\" + 0.012*\"sandwich\" + 0.012*\"bacon\" + 0.009*\"free\" + 0.009*\"sweet\"'),\n",
       " (21,\n",
       "  '0.175*\"pizza\" + 0.024*\"crust\" + 0.016*\"slice\" + 0.012*\"salad\" + 0.009*\"pepperoni\" + 0.009*\"thin\" + 0.009*\"topping\" + 0.007*\"pie\" + 0.007*\"style\" + 0.007*\"garlic\"'),\n",
       " (22,\n",
       "  '0.101*\"roll\" + 0.033*\"spring\" + 0.015*\"soup\" + 0.011*\"clean\" + 0.011*\"rice\" + 0.010*\"salad\" + 0.009*\"tea\" + 0.008*\"shrimp\" + 0.008*\"portion\" + 0.008*\"tasty\"'),\n",
       " (23,\n",
       "  '0.121*\"burger\" + 0.066*\"fry\" + 0.016*\"onion\" + 0.011*\"ring\" + 0.010*\"boy\" + 0.010*\"beef\" + 0.010*\"cook\" + 0.009*\"bun\" + 0.008*\"bacon\" + 0.007*\"potato\"'),\n",
       " (24,\n",
       "  '0.036*\"pizza\" + 0.029*\"delivery\" + 0.021*\"call\" + 0.019*\"customer\" + 0.015*\"minute\" + 0.014*\"phone\" + 0.014*\"hour\" + 0.012*\"deliver\" + 0.008*\"guy\" + 0.008*\"give\"'),\n",
       " (25,\n",
       "  '0.261*\"pie\" + 0.071*\"biscuit\" + 0.028*\"gravy\" + 0.015*\"pot\" + 0.013*\"apple\" + 0.012*\"lime\" + 0.012*\"key\" + 0.011*\"crust\" + 0.009*\"sweet\" + 0.008*\"sausage\"'),\n",
       " (26,\n",
       "  '0.062*\"taco\" + 0.034*\"mexican\" + 0.024*\"burrito\" + 0.023*\"authentic\" + 0.018*\"tortilla\" + 0.013*\"quesadilla\" + 0.012*\"salsa\" + 0.011*\"meat\" + 0.009*\"super\" + 0.009*\"guacamole\"'),\n",
       " (27,\n",
       "  '0.148*\"taco\" + 0.015*\"salsa\" + 0.012*\"mexican\" + 0.011*\"meat\" + 0.009*\"authentic\" + 0.009*\"chip\" + 0.009*\"tortilla\" + 0.009*\"corn\" + 0.007*\"hot\" + 0.007*\"street\"'),\n",
       " (28,\n",
       "  '0.090*\"beer\" + 0.031*\"bar\" + 0.025*\"selection\" + 0.012*\"game\" + 0.011*\"tap\" + 0.011*\"local\" + 0.011*\"atmosphere\" + 0.010*\"tv\" + 0.010*\"sport\" + 0.009*\"night\"'),\n",
       " (29,\n",
       "  '0.038*\"dish\" + 0.027*\"curry\" + 0.021*\"spicy\" + 0.016*\"rice\" + 0.015*\"spice\" + 0.009*\"portion\" + 0.008*\"level\" + 0.008*\"appetizer\" + 0.008*\"hot\" + 0.007*\"shrimp\"'),\n",
       " (30,\n",
       "  '0.150*\"dog\" + 0.054*\"hot\" + 0.020*\"bun\" + 0.020*\"chili\" + 0.011*\"fry\" + 0.007*\"sandwich\" + 0.006*\"kid\" + 0.006*\"year\" + 0.006*\"long\" + 0.005*\"onion\"'),\n",
       " (31,\n",
       "  '0.024*\"salad\" + 0.015*\"dinner\" + 0.013*\"dessert\" + 0.011*\"appetizer\" + 0.010*\"entree\" + 0.010*\"dish\" + 0.010*\"plate\" + 0.008*\"bread\" + 0.007*\"wonderful\" + 0.007*\"potato\"'),\n",
       " (32,\n",
       "  '0.044*\"meat\" + 0.039*\"platter\" + 0.034*\"beef\" + 0.028*\"salad\" + 0.014*\"middle\" + 0.013*\"bread\" + 0.010*\"rice\" + 0.010*\"guy\" + 0.009*\"owner\" + 0.009*\"wrap\"'),\n",
       " (33,\n",
       "  '0.096*\"cream\" + 0.085*\"ice\" + 0.022*\"chocolate\" + 0.011*\"sweet\" + 0.010*\"cookie\" + 0.010*\"waffle\" + 0.009*\"dessert\" + 0.007*\"strawberry\" + 0.007*\"treat\" + 0.007*\"soft\"'),\n",
       " (34,\n",
       "  '0.032*\"noodle\" + 0.024*\"soup\" + 0.023*\"chinese\" + 0.019*\"dish\" + 0.018*\"pork\" + 0.017*\"beef\" + 0.016*\"broth\" + 0.013*\"dumpling\" + 0.012*\"rice\" + 0.011*\"hot\"'),\n",
       " (35,\n",
       "  '0.088*\"coffee\" + 0.021*\"tea\" + 0.020*\"shop\" + 0.012*\"latte\" + 0.012*\"work\" + 0.010*\"sandwich\" + 0.009*\"breakfast\" + 0.009*\"cafe\" + 0.009*\"milk\" + 0.008*\"pastry\"'),\n",
       " (36,\n",
       "  '0.037*\"pork\" + 0.033*\"rib\" + 0.024*\"meat\" + 0.024*\"brisket\" + 0.021*\"bean\" + 0.017*\"pull\" + 0.017*\"side\" + 0.015*\"bbq\" + 0.013*\"potato\" + 0.012*\"green\"'),\n",
       " (37,\n",
       "  '0.046*\"bar\" + 0.022*\"music\" + 0.019*\"bartender\" + 0.016*\"night\" + 0.016*\"beer\" + 0.012*\"fun\" + 0.011*\"play\" + 0.010*\"game\" + 0.010*\"live\" + 0.008*\"atmosphere\"'),\n",
       " (38,\n",
       "  '0.059*\"bowl\" + 0.021*\"juice\" + 0.021*\"healthy\" + 0.013*\"option\" + 0.013*\"location\" + 0.012*\"salad\" + 0.010*\"ingredient\" + 0.010*\"work\" + 0.010*\"super\" + 0.009*\"customer\"'),\n",
       " (39,\n",
       "  '0.028*\"margarita\" + 0.018*\"chip\" + 0.018*\"taco\" + 0.016*\"server\" + 0.012*\"salsa\" + 0.011*\"hour\" + 0.010*\"happy\" + 0.010*\"mexican\" + 0.009*\"sit\" + 0.009*\"bar\"'),\n",
       " (40,\n",
       "  '0.051*\"rice\" + 0.025*\"chinese\" + 0.020*\"delivery\" + 0.014*\"fry\" + 0.012*\"egg\" + 0.010*\"fried\" + 0.010*\"portion\" + 0.010*\"shrimp\" + 0.009*\"fast\" + 0.009*\"roll\"'),\n",
       " (41,\n",
       "  '0.023*\"server\" + 0.021*\"waitress\" + 0.020*\"minute\" + 0.014*\"seat\" + 0.012*\"dinner\" + 0.012*\"waiter\" + 0.011*\"leave\" + 0.011*\"sit\" + 0.011*\"manager\" + 0.010*\"bring\"'),\n",
       " (42,\n",
       "  '0.050*\"mexican\" + 0.035*\"salsa\" + 0.025*\"chip\" + 0.019*\"bean\" + 0.015*\"burrito\" + 0.014*\"enchilada\" + 0.014*\"rice\" + 0.010*\"taco\" + 0.009*\"authentic\" + 0.008*\"steak\"'),\n",
       " (43,\n",
       "  '0.027*\"pizza\" + 0.013*\"bar\" + 0.008*\"sandwich\" + 0.007*\"breakfast\" + 0.007*\"year\" + 0.006*\"quality\" + 0.006*\"egg\" + 0.006*\"customer\" + 0.006*\"home\" + 0.005*\"family\"'),\n",
       " (44,\n",
       "  '0.029*\"sandwich\" + 0.023*\"event\" + 0.016*\"cater\" + 0.012*\"work\" + 0.011*\"party\" + 0.009*\"guest\" + 0.008*\"super\" + 0.008*\"meat\" + 0.008*\"salad\" + 0.007*\"perfect\"'),\n",
       " (45,\n",
       "  '0.091*\"cake\" + 0.027*\"bakery\" + 0.017*\"cookie\" + 0.016*\"chocolate\" + 0.015*\"pastry\" + 0.012*\"birthday\" + 0.011*\"sweet\" + 0.010*\"dessert\" + 0.010*\"bread\" + 0.009*\"year\"'),\n",
       " (46,\n",
       "  '0.083*\"soup\" + 0.074*\"salad\" + 0.038*\"wrap\" + 0.014*\"option\" + 0.012*\"sandwich\" + 0.010*\"chili\" + 0.008*\"portion\" + 0.008*\"turkey\" + 0.007*\"quick\" + 0.007*\"special\"'),\n",
       " (47,\n",
       "  '0.143*\"sandwich\" + 0.024*\"bread\" + 0.014*\"meat\" + 0.008*\"beef\" + 0.008*\"roast\" + 0.007*\"shop\" + 0.007*\"work\" + 0.006*\"customer\" + 0.006*\"turkey\" + 0.006*\"quality\"'),\n",
       " (48,\n",
       "  '0.039*\"bar\" + 0.023*\"beer\" + 0.021*\"burger\" + 0.017*\"atmosphere\" + 0.016*\"fry\" + 0.013*\"cocktail\" + 0.012*\"bartender\" + 0.011*\"night\" + 0.010*\"awesome\" + 0.009*\"server\"'),\n",
       " (49,\n",
       "  '0.237*\"wing\" + 0.018*\"hot\" + 0.012*\"fry\" + 0.010*\"buffalo\" + 0.009*\"cook\" + 0.008*\"garlic\" + 0.007*\"blue\" + 0.007*\"special\" + 0.007*\"night\" + 0.007*\"sweet\"')]"
      ]
     },
     "execution_count": 3,
     "metadata": {},
     "output_type": "execute_result"
    }
   ],
   "source": [
    "lda_model = pickle.load(open('../data/lda_model.pkl', 'rb'))\n",
    "lda_model.print_topics(-1)"
   ]
  },
  {
   "cell_type": "markdown",
   "id": "original-shore",
   "metadata": {},
   "source": [
    "# Review Feature Engineering"
   ]
  },
  {
   "cell_type": "code",
   "execution_count": null,
   "id": "rough-trainer",
   "metadata": {
    "ExecuteTime": {
     "end_time": "2023-05-14T05:18:58.780480Z",
     "start_time": "2023-05-14T05:18:58.598927Z"
    }
   },
   "outputs": [],
   "source": [
    "import nltk\n",
    "from nltk.corpus import opinion_lexicon\n",
    "\n",
    "# Download the General Inquirer lexicon\n",
    "nltk.download('opinion_lexicon')\n",
    "general_inquirer_words = set(opinion_lexicon.words())\n",
    "\n",
    "# Function to check if a string contains General Inquirer words\n",
    "def contains_general_inquirer(text):\n",
    "    words = set(text.lower().split())\n",
    "    common_words = words.intersection(general_inquirer_words)\n",
    "    return len(common_words) > 0"
   ]
  },
  {
   "cell_type": "code",
   "execution_count": null,
   "id": "included-legend",
   "metadata": {
    "ExecuteTime": {
     "end_time": "2023-05-14T05:19:02.959544Z",
     "start_time": "2023-05-14T05:19:02.957481Z"
    }
   },
   "outputs": [],
   "source": [
    "# # unhash if necessary\n",
    "# cnt = 0\n",
    "# for idx , row in all_df.iterrows():\n",
    "#     # if cnt%10000 == 0:\n",
    "#     #     print(f'Now progress .... {cnt}')\n",
    "#     if contains_general_inquirer(row.text):\n",
    "#         pass\n",
    "#     else:\n",
    "#         cnt+=1\n",
    "#         row.text = ''\n",
    "# all_df.to_pickle('../Data/restaurant_only_filtered.pkl')"
   ]
  },
  {
   "cell_type": "markdown",
   "id": "disabled-offer",
   "metadata": {},
   "source": [
    "## Get Review Features"
   ]
  },
  {
   "cell_type": "code",
   "execution_count": null,
   "id": "sporting-actress",
   "metadata": {
    "ExecuteTime": {
     "end_time": "2023-05-14T05:19:07.145170Z",
     "start_time": "2023-05-14T05:19:07.136738Z"
    }
   },
   "outputs": [],
   "source": [
    "def get_LDA_aspects(df , all_df):\n",
    "\n",
    "    df['LDA_res'] = ''\n",
    "    df['LDA_loc'] = ''\n",
    "\n",
    "    for idx , row in df.iterrows():\n",
    "        if idx % 1000 ==0 :\n",
    "            print(f'Now progress... {idx}')\n",
    "        res = all_df[all_df.business_id == row.business_id].sort_values(by='date',ascending=False)\n",
    "        loc = all_df[all_df.postal_code == row.postal_code].sort_values(by='date',ascending=False)\n",
    "        \n",
    "        try:\n",
    "            res_str = ''.join(list(res.text))[:3000]\n",
    "            loc_str = ''.join(list(res.text))[:3000]\n",
    "\n",
    "            corpus_res = [dictionary.doc2bow(doc) for doc in [preprocess(res_str)]]\n",
    "            corpus_loc = [dictionary.doc2bow(doc) for doc in [preprocess(loc_str)]]\n",
    "\n",
    "            df['LDA_res'][idx] = lda_model[corpus_res][0]\n",
    "            df['LDA_loc'][idx] = lda_model[corpus_loc][0]\n",
    "            \n",
    "        except:\n",
    "            df['LDA_res'][idx] = []\n",
    "            df['LDA_loc'][idx] = []\n",
    "        \n",
    "    \n",
    "    return df\n"
   ]
  },
  {
   "cell_type": "code",
   "execution_count": null,
   "id": "destroyed-labor",
   "metadata": {
    "ExecuteTime": {
     "end_time": "2023-05-14T06:44:28.831749Z",
     "start_time": "2023-05-14T05:19:11.338062Z"
    }
   },
   "outputs": [],
   "source": [
    "train_df = get_LDA_aspects(train_df , all_df)\n",
    "test_df = get_LDA_aspects(test_df , all_df)"
   ]
  },
  {
   "cell_type": "code",
   "execution_count": null,
   "id": "invalid-mystery",
   "metadata": {
    "ExecuteTime": {
     "end_time": "2023-05-14T06:44:33.790564Z",
     "start_time": "2023-05-14T06:44:33.171300Z"
    }
   },
   "outputs": [],
   "source": [
    "train_df.to_pickle('../data/Train_by_postoal_code_pointwise_v3_3.pkl')\n",
    "test_df.to_pickle('../data/Test_by_postoal_code_pointwise_v3_3.pkl')"
   ]
  },
  {
   "cell_type": "code",
   "execution_count": null,
   "id": "surprised-metropolitan",
   "metadata": {
    "ExecuteTime": {
     "end_time": "2023-05-14T07:04:44.128751Z",
     "start_time": "2023-05-14T07:04:43.979560Z"
    }
   },
   "outputs": [],
   "source": [
    "train_df = pd.read_pickle('../data/Train_by_postoal_code_pointwise_v3_3.pkl')\n",
    "test_df = pd.read_pickle('../data/Test_by_postoal_code_pointwise_v3_3.pkl')"
   ]
  },
  {
   "cell_type": "code",
   "execution_count": null,
   "id": "permanent-illness",
   "metadata": {
    "ExecuteTime": {
     "end_time": "2023-05-14T07:04:54.819658Z",
     "start_time": "2023-05-14T07:04:50.827259Z"
    }
   },
   "outputs": [],
   "source": [
    "from transformers import AutoModelForSequenceClassification, AutoTokenizer\n",
    "\n",
    "tokenizer = AutoTokenizer.from_pretrained('bert-base-uncased')\n",
    "model = AutoModelForSequenceClassification.from_pretrained('bert-base-uncased',output_hidden_states = True)\n",
    "model.eval()\n",
    "\n",
    "\n",
    "def get_bert_embedding(df , all_df):\n",
    "    \n",
    "    df['res_emb'] = ''\n",
    "    df['loc_emb'] = ''\n",
    "    \n",
    "    for idx , row in df.iterrows():\n",
    "        if idx % 1000 ==0 :\n",
    "            print(f'Now progress... {idx}')\n",
    "        res = all_df[all_df.business_id == row.business_id].sort_values(by='date',ascending=False)\n",
    "        loc = all_df[all_df.postal_code == row.postal_code].sort_values(by='date',ascending=False)\n",
    "        \n",
    "        res_embedding = []\n",
    "        loc_embedding = []\n",
    "        \n",
    "        try:\n",
    "\n",
    "            for _idx , _row in res.iterrows():\n",
    "                encoded_input = tokenizer(_row.text, max_length = 128 , padding = True , truncation = True,  return_tensors='pt')\n",
    "                with torch.no_grad():\n",
    "                    outputs = model(**encoded_input)\n",
    "                res_embedding.append(outputs.hidden_states[-1][0,0,:])\n",
    "            df['res_emb'][idx] = torch.mean(torch.stack(res_embedding), dim=0)\n",
    "        except:\n",
    "            df['res_emb'][idx] = torch.zeros([1, 768], dtype=torch.int32)\n",
    "\n",
    "        try:\n",
    "            for _idx , _row in loc.iterrows():\n",
    "                encoded_input = tokenizer(_row.text, max_length = 128 , padding = True , truncation = True,  return_tensors='pt')\n",
    "                with torch.no_grad():\n",
    "                    outputs = model(**encoded_input)\n",
    "                loc_embedding.append(outputs.hidden_states[-1][0,0,:])\n",
    "            df['loc_emb'][idx] =torch.mean(torch.stack(loc_embedding), dim=0)\n",
    "        except:\n",
    "            df['loc_emb'][idx] = torch.zeros([1, 768], dtype=torch.int32)\n",
    "\n",
    "    \n",
    "    return df"
   ]
  },
  {
   "cell_type": "code",
   "execution_count": null,
   "id": "digital-twins",
   "metadata": {
    "ExecuteTime": {
     "start_time": "2023-05-14T07:04:54.664Z"
    }
   },
   "outputs": [],
   "source": [
    "train_df = get_bert_embedding(train_df , all_df)\n",
    "test_df = get_bert_embedding(test_df , all_df)"
   ]
  },
  {
   "cell_type": "code",
   "execution_count": null,
   "id": "computational-signal",
   "metadata": {
    "ExecuteTime": {
     "start_time": "2023-05-14T07:05:00.629Z"
    }
   },
   "outputs": [],
   "source": [
    "train_df.shape , test_df.shape"
   ]
  },
  {
   "cell_type": "code",
   "execution_count": null,
   "id": "owned-camera",
   "metadata": {
    "ExecuteTime": {
     "start_time": "2023-05-14T07:05:09.448Z"
    }
   },
   "outputs": [],
   "source": [
    "train_df.to_pickle('../data/Train_by_postoal_code_pointwise_v3_3.pkl')\n",
    "test_df.to_pickle('../data/Test_by_postoal_code_pointwise_v3_3.pkl')"
   ]
  },
  {
   "cell_type": "code",
   "execution_count": null,
   "id": "located-cooking",
   "metadata": {},
   "outputs": [],
   "source": []
  }
 ],
 "metadata": {
  "kernelspec": {
   "display_name": "s_env",
   "language": "python",
   "name": "s_env"
  },
  "language_info": {
   "codemirror_mode": {
    "name": "ipython",
    "version": 3
   },
   "file_extension": ".py",
   "mimetype": "text/x-python",
   "name": "python",
   "nbconvert_exporter": "python",
   "pygments_lexer": "ipython3",
   "version": "3.6.9"
  },
  "toc": {
   "base_numbering": 1,
   "nav_menu": {},
   "number_sections": true,
   "sideBar": true,
   "skip_h1_title": false,
   "title_cell": "Table of Contents",
   "title_sidebar": "Contents",
   "toc_cell": false,
   "toc_position": {
    "height": "calc(100% - 180px)",
    "left": "10px",
    "top": "150px",
    "width": "165px"
   },
   "toc_section_display": true,
   "toc_window_display": true
  },
  "varInspector": {
   "cols": {
    "lenName": 16,
    "lenType": 16,
    "lenVar": 40
   },
   "kernels_config": {
    "python": {
     "delete_cmd_postfix": "",
     "delete_cmd_prefix": "del ",
     "library": "var_list.py",
     "varRefreshCmd": "print(var_dic_list())"
    },
    "r": {
     "delete_cmd_postfix": ") ",
     "delete_cmd_prefix": "rm(",
     "library": "var_list.r",
     "varRefreshCmd": "cat(var_dic_list()) "
    }
   },
   "types_to_exclude": [
    "module",
    "function",
    "builtin_function_or_method",
    "instance",
    "_Feature"
   ],
   "window_display": false
  },
  "vscode": {
   "interpreter": {
    "hash": "f457e4bdb0a834eef26de468bbb8aa330d736c8b7db558705075494c4e15f1a8"
   }
  }
 },
 "nbformat": 4,
 "nbformat_minor": 5
}
